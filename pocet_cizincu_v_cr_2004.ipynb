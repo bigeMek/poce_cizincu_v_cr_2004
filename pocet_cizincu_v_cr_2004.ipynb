{
 "cells": [
  {
   "cell_type": "code",
   "execution_count": 2,
   "id": "aa5ce258",
   "metadata": {},
   "outputs": [],
   "source": [
    "import pandas as pd"
   ]
  },
  {
   "cell_type": "code",
   "execution_count": 3,
   "id": "f776816c",
   "metadata": {},
   "outputs": [],
   "source": [
    "file = (r\"C:\\Users\\nitram\\Downloads\\CIZ01_2004.csv\")"
   ]
  },
  {
   "cell_type": "code",
   "execution_count": 4,
   "id": "784af72d",
   "metadata": {},
   "outputs": [],
   "source": [
    "data = pd.read_csv(file)"
   ]
  },
  {
   "cell_type": "code",
   "execution_count": 5,
   "id": "d0dce730",
   "metadata": {},
   "outputs": [
    {
     "data": {
      "text/html": [
       "<div>\n",
       "<style scoped>\n",
       "    .dataframe tbody tr th:only-of-type {\n",
       "        vertical-align: middle;\n",
       "    }\n",
       "\n",
       "    .dataframe tbody tr th {\n",
       "        vertical-align: top;\n",
       "    }\n",
       "\n",
       "    .dataframe thead th {\n",
       "        text-align: right;\n",
       "    }\n",
       "</style>\n",
       "<table border=\"1\" class=\"dataframe\">\n",
       "  <thead>\n",
       "    <tr style=\"text-align: right;\">\n",
       "      <th></th>\n",
       "      <th>idhod</th>\n",
       "      <th>hodnota</th>\n",
       "      <th>stapro_kod</th>\n",
       "      <th>pohlavi_cis</th>\n",
       "      <th>pohlavi_kod</th>\n",
       "      <th>stobcan_cis</th>\n",
       "      <th>stobcan_kod</th>\n",
       "      <th>vek_cis</th>\n",
       "      <th>vek_kod</th>\n",
       "      <th>rok</th>\n",
       "      <th>vuzemi_cis</th>\n",
       "      <th>vuzemi_kod</th>\n",
       "      <th>kraj_cis</th>\n",
       "      <th>kraj_kod</th>\n",
       "      <th>vuzemi_txt</th>\n",
       "      <th>kraj_txt</th>\n",
       "      <th>pohlavi_txt</th>\n",
       "      <th>stobcan_txt</th>\n",
       "      <th>vek_txt</th>\n",
       "    </tr>\n",
       "  </thead>\n",
       "  <tbody>\n",
       "    <tr>\n",
       "      <th>0</th>\n",
       "      <td>783267904</td>\n",
       "      <td>78263</td>\n",
       "      <td>6121</td>\n",
       "      <td>NaN</td>\n",
       "      <td>NaN</td>\n",
       "      <td>3228.0</td>\n",
       "      <td>804.0</td>\n",
       "      <td>NaN</td>\n",
       "      <td>NaN</td>\n",
       "      <td>2004</td>\n",
       "      <td>97</td>\n",
       "      <td>19</td>\n",
       "      <td>NaN</td>\n",
       "      <td>NaN</td>\n",
       "      <td>Česká republika</td>\n",
       "      <td>NaN</td>\n",
       "      <td>NaN</td>\n",
       "      <td>Ukrajina</td>\n",
       "      <td>NaN</td>\n",
       "    </tr>\n",
       "    <tr>\n",
       "      <th>1</th>\n",
       "      <td>783257796</td>\n",
       "      <td>159</td>\n",
       "      <td>6121</td>\n",
       "      <td>NaN</td>\n",
       "      <td>NaN</td>\n",
       "      <td>3228.0</td>\n",
       "      <td>804.0</td>\n",
       "      <td>NaN</td>\n",
       "      <td>NaN</td>\n",
       "      <td>2004</td>\n",
       "      <td>101</td>\n",
       "      <td>40886</td>\n",
       "      <td>100.0</td>\n",
       "      <td>3140.0</td>\n",
       "      <td>Karviná</td>\n",
       "      <td>Moravskoslezský kraj</td>\n",
       "      <td>NaN</td>\n",
       "      <td>Ukrajina</td>\n",
       "      <td>NaN</td>\n",
       "    </tr>\n",
       "    <tr>\n",
       "      <th>2</th>\n",
       "      <td>783205432</td>\n",
       "      <td>260</td>\n",
       "      <td>6121</td>\n",
       "      <td>NaN</td>\n",
       "      <td>NaN</td>\n",
       "      <td>3228.0</td>\n",
       "      <td>804.0</td>\n",
       "      <td>NaN</td>\n",
       "      <td>NaN</td>\n",
       "      <td>2004</td>\n",
       "      <td>101</td>\n",
       "      <td>40347</td>\n",
       "      <td>100.0</td>\n",
       "      <td>3034.0</td>\n",
       "      <td>Tábor</td>\n",
       "      <td>Jihočeský kraj</td>\n",
       "      <td>NaN</td>\n",
       "      <td>Ukrajina</td>\n",
       "      <td>NaN</td>\n",
       "    </tr>\n",
       "    <tr>\n",
       "      <th>3</th>\n",
       "      <td>783234179</td>\n",
       "      <td>377</td>\n",
       "      <td>6121</td>\n",
       "      <td>NaN</td>\n",
       "      <td>NaN</td>\n",
       "      <td>3228.0</td>\n",
       "      <td>804.0</td>\n",
       "      <td>NaN</td>\n",
       "      <td>NaN</td>\n",
       "      <td>2004</td>\n",
       "      <td>101</td>\n",
       "      <td>40631</td>\n",
       "      <td>100.0</td>\n",
       "      <td>3093.0</td>\n",
       "      <td>Svitavy</td>\n",
       "      <td>Pardubický kraj</td>\n",
       "      <td>NaN</td>\n",
       "      <td>Ukrajina</td>\n",
       "      <td>NaN</td>\n",
       "    </tr>\n",
       "    <tr>\n",
       "      <th>4</th>\n",
       "      <td>783203437</td>\n",
       "      <td>338</td>\n",
       "      <td>6121</td>\n",
       "      <td>NaN</td>\n",
       "      <td>NaN</td>\n",
       "      <td>3228.0</td>\n",
       "      <td>804.0</td>\n",
       "      <td>NaN</td>\n",
       "      <td>NaN</td>\n",
       "      <td>2004</td>\n",
       "      <td>101</td>\n",
       "      <td>40312</td>\n",
       "      <td>100.0</td>\n",
       "      <td>3034.0</td>\n",
       "      <td>Písek</td>\n",
       "      <td>Jihočeský kraj</td>\n",
       "      <td>NaN</td>\n",
       "      <td>Ukrajina</td>\n",
       "      <td>NaN</td>\n",
       "    </tr>\n",
       "    <tr>\n",
       "      <th>...</th>\n",
       "      <td>...</td>\n",
       "      <td>...</td>\n",
       "      <td>...</td>\n",
       "      <td>...</td>\n",
       "      <td>...</td>\n",
       "      <td>...</td>\n",
       "      <td>...</td>\n",
       "      <td>...</td>\n",
       "      <td>...</td>\n",
       "      <td>...</td>\n",
       "      <td>...</td>\n",
       "      <td>...</td>\n",
       "      <td>...</td>\n",
       "      <td>...</td>\n",
       "      <td>...</td>\n",
       "      <td>...</td>\n",
       "      <td>...</td>\n",
       "      <td>...</td>\n",
       "      <td>...</td>\n",
       "    </tr>\n",
       "    <tr>\n",
       "      <th>95</th>\n",
       "      <td>783181986</td>\n",
       "      <td>3783</td>\n",
       "      <td>6121</td>\n",
       "      <td>NaN</td>\n",
       "      <td>NaN</td>\n",
       "      <td>NaN</td>\n",
       "      <td>NaN</td>\n",
       "      <td>NaN</td>\n",
       "      <td>NaN</td>\n",
       "      <td>2004</td>\n",
       "      <td>101</td>\n",
       "      <td>40509</td>\n",
       "      <td>100.0</td>\n",
       "      <td>3069.0</td>\n",
       "      <td>Teplice</td>\n",
       "      <td>Ústecký kraj</td>\n",
       "      <td>NaN</td>\n",
       "      <td>NaN</td>\n",
       "      <td>NaN</td>\n",
       "    </tr>\n",
       "    <tr>\n",
       "      <th>96</th>\n",
       "      <td>783181416</td>\n",
       "      <td>1104</td>\n",
       "      <td>6121</td>\n",
       "      <td>NaN</td>\n",
       "      <td>NaN</td>\n",
       "      <td>NaN</td>\n",
       "      <td>NaN</td>\n",
       "      <td>NaN</td>\n",
       "      <td>NaN</td>\n",
       "      <td>2004</td>\n",
       "      <td>101</td>\n",
       "      <td>40207</td>\n",
       "      <td>100.0</td>\n",
       "      <td>3026.0</td>\n",
       "      <td>Kutná Hora</td>\n",
       "      <td>Středočeský kraj</td>\n",
       "      <td>NaN</td>\n",
       "      <td>NaN</td>\n",
       "      <td>NaN</td>\n",
       "    </tr>\n",
       "    <tr>\n",
       "      <th>97</th>\n",
       "      <td>783181473</td>\n",
       "      <td>2382</td>\n",
       "      <td>6121</td>\n",
       "      <td>NaN</td>\n",
       "      <td>NaN</td>\n",
       "      <td>NaN</td>\n",
       "      <td>NaN</td>\n",
       "      <td>NaN</td>\n",
       "      <td>NaN</td>\n",
       "      <td>2004</td>\n",
       "      <td>101</td>\n",
       "      <td>40231</td>\n",
       "      <td>100.0</td>\n",
       "      <td>3026.0</td>\n",
       "      <td>Nymburk</td>\n",
       "      <td>Středočeský kraj</td>\n",
       "      <td>NaN</td>\n",
       "      <td>NaN</td>\n",
       "      <td>NaN</td>\n",
       "    </tr>\n",
       "    <tr>\n",
       "      <th>98</th>\n",
       "      <td>783181435</td>\n",
       "      <td>3403</td>\n",
       "      <td>6121</td>\n",
       "      <td>NaN</td>\n",
       "      <td>NaN</td>\n",
       "      <td>NaN</td>\n",
       "      <td>NaN</td>\n",
       "      <td>NaN</td>\n",
       "      <td>NaN</td>\n",
       "      <td>2004</td>\n",
       "      <td>101</td>\n",
       "      <td>40215</td>\n",
       "      <td>100.0</td>\n",
       "      <td>3026.0</td>\n",
       "      <td>Mělník</td>\n",
       "      <td>Středočeský kraj</td>\n",
       "      <td>NaN</td>\n",
       "      <td>NaN</td>\n",
       "      <td>NaN</td>\n",
       "    </tr>\n",
       "    <tr>\n",
       "      <th>99</th>\n",
       "      <td>783181910</td>\n",
       "      <td>2967</td>\n",
       "      <td>6121</td>\n",
       "      <td>NaN</td>\n",
       "      <td>NaN</td>\n",
       "      <td>NaN</td>\n",
       "      <td>NaN</td>\n",
       "      <td>NaN</td>\n",
       "      <td>NaN</td>\n",
       "      <td>2004</td>\n",
       "      <td>101</td>\n",
       "      <td>40461</td>\n",
       "      <td>100.0</td>\n",
       "      <td>3069.0</td>\n",
       "      <td>Chomutov</td>\n",
       "      <td>Ústecký kraj</td>\n",
       "      <td>NaN</td>\n",
       "      <td>NaN</td>\n",
       "      <td>NaN</td>\n",
       "    </tr>\n",
       "  </tbody>\n",
       "</table>\n",
       "<p>100 rows × 19 columns</p>\n",
       "</div>"
      ],
      "text/plain": [
       "        idhod  hodnota  stapro_kod  pohlavi_cis  pohlavi_kod  stobcan_cis  \\\n",
       "0   783267904    78263        6121          NaN          NaN       3228.0   \n",
       "1   783257796      159        6121          NaN          NaN       3228.0   \n",
       "2   783205432      260        6121          NaN          NaN       3228.0   \n",
       "3   783234179      377        6121          NaN          NaN       3228.0   \n",
       "4   783203437      338        6121          NaN          NaN       3228.0   \n",
       "..        ...      ...         ...          ...          ...          ...   \n",
       "95  783181986     3783        6121          NaN          NaN          NaN   \n",
       "96  783181416     1104        6121          NaN          NaN          NaN   \n",
       "97  783181473     2382        6121          NaN          NaN          NaN   \n",
       "98  783181435     3403        6121          NaN          NaN          NaN   \n",
       "99  783181910     2967        6121          NaN          NaN          NaN   \n",
       "\n",
       "    stobcan_kod  vek_cis  vek_kod   rok  vuzemi_cis  vuzemi_kod  kraj_cis  \\\n",
       "0         804.0      NaN      NaN  2004          97          19       NaN   \n",
       "1         804.0      NaN      NaN  2004         101       40886     100.0   \n",
       "2         804.0      NaN      NaN  2004         101       40347     100.0   \n",
       "3         804.0      NaN      NaN  2004         101       40631     100.0   \n",
       "4         804.0      NaN      NaN  2004         101       40312     100.0   \n",
       "..          ...      ...      ...   ...         ...         ...       ...   \n",
       "95          NaN      NaN      NaN  2004         101       40509     100.0   \n",
       "96          NaN      NaN      NaN  2004         101       40207     100.0   \n",
       "97          NaN      NaN      NaN  2004         101       40231     100.0   \n",
       "98          NaN      NaN      NaN  2004         101       40215     100.0   \n",
       "99          NaN      NaN      NaN  2004         101       40461     100.0   \n",
       "\n",
       "    kraj_kod       vuzemi_txt              kraj_txt pohlavi_txt stobcan_txt  \\\n",
       "0        NaN  Česká republika                   NaN         NaN    Ukrajina   \n",
       "1     3140.0          Karviná  Moravskoslezský kraj         NaN    Ukrajina   \n",
       "2     3034.0            Tábor        Jihočeský kraj         NaN    Ukrajina   \n",
       "3     3093.0          Svitavy       Pardubický kraj         NaN    Ukrajina   \n",
       "4     3034.0            Písek        Jihočeský kraj         NaN    Ukrajina   \n",
       "..       ...              ...                   ...         ...         ...   \n",
       "95    3069.0          Teplice          Ústecký kraj         NaN         NaN   \n",
       "96    3026.0       Kutná Hora      Středočeský kraj         NaN         NaN   \n",
       "97    3026.0          Nymburk      Středočeský kraj         NaN         NaN   \n",
       "98    3026.0           Mělník      Středočeský kraj         NaN         NaN   \n",
       "99    3069.0         Chomutov          Ústecký kraj         NaN         NaN   \n",
       "\n",
       "   vek_txt  \n",
       "0      NaN  \n",
       "1      NaN  \n",
       "2      NaN  \n",
       "3      NaN  \n",
       "4      NaN  \n",
       "..     ...  \n",
       "95     NaN  \n",
       "96     NaN  \n",
       "97     NaN  \n",
       "98     NaN  \n",
       "99     NaN  \n",
       "\n",
       "[100 rows x 19 columns]"
      ]
     },
     "execution_count": 5,
     "metadata": {},
     "output_type": "execute_result"
    }
   ],
   "source": [
    "data.head(100)"
   ]
  },
  {
   "cell_type": "code",
   "execution_count": 6,
   "id": "dd09a129",
   "metadata": {},
   "outputs": [
    {
     "name": "stdout",
     "output_type": "stream",
     "text": [
      "<class 'pandas.core.frame.DataFrame'>\n",
      "RangeIndex: 70915 entries, 0 to 70914\n",
      "Data columns (total 19 columns):\n",
      " #   Column       Non-Null Count  Dtype  \n",
      "---  ------       --------------  -----  \n",
      " 0   idhod        70915 non-null  int64  \n",
      " 1   hodnota      70915 non-null  int64  \n",
      " 2   stapro_kod   70915 non-null  int64  \n",
      " 3   pohlavi_cis  42371 non-null  float64\n",
      " 4   pohlavi_kod  42371 non-null  float64\n",
      " 5   stobcan_cis  66510 non-null  float64\n",
      " 6   stobcan_kod  66510 non-null  float64\n",
      " 7   vek_cis      59632 non-null  float64\n",
      " 8   vek_kod      59632 non-null  float64\n",
      " 9   rok          70915 non-null  int64  \n",
      " 10  vuzemi_cis   70915 non-null  int64  \n",
      " 11  vuzemi_kod   70915 non-null  int64  \n",
      " 12  kraj_cis     65811 non-null  float64\n",
      " 13  kraj_kod     65811 non-null  float64\n",
      " 14  vuzemi_txt   70915 non-null  object \n",
      " 15  kraj_txt     65811 non-null  object \n",
      " 16  pohlavi_txt  42371 non-null  object \n",
      " 17  stobcan_txt  66510 non-null  object \n",
      " 18  vek_txt      59632 non-null  object \n",
      "dtypes: float64(8), int64(6), object(5)\n",
      "memory usage: 10.3+ MB\n"
     ]
    }
   ],
   "source": [
    "data.info()"
   ]
  },
  {
   "cell_type": "code",
   "execution_count": null,
   "id": "5190decf",
   "metadata": {},
   "outputs": [],
   "source": [
    "data_sorted = data[['kraj_txt', 'stobcan_txt', 'hodnota', 'vek_txt']]"
   ]
  },
  {
   "cell_type": "code",
   "execution_count": 8,
   "id": "8019d93b",
   "metadata": {},
   "outputs": [
    {
     "data": {
      "text/html": [
       "<div>\n",
       "<style scoped>\n",
       "    .dataframe tbody tr th:only-of-type {\n",
       "        vertical-align: middle;\n",
       "    }\n",
       "\n",
       "    .dataframe tbody tr th {\n",
       "        vertical-align: top;\n",
       "    }\n",
       "\n",
       "    .dataframe thead th {\n",
       "        text-align: right;\n",
       "    }\n",
       "</style>\n",
       "<table border=\"1\" class=\"dataframe\">\n",
       "  <thead>\n",
       "    <tr style=\"text-align: right;\">\n",
       "      <th></th>\n",
       "      <th>kraj_txt</th>\n",
       "      <th>stobcan_txt</th>\n",
       "      <th>hodnota</th>\n",
       "      <th>vek_txt</th>\n",
       "    </tr>\n",
       "  </thead>\n",
       "  <tbody>\n",
       "    <tr>\n",
       "      <th>0</th>\n",
       "      <td>NaN</td>\n",
       "      <td>Ukrajina</td>\n",
       "      <td>78263</td>\n",
       "      <td>NaN</td>\n",
       "    </tr>\n",
       "    <tr>\n",
       "      <th>1</th>\n",
       "      <td>Moravskoslezský kraj</td>\n",
       "      <td>Ukrajina</td>\n",
       "      <td>159</td>\n",
       "      <td>NaN</td>\n",
       "    </tr>\n",
       "    <tr>\n",
       "      <th>2</th>\n",
       "      <td>Jihočeský kraj</td>\n",
       "      <td>Ukrajina</td>\n",
       "      <td>260</td>\n",
       "      <td>NaN</td>\n",
       "    </tr>\n",
       "    <tr>\n",
       "      <th>3</th>\n",
       "      <td>Pardubický kraj</td>\n",
       "      <td>Ukrajina</td>\n",
       "      <td>377</td>\n",
       "      <td>NaN</td>\n",
       "    </tr>\n",
       "    <tr>\n",
       "      <th>4</th>\n",
       "      <td>Jihočeský kraj</td>\n",
       "      <td>Ukrajina</td>\n",
       "      <td>338</td>\n",
       "      <td>NaN</td>\n",
       "    </tr>\n",
       "  </tbody>\n",
       "</table>\n",
       "</div>"
      ],
      "text/plain": [
       "               kraj_txt stobcan_txt  hodnota vek_txt\n",
       "0                   NaN    Ukrajina    78263     NaN\n",
       "1  Moravskoslezský kraj    Ukrajina      159     NaN\n",
       "2        Jihočeský kraj    Ukrajina      260     NaN\n",
       "3       Pardubický kraj    Ukrajina      377     NaN\n",
       "4        Jihočeský kraj    Ukrajina      338     NaN"
      ]
     },
     "execution_count": 8,
     "metadata": {},
     "output_type": "execute_result"
    }
   ],
   "source": [
    "data_sorted.head(5)"
   ]
  },
  {
   "cell_type": "code",
   "execution_count": 9,
   "id": "d7783f40",
   "metadata": {},
   "outputs": [
    {
     "name": "stdout",
     "output_type": "stream",
     "text": [
      "c:\\Users\\nitram\\Documents\n"
     ]
    }
   ],
   "source": [
    "import os\n",
    "print(os.getcwd())"
   ]
  },
  {
   "cell_type": "code",
   "execution_count": 10,
   "id": "1d7c0283",
   "metadata": {},
   "outputs": [
    {
     "data": {
      "text/plain": [
       "vuzemi_txt\n",
       "Česká republika    5104\n",
       "Praha              4355\n",
       "Brno-město         2197\n",
       "Ostrava-město      1448\n",
       "Praha-západ        1433\n",
       "                   ... \n",
       "Strakonice          513\n",
       "Plzeň-jih           510\n",
       "Domažlice           492\n",
       "Jeseník             481\n",
       "nezjištěno          346\n",
       "Name: count, Length: 79, dtype: int64"
      ]
     },
     "execution_count": 10,
     "metadata": {},
     "output_type": "execute_result"
    }
   ],
   "source": [
    "data.value_counts('vuzemi_txt')"
   ]
  },
  {
   "cell_type": "code",
   "execution_count": 11,
   "id": "7d69ce70",
   "metadata": {},
   "outputs": [
    {
     "name": "stderr",
     "output_type": "stream",
     "text": [
      "C:\\Users\\nitram\\AppData\\Local\\Temp\\ipykernel_14548\\2025405515.py:1: SettingWithCopyWarning: \n",
      "A value is trying to be set on a copy of a slice from a DataFrame\n",
      "\n",
      "See the caveats in the documentation: https://pandas.pydata.org/pandas-docs/stable/user_guide/indexing.html#returning-a-view-versus-a-copy\n",
      "  data_sorted.rename(columns={'kraj_txt': 'kraj', 'stobcan_txt' : 'obcan_statu', 'hodnota' : 'pocet', 'vek_txt' : 'vek'}, inplace=True)\n"
     ]
    }
   ],
   "source": [
    "data_sorted.rename(columns={'kraj_txt': 'kraj', 'stobcan_txt' : 'obcan_statu', 'hodnota' : 'pocet', 'vek_txt' : 'vek'}, inplace=True) "
   ]
  },
  {
   "cell_type": "code",
   "execution_count": 12,
   "id": "a51075b1",
   "metadata": {},
   "outputs": [
    {
     "name": "stderr",
     "output_type": "stream",
     "text": [
      "C:\\Users\\nitram\\AppData\\Local\\Temp\\ipykernel_14548\\1918838794.py:1: SettingWithCopyWarning: \n",
      "A value is trying to be set on a copy of a slice from a DataFrame.\n",
      "Try using .loc[row_indexer,col_indexer] = value instead\n",
      "\n",
      "See the caveats in the documentation: https://pandas.pydata.org/pandas-docs/stable/user_guide/indexing.html#returning-a-view-versus-a-copy\n",
      "  data_sorted['vek'] = pd.to_numeric(data_sorted['vek'], errors='coerce')\n"
     ]
    }
   ],
   "source": [
    "data_sorted['vek'] = pd.to_numeric(data_sorted['vek'], errors='coerce')"
   ]
  },
  {
   "cell_type": "code",
   "execution_count": 31,
   "id": "68ba3e4e",
   "metadata": {},
   "outputs": [],
   "source": [
    "data_final = data_sorted.groupby(['kraj', 'obcan_statu'])[['pocet', 'vek']].mean().round(1)"
   ]
  },
  {
   "cell_type": "code",
   "execution_count": 32,
   "id": "e92e3649",
   "metadata": {},
   "outputs": [
    {
     "data": {
      "text/html": [
       "<div>\n",
       "<style scoped>\n",
       "    .dataframe tbody tr th:only-of-type {\n",
       "        vertical-align: middle;\n",
       "    }\n",
       "\n",
       "    .dataframe tbody tr th {\n",
       "        vertical-align: top;\n",
       "    }\n",
       "\n",
       "    .dataframe thead th {\n",
       "        text-align: right;\n",
       "    }\n",
       "</style>\n",
       "<table border=\"1\" class=\"dataframe\">\n",
       "  <thead>\n",
       "    <tr style=\"text-align: right;\">\n",
       "      <th></th>\n",
       "      <th>kraj</th>\n",
       "      <th>obcan_statu</th>\n",
       "      <th>pocet</th>\n",
       "      <th>vek</th>\n",
       "    </tr>\n",
       "  </thead>\n",
       "  <tbody>\n",
       "    <tr>\n",
       "      <th>0</th>\n",
       "      <td>NaN</td>\n",
       "      <td>Ukrajina</td>\n",
       "      <td>78263</td>\n",
       "      <td>NaN</td>\n",
       "    </tr>\n",
       "    <tr>\n",
       "      <th>1</th>\n",
       "      <td>Moravskoslezský kraj</td>\n",
       "      <td>Ukrajina</td>\n",
       "      <td>159</td>\n",
       "      <td>NaN</td>\n",
       "    </tr>\n",
       "    <tr>\n",
       "      <th>2</th>\n",
       "      <td>Jihočeský kraj</td>\n",
       "      <td>Ukrajina</td>\n",
       "      <td>260</td>\n",
       "      <td>NaN</td>\n",
       "    </tr>\n",
       "    <tr>\n",
       "      <th>3</th>\n",
       "      <td>Pardubický kraj</td>\n",
       "      <td>Ukrajina</td>\n",
       "      <td>377</td>\n",
       "      <td>NaN</td>\n",
       "    </tr>\n",
       "    <tr>\n",
       "      <th>4</th>\n",
       "      <td>Jihočeský kraj</td>\n",
       "      <td>Ukrajina</td>\n",
       "      <td>338</td>\n",
       "      <td>NaN</td>\n",
       "    </tr>\n",
       "    <tr>\n",
       "      <th>...</th>\n",
       "      <td>...</td>\n",
       "      <td>...</td>\n",
       "      <td>...</td>\n",
       "      <td>...</td>\n",
       "    </tr>\n",
       "    <tr>\n",
       "      <th>95</th>\n",
       "      <td>Ústecký kraj</td>\n",
       "      <td>NaN</td>\n",
       "      <td>3783</td>\n",
       "      <td>NaN</td>\n",
       "    </tr>\n",
       "    <tr>\n",
       "      <th>96</th>\n",
       "      <td>Středočeský kraj</td>\n",
       "      <td>NaN</td>\n",
       "      <td>1104</td>\n",
       "      <td>NaN</td>\n",
       "    </tr>\n",
       "    <tr>\n",
       "      <th>97</th>\n",
       "      <td>Středočeský kraj</td>\n",
       "      <td>NaN</td>\n",
       "      <td>2382</td>\n",
       "      <td>NaN</td>\n",
       "    </tr>\n",
       "    <tr>\n",
       "      <th>98</th>\n",
       "      <td>Středočeský kraj</td>\n",
       "      <td>NaN</td>\n",
       "      <td>3403</td>\n",
       "      <td>NaN</td>\n",
       "    </tr>\n",
       "    <tr>\n",
       "      <th>99</th>\n",
       "      <td>Ústecký kraj</td>\n",
       "      <td>NaN</td>\n",
       "      <td>2967</td>\n",
       "      <td>NaN</td>\n",
       "    </tr>\n",
       "  </tbody>\n",
       "</table>\n",
       "<p>100 rows × 4 columns</p>\n",
       "</div>"
      ],
      "text/plain": [
       "                    kraj obcan_statu  pocet  vek\n",
       "0                    NaN    Ukrajina  78263  NaN\n",
       "1   Moravskoslezský kraj    Ukrajina    159  NaN\n",
       "2         Jihočeský kraj    Ukrajina    260  NaN\n",
       "3        Pardubický kraj    Ukrajina    377  NaN\n",
       "4         Jihočeský kraj    Ukrajina    338  NaN\n",
       "..                   ...         ...    ...  ...\n",
       "95          Ústecký kraj         NaN   3783  NaN\n",
       "96      Středočeský kraj         NaN   1104  NaN\n",
       "97      Středočeský kraj         NaN   2382  NaN\n",
       "98      Středočeský kraj         NaN   3403  NaN\n",
       "99          Ústecký kraj         NaN   2967  NaN\n",
       "\n",
       "[100 rows x 4 columns]"
      ]
     },
     "execution_count": 32,
     "metadata": {},
     "output_type": "execute_result"
    }
   ],
   "source": [
    "data_sorted.head(100)"
   ]
  },
  {
   "cell_type": "code",
   "execution_count": 33,
   "id": "d5fc1232",
   "metadata": {},
   "outputs": [
    {
     "name": "stdout",
     "output_type": "stream",
     "text": [
      "<class 'pandas.core.frame.DataFrame'>\n",
      "RangeIndex: 70915 entries, 0 to 70914\n",
      "Data columns (total 4 columns):\n",
      " #   Column       Non-Null Count  Dtype  \n",
      "---  ------       --------------  -----  \n",
      " 0   kraj         65811 non-null  object \n",
      " 1   obcan_statu  66510 non-null  object \n",
      " 2   pocet        70915 non-null  int64  \n",
      " 3   vek          0 non-null      float64\n",
      "dtypes: float64(1), int64(1), object(2)\n",
      "memory usage: 2.2+ MB\n"
     ]
    }
   ],
   "source": [
    "data_sorted.info()"
   ]
  },
  {
   "cell_type": "code",
   "execution_count": 34,
   "id": "6f0641ff",
   "metadata": {},
   "outputs": [
    {
     "data": {
      "text/html": [
       "<div>\n",
       "<style scoped>\n",
       "    .dataframe tbody tr th:only-of-type {\n",
       "        vertical-align: middle;\n",
       "    }\n",
       "\n",
       "    .dataframe tbody tr th {\n",
       "        vertical-align: top;\n",
       "    }\n",
       "\n",
       "    .dataframe thead th {\n",
       "        text-align: right;\n",
       "    }\n",
       "</style>\n",
       "<table border=\"1\" class=\"dataframe\">\n",
       "  <thead>\n",
       "    <tr style=\"text-align: right;\">\n",
       "      <th></th>\n",
       "      <th></th>\n",
       "      <th>pocet</th>\n",
       "      <th>vek</th>\n",
       "    </tr>\n",
       "    <tr>\n",
       "      <th>kraj</th>\n",
       "      <th>obcan_statu</th>\n",
       "      <th></th>\n",
       "      <th></th>\n",
       "    </tr>\n",
       "  </thead>\n",
       "  <tbody>\n",
       "    <tr>\n",
       "      <th rowspan=\"5\" valign=\"top\">Hlavní město Praha</th>\n",
       "      <th>Afghánistán</th>\n",
       "      <td>7.1</td>\n",
       "      <td>NaN</td>\n",
       "    </tr>\n",
       "    <tr>\n",
       "      <th>Albánie</th>\n",
       "      <td>8.2</td>\n",
       "      <td>NaN</td>\n",
       "    </tr>\n",
       "    <tr>\n",
       "      <th>Alžírsko</th>\n",
       "      <td>20.2</td>\n",
       "      <td>NaN</td>\n",
       "    </tr>\n",
       "    <tr>\n",
       "      <th>Angola</th>\n",
       "      <td>5.4</td>\n",
       "      <td>NaN</td>\n",
       "    </tr>\n",
       "    <tr>\n",
       "      <th>Argentina</th>\n",
       "      <td>3.7</td>\n",
       "      <td>NaN</td>\n",
       "    </tr>\n",
       "    <tr>\n",
       "      <th>...</th>\n",
       "      <th>...</th>\n",
       "      <td>...</td>\n",
       "      <td>...</td>\n",
       "    </tr>\n",
       "    <tr>\n",
       "      <th rowspan=\"5\" valign=\"top\">Ústecký kraj</th>\n",
       "      <th>Čína</th>\n",
       "      <td>3.7</td>\n",
       "      <td>NaN</td>\n",
       "    </tr>\n",
       "    <tr>\n",
       "      <th>Řecko</th>\n",
       "      <td>1.3</td>\n",
       "      <td>NaN</td>\n",
       "    </tr>\n",
       "    <tr>\n",
       "      <th>Španělsko</th>\n",
       "      <td>3.0</td>\n",
       "      <td>NaN</td>\n",
       "    </tr>\n",
       "    <tr>\n",
       "      <th>Švédsko</th>\n",
       "      <td>1.4</td>\n",
       "      <td>NaN</td>\n",
       "    </tr>\n",
       "    <tr>\n",
       "      <th>Švýcarsko</th>\n",
       "      <td>1.2</td>\n",
       "      <td>NaN</td>\n",
       "    </tr>\n",
       "  </tbody>\n",
       "</table>\n",
       "<p>1432 rows × 2 columns</p>\n",
       "</div>"
      ],
      "text/plain": [
       "                                pocet  vek\n",
       "kraj               obcan_statu            \n",
       "Hlavní město Praha Afghánistán    7.1  NaN\n",
       "                   Albánie        8.2  NaN\n",
       "                   Alžírsko      20.2  NaN\n",
       "                   Angola         5.4  NaN\n",
       "                   Argentina      3.7  NaN\n",
       "...                               ...  ...\n",
       "Ústecký kraj       Čína           3.7  NaN\n",
       "                   Řecko          1.3  NaN\n",
       "                   Španělsko      3.0  NaN\n",
       "                   Švédsko        1.4  NaN\n",
       "                   Švýcarsko      1.2  NaN\n",
       "\n",
       "[1432 rows x 2 columns]"
      ]
     },
     "execution_count": 34,
     "metadata": {},
     "output_type": "execute_result"
    }
   ],
   "source": [
    "data_final"
   ]
  },
  {
   "cell_type": "code",
   "execution_count": 35,
   "id": "858eac20",
   "metadata": {},
   "outputs": [
    {
     "data": {
      "text/plain": [
       "pandas.core.frame.DataFrame"
      ]
     },
     "execution_count": 35,
     "metadata": {},
     "output_type": "execute_result"
    }
   ],
   "source": [
    "type(data_final)"
   ]
  },
  {
   "cell_type": "code",
   "execution_count": 36,
   "id": "00ae1e92",
   "metadata": {},
   "outputs": [],
   "source": [
    "import plotly.express as px"
   ]
  },
  {
   "cell_type": "code",
   "execution_count": 37,
   "id": "1e576aa9",
   "metadata": {},
   "outputs": [],
   "source": [
    "df_plot = data_final.reset_index()"
   ]
  },
  {
   "cell_type": "code",
   "execution_count": 38,
   "id": "0b410a8d",
   "metadata": {},
   "outputs": [
    {
     "name": "stdout",
     "output_type": "stream",
     "text": [
      "<class 'pandas.core.frame.DataFrame'>\n",
      "MultiIndex: 1432 entries, ('Hlavní město Praha', 'Afghánistán') to ('Ústecký kraj', 'Švýcarsko')\n",
      "Data columns (total 2 columns):\n",
      " #   Column  Non-Null Count  Dtype  \n",
      "---  ------  --------------  -----  \n",
      " 0   pocet   1432 non-null   float64\n",
      " 1   vek     0 non-null      float64\n",
      "dtypes: float64(2)\n",
      "memory usage: 28.1+ KB\n"
     ]
    }
   ],
   "source": [
    "data_final.info()"
   ]
  },
  {
   "cell_type": "code",
   "execution_count": 39,
   "id": "6c1bc955",
   "metadata": {},
   "outputs": [
    {
     "name": "stdout",
     "output_type": "stream",
     "text": [
      "Index(['kraj', 'obcan_statu', 'pocet', 'vek'], dtype='object')\n"
     ]
    }
   ],
   "source": [
    "data_final = data_final.reset_index()\n",
    "print(data_final.columns)"
   ]
  },
  {
   "cell_type": "code",
   "execution_count": 40,
   "id": "5f5b1bb3",
   "metadata": {},
   "outputs": [
    {
     "data": {
      "text/html": [
       "<div>\n",
       "<style scoped>\n",
       "    .dataframe tbody tr th:only-of-type {\n",
       "        vertical-align: middle;\n",
       "    }\n",
       "\n",
       "    .dataframe tbody tr th {\n",
       "        vertical-align: top;\n",
       "    }\n",
       "\n",
       "    .dataframe thead th {\n",
       "        text-align: right;\n",
       "    }\n",
       "</style>\n",
       "<table border=\"1\" class=\"dataframe\">\n",
       "  <thead>\n",
       "    <tr style=\"text-align: right;\">\n",
       "      <th></th>\n",
       "      <th>kraj</th>\n",
       "      <th>obcan_statu</th>\n",
       "      <th>pocet</th>\n",
       "      <th>vek</th>\n",
       "    </tr>\n",
       "  </thead>\n",
       "  <tbody>\n",
       "    <tr>\n",
       "      <th>0</th>\n",
       "      <td>Hlavní město Praha</td>\n",
       "      <td>Afghánistán</td>\n",
       "      <td>7.1</td>\n",
       "      <td>NaN</td>\n",
       "    </tr>\n",
       "    <tr>\n",
       "      <th>1</th>\n",
       "      <td>Hlavní město Praha</td>\n",
       "      <td>Albánie</td>\n",
       "      <td>8.2</td>\n",
       "      <td>NaN</td>\n",
       "    </tr>\n",
       "    <tr>\n",
       "      <th>2</th>\n",
       "      <td>Hlavní město Praha</td>\n",
       "      <td>Alžírsko</td>\n",
       "      <td>20.2</td>\n",
       "      <td>NaN</td>\n",
       "    </tr>\n",
       "    <tr>\n",
       "      <th>3</th>\n",
       "      <td>Hlavní město Praha</td>\n",
       "      <td>Angola</td>\n",
       "      <td>5.4</td>\n",
       "      <td>NaN</td>\n",
       "    </tr>\n",
       "    <tr>\n",
       "      <th>4</th>\n",
       "      <td>Hlavní město Praha</td>\n",
       "      <td>Argentina</td>\n",
       "      <td>3.7</td>\n",
       "      <td>NaN</td>\n",
       "    </tr>\n",
       "    <tr>\n",
       "      <th>...</th>\n",
       "      <td>...</td>\n",
       "      <td>...</td>\n",
       "      <td>...</td>\n",
       "      <td>...</td>\n",
       "    </tr>\n",
       "    <tr>\n",
       "      <th>1427</th>\n",
       "      <td>Ústecký kraj</td>\n",
       "      <td>Čína</td>\n",
       "      <td>3.7</td>\n",
       "      <td>NaN</td>\n",
       "    </tr>\n",
       "    <tr>\n",
       "      <th>1428</th>\n",
       "      <td>Ústecký kraj</td>\n",
       "      <td>Řecko</td>\n",
       "      <td>1.3</td>\n",
       "      <td>NaN</td>\n",
       "    </tr>\n",
       "    <tr>\n",
       "      <th>1429</th>\n",
       "      <td>Ústecký kraj</td>\n",
       "      <td>Španělsko</td>\n",
       "      <td>3.0</td>\n",
       "      <td>NaN</td>\n",
       "    </tr>\n",
       "    <tr>\n",
       "      <th>1430</th>\n",
       "      <td>Ústecký kraj</td>\n",
       "      <td>Švédsko</td>\n",
       "      <td>1.4</td>\n",
       "      <td>NaN</td>\n",
       "    </tr>\n",
       "    <tr>\n",
       "      <th>1431</th>\n",
       "      <td>Ústecký kraj</td>\n",
       "      <td>Švýcarsko</td>\n",
       "      <td>1.2</td>\n",
       "      <td>NaN</td>\n",
       "    </tr>\n",
       "  </tbody>\n",
       "</table>\n",
       "<p>1432 rows × 4 columns</p>\n",
       "</div>"
      ],
      "text/plain": [
       "                    kraj  obcan_statu  pocet  vek\n",
       "0     Hlavní město Praha  Afghánistán    7.1  NaN\n",
       "1     Hlavní město Praha      Albánie    8.2  NaN\n",
       "2     Hlavní město Praha     Alžírsko   20.2  NaN\n",
       "3     Hlavní město Praha       Angola    5.4  NaN\n",
       "4     Hlavní město Praha    Argentina    3.7  NaN\n",
       "...                  ...          ...    ...  ...\n",
       "1427        Ústecký kraj         Čína    3.7  NaN\n",
       "1428        Ústecký kraj        Řecko    1.3  NaN\n",
       "1429        Ústecký kraj    Španělsko    3.0  NaN\n",
       "1430        Ústecký kraj      Švédsko    1.4  NaN\n",
       "1431        Ústecký kraj    Švýcarsko    1.2  NaN\n",
       "\n",
       "[1432 rows x 4 columns]"
      ]
     },
     "execution_count": 40,
     "metadata": {},
     "output_type": "execute_result"
    }
   ],
   "source": [
    "data_final"
   ]
  },
  {
   "cell_type": "markdown",
   "id": "5f84fe4d",
   "metadata": {},
   "source": [
    "###rozdeleni muzu a zen mezi cizinci"
   ]
  },
  {
   "cell_type": "code",
   "execution_count": 48,
   "id": "c1a401cc",
   "metadata": {},
   "outputs": [
    {
     "data": {
      "text/html": [
       "<div>\n",
       "<style scoped>\n",
       "    .dataframe tbody tr th:only-of-type {\n",
       "        vertical-align: middle;\n",
       "    }\n",
       "\n",
       "    .dataframe tbody tr th {\n",
       "        vertical-align: top;\n",
       "    }\n",
       "\n",
       "    .dataframe thead th {\n",
       "        text-align: right;\n",
       "    }\n",
       "</style>\n",
       "<table border=\"1\" class=\"dataframe\">\n",
       "  <thead>\n",
       "    <tr style=\"text-align: right;\">\n",
       "      <th></th>\n",
       "      <th>idhod</th>\n",
       "      <th>hodnota</th>\n",
       "      <th>stapro_kod</th>\n",
       "      <th>pohlavi_cis</th>\n",
       "      <th>pohlavi_kod</th>\n",
       "      <th>stobcan_cis</th>\n",
       "      <th>stobcan_kod</th>\n",
       "      <th>vek_cis</th>\n",
       "      <th>vek_kod</th>\n",
       "      <th>rok</th>\n",
       "      <th>vuzemi_cis</th>\n",
       "      <th>vuzemi_kod</th>\n",
       "      <th>kraj_cis</th>\n",
       "      <th>kraj_kod</th>\n",
       "      <th>vuzemi_txt</th>\n",
       "      <th>kraj_txt</th>\n",
       "      <th>pohlavi_txt</th>\n",
       "      <th>stobcan_txt</th>\n",
       "      <th>vek_txt</th>\n",
       "    </tr>\n",
       "  </thead>\n",
       "  <tbody>\n",
       "    <tr>\n",
       "      <th>0</th>\n",
       "      <td>783267904</td>\n",
       "      <td>78263</td>\n",
       "      <td>6121</td>\n",
       "      <td>NaN</td>\n",
       "      <td>NaN</td>\n",
       "      <td>3228.0</td>\n",
       "      <td>804.0</td>\n",
       "      <td>NaN</td>\n",
       "      <td>NaN</td>\n",
       "      <td>2004</td>\n",
       "      <td>97</td>\n",
       "      <td>19</td>\n",
       "      <td>NaN</td>\n",
       "      <td>NaN</td>\n",
       "      <td>Česká republika</td>\n",
       "      <td>NaN</td>\n",
       "      <td>NaN</td>\n",
       "      <td>Ukrajina</td>\n",
       "      <td>NaN</td>\n",
       "    </tr>\n",
       "    <tr>\n",
       "      <th>1</th>\n",
       "      <td>783257796</td>\n",
       "      <td>159</td>\n",
       "      <td>6121</td>\n",
       "      <td>NaN</td>\n",
       "      <td>NaN</td>\n",
       "      <td>3228.0</td>\n",
       "      <td>804.0</td>\n",
       "      <td>NaN</td>\n",
       "      <td>NaN</td>\n",
       "      <td>2004</td>\n",
       "      <td>101</td>\n",
       "      <td>40886</td>\n",
       "      <td>100.0</td>\n",
       "      <td>3140.0</td>\n",
       "      <td>Karviná</td>\n",
       "      <td>Moravskoslezský kraj</td>\n",
       "      <td>NaN</td>\n",
       "      <td>Ukrajina</td>\n",
       "      <td>NaN</td>\n",
       "    </tr>\n",
       "    <tr>\n",
       "      <th>2</th>\n",
       "      <td>783205432</td>\n",
       "      <td>260</td>\n",
       "      <td>6121</td>\n",
       "      <td>NaN</td>\n",
       "      <td>NaN</td>\n",
       "      <td>3228.0</td>\n",
       "      <td>804.0</td>\n",
       "      <td>NaN</td>\n",
       "      <td>NaN</td>\n",
       "      <td>2004</td>\n",
       "      <td>101</td>\n",
       "      <td>40347</td>\n",
       "      <td>100.0</td>\n",
       "      <td>3034.0</td>\n",
       "      <td>Tábor</td>\n",
       "      <td>Jihočeský kraj</td>\n",
       "      <td>NaN</td>\n",
       "      <td>Ukrajina</td>\n",
       "      <td>NaN</td>\n",
       "    </tr>\n",
       "    <tr>\n",
       "      <th>3</th>\n",
       "      <td>783234179</td>\n",
       "      <td>377</td>\n",
       "      <td>6121</td>\n",
       "      <td>NaN</td>\n",
       "      <td>NaN</td>\n",
       "      <td>3228.0</td>\n",
       "      <td>804.0</td>\n",
       "      <td>NaN</td>\n",
       "      <td>NaN</td>\n",
       "      <td>2004</td>\n",
       "      <td>101</td>\n",
       "      <td>40631</td>\n",
       "      <td>100.0</td>\n",
       "      <td>3093.0</td>\n",
       "      <td>Svitavy</td>\n",
       "      <td>Pardubický kraj</td>\n",
       "      <td>NaN</td>\n",
       "      <td>Ukrajina</td>\n",
       "      <td>NaN</td>\n",
       "    </tr>\n",
       "    <tr>\n",
       "      <th>4</th>\n",
       "      <td>783203437</td>\n",
       "      <td>338</td>\n",
       "      <td>6121</td>\n",
       "      <td>NaN</td>\n",
       "      <td>NaN</td>\n",
       "      <td>3228.0</td>\n",
       "      <td>804.0</td>\n",
       "      <td>NaN</td>\n",
       "      <td>NaN</td>\n",
       "      <td>2004</td>\n",
       "      <td>101</td>\n",
       "      <td>40312</td>\n",
       "      <td>100.0</td>\n",
       "      <td>3034.0</td>\n",
       "      <td>Písek</td>\n",
       "      <td>Jihočeský kraj</td>\n",
       "      <td>NaN</td>\n",
       "      <td>Ukrajina</td>\n",
       "      <td>NaN</td>\n",
       "    </tr>\n",
       "  </tbody>\n",
       "</table>\n",
       "</div>"
      ],
      "text/plain": [
       "       idhod  hodnota  stapro_kod  pohlavi_cis  pohlavi_kod  stobcan_cis  \\\n",
       "0  783267904    78263        6121          NaN          NaN       3228.0   \n",
       "1  783257796      159        6121          NaN          NaN       3228.0   \n",
       "2  783205432      260        6121          NaN          NaN       3228.0   \n",
       "3  783234179      377        6121          NaN          NaN       3228.0   \n",
       "4  783203437      338        6121          NaN          NaN       3228.0   \n",
       "\n",
       "   stobcan_kod  vek_cis  vek_kod   rok  vuzemi_cis  vuzemi_kod  kraj_cis  \\\n",
       "0        804.0      NaN      NaN  2004          97          19       NaN   \n",
       "1        804.0      NaN      NaN  2004         101       40886     100.0   \n",
       "2        804.0      NaN      NaN  2004         101       40347     100.0   \n",
       "3        804.0      NaN      NaN  2004         101       40631     100.0   \n",
       "4        804.0      NaN      NaN  2004         101       40312     100.0   \n",
       "\n",
       "   kraj_kod       vuzemi_txt              kraj_txt pohlavi_txt stobcan_txt  \\\n",
       "0       NaN  Česká republika                   NaN         NaN    Ukrajina   \n",
       "1    3140.0          Karviná  Moravskoslezský kraj         NaN    Ukrajina   \n",
       "2    3034.0            Tábor        Jihočeský kraj         NaN    Ukrajina   \n",
       "3    3093.0          Svitavy       Pardubický kraj         NaN    Ukrajina   \n",
       "4    3034.0            Písek        Jihočeský kraj         NaN    Ukrajina   \n",
       "\n",
       "  vek_txt  \n",
       "0     NaN  \n",
       "1     NaN  \n",
       "2     NaN  \n",
       "3     NaN  \n",
       "4     NaN  "
      ]
     },
     "execution_count": 48,
     "metadata": {},
     "output_type": "execute_result"
    }
   ],
   "source": [
    "data.head()"
   ]
  },
  {
   "cell_type": "code",
   "execution_count": null,
   "id": "8decc02a",
   "metadata": {},
   "outputs": [
    {
     "data": {
      "text/plain": [
       "array([nan,  2.,  1.])"
      ]
     },
     "execution_count": 58,
     "metadata": {},
     "output_type": "execute_result"
    }
   ],
   "source": [
    "m_and_w = data['pohlavi_kod']\n",
    "m_and_w.unique()\n",
    "m_and_w['pohlavi_kod'].value_counts()"
   ]
  },
  {
   "cell_type": "code",
   "execution_count": 68,
   "id": "333abff2",
   "metadata": {},
   "outputs": [
    {
     "data": {
      "text/plain": [
       "array([nan,  2.,  1.])"
      ]
     },
     "execution_count": 68,
     "metadata": {},
     "output_type": "execute_result"
    }
   ],
   "source": [
    "m_and_w.unique()"
   ]
  },
  {
   "cell_type": "code",
   "execution_count": null,
   "id": "9dde5957",
   "metadata": {},
   "outputs": [],
   "source": [
    "m_and_w = m_and_w.replace(1.0, 'muz')\n",
    "m_and_w = m_and_w.replace(2.0, 'zena')"
   ]
  },
  {
   "cell_type": "code",
   "execution_count": null,
   "id": "e9c608f7",
   "metadata": {},
   "outputs": [
    {
     "data": {
      "text/plain": [
       "pohlavi_kod\n",
       "NaN     28544\n",
       "muz     23652\n",
       "zena    18719\n",
       "Name: count, dtype: int64"
      ]
     },
     "execution_count": 82,
     "metadata": {},
     "output_type": "execute_result"
    }
   ],
   "source": [
    "m_and_w.value_counts(dropna=False)"
   ]
  },
  {
   "cell_type": "code",
   "execution_count": 87,
   "id": "bf7c04aa",
   "metadata": {},
   "outputs": [],
   "source": [
    "m_and_w = m_and_w.fillna('nezname')"
   ]
  },
  {
   "cell_type": "code",
   "execution_count": 89,
   "id": "baf63527",
   "metadata": {},
   "outputs": [],
   "source": [
    "m_and_w_counts = m_and_w.value_counts(dropna=False)"
   ]
  },
  {
   "cell_type": "code",
   "execution_count": 92,
   "id": "d4b83702",
   "metadata": {},
   "outputs": [
    {
     "data": {
      "text/plain": [
       "<bound method Series.info of pohlavi_kod\n",
       "nezname    28544\n",
       "muz        23652\n",
       "zena       18719\n",
       "Name: count, dtype: int64>"
      ]
     },
     "execution_count": 92,
     "metadata": {},
     "output_type": "execute_result"
    }
   ],
   "source": [
    "m_and_w_counts.info"
   ]
  },
  {
   "cell_type": "code",
   "execution_count": 97,
   "id": "5cdc8ba7",
   "metadata": {},
   "outputs": [],
   "source": [
    "m_and_w_counts = m_and_w_counts.reset_index()"
   ]
  },
  {
   "cell_type": "code",
   "execution_count": 99,
   "id": "6e4d7819",
   "metadata": {},
   "outputs": [
    {
     "data": {
      "text/html": [
       "<div>\n",
       "<style scoped>\n",
       "    .dataframe tbody tr th:only-of-type {\n",
       "        vertical-align: middle;\n",
       "    }\n",
       "\n",
       "    .dataframe tbody tr th {\n",
       "        vertical-align: top;\n",
       "    }\n",
       "\n",
       "    .dataframe thead th {\n",
       "        text-align: right;\n",
       "    }\n",
       "</style>\n",
       "<table border=\"1\" class=\"dataframe\">\n",
       "  <thead>\n",
       "    <tr style=\"text-align: right;\">\n",
       "      <th></th>\n",
       "      <th>pohlavi_kod</th>\n",
       "      <th>count</th>\n",
       "    </tr>\n",
       "  </thead>\n",
       "  <tbody>\n",
       "    <tr>\n",
       "      <th>0</th>\n",
       "      <td>nezname</td>\n",
       "      <td>28544</td>\n",
       "    </tr>\n",
       "    <tr>\n",
       "      <th>1</th>\n",
       "      <td>muz</td>\n",
       "      <td>23652</td>\n",
       "    </tr>\n",
       "    <tr>\n",
       "      <th>2</th>\n",
       "      <td>zena</td>\n",
       "      <td>18719</td>\n",
       "    </tr>\n",
       "  </tbody>\n",
       "</table>\n",
       "</div>"
      ],
      "text/plain": [
       "  pohlavi_kod  count\n",
       "0     nezname  28544\n",
       "1         muz  23652\n",
       "2        zena  18719"
      ]
     },
     "execution_count": 99,
     "metadata": {},
     "output_type": "execute_result"
    }
   ],
   "source": [
    "m_and_w_counts.head()"
   ]
  },
  {
   "cell_type": "code",
   "execution_count": 102,
   "id": "4543b5ec",
   "metadata": {},
   "outputs": [],
   "source": [
    "m_and_w_counts.columns = ['pohlavi', 'pocet']"
   ]
  },
  {
   "cell_type": "code",
   "execution_count": 103,
   "id": "29974aef",
   "metadata": {},
   "outputs": [
    {
     "data": {
      "text/html": [
       "<div>\n",
       "<style scoped>\n",
       "    .dataframe tbody tr th:only-of-type {\n",
       "        vertical-align: middle;\n",
       "    }\n",
       "\n",
       "    .dataframe tbody tr th {\n",
       "        vertical-align: top;\n",
       "    }\n",
       "\n",
       "    .dataframe thead th {\n",
       "        text-align: right;\n",
       "    }\n",
       "</style>\n",
       "<table border=\"1\" class=\"dataframe\">\n",
       "  <thead>\n",
       "    <tr style=\"text-align: right;\">\n",
       "      <th></th>\n",
       "      <th>pohlavi</th>\n",
       "      <th>pocet</th>\n",
       "    </tr>\n",
       "  </thead>\n",
       "  <tbody>\n",
       "    <tr>\n",
       "      <th>0</th>\n",
       "      <td>nezname</td>\n",
       "      <td>28544</td>\n",
       "    </tr>\n",
       "    <tr>\n",
       "      <th>1</th>\n",
       "      <td>muz</td>\n",
       "      <td>23652</td>\n",
       "    </tr>\n",
       "    <tr>\n",
       "      <th>2</th>\n",
       "      <td>zena</td>\n",
       "      <td>18719</td>\n",
       "    </tr>\n",
       "  </tbody>\n",
       "</table>\n",
       "</div>"
      ],
      "text/plain": [
       "   pohlavi  pocet\n",
       "0  nezname  28544\n",
       "1      muz  23652\n",
       "2     zena  18719"
      ]
     },
     "execution_count": 103,
     "metadata": {},
     "output_type": "execute_result"
    }
   ],
   "source": [
    "m_and_w_counts.head()"
   ]
  },
  {
   "cell_type": "code",
   "execution_count": 125,
   "id": "0d61d96a",
   "metadata": {},
   "outputs": [
    {
     "data": {
      "text/plain": [
       "np.int64(70915)"
      ]
     },
     "execution_count": 125,
     "metadata": {},
     "output_type": "execute_result"
    }
   ],
   "source": [
    "total = m_and_w_counts['pocet'].sum()\n",
    "total"
   ]
  },
  {
   "cell_type": "code",
   "execution_count": 130,
   "id": "4288ae39",
   "metadata": {},
   "outputs": [
    {
     "data": {
      "application/vnd.plotly.v1+json": {
       "config": {
        "plotlyServerURL": "https://plot.ly"
       },
       "data": [
        {
         "customdata": [
          [
           "nezname"
          ],
          [
           "muz"
          ],
          [
           "zena"
          ]
         ],
         "domain": {
          "x": [
           0,
           1
          ],
          "y": [
           0,
           1
          ]
         },
         "hole": 0.4,
         "hovertemplate": "pohlavi=%{customdata[0]}<br>pocet=%{value}<extra></extra>",
         "labels": [
          "nezname",
          "muz",
          "zena"
         ],
         "legendgroup": "",
         "marker": {
          "colors": [
           "lightgrey",
           "royalblue",
           "red"
          ]
         },
         "name": "",
         "showlegend": true,
         "type": "pie",
         "values": {
          "bdata": "gG9kXB9J",
          "dtype": "i2"
         }
        }
       ],
       "layout": {
        "annotations": [
         {
          "font": {
           "size": 16
          },
          "showarrow": false,
          "text": "celkem: 70915",
          "x": 0.5,
          "y": 0.5
         }
        ],
        "legend": {
         "title": {
          "text": "Popis legendy"
         },
         "tracegroupgap": 0
        },
        "margin": {
         "t": 60
        },
        "template": {
         "data": {
          "bar": [
           {
            "error_x": {
             "color": "#2a3f5f"
            },
            "error_y": {
             "color": "#2a3f5f"
            },
            "marker": {
             "line": {
              "color": "#E5ECF6",
              "width": 0.5
             },
             "pattern": {
              "fillmode": "overlay",
              "size": 10,
              "solidity": 0.2
             }
            },
            "type": "bar"
           }
          ],
          "barpolar": [
           {
            "marker": {
             "line": {
              "color": "#E5ECF6",
              "width": 0.5
             },
             "pattern": {
              "fillmode": "overlay",
              "size": 10,
              "solidity": 0.2
             }
            },
            "type": "barpolar"
           }
          ],
          "carpet": [
           {
            "aaxis": {
             "endlinecolor": "#2a3f5f",
             "gridcolor": "white",
             "linecolor": "white",
             "minorgridcolor": "white",
             "startlinecolor": "#2a3f5f"
            },
            "baxis": {
             "endlinecolor": "#2a3f5f",
             "gridcolor": "white",
             "linecolor": "white",
             "minorgridcolor": "white",
             "startlinecolor": "#2a3f5f"
            },
            "type": "carpet"
           }
          ],
          "choropleth": [
           {
            "colorbar": {
             "outlinewidth": 0,
             "ticks": ""
            },
            "type": "choropleth"
           }
          ],
          "contour": [
           {
            "colorbar": {
             "outlinewidth": 0,
             "ticks": ""
            },
            "colorscale": [
             [
              0,
              "#0d0887"
             ],
             [
              0.1111111111111111,
              "#46039f"
             ],
             [
              0.2222222222222222,
              "#7201a8"
             ],
             [
              0.3333333333333333,
              "#9c179e"
             ],
             [
              0.4444444444444444,
              "#bd3786"
             ],
             [
              0.5555555555555556,
              "#d8576b"
             ],
             [
              0.6666666666666666,
              "#ed7953"
             ],
             [
              0.7777777777777778,
              "#fb9f3a"
             ],
             [
              0.8888888888888888,
              "#fdca26"
             ],
             [
              1,
              "#f0f921"
             ]
            ],
            "type": "contour"
           }
          ],
          "contourcarpet": [
           {
            "colorbar": {
             "outlinewidth": 0,
             "ticks": ""
            },
            "type": "contourcarpet"
           }
          ],
          "heatmap": [
           {
            "colorbar": {
             "outlinewidth": 0,
             "ticks": ""
            },
            "colorscale": [
             [
              0,
              "#0d0887"
             ],
             [
              0.1111111111111111,
              "#46039f"
             ],
             [
              0.2222222222222222,
              "#7201a8"
             ],
             [
              0.3333333333333333,
              "#9c179e"
             ],
             [
              0.4444444444444444,
              "#bd3786"
             ],
             [
              0.5555555555555556,
              "#d8576b"
             ],
             [
              0.6666666666666666,
              "#ed7953"
             ],
             [
              0.7777777777777778,
              "#fb9f3a"
             ],
             [
              0.8888888888888888,
              "#fdca26"
             ],
             [
              1,
              "#f0f921"
             ]
            ],
            "type": "heatmap"
           }
          ],
          "histogram": [
           {
            "marker": {
             "pattern": {
              "fillmode": "overlay",
              "size": 10,
              "solidity": 0.2
             }
            },
            "type": "histogram"
           }
          ],
          "histogram2d": [
           {
            "colorbar": {
             "outlinewidth": 0,
             "ticks": ""
            },
            "colorscale": [
             [
              0,
              "#0d0887"
             ],
             [
              0.1111111111111111,
              "#46039f"
             ],
             [
              0.2222222222222222,
              "#7201a8"
             ],
             [
              0.3333333333333333,
              "#9c179e"
             ],
             [
              0.4444444444444444,
              "#bd3786"
             ],
             [
              0.5555555555555556,
              "#d8576b"
             ],
             [
              0.6666666666666666,
              "#ed7953"
             ],
             [
              0.7777777777777778,
              "#fb9f3a"
             ],
             [
              0.8888888888888888,
              "#fdca26"
             ],
             [
              1,
              "#f0f921"
             ]
            ],
            "type": "histogram2d"
           }
          ],
          "histogram2dcontour": [
           {
            "colorbar": {
             "outlinewidth": 0,
             "ticks": ""
            },
            "colorscale": [
             [
              0,
              "#0d0887"
             ],
             [
              0.1111111111111111,
              "#46039f"
             ],
             [
              0.2222222222222222,
              "#7201a8"
             ],
             [
              0.3333333333333333,
              "#9c179e"
             ],
             [
              0.4444444444444444,
              "#bd3786"
             ],
             [
              0.5555555555555556,
              "#d8576b"
             ],
             [
              0.6666666666666666,
              "#ed7953"
             ],
             [
              0.7777777777777778,
              "#fb9f3a"
             ],
             [
              0.8888888888888888,
              "#fdca26"
             ],
             [
              1,
              "#f0f921"
             ]
            ],
            "type": "histogram2dcontour"
           }
          ],
          "mesh3d": [
           {
            "colorbar": {
             "outlinewidth": 0,
             "ticks": ""
            },
            "type": "mesh3d"
           }
          ],
          "parcoords": [
           {
            "line": {
             "colorbar": {
              "outlinewidth": 0,
              "ticks": ""
             }
            },
            "type": "parcoords"
           }
          ],
          "pie": [
           {
            "automargin": true,
            "type": "pie"
           }
          ],
          "scatter": [
           {
            "fillpattern": {
             "fillmode": "overlay",
             "size": 10,
             "solidity": 0.2
            },
            "type": "scatter"
           }
          ],
          "scatter3d": [
           {
            "line": {
             "colorbar": {
              "outlinewidth": 0,
              "ticks": ""
             }
            },
            "marker": {
             "colorbar": {
              "outlinewidth": 0,
              "ticks": ""
             }
            },
            "type": "scatter3d"
           }
          ],
          "scattercarpet": [
           {
            "marker": {
             "colorbar": {
              "outlinewidth": 0,
              "ticks": ""
             }
            },
            "type": "scattercarpet"
           }
          ],
          "scattergeo": [
           {
            "marker": {
             "colorbar": {
              "outlinewidth": 0,
              "ticks": ""
             }
            },
            "type": "scattergeo"
           }
          ],
          "scattergl": [
           {
            "marker": {
             "colorbar": {
              "outlinewidth": 0,
              "ticks": ""
             }
            },
            "type": "scattergl"
           }
          ],
          "scattermap": [
           {
            "marker": {
             "colorbar": {
              "outlinewidth": 0,
              "ticks": ""
             }
            },
            "type": "scattermap"
           }
          ],
          "scattermapbox": [
           {
            "marker": {
             "colorbar": {
              "outlinewidth": 0,
              "ticks": ""
             }
            },
            "type": "scattermapbox"
           }
          ],
          "scatterpolar": [
           {
            "marker": {
             "colorbar": {
              "outlinewidth": 0,
              "ticks": ""
             }
            },
            "type": "scatterpolar"
           }
          ],
          "scatterpolargl": [
           {
            "marker": {
             "colorbar": {
              "outlinewidth": 0,
              "ticks": ""
             }
            },
            "type": "scatterpolargl"
           }
          ],
          "scatterternary": [
           {
            "marker": {
             "colorbar": {
              "outlinewidth": 0,
              "ticks": ""
             }
            },
            "type": "scatterternary"
           }
          ],
          "surface": [
           {
            "colorbar": {
             "outlinewidth": 0,
             "ticks": ""
            },
            "colorscale": [
             [
              0,
              "#0d0887"
             ],
             [
              0.1111111111111111,
              "#46039f"
             ],
             [
              0.2222222222222222,
              "#7201a8"
             ],
             [
              0.3333333333333333,
              "#9c179e"
             ],
             [
              0.4444444444444444,
              "#bd3786"
             ],
             [
              0.5555555555555556,
              "#d8576b"
             ],
             [
              0.6666666666666666,
              "#ed7953"
             ],
             [
              0.7777777777777778,
              "#fb9f3a"
             ],
             [
              0.8888888888888888,
              "#fdca26"
             ],
             [
              1,
              "#f0f921"
             ]
            ],
            "type": "surface"
           }
          ],
          "table": [
           {
            "cells": {
             "fill": {
              "color": "#EBF0F8"
             },
             "line": {
              "color": "white"
             }
            },
            "header": {
             "fill": {
              "color": "#C8D4E3"
             },
             "line": {
              "color": "white"
             }
            },
            "type": "table"
           }
          ]
         },
         "layout": {
          "annotationdefaults": {
           "arrowcolor": "#2a3f5f",
           "arrowhead": 0,
           "arrowwidth": 1
          },
          "autotypenumbers": "strict",
          "coloraxis": {
           "colorbar": {
            "outlinewidth": 0,
            "ticks": ""
           }
          },
          "colorscale": {
           "diverging": [
            [
             0,
             "#8e0152"
            ],
            [
             0.1,
             "#c51b7d"
            ],
            [
             0.2,
             "#de77ae"
            ],
            [
             0.3,
             "#f1b6da"
            ],
            [
             0.4,
             "#fde0ef"
            ],
            [
             0.5,
             "#f7f7f7"
            ],
            [
             0.6,
             "#e6f5d0"
            ],
            [
             0.7,
             "#b8e186"
            ],
            [
             0.8,
             "#7fbc41"
            ],
            [
             0.9,
             "#4d9221"
            ],
            [
             1,
             "#276419"
            ]
           ],
           "sequential": [
            [
             0,
             "#0d0887"
            ],
            [
             0.1111111111111111,
             "#46039f"
            ],
            [
             0.2222222222222222,
             "#7201a8"
            ],
            [
             0.3333333333333333,
             "#9c179e"
            ],
            [
             0.4444444444444444,
             "#bd3786"
            ],
            [
             0.5555555555555556,
             "#d8576b"
            ],
            [
             0.6666666666666666,
             "#ed7953"
            ],
            [
             0.7777777777777778,
             "#fb9f3a"
            ],
            [
             0.8888888888888888,
             "#fdca26"
            ],
            [
             1,
             "#f0f921"
            ]
           ],
           "sequentialminus": [
            [
             0,
             "#0d0887"
            ],
            [
             0.1111111111111111,
             "#46039f"
            ],
            [
             0.2222222222222222,
             "#7201a8"
            ],
            [
             0.3333333333333333,
             "#9c179e"
            ],
            [
             0.4444444444444444,
             "#bd3786"
            ],
            [
             0.5555555555555556,
             "#d8576b"
            ],
            [
             0.6666666666666666,
             "#ed7953"
            ],
            [
             0.7777777777777778,
             "#fb9f3a"
            ],
            [
             0.8888888888888888,
             "#fdca26"
            ],
            [
             1,
             "#f0f921"
            ]
           ]
          },
          "colorway": [
           "#636efa",
           "#EF553B",
           "#00cc96",
           "#ab63fa",
           "#FFA15A",
           "#19d3f3",
           "#FF6692",
           "#B6E880",
           "#FF97FF",
           "#FECB52"
          ],
          "font": {
           "color": "#2a3f5f"
          },
          "geo": {
           "bgcolor": "white",
           "lakecolor": "white",
           "landcolor": "#E5ECF6",
           "showlakes": true,
           "showland": true,
           "subunitcolor": "white"
          },
          "hoverlabel": {
           "align": "left"
          },
          "hovermode": "closest",
          "mapbox": {
           "style": "light"
          },
          "paper_bgcolor": "white",
          "plot_bgcolor": "#E5ECF6",
          "polar": {
           "angularaxis": {
            "gridcolor": "white",
            "linecolor": "white",
            "ticks": ""
           },
           "bgcolor": "#E5ECF6",
           "radialaxis": {
            "gridcolor": "white",
            "linecolor": "white",
            "ticks": ""
           }
          },
          "scene": {
           "xaxis": {
            "backgroundcolor": "#E5ECF6",
            "gridcolor": "white",
            "gridwidth": 2,
            "linecolor": "white",
            "showbackground": true,
            "ticks": "",
            "zerolinecolor": "white"
           },
           "yaxis": {
            "backgroundcolor": "#E5ECF6",
            "gridcolor": "white",
            "gridwidth": 2,
            "linecolor": "white",
            "showbackground": true,
            "ticks": "",
            "zerolinecolor": "white"
           },
           "zaxis": {
            "backgroundcolor": "#E5ECF6",
            "gridcolor": "white",
            "gridwidth": 2,
            "linecolor": "white",
            "showbackground": true,
            "ticks": "",
            "zerolinecolor": "white"
           }
          },
          "shapedefaults": {
           "line": {
            "color": "#2a3f5f"
           }
          },
          "ternary": {
           "aaxis": {
            "gridcolor": "white",
            "linecolor": "white",
            "ticks": ""
           },
           "baxis": {
            "gridcolor": "white",
            "linecolor": "white",
            "ticks": ""
           },
           "bgcolor": "#E5ECF6",
           "caxis": {
            "gridcolor": "white",
            "linecolor": "white",
            "ticks": ""
           }
          },
          "title": {
           "x": 0.05
          },
          "xaxis": {
           "automargin": true,
           "gridcolor": "white",
           "linecolor": "white",
           "ticks": "",
           "title": {
            "standoff": 15
           },
           "zerolinecolor": "white",
           "zerolinewidth": 2
          },
          "yaxis": {
           "automargin": true,
           "gridcolor": "white",
           "linecolor": "white",
           "ticks": "",
           "title": {
            "standoff": 15
           },
           "zerolinecolor": "white",
           "zerolinewidth": 2
          }
         }
        },
        "title": {
         "text": "podil muzu a zen cizincu v populaci"
        }
       }
      }
     },
     "metadata": {},
     "output_type": "display_data"
    }
   ],
   "source": [
    "pie = px.pie(m_and_w_counts, values='pocet', names=\"pohlavi\", color='pohlavi', hole=0.4,\n",
    "             color_discrete_map={'nezname' : 'lightgrey',\n",
    "                                 'muz' : 'royalblue',\n",
    "                                 'zena' : 'red'})\n",
    "pie = pie.update_layout(\n",
    "    annotations=[dict(text=f'celkem: {total}', x=0.5, y=0.5, font_size=16, showarrow=False)],\n",
    "    title=\"podil muzu a zen cizincu v populaci\",\n",
    "    legend_title=\"Popis legendy\"\n",
    ")\n",
    "pie.show()\n"
   ]
  },
  {
   "cell_type": "code",
   "execution_count": 64,
   "id": "2428bb4f",
   "metadata": {},
   "outputs": [],
   "source": [
    "import seaborn as sns"
   ]
  },
  {
   "cell_type": "code",
   "execution_count": 42,
   "id": "90371b98",
   "metadata": {},
   "outputs": [
    {
     "name": "stdout",
     "output_type": "stream",
     "text": [
      "[nan]\n"
     ]
    }
   ],
   "source": [
    "print(data_final['vek'].unique())"
   ]
  },
  {
   "cell_type": "markdown",
   "id": "cca31f04",
   "metadata": {},
   "source": [
    "#final_graph_simple (soucet cizincu zijicich v krajich)"
   ]
  },
  {
   "cell_type": "code",
   "execution_count": null,
   "id": "216da42c",
   "metadata": {},
   "outputs": [
    {
     "data": {
      "application/vnd.plotly.v1+json": {
       "config": {
        "plotlyServerURL": "https://plot.ly"
       },
       "data": [
        {
         "bingroup": "x",
         "histfunc": "sum",
         "hovertemplate": "kraj=%{x}<br>sum of pocet=%{y}<extra></extra>",
         "legendgroup": "",
         "marker": {
          "color": "#636efa",
          "pattern": {
           "shape": ""
          }
         },
         "name": "",
         "orientation": "v",
         "showlegend": false,
         "type": "histogram",
         "x": [
          "Hlavní město Praha",
          "Hlavní město Praha",
          "Hlavní město Praha",
          "Hlavní město Praha",
          "Hlavní město Praha",
          "Hlavní město Praha",
          "Hlavní město Praha",
          "Hlavní město Praha",
          "Hlavní město Praha",
          "Hlavní město Praha",
          "Hlavní město Praha",
          "Hlavní město Praha",
          "Hlavní město Praha",
          "Hlavní město Praha",
          "Hlavní město Praha",
          "Hlavní město Praha",
          "Hlavní město Praha",
          "Hlavní město Praha",
          "Hlavní město Praha",
          "Hlavní město Praha",
          "Hlavní město Praha",
          "Hlavní město Praha",
          "Hlavní město Praha",
          "Hlavní město Praha",
          "Hlavní město Praha",
          "Hlavní město Praha",
          "Hlavní město Praha",
          "Hlavní město Praha",
          "Hlavní město Praha",
          "Hlavní město Praha",
          "Hlavní město Praha",
          "Hlavní město Praha",
          "Hlavní město Praha",
          "Hlavní město Praha",
          "Hlavní město Praha",
          "Hlavní město Praha",
          "Hlavní město Praha",
          "Hlavní město Praha",
          "Hlavní město Praha",
          "Hlavní město Praha",
          "Hlavní město Praha",
          "Hlavní město Praha",
          "Hlavní město Praha",
          "Hlavní město Praha",
          "Hlavní město Praha",
          "Hlavní město Praha",
          "Hlavní město Praha",
          "Hlavní město Praha",
          "Hlavní město Praha",
          "Hlavní město Praha",
          "Hlavní město Praha",
          "Hlavní město Praha",
          "Hlavní město Praha",
          "Hlavní město Praha",
          "Hlavní město Praha",
          "Hlavní město Praha",
          "Hlavní město Praha",
          "Hlavní město Praha",
          "Hlavní město Praha",
          "Hlavní město Praha",
          "Hlavní město Praha",
          "Hlavní město Praha",
          "Hlavní město Praha",
          "Hlavní město Praha",
          "Hlavní město Praha",
          "Hlavní město Praha",
          "Hlavní město Praha",
          "Hlavní město Praha",
          "Hlavní město Praha",
          "Hlavní město Praha",
          "Hlavní město Praha",
          "Hlavní město Praha",
          "Hlavní město Praha",
          "Hlavní město Praha",
          "Hlavní město Praha",
          "Hlavní město Praha",
          "Hlavní město Praha",
          "Hlavní město Praha",
          "Hlavní město Praha",
          "Hlavní město Praha",
          "Hlavní město Praha",
          "Hlavní město Praha",
          "Hlavní město Praha",
          "Hlavní město Praha",
          "Hlavní město Praha",
          "Hlavní město Praha",
          "Hlavní město Praha",
          "Hlavní město Praha",
          "Hlavní město Praha",
          "Hlavní město Praha",
          "Hlavní město Praha",
          "Hlavní město Praha",
          "Hlavní město Praha",
          "Hlavní město Praha",
          "Hlavní město Praha",
          "Hlavní město Praha",
          "Hlavní město Praha",
          "Hlavní město Praha",
          "Hlavní město Praha",
          "Hlavní město Praha",
          "Hlavní město Praha",
          "Hlavní město Praha",
          "Hlavní město Praha",
          "Hlavní město Praha",
          "Hlavní město Praha",
          "Hlavní město Praha",
          "Hlavní město Praha",
          "Hlavní město Praha",
          "Hlavní město Praha",
          "Hlavní město Praha",
          "Hlavní město Praha",
          "Hlavní město Praha",
          "Hlavní město Praha",
          "Hlavní město Praha",
          "Hlavní město Praha",
          "Hlavní město Praha",
          "Hlavní město Praha",
          "Hlavní město Praha",
          "Hlavní město Praha",
          "Hlavní město Praha",
          "Hlavní město Praha",
          "Hlavní město Praha",
          "Hlavní město Praha",
          "Hlavní město Praha",
          "Hlavní město Praha",
          "Hlavní město Praha",
          "Hlavní město Praha",
          "Hlavní město Praha",
          "Hlavní město Praha",
          "Hlavní město Praha",
          "Hlavní město Praha",
          "Hlavní město Praha",
          "Hlavní město Praha",
          "Hlavní město Praha",
          "Hlavní město Praha",
          "Hlavní město Praha",
          "Hlavní město Praha",
          "Hlavní město Praha",
          "Hlavní město Praha",
          "Hlavní město Praha",
          "Hlavní město Praha",
          "Hlavní město Praha",
          "Hlavní město Praha",
          "Hlavní město Praha",
          "Hlavní město Praha",
          "Hlavní město Praha",
          "Hlavní město Praha",
          "Hlavní město Praha",
          "Hlavní město Praha",
          "Hlavní město Praha",
          "Hlavní město Praha",
          "Hlavní město Praha",
          "Hlavní město Praha",
          "Hlavní město Praha",
          "Hlavní město Praha",
          "Jihomoravský kraj",
          "Jihomoravský kraj",
          "Jihomoravský kraj",
          "Jihomoravský kraj",
          "Jihomoravský kraj",
          "Jihomoravský kraj",
          "Jihomoravský kraj",
          "Jihomoravský kraj",
          "Jihomoravský kraj",
          "Jihomoravský kraj",
          "Jihomoravský kraj",
          "Jihomoravský kraj",
          "Jihomoravský kraj",
          "Jihomoravský kraj",
          "Jihomoravský kraj",
          "Jihomoravský kraj",
          "Jihomoravský kraj",
          "Jihomoravský kraj",
          "Jihomoravský kraj",
          "Jihomoravský kraj",
          "Jihomoravský kraj",
          "Jihomoravský kraj",
          "Jihomoravský kraj",
          "Jihomoravský kraj",
          "Jihomoravský kraj",
          "Jihomoravský kraj",
          "Jihomoravský kraj",
          "Jihomoravský kraj",
          "Jihomoravský kraj",
          "Jihomoravský kraj",
          "Jihomoravský kraj",
          "Jihomoravský kraj",
          "Jihomoravský kraj",
          "Jihomoravský kraj",
          "Jihomoravský kraj",
          "Jihomoravský kraj",
          "Jihomoravský kraj",
          "Jihomoravský kraj",
          "Jihomoravský kraj",
          "Jihomoravský kraj",
          "Jihomoravský kraj",
          "Jihomoravský kraj",
          "Jihomoravský kraj",
          "Jihomoravský kraj",
          "Jihomoravský kraj",
          "Jihomoravský kraj",
          "Jihomoravský kraj",
          "Jihomoravský kraj",
          "Jihomoravský kraj",
          "Jihomoravský kraj",
          "Jihomoravský kraj",
          "Jihomoravský kraj",
          "Jihomoravský kraj",
          "Jihomoravský kraj",
          "Jihomoravský kraj",
          "Jihomoravský kraj",
          "Jihomoravský kraj",
          "Jihomoravský kraj",
          "Jihomoravský kraj",
          "Jihomoravský kraj",
          "Jihomoravský kraj",
          "Jihomoravský kraj",
          "Jihomoravský kraj",
          "Jihomoravský kraj",
          "Jihomoravský kraj",
          "Jihomoravský kraj",
          "Jihomoravský kraj",
          "Jihomoravský kraj",
          "Jihomoravský kraj",
          "Jihomoravský kraj",
          "Jihomoravský kraj",
          "Jihomoravský kraj",
          "Jihomoravský kraj",
          "Jihomoravský kraj",
          "Jihomoravský kraj",
          "Jihomoravský kraj",
          "Jihomoravský kraj",
          "Jihomoravský kraj",
          "Jihomoravský kraj",
          "Jihomoravský kraj",
          "Jihomoravský kraj",
          "Jihomoravský kraj",
          "Jihomoravský kraj",
          "Jihomoravský kraj",
          "Jihomoravský kraj",
          "Jihomoravský kraj",
          "Jihomoravský kraj",
          "Jihomoravský kraj",
          "Jihomoravský kraj",
          "Jihomoravský kraj",
          "Jihomoravský kraj",
          "Jihomoravský kraj",
          "Jihomoravský kraj",
          "Jihomoravský kraj",
          "Jihomoravský kraj",
          "Jihomoravský kraj",
          "Jihomoravský kraj",
          "Jihomoravský kraj",
          "Jihomoravský kraj",
          "Jihomoravský kraj",
          "Jihomoravský kraj",
          "Jihomoravský kraj",
          "Jihomoravský kraj",
          "Jihomoravský kraj",
          "Jihomoravský kraj",
          "Jihomoravský kraj",
          "Jihomoravský kraj",
          "Jihomoravský kraj",
          "Jihomoravský kraj",
          "Jihomoravský kraj",
          "Jihomoravský kraj",
          "Jihomoravský kraj",
          "Jihomoravský kraj",
          "Jihomoravský kraj",
          "Jihomoravský kraj",
          "Jihomoravský kraj",
          "Jihomoravský kraj",
          "Jihomoravský kraj",
          "Jihomoravský kraj",
          "Jihomoravský kraj",
          "Jihomoravský kraj",
          "Jihomoravský kraj",
          "Jihomoravský kraj",
          "Jihomoravský kraj",
          "Jihomoravský kraj",
          "Jihočeský kraj",
          "Jihočeský kraj",
          "Jihočeský kraj",
          "Jihočeský kraj",
          "Jihočeský kraj",
          "Jihočeský kraj",
          "Jihočeský kraj",
          "Jihočeský kraj",
          "Jihočeský kraj",
          "Jihočeský kraj",
          "Jihočeský kraj",
          "Jihočeský kraj",
          "Jihočeský kraj",
          "Jihočeský kraj",
          "Jihočeský kraj",
          "Jihočeský kraj",
          "Jihočeský kraj",
          "Jihočeský kraj",
          "Jihočeský kraj",
          "Jihočeský kraj",
          "Jihočeský kraj",
          "Jihočeský kraj",
          "Jihočeský kraj",
          "Jihočeský kraj",
          "Jihočeský kraj",
          "Jihočeský kraj",
          "Jihočeský kraj",
          "Jihočeský kraj",
          "Jihočeský kraj",
          "Jihočeský kraj",
          "Jihočeský kraj",
          "Jihočeský kraj",
          "Jihočeský kraj",
          "Jihočeský kraj",
          "Jihočeský kraj",
          "Jihočeský kraj",
          "Jihočeský kraj",
          "Jihočeský kraj",
          "Jihočeský kraj",
          "Jihočeský kraj",
          "Jihočeský kraj",
          "Jihočeský kraj",
          "Jihočeský kraj",
          "Jihočeský kraj",
          "Jihočeský kraj",
          "Jihočeský kraj",
          "Jihočeský kraj",
          "Jihočeský kraj",
          "Jihočeský kraj",
          "Jihočeský kraj",
          "Jihočeský kraj",
          "Jihočeský kraj",
          "Jihočeský kraj",
          "Jihočeský kraj",
          "Jihočeský kraj",
          "Jihočeský kraj",
          "Jihočeský kraj",
          "Jihočeský kraj",
          "Jihočeský kraj",
          "Jihočeský kraj",
          "Jihočeský kraj",
          "Jihočeský kraj",
          "Jihočeský kraj",
          "Jihočeský kraj",
          "Jihočeský kraj",
          "Jihočeský kraj",
          "Jihočeský kraj",
          "Jihočeský kraj",
          "Jihočeský kraj",
          "Jihočeský kraj",
          "Jihočeský kraj",
          "Jihočeský kraj",
          "Jihočeský kraj",
          "Jihočeský kraj",
          "Jihočeský kraj",
          "Jihočeský kraj",
          "Jihočeský kraj",
          "Jihočeský kraj",
          "Jihočeský kraj",
          "Jihočeský kraj",
          "Jihočeský kraj",
          "Jihočeský kraj",
          "Jihočeský kraj",
          "Jihočeský kraj",
          "Jihočeský kraj",
          "Jihočeský kraj",
          "Jihočeský kraj",
          "Karlovarský kraj",
          "Karlovarský kraj",
          "Karlovarský kraj",
          "Karlovarský kraj",
          "Karlovarský kraj",
          "Karlovarský kraj",
          "Karlovarský kraj",
          "Karlovarský kraj",
          "Karlovarský kraj",
          "Karlovarský kraj",
          "Karlovarský kraj",
          "Karlovarský kraj",
          "Karlovarský kraj",
          "Karlovarský kraj",
          "Karlovarský kraj",
          "Karlovarský kraj",
          "Karlovarský kraj",
          "Karlovarský kraj",
          "Karlovarský kraj",
          "Karlovarský kraj",
          "Karlovarský kraj",
          "Karlovarský kraj",
          "Karlovarský kraj",
          "Karlovarský kraj",
          "Karlovarský kraj",
          "Karlovarský kraj",
          "Karlovarský kraj",
          "Karlovarský kraj",
          "Karlovarský kraj",
          "Karlovarský kraj",
          "Karlovarský kraj",
          "Karlovarský kraj",
          "Karlovarský kraj",
          "Karlovarský kraj",
          "Karlovarský kraj",
          "Karlovarský kraj",
          "Karlovarský kraj",
          "Karlovarský kraj",
          "Karlovarský kraj",
          "Karlovarský kraj",
          "Karlovarský kraj",
          "Karlovarský kraj",
          "Karlovarský kraj",
          "Karlovarský kraj",
          "Karlovarský kraj",
          "Karlovarský kraj",
          "Karlovarský kraj",
          "Karlovarský kraj",
          "Karlovarský kraj",
          "Karlovarský kraj",
          "Karlovarský kraj",
          "Karlovarský kraj",
          "Karlovarský kraj",
          "Karlovarský kraj",
          "Karlovarský kraj",
          "Karlovarský kraj",
          "Karlovarský kraj",
          "Karlovarský kraj",
          "Karlovarský kraj",
          "Karlovarský kraj",
          "Karlovarský kraj",
          "Karlovarský kraj",
          "Karlovarský kraj",
          "Karlovarský kraj",
          "Karlovarský kraj",
          "Karlovarský kraj",
          "Karlovarský kraj",
          "Karlovarský kraj",
          "Karlovarský kraj",
          "Karlovarský kraj",
          "Karlovarský kraj",
          "Karlovarský kraj",
          "Karlovarský kraj",
          "Karlovarský kraj",
          "Karlovarský kraj",
          "Karlovarský kraj",
          "Karlovarský kraj",
          "Karlovarský kraj",
          "Karlovarský kraj",
          "Karlovarský kraj",
          "Karlovarský kraj",
          "Karlovarský kraj",
          "Karlovarský kraj",
          "Karlovarský kraj",
          "Karlovarský kraj",
          "Karlovarský kraj",
          "Karlovarský kraj",
          "Karlovarský kraj",
          "Karlovarský kraj",
          "Karlovarský kraj",
          "Karlovarský kraj",
          "Karlovarský kraj",
          "Kraj Vysočina",
          "Kraj Vysočina",
          "Kraj Vysočina",
          "Kraj Vysočina",
          "Kraj Vysočina",
          "Kraj Vysočina",
          "Kraj Vysočina",
          "Kraj Vysočina",
          "Kraj Vysočina",
          "Kraj Vysočina",
          "Kraj Vysočina",
          "Kraj Vysočina",
          "Kraj Vysočina",
          "Kraj Vysočina",
          "Kraj Vysočina",
          "Kraj Vysočina",
          "Kraj Vysočina",
          "Kraj Vysočina",
          "Kraj Vysočina",
          "Kraj Vysočina",
          "Kraj Vysočina",
          "Kraj Vysočina",
          "Kraj Vysočina",
          "Kraj Vysočina",
          "Kraj Vysočina",
          "Kraj Vysočina",
          "Kraj Vysočina",
          "Kraj Vysočina",
          "Kraj Vysočina",
          "Kraj Vysočina",
          "Kraj Vysočina",
          "Kraj Vysočina",
          "Kraj Vysočina",
          "Kraj Vysočina",
          "Kraj Vysočina",
          "Kraj Vysočina",
          "Kraj Vysočina",
          "Kraj Vysočina",
          "Kraj Vysočina",
          "Kraj Vysočina",
          "Kraj Vysočina",
          "Kraj Vysočina",
          "Kraj Vysočina",
          "Kraj Vysočina",
          "Kraj Vysočina",
          "Kraj Vysočina",
          "Kraj Vysočina",
          "Kraj Vysočina",
          "Kraj Vysočina",
          "Kraj Vysočina",
          "Kraj Vysočina",
          "Kraj Vysočina",
          "Kraj Vysočina",
          "Kraj Vysočina",
          "Kraj Vysočina",
          "Kraj Vysočina",
          "Kraj Vysočina",
          "Kraj Vysočina",
          "Kraj Vysočina",
          "Kraj Vysočina",
          "Kraj Vysočina",
          "Kraj Vysočina",
          "Královéhradecký kraj",
          "Královéhradecký kraj",
          "Královéhradecký kraj",
          "Královéhradecký kraj",
          "Královéhradecký kraj",
          "Královéhradecký kraj",
          "Královéhradecký kraj",
          "Královéhradecký kraj",
          "Královéhradecký kraj",
          "Královéhradecký kraj",
          "Královéhradecký kraj",
          "Královéhradecký kraj",
          "Královéhradecký kraj",
          "Královéhradecký kraj",
          "Královéhradecký kraj",
          "Královéhradecký kraj",
          "Královéhradecký kraj",
          "Královéhradecký kraj",
          "Královéhradecký kraj",
          "Královéhradecký kraj",
          "Královéhradecký kraj",
          "Královéhradecký kraj",
          "Královéhradecký kraj",
          "Královéhradecký kraj",
          "Královéhradecký kraj",
          "Královéhradecký kraj",
          "Královéhradecký kraj",
          "Královéhradecký kraj",
          "Královéhradecký kraj",
          "Královéhradecký kraj",
          "Královéhradecký kraj",
          "Královéhradecký kraj",
          "Královéhradecký kraj",
          "Královéhradecký kraj",
          "Královéhradecký kraj",
          "Královéhradecký kraj",
          "Královéhradecký kraj",
          "Královéhradecký kraj",
          "Královéhradecký kraj",
          "Královéhradecký kraj",
          "Královéhradecký kraj",
          "Královéhradecký kraj",
          "Královéhradecký kraj",
          "Královéhradecký kraj",
          "Královéhradecký kraj",
          "Královéhradecký kraj",
          "Královéhradecký kraj",
          "Královéhradecký kraj",
          "Královéhradecký kraj",
          "Královéhradecký kraj",
          "Královéhradecký kraj",
          "Královéhradecký kraj",
          "Královéhradecký kraj",
          "Královéhradecký kraj",
          "Královéhradecký kraj",
          "Královéhradecký kraj",
          "Královéhradecký kraj",
          "Královéhradecký kraj",
          "Královéhradecký kraj",
          "Královéhradecký kraj",
          "Královéhradecký kraj",
          "Královéhradecký kraj",
          "Královéhradecký kraj",
          "Královéhradecký kraj",
          "Královéhradecký kraj",
          "Královéhradecký kraj",
          "Královéhradecký kraj",
          "Královéhradecký kraj",
          "Královéhradecký kraj",
          "Královéhradecký kraj",
          "Královéhradecký kraj",
          "Královéhradecký kraj",
          "Královéhradecký kraj",
          "Královéhradecký kraj",
          "Královéhradecký kraj",
          "Královéhradecký kraj",
          "Královéhradecký kraj",
          "Královéhradecký kraj",
          "Královéhradecký kraj",
          "Královéhradecký kraj",
          "Královéhradecký kraj",
          "Královéhradecký kraj",
          "Královéhradecký kraj",
          "Královéhradecký kraj",
          "Královéhradecký kraj",
          "Královéhradecký kraj",
          "Královéhradecký kraj",
          "Královéhradecký kraj",
          "Královéhradecký kraj",
          "Královéhradecký kraj",
          "Královéhradecký kraj",
          "Královéhradecký kraj",
          "Královéhradecký kraj",
          "Královéhradecký kraj",
          "Královéhradecký kraj",
          "Královéhradecký kraj",
          "Královéhradecký kraj",
          "Královéhradecký kraj",
          "Královéhradecký kraj",
          "Liberecký kraj",
          "Liberecký kraj",
          "Liberecký kraj",
          "Liberecký kraj",
          "Liberecký kraj",
          "Liberecký kraj",
          "Liberecký kraj",
          "Liberecký kraj",
          "Liberecký kraj",
          "Liberecký kraj",
          "Liberecký kraj",
          "Liberecký kraj",
          "Liberecký kraj",
          "Liberecký kraj",
          "Liberecký kraj",
          "Liberecký kraj",
          "Liberecký kraj",
          "Liberecký kraj",
          "Liberecký kraj",
          "Liberecký kraj",
          "Liberecký kraj",
          "Liberecký kraj",
          "Liberecký kraj",
          "Liberecký kraj",
          "Liberecký kraj",
          "Liberecký kraj",
          "Liberecký kraj",
          "Liberecký kraj",
          "Liberecký kraj",
          "Liberecký kraj",
          "Liberecký kraj",
          "Liberecký kraj",
          "Liberecký kraj",
          "Liberecký kraj",
          "Liberecký kraj",
          "Liberecký kraj",
          "Liberecký kraj",
          "Liberecký kraj",
          "Liberecký kraj",
          "Liberecký kraj",
          "Liberecký kraj",
          "Liberecký kraj",
          "Liberecký kraj",
          "Liberecký kraj",
          "Liberecký kraj",
          "Liberecký kraj",
          "Liberecký kraj",
          "Liberecký kraj",
          "Liberecký kraj",
          "Liberecký kraj",
          "Liberecký kraj",
          "Liberecký kraj",
          "Liberecký kraj",
          "Liberecký kraj",
          "Liberecký kraj",
          "Liberecký kraj",
          "Liberecký kraj",
          "Liberecký kraj",
          "Liberecký kraj",
          "Liberecký kraj",
          "Liberecký kraj",
          "Liberecký kraj",
          "Liberecký kraj",
          "Liberecký kraj",
          "Liberecký kraj",
          "Liberecký kraj",
          "Liberecký kraj",
          "Liberecký kraj",
          "Liberecký kraj",
          "Liberecký kraj",
          "Liberecký kraj",
          "Liberecký kraj",
          "Liberecký kraj",
          "Liberecký kraj",
          "Liberecký kraj",
          "Liberecký kraj",
          "Liberecký kraj",
          "Liberecký kraj",
          "Liberecký kraj",
          "Liberecký kraj",
          "Liberecký kraj",
          "Liberecký kraj",
          "Liberecký kraj",
          "Liberecký kraj",
          "Liberecký kraj",
          "Liberecký kraj",
          "Liberecký kraj",
          "Liberecký kraj",
          "Liberecký kraj",
          "Liberecký kraj",
          "Liberecký kraj",
          "Liberecký kraj",
          "Liberecký kraj",
          "Liberecký kraj",
          "Liberecký kraj",
          "Liberecký kraj",
          "Liberecký kraj",
          "Moravskoslezský kraj",
          "Moravskoslezský kraj",
          "Moravskoslezský kraj",
          "Moravskoslezský kraj",
          "Moravskoslezský kraj",
          "Moravskoslezský kraj",
          "Moravskoslezský kraj",
          "Moravskoslezský kraj",
          "Moravskoslezský kraj",
          "Moravskoslezský kraj",
          "Moravskoslezský kraj",
          "Moravskoslezský kraj",
          "Moravskoslezský kraj",
          "Moravskoslezský kraj",
          "Moravskoslezský kraj",
          "Moravskoslezský kraj",
          "Moravskoslezský kraj",
          "Moravskoslezský kraj",
          "Moravskoslezský kraj",
          "Moravskoslezský kraj",
          "Moravskoslezský kraj",
          "Moravskoslezský kraj",
          "Moravskoslezský kraj",
          "Moravskoslezský kraj",
          "Moravskoslezský kraj",
          "Moravskoslezský kraj",
          "Moravskoslezský kraj",
          "Moravskoslezský kraj",
          "Moravskoslezský kraj",
          "Moravskoslezský kraj",
          "Moravskoslezský kraj",
          "Moravskoslezský kraj",
          "Moravskoslezský kraj",
          "Moravskoslezský kraj",
          "Moravskoslezský kraj",
          "Moravskoslezský kraj",
          "Moravskoslezský kraj",
          "Moravskoslezský kraj",
          "Moravskoslezský kraj",
          "Moravskoslezský kraj",
          "Moravskoslezský kraj",
          "Moravskoslezský kraj",
          "Moravskoslezský kraj",
          "Moravskoslezský kraj",
          "Moravskoslezský kraj",
          "Moravskoslezský kraj",
          "Moravskoslezský kraj",
          "Moravskoslezský kraj",
          "Moravskoslezský kraj",
          "Moravskoslezský kraj",
          "Moravskoslezský kraj",
          "Moravskoslezský kraj",
          "Moravskoslezský kraj",
          "Moravskoslezský kraj",
          "Moravskoslezský kraj",
          "Moravskoslezský kraj",
          "Moravskoslezský kraj",
          "Moravskoslezský kraj",
          "Moravskoslezský kraj",
          "Moravskoslezský kraj",
          "Moravskoslezský kraj",
          "Moravskoslezský kraj",
          "Moravskoslezský kraj",
          "Moravskoslezský kraj",
          "Moravskoslezský kraj",
          "Moravskoslezský kraj",
          "Moravskoslezský kraj",
          "Moravskoslezský kraj",
          "Moravskoslezský kraj",
          "Moravskoslezský kraj",
          "Moravskoslezský kraj",
          "Moravskoslezský kraj",
          "Moravskoslezský kraj",
          "Moravskoslezský kraj",
          "Moravskoslezský kraj",
          "Moravskoslezský kraj",
          "Moravskoslezský kraj",
          "Moravskoslezský kraj",
          "Moravskoslezský kraj",
          "Moravskoslezský kraj",
          "Moravskoslezský kraj",
          "Moravskoslezský kraj",
          "Moravskoslezský kraj",
          "Moravskoslezský kraj",
          "Moravskoslezský kraj",
          "Moravskoslezský kraj",
          "Moravskoslezský kraj",
          "Moravskoslezský kraj",
          "Moravskoslezský kraj",
          "Moravskoslezský kraj",
          "Moravskoslezský kraj",
          "Moravskoslezský kraj",
          "Moravskoslezský kraj",
          "Moravskoslezský kraj",
          "Moravskoslezský kraj",
          "Moravskoslezský kraj",
          "Moravskoslezský kraj",
          "Moravskoslezský kraj",
          "Moravskoslezský kraj",
          "Moravskoslezský kraj",
          "Olomoucký kraj",
          "Olomoucký kraj",
          "Olomoucký kraj",
          "Olomoucký kraj",
          "Olomoucký kraj",
          "Olomoucký kraj",
          "Olomoucký kraj",
          "Olomoucký kraj",
          "Olomoucký kraj",
          "Olomoucký kraj",
          "Olomoucký kraj",
          "Olomoucký kraj",
          "Olomoucký kraj",
          "Olomoucký kraj",
          "Olomoucký kraj",
          "Olomoucký kraj",
          "Olomoucký kraj",
          "Olomoucký kraj",
          "Olomoucký kraj",
          "Olomoucký kraj",
          "Olomoucký kraj",
          "Olomoucký kraj",
          "Olomoucký kraj",
          "Olomoucký kraj",
          "Olomoucký kraj",
          "Olomoucký kraj",
          "Olomoucký kraj",
          "Olomoucký kraj",
          "Olomoucký kraj",
          "Olomoucký kraj",
          "Olomoucký kraj",
          "Olomoucký kraj",
          "Olomoucký kraj",
          "Olomoucký kraj",
          "Olomoucký kraj",
          "Olomoucký kraj",
          "Olomoucký kraj",
          "Olomoucký kraj",
          "Olomoucký kraj",
          "Olomoucký kraj",
          "Olomoucký kraj",
          "Olomoucký kraj",
          "Olomoucký kraj",
          "Olomoucký kraj",
          "Olomoucký kraj",
          "Olomoucký kraj",
          "Olomoucký kraj",
          "Olomoucký kraj",
          "Olomoucký kraj",
          "Olomoucký kraj",
          "Olomoucký kraj",
          "Olomoucký kraj",
          "Olomoucký kraj",
          "Olomoucký kraj",
          "Olomoucký kraj",
          "Olomoucký kraj",
          "Olomoucký kraj",
          "Olomoucký kraj",
          "Olomoucký kraj",
          "Olomoucký kraj",
          "Olomoucký kraj",
          "Olomoucký kraj",
          "Olomoucký kraj",
          "Olomoucký kraj",
          "Olomoucký kraj",
          "Olomoucký kraj",
          "Olomoucký kraj",
          "Olomoucký kraj",
          "Olomoucký kraj",
          "Olomoucký kraj",
          "Olomoucký kraj",
          "Olomoucký kraj",
          "Olomoucký kraj",
          "Olomoucký kraj",
          "Olomoucký kraj",
          "Olomoucký kraj",
          "Olomoucký kraj",
          "Olomoucký kraj",
          "Olomoucký kraj",
          "Olomoucký kraj",
          "Olomoucký kraj",
          "Olomoucký kraj",
          "Olomoucký kraj",
          "Olomoucký kraj",
          "Olomoucký kraj",
          "Olomoucký kraj",
          "Olomoucký kraj",
          "Olomoucký kraj",
          "Olomoucký kraj",
          "Olomoucký kraj",
          "Olomoucký kraj",
          "Olomoucký kraj",
          "Pardubický kraj",
          "Pardubický kraj",
          "Pardubický kraj",
          "Pardubický kraj",
          "Pardubický kraj",
          "Pardubický kraj",
          "Pardubický kraj",
          "Pardubický kraj",
          "Pardubický kraj",
          "Pardubický kraj",
          "Pardubický kraj",
          "Pardubický kraj",
          "Pardubický kraj",
          "Pardubický kraj",
          "Pardubický kraj",
          "Pardubický kraj",
          "Pardubický kraj",
          "Pardubický kraj",
          "Pardubický kraj",
          "Pardubický kraj",
          "Pardubický kraj",
          "Pardubický kraj",
          "Pardubický kraj",
          "Pardubický kraj",
          "Pardubický kraj",
          "Pardubický kraj",
          "Pardubický kraj",
          "Pardubický kraj",
          "Pardubický kraj",
          "Pardubický kraj",
          "Pardubický kraj",
          "Pardubický kraj",
          "Pardubický kraj",
          "Pardubický kraj",
          "Pardubický kraj",
          "Pardubický kraj",
          "Pardubický kraj",
          "Pardubický kraj",
          "Pardubický kraj",
          "Pardubický kraj",
          "Pardubický kraj",
          "Pardubický kraj",
          "Pardubický kraj",
          "Pardubický kraj",
          "Pardubický kraj",
          "Pardubický kraj",
          "Pardubický kraj",
          "Pardubický kraj",
          "Pardubický kraj",
          "Pardubický kraj",
          "Pardubický kraj",
          "Pardubický kraj",
          "Pardubický kraj",
          "Pardubický kraj",
          "Pardubický kraj",
          "Pardubický kraj",
          "Pardubický kraj",
          "Pardubický kraj",
          "Pardubický kraj",
          "Pardubický kraj",
          "Pardubický kraj",
          "Pardubický kraj",
          "Pardubický kraj",
          "Pardubický kraj",
          "Pardubický kraj",
          "Pardubický kraj",
          "Pardubický kraj",
          "Pardubický kraj",
          "Pardubický kraj",
          "Pardubický kraj",
          "Pardubický kraj",
          "Pardubický kraj",
          "Pardubický kraj",
          "Pardubický kraj",
          "Pardubický kraj",
          "Pardubický kraj",
          "Pardubický kraj",
          "Pardubický kraj",
          "Pardubický kraj",
          "Pardubický kraj",
          "Plzeňský kraj",
          "Plzeňský kraj",
          "Plzeňský kraj",
          "Plzeňský kraj",
          "Plzeňský kraj",
          "Plzeňský kraj",
          "Plzeňský kraj",
          "Plzeňský kraj",
          "Plzeňský kraj",
          "Plzeňský kraj",
          "Plzeňský kraj",
          "Plzeňský kraj",
          "Plzeňský kraj",
          "Plzeňský kraj",
          "Plzeňský kraj",
          "Plzeňský kraj",
          "Plzeňský kraj",
          "Plzeňský kraj",
          "Plzeňský kraj",
          "Plzeňský kraj",
          "Plzeňský kraj",
          "Plzeňský kraj",
          "Plzeňský kraj",
          "Plzeňský kraj",
          "Plzeňský kraj",
          "Plzeňský kraj",
          "Plzeňský kraj",
          "Plzeňský kraj",
          "Plzeňský kraj",
          "Plzeňský kraj",
          "Plzeňský kraj",
          "Plzeňský kraj",
          "Plzeňský kraj",
          "Plzeňský kraj",
          "Plzeňský kraj",
          "Plzeňský kraj",
          "Plzeňský kraj",
          "Plzeňský kraj",
          "Plzeňský kraj",
          "Plzeňský kraj",
          "Plzeňský kraj",
          "Plzeňský kraj",
          "Plzeňský kraj",
          "Plzeňský kraj",
          "Plzeňský kraj",
          "Plzeňský kraj",
          "Plzeňský kraj",
          "Plzeňský kraj",
          "Plzeňský kraj",
          "Plzeňský kraj",
          "Plzeňský kraj",
          "Plzeňský kraj",
          "Plzeňský kraj",
          "Plzeňský kraj",
          "Plzeňský kraj",
          "Plzeňský kraj",
          "Plzeňský kraj",
          "Plzeňský kraj",
          "Plzeňský kraj",
          "Plzeňský kraj",
          "Plzeňský kraj",
          "Plzeňský kraj",
          "Plzeňský kraj",
          "Plzeňský kraj",
          "Plzeňský kraj",
          "Plzeňský kraj",
          "Plzeňský kraj",
          "Plzeňský kraj",
          "Plzeňský kraj",
          "Plzeňský kraj",
          "Plzeňský kraj",
          "Plzeňský kraj",
          "Plzeňský kraj",
          "Plzeňský kraj",
          "Plzeňský kraj",
          "Plzeňský kraj",
          "Plzeňský kraj",
          "Plzeňský kraj",
          "Plzeňský kraj",
          "Plzeňský kraj",
          "Plzeňský kraj",
          "Plzeňský kraj",
          "Plzeňský kraj",
          "Plzeňský kraj",
          "Plzeňský kraj",
          "Plzeňský kraj",
          "Plzeňský kraj",
          "Plzeňský kraj",
          "Plzeňský kraj",
          "Plzeňský kraj",
          "Plzeňský kraj",
          "Plzeňský kraj",
          "Plzeňský kraj",
          "Plzeňský kraj",
          "Plzeňský kraj",
          "Plzeňský kraj",
          "Plzeňský kraj",
          "Plzeňský kraj",
          "Plzeňský kraj",
          "Plzeňský kraj",
          "Plzeňský kraj",
          "Plzeňský kraj",
          "Středočeský kraj",
          "Středočeský kraj",
          "Středočeský kraj",
          "Středočeský kraj",
          "Středočeský kraj",
          "Středočeský kraj",
          "Středočeský kraj",
          "Středočeský kraj",
          "Středočeský kraj",
          "Středočeský kraj",
          "Středočeský kraj",
          "Středočeský kraj",
          "Středočeský kraj",
          "Středočeský kraj",
          "Středočeský kraj",
          "Středočeský kraj",
          "Středočeský kraj",
          "Středočeský kraj",
          "Středočeský kraj",
          "Středočeský kraj",
          "Středočeský kraj",
          "Středočeský kraj",
          "Středočeský kraj",
          "Středočeský kraj",
          "Středočeský kraj",
          "Středočeský kraj",
          "Středočeský kraj",
          "Středočeský kraj",
          "Středočeský kraj",
          "Středočeský kraj",
          "Středočeský kraj",
          "Středočeský kraj",
          "Středočeský kraj",
          "Středočeský kraj",
          "Středočeský kraj",
          "Středočeský kraj",
          "Středočeský kraj",
          "Středočeský kraj",
          "Středočeský kraj",
          "Středočeský kraj",
          "Středočeský kraj",
          "Středočeský kraj",
          "Středočeský kraj",
          "Středočeský kraj",
          "Středočeský kraj",
          "Středočeský kraj",
          "Středočeský kraj",
          "Středočeský kraj",
          "Středočeský kraj",
          "Středočeský kraj",
          "Středočeský kraj",
          "Středočeský kraj",
          "Středočeský kraj",
          "Středočeský kraj",
          "Středočeský kraj",
          "Středočeský kraj",
          "Středočeský kraj",
          "Středočeský kraj",
          "Středočeský kraj",
          "Středočeský kraj",
          "Středočeský kraj",
          "Středočeský kraj",
          "Středočeský kraj",
          "Středočeský kraj",
          "Středočeský kraj",
          "Středočeský kraj",
          "Středočeský kraj",
          "Středočeský kraj",
          "Středočeský kraj",
          "Středočeský kraj",
          "Středočeský kraj",
          "Středočeský kraj",
          "Středočeský kraj",
          "Středočeský kraj",
          "Středočeský kraj",
          "Středočeský kraj",
          "Středočeský kraj",
          "Středočeský kraj",
          "Středočeský kraj",
          "Středočeský kraj",
          "Středočeský kraj",
          "Středočeský kraj",
          "Středočeský kraj",
          "Středočeský kraj",
          "Středočeský kraj",
          "Středočeský kraj",
          "Středočeský kraj",
          "Středočeský kraj",
          "Středočeský kraj",
          "Středočeský kraj",
          "Středočeský kraj",
          "Středočeský kraj",
          "Středočeský kraj",
          "Středočeský kraj",
          "Středočeský kraj",
          "Středočeský kraj",
          "Středočeský kraj",
          "Středočeský kraj",
          "Středočeský kraj",
          "Středočeský kraj",
          "Středočeský kraj",
          "Středočeský kraj",
          "Středočeský kraj",
          "Středočeský kraj",
          "Středočeský kraj",
          "Středočeský kraj",
          "Středočeský kraj",
          "Středočeský kraj",
          "Středočeský kraj",
          "Středočeský kraj",
          "Středočeský kraj",
          "Středočeský kraj",
          "Středočeský kraj",
          "Středočeský kraj",
          "Středočeský kraj",
          "Středočeský kraj",
          "Středočeský kraj",
          "Středočeský kraj",
          "Středočeský kraj",
          "Středočeský kraj",
          "Středočeský kraj",
          "Středočeský kraj",
          "Středočeský kraj",
          "Středočeský kraj",
          "Středočeský kraj",
          "Středočeský kraj",
          "Středočeský kraj",
          "Středočeský kraj",
          "Středočeský kraj",
          "Zlínský kraj",
          "Zlínský kraj",
          "Zlínský kraj",
          "Zlínský kraj",
          "Zlínský kraj",
          "Zlínský kraj",
          "Zlínský kraj",
          "Zlínský kraj",
          "Zlínský kraj",
          "Zlínský kraj",
          "Zlínský kraj",
          "Zlínský kraj",
          "Zlínský kraj",
          "Zlínský kraj",
          "Zlínský kraj",
          "Zlínský kraj",
          "Zlínský kraj",
          "Zlínský kraj",
          "Zlínský kraj",
          "Zlínský kraj",
          "Zlínský kraj",
          "Zlínský kraj",
          "Zlínský kraj",
          "Zlínský kraj",
          "Zlínský kraj",
          "Zlínský kraj",
          "Zlínský kraj",
          "Zlínský kraj",
          "Zlínský kraj",
          "Zlínský kraj",
          "Zlínský kraj",
          "Zlínský kraj",
          "Zlínský kraj",
          "Zlínský kraj",
          "Zlínský kraj",
          "Zlínský kraj",
          "Zlínský kraj",
          "Zlínský kraj",
          "Zlínský kraj",
          "Zlínský kraj",
          "Zlínský kraj",
          "Zlínský kraj",
          "Zlínský kraj",
          "Zlínský kraj",
          "Zlínský kraj",
          "Zlínský kraj",
          "Zlínský kraj",
          "Zlínský kraj",
          "Zlínský kraj",
          "Zlínský kraj",
          "Zlínský kraj",
          "Zlínský kraj",
          "Zlínský kraj",
          "Zlínský kraj",
          "Zlínský kraj",
          "Zlínský kraj",
          "Zlínský kraj",
          "Zlínský kraj",
          "Zlínský kraj",
          "Zlínský kraj",
          "Zlínský kraj",
          "Zlínský kraj",
          "Zlínský kraj",
          "Zlínský kraj",
          "Zlínský kraj",
          "Zlínský kraj",
          "Zlínský kraj",
          "Zlínský kraj",
          "Zlínský kraj",
          "Zlínský kraj",
          "Zlínský kraj",
          "Zlínský kraj",
          "Zlínský kraj",
          "Zlínský kraj",
          "Zlínský kraj",
          "Zlínský kraj",
          "Zlínský kraj",
          "nezjištěno",
          "nezjištěno",
          "nezjištěno",
          "nezjištěno",
          "nezjištěno",
          "nezjištěno",
          "nezjištěno",
          "nezjištěno",
          "nezjištěno",
          "nezjištěno",
          "nezjištěno",
          "nezjištěno",
          "nezjištěno",
          "nezjištěno",
          "nezjištěno",
          "nezjištěno",
          "nezjištěno",
          "nezjištěno",
          "nezjištěno",
          "nezjištěno",
          "nezjištěno",
          "nezjištěno",
          "nezjištěno",
          "nezjištěno",
          "nezjištěno",
          "nezjištěno",
          "nezjištěno",
          "nezjištěno",
          "nezjištěno",
          "nezjištěno",
          "nezjištěno",
          "nezjištěno",
          "nezjištěno",
          "nezjištěno",
          "Ústecký kraj",
          "Ústecký kraj",
          "Ústecký kraj",
          "Ústecký kraj",
          "Ústecký kraj",
          "Ústecký kraj",
          "Ústecký kraj",
          "Ústecký kraj",
          "Ústecký kraj",
          "Ústecký kraj",
          "Ústecký kraj",
          "Ústecký kraj",
          "Ústecký kraj",
          "Ústecký kraj",
          "Ústecký kraj",
          "Ústecký kraj",
          "Ústecký kraj",
          "Ústecký kraj",
          "Ústecký kraj",
          "Ústecký kraj",
          "Ústecký kraj",
          "Ústecký kraj",
          "Ústecký kraj",
          "Ústecký kraj",
          "Ústecký kraj",
          "Ústecký kraj",
          "Ústecký kraj",
          "Ústecký kraj",
          "Ústecký kraj",
          "Ústecký kraj",
          "Ústecký kraj",
          "Ústecký kraj",
          "Ústecký kraj",
          "Ústecký kraj",
          "Ústecký kraj",
          "Ústecký kraj",
          "Ústecký kraj",
          "Ústecký kraj",
          "Ústecký kraj",
          "Ústecký kraj",
          "Ústecký kraj",
          "Ústecký kraj",
          "Ústecký kraj",
          "Ústecký kraj",
          "Ústecký kraj",
          "Ústecký kraj",
          "Ústecký kraj",
          "Ústecký kraj",
          "Ústecký kraj",
          "Ústecký kraj",
          "Ústecký kraj",
          "Ústecký kraj",
          "Ústecký kraj",
          "Ústecký kraj",
          "Ústecký kraj",
          "Ústecký kraj",
          "Ústecký kraj",
          "Ústecký kraj",
          "Ústecký kraj",
          "Ústecký kraj",
          "Ústecký kraj",
          "Ústecký kraj",
          "Ústecký kraj",
          "Ústecký kraj",
          "Ústecký kraj",
          "Ústecký kraj",
          "Ústecký kraj",
          "Ústecký kraj",
          "Ústecký kraj",
          "Ústecký kraj",
          "Ústecký kraj",
          "Ústecký kraj",
          "Ústecký kraj",
          "Ústecký kraj",
          "Ústecký kraj",
          "Ústecký kraj",
          "Ústecký kraj",
          "Ústecký kraj",
          "Ústecký kraj",
          "Ústecký kraj",
          "Ústecký kraj",
          "Ústecký kraj",
          "Ústecký kraj",
          "Ústecký kraj",
          "Ústecký kraj",
          "Ústecký kraj",
          "Ústecký kraj",
          "Ústecký kraj",
          "Ústecký kraj",
          "Ústecký kraj",
          "Ústecký kraj",
          "Ústecký kraj",
          "Ústecký kraj",
          "Ústecký kraj",
          "Ústecký kraj",
          "Ústecký kraj",
          "Ústecký kraj",
          "Ústecký kraj",
          "Ústecký kraj",
          "Ústecký kraj",
          "Ústecký kraj"
         ],
         "xaxis": "x",
         "y": {
          "bdata": "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",
          "dtype": "f8"
         },
         "yaxis": "y"
        }
       ],
       "layout": {
        "barmode": "relative",
        "legend": {
         "tracegroupgap": 0
        },
        "margin": {
         "t": 60
        },
        "template": {
         "data": {
          "bar": [
           {
            "error_x": {
             "color": "#2a3f5f"
            },
            "error_y": {
             "color": "#2a3f5f"
            },
            "marker": {
             "line": {
              "color": "#E5ECF6",
              "width": 0.5
             },
             "pattern": {
              "fillmode": "overlay",
              "size": 10,
              "solidity": 0.2
             }
            },
            "type": "bar"
           }
          ],
          "barpolar": [
           {
            "marker": {
             "line": {
              "color": "#E5ECF6",
              "width": 0.5
             },
             "pattern": {
              "fillmode": "overlay",
              "size": 10,
              "solidity": 0.2
             }
            },
            "type": "barpolar"
           }
          ],
          "carpet": [
           {
            "aaxis": {
             "endlinecolor": "#2a3f5f",
             "gridcolor": "white",
             "linecolor": "white",
             "minorgridcolor": "white",
             "startlinecolor": "#2a3f5f"
            },
            "baxis": {
             "endlinecolor": "#2a3f5f",
             "gridcolor": "white",
             "linecolor": "white",
             "minorgridcolor": "white",
             "startlinecolor": "#2a3f5f"
            },
            "type": "carpet"
           }
          ],
          "choropleth": [
           {
            "colorbar": {
             "outlinewidth": 0,
             "ticks": ""
            },
            "type": "choropleth"
           }
          ],
          "contour": [
           {
            "colorbar": {
             "outlinewidth": 0,
             "ticks": ""
            },
            "colorscale": [
             [
              0,
              "#0d0887"
             ],
             [
              0.1111111111111111,
              "#46039f"
             ],
             [
              0.2222222222222222,
              "#7201a8"
             ],
             [
              0.3333333333333333,
              "#9c179e"
             ],
             [
              0.4444444444444444,
              "#bd3786"
             ],
             [
              0.5555555555555556,
              "#d8576b"
             ],
             [
              0.6666666666666666,
              "#ed7953"
             ],
             [
              0.7777777777777778,
              "#fb9f3a"
             ],
             [
              0.8888888888888888,
              "#fdca26"
             ],
             [
              1,
              "#f0f921"
             ]
            ],
            "type": "contour"
           }
          ],
          "contourcarpet": [
           {
            "colorbar": {
             "outlinewidth": 0,
             "ticks": ""
            },
            "type": "contourcarpet"
           }
          ],
          "heatmap": [
           {
            "colorbar": {
             "outlinewidth": 0,
             "ticks": ""
            },
            "colorscale": [
             [
              0,
              "#0d0887"
             ],
             [
              0.1111111111111111,
              "#46039f"
             ],
             [
              0.2222222222222222,
              "#7201a8"
             ],
             [
              0.3333333333333333,
              "#9c179e"
             ],
             [
              0.4444444444444444,
              "#bd3786"
             ],
             [
              0.5555555555555556,
              "#d8576b"
             ],
             [
              0.6666666666666666,
              "#ed7953"
             ],
             [
              0.7777777777777778,
              "#fb9f3a"
             ],
             [
              0.8888888888888888,
              "#fdca26"
             ],
             [
              1,
              "#f0f921"
             ]
            ],
            "type": "heatmap"
           }
          ],
          "histogram": [
           {
            "marker": {
             "pattern": {
              "fillmode": "overlay",
              "size": 10,
              "solidity": 0.2
             }
            },
            "type": "histogram"
           }
          ],
          "histogram2d": [
           {
            "colorbar": {
             "outlinewidth": 0,
             "ticks": ""
            },
            "colorscale": [
             [
              0,
              "#0d0887"
             ],
             [
              0.1111111111111111,
              "#46039f"
             ],
             [
              0.2222222222222222,
              "#7201a8"
             ],
             [
              0.3333333333333333,
              "#9c179e"
             ],
             [
              0.4444444444444444,
              "#bd3786"
             ],
             [
              0.5555555555555556,
              "#d8576b"
             ],
             [
              0.6666666666666666,
              "#ed7953"
             ],
             [
              0.7777777777777778,
              "#fb9f3a"
             ],
             [
              0.8888888888888888,
              "#fdca26"
             ],
             [
              1,
              "#f0f921"
             ]
            ],
            "type": "histogram2d"
           }
          ],
          "histogram2dcontour": [
           {
            "colorbar": {
             "outlinewidth": 0,
             "ticks": ""
            },
            "colorscale": [
             [
              0,
              "#0d0887"
             ],
             [
              0.1111111111111111,
              "#46039f"
             ],
             [
              0.2222222222222222,
              "#7201a8"
             ],
             [
              0.3333333333333333,
              "#9c179e"
             ],
             [
              0.4444444444444444,
              "#bd3786"
             ],
             [
              0.5555555555555556,
              "#d8576b"
             ],
             [
              0.6666666666666666,
              "#ed7953"
             ],
             [
              0.7777777777777778,
              "#fb9f3a"
             ],
             [
              0.8888888888888888,
              "#fdca26"
             ],
             [
              1,
              "#f0f921"
             ]
            ],
            "type": "histogram2dcontour"
           }
          ],
          "mesh3d": [
           {
            "colorbar": {
             "outlinewidth": 0,
             "ticks": ""
            },
            "type": "mesh3d"
           }
          ],
          "parcoords": [
           {
            "line": {
             "colorbar": {
              "outlinewidth": 0,
              "ticks": ""
             }
            },
            "type": "parcoords"
           }
          ],
          "pie": [
           {
            "automargin": true,
            "type": "pie"
           }
          ],
          "scatter": [
           {
            "fillpattern": {
             "fillmode": "overlay",
             "size": 10,
             "solidity": 0.2
            },
            "type": "scatter"
           }
          ],
          "scatter3d": [
           {
            "line": {
             "colorbar": {
              "outlinewidth": 0,
              "ticks": ""
             }
            },
            "marker": {
             "colorbar": {
              "outlinewidth": 0,
              "ticks": ""
             }
            },
            "type": "scatter3d"
           }
          ],
          "scattercarpet": [
           {
            "marker": {
             "colorbar": {
              "outlinewidth": 0,
              "ticks": ""
             }
            },
            "type": "scattercarpet"
           }
          ],
          "scattergeo": [
           {
            "marker": {
             "colorbar": {
              "outlinewidth": 0,
              "ticks": ""
             }
            },
            "type": "scattergeo"
           }
          ],
          "scattergl": [
           {
            "marker": {
             "colorbar": {
              "outlinewidth": 0,
              "ticks": ""
             }
            },
            "type": "scattergl"
           }
          ],
          "scattermap": [
           {
            "marker": {
             "colorbar": {
              "outlinewidth": 0,
              "ticks": ""
             }
            },
            "type": "scattermap"
           }
          ],
          "scattermapbox": [
           {
            "marker": {
             "colorbar": {
              "outlinewidth": 0,
              "ticks": ""
             }
            },
            "type": "scattermapbox"
           }
          ],
          "scatterpolar": [
           {
            "marker": {
             "colorbar": {
              "outlinewidth": 0,
              "ticks": ""
             }
            },
            "type": "scatterpolar"
           }
          ],
          "scatterpolargl": [
           {
            "marker": {
             "colorbar": {
              "outlinewidth": 0,
              "ticks": ""
             }
            },
            "type": "scatterpolargl"
           }
          ],
          "scatterternary": [
           {
            "marker": {
             "colorbar": {
              "outlinewidth": 0,
              "ticks": ""
             }
            },
            "type": "scatterternary"
           }
          ],
          "surface": [
           {
            "colorbar": {
             "outlinewidth": 0,
             "ticks": ""
            },
            "colorscale": [
             [
              0,
              "#0d0887"
             ],
             [
              0.1111111111111111,
              "#46039f"
             ],
             [
              0.2222222222222222,
              "#7201a8"
             ],
             [
              0.3333333333333333,
              "#9c179e"
             ],
             [
              0.4444444444444444,
              "#bd3786"
             ],
             [
              0.5555555555555556,
              "#d8576b"
             ],
             [
              0.6666666666666666,
              "#ed7953"
             ],
             [
              0.7777777777777778,
              "#fb9f3a"
             ],
             [
              0.8888888888888888,
              "#fdca26"
             ],
             [
              1,
              "#f0f921"
             ]
            ],
            "type": "surface"
           }
          ],
          "table": [
           {
            "cells": {
             "fill": {
              "color": "#EBF0F8"
             },
             "line": {
              "color": "white"
             }
            },
            "header": {
             "fill": {
              "color": "#C8D4E3"
             },
             "line": {
              "color": "white"
             }
            },
            "type": "table"
           }
          ]
         },
         "layout": {
          "annotationdefaults": {
           "arrowcolor": "#2a3f5f",
           "arrowhead": 0,
           "arrowwidth": 1
          },
          "autotypenumbers": "strict",
          "coloraxis": {
           "colorbar": {
            "outlinewidth": 0,
            "ticks": ""
           }
          },
          "colorscale": {
           "diverging": [
            [
             0,
             "#8e0152"
            ],
            [
             0.1,
             "#c51b7d"
            ],
            [
             0.2,
             "#de77ae"
            ],
            [
             0.3,
             "#f1b6da"
            ],
            [
             0.4,
             "#fde0ef"
            ],
            [
             0.5,
             "#f7f7f7"
            ],
            [
             0.6,
             "#e6f5d0"
            ],
            [
             0.7,
             "#b8e186"
            ],
            [
             0.8,
             "#7fbc41"
            ],
            [
             0.9,
             "#4d9221"
            ],
            [
             1,
             "#276419"
            ]
           ],
           "sequential": [
            [
             0,
             "#0d0887"
            ],
            [
             0.1111111111111111,
             "#46039f"
            ],
            [
             0.2222222222222222,
             "#7201a8"
            ],
            [
             0.3333333333333333,
             "#9c179e"
            ],
            [
             0.4444444444444444,
             "#bd3786"
            ],
            [
             0.5555555555555556,
             "#d8576b"
            ],
            [
             0.6666666666666666,
             "#ed7953"
            ],
            [
             0.7777777777777778,
             "#fb9f3a"
            ],
            [
             0.8888888888888888,
             "#fdca26"
            ],
            [
             1,
             "#f0f921"
            ]
           ],
           "sequentialminus": [
            [
             0,
             "#0d0887"
            ],
            [
             0.1111111111111111,
             "#46039f"
            ],
            [
             0.2222222222222222,
             "#7201a8"
            ],
            [
             0.3333333333333333,
             "#9c179e"
            ],
            [
             0.4444444444444444,
             "#bd3786"
            ],
            [
             0.5555555555555556,
             "#d8576b"
            ],
            [
             0.6666666666666666,
             "#ed7953"
            ],
            [
             0.7777777777777778,
             "#fb9f3a"
            ],
            [
             0.8888888888888888,
             "#fdca26"
            ],
            [
             1,
             "#f0f921"
            ]
           ]
          },
          "colorway": [
           "#636efa",
           "#EF553B",
           "#00cc96",
           "#ab63fa",
           "#FFA15A",
           "#19d3f3",
           "#FF6692",
           "#B6E880",
           "#FF97FF",
           "#FECB52"
          ],
          "font": {
           "color": "#2a3f5f"
          },
          "geo": {
           "bgcolor": "white",
           "lakecolor": "white",
           "landcolor": "#E5ECF6",
           "showlakes": true,
           "showland": true,
           "subunitcolor": "white"
          },
          "hoverlabel": {
           "align": "left"
          },
          "hovermode": "closest",
          "mapbox": {
           "style": "light"
          },
          "paper_bgcolor": "white",
          "plot_bgcolor": "#E5ECF6",
          "polar": {
           "angularaxis": {
            "gridcolor": "white",
            "linecolor": "white",
            "ticks": ""
           },
           "bgcolor": "#E5ECF6",
           "radialaxis": {
            "gridcolor": "white",
            "linecolor": "white",
            "ticks": ""
           }
          },
          "scene": {
           "xaxis": {
            "backgroundcolor": "#E5ECF6",
            "gridcolor": "white",
            "gridwidth": 2,
            "linecolor": "white",
            "showbackground": true,
            "ticks": "",
            "zerolinecolor": "white"
           },
           "yaxis": {
            "backgroundcolor": "#E5ECF6",
            "gridcolor": "white",
            "gridwidth": 2,
            "linecolor": "white",
            "showbackground": true,
            "ticks": "",
            "zerolinecolor": "white"
           },
           "zaxis": {
            "backgroundcolor": "#E5ECF6",
            "gridcolor": "white",
            "gridwidth": 2,
            "linecolor": "white",
            "showbackground": true,
            "ticks": "",
            "zerolinecolor": "white"
           }
          },
          "shapedefaults": {
           "line": {
            "color": "#2a3f5f"
           }
          },
          "ternary": {
           "aaxis": {
            "gridcolor": "white",
            "linecolor": "white",
            "ticks": ""
           },
           "baxis": {
            "gridcolor": "white",
            "linecolor": "white",
            "ticks": ""
           },
           "bgcolor": "#E5ECF6",
           "caxis": {
            "gridcolor": "white",
            "linecolor": "white",
            "ticks": ""
           }
          },
          "title": {
           "x": 0.05
          },
          "xaxis": {
           "automargin": true,
           "gridcolor": "white",
           "linecolor": "white",
           "ticks": "",
           "title": {
            "standoff": 15
           },
           "zerolinecolor": "white",
           "zerolinewidth": 2
          },
          "yaxis": {
           "automargin": true,
           "gridcolor": "white",
           "linecolor": "white",
           "ticks": "",
           "title": {
            "standoff": 15
           },
           "zerolinecolor": "white",
           "zerolinewidth": 2
          }
         }
        },
        "xaxis": {
         "anchor": "y",
         "domain": [
          0,
          1
         ],
         "title": {
          "text": "kraj"
         }
        },
        "yaxis": {
         "anchor": "x",
         "domain": [
          0,
          1
         ],
         "title": {
          "text": "sum of pocet"
         }
        }
       }
      }
     },
     "metadata": {},
     "output_type": "display_data"
    }
   ],
   "source": [
    "final_simple = px.histogram(data_final, x='kraj', y='pocet')\n",
    "final_simple.show()"
   ]
  },
  {
   "cell_type": "markdown",
   "id": "7228c75e",
   "metadata": {},
   "source": [
    "#final_graph_all (pocty narodnosti rozdelene na kraje)"
   ]
  },
  {
   "cell_type": "code",
   "execution_count": 46,
   "id": "bc0606e4",
   "metadata": {},
   "outputs": [
    {
     "data": {
      "application/vnd.plotly.v1+json": {
       "config": {
        "plotlyServerURL": "https://plot.ly"
       },
       "data": [
        {
         "bingroup": "x",
         "histfunc": "sum",
         "hovertemplate": "obcan_statu=Afghánistán<br>kraj=%{x}<br>sum of pocet=%{y}<extra></extra>",
         "legendgroup": "Afghánistán",
         "marker": {
          "color": "#636efa",
          "pattern": {
           "shape": ""
          }
         },
         "name": "Afghánistán",
         "orientation": "v",
         "showlegend": true,
         "type": "histogram",
         "x": [
          "Hlavní město Praha",
          "Jihomoravský kraj",
          "Karlovarský kraj",
          "Kraj Vysočina",
          "Královéhradecký kraj",
          "Moravskoslezský kraj",
          "Olomoucký kraj",
          "Středočeský kraj",
          "Zlínský kraj",
          "Ústecký kraj"
         ],
         "xaxis": "x",
         "y": {
          "bdata": "ZmZmZmZmHEAAAAAAAAAEQAAAAAAAAPA/AAAAAAAAAEAAAAAAAADwPzMzMzMzM/s/AAAAAAAA8D8AAAAAAAD4PwAAAAAAAPA/AAAAAAAA8D8=",
          "dtype": "f8"
         },
         "yaxis": "y"
        },
        {
         "bingroup": "x",
         "histfunc": "sum",
         "hovertemplate": "obcan_statu=Albánie<br>kraj=%{x}<br>sum of pocet=%{y}<extra></extra>",
         "legendgroup": "Albánie",
         "marker": {
          "color": "#EF553B",
          "pattern": {
           "shape": ""
          }
         },
         "name": "Albánie",
         "orientation": "v",
         "showlegend": true,
         "type": "histogram",
         "x": [
          "Hlavní město Praha",
          "Jihomoravský kraj",
          "Jihočeský kraj",
          "Karlovarský kraj",
          "Kraj Vysočina",
          "Královéhradecký kraj",
          "Liberecký kraj",
          "Moravskoslezský kraj",
          "Olomoucký kraj",
          "Pardubický kraj",
          "Plzeňský kraj",
          "Středočeský kraj",
          "Zlínský kraj",
          "Ústecký kraj"
         ],
         "xaxis": "x",
         "y": {
          "bdata": "ZmZmZmZmIEBmZmZmZmYCQDMzMzMzM/M/mpmZmZmZ8T8AAAAAAADwP83MzMzMzPQ/AAAAAAAA8D8zMzMzMzP7PwAAAAAAAPg/MzMzMzMz+z8AAAAAAAD4P5qZmZmZmQFAAAAAAAAA8D8AAAAAAAD4Pw==",
          "dtype": "f8"
         },
         "yaxis": "y"
        },
        {
         "bingroup": "x",
         "histfunc": "sum",
         "hovertemplate": "obcan_statu=Alžírsko<br>kraj=%{x}<br>sum of pocet=%{y}<extra></extra>",
         "legendgroup": "Alžírsko",
         "marker": {
          "color": "#00cc96",
          "pattern": {
           "shape": ""
          }
         },
         "name": "Alžírsko",
         "orientation": "v",
         "showlegend": true,
         "type": "histogram",
         "x": [
          "Hlavní město Praha",
          "Jihomoravský kraj",
          "Jihočeský kraj",
          "Karlovarský kraj",
          "Kraj Vysočina",
          "Královéhradecký kraj",
          "Liberecký kraj",
          "Moravskoslezský kraj",
          "Olomoucký kraj",
          "Plzeňský kraj",
          "Středočeský kraj",
          "Zlínský kraj",
          "Ústecký kraj"
         ],
         "xaxis": "x",
         "y": {
          "bdata": "MzMzMzMzNEBmZmZmZmYSQM3MzMzMzPQ/mpmZmZmZAUCamZmZmZnxP5qZmZmZmfk/zczMzMzM9D+amZmZmZn5P5qZmZmZmfk/ZmZmZmZm9j+amZmZmZkFQAAAAAAAAABAMzMzMzMzB0A=",
          "dtype": "f8"
         },
         "yaxis": "y"
        },
        {
         "bingroup": "x",
         "histfunc": "sum",
         "hovertemplate": "obcan_statu=Angola<br>kraj=%{x}<br>sum of pocet=%{y}<extra></extra>",
         "legendgroup": "Angola",
         "marker": {
          "color": "#ab63fa",
          "pattern": {
           "shape": ""
          }
         },
         "name": "Angola",
         "orientation": "v",
         "showlegend": true,
         "type": "histogram",
         "x": [
          "Hlavní město Praha",
          "Jihomoravský kraj",
          "Jihočeský kraj",
          "Karlovarský kraj",
          "Kraj Vysočina",
          "Liberecký kraj",
          "Moravskoslezský kraj",
          "Olomoucký kraj",
          "Pardubický kraj",
          "Plzeňský kraj",
          "Středočeský kraj",
          "Zlínský kraj",
          "Ústecký kraj"
         ],
         "xaxis": "x",
         "y": {
          "bdata": "mpmZmZmZFUCamZmZmZkRQDMzMzMzM/s/AAAAAAAAAEAAAAAAAAAAQDMzMzMzM/M/mpmZmZmZBUCamZmZmZkBQAAAAAAAAPA/AAAAAAAA8D/NzMzMzMz8P2ZmZmZmZvY/mpmZmZmZ+T8=",
          "dtype": "f8"
         },
         "yaxis": "y"
        },
        {
         "bingroup": "x",
         "histfunc": "sum",
         "hovertemplate": "obcan_statu=Argentina<br>kraj=%{x}<br>sum of pocet=%{y}<extra></extra>",
         "legendgroup": "Argentina",
         "marker": {
          "color": "#FFA15A",
          "pattern": {
           "shape": ""
          }
         },
         "name": "Argentina",
         "orientation": "v",
         "showlegend": true,
         "type": "histogram",
         "x": [
          "Hlavní město Praha",
          "Jihomoravský kraj",
          "Jihočeský kraj",
          "Královéhradecký kraj",
          "Moravskoslezský kraj",
          "Pardubický kraj",
          "Plzeňský kraj",
          "Středočeský kraj",
          "Ústecký kraj"
         ],
         "xaxis": "x",
         "y": {
          "bdata": "mpmZmZmZDUDNzMzMzMz0PwAAAAAAAPA/AAAAAAAA8D+amZmZmZnxPwAAAAAAAPA/AAAAAAAA8D8AAAAAAADwPwAAAAAAAPA/",
          "dtype": "f8"
         },
         "yaxis": "y"
        },
        {
         "bingroup": "x",
         "histfunc": "sum",
         "hovertemplate": "obcan_statu=Arménie<br>kraj=%{x}<br>sum of pocet=%{y}<extra></extra>",
         "legendgroup": "Arménie",
         "marker": {
          "color": "#19d3f3",
          "pattern": {
           "shape": ""
          }
         },
         "name": "Arménie",
         "orientation": "v",
         "showlegend": true,
         "type": "histogram",
         "x": [
          "Hlavní město Praha",
          "Jihomoravský kraj",
          "Jihočeský kraj",
          "Karlovarský kraj",
          "Kraj Vysočina",
          "Královéhradecký kraj",
          "Liberecký kraj",
          "Moravskoslezský kraj",
          "Olomoucký kraj",
          "Pardubický kraj",
          "Plzeňský kraj",
          "Středočeský kraj",
          "Zlínský kraj",
          "nezjištěno",
          "Ústecký kraj"
         ],
         "xaxis": "x",
         "y": {
          "bdata": "AAAAAACAPEDNzMzMzMwcQJqZmZmZmQFAAAAAAAAABEAzMzMzMzMRQDMzMzMzM/s/ZmZmZmZm/j9mZmZmZmYKQAAAAAAAAPg/zczMzMzMAEBmZmZmZmb2P2ZmZmZmZgZAmpmZmZmZ+T8AAAAAAAD4PwAAAAAAAAxA",
          "dtype": "f8"
         },
         "yaxis": "y"
        },
        {
         "bingroup": "x",
         "histfunc": "sum",
         "hovertemplate": "obcan_statu=Austrálie<br>kraj=%{x}<br>sum of pocet=%{y}<extra></extra>",
         "legendgroup": "Austrálie",
         "marker": {
          "color": "#FF6692",
          "pattern": {
           "shape": ""
          }
         },
         "name": "Austrálie",
         "orientation": "v",
         "showlegend": true,
         "type": "histogram",
         "x": [
          "Hlavní město Praha",
          "Jihomoravský kraj",
          "Jihočeský kraj",
          "Karlovarský kraj",
          "Kraj Vysočina",
          "Královéhradecký kraj",
          "Liberecký kraj",
          "Moravskoslezský kraj",
          "Olomoucký kraj",
          "Pardubický kraj",
          "Plzeňský kraj",
          "Středočeský kraj",
          "Zlínský kraj",
          "Ústecký kraj"
         ],
         "xaxis": "x",
         "y": {
          "bdata": "ZmZmZmZmK0AzMzMzMzMDQM3MzMzMzPw/AAAAAAAA8D9mZmZmZmb2P2ZmZmZmZvY/MzMzMzMz8z/NzMzMzMz0P2ZmZmZmZvY/zczMzMzM/D8AAAAAAAD4P83MzMzMzPw/mpmZmZmZ+T8zMzMzMzPzPw==",
          "dtype": "f8"
         },
         "yaxis": "y"
        },
        {
         "bingroup": "x",
         "histfunc": "sum",
         "hovertemplate": "obcan_statu=Bahrajn<br>kraj=%{x}<br>sum of pocet=%{y}<extra></extra>",
         "legendgroup": "Bahrajn",
         "marker": {
          "color": "#B6E880",
          "pattern": {
           "shape": ""
          }
         },
         "name": "Bahrajn",
         "orientation": "v",
         "showlegend": true,
         "type": "histogram",
         "x": [
          "Hlavní město Praha",
          "Jihomoravský kraj",
          "Jihočeský kraj",
          "Královéhradecký kraj",
          "Liberecký kraj",
          "Pardubický kraj",
          "Plzeňský kraj",
          "Středočeský kraj"
         ],
         "xaxis": "x",
         "y": {
          "bdata": "mpmZmZmZBUAAAAAAAAAUQAAAAAAAAPA/MzMzMzMzEUAAAAAAAADwPwAAAAAAAPA/AAAAAAAABEAAAAAAAADwPw==",
          "dtype": "f8"
         },
         "yaxis": "y"
        },
        {
         "bingroup": "x",
         "histfunc": "sum",
         "hovertemplate": "obcan_statu=Bangladéš<br>kraj=%{x}<br>sum of pocet=%{y}<extra></extra>",
         "legendgroup": "Bangladéš",
         "marker": {
          "color": "#FF97FF",
          "pattern": {
           "shape": ""
          }
         },
         "name": "Bangladéš",
         "orientation": "v",
         "showlegend": true,
         "type": "histogram",
         "x": [
          "Hlavní město Praha",
          "Jihomoravský kraj",
          "Karlovarský kraj",
          "Královéhradecký kraj",
          "Liberecký kraj",
          "Moravskoslezský kraj",
          "Plzeňský kraj",
          "Středočeský kraj",
          "nezjištěno",
          "Ústecký kraj"
         ],
         "xaxis": "x",
         "y": {
          "bdata": "zczMzMzMFkAAAAAAAAAAQAAAAAAAAPA/AAAAAAAA8D8AAAAAAADwP83MzMzMzPQ/AAAAAAAA8D8zMzMzMzPzPwAAAAAAAPA/AAAAAAAA8D8=",
          "dtype": "f8"
         },
         "yaxis": "y"
        },
        {
         "bingroup": "x",
         "histfunc": "sum",
         "hovertemplate": "obcan_statu=Belgie<br>kraj=%{x}<br>sum of pocet=%{y}<extra></extra>",
         "legendgroup": "Belgie",
         "marker": {
          "color": "#FECB52",
          "pattern": {
           "shape": ""
          }
         },
         "name": "Belgie",
         "orientation": "v",
         "showlegend": true,
         "type": "histogram",
         "x": [
          "Hlavní město Praha",
          "Jihomoravský kraj",
          "Jihočeský kraj",
          "Karlovarský kraj",
          "Kraj Vysočina",
          "Královéhradecký kraj",
          "Liberecký kraj",
          "Moravskoslezský kraj",
          "Olomoucký kraj",
          "Pardubický kraj",
          "Plzeňský kraj",
          "Středočeský kraj",
          "Zlínský kraj",
          "nezjištěno",
          "Ústecký kraj"
         ],
         "xaxis": "x",
         "y": {
          "bdata": "ZmZmZmZmJkDNzMzMzMwEQGZmZmZmZvY/AAAAAAAA8D9mZmZmZmb2PzMzMzMzM/M/MzMzMzMz+z8AAAAAAAD4P2ZmZmZmZvY/AAAAAAAA8D8zMzMzMzPzP2ZmZmZmZv4/AAAAAAAA+D/NzMzMzMz0PwAAAAAAAPg/",
          "dtype": "f8"
         },
         "yaxis": "y"
        },
        {
         "bingroup": "x",
         "histfunc": "sum",
         "hovertemplate": "obcan_statu=Belize<br>kraj=%{x}<br>sum of pocet=%{y}<extra></extra>",
         "legendgroup": "Belize",
         "marker": {
          "color": "#636efa",
          "pattern": {
           "shape": ""
          }
         },
         "name": "Belize",
         "orientation": "v",
         "showlegend": true,
         "type": "histogram",
         "x": [
          "Hlavní město Praha",
          "Středočeský kraj"
         ],
         "xaxis": "x",
         "y": {
          "bdata": "mpmZmZmZ8T8AAAAAAADwPw==",
          "dtype": "f8"
         },
         "yaxis": "y"
        },
        {
         "bingroup": "x",
         "histfunc": "sum",
         "hovertemplate": "obcan_statu=Benin<br>kraj=%{x}<br>sum of pocet=%{y}<extra></extra>",
         "legendgroup": "Benin",
         "marker": {
          "color": "#EF553B",
          "pattern": {
           "shape": ""
          }
         },
         "name": "Benin",
         "orientation": "v",
         "showlegend": true,
         "type": "histogram",
         "x": [
          "Hlavní město Praha",
          "Jihomoravský kraj",
          "Moravskoslezský kraj",
          "Olomoucký kraj",
          "Středočeský kraj",
          "Zlínský kraj",
          "Ústecký kraj"
         ],
         "xaxis": "x",
         "y": {
          "bdata": "ZmZmZmZmGEAzMzMzMzP7P83MzMzMzPQ/MzMzMzMz8z8AAAAAAADwPwAAAAAAAPA/zczMzMzM9D8=",
          "dtype": "f8"
         },
         "yaxis": "y"
        },
        {
         "bingroup": "x",
         "histfunc": "sum",
         "hovertemplate": "obcan_statu=Bolívie<br>kraj=%{x}<br>sum of pocet=%{y}<extra></extra>",
         "legendgroup": "Bolívie",
         "marker": {
          "color": "#00cc96",
          "pattern": {
           "shape": ""
          }
         },
         "name": "Bolívie",
         "orientation": "v",
         "showlegend": true,
         "type": "histogram",
         "x": [
          "Hlavní město Praha",
          "Jihomoravský kraj",
          "Liberecký kraj",
          "Pardubický kraj",
          "Plzeňský kraj",
          "Středočeský kraj",
          "Ústecký kraj"
         ],
         "xaxis": "x",
         "y": {
          "bdata": "AAAAAAAAFEAzMzMzMzP7PzMzMzMzM/M/AAAAAAAA8D8AAAAAAAD4PzMzMzMzMwNAAAAAAAAA8D8=",
          "dtype": "f8"
         },
         "yaxis": "y"
        },
        {
         "bingroup": "x",
         "histfunc": "sum",
         "hovertemplate": "obcan_statu=Bosna a Hercegovina<br>kraj=%{x}<br>sum of pocet=%{y}<extra></extra>",
         "legendgroup": "Bosna a Hercegovina",
         "marker": {
          "color": "#ab63fa",
          "pattern": {
           "shape": ""
          }
         },
         "name": "Bosna a Hercegovina",
         "orientation": "v",
         "showlegend": true,
         "type": "histogram",
         "x": [
          "Hlavní město Praha",
          "Jihomoravský kraj",
          "Jihočeský kraj",
          "Karlovarský kraj",
          "Kraj Vysočina",
          "Královéhradecký kraj",
          "Liberecký kraj",
          "Moravskoslezský kraj",
          "Olomoucký kraj",
          "Pardubický kraj",
          "Plzeňský kraj",
          "Středočeský kraj",
          "Zlínský kraj",
          "nezjištěno",
          "Ústecký kraj"
         ],
         "xaxis": "x",
         "y": {
          "bdata": "mpmZmZl5UECamZmZmZkdQAAAAAAAABBAzczMzMzMBEBmZmZmZmb2P83MzMzMzABAzczMzMzMDECamZmZmZkBQJqZmZmZmQFAzczMzMzMAEDNzMzMzMwEQGZmZmZmZgZAzczMzMzMBEDNzMzMzMz0P83MzMzMzARA",
          "dtype": "f8"
         },
         "yaxis": "y"
        },
        {
         "bingroup": "x",
         "histfunc": "sum",
         "hovertemplate": "obcan_statu=Botswana<br>kraj=%{x}<br>sum of pocet=%{y}<extra></extra>",
         "legendgroup": "Botswana",
         "marker": {
          "color": "#FFA15A",
          "pattern": {
           "shape": ""
          }
         },
         "name": "Botswana",
         "orientation": "v",
         "showlegend": true,
         "type": "histogram",
         "x": [
          "Hlavní město Praha"
         ],
         "xaxis": "x",
         "y": {
          "bdata": "AAAAAAAAJ0A=",
          "dtype": "f8"
         },
         "yaxis": "y"
        },
        {
         "bingroup": "x",
         "histfunc": "sum",
         "hovertemplate": "obcan_statu=Brazílie<br>kraj=%{x}<br>sum of pocet=%{y}<extra></extra>",
         "legendgroup": "Brazílie",
         "marker": {
          "color": "#19d3f3",
          "pattern": {
           "shape": ""
          }
         },
         "name": "Brazílie",
         "orientation": "v",
         "showlegend": true,
         "type": "histogram",
         "x": [
          "Hlavní město Praha",
          "Jihomoravský kraj",
          "Jihočeský kraj",
          "Karlovarský kraj",
          "Kraj Vysočina",
          "Královéhradecký kraj",
          "Liberecký kraj",
          "Moravskoslezský kraj",
          "Olomoucký kraj",
          "Pardubický kraj",
          "Plzeňský kraj",
          "Středočeský kraj",
          "Zlínský kraj",
          "Ústecký kraj"
         ],
         "xaxis": "x",
         "y": {
          "bdata": "MzMzMzMzG0DNzMzMzMz0P5qZmZmZmfE/mpmZmZmZ8T8AAAAAAADwP83MzMzMzPQ/MzMzMzMz8z+amZmZmZnxP5qZmZmZmfE/AAAAAAAAAECamZmZmZnxPzMzMzMzM/M/AAAAAAAA8D8zMzMzMzPzPw==",
          "dtype": "f8"
         },
         "yaxis": "y"
        },
        {
         "bingroup": "x",
         "histfunc": "sum",
         "hovertemplate": "obcan_statu=Bulharsko<br>kraj=%{x}<br>sum of pocet=%{y}<extra></extra>",
         "legendgroup": "Bulharsko",
         "marker": {
          "color": "#FF6692",
          "pattern": {
           "shape": ""
          }
         },
         "name": "Bulharsko",
         "orientation": "v",
         "showlegend": true,
         "type": "histogram",
         "x": [
          "Hlavní město Praha",
          "Jihomoravský kraj",
          "Jihočeský kraj",
          "Karlovarský kraj",
          "Kraj Vysočina",
          "Královéhradecký kraj",
          "Liberecký kraj",
          "Moravskoslezský kraj",
          "Olomoucký kraj",
          "Pardubický kraj",
          "Plzeňský kraj",
          "Středočeský kraj",
          "Zlínský kraj",
          "nezjištěno",
          "Ústecký kraj"
         ],
         "xaxis": "x",
         "y": {
          "bdata": "zczMzMzsWkDNzMzMzMwaQM3MzMzMzBJAzczMzMzMFEAAAAAAAAAMQJqZmZmZmQ1AmpmZmZmZIEBmZmZmZmYcQGZmZmZmZgpAmpmZmZmZCUBmZmZmZmYOQJqZmZmZmRtAzczMzMzMCEAAAAAAAADwP5qZmZmZmRNA",
          "dtype": "f8"
         },
         "yaxis": "y"
        },
        {
         "bingroup": "x",
         "histfunc": "sum",
         "hovertemplate": "obcan_statu=Burkina Faso<br>kraj=%{x}<br>sum of pocet=%{y}<extra></extra>",
         "legendgroup": "Burkina Faso",
         "marker": {
          "color": "#B6E880",
          "pattern": {
           "shape": ""
          }
         },
         "name": "Burkina Faso",
         "orientation": "v",
         "showlegend": true,
         "type": "histogram",
         "x": [
          "Hlavní město Praha",
          "Jihomoravský kraj",
          "Liberecký kraj",
          "Moravskoslezský kraj"
         ],
         "xaxis": "x",
         "y": {
          "bdata": "AAAAAAAA8D8AAAAAAAAAQAAAAAAAAPA/mpmZmZmZBUA=",
          "dtype": "f8"
         },
         "yaxis": "y"
        },
        {
         "bingroup": "x",
         "histfunc": "sum",
         "hovertemplate": "obcan_statu=Bělorusko<br>kraj=%{x}<br>sum of pocet=%{y}<extra></extra>",
         "legendgroup": "Bělorusko",
         "marker": {
          "color": "#FF97FF",
          "pattern": {
           "shape": ""
          }
         },
         "name": "Bělorusko",
         "orientation": "v",
         "showlegend": true,
         "type": "histogram",
         "x": [
          "Hlavní město Praha",
          "Jihomoravský kraj",
          "Jihočeský kraj",
          "Karlovarský kraj",
          "Kraj Vysočina",
          "Královéhradecký kraj",
          "Liberecký kraj",
          "Moravskoslezský kraj",
          "Olomoucký kraj",
          "Pardubický kraj",
          "Plzeňský kraj",
          "Středočeský kraj",
          "Zlínský kraj",
          "Ústecký kraj"
         ],
         "xaxis": "x",
         "y": {
          "bdata": "MzMzMzNzT0AAAAAAAAAcQM3MzMzMzBJAmpmZmZmZFUAAAAAAAAAWQDMzMzMzMxFAZmZmZmZmDkDNzMzMzMwQQGZmZmZmZgpAzczMzMzMFkBmZmZmZmYSQGZmZmZmZhJAAAAAAAAAGEDNzMzMzMwMQA==",
          "dtype": "f8"
         },
         "yaxis": "y"
        },
        {
         "bingroup": "x",
         "histfunc": "sum",
         "hovertemplate": "obcan_statu=Chile<br>kraj=%{x}<br>sum of pocet=%{y}<extra></extra>",
         "legendgroup": "Chile",
         "marker": {
          "color": "#FECB52",
          "pattern": {
           "shape": ""
          }
         },
         "name": "Chile",
         "orientation": "v",
         "showlegend": true,
         "type": "histogram",
         "x": [
          "Hlavní město Praha",
          "Jihomoravský kraj",
          "Jihočeský kraj",
          "Karlovarský kraj",
          "Olomoucký kraj",
          "Středočeský kraj",
          "Zlínský kraj",
          "Ústecký kraj"
         ],
         "xaxis": "x",
         "y": {
          "bdata": "AAAAAAAAEkAAAAAAAADwPwAAAAAAAPA/AAAAAAAA8D8AAAAAAADwPzMzMzMzM/M/AAAAAAAA8D8AAAAAAADwPw==",
          "dtype": "f8"
         },
         "yaxis": "y"
        },
        {
         "bingroup": "x",
         "histfunc": "sum",
         "hovertemplate": "obcan_statu=Chorvatsko<br>kraj=%{x}<br>sum of pocet=%{y}<extra></extra>",
         "legendgroup": "Chorvatsko",
         "marker": {
          "color": "#636efa",
          "pattern": {
           "shape": ""
          }
         },
         "name": "Chorvatsko",
         "orientation": "v",
         "showlegend": true,
         "type": "histogram",
         "x": [
          "Hlavní město Praha",
          "Jihomoravský kraj",
          "Jihočeský kraj",
          "Karlovarský kraj",
          "Kraj Vysočina",
          "Královéhradecký kraj",
          "Liberecký kraj",
          "Moravskoslezský kraj",
          "Olomoucký kraj",
          "Pardubický kraj",
          "Plzeňský kraj",
          "Středočeský kraj",
          "Zlínský kraj",
          "nezjištěno",
          "Ústecký kraj"
         ],
         "xaxis": "x",
         "y": {
          "bdata": "zczMzMzMU0BmZmZmZmYUQM3MzMzMzARAMzMzMzMzD0DNzMzMzMz8P83MzMzMzPw/AAAAAAAAAEAzMzMzMzMPQM3MzMzMzABAzczMzMzMBEAzMzMzMzMLQDMzMzMzMwNAZmZmZmZmBkCamZmZmZkBQGZmZmZmZgpA",
          "dtype": "f8"
         },
         "yaxis": "y"
        },
        {
         "bingroup": "x",
         "histfunc": "sum",
         "hovertemplate": "obcan_statu=Dominika<br>kraj=%{x}<br>sum of pocet=%{y}<extra></extra>",
         "legendgroup": "Dominika",
         "marker": {
          "color": "#EF553B",
          "pattern": {
           "shape": ""
          }
         },
         "name": "Dominika",
         "orientation": "v",
         "showlegend": true,
         "type": "histogram",
         "x": [
          "Hlavní město Praha"
         ],
         "xaxis": "x",
         "y": {
          "bdata": "zczMzMzM9D8=",
          "dtype": "f8"
         },
         "yaxis": "y"
        },
        {
         "bingroup": "x",
         "histfunc": "sum",
         "hovertemplate": "obcan_statu=Dominikánská republika<br>kraj=%{x}<br>sum of pocet=%{y}<extra></extra>",
         "legendgroup": "Dominikánská republika",
         "marker": {
          "color": "#00cc96",
          "pattern": {
           "shape": ""
          }
         },
         "name": "Dominikánská republika",
         "orientation": "v",
         "showlegend": true,
         "type": "histogram",
         "x": [
          "Hlavní město Praha",
          "Jihomoravský kraj",
          "Plzeňský kraj",
          "Středočeský kraj"
         ],
         "xaxis": "x",
         "y": {
          "bdata": "MzMzMzMz+z/NzMzMzMz0PwAAAAAAAPA/AAAAAAAA8D8=",
          "dtype": "f8"
         },
         "yaxis": "y"
        },
        {
         "bingroup": "x",
         "histfunc": "sum",
         "hovertemplate": "obcan_statu=Dánsko<br>kraj=%{x}<br>sum of pocet=%{y}<extra></extra>",
         "legendgroup": "Dánsko",
         "marker": {
          "color": "#ab63fa",
          "pattern": {
           "shape": ""
          }
         },
         "name": "Dánsko",
         "orientation": "v",
         "showlegend": true,
         "type": "histogram",
         "x": [
          "Hlavní město Praha",
          "Jihomoravský kraj",
          "Karlovarský kraj",
          "Královéhradecký kraj",
          "Liberecký kraj",
          "Moravskoslezský kraj",
          "Olomoucký kraj",
          "Plzeňský kraj",
          "Středočeský kraj",
          "nezjištěno",
          "Ústecký kraj"
         ],
         "xaxis": "x",
         "y": {
          "bdata": "AAAAAAAAJECamZmZmZn5PwAAAAAAAPA/AAAAAAAA8D8AAAAAAADwP83MzMzMzPQ/MzMzMzMz+z+amZmZmZnxP83MzMzMzARAAAAAAAAA+D9mZmZmZmYKQA==",
          "dtype": "f8"
         },
         "yaxis": "y"
        },
        {
         "bingroup": "x",
         "histfunc": "sum",
         "hovertemplate": "obcan_statu=Egypt<br>kraj=%{x}<br>sum of pocet=%{y}<extra></extra>",
         "legendgroup": "Egypt",
         "marker": {
          "color": "#FFA15A",
          "pattern": {
           "shape": ""
          }
         },
         "name": "Egypt",
         "orientation": "v",
         "showlegend": true,
         "type": "histogram",
         "x": [
          "Hlavní město Praha",
          "Jihomoravský kraj",
          "Jihočeský kraj",
          "Karlovarský kraj",
          "Královéhradecký kraj",
          "Liberecký kraj",
          "Moravskoslezský kraj",
          "Olomoucký kraj",
          "Pardubický kraj",
          "Plzeňský kraj",
          "Středočeský kraj",
          "Zlínský kraj",
          "Ústecký kraj"
         ],
         "xaxis": "x",
         "y": {
          "bdata": "zczMzMzMI0AzMzMzMzP7P5qZmZmZmfE/mpmZmZmZ+T8AAAAAAAAAQGZmZmZmZvY/mpmZmZmZ+T/NzMzMzMz8P5qZmZmZmfk/AAAAAAAAEEBmZmZmZmb+PzMzMzMzM/M/ZmZmZmZm9j8=",
          "dtype": "f8"
         },
         "yaxis": "y"
        },
        {
         "bingroup": "x",
         "histfunc": "sum",
         "hovertemplate": "obcan_statu=Ekvádor<br>kraj=%{x}<br>sum of pocet=%{y}<extra></extra>",
         "legendgroup": "Ekvádor",
         "marker": {
          "color": "#19d3f3",
          "pattern": {
           "shape": ""
          }
         },
         "name": "Ekvádor",
         "orientation": "v",
         "showlegend": true,
         "type": "histogram",
         "x": [
          "Hlavní město Praha",
          "Jihomoravský kraj",
          "Jihočeský kraj",
          "Karlovarský kraj",
          "Královéhradecký kraj",
          "Liberecký kraj",
          "Pardubický kraj",
          "Plzeňský kraj",
          "Středočeský kraj",
          "Zlínský kraj",
          "Ústecký kraj"
         ],
         "xaxis": "x",
         "y": {
          "bdata": "AAAAAAAAFEAAAAAAAAD4PwAAAAAAAPA/AAAAAAAA8D/NzMzMzMz0PwAAAAAAAPA/AAAAAAAA8D8zMzMzMzPzP5qZmZmZmfE/AAAAAAAA8D8AAAAAAADwPw==",
          "dtype": "f8"
         },
         "yaxis": "y"
        },
        {
         "bingroup": "x",
         "histfunc": "sum",
         "hovertemplate": "obcan_statu=Eritrea<br>kraj=%{x}<br>sum of pocet=%{y}<extra></extra>",
         "legendgroup": "Eritrea",
         "marker": {
          "color": "#FF6692",
          "pattern": {
           "shape": ""
          }
         },
         "name": "Eritrea",
         "orientation": "v",
         "showlegend": true,
         "type": "histogram",
         "x": [
          "Hlavní město Praha",
          "Jihomoravský kraj"
         ],
         "xaxis": "x",
         "y": {
          "bdata": "AAAAAAAA+D8AAAAAAADwPw==",
          "dtype": "f8"
         },
         "yaxis": "y"
        },
        {
         "bingroup": "x",
         "histfunc": "sum",
         "hovertemplate": "obcan_statu=Estonsko<br>kraj=%{x}<br>sum of pocet=%{y}<extra></extra>",
         "legendgroup": "Estonsko",
         "marker": {
          "color": "#B6E880",
          "pattern": {
           "shape": ""
          }
         },
         "name": "Estonsko",
         "orientation": "v",
         "showlegend": true,
         "type": "histogram",
         "x": [
          "Hlavní město Praha",
          "Jihomoravský kraj",
          "Karlovarský kraj",
          "Liberecký kraj",
          "Moravskoslezský kraj",
          "Olomoucký kraj",
          "Pardubický kraj",
          "Středočeský kraj"
         ],
         "xaxis": "x",
         "y": {
          "bdata": "ZmZmZmZmBkAAAAAAAADwPwAAAAAAAPA/AAAAAAAA8D8AAAAAAADwPwAAAAAAAPA/AAAAAAAA8D9mZmZmZmb2Pw==",
          "dtype": "f8"
         },
         "yaxis": "y"
        },
        {
         "bingroup": "x",
         "histfunc": "sum",
         "hovertemplate": "obcan_statu=Etiopie<br>kraj=%{x}<br>sum of pocet=%{y}<extra></extra>",
         "legendgroup": "Etiopie",
         "marker": {
          "color": "#FF97FF",
          "pattern": {
           "shape": ""
          }
         },
         "name": "Etiopie",
         "orientation": "v",
         "showlegend": true,
         "type": "histogram",
         "x": [
          "Hlavní město Praha",
          "Jihomoravský kraj",
          "Jihočeský kraj",
          "Královéhradecký kraj",
          "Liberecký kraj",
          "Moravskoslezský kraj",
          "Olomoucký kraj",
          "Plzeňský kraj",
          "Středočeský kraj",
          "Ústecký kraj"
         ],
         "xaxis": "x",
         "y": {
          "bdata": "ZmZmZmZmCkCamZmZmZkJQAAAAAAAAPA/AAAAAAAA8D8AAAAAAADwPwAAAAAAAPA/AAAAAAAA8D8AAAAAAADwPwAAAAAAAABAAAAAAAAA8D8=",
          "dtype": "f8"
         },
         "yaxis": "y"
        },
        {
         "bingroup": "x",
         "histfunc": "sum",
         "hovertemplate": "obcan_statu=Filipíny<br>kraj=%{x}<br>sum of pocet=%{y}<extra></extra>",
         "legendgroup": "Filipíny",
         "marker": {
          "color": "#FECB52",
          "pattern": {
           "shape": ""
          }
         },
         "name": "Filipíny",
         "orientation": "v",
         "showlegend": true,
         "type": "histogram",
         "x": [
          "Hlavní město Praha",
          "Jihomoravský kraj",
          "Královéhradecký kraj",
          "Liberecký kraj",
          "Moravskoslezský kraj",
          "Olomoucký kraj",
          "Plzeňský kraj",
          "Středočeský kraj",
          "Zlínský kraj",
          "Ústecký kraj"
         ],
         "xaxis": "x",
         "y": {
          "bdata": "zczMzMzMEEAAAAAAAADwPwAAAAAAAPA/AAAAAAAA+D8AAAAAAADwPwAAAAAAAPA/AAAAAAAA8D8AAAAAAADwPwAAAAAAAPA/mpmZmZmZ8T8=",
          "dtype": "f8"
         },
         "yaxis": "y"
        },
        {
         "bingroup": "x",
         "histfunc": "sum",
         "hovertemplate": "obcan_statu=Finsko<br>kraj=%{x}<br>sum of pocet=%{y}<extra></extra>",
         "legendgroup": "Finsko",
         "marker": {
          "color": "#636efa",
          "pattern": {
           "shape": ""
          }
         },
         "name": "Finsko",
         "orientation": "v",
         "showlegend": true,
         "type": "histogram",
         "x": [
          "Hlavní město Praha",
          "Jihomoravský kraj",
          "Jihočeský kraj",
          "Karlovarský kraj",
          "Kraj Vysočina",
          "Královéhradecký kraj",
          "Liberecký kraj",
          "Moravskoslezský kraj",
          "Olomoucký kraj",
          "Středočeský kraj",
          "Ústecký kraj"
         ],
         "xaxis": "x",
         "y": {
          "bdata": "mpmZmZmZH0CamZmZmZnxPwAAAAAAAPA/AAAAAAAA8D8AAAAAAADwPwAAAAAAAPg/AAAAAAAA+D+amZmZmZnxPwAAAAAAAPA/mpmZmZmZ8T8AAAAAAADwPw==",
          "dtype": "f8"
         },
         "yaxis": "y"
        },
        {
         "bingroup": "x",
         "histfunc": "sum",
         "hovertemplate": "obcan_statu=Francie<br>kraj=%{x}<br>sum of pocet=%{y}<extra></extra>",
         "legendgroup": "Francie",
         "marker": {
          "color": "#EF553B",
          "pattern": {
           "shape": ""
          }
         },
         "name": "Francie",
         "orientation": "v",
         "showlegend": true,
         "type": "histogram",
         "x": [
          "Hlavní město Praha",
          "Jihomoravský kraj",
          "Jihočeský kraj",
          "Karlovarský kraj",
          "Kraj Vysočina",
          "Královéhradecký kraj",
          "Liberecký kraj",
          "Moravskoslezský kraj",
          "Olomoucký kraj",
          "Pardubický kraj",
          "Plzeňský kraj",
          "Středočeský kraj",
          "Zlínský kraj",
          "nezjištěno",
          "Ústecký kraj"
         ],
         "xaxis": "x",
         "y": {
          "bdata": "zczMzMxsUUDNzMzMzMwEQGZmZmZmZv4/MzMzMzMz+z/NzMzMzMz8PzMzMzMzM/s/mpmZmZmZ+T9mZmZmZmYCQJqZmZmZmQlAMzMzMzMz+z/NzMzMzMwAQGZmZmZmZgZAZmZmZmZmAkCamZmZmZnxP83MzMzMzPw/",
          "dtype": "f8"
         },
         "yaxis": "y"
        },
        {
         "bingroup": "x",
         "histfunc": "sum",
         "hovertemplate": "obcan_statu=Gambie<br>kraj=%{x}<br>sum of pocet=%{y}<extra></extra>",
         "legendgroup": "Gambie",
         "marker": {
          "color": "#00cc96",
          "pattern": {
           "shape": ""
          }
         },
         "name": "Gambie",
         "orientation": "v",
         "showlegend": true,
         "type": "histogram",
         "x": [
          "Hlavní město Praha",
          "Plzeňský kraj"
         ],
         "xaxis": "x",
         "y": {
          "bdata": "zczMzMzM9D8AAAAAAADwPw==",
          "dtype": "f8"
         },
         "yaxis": "y"
        },
        {
         "bingroup": "x",
         "histfunc": "sum",
         "hovertemplate": "obcan_statu=Ghana<br>kraj=%{x}<br>sum of pocet=%{y}<extra></extra>",
         "legendgroup": "Ghana",
         "marker": {
          "color": "#ab63fa",
          "pattern": {
           "shape": ""
          }
         },
         "name": "Ghana",
         "orientation": "v",
         "showlegend": true,
         "type": "histogram",
         "x": [
          "Hlavní město Praha",
          "Jihomoravský kraj",
          "Karlovarský kraj",
          "Kraj Vysočina",
          "Královéhradecký kraj",
          "Liberecký kraj",
          "Moravskoslezský kraj",
          "Olomoucký kraj",
          "Pardubický kraj",
          "Středočeský kraj",
          "Ústecký kraj"
         ],
         "xaxis": "x",
         "y": {
          "bdata": "zczMzMzMEkAAAAAAAAAAQAAAAAAAAPA/AAAAAAAA8D8AAAAAAAAAQAAAAAAAAPA/AAAAAAAA8D8AAAAAAADwPwAAAAAAAPA/mpmZmZmZ+T+amZmZmZkBQA==",
          "dtype": "f8"
         },
         "yaxis": "y"
        },
        {
         "bingroup": "x",
         "histfunc": "sum",
         "hovertemplate": "obcan_statu=Grenada<br>kraj=%{x}<br>sum of pocet=%{y}<extra></extra>",
         "legendgroup": "Grenada",
         "marker": {
          "color": "#FFA15A",
          "pattern": {
           "shape": ""
          }
         },
         "name": "Grenada",
         "orientation": "v",
         "showlegend": true,
         "type": "histogram",
         "x": [
          "Hlavní město Praha",
          "Ústecký kraj"
         ],
         "xaxis": "x",
         "y": {
          "bdata": "mpmZmZmZ8T8AAAAAAADwPw==",
          "dtype": "f8"
         },
         "yaxis": "y"
        },
        {
         "bingroup": "x",
         "histfunc": "sum",
         "hovertemplate": "obcan_statu=Gruzie<br>kraj=%{x}<br>sum of pocet=%{y}<extra></extra>",
         "legendgroup": "Gruzie",
         "marker": {
          "color": "#19d3f3",
          "pattern": {
           "shape": ""
          }
         },
         "name": "Gruzie",
         "orientation": "v",
         "showlegend": true,
         "type": "histogram",
         "x": [
          "Hlavní město Praha",
          "Jihomoravský kraj",
          "Jihočeský kraj",
          "Karlovarský kraj",
          "Kraj Vysočina",
          "Liberecký kraj",
          "Moravskoslezský kraj",
          "Olomoucký kraj",
          "Pardubický kraj",
          "Plzeňský kraj",
          "Středočeský kraj",
          "Zlínský kraj",
          "Ústecký kraj"
         ],
         "xaxis": "x",
         "y": {
          "bdata": "ZmZmZmZmLEBmZmZmZmYCQAAAAAAAAPg/zczMzMzMAEAAAAAAAADwP2ZmZmZmZgJAZmZmZmZm9j8AAAAAAADwPzMzMzMzM/M/AAAAAAAA8D+amZmZmZn5P2ZmZmZmZvY/ZmZmZmZm/j8=",
          "dtype": "f8"
         },
         "yaxis": "y"
        },
        {
         "bingroup": "x",
         "histfunc": "sum",
         "hovertemplate": "obcan_statu=Guatemala<br>kraj=%{x}<br>sum of pocet=%{y}<extra></extra>",
         "legendgroup": "Guatemala",
         "marker": {
          "color": "#FF6692",
          "pattern": {
           "shape": ""
          }
         },
         "name": "Guatemala",
         "orientation": "v",
         "showlegend": true,
         "type": "histogram",
         "x": [
          "Hlavní město Praha",
          "Jihomoravský kraj",
          "Středočeský kraj"
         ],
         "xaxis": "x",
         "y": {
          "bdata": "MzMzMzMzA0AAAAAAAADwPwAAAAAAAPA/",
          "dtype": "f8"
         },
         "yaxis": "y"
        },
        {
         "bingroup": "x",
         "histfunc": "sum",
         "hovertemplate": "obcan_statu=Guinea<br>kraj=%{x}<br>sum of pocet=%{y}<extra></extra>",
         "legendgroup": "Guinea",
         "marker": {
          "color": "#B6E880",
          "pattern": {
           "shape": ""
          }
         },
         "name": "Guinea",
         "orientation": "v",
         "showlegend": true,
         "type": "histogram",
         "x": [
          "Hlavní město Praha",
          "Jihomoravský kraj",
          "Karlovarský kraj",
          "Královéhradecký kraj",
          "Plzeňský kraj",
          "Středočeský kraj",
          "Ústecký kraj"
         ],
         "xaxis": "x",
         "y": {
          "bdata": "AAAAAAAADEDNzMzMzMz0PwAAAAAAAPA/AAAAAAAA8D8zMzMzMzPzP2ZmZmZmZv4/AAAAAAAA8D8=",
          "dtype": "f8"
         },
         "yaxis": "y"
        },
        {
         "bingroup": "x",
         "histfunc": "sum",
         "hovertemplate": "obcan_statu=Guinea-Bissau<br>kraj=%{x}<br>sum of pocet=%{y}<extra></extra>",
         "legendgroup": "Guinea-Bissau",
         "marker": {
          "color": "#FF97FF",
          "pattern": {
           "shape": ""
          }
         },
         "name": "Guinea-Bissau",
         "orientation": "v",
         "showlegend": true,
         "type": "histogram",
         "x": [
          "Hlavní město Praha",
          "Plzeňský kraj",
          "Středočeský kraj"
         ],
         "xaxis": "x",
         "y": {
          "bdata": "zczMzMzMAEAAAAAAAADwPwAAAAAAAPA/",
          "dtype": "f8"
         },
         "yaxis": "y"
        },
        {
         "bingroup": "x",
         "histfunc": "sum",
         "hovertemplate": "obcan_statu=Guyana<br>kraj=%{x}<br>sum of pocet=%{y}<extra></extra>",
         "legendgroup": "Guyana",
         "marker": {
          "color": "#FECB52",
          "pattern": {
           "shape": ""
          }
         },
         "name": "Guyana",
         "orientation": "v",
         "showlegend": true,
         "type": "histogram",
         "x": [
          "Hlavní město Praha",
          "Jihočeský kraj",
          "Moravskoslezský kraj"
         ],
         "xaxis": "x",
         "y": {
          "bdata": "zczMzMzM9D8AAAAAAADwPwAAAAAAAPA/",
          "dtype": "f8"
         },
         "yaxis": "y"
        },
        {
         "bingroup": "x",
         "histfunc": "sum",
         "hovertemplate": "obcan_statu=Honduras<br>kraj=%{x}<br>sum of pocet=%{y}<extra></extra>",
         "legendgroup": "Honduras",
         "marker": {
          "color": "#636efa",
          "pattern": {
           "shape": ""
          }
         },
         "name": "Honduras",
         "orientation": "v",
         "showlegend": true,
         "type": "histogram",
         "x": [
          "Hlavní město Praha",
          "Jihomoravský kraj",
          "Jihočeský kraj",
          "Středočeský kraj"
         ],
         "xaxis": "x",
         "y": {
          "bdata": "mpmZmZmZ8T8AAAAAAADwPwAAAAAAAABAAAAAAAAA8D8=",
          "dtype": "f8"
         },
         "yaxis": "y"
        },
        {
         "bingroup": "x",
         "histfunc": "sum",
         "hovertemplate": "obcan_statu=Indie<br>kraj=%{x}<br>sum of pocet=%{y}<extra></extra>",
         "legendgroup": "Indie",
         "marker": {
          "color": "#EF553B",
          "pattern": {
           "shape": ""
          }
         },
         "name": "Indie",
         "orientation": "v",
         "showlegend": true,
         "type": "histogram",
         "x": [
          "Hlavní město Praha",
          "Jihomoravský kraj",
          "Jihočeský kraj",
          "Karlovarský kraj",
          "Královéhradecký kraj",
          "Liberecký kraj",
          "Moravskoslezský kraj",
          "Olomoucký kraj",
          "Pardubický kraj",
          "Plzeňský kraj",
          "Středočeský kraj",
          "Zlínský kraj",
          "Ústecký kraj"
         ],
         "xaxis": "x",
         "y": {
          "bdata": "ZmZmZmZmM0BmZmZmZmYGQM3MzMzMzPQ/AAAAAAAA8D+amZmZmZkRQM3MzMzMzPQ/ZmZmZmZmEkDNzMzMzMz0P5qZmZmZmQVAmpmZmZmZCUDNzMzMzMz8PzMzMzMzM/M/AAAAAAAAAEA=",
          "dtype": "f8"
         },
         "yaxis": "y"
        },
        {
         "bingroup": "x",
         "histfunc": "sum",
         "hovertemplate": "obcan_statu=Indonésie<br>kraj=%{x}<br>sum of pocet=%{y}<extra></extra>",
         "legendgroup": "Indonésie",
         "marker": {
          "color": "#00cc96",
          "pattern": {
           "shape": ""
          }
         },
         "name": "Indonésie",
         "orientation": "v",
         "showlegend": true,
         "type": "histogram",
         "x": [
          "Hlavní město Praha",
          "Jihomoravský kraj",
          "Jihočeský kraj",
          "Královéhradecký kraj",
          "Olomoucký kraj",
          "Plzeňský kraj",
          "Středočeský kraj",
          "Zlínský kraj",
          "Ústecký kraj"
         ],
         "xaxis": "x",
         "y": {
          "bdata": "ZmZmZmZmFEAAAAAAAADwP2ZmZmZmZvY/AAAAAAAAAEAAAAAAAADwPwAAAAAAAPA/mpmZmZmZ8T8AAAAAAAD4PwAAAAAAAPA/",
          "dtype": "f8"
         },
         "yaxis": "y"
        },
        {
         "bingroup": "x",
         "histfunc": "sum",
         "hovertemplate": "obcan_statu=Irsko<br>kraj=%{x}<br>sum of pocet=%{y}<extra></extra>",
         "legendgroup": "Irsko",
         "marker": {
          "color": "#ab63fa",
          "pattern": {
           "shape": ""
          }
         },
         "name": "Irsko",
         "orientation": "v",
         "showlegend": true,
         "type": "histogram",
         "x": [
          "Hlavní město Praha",
          "Jihomoravský kraj",
          "Jihočeský kraj",
          "Kraj Vysočina",
          "Královéhradecký kraj",
          "Liberecký kraj",
          "Moravskoslezský kraj",
          "Pardubický kraj",
          "Plzeňský kraj",
          "Středočeský kraj",
          "Zlínský kraj",
          "Ústecký kraj"
         ],
         "xaxis": "x",
         "y": {
          "bdata": "mpmZmZmZK0AzMzMzMzP7P83MzMzMzPQ/AAAAAAAA8D8zMzMzMzPzPwAAAAAAAPA/AAAAAAAA8D/NzMzMzMz0PwAAAAAAAPA/ZmZmZmZm9j8AAAAAAADwP83MzMzMzPQ/",
          "dtype": "f8"
         },
         "yaxis": "y"
        },
        {
         "bingroup": "x",
         "histfunc": "sum",
         "hovertemplate": "obcan_statu=Irák<br>kraj=%{x}<br>sum of pocet=%{y}<extra></extra>",
         "legendgroup": "Irák",
         "marker": {
          "color": "#FFA15A",
          "pattern": {
           "shape": ""
          }
         },
         "name": "Irák",
         "orientation": "v",
         "showlegend": true,
         "type": "histogram",
         "x": [
          "Hlavní město Praha",
          "Jihomoravský kraj",
          "Jihočeský kraj",
          "Královéhradecký kraj",
          "Liberecký kraj",
          "Moravskoslezský kraj",
          "Pardubický kraj",
          "Plzeňský kraj",
          "Středočeský kraj",
          "Zlínský kraj",
          "Ústecký kraj"
         ],
         "xaxis": "x",
         "y": {
          "bdata": "ZmZmZmZmGEBmZmZmZmYKQAAAAAAAAPA/AAAAAAAAAEAzMzMzMzP7P5qZmZmZmfE/zczMzMzM9D8AAAAAAAD4PwAAAAAAAABAAAAAAAAA8D/NzMzMzMwAQA==",
          "dtype": "f8"
         },
         "yaxis": "y"
        },
        {
         "bingroup": "x",
         "histfunc": "sum",
         "hovertemplate": "obcan_statu=Island<br>kraj=%{x}<br>sum of pocet=%{y}<extra></extra>",
         "legendgroup": "Island",
         "marker": {
          "color": "#19d3f3",
          "pattern": {
           "shape": ""
          }
         },
         "name": "Island",
         "orientation": "v",
         "showlegend": true,
         "type": "histogram",
         "x": [
          "Hlavní město Praha",
          "Moravskoslezský kraj",
          "Plzeňský kraj",
          "Středočeský kraj"
         ],
         "xaxis": "x",
         "y": {
          "bdata": "zczMzMzM/D8AAAAAAADwPwAAAAAAAPA/AAAAAAAA8D8=",
          "dtype": "f8"
         },
         "yaxis": "y"
        },
        {
         "bingroup": "x",
         "histfunc": "sum",
         "hovertemplate": "obcan_statu=Itálie<br>kraj=%{x}<br>sum of pocet=%{y}<extra></extra>",
         "legendgroup": "Itálie",
         "marker": {
          "color": "#FF6692",
          "pattern": {
           "shape": ""
          }
         },
         "name": "Itálie",
         "orientation": "v",
         "showlegend": true,
         "type": "histogram",
         "x": [
          "Hlavní město Praha",
          "Jihomoravský kraj",
          "Jihočeský kraj",
          "Karlovarský kraj",
          "Kraj Vysočina",
          "Královéhradecký kraj",
          "Liberecký kraj",
          "Moravskoslezský kraj",
          "Olomoucký kraj",
          "Pardubický kraj",
          "Plzeňský kraj",
          "Středočeský kraj",
          "Zlínský kraj",
          "nezjištěno",
          "Ústecký kraj"
         ],
         "xaxis": "x",
         "y": {
          "bdata": "zczMzMyMTEDNzMzMzMwUQM3MzMzMzABAZmZmZmZmAkAzMzMzMzP7P2ZmZmZmZv4/zczMzMzMBEBmZmZmZmYGQAAAAAAAAAhAMzMzMzMzB0AAAAAAAAAAQM3MzMzMzARAMzMzMzMzD0CamZmZmZnxP2ZmZmZmZgZA",
          "dtype": "f8"
         },
         "yaxis": "y"
        },
        {
         "bingroup": "x",
         "histfunc": "sum",
         "hovertemplate": "obcan_statu=Izrael<br>kraj=%{x}<br>sum of pocet=%{y}<extra></extra>",
         "legendgroup": "Izrael",
         "marker": {
          "color": "#B6E880",
          "pattern": {
           "shape": ""
          }
         },
         "name": "Izrael",
         "orientation": "v",
         "showlegend": true,
         "type": "histogram",
         "x": [
          "Hlavní město Praha",
          "Jihomoravský kraj",
          "Jihočeský kraj",
          "Karlovarský kraj",
          "Kraj Vysočina",
          "Královéhradecký kraj",
          "Liberecký kraj",
          "Moravskoslezský kraj",
          "Olomoucký kraj",
          "Pardubický kraj",
          "Plzeňský kraj",
          "Středočeský kraj",
          "Zlínský kraj",
          "nezjištěno",
          "Ústecký kraj"
         ],
         "xaxis": "x",
         "y": {
          "bdata": "ZmZmZmbmNkAzMzMzMzMLQDMzMzMzM/s/zczMzMzMDECamZmZmZn5P2ZmZmZmZvY/ZmZmZmZm9j8zMzMzMzP7PzMzMzMzMwNAAAAAAAAA8D/NzMzMzMwEQAAAAAAAAAxAAAAAAAAA8D8AAAAAAADwP2ZmZmZmZv4/",
          "dtype": "f8"
         },
         "yaxis": "y"
        },
        {
         "bingroup": "x",
         "histfunc": "sum",
         "hovertemplate": "obcan_statu=Jamajka<br>kraj=%{x}<br>sum of pocet=%{y}<extra></extra>",
         "legendgroup": "Jamajka",
         "marker": {
          "color": "#FF97FF",
          "pattern": {
           "shape": ""
          }
         },
         "name": "Jamajka",
         "orientation": "v",
         "showlegend": true,
         "type": "histogram",
         "x": [
          "Hlavní město Praha",
          "Liberecký kraj",
          "Středočeský kraj"
         ],
         "xaxis": "x",
         "y": {
          "bdata": "AAAAAAAA8D8AAAAAAADwPwAAAAAAAPA/",
          "dtype": "f8"
         },
         "yaxis": "y"
        },
        {
         "bingroup": "x",
         "histfunc": "sum",
         "hovertemplate": "obcan_statu=Japonsko<br>kraj=%{x}<br>sum of pocet=%{y}<extra></extra>",
         "legendgroup": "Japonsko",
         "marker": {
          "color": "#FECB52",
          "pattern": {
           "shape": ""
          }
         },
         "name": "Japonsko",
         "orientation": "v",
         "showlegend": true,
         "type": "histogram",
         "x": [
          "Hlavní město Praha",
          "Jihomoravský kraj",
          "Jihočeský kraj",
          "Karlovarský kraj",
          "Kraj Vysočina",
          "Královéhradecký kraj",
          "Liberecký kraj",
          "Moravskoslezský kraj",
          "Olomoucký kraj",
          "Pardubický kraj",
          "Plzeňský kraj",
          "Středočeský kraj",
          "Zlínský kraj",
          "nezjištěno",
          "Ústecký kraj"
         ],
         "xaxis": "x",
         "y": {
          "bdata": "ZmZmZmYmS0BmZmZmZmYCQM3MzMzMzABAAAAAAAAA+D8zMzMzMzMLQDMzMzMzM/s/ZmZmZmZmBkAzMzMzMzPzP2ZmZmZmZgJAAAAAAAAADEBmZmZmZmYUQJqZmZmZmQFAZmZmZmZm/j/NzMzMzMwAQJqZmZmZmQ1A",
          "dtype": "f8"
         },
         "yaxis": "y"
        },
        {
         "bingroup": "x",
         "histfunc": "sum",
         "hovertemplate": "obcan_statu=Jemen<br>kraj=%{x}<br>sum of pocet=%{y}<extra></extra>",
         "legendgroup": "Jemen",
         "marker": {
          "color": "#636efa",
          "pattern": {
           "shape": ""
          }
         },
         "name": "Jemen",
         "orientation": "v",
         "showlegend": true,
         "type": "histogram",
         "x": [
          "Hlavní město Praha",
          "Jihomoravský kraj",
          "Karlovarský kraj",
          "Kraj Vysočina",
          "Královéhradecký kraj",
          "Liberecký kraj",
          "Moravskoslezský kraj",
          "Olomoucký kraj",
          "Pardubický kraj",
          "Plzeňský kraj",
          "Středočeský kraj",
          "Ústecký kraj"
         ],
         "xaxis": "x",
         "y": {
          "bdata": "AAAAAAAAEkBmZmZmZmYOQM3MzMzMzPQ/mpmZmZmZAUAAAAAAAAAMQM3MzMzMzPQ/mpmZmZmZ+T/NzMzMzMwIQAAAAAAAAPA/AAAAAAAAEECamZmZmZn5P5qZmZmZmfk/",
          "dtype": "f8"
         },
         "yaxis": "y"
        },
        {
         "bingroup": "x",
         "histfunc": "sum",
         "hovertemplate": "obcan_statu=Jižní Afrika<br>kraj=%{x}<br>sum of pocet=%{y}<extra></extra>",
         "legendgroup": "Jižní Afrika",
         "marker": {
          "color": "#EF553B",
          "pattern": {
           "shape": ""
          }
         },
         "name": "Jižní Afrika",
         "orientation": "v",
         "showlegend": true,
         "type": "histogram",
         "x": [
          "Hlavní město Praha",
          "Jihomoravský kraj",
          "Jihočeský kraj",
          "Karlovarský kraj",
          "Kraj Vysočina",
          "Královéhradecký kraj",
          "Liberecký kraj",
          "Moravskoslezský kraj",
          "Olomoucký kraj",
          "Pardubický kraj",
          "Středočeský kraj",
          "Zlínský kraj",
          "Ústecký kraj"
         ],
         "xaxis": "x",
         "y": {
          "bdata": "ZmZmZmZmGkBmZmZmZmb2P83MzMzMzPw/AAAAAAAA+D8AAAAAAADwPwAAAAAAAPA/AAAAAAAA+D8AAAAAAADwPzMzMzMzM/M/zczMzMzM9D/NzMzMzMz0P2ZmZmZmZvY/MzMzMzMz8z8=",
          "dtype": "f8"
         },
         "yaxis": "y"
        },
        {
         "bingroup": "x",
         "histfunc": "sum",
         "hovertemplate": "obcan_statu=Jordánsko<br>kraj=%{x}<br>sum of pocet=%{y}<extra></extra>",
         "legendgroup": "Jordánsko",
         "marker": {
          "color": "#00cc96",
          "pattern": {
           "shape": ""
          }
         },
         "name": "Jordánsko",
         "orientation": "v",
         "showlegend": true,
         "type": "histogram",
         "x": [
          "Hlavní město Praha",
          "Jihomoravský kraj",
          "Jihočeský kraj",
          "Karlovarský kraj",
          "Kraj Vysočina",
          "Královéhradecký kraj",
          "Liberecký kraj",
          "Moravskoslezský kraj",
          "Olomoucký kraj",
          "Pardubický kraj",
          "Plzeňský kraj",
          "Středočeský kraj",
          "Zlínský kraj",
          "Ústecký kraj"
         ],
         "xaxis": "x",
         "y": {
          "bdata": "mpmZmZmZIUCamZmZmZkBQAAAAAAAAPA/mpmZmZmZ8T8AAAAAAADwP5qZmZmZmfE/mpmZmZmZBUAzMzMzMzPzP83MzMzMzPQ/AAAAAAAA8D+amZmZmZkNQJqZmZmZmfk/mpmZmZmZ8T/NzMzMzMz0Pw==",
          "dtype": "f8"
         },
         "yaxis": "y"
        },
        {
         "bingroup": "x",
         "histfunc": "sum",
         "hovertemplate": "obcan_statu=Kambodža<br>kraj=%{x}<br>sum of pocet=%{y}<extra></extra>",
         "legendgroup": "Kambodža",
         "marker": {
          "color": "#ab63fa",
          "pattern": {
           "shape": ""
          }
         },
         "name": "Kambodža",
         "orientation": "v",
         "showlegend": true,
         "type": "histogram",
         "x": [
          "Hlavní město Praha",
          "Jihomoravský kraj",
          "Jihočeský kraj",
          "Kraj Vysočina",
          "Pardubický kraj",
          "Středočeský kraj"
         ],
         "xaxis": "x",
         "y": {
          "bdata": "AAAAAAAABECamZmZmZnxPwAAAAAAAPA/AAAAAAAA8D8AAAAAAADwPwAAAAAAAPA/",
          "dtype": "f8"
         },
         "yaxis": "y"
        },
        {
         "bingroup": "x",
         "histfunc": "sum",
         "hovertemplate": "obcan_statu=Kamerun<br>kraj=%{x}<br>sum of pocet=%{y}<extra></extra>",
         "legendgroup": "Kamerun",
         "marker": {
          "color": "#FFA15A",
          "pattern": {
           "shape": ""
          }
         },
         "name": "Kamerun",
         "orientation": "v",
         "showlegend": true,
         "type": "histogram",
         "x": [
          "Hlavní město Praha",
          "Jihomoravský kraj",
          "Liberecký kraj",
          "Olomoucký kraj",
          "Středočeský kraj",
          "Ústecký kraj"
         ],
         "xaxis": "x",
         "y": {
          "bdata": "AAAAAAAA8D8AAAAAAADwP83MzMzMzPQ/AAAAAAAA8D8AAAAAAADwPwAAAAAAAPA/",
          "dtype": "f8"
         },
         "yaxis": "y"
        },
        {
         "bingroup": "x",
         "histfunc": "sum",
         "hovertemplate": "obcan_statu=Kanada<br>kraj=%{x}<br>sum of pocet=%{y}<extra></extra>",
         "legendgroup": "Kanada",
         "marker": {
          "color": "#19d3f3",
          "pattern": {
           "shape": ""
          }
         },
         "name": "Kanada",
         "orientation": "v",
         "showlegend": true,
         "type": "histogram",
         "x": [
          "Hlavní město Praha",
          "Jihomoravský kraj",
          "Jihočeský kraj",
          "Karlovarský kraj",
          "Kraj Vysočina",
          "Královéhradecký kraj",
          "Liberecký kraj",
          "Moravskoslezský kraj",
          "Olomoucký kraj",
          "Pardubický kraj",
          "Plzeňský kraj",
          "Středočeský kraj",
          "Zlínský kraj",
          "nezjištěno",
          "Ústecký kraj"
         ],
         "xaxis": "x",
         "y": {
          "bdata": "AAAAAACAN0DNzMzMzMwAQJqZmZmZmfk/MzMzMzMz+z/NzMzMzMz0P5qZmZmZmQFAAAAAAAAA+D8zMzMzMzP7P2ZmZmZmZv4/zczMzMzM/D9mZmZmZmb+PwAAAAAAAABAMzMzMzMz+z9mZmZmZmYUQAAAAAAAAPg/",
          "dtype": "f8"
         },
         "yaxis": "y"
        },
        {
         "bingroup": "x",
         "histfunc": "sum",
         "hovertemplate": "obcan_statu=Kapverdy<br>kraj=%{x}<br>sum of pocet=%{y}<extra></extra>",
         "legendgroup": "Kapverdy",
         "marker": {
          "color": "#FF6692",
          "pattern": {
           "shape": ""
          }
         },
         "name": "Kapverdy",
         "orientation": "v",
         "showlegend": true,
         "type": "histogram",
         "x": [
          "Hlavní město Praha",
          "Jihomoravský kraj",
          "Středočeský kraj"
         ],
         "xaxis": "x",
         "y": {
          "bdata": "AAAAAAAAAEDNzMzMzMz0PwAAAAAAAPA/",
          "dtype": "f8"
         },
         "yaxis": "y"
        },
        {
         "bingroup": "x",
         "histfunc": "sum",
         "hovertemplate": "obcan_statu=Katar<br>kraj=%{x}<br>sum of pocet=%{y}<extra></extra>",
         "legendgroup": "Katar",
         "marker": {
          "color": "#B6E880",
          "pattern": {
           "shape": ""
          }
         },
         "name": "Katar",
         "orientation": "v",
         "showlegend": true,
         "type": "histogram",
         "x": [
          "Hlavní město Praha",
          "Liberecký kraj"
         ],
         "xaxis": "x",
         "y": {
          "bdata": "AAAAAAAA8D8AAAAAAADwPw==",
          "dtype": "f8"
         },
         "yaxis": "y"
        },
        {
         "bingroup": "x",
         "histfunc": "sum",
         "hovertemplate": "obcan_statu=Kazachstán<br>kraj=%{x}<br>sum of pocet=%{y}<extra></extra>",
         "legendgroup": "Kazachstán",
         "marker": {
          "color": "#FF97FF",
          "pattern": {
           "shape": ""
          }
         },
         "name": "Kazachstán",
         "orientation": "v",
         "showlegend": true,
         "type": "histogram",
         "x": [
          "Hlavní město Praha",
          "Jihomoravský kraj",
          "Jihočeský kraj",
          "Karlovarský kraj",
          "Kraj Vysočina",
          "Královéhradecký kraj",
          "Liberecký kraj",
          "Moravskoslezský kraj",
          "Olomoucký kraj",
          "Pardubický kraj",
          "Plzeňský kraj",
          "Středočeský kraj",
          "Zlínský kraj",
          "Ústecký kraj"
         ],
         "xaxis": "x",
         "y": {
          "bdata": "MzMzMzNzTUAzMzMzMzMHQAAAAAAAAABAmpmZmZmZGUAAAAAAAAAEQGZmZmZmZgZAZmZmZmZmEEAzMzMzMzMHQGZmZmZmZgJAmpmZmZmZAUCamZmZmZkJQGZmZmZmZhJAZmZmZmZm/j8AAAAAAAAYQA==",
          "dtype": "f8"
         },
         "yaxis": "y"
        },
        {
         "bingroup": "x",
         "histfunc": "sum",
         "hovertemplate": "obcan_statu=Keňa<br>kraj=%{x}<br>sum of pocet=%{y}<extra></extra>",
         "legendgroup": "Keňa",
         "marker": {
          "color": "#FECB52",
          "pattern": {
           "shape": ""
          }
         },
         "name": "Keňa",
         "orientation": "v",
         "showlegend": true,
         "type": "histogram",
         "x": [
          "Hlavní město Praha",
          "Karlovarský kraj",
          "Královéhradecký kraj",
          "Plzeňský kraj",
          "Středočeský kraj"
         ],
         "xaxis": "x",
         "y": {
          "bdata": "AAAAAAAAFkAAAAAAAADwPzMzMzMzM/s/ZmZmZmZmCkCamZmZmZnxPw==",
          "dtype": "f8"
         },
         "yaxis": "y"
        },
        {
         "bingroup": "x",
         "histfunc": "sum",
         "hovertemplate": "obcan_statu=Kolumbie<br>kraj=%{x}<br>sum of pocet=%{y}<extra></extra>",
         "legendgroup": "Kolumbie",
         "marker": {
          "color": "#636efa",
          "pattern": {
           "shape": ""
          }
         },
         "name": "Kolumbie",
         "orientation": "v",
         "showlegend": true,
         "type": "histogram",
         "x": [
          "Hlavní město Praha",
          "Jihomoravský kraj",
          "Jihočeský kraj",
          "Karlovarský kraj",
          "Královéhradecký kraj",
          "Liberecký kraj",
          "Moravskoslezský kraj",
          "Olomoucký kraj",
          "Pardubický kraj",
          "Plzeňský kraj",
          "Středočeský kraj",
          "Zlínský kraj",
          "Ústecký kraj"
         ],
         "xaxis": "x",
         "y": {
          "bdata": "ZmZmZmZmGEAAAAAAAAAEQAAAAAAAAPA/AAAAAAAA+D8AAAAAAADwPwAAAAAAAPA/AAAAAAAA8D8AAAAAAAAAQAAAAAAAAPA/AAAAAAAA8D+amZmZmZnxPwAAAAAAAPA/AAAAAAAAAEA=",
          "dtype": "f8"
         },
         "yaxis": "y"
        },
        {
         "bingroup": "x",
         "histfunc": "sum",
         "hovertemplate": "obcan_statu=Kongo<br>kraj=%{x}<br>sum of pocet=%{y}<extra></extra>",
         "legendgroup": "Kongo",
         "marker": {
          "color": "#EF553B",
          "pattern": {
           "shape": ""
          }
         },
         "name": "Kongo",
         "orientation": "v",
         "showlegend": true,
         "type": "histogram",
         "x": [
          "Hlavní město Praha",
          "Jihomoravský kraj",
          "Jihočeský kraj",
          "Liberecký kraj",
          "Moravskoslezský kraj",
          "Plzeňský kraj",
          "Středočeský kraj",
          "Ústecký kraj"
         ],
         "xaxis": "x",
         "y": {
          "bdata": "mpmZmZmZE0CamZmZmZkBQAAAAAAAAPA/AAAAAAAA8D8AAAAAAADwPwAAAAAAAPA/AAAAAAAA+D8AAAAAAADwPw==",
          "dtype": "f8"
         },
         "yaxis": "y"
        },
        {
         "bingroup": "x",
         "histfunc": "sum",
         "hovertemplate": "obcan_statu=Kongo, demokrat.repub.<br>kraj=%{x}<br>sum of pocet=%{y}<extra></extra>",
         "legendgroup": "Kongo, demokrat.repub.",
         "marker": {
          "color": "#00cc96",
          "pattern": {
           "shape": ""
          }
         },
         "name": "Kongo, demokrat.repub.",
         "orientation": "v",
         "showlegend": true,
         "type": "histogram",
         "x": [
          "Hlavní město Praha",
          "Jihomoravský kraj",
          "Karlovarský kraj",
          "Kraj Vysočina",
          "Královéhradecký kraj",
          "Liberecký kraj",
          "Moravskoslezský kraj",
          "Plzeňský kraj",
          "Středočeský kraj",
          "Ústecký kraj"
         ],
         "xaxis": "x",
         "y": {
          "bdata": "ZmZmZmZmCkAAAAAAAADwPwAAAAAAAPA/AAAAAAAA8D8AAAAAAADwPwAAAAAAAPA/AAAAAAAA8D/NzMzMzMz0PwAAAAAAAPA/MzMzMzMz8z8=",
          "dtype": "f8"
         },
         "yaxis": "y"
        },
        {
         "bingroup": "x",
         "histfunc": "sum",
         "hovertemplate": "obcan_statu=Korea, lidově dem. rep.<br>kraj=%{x}<br>sum of pocet=%{y}<extra></extra>",
         "legendgroup": "Korea, lidově dem. rep.",
         "marker": {
          "color": "#ab63fa",
          "pattern": {
           "shape": ""
          }
         },
         "name": "Korea, lidově dem. rep.",
         "orientation": "v",
         "showlegend": true,
         "type": "histogram",
         "x": [
          "Hlavní město Praha",
          "Královéhradecký kraj",
          "Liberecký kraj",
          "Olomoucký kraj",
          "Pardubický kraj",
          "Středočeský kraj"
         ],
         "xaxis": "x",
         "y": {
          "bdata": "AAAAAACANUAAAAAAAIAwQAAAAAAAABhAZmZmZmZmLUDNzMzMzMwmQGZmZmZm5jFA",
          "dtype": "f8"
         },
         "yaxis": "y"
        },
        {
         "bingroup": "x",
         "histfunc": "sum",
         "hovertemplate": "obcan_statu=Korejská republika<br>kraj=%{x}<br>sum of pocet=%{y}<extra></extra>",
         "legendgroup": "Korejská republika",
         "marker": {
          "color": "#FFA15A",
          "pattern": {
           "shape": ""
          }
         },
         "name": "Korejská republika",
         "orientation": "v",
         "showlegend": true,
         "type": "histogram",
         "x": [
          "Hlavní město Praha",
          "Jihomoravský kraj",
          "Jihočeský kraj",
          "Karlovarský kraj",
          "Královéhradecký kraj",
          "Liberecký kraj",
          "Moravskoslezský kraj",
          "Olomoucký kraj",
          "Plzeňský kraj",
          "Středočeský kraj",
          "Zlínský kraj",
          "nezjištěno",
          "Ústecký kraj"
         ],
         "xaxis": "x",
         "y": {
          "bdata": "zczMzMzMLEBmZmZmZmYKQJqZmZmZmfE/AAAAAAAA8D8AAAAAAADwPwAAAAAAAPg/AAAAAAAA8D9mZmZmZmYSQAAAAAAAAPg/MzMzMzMzA0AAAAAAAADwPwAAAAAAAABAAAAAAAAA8D8=",
          "dtype": "f8"
         },
         "yaxis": "y"
        },
        {
         "bingroup": "x",
         "histfunc": "sum",
         "hovertemplate": "obcan_statu=Kostarika<br>kraj=%{x}<br>sum of pocet=%{y}<extra></extra>",
         "legendgroup": "Kostarika",
         "marker": {
          "color": "#19d3f3",
          "pattern": {
           "shape": ""
          }
         },
         "name": "Kostarika",
         "orientation": "v",
         "showlegend": true,
         "type": "histogram",
         "x": [
          "Hlavní město Praha",
          "Jihomoravský kraj",
          "Karlovarský kraj",
          "Pardubický kraj",
          "Plzeňský kraj",
          "Středočeský kraj"
         ],
         "xaxis": "x",
         "y": {
          "bdata": "zczMzMzMBECamZmZmZkBQAAAAAAAAPA/AAAAAAAA8D8AAAAAAADwPzMzMzMzM/s/",
          "dtype": "f8"
         },
         "yaxis": "y"
        },
        {
         "bingroup": "x",
         "histfunc": "sum",
         "hovertemplate": "obcan_statu=Kuba<br>kraj=%{x}<br>sum of pocet=%{y}<extra></extra>",
         "legendgroup": "Kuba",
         "marker": {
          "color": "#FF6692",
          "pattern": {
           "shape": ""
          }
         },
         "name": "Kuba",
         "orientation": "v",
         "showlegend": true,
         "type": "histogram",
         "x": [
          "Hlavní město Praha",
          "Jihomoravský kraj",
          "Jihočeský kraj",
          "Karlovarský kraj",
          "Kraj Vysočina",
          "Královéhradecký kraj",
          "Liberecký kraj",
          "Moravskoslezský kraj",
          "Olomoucký kraj",
          "Pardubický kraj",
          "Plzeňský kraj",
          "Středočeský kraj",
          "Zlínský kraj",
          "Ústecký kraj"
         ],
         "xaxis": "x",
         "y": {
          "bdata": "MzMzMzMzHUAzMzMzMzMDQDMzMzMzM/M/ZmZmZmZm9j8AAAAAAADwP2ZmZmZmZvY/zczMzMzMAEBmZmZmZmYOQJqZmZmZmQFAzczMzMzM/D8zMzMzMzP7PwAAAAAAAABAAAAAAAAAAECamZmZmZkBQA==",
          "dtype": "f8"
         },
         "yaxis": "y"
        },
        {
         "bingroup": "x",
         "histfunc": "sum",
         "hovertemplate": "obcan_statu=Kuvajt<br>kraj=%{x}<br>sum of pocet=%{y}<extra></extra>",
         "legendgroup": "Kuvajt",
         "marker": {
          "color": "#B6E880",
          "pattern": {
           "shape": ""
          }
         },
         "name": "Kuvajt",
         "orientation": "v",
         "showlegend": true,
         "type": "histogram",
         "x": [
          "Hlavní město Praha",
          "Jihomoravský kraj",
          "Karlovarský kraj",
          "Královéhradecký kraj",
          "Moravskoslezský kraj",
          "Plzeňský kraj",
          "Středočeský kraj",
          "nezjištěno",
          "Ústecký kraj"
         ],
         "xaxis": "x",
         "y": {
          "bdata": "AAAAAAAACECamZmZmZkFQDMzMzMzM/M/AAAAAAAAEEAAAAAAAAAAQAAAAAAAABpAAAAAAAAA8D8AAAAAAADwPwAAAAAAAPA/",
          "dtype": "f8"
         },
         "yaxis": "y"
        },
        {
         "bingroup": "x",
         "histfunc": "sum",
         "hovertemplate": "obcan_statu=Kypr<br>kraj=%{x}<br>sum of pocet=%{y}<extra></extra>",
         "legendgroup": "Kypr",
         "marker": {
          "color": "#FF97FF",
          "pattern": {
           "shape": ""
          }
         },
         "name": "Kypr",
         "orientation": "v",
         "showlegend": true,
         "type": "histogram",
         "x": [
          "Hlavní město Praha",
          "Jihomoravský kraj",
          "Olomoucký kraj",
          "Pardubický kraj",
          "Plzeňský kraj",
          "Středočeský kraj",
          "Zlínský kraj"
         ],
         "xaxis": "x",
         "y": {
          "bdata": "AAAAAAAAEEDNzMzMzMz0PwAAAAAAAPA/AAAAAAAA+D8zMzMzMzP7P5qZmZmZmfE/AAAAAAAA8D8=",
          "dtype": "f8"
         },
         "yaxis": "y"
        },
        {
         "bingroup": "x",
         "histfunc": "sum",
         "hovertemplate": "obcan_statu=Kyrgyzstán<br>kraj=%{x}<br>sum of pocet=%{y}<extra></extra>",
         "legendgroup": "Kyrgyzstán",
         "marker": {
          "color": "#FECB52",
          "pattern": {
           "shape": ""
          }
         },
         "name": "Kyrgyzstán",
         "orientation": "v",
         "showlegend": true,
         "type": "histogram",
         "x": [
          "Hlavní město Praha",
          "Jihomoravský kraj",
          "Jihočeský kraj",
          "Karlovarský kraj",
          "Královéhradecký kraj",
          "Moravskoslezský kraj",
          "Olomoucký kraj",
          "Středočeský kraj",
          "nezjištěno",
          "Ústecký kraj"
         ],
         "xaxis": "x",
         "y": {
          "bdata": "ZmZmZmZmLUAzMzMzMzMLQJqZmZmZmfk/MzMzMzMzD0AzMzMzMzP7P5qZmZmZmfE/zczMzMzM9D8AAAAAAAAAQAAAAAAAAPA/mpmZmZmZAUA=",
          "dtype": "f8"
         },
         "yaxis": "y"
        },
        {
         "bingroup": "x",
         "histfunc": "sum",
         "hovertemplate": "obcan_statu=Laos<br>kraj=%{x}<br>sum of pocet=%{y}<extra></extra>",
         "legendgroup": "Laos",
         "marker": {
          "color": "#636efa",
          "pattern": {
           "shape": ""
          }
         },
         "name": "Laos",
         "orientation": "v",
         "showlegend": true,
         "type": "histogram",
         "x": [
          "Hlavní město Praha",
          "Jihomoravský kraj",
          "Středočeský kraj"
         ],
         "xaxis": "x",
         "y": {
          "bdata": "AAAAAAAABEAzMzMzMzP7PwAAAAAAAPA/",
          "dtype": "f8"
         },
         "yaxis": "y"
        },
        {
         "bingroup": "x",
         "histfunc": "sum",
         "hovertemplate": "obcan_statu=Lesotho<br>kraj=%{x}<br>sum of pocet=%{y}<extra></extra>",
         "legendgroup": "Lesotho",
         "marker": {
          "color": "#EF553B",
          "pattern": {
           "shape": ""
          }
         },
         "name": "Lesotho",
         "orientation": "v",
         "showlegend": true,
         "type": "histogram",
         "x": [
          "Hlavní město Praha",
          "Plzeňský kraj"
         ],
         "xaxis": "x",
         "y": {
          "bdata": "AAAAAAAA8D8AAAAAAADwPw==",
          "dtype": "f8"
         },
         "yaxis": "y"
        },
        {
         "bingroup": "x",
         "histfunc": "sum",
         "hovertemplate": "obcan_statu=Libanon<br>kraj=%{x}<br>sum of pocet=%{y}<extra></extra>",
         "legendgroup": "Libanon",
         "marker": {
          "color": "#00cc96",
          "pattern": {
           "shape": ""
          }
         },
         "name": "Libanon",
         "orientation": "v",
         "showlegend": true,
         "type": "histogram",
         "x": [
          "Hlavní město Praha",
          "Jihomoravský kraj",
          "Jihočeský kraj",
          "Karlovarský kraj",
          "Kraj Vysočina",
          "Královéhradecký kraj",
          "Liberecký kraj",
          "Moravskoslezský kraj",
          "Olomoucký kraj",
          "Pardubický kraj",
          "Plzeňský kraj",
          "Středočeský kraj",
          "Zlínský kraj",
          "Ústecký kraj"
         ],
         "xaxis": "x",
         "y": {
          "bdata": "MzMzMzMzJ0AAAAAAAAAAQAAAAAAAAPA/AAAAAAAADECamZmZmZnxPwAAAAAAAARAzczMzMzM9D8AAAAAAAD4P83MzMzMzPw/AAAAAAAA+D8AAAAAAAAAQDMzMzMzM/s/AAAAAAAA8D9mZmZmZmb+Pw==",
          "dtype": "f8"
         },
         "yaxis": "y"
        },
        {
         "bingroup": "x",
         "histfunc": "sum",
         "hovertemplate": "obcan_statu=Libye<br>kraj=%{x}<br>sum of pocet=%{y}<extra></extra>",
         "legendgroup": "Libye",
         "marker": {
          "color": "#ab63fa",
          "pattern": {
           "shape": ""
          }
         },
         "name": "Libye",
         "orientation": "v",
         "showlegend": true,
         "type": "histogram",
         "x": [
          "Hlavní město Praha",
          "Jihomoravský kraj",
          "Jihočeský kraj",
          "Karlovarský kraj",
          "Královéhradecký kraj",
          "Liberecký kraj",
          "Moravskoslezský kraj",
          "Olomoucký kraj",
          "Pardubický kraj",
          "Plzeňský kraj",
          "Středočeský kraj",
          "Zlínský kraj",
          "nezjištěno",
          "Ústecký kraj"
         ],
         "xaxis": "x",
         "y": {
          "bdata": "mpmZmZkZMEAAAAAAAAAoQAAAAAAAAPA/AAAAAAAA8D8zMzMzMzMDQJqZmZmZmfk/AAAAAAAA+D/NzMzMzMz8P83MzMzMzPw/MzMzMzMzB0DNzMzMzMz0PwAAAAAAAPA/AAAAAAAA8D8zMzMzMzPzPw==",
          "dtype": "f8"
         },
         "yaxis": "y"
        },
        {
         "bingroup": "x",
         "histfunc": "sum",
         "hovertemplate": "obcan_statu=Libérie<br>kraj=%{x}<br>sum of pocet=%{y}<extra></extra>",
         "legendgroup": "Libérie",
         "marker": {
          "color": "#FFA15A",
          "pattern": {
           "shape": ""
          }
         },
         "name": "Libérie",
         "orientation": "v",
         "showlegend": true,
         "type": "histogram",
         "x": [
          "Hlavní město Praha",
          "Jihomoravský kraj"
         ],
         "xaxis": "x",
         "y": {
          "bdata": "AAAAAAAA8D8AAAAAAAAAQA==",
          "dtype": "f8"
         },
         "yaxis": "y"
        },
        {
         "bingroup": "x",
         "histfunc": "sum",
         "hovertemplate": "obcan_statu=Litva<br>kraj=%{x}<br>sum of pocet=%{y}<extra></extra>",
         "legendgroup": "Litva",
         "marker": {
          "color": "#19d3f3",
          "pattern": {
           "shape": ""
          }
         },
         "name": "Litva",
         "orientation": "v",
         "showlegend": true,
         "type": "histogram",
         "x": [
          "Hlavní město Praha",
          "Jihomoravský kraj",
          "Jihočeský kraj",
          "Karlovarský kraj",
          "Kraj Vysočina",
          "Královéhradecký kraj",
          "Liberecký kraj",
          "Moravskoslezský kraj",
          "Olomoucký kraj",
          "Pardubický kraj",
          "Plzeňský kraj",
          "Středočeský kraj",
          "Zlínský kraj",
          "Ústecký kraj"
         ],
         "xaxis": "x",
         "y": {
          "bdata": "mpmZmZmZF0BmZmZmZmb+PwAAAAAAAPA/mpmZmZmZ8T8AAAAAAADwPwAAAAAAAPA/ZmZmZmZm9j9mZmZmZmb+PwAAAAAAAPA/AAAAAAAA+D/NzMzMzMz8P5qZmZmZmfk/AAAAAAAA8D8AAAAAAADwPw==",
          "dtype": "f8"
         },
         "yaxis": "y"
        },
        {
         "bingroup": "x",
         "histfunc": "sum",
         "hovertemplate": "obcan_statu=Lotyšsko<br>kraj=%{x}<br>sum of pocet=%{y}<extra></extra>",
         "legendgroup": "Lotyšsko",
         "marker": {
          "color": "#FF6692",
          "pattern": {
           "shape": ""
          }
         },
         "name": "Lotyšsko",
         "orientation": "v",
         "showlegend": true,
         "type": "histogram",
         "x": [
          "Hlavní město Praha",
          "Jihomoravský kraj",
          "Jihočeský kraj",
          "Karlovarský kraj",
          "Královéhradecký kraj",
          "Liberecký kraj",
          "Moravskoslezský kraj",
          "Plzeňský kraj",
          "Středočeský kraj",
          "Zlínský kraj",
          "Ústecký kraj"
         ],
         "xaxis": "x",
         "y": {
          "bdata": "AAAAAAAAEEAAAAAAAADwPwAAAAAAAPA/zczMzMzM9D8AAAAAAADwPwAAAAAAAPA/mpmZmZmZ+T+amZmZmZnxP5qZmZmZmfE/zczMzMzM/D8AAAAAAADwPw==",
          "dtype": "f8"
         },
         "yaxis": "y"
        },
        {
         "bingroup": "x",
         "histfunc": "sum",
         "hovertemplate": "obcan_statu=Lucembursko<br>kraj=%{x}<br>sum of pocet=%{y}<extra></extra>",
         "legendgroup": "Lucembursko",
         "marker": {
          "color": "#B6E880",
          "pattern": {
           "shape": ""
          }
         },
         "name": "Lucembursko",
         "orientation": "v",
         "showlegend": true,
         "type": "histogram",
         "x": [
          "Hlavní město Praha",
          "Moravskoslezský kraj",
          "Olomoucký kraj",
          "Středočeský kraj"
         ],
         "xaxis": "x",
         "y": {
          "bdata": "AAAAAAAA+D8AAAAAAAAIQM3MzMzMzPQ/AAAAAAAA8D8=",
          "dtype": "f8"
         },
         "yaxis": "y"
        },
        {
         "bingroup": "x",
         "histfunc": "sum",
         "hovertemplate": "obcan_statu=Madagaskar<br>kraj=%{x}<br>sum of pocet=%{y}<extra></extra>",
         "legendgroup": "Madagaskar",
         "marker": {
          "color": "#FF97FF",
          "pattern": {
           "shape": ""
          }
         },
         "name": "Madagaskar",
         "orientation": "v",
         "showlegend": true,
         "type": "histogram",
         "x": [
          "Hlavní město Praha",
          "Jihomoravský kraj",
          "Jihočeský kraj",
          "Karlovarský kraj",
          "Liberecký kraj",
          "Moravskoslezský kraj",
          "Středočeský kraj"
         ],
         "xaxis": "x",
         "y": {
          "bdata": "AAAAAAAABEDNzMzMzMz0PwAAAAAAAPA/AAAAAAAA8D+amZmZmZnxP5qZmZmZmfk/zczMzMzM9D8=",
          "dtype": "f8"
         },
         "yaxis": "y"
        },
        {
         "bingroup": "x",
         "histfunc": "sum",
         "hovertemplate": "obcan_statu=Makedonie,býv.jugosl.r.<br>kraj=%{x}<br>sum of pocet=%{y}<extra></extra>",
         "legendgroup": "Makedonie,býv.jugosl.r.",
         "marker": {
          "color": "#FECB52",
          "pattern": {
           "shape": ""
          }
         },
         "name": "Makedonie,býv.jugosl.r.",
         "orientation": "v",
         "showlegend": true,
         "type": "histogram",
         "x": [
          "Hlavní město Praha",
          "Jihomoravský kraj",
          "Jihočeský kraj",
          "Karlovarský kraj",
          "Kraj Vysočina",
          "Královéhradecký kraj",
          "Liberecký kraj",
          "Moravskoslezský kraj",
          "Olomoucký kraj",
          "Pardubický kraj",
          "Plzeňský kraj",
          "Středočeský kraj",
          "Zlínský kraj",
          "Ústecký kraj"
         ],
         "xaxis": "x",
         "y": {
          "bdata": "AAAAAACARkAzMzMzMzMLQGZmZmZmZv4/MzMzMzMz+z+amZmZmZn5P5qZmZmZmQVAMzMzMzMz+z+amZmZmZkJQJqZmZmZmQVAZmZmZmZm/j/NzMzMzMwEQDMzMzMzMwdAZmZmZmZmAkAzMzMzMzMTQA==",
          "dtype": "f8"
         },
         "yaxis": "y"
        },
        {
         "bingroup": "x",
         "histfunc": "sum",
         "hovertemplate": "obcan_statu=Malajsie<br>kraj=%{x}<br>sum of pocet=%{y}<extra></extra>",
         "legendgroup": "Malajsie",
         "marker": {
          "color": "#636efa",
          "pattern": {
           "shape": ""
          }
         },
         "name": "Malajsie",
         "orientation": "v",
         "showlegend": true,
         "type": "histogram",
         "x": [
          "Hlavní město Praha",
          "Královéhradecký kraj",
          "Středočeský kraj"
         ],
         "xaxis": "x",
         "y": {
          "bdata": "mpmZmZmZCUAAAAAAAAAEQAAAAAAAAPg/",
          "dtype": "f8"
         },
         "yaxis": "y"
        },
        {
         "bingroup": "x",
         "histfunc": "sum",
         "hovertemplate": "obcan_statu=Maledivy<br>kraj=%{x}<br>sum of pocet=%{y}<extra></extra>",
         "legendgroup": "Maledivy",
         "marker": {
          "color": "#EF553B",
          "pattern": {
           "shape": ""
          }
         },
         "name": "Maledivy",
         "orientation": "v",
         "showlegend": true,
         "type": "histogram",
         "x": [
          "Hlavní město Praha",
          "Plzeňský kraj"
         ],
         "xaxis": "x",
         "y": {
          "bdata": "zczMzMzM9D8AAAAAAADwPw==",
          "dtype": "f8"
         },
         "yaxis": "y"
        },
        {
         "bingroup": "x",
         "histfunc": "sum",
         "hovertemplate": "obcan_statu=Mali<br>kraj=%{x}<br>sum of pocet=%{y}<extra></extra>",
         "legendgroup": "Mali",
         "marker": {
          "color": "#00cc96",
          "pattern": {
           "shape": ""
          }
         },
         "name": "Mali",
         "orientation": "v",
         "showlegend": true,
         "type": "histogram",
         "x": [
          "Hlavní město Praha",
          "Jihomoravský kraj",
          "Moravskoslezský kraj",
          "Středočeský kraj",
          "Ústecký kraj"
         ],
         "xaxis": "x",
         "y": {
          "bdata": "AAAAAAAABEAAAAAAAAAAQAAAAAAAAPA/MzMzMzMz+z8AAAAAAADwPw==",
          "dtype": "f8"
         },
         "yaxis": "y"
        },
        {
         "bingroup": "x",
         "histfunc": "sum",
         "hovertemplate": "obcan_statu=Malta<br>kraj=%{x}<br>sum of pocet=%{y}<extra></extra>",
         "legendgroup": "Malta",
         "marker": {
          "color": "#ab63fa",
          "pattern": {
           "shape": ""
          }
         },
         "name": "Malta",
         "orientation": "v",
         "showlegend": true,
         "type": "histogram",
         "x": [
          "Hlavní město Praha",
          "Královéhradecký kraj",
          "Moravskoslezský kraj",
          "Ústecký kraj"
         ],
         "xaxis": "x",
         "y": {
          "bdata": "mpmZmZmZAUAAAAAAAADwPwAAAAAAAPA/AAAAAAAA8D8=",
          "dtype": "f8"
         },
         "yaxis": "y"
        },
        {
         "bingroup": "x",
         "histfunc": "sum",
         "hovertemplate": "obcan_statu=Maroko<br>kraj=%{x}<br>sum of pocet=%{y}<extra></extra>",
         "legendgroup": "Maroko",
         "marker": {
          "color": "#FFA15A",
          "pattern": {
           "shape": ""
          }
         },
         "name": "Maroko",
         "orientation": "v",
         "showlegend": true,
         "type": "histogram",
         "x": [
          "Hlavní město Praha",
          "Jihomoravský kraj",
          "Jihočeský kraj",
          "Karlovarský kraj",
          "Kraj Vysočina",
          "Královéhradecký kraj",
          "Liberecký kraj",
          "Moravskoslezský kraj",
          "Olomoucký kraj",
          "Pardubický kraj",
          "Plzeňský kraj",
          "Středočeský kraj",
          "Zlínský kraj",
          "nezjištěno",
          "Ústecký kraj"
         ],
         "xaxis": "x",
         "y": {
          "bdata": "ZmZmZmZmKECamZmZmZkBQAAAAAAAAPA/AAAAAAAAEkAAAAAAAADwPzMzMzMzM/M/ZmZmZmZm9j8zMzMzMzP7P5qZmZmZmfk/MzMzMzMz8z8AAAAAAADwPzMzMzMzM/M/zczMzMzM9D8AAAAAAAAAQJqZmZmZmfE/",
          "dtype": "f8"
         },
         "yaxis": "y"
        },
        {
         "bingroup": "x",
         "histfunc": "sum",
         "hovertemplate": "obcan_statu=Mauricius<br>kraj=%{x}<br>sum of pocet=%{y}<extra></extra>",
         "legendgroup": "Mauricius",
         "marker": {
          "color": "#19d3f3",
          "pattern": {
           "shape": ""
          }
         },
         "name": "Mauricius",
         "orientation": "v",
         "showlegend": true,
         "type": "histogram",
         "x": [
          "Hlavní město Praha",
          "Královéhradecký kraj"
         ],
         "xaxis": "x",
         "y": {
          "bdata": "mpmZmZmZ8T8AAAAAAADwPw==",
          "dtype": "f8"
         },
         "yaxis": "y"
        },
        {
         "bingroup": "x",
         "histfunc": "sum",
         "hovertemplate": "obcan_statu=Maďarsko<br>kraj=%{x}<br>sum of pocet=%{y}<extra></extra>",
         "legendgroup": "Maďarsko",
         "marker": {
          "color": "#FF6692",
          "pattern": {
           "shape": ""
          }
         },
         "name": "Maďarsko",
         "orientation": "v",
         "showlegend": true,
         "type": "histogram",
         "x": [
          "Hlavní město Praha",
          "Jihomoravský kraj",
          "Jihočeský kraj",
          "Karlovarský kraj",
          "Kraj Vysočina",
          "Královéhradecký kraj",
          "Liberecký kraj",
          "Moravskoslezský kraj",
          "Olomoucký kraj",
          "Pardubický kraj",
          "Plzeňský kraj",
          "Středočeský kraj",
          "Zlínský kraj",
          "Ústecký kraj"
         ],
         "xaxis": "x",
         "y": {
          "bdata": "mpmZmZmZLkBmZmZmZmYCQDMzMzMzM/M/AAAAAAAAAECamZmZmZn5P2ZmZmZmZvY/ZmZmZmZm9j8AAAAAAAAQQAAAAAAAAABAZmZmZmZm/j8AAAAAAAD4P83MzMzMzPw/mpmZmZmZ8T9mZmZmZmb+Pw==",
          "dtype": "f8"
         },
         "yaxis": "y"
        },
        {
         "bingroup": "x",
         "histfunc": "sum",
         "hovertemplate": "obcan_statu=Mexiko<br>kraj=%{x}<br>sum of pocet=%{y}<extra></extra>",
         "legendgroup": "Mexiko",
         "marker": {
          "color": "#B6E880",
          "pattern": {
           "shape": ""
          }
         },
         "name": "Mexiko",
         "orientation": "v",
         "showlegend": true,
         "type": "histogram",
         "x": [
          "Hlavní město Praha",
          "Jihomoravský kraj",
          "Jihočeský kraj",
          "Karlovarský kraj",
          "Královéhradecký kraj",
          "Liberecký kraj",
          "Moravskoslezský kraj",
          "Olomoucký kraj",
          "Pardubický kraj",
          "Plzeňský kraj",
          "Středočeský kraj",
          "Zlínský kraj",
          "Ústecký kraj"
         ],
         "xaxis": "x",
         "y": {
          "bdata": "zczMzMzMEEAAAAAAAADwPwAAAAAAAPA/AAAAAAAA8D+amZmZmZnxPwAAAAAAAPA/mpmZmZmZ+T8AAAAAAAD4PwAAAAAAAPA/AAAAAAAA8D8AAAAAAAD4PwAAAAAAAPA/AAAAAAAA8D8=",
          "dtype": "f8"
         },
         "yaxis": "y"
        },
        {
         "bingroup": "x",
         "histfunc": "sum",
         "hovertemplate": "obcan_statu=Moldavská republika<br>kraj=%{x}<br>sum of pocet=%{y}<extra></extra>",
         "legendgroup": "Moldavská republika",
         "marker": {
          "color": "#FF97FF",
          "pattern": {
           "shape": ""
          }
         },
         "name": "Moldavská republika",
         "orientation": "v",
         "showlegend": true,
         "type": "histogram",
         "x": [
          "Hlavní město Praha",
          "Jihomoravský kraj",
          "Jihočeský kraj",
          "Karlovarský kraj",
          "Kraj Vysočina",
          "Královéhradecký kraj",
          "Liberecký kraj",
          "Moravskoslezský kraj",
          "Olomoucký kraj",
          "Pardubický kraj",
          "Plzeňský kraj",
          "Středočeský kraj",
          "Zlínský kraj",
          "nezjištěno",
          "Ústecký kraj"
         ],
         "xaxis": "x",
         "y": {
          "bdata": "ZmZmZmZmVEBmZmZmZmYnQAAAAAAAABRAZmZmZmZmFEAzMzMzMzMZQDMzMzMzMxFAAAAAAAAAIkCamZmZmZkBQM3MzMzMzBpAMzMzMzMzC0BmZmZmZmYaQDMzMzMzMyZAMzMzMzMzF0AAAAAAAAAAQDMzMzMzMxdA",
          "dtype": "f8"
         },
         "yaxis": "y"
        },
        {
         "bingroup": "x",
         "histfunc": "sum",
         "hovertemplate": "obcan_statu=Mongolsko<br>kraj=%{x}<br>sum of pocet=%{y}<extra></extra>",
         "legendgroup": "Mongolsko",
         "marker": {
          "color": "#FECB52",
          "pattern": {
           "shape": ""
          }
         },
         "name": "Mongolsko",
         "orientation": "v",
         "showlegend": true,
         "type": "histogram",
         "x": [
          "Hlavní město Praha",
          "Jihomoravský kraj",
          "Jihočeský kraj",
          "Karlovarský kraj",
          "Kraj Vysočina",
          "Královéhradecký kraj",
          "Liberecký kraj",
          "Moravskoslezský kraj",
          "Olomoucký kraj",
          "Pardubický kraj",
          "Plzeňský kraj",
          "Středočeský kraj",
          "Zlínský kraj",
          "nezjištěno",
          "Ústecký kraj"
         ],
         "xaxis": "x",
         "y": {
          "bdata": "AAAAAAAAL0BmZmZmZmYoQDMzMzMzMwdAMzMzMzMzKECamZmZmZkqQM3MzMzMzAhAAAAAAAAABEBmZmZmZmb2PzMzMzMzMxtAzczMzMzMDEDNzMzMzMwWQM3MzMzMzAxAmpmZmZmZIkDNzMzMzMz0PwAAAAAAABZA",
          "dtype": "f8"
         },
         "yaxis": "y"
        },
        {
         "bingroup": "x",
         "histfunc": "sum",
         "hovertemplate": "obcan_statu=Mosambik<br>kraj=%{x}<br>sum of pocet=%{y}<extra></extra>",
         "legendgroup": "Mosambik",
         "marker": {
          "color": "#636efa",
          "pattern": {
           "shape": ""
          }
         },
         "name": "Mosambik",
         "orientation": "v",
         "showlegend": true,
         "type": "histogram",
         "x": [
          "Hlavní město Praha",
          "Jihomoravský kraj",
          "Liberecký kraj",
          "Moravskoslezský kraj",
          "Olomoucký kraj"
         ],
         "xaxis": "x",
         "y": {
          "bdata": "mpmZmZmZ8T8AAAAAAADwPwAAAAAAAPA/AAAAAAAA8D8AAAAAAADwPw==",
          "dtype": "f8"
         },
         "yaxis": "y"
        },
        {
         "bingroup": "x",
         "histfunc": "sum",
         "hovertemplate": "obcan_statu=Namibie<br>kraj=%{x}<br>sum of pocet=%{y}<extra></extra>",
         "legendgroup": "Namibie",
         "marker": {
          "color": "#EF553B",
          "pattern": {
           "shape": ""
          }
         },
         "name": "Namibie",
         "orientation": "v",
         "showlegend": true,
         "type": "histogram",
         "x": [
          "Hlavní město Praha",
          "Jihočeský kraj",
          "Karlovarský kraj",
          "Olomoucký kraj",
          "Plzeňský kraj",
          "Ústecký kraj"
         ],
         "xaxis": "x",
         "y": {
          "bdata": "ZmZmZmZmAkAzMzMzMzMDQJqZmZmZmfE/AAAAAAAA8D8AAAAAAAAAQAAAAAAAAAhA",
          "dtype": "f8"
         },
         "yaxis": "y"
        },
        {
         "bingroup": "x",
         "histfunc": "sum",
         "hovertemplate": "obcan_statu=Nauru<br>kraj=%{x}<br>sum of pocet=%{y}<extra></extra>",
         "legendgroup": "Nauru",
         "marker": {
          "color": "#00cc96",
          "pattern": {
           "shape": ""
          }
         },
         "name": "Nauru",
         "orientation": "v",
         "showlegend": true,
         "type": "histogram",
         "x": [
          "Hlavní město Praha"
         ],
         "xaxis": "x",
         "y": {
          "bdata": "AAAAAAAA8D8=",
          "dtype": "f8"
         },
         "yaxis": "y"
        },
        {
         "bingroup": "x",
         "histfunc": "sum",
         "hovertemplate": "obcan_statu=Nepál<br>kraj=%{x}<br>sum of pocet=%{y}<extra></extra>",
         "legendgroup": "Nepál",
         "marker": {
          "color": "#ab63fa",
          "pattern": {
           "shape": ""
          }
         },
         "name": "Nepál",
         "orientation": "v",
         "showlegend": true,
         "type": "histogram",
         "x": [
          "Hlavní město Praha",
          "Jihomoravský kraj",
          "Jihočeský kraj",
          "Moravskoslezský kraj",
          "Olomoucký kraj",
          "Plzeňský kraj",
          "Středočeský kraj",
          "nezjištěno",
          "Ústecký kraj"
         ],
         "xaxis": "x",
         "y": {
          "bdata": "zczMzMzMCEAAAAAAAADwP83MzMzMzPw/AAAAAAAA8D8AAAAAAADwPwAAAAAAAPA/AAAAAAAA8D8AAAAAAADwPwAAAAAAAABA",
          "dtype": "f8"
         },
         "yaxis": "y"
        },
        {
         "bingroup": "x",
         "histfunc": "sum",
         "hovertemplate": "obcan_statu=Nezjištěno<br>kraj=%{x}<br>sum of pocet=%{y}<extra></extra>",
         "legendgroup": "Nezjištěno",
         "marker": {
          "color": "#FFA15A",
          "pattern": {
           "shape": ""
          }
         },
         "name": "Nezjištěno",
         "orientation": "v",
         "showlegend": true,
         "type": "histogram",
         "x": [
          "Hlavní město Praha",
          "Jihomoravský kraj",
          "Jihočeský kraj",
          "Karlovarský kraj",
          "Kraj Vysočina",
          "Královéhradecký kraj",
          "Liberecký kraj",
          "Moravskoslezský kraj",
          "Olomoucký kraj",
          "Pardubický kraj",
          "Plzeňský kraj",
          "Středočeský kraj",
          "Zlínský kraj",
          "nezjištěno",
          "Ústecký kraj"
         ],
         "xaxis": "x",
         "y": {
          "bdata": "MzMzMzMjYUAAAAAAAAAaQM3MzMzMzAhAZmZmZmZmFEDNzMzMzMwAQDMzMzMzMwdAzczMzMzMEkAAAAAAAAASQAAAAAAAABBAZmZmZmZmAkCamZmZmZkJQM3MzMzMzBBAzczMzMzMCEAAAAAAAAD4PzMzMzMzMxFA",
          "dtype": "f8"
         },
         "yaxis": "y"
        },
        {
         "bingroup": "x",
         "histfunc": "sum",
         "hovertemplate": "obcan_statu=Nigérie<br>kraj=%{x}<br>sum of pocet=%{y}<extra></extra>",
         "legendgroup": "Nigérie",
         "marker": {
          "color": "#19d3f3",
          "pattern": {
           "shape": ""
          }
         },
         "name": "Nigérie",
         "orientation": "v",
         "showlegend": true,
         "type": "histogram",
         "x": [
          "Hlavní město Praha",
          "Jihomoravský kraj",
          "Jihočeský kraj",
          "Karlovarský kraj",
          "Kraj Vysočina",
          "Královéhradecký kraj",
          "Liberecký kraj",
          "Moravskoslezský kraj",
          "Olomoucký kraj",
          "Pardubický kraj",
          "Plzeňský kraj",
          "Středočeský kraj",
          "Zlínský kraj",
          "Ústecký kraj"
         ],
         "xaxis": "x",
         "y": {
          "bdata": "AAAAAAAAI0AAAAAAAAAEQAAAAAAAAPA/AAAAAAAA8D8AAAAAAADwP5qZmZmZmQlAAAAAAAAAAECamZmZmZnxPwAAAAAAAPA/mpmZmZmZ+T8zMzMzMzP7P83MzMzMzARAAAAAAAAA8D+amZmZmZkBQA==",
          "dtype": "f8"
         },
         "yaxis": "y"
        },
        {
         "bingroup": "x",
         "histfunc": "sum",
         "hovertemplate": "obcan_statu=Nikaragua<br>kraj=%{x}<br>sum of pocet=%{y}<extra></extra>",
         "legendgroup": "Nikaragua",
         "marker": {
          "color": "#FF6692",
          "pattern": {
           "shape": ""
          }
         },
         "name": "Nikaragua",
         "orientation": "v",
         "showlegend": true,
         "type": "histogram",
         "x": [
          "Hlavní město Praha",
          "Jihomoravský kraj",
          "Olomoucký kraj",
          "Středočeský kraj"
         ],
         "xaxis": "x",
         "y": {
          "bdata": "AAAAAAAAAEAAAAAAAAAAQAAAAAAAAPA/AAAAAAAA8D8=",
          "dtype": "f8"
         },
         "yaxis": "y"
        },
        {
         "bingroup": "x",
         "histfunc": "sum",
         "hovertemplate": "obcan_statu=Nizozemsko<br>kraj=%{x}<br>sum of pocet=%{y}<extra></extra>",
         "legendgroup": "Nizozemsko",
         "marker": {
          "color": "#B6E880",
          "pattern": {
           "shape": ""
          }
         },
         "name": "Nizozemsko",
         "orientation": "v",
         "showlegend": true,
         "type": "histogram",
         "x": [
          "Hlavní město Praha",
          "Jihomoravský kraj",
          "Jihočeský kraj",
          "Karlovarský kraj",
          "Kraj Vysočina",
          "Královéhradecký kraj",
          "Liberecký kraj",
          "Moravskoslezský kraj",
          "Olomoucký kraj",
          "Pardubický kraj",
          "Plzeňský kraj",
          "Středočeský kraj",
          "Zlínský kraj",
          "Ústecký kraj"
         ],
         "xaxis": "x",
         "y": {
          "bdata": "ZmZmZmbmNUDNzMzMzMwIQM3MzMzMzARAzczMzMzMAEAzMzMzMzMDQJqZmZmZmRNAZmZmZmZmBkCamZmZmZn5P83MzMzMzABAMzMzMzMz+z8AAAAAAAAAQJqZmZmZmQVAAAAAAAAAAEDNzMzMzMz8Pw==",
          "dtype": "f8"
         },
         "yaxis": "y"
        },
        {
         "bingroup": "x",
         "histfunc": "sum",
         "hovertemplate": "obcan_statu=Norsko<br>kraj=%{x}<br>sum of pocet=%{y}<extra></extra>",
         "legendgroup": "Norsko",
         "marker": {
          "color": "#FF97FF",
          "pattern": {
           "shape": ""
          }
         },
         "name": "Norsko",
         "orientation": "v",
         "showlegend": true,
         "type": "histogram",
         "x": [
          "Hlavní město Praha",
          "Jihomoravský kraj",
          "Karlovarský kraj",
          "Královéhradecký kraj",
          "Liberecký kraj",
          "Moravskoslezský kraj",
          "Olomoucký kraj",
          "Pardubický kraj",
          "Plzeňský kraj",
          "Středočeský kraj",
          "nezjištěno",
          "Ústecký kraj"
         ],
         "xaxis": "x",
         "y": {
          "bdata": "MzMzMzMzG0AAAAAAAADwPwAAAAAAAPA/AAAAAAAA8D8AAAAAAADwPwAAAAAAAPA/mpmZmZmZ8T8AAAAAAADwPwAAAAAAAPA/zczMzMzMAEAAAAAAAAD4PwAAAAAAAPA/",
          "dtype": "f8"
         },
         "yaxis": "y"
        },
        {
         "bingroup": "x",
         "histfunc": "sum",
         "hovertemplate": "obcan_statu=Nový Zéland<br>kraj=%{x}<br>sum of pocet=%{y}<extra></extra>",
         "legendgroup": "Nový Zéland",
         "marker": {
          "color": "#FECB52",
          "pattern": {
           "shape": ""
          }
         },
         "name": "Nový Zéland",
         "orientation": "v",
         "showlegend": true,
         "type": "histogram",
         "x": [
          "Hlavní město Praha",
          "Jihomoravský kraj",
          "Jihočeský kraj",
          "Královéhradecký kraj",
          "Liberecký kraj",
          "Moravskoslezský kraj",
          "Středočeský kraj",
          "Ústecký kraj"
         ],
         "xaxis": "x",
         "y": {
          "bdata": "AAAAAAAAGEAAAAAAAADwP83MzMzMzPQ/AAAAAAAA8D8AAAAAAADwPwAAAAAAAPA/zczMzMzM9D+amZmZmZnxPw==",
          "dtype": "f8"
         },
         "yaxis": "y"
        },
        {
         "bingroup": "x",
         "histfunc": "sum",
         "hovertemplate": "obcan_statu=Německo<br>kraj=%{x}<br>sum of pocet=%{y}<extra></extra>",
         "legendgroup": "Německo",
         "marker": {
          "color": "#636efa",
          "pattern": {
           "shape": ""
          }
         },
         "name": "Německo",
         "orientation": "v",
         "showlegend": true,
         "type": "histogram",
         "x": [
          "Hlavní město Praha",
          "Jihomoravský kraj",
          "Jihočeský kraj",
          "Karlovarský kraj",
          "Kraj Vysočina",
          "Královéhradecký kraj",
          "Liberecký kraj",
          "Moravskoslezský kraj",
          "Olomoucký kraj",
          "Pardubický kraj",
          "Plzeňský kraj",
          "Středočeský kraj",
          "Zlínský kraj",
          "nezjištěno",
          "Ústecký kraj"
         ],
         "xaxis": "x",
         "y": {
          "bdata": "zczMzMxMXkBmZmZmZmYYQGZmZmZmZhpAZmZmZmZmKkAzMzMzMzMPQGZmZmZmZhRAMzMzMzMzHUCamZmZmZkRQGZmZmZmZhBAzczMzMzMDEAzMzMzMzMlQJqZmZmZmRlAZmZmZmZmEEAAAAAAAAAAQDMzMzMzMx1A",
          "dtype": "f8"
         },
         "yaxis": "y"
        },
        {
         "bingroup": "x",
         "histfunc": "sum",
         "hovertemplate": "obcan_statu=Okupované palestinské území<br>kraj=%{x}<br>sum of pocet=%{y}<extra></extra>",
         "legendgroup": "Okupované palestinské území",
         "marker": {
          "color": "#EF553B",
          "pattern": {
           "shape": ""
          }
         },
         "name": "Okupované palestinské území",
         "orientation": "v",
         "showlegend": true,
         "type": "histogram",
         "x": [
          "Hlavní město Praha",
          "Jihomoravský kraj",
          "Karlovarský kraj",
          "Královéhradecký kraj",
          "Liberecký kraj",
          "Olomoucký kraj",
          "Pardubický kraj",
          "Plzeňský kraj",
          "Středočeský kraj",
          "Zlínský kraj",
          "Ústecký kraj"
         ],
         "xaxis": "x",
         "y": {
          "bdata": "mpmZmZmZF0AAAAAAAAAAQM3MzMzMzAxAAAAAAAAABEAAAAAAAAAAQDMzMzMzM/M/AAAAAAAA8D8zMzMzMzMRQGZmZmZmZvY/AAAAAAAA8D8AAAAAAADwPw==",
          "dtype": "f8"
         },
         "yaxis": "y"
        },
        {
         "bingroup": "x",
         "histfunc": "sum",
         "hovertemplate": "obcan_statu=Omán<br>kraj=%{x}<br>sum of pocet=%{y}<extra></extra>",
         "legendgroup": "Omán",
         "marker": {
          "color": "#00cc96",
          "pattern": {
           "shape": ""
          }
         },
         "name": "Omán",
         "orientation": "v",
         "showlegend": true,
         "type": "histogram",
         "x": [
          "Hlavní město Praha"
         ],
         "xaxis": "x",
         "y": {
          "bdata": "AAAAAAAA8D8=",
          "dtype": "f8"
         },
         "yaxis": "y"
        },
        {
         "bingroup": "x",
         "histfunc": "sum",
         "hovertemplate": "obcan_statu=Panama<br>kraj=%{x}<br>sum of pocet=%{y}<extra></extra>",
         "legendgroup": "Panama",
         "marker": {
          "color": "#ab63fa",
          "pattern": {
           "shape": ""
          }
         },
         "name": "Panama",
         "orientation": "v",
         "showlegend": true,
         "type": "histogram",
         "x": [
          "Hlavní město Praha",
          "Jihomoravský kraj",
          "Karlovarský kraj"
         ],
         "xaxis": "x",
         "y": {
          "bdata": "zczMzMzM9D8AAAAAAADwPwAAAAAAAPA/",
          "dtype": "f8"
         },
         "yaxis": "y"
        },
        {
         "bingroup": "x",
         "histfunc": "sum",
         "hovertemplate": "obcan_statu=Paraguay<br>kraj=%{x}<br>sum of pocet=%{y}<extra></extra>",
         "legendgroup": "Paraguay",
         "marker": {
          "color": "#FFA15A",
          "pattern": {
           "shape": ""
          }
         },
         "name": "Paraguay",
         "orientation": "v",
         "showlegend": true,
         "type": "histogram",
         "x": [
          "Hlavní město Praha",
          "Jihomoravský kraj",
          "Jihočeský kraj",
          "Karlovarský kraj",
          "Středočeský kraj"
         ],
         "xaxis": "x",
         "y": {
          "bdata": "AAAAAAAACECamZmZmZnxPwAAAAAAAPA/zczMzMzM9D8AAAAAAAD4Pw==",
          "dtype": "f8"
         },
         "yaxis": "y"
        },
        {
         "bingroup": "x",
         "histfunc": "sum",
         "hovertemplate": "obcan_statu=Peru<br>kraj=%{x}<br>sum of pocet=%{y}<extra></extra>",
         "legendgroup": "Peru",
         "marker": {
          "color": "#19d3f3",
          "pattern": {
           "shape": ""
          }
         },
         "name": "Peru",
         "orientation": "v",
         "showlegend": true,
         "type": "histogram",
         "x": [
          "Hlavní město Praha",
          "Jihomoravský kraj",
          "Karlovarský kraj",
          "Kraj Vysočina",
          "Královéhradecký kraj",
          "Moravskoslezský kraj",
          "Olomoucký kraj",
          "Pardubický kraj",
          "Plzeňský kraj",
          "Středočeský kraj",
          "Zlínský kraj",
          "Ústecký kraj"
         ],
         "xaxis": "x",
         "y": {
          "bdata": "AAAAAAAAGkCamZmZmZkBQM3MzMzMzPQ/AAAAAAAA8D8AAAAAAAD4P2ZmZmZmZvY/AAAAAAAA8D8AAAAAAADwP83MzMzMzPQ/ZmZmZmZm/j+amZmZmZn5P5qZmZmZmfk/",
          "dtype": "f8"
         },
         "yaxis": "y"
        },
        {
         "bingroup": "x",
         "histfunc": "sum",
         "hovertemplate": "obcan_statu=Pobřeží Slonoviny<br>kraj=%{x}<br>sum of pocet=%{y}<extra></extra>",
         "legendgroup": "Pobřeží Slonoviny",
         "marker": {
          "color": "#FF6692",
          "pattern": {
           "shape": ""
          }
         },
         "name": "Pobřeží Slonoviny",
         "orientation": "v",
         "showlegend": true,
         "type": "histogram",
         "x": [
          "Hlavní město Praha",
          "Jihomoravský kraj",
          "Jihočeský kraj",
          "Karlovarský kraj",
          "Moravskoslezský kraj",
          "Středočeský kraj",
          "Ústecký kraj"
         ],
         "xaxis": "x",
         "y": {
          "bdata": "zczMzMzMGkAAAAAAAAAIQAAAAAAAAPA/AAAAAAAA8D8AAAAAAADwPwAAAAAAAPA/AAAAAAAA8D8=",
          "dtype": "f8"
         },
         "yaxis": "y"
        },
        {
         "bingroup": "x",
         "histfunc": "sum",
         "hovertemplate": "obcan_statu=Polsko<br>kraj=%{x}<br>sum of pocet=%{y}<extra></extra>",
         "legendgroup": "Polsko",
         "marker": {
          "color": "#B6E880",
          "pattern": {
           "shape": ""
          }
         },
         "name": "Polsko",
         "orientation": "v",
         "showlegend": true,
         "type": "histogram",
         "x": [
          "Hlavní město Praha",
          "Jihomoravský kraj",
          "Jihočeský kraj",
          "Karlovarský kraj",
          "Kraj Vysočina",
          "Královéhradecký kraj",
          "Liberecký kraj",
          "Moravskoslezský kraj",
          "Olomoucký kraj",
          "Pardubický kraj",
          "Plzeňský kraj",
          "Středočeský kraj",
          "Zlínský kraj",
          "Ústecký kraj"
         ],
         "xaxis": "x",
         "y": {
          "bdata": "zczMzMxsWkDNzMzMzMwiQJqZmZmZmRlAMzMzMzMzG0AAAAAAAAAYQM3MzMzMjEVAMzMzMzPzQEAzMzMzMxNRQAAAAAAAACRAZmZmZmZmL0AAAAAAAAASQDMzMzMzMzFAmpmZmZmZIUCamZmZmRkwQA==",
          "dtype": "f8"
         },
         "yaxis": "y"
        },
        {
         "bingroup": "x",
         "histfunc": "sum",
         "hovertemplate": "obcan_statu=Portugalsko<br>kraj=%{x}<br>sum of pocet=%{y}<extra></extra>",
         "legendgroup": "Portugalsko",
         "marker": {
          "color": "#FF97FF",
          "pattern": {
           "shape": ""
          }
         },
         "name": "Portugalsko",
         "orientation": "v",
         "showlegend": true,
         "type": "histogram",
         "x": [
          "Hlavní město Praha",
          "Jihomoravský kraj",
          "Jihočeský kraj",
          "Královéhradecký kraj",
          "Liberecký kraj",
          "Moravskoslezský kraj",
          "Pardubický kraj",
          "Plzeňský kraj",
          "Středočeský kraj",
          "Zlínský kraj"
         ],
         "xaxis": "x",
         "y": {
          "bdata": "zczMzMzMEkAAAAAAAADwPwAAAAAAAPA/AAAAAAAA8D8AAAAAAADwPzMzMzMzM/M/zczMzMzM9D8AAAAAAADwPwAAAAAAAPA/AAAAAAAA8D8=",
          "dtype": "f8"
         },
         "yaxis": "y"
        },
        {
         "bingroup": "x",
         "histfunc": "sum",
         "hovertemplate": "obcan_statu=Pákistán<br>kraj=%{x}<br>sum of pocet=%{y}<extra></extra>",
         "legendgroup": "Pákistán",
         "marker": {
          "color": "#FECB52",
          "pattern": {
           "shape": ""
          }
         },
         "name": "Pákistán",
         "orientation": "v",
         "showlegend": true,
         "type": "histogram",
         "x": [
          "Hlavní město Praha",
          "Jihomoravský kraj",
          "Karlovarský kraj",
          "Královéhradecký kraj",
          "Liberecký kraj",
          "Moravskoslezský kraj",
          "Olomoucký kraj",
          "Plzeňský kraj",
          "Středočeský kraj",
          "Zlínský kraj",
          "Ústecký kraj"
         ],
         "xaxis": "x",
         "y": {
          "bdata": "zczMzMzMLkDNzMzMzMwAQDMzMzMzM/M/ZmZmZmZm9j8zMzMzMzMDQGZmZmZmZvY/MzMzMzMz+z+amZmZmZkBQM3MzMzMzPw/AAAAAAAA8D8AAAAAAADwPw==",
          "dtype": "f8"
         },
         "yaxis": "y"
        },
        {
         "bingroup": "x",
         "histfunc": "sum",
         "hovertemplate": "obcan_statu=Rakousko<br>kraj=%{x}<br>sum of pocet=%{y}<extra></extra>",
         "legendgroup": "Rakousko",
         "marker": {
          "color": "#636efa",
          "pattern": {
           "shape": ""
          }
         },
         "name": "Rakousko",
         "orientation": "v",
         "showlegend": true,
         "type": "histogram",
         "x": [
          "Hlavní město Praha",
          "Jihomoravský kraj",
          "Jihočeský kraj",
          "Karlovarský kraj",
          "Kraj Vysočina",
          "Královéhradecký kraj",
          "Liberecký kraj",
          "Moravskoslezský kraj",
          "Olomoucký kraj",
          "Pardubický kraj",
          "Plzeňský kraj",
          "Středočeský kraj",
          "Zlínský kraj",
          "Ústecký kraj"
         ],
         "xaxis": "x",
         "y": {
          "bdata": "mpmZmZmZQ0AzMzMzMzMiQDMzMzMzMyRAmpmZmZmZCUAAAAAAAAAEQAAAAAAAAABAmpmZmZmZAUAzMzMzMzMDQJqZmZmZmQVAAAAAAAAAAEAAAAAAAAAAQJqZmZmZmQlAmpmZmZmZAUAzMzMzMzMDQA==",
          "dtype": "f8"
         },
         "yaxis": "y"
        },
        {
         "bingroup": "x",
         "histfunc": "sum",
         "hovertemplate": "obcan_statu=Rumunsko<br>kraj=%{x}<br>sum of pocet=%{y}<extra></extra>",
         "legendgroup": "Rumunsko",
         "marker": {
          "color": "#EF553B",
          "pattern": {
           "shape": ""
          }
         },
         "name": "Rumunsko",
         "orientation": "v",
         "showlegend": true,
         "type": "histogram",
         "x": [
          "Hlavní město Praha",
          "Jihomoravský kraj",
          "Jihočeský kraj",
          "Karlovarský kraj",
          "Kraj Vysočina",
          "Královéhradecký kraj",
          "Liberecký kraj",
          "Moravskoslezský kraj",
          "Olomoucký kraj",
          "Pardubický kraj",
          "Plzeňský kraj",
          "Středočeský kraj",
          "Zlínský kraj",
          "nezjištěno",
          "Ústecký kraj"
         ],
         "xaxis": "x",
         "y": {
          "bdata": "mpmZmZkZNUAzMzMzMzMPQDMzMzMzMw9AmpmZmZmZK0AzMzMzMzP7PzMzMzMzMwdAZmZmZmZmBkAAAAAAAAAIQM3MzMzMzAhAzczMzMzMCEAAAAAAAAAeQDMzMzMzMw9AAAAAAAAAFECamZmZmZkBQGZmZmZmZh5A",
          "dtype": "f8"
         },
         "yaxis": "y"
        },
        {
         "bingroup": "x",
         "histfunc": "sum",
         "hovertemplate": "obcan_statu=Rusko<br>kraj=%{x}<br>sum of pocet=%{y}<extra></extra>",
         "legendgroup": "Rusko",
         "marker": {
          "color": "#00cc96",
          "pattern": {
           "shape": ""
          }
         },
         "name": "Rusko",
         "orientation": "v",
         "showlegend": true,
         "type": "histogram",
         "x": [
          "Hlavní město Praha",
          "Jihomoravský kraj",
          "Jihočeský kraj",
          "Karlovarský kraj",
          "Kraj Vysočina",
          "Královéhradecký kraj",
          "Liberecký kraj",
          "Moravskoslezský kraj",
          "Olomoucký kraj",
          "Pardubický kraj",
          "Plzeňský kraj",
          "Středočeský kraj",
          "Zlínský kraj",
          "nezjištěno",
          "Ústecký kraj"
         ],
         "xaxis": "x",
         "y": {
          "bdata": "AAAAAABwgEAzMzMzMzMiQJqZmZmZmRlAAAAAAABAQ0AzMzMzMzMLQJqZmZmZmRFAmpmZmZmZH0DNzMzMzMwaQGZmZmZmZhZAzczMzMzMEEBmZmZmZmYOQJqZmZmZmStAZmZmZmZmFkBmZmZmZmYKQM3MzMzMzChA",
          "dtype": "f8"
         },
         "yaxis": "y"
        },
        {
         "bingroup": "x",
         "histfunc": "sum",
         "hovertemplate": "obcan_statu=Salvador<br>kraj=%{x}<br>sum of pocet=%{y}<extra></extra>",
         "legendgroup": "Salvador",
         "marker": {
          "color": "#ab63fa",
          "pattern": {
           "shape": ""
          }
         },
         "name": "Salvador",
         "orientation": "v",
         "showlegend": true,
         "type": "histogram",
         "x": [
          "Hlavní město Praha",
          "Jihočeský kraj",
          "Středočeský kraj"
         ],
         "xaxis": "x",
         "y": {
          "bdata": "AAAAAAAA+D8AAAAAAADwPwAAAAAAAABA",
          "dtype": "f8"
         },
         "yaxis": "y"
        },
        {
         "bingroup": "x",
         "histfunc": "sum",
         "hovertemplate": "obcan_statu=Saúdská Arábie<br>kraj=%{x}<br>sum of pocet=%{y}<extra></extra>",
         "legendgroup": "Saúdská Arábie",
         "marker": {
          "color": "#FFA15A",
          "pattern": {
           "shape": ""
          }
         },
         "name": "Saúdská Arábie",
         "orientation": "v",
         "showlegend": true,
         "type": "histogram",
         "x": [
          "Hlavní město Praha",
          "Jihomoravský kraj",
          "Karlovarský kraj",
          "Královéhradecký kraj",
          "Moravskoslezský kraj",
          "Pardubický kraj",
          "Plzeňský kraj",
          "Středočeský kraj",
          "Ústecký kraj"
         ],
         "xaxis": "x",
         "y": {
          "bdata": "AAAAAAAA+D8zMzMzMzMDQJqZmZmZmfE/AAAAAAAACEAAAAAAAAAEQAAAAAAAAPA/ZmZmZmZmCkAAAAAAAADwP83MzMzMzPw/",
          "dtype": "f8"
         },
         "yaxis": "y"
        },
        {
         "bingroup": "x",
         "histfunc": "sum",
         "hovertemplate": "obcan_statu=Senegal<br>kraj=%{x}<br>sum of pocet=%{y}<extra></extra>",
         "legendgroup": "Senegal",
         "marker": {
          "color": "#19d3f3",
          "pattern": {
           "shape": ""
          }
         },
         "name": "Senegal",
         "orientation": "v",
         "showlegend": true,
         "type": "histogram",
         "x": [
          "Hlavní město Praha",
          "Královéhradecký kraj",
          "Liberecký kraj",
          "Moravskoslezský kraj",
          "Pardubický kraj",
          "Středočeský kraj"
         ],
         "xaxis": "x",
         "y": {
          "bdata": "zczMzMzMEkAAAAAAAADwPwAAAAAAAPA/AAAAAAAA8D8AAAAAAADwP2ZmZmZmZvY/",
          "dtype": "f8"
         },
         "yaxis": "y"
        },
        {
         "bingroup": "x",
         "histfunc": "sum",
         "hovertemplate": "obcan_statu=Seychely<br>kraj=%{x}<br>sum of pocet=%{y}<extra></extra>",
         "legendgroup": "Seychely",
         "marker": {
          "color": "#FF6692",
          "pattern": {
           "shape": ""
          }
         },
         "name": "Seychely",
         "orientation": "v",
         "showlegend": true,
         "type": "histogram",
         "x": [
          "Hlavní město Praha",
          "Ústecký kraj"
         ],
         "xaxis": "x",
         "y": {
          "bdata": "AAAAAAAA8D8AAAAAAADwPw==",
          "dtype": "f8"
         },
         "yaxis": "y"
        },
        {
         "bingroup": "x",
         "histfunc": "sum",
         "hovertemplate": "obcan_statu=Sierra Leone<br>kraj=%{x}<br>sum of pocet=%{y}<extra></extra>",
         "legendgroup": "Sierra Leone",
         "marker": {
          "color": "#B6E880",
          "pattern": {
           "shape": ""
          }
         },
         "name": "Sierra Leone",
         "orientation": "v",
         "showlegend": true,
         "type": "histogram",
         "x": [
          "Hlavní město Praha",
          "Jihomoravský kraj",
          "Karlovarský kraj"
         ],
         "xaxis": "x",
         "y": {
          "bdata": "zczMzMzM9D8AAAAAAADwP5qZmZmZmfE/",
          "dtype": "f8"
         },
         "yaxis": "y"
        },
        {
         "bingroup": "x",
         "histfunc": "sum",
         "hovertemplate": "obcan_statu=Singapur<br>kraj=%{x}<br>sum of pocet=%{y}<extra></extra>",
         "legendgroup": "Singapur",
         "marker": {
          "color": "#FF97FF",
          "pattern": {
           "shape": ""
          }
         },
         "name": "Singapur",
         "orientation": "v",
         "showlegend": true,
         "type": "histogram",
         "x": [
          "Hlavní město Praha",
          "Jihočeský kraj",
          "Kraj Vysočina",
          "Královéhradecký kraj",
          "Moravskoslezský kraj",
          "Středočeský kraj"
         ],
         "xaxis": "x",
         "y": {
          "bdata": "ZmZmZmZm/j8AAAAAAADwPwAAAAAAAPA/AAAAAAAA8D8AAAAAAADwP5qZmZmZmfk/",
          "dtype": "f8"
         },
         "yaxis": "y"
        },
        {
         "bingroup": "x",
         "histfunc": "sum",
         "hovertemplate": "obcan_statu=Slovensko<br>kraj=%{x}<br>sum of pocet=%{y}<extra></extra>",
         "legendgroup": "Slovensko",
         "marker": {
          "color": "#FECB52",
          "pattern": {
           "shape": ""
          }
         },
         "name": "Slovensko",
         "orientation": "v",
         "showlegend": true,
         "type": "histogram",
         "x": [
          "Hlavní město Praha",
          "Jihomoravský kraj",
          "Jihočeský kraj",
          "Karlovarský kraj",
          "Kraj Vysočina",
          "Královéhradecký kraj",
          "Liberecký kraj",
          "Moravskoslezský kraj",
          "Olomoucký kraj",
          "Pardubický kraj",
          "Plzeňský kraj",
          "Středočeský kraj",
          "Zlínský kraj",
          "nezjištěno",
          "Ústecký kraj"
         ],
         "xaxis": "x",
         "y": {
          "bdata": "ZmZmZmYqjUCamZmZmRlKQAAAAAAAgDRAAAAAAACAO0DNzMzMzEwxQGZmZmZm5jdAmpmZmZlZRUAAAAAAAIBRQGZmZmZm5j9AmpmZmZmZN0CamZmZmZk5QGZmZmZmZkZAmpmZmZkZSkDNzMzMzMz8PzMzMzMzszlA",
          "dtype": "f8"
         },
         "yaxis": "y"
        },
        {
         "bingroup": "x",
         "histfunc": "sum",
         "hovertemplate": "obcan_statu=Slovinsko<br>kraj=%{x}<br>sum of pocet=%{y}<extra></extra>",
         "legendgroup": "Slovinsko",
         "marker": {
          "color": "#636efa",
          "pattern": {
           "shape": ""
          }
         },
         "name": "Slovinsko",
         "orientation": "v",
         "showlegend": true,
         "type": "histogram",
         "x": [
          "Hlavní město Praha",
          "Jihomoravský kraj",
          "Jihočeský kraj",
          "Karlovarský kraj",
          "Královéhradecký kraj",
          "Liberecký kraj",
          "Moravskoslezský kraj",
          "Olomoucký kraj",
          "Pardubický kraj",
          "Plzeňský kraj",
          "Středočeský kraj",
          "Zlínský kraj",
          "Ústecký kraj"
         ],
         "xaxis": "x",
         "y": {
          "bdata": "MzMzMzMzIkAzMzMzMzP7P83MzMzMzPQ/zczMzMzM9D+amZmZmZnxPwAAAAAAAPg/MzMzMzMz+z8zMzMzMzPzP5qZmZmZmfE/AAAAAAAA8D/NzMzMzMz0PwAAAAAAAPA/zczMzMzM9D8=",
          "dtype": "f8"
         },
         "yaxis": "y"
        },
        {
         "bingroup": "x",
         "histfunc": "sum",
         "hovertemplate": "obcan_statu=Spojené království<br>kraj=%{x}<br>sum of pocet=%{y}<extra></extra>",
         "legendgroup": "Spojené království",
         "marker": {
          "color": "#EF553B",
          "pattern": {
           "shape": ""
          }
         },
         "name": "Spojené království",
         "orientation": "v",
         "showlegend": true,
         "type": "histogram",
         "x": [
          "Hlavní město Praha",
          "Jihomoravský kraj",
          "Jihočeský kraj",
          "Karlovarský kraj",
          "Kraj Vysočina",
          "Královéhradecký kraj",
          "Liberecký kraj",
          "Moravskoslezský kraj",
          "Olomoucký kraj",
          "Pardubický kraj",
          "Plzeňský kraj",
          "Středočeský kraj",
          "Zlínský kraj",
          "nezjištěno",
          "Ústecký kraj"
         ],
         "xaxis": "x",
         "y": {
          "bdata": "mpmZmZnZU0AAAAAAAAAQQDMzMzMzMwNAzczMzMzM/D/NzMzMzMz8PzMzMzMzMwNAzczMzMzMCEBmZmZmZmYCQDMzMzMzMwtAzczMzMzMCEDNzMzMzMwAQAAAAAAAABJAAAAAAAAABEDNzMzMzMz0P2ZmZmZmZv4/",
          "dtype": "f8"
         },
         "yaxis": "y"
        },
        {
         "bingroup": "x",
         "histfunc": "sum",
         "hovertemplate": "obcan_statu=Spojené státy<br>kraj=%{x}<br>sum of pocet=%{y}<extra></extra>",
         "legendgroup": "Spojené státy",
         "marker": {
          "color": "#00cc96",
          "pattern": {
           "shape": ""
          }
         },
         "name": "Spojené státy",
         "orientation": "v",
         "showlegend": true,
         "type": "histogram",
         "x": [
          "Hlavní město Praha",
          "Jihomoravský kraj",
          "Jihočeský kraj",
          "Karlovarský kraj",
          "Kraj Vysočina",
          "Královéhradecký kraj",
          "Liberecký kraj",
          "Moravskoslezský kraj",
          "Olomoucký kraj",
          "Pardubický kraj",
          "Plzeňský kraj",
          "Středočeský kraj",
          "Zlínský kraj",
          "nezjištěno",
          "Ústecký kraj"
         ],
         "xaxis": "x",
         "y": {
          "bdata": "zczMzMx8YkAAAAAAAAAWQJqZmZmZmQVAmpmZmZmZBUAAAAAAAAAAQAAAAAAAAARAmpmZmZmZBUAzMzMzMzMLQAAAAAAAAAxAAAAAAAAABECamZmZmZkJQDMzMzMzMxFAAAAAAAAACECamZmZmRk1QJqZmZmZmQVA",
          "dtype": "f8"
         },
         "yaxis": "y"
        },
        {
         "bingroup": "x",
         "histfunc": "sum",
         "hovertemplate": "obcan_statu=Srí Lanka<br>kraj=%{x}<br>sum of pocet=%{y}<extra></extra>",
         "legendgroup": "Srí Lanka",
         "marker": {
          "color": "#ab63fa",
          "pattern": {
           "shape": ""
          }
         },
         "name": "Srí Lanka",
         "orientation": "v",
         "showlegend": true,
         "type": "histogram",
         "x": [
          "Hlavní město Praha",
          "Jihomoravský kraj",
          "Kraj Vysočina",
          "Královéhradecký kraj",
          "Liberecký kraj",
          "Moravskoslezský kraj",
          "Středočeský kraj",
          "Zlínský kraj"
         ],
         "xaxis": "x",
         "y": {
          "bdata": "zczMzMzMCEAzMzMzMzPzPwAAAAAAAPA/AAAAAAAAAEAzMzMzMzPzP83MzMzMzPQ/AAAAAAAA8D8AAAAAAADwPw==",
          "dtype": "f8"
         },
         "yaxis": "y"
        },
        {
         "bingroup": "x",
         "histfunc": "sum",
         "hovertemplate": "obcan_statu=Sv.Tomáš a Princův ostr<br>kraj=%{x}<br>sum of pocet=%{y}<extra></extra>",
         "legendgroup": "Sv.Tomáš a Princův ostr",
         "marker": {
          "color": "#FFA15A",
          "pattern": {
           "shape": ""
          }
         },
         "name": "Sv.Tomáš a Princův ostr",
         "orientation": "v",
         "showlegend": true,
         "type": "histogram",
         "x": [
          "Hlavní město Praha",
          "Plzeňský kraj"
         ],
         "xaxis": "x",
         "y": {
          "bdata": "AAAAAAAA8D8AAAAAAADwPw==",
          "dtype": "f8"
         },
         "yaxis": "y"
        },
        {
         "bingroup": "x",
         "histfunc": "sum",
         "hovertemplate": "obcan_statu=Svatá Lucie<br>kraj=%{x}<br>sum of pocet=%{y}<extra></extra>",
         "legendgroup": "Svatá Lucie",
         "marker": {
          "color": "#19d3f3",
          "pattern": {
           "shape": ""
          }
         },
         "name": "Svatá Lucie",
         "orientation": "v",
         "showlegend": true,
         "type": "histogram",
         "x": [
          "Hlavní město Praha"
         ],
         "xaxis": "x",
         "y": {
          "bdata": "mpmZmZmZ8T8=",
          "dtype": "f8"
         },
         "yaxis": "y"
        },
        {
         "bingroup": "x",
         "histfunc": "sum",
         "hovertemplate": "obcan_statu=Syrská arabská repub.<br>kraj=%{x}<br>sum of pocet=%{y}<extra></extra>",
         "legendgroup": "Syrská arabská repub.",
         "marker": {
          "color": "#FF6692",
          "pattern": {
           "shape": ""
          }
         },
         "name": "Syrská arabská repub.",
         "orientation": "v",
         "showlegend": true,
         "type": "histogram",
         "x": [
          "Hlavní město Praha",
          "Jihomoravský kraj",
          "Jihočeský kraj",
          "Karlovarský kraj",
          "Kraj Vysočina",
          "Královéhradecký kraj",
          "Liberecký kraj",
          "Moravskoslezský kraj",
          "Olomoucký kraj",
          "Pardubický kraj",
          "Plzeňský kraj",
          "Středočeský kraj",
          "Zlínský kraj",
          "nezjištěno",
          "Ústecký kraj"
         ],
         "xaxis": "x",
         "y": {
          "bdata": "mpmZmZmZJ0DNzMzMzMwIQAAAAAAAAPA/zczMzMzM/D8AAAAAAAAAQGZmZmZmZgJAAAAAAAAAAECamZmZmZn5PwAAAAAAAABAMzMzMzMz8z8zMzMzMzMDQJqZmZmZmfk/ZmZmZmZm9j8AAAAAAADwP2ZmZmZmZvY/",
          "dtype": "f8"
         },
         "yaxis": "y"
        },
        {
         "bingroup": "x",
         "histfunc": "sum",
         "hovertemplate": "obcan_statu=Súdán<br>kraj=%{x}<br>sum of pocet=%{y}<extra></extra>",
         "legendgroup": "Súdán",
         "marker": {
          "color": "#B6E880",
          "pattern": {
           "shape": ""
          }
         },
         "name": "Súdán",
         "orientation": "v",
         "showlegend": true,
         "type": "histogram",
         "x": [
          "Hlavní město Praha",
          "Jihomoravský kraj",
          "Karlovarský kraj",
          "Královéhradecký kraj",
          "Olomoucký kraj",
          "Plzeňský kraj",
          "Středočeský kraj",
          "Ústecký kraj"
         ],
         "xaxis": "x",
         "y": {
          "bdata": "ZmZmZmZmDkBmZmZmZmb2PwAAAAAAAPA/AAAAAAAAAEAAAAAAAADwP83MzMzMzPw/ZmZmZmZm9j/NzMzMzMz0Pw==",
          "dtype": "f8"
         },
         "yaxis": "y"
        },
        {
         "bingroup": "x",
         "histfunc": "sum",
         "hovertemplate": "obcan_statu=Tanzanie<br>kraj=%{x}<br>sum of pocet=%{y}<extra></extra>",
         "legendgroup": "Tanzanie",
         "marker": {
          "color": "#FF97FF",
          "pattern": {
           "shape": ""
          }
         },
         "name": "Tanzanie",
         "orientation": "v",
         "showlegend": true,
         "type": "histogram",
         "x": [
          "Hlavní město Praha",
          "Jihomoravský kraj",
          "Karlovarský kraj",
          "Středočeský kraj"
         ],
         "xaxis": "x",
         "y": {
          "bdata": "AAAAAAAAEEAAAAAAAAD4P83MzMzMzPQ/AAAAAAAA8D8=",
          "dtype": "f8"
         },
         "yaxis": "y"
        },
        {
         "bingroup": "x",
         "histfunc": "sum",
         "hovertemplate": "obcan_statu=Tchaj-wan<br>kraj=%{x}<br>sum of pocet=%{y}<extra></extra>",
         "legendgroup": "Tchaj-wan",
         "marker": {
          "color": "#FECB52",
          "pattern": {
           "shape": ""
          }
         },
         "name": "Tchaj-wan",
         "orientation": "v",
         "showlegend": true,
         "type": "histogram",
         "x": [
          "Hlavní město Praha",
          "Jihomoravský kraj",
          "Královéhradecký kraj",
          "Moravskoslezský kraj",
          "Olomoucký kraj",
          "Pardubický kraj",
          "Plzeňský kraj",
          "Středočeský kraj"
         ],
         "xaxis": "x",
         "y": {
          "bdata": "mpmZmZmZGUDNzMzMzMz0PzMzMzMzM/M/AAAAAAAA8D8zMzMzMzMHQAAAAAAAABRAAAAAAAAA8D8AAAAAAADwPw==",
          "dtype": "f8"
         },
         "yaxis": "y"
        },
        {
         "bingroup": "x",
         "histfunc": "sum",
         "hovertemplate": "obcan_statu=Thajsko<br>kraj=%{x}<br>sum of pocet=%{y}<extra></extra>",
         "legendgroup": "Thajsko",
         "marker": {
          "color": "#636efa",
          "pattern": {
           "shape": ""
          }
         },
         "name": "Thajsko",
         "orientation": "v",
         "showlegend": true,
         "type": "histogram",
         "x": [
          "Hlavní město Praha",
          "Jihomoravský kraj",
          "Karlovarský kraj",
          "Kraj Vysočina",
          "Královéhradecký kraj",
          "Liberecký kraj",
          "Olomoucký kraj",
          "Plzeňský kraj",
          "Středočeský kraj",
          "Zlínský kraj",
          "Ústecký kraj"
         ],
         "xaxis": "x",
         "y": {
          "bdata": "zczMzMzMKkDNzMzMzMz0PwAAAAAAABBAAAAAAAAA8D8AAAAAAADwPwAAAAAAAPA/zczMzMzM9D8zMzMzMzMDQDMzMzMzM/M/AAAAAAAA8D8zMzMzMzPzPw==",
          "dtype": "f8"
         },
         "yaxis": "y"
        },
        {
         "bingroup": "x",
         "histfunc": "sum",
         "hovertemplate": "obcan_statu=Togo<br>kraj=%{x}<br>sum of pocet=%{y}<extra></extra>",
         "legendgroup": "Togo",
         "marker": {
          "color": "#EF553B",
          "pattern": {
           "shape": ""
          }
         },
         "name": "Togo",
         "orientation": "v",
         "showlegend": true,
         "type": "histogram",
         "x": [
          "Hlavní město Praha",
          "Jihomoravský kraj",
          "Moravskoslezský kraj"
         ],
         "xaxis": "x",
         "y": {
          "bdata": "AAAAAAAAAECamZmZmZnxPwAAAAAAAPA/",
          "dtype": "f8"
         },
         "yaxis": "y"
        },
        {
         "bingroup": "x",
         "histfunc": "sum",
         "hovertemplate": "obcan_statu=Tonga<br>kraj=%{x}<br>sum of pocet=%{y}<extra></extra>",
         "legendgroup": "Tonga",
         "marker": {
          "color": "#00cc96",
          "pattern": {
           "shape": ""
          }
         },
         "name": "Tonga",
         "orientation": "v",
         "showlegend": true,
         "type": "histogram",
         "x": [
          "Hlavní město Praha",
          "Kraj Vysočina"
         ],
         "xaxis": "x",
         "y": {
          "bdata": "zczMzMzM9D8AAAAAAADwPw==",
          "dtype": "f8"
         },
         "yaxis": "y"
        },
        {
         "bingroup": "x",
         "histfunc": "sum",
         "hovertemplate": "obcan_statu=Trinidad a Tobago<br>kraj=%{x}<br>sum of pocet=%{y}<extra></extra>",
         "legendgroup": "Trinidad a Tobago",
         "marker": {
          "color": "#ab63fa",
          "pattern": {
           "shape": ""
          }
         },
         "name": "Trinidad a Tobago",
         "orientation": "v",
         "showlegend": true,
         "type": "histogram",
         "x": [
          "Hlavní město Praha",
          "Olomoucký kraj"
         ],
         "xaxis": "x",
         "y": {
          "bdata": "AAAAAAAA8D8AAAAAAADwPw==",
          "dtype": "f8"
         },
         "yaxis": "y"
        },
        {
         "bingroup": "x",
         "histfunc": "sum",
         "hovertemplate": "obcan_statu=Tunisko<br>kraj=%{x}<br>sum of pocet=%{y}<extra></extra>",
         "legendgroup": "Tunisko",
         "marker": {
          "color": "#FFA15A",
          "pattern": {
           "shape": ""
          }
         },
         "name": "Tunisko",
         "orientation": "v",
         "showlegend": true,
         "type": "histogram",
         "x": [
          "Hlavní město Praha",
          "Jihomoravský kraj",
          "Jihočeský kraj",
          "Karlovarský kraj",
          "Kraj Vysočina",
          "Královéhradecký kraj",
          "Liberecký kraj",
          "Moravskoslezský kraj",
          "Olomoucký kraj",
          "Pardubický kraj",
          "Plzeňský kraj",
          "Středočeský kraj",
          "Zlínský kraj",
          "nezjištěno",
          "Ústecký kraj"
         ],
         "xaxis": "x",
         "y": {
          "bdata": "zczMzMzMKEAAAAAAAAAEQM3MzMzMzPw/zczMzMzM9D8AAAAAAADwP5qZmZmZmfE/AAAAAAAAAEAAAAAAAAAAQAAAAAAAAABAZmZmZmZm9j9mZmZmZmb2P2ZmZmZmZv4/AAAAAAAAAEAAAAAAAADwP83MzMzMzPQ/",
          "dtype": "f8"
         },
         "yaxis": "y"
        },
        {
         "bingroup": "x",
         "histfunc": "sum",
         "hovertemplate": "obcan_statu=Turecko<br>kraj=%{x}<br>sum of pocet=%{y}<extra></extra>",
         "legendgroup": "Turecko",
         "marker": {
          "color": "#19d3f3",
          "pattern": {
           "shape": ""
          }
         },
         "name": "Turecko",
         "orientation": "v",
         "showlegend": true,
         "type": "histogram",
         "x": [
          "Hlavní město Praha",
          "Jihomoravský kraj",
          "Jihočeský kraj",
          "Karlovarský kraj",
          "Kraj Vysočina",
          "Královéhradecký kraj",
          "Liberecký kraj",
          "Moravskoslezský kraj",
          "Olomoucký kraj",
          "Pardubický kraj",
          "Plzeňský kraj",
          "Středočeský kraj",
          "Zlínský kraj",
          "Ústecký kraj"
         ],
         "xaxis": "x",
         "y": {
          "bdata": "AAAAAACAOUAAAAAAAAAIQM3MzMzMzABAzczMzMzMAEDNzMzMzMz0P83MzMzMzPw/zczMzMzM/D/NzMzMzMwIQAAAAAAAAPA/AAAAAAAA+D8zMzMzMzP7PzMzMzMzMwNAMzMzMzMz8z8AAAAAAAAEQA==",
          "dtype": "f8"
         },
         "yaxis": "y"
        },
        {
         "bingroup": "x",
         "histfunc": "sum",
         "hovertemplate": "obcan_statu=Turkmenistán<br>kraj=%{x}<br>sum of pocet=%{y}<extra></extra>",
         "legendgroup": "Turkmenistán",
         "marker": {
          "color": "#FF6692",
          "pattern": {
           "shape": ""
          }
         },
         "name": "Turkmenistán",
         "orientation": "v",
         "showlegend": true,
         "type": "histogram",
         "x": [
          "Hlavní město Praha",
          "Jihomoravský kraj",
          "Jihočeský kraj",
          "Královéhradecký kraj",
          "Liberecký kraj"
         ],
         "xaxis": "x",
         "y": {
          "bdata": "zczMzMzMBEAAAAAAAADwPzMzMzMzM/M/AAAAAAAA8D8AAAAAAADwPw==",
          "dtype": "f8"
         },
         "yaxis": "y"
        },
        {
         "bingroup": "x",
         "histfunc": "sum",
         "hovertemplate": "obcan_statu=Tádžikistán<br>kraj=%{x}<br>sum of pocet=%{y}<extra></extra>",
         "legendgroup": "Tádžikistán",
         "marker": {
          "color": "#B6E880",
          "pattern": {
           "shape": ""
          }
         },
         "name": "Tádžikistán",
         "orientation": "v",
         "showlegend": true,
         "type": "histogram",
         "x": [
          "Hlavní město Praha",
          "Jihomoravský kraj",
          "Jihočeský kraj",
          "Plzeňský kraj",
          "Středočeský kraj"
         ],
         "xaxis": "x",
         "y": {
          "bdata": "AAAAAAAAEkAAAAAAAAAAQJqZmZmZmfE/AAAAAAAA8D+amZmZmZn5Pw==",
          "dtype": "f8"
         },
         "yaxis": "y"
        },
        {
         "bingroup": "x",
         "histfunc": "sum",
         "hovertemplate": "obcan_statu=Uganda<br>kraj=%{x}<br>sum of pocet=%{y}<extra></extra>",
         "legendgroup": "Uganda",
         "marker": {
          "color": "#FF97FF",
          "pattern": {
           "shape": ""
          }
         },
         "name": "Uganda",
         "orientation": "v",
         "showlegend": true,
         "type": "histogram",
         "x": [
          "Hlavní město Praha",
          "Karlovarský kraj",
          "Plzeňský kraj",
          "Středočeský kraj"
         ],
         "xaxis": "x",
         "y": {
          "bdata": "mpmZmZmZBUAAAAAAAADwPwAAAAAAAPA/AAAAAAAAAEA=",
          "dtype": "f8"
         },
         "yaxis": "y"
        },
        {
         "bingroup": "x",
         "histfunc": "sum",
         "hovertemplate": "obcan_statu=Ukrajina<br>kraj=%{x}<br>sum of pocet=%{y}<extra></extra>",
         "legendgroup": "Ukrajina",
         "marker": {
          "color": "#FECB52",
          "pattern": {
           "shape": ""
          }
         },
         "name": "Ukrajina",
         "orientation": "v",
         "showlegend": true,
         "type": "histogram",
         "x": [
          "Hlavní město Praha",
          "Jihomoravský kraj",
          "Jihočeský kraj",
          "Karlovarský kraj",
          "Kraj Vysočina",
          "Královéhradecký kraj",
          "Liberecký kraj",
          "Moravskoslezský kraj",
          "Olomoucký kraj",
          "Pardubický kraj",
          "Plzeňský kraj",
          "Středočeský kraj",
          "Zlínský kraj",
          "nezjištěno",
          "Ústecký kraj"
         ],
         "xaxis": "x",
         "y": {
          "bdata": "MzMzMzNHm0AAAAAAACBfQGZmZmZm5kZAmpmZmZnZR0CamZmZmdlHQAAAAAAAAEpAzczMzMzsUUCamZmZmRk5QM3MzMzMDEFAmpmZmZkZS0AAAAAAAMBLQGZmZmZmRlNAzczMzMzMO0BmZmZmZmYWQGZmZmZmZk5A",
          "dtype": "f8"
         },
         "yaxis": "y"
        },
        {
         "bingroup": "x",
         "histfunc": "sum",
         "hovertemplate": "obcan_statu=Uruguay<br>kraj=%{x}<br>sum of pocet=%{y}<extra></extra>",
         "legendgroup": "Uruguay",
         "marker": {
          "color": "#636efa",
          "pattern": {
           "shape": ""
          }
         },
         "name": "Uruguay",
         "orientation": "v",
         "showlegend": true,
         "type": "histogram",
         "x": [
          "Hlavní město Praha",
          "Jihomoravský kraj",
          "Plzeňský kraj",
          "Středočeský kraj"
         ],
         "xaxis": "x",
         "y": {
          "bdata": "zczMzMzMAEAAAAAAAADwPwAAAAAAAPA/AAAAAAAA8D8=",
          "dtype": "f8"
         },
         "yaxis": "y"
        },
        {
         "bingroup": "x",
         "histfunc": "sum",
         "hovertemplate": "obcan_statu=Uzbekistán<br>kraj=%{x}<br>sum of pocet=%{y}<extra></extra>",
         "legendgroup": "Uzbekistán",
         "marker": {
          "color": "#EF553B",
          "pattern": {
           "shape": ""
          }
         },
         "name": "Uzbekistán",
         "orientation": "v",
         "showlegend": true,
         "type": "histogram",
         "x": [
          "Hlavní město Praha",
          "Jihomoravský kraj",
          "Jihočeský kraj",
          "Karlovarský kraj",
          "Královéhradecký kraj",
          "Liberecký kraj",
          "Moravskoslezský kraj",
          "Olomoucký kraj",
          "Pardubický kraj",
          "Plzeňský kraj",
          "Středočeský kraj",
          "Zlínský kraj",
          "Ústecký kraj"
         ],
         "xaxis": "x",
         "y": {
          "bdata": "mpmZmZmZKkAzMzMzMzP7PwAAAAAAAPg/MzMzMzMz+z8AAAAAAADwPwAAAAAAAPA/zczMzMzMAECamZmZmZn5P5qZmZmZmfE/mpmZmZmZG0AzMzMzMzP7PwAAAAAAAPA/mpmZmZmZ8T8=",
          "dtype": "f8"
         },
         "yaxis": "y"
        },
        {
         "bingroup": "x",
         "histfunc": "sum",
         "hovertemplate": "obcan_statu=Venezuela<br>kraj=%{x}<br>sum of pocet=%{y}<extra></extra>",
         "legendgroup": "Venezuela",
         "marker": {
          "color": "#00cc96",
          "pattern": {
           "shape": ""
          }
         },
         "name": "Venezuela",
         "orientation": "v",
         "showlegend": true,
         "type": "histogram",
         "x": [
          "Hlavní město Praha",
          "Jihomoravský kraj",
          "Jihočeský kraj",
          "Liberecký kraj",
          "Olomoucký kraj",
          "Pardubický kraj",
          "Plzeňský kraj",
          "Středočeský kraj",
          "Zlínský kraj"
         ],
         "xaxis": "x",
         "y": {
          "bdata": "zczMzMzMDECamZmZmZnxPwAAAAAAAPA/AAAAAAAA8D8zMzMzMzPzPwAAAAAAAPA/AAAAAAAA8D8zMzMzMzPzPwAAAAAAAPA/",
          "dtype": "f8"
         },
         "yaxis": "y"
        },
        {
         "bingroup": "x",
         "histfunc": "sum",
         "hovertemplate": "obcan_statu=Vietnam<br>kraj=%{x}<br>sum of pocet=%{y}<extra></extra>",
         "legendgroup": "Vietnam",
         "marker": {
          "color": "#ab63fa",
          "pattern": {
           "shape": ""
          }
         },
         "name": "Vietnam",
         "orientation": "v",
         "showlegend": true,
         "type": "histogram",
         "x": [
          "Hlavní město Praha",
          "Jihomoravský kraj",
          "Jihočeský kraj",
          "Karlovarský kraj",
          "Kraj Vysočina",
          "Královéhradecký kraj",
          "Liberecký kraj",
          "Moravskoslezský kraj",
          "Olomoucký kraj",
          "Pardubický kraj",
          "Plzeňský kraj",
          "Středočeský kraj",
          "Zlínský kraj",
          "nezjištěno",
          "Ústecký kraj"
         ],
         "xaxis": "x",
         "y": {
          "bdata": "MzMzMzPbc0AAAAAAAMBBQM3MzMzMzDRAMzMzMzNza0DNzMzMzMwmQM3MzMzMzDVAMzMzMzOzO0BmZmZmZuZDQGZmZmZmZi1AZmZmZmZmIkDNzMzMzIxFQAAAAAAAADVAmpmZmZmZKkDNzMzMzMz0P83MzMzMbFJA",
          "dtype": "f8"
         },
         "yaxis": "y"
        },
        {
         "bingroup": "x",
         "histfunc": "sum",
         "hovertemplate": "obcan_statu=Zambie<br>kraj=%{x}<br>sum of pocet=%{y}<extra></extra>",
         "legendgroup": "Zambie",
         "marker": {
          "color": "#FFA15A",
          "pattern": {
           "shape": ""
          }
         },
         "name": "Zambie",
         "orientation": "v",
         "showlegend": true,
         "type": "histogram",
         "x": [
          "Hlavní město Praha",
          "Karlovarský kraj",
          "Liberecký kraj",
          "Pardubický kraj",
          "Plzeňský kraj",
          "Středočeský kraj"
         ],
         "xaxis": "x",
         "y": {
          "bdata": "zczMzMzMCEAAAAAAAADwPwAAAAAAAPA/AAAAAAAA8D8AAAAAAADwP5qZmZmZmfk/",
          "dtype": "f8"
         },
         "yaxis": "y"
        },
        {
         "bingroup": "x",
         "histfunc": "sum",
         "hovertemplate": "obcan_statu=Zimbabwe<br>kraj=%{x}<br>sum of pocet=%{y}<extra></extra>",
         "legendgroup": "Zimbabwe",
         "marker": {
          "color": "#19d3f3",
          "pattern": {
           "shape": ""
          }
         },
         "name": "Zimbabwe",
         "orientation": "v",
         "showlegend": true,
         "type": "histogram",
         "x": [
          "Hlavní město Praha",
          "Liberecký kraj",
          "Moravskoslezský kraj",
          "Olomoucký kraj"
         ],
         "xaxis": "x",
         "y": {
          "bdata": "MzMzMzMzA0CamZmZmZnxPwAAAAAAAPA/AAAAAAAA8D8=",
          "dtype": "f8"
         },
         "yaxis": "y"
        },
        {
         "bingroup": "x",
         "histfunc": "sum",
         "hovertemplate": "obcan_statu=bez státního občanství<br>kraj=%{x}<br>sum of pocet=%{y}<extra></extra>",
         "legendgroup": "bez státního občanství",
         "marker": {
          "color": "#FF6692",
          "pattern": {
           "shape": ""
          }
         },
         "name": "bez státního občanství",
         "orientation": "v",
         "showlegend": true,
         "type": "histogram",
         "x": [
          "Hlavní město Praha",
          "Jihomoravský kraj",
          "Jihočeský kraj",
          "Karlovarský kraj",
          "Kraj Vysočina",
          "Královéhradecký kraj",
          "Liberecký kraj",
          "Moravskoslezský kraj",
          "Olomoucký kraj",
          "Pardubický kraj",
          "Plzeňský kraj",
          "Středočeský kraj",
          "Zlínský kraj",
          "Ústecký kraj"
         ],
         "xaxis": "x",
         "y": {
          "bdata": "mpmZmZmZKUAzMzMzMzP7PzMzMzMzM/M/mpmZmZmZDUAAAAAAAADwP83MzMzMzPw/mpmZmZmZAUAzMzMzMzP7P83MzMzMzPw/MzMzMzMz8z8AAAAAAADwPwAAAAAAAABAzczMzMzM9D8zMzMzMzMDQA==",
          "dtype": "f8"
         },
         "yaxis": "y"
        },
        {
         "bingroup": "x",
         "histfunc": "sum",
         "hovertemplate": "obcan_statu=Ázerbájdžán<br>kraj=%{x}<br>sum of pocet=%{y}<extra></extra>",
         "legendgroup": "Ázerbájdžán",
         "marker": {
          "color": "#B6E880",
          "pattern": {
           "shape": ""
          }
         },
         "name": "Ázerbájdžán",
         "orientation": "v",
         "showlegend": true,
         "type": "histogram",
         "x": [
          "Hlavní město Praha",
          "Jihomoravský kraj",
          "Jihočeský kraj",
          "Karlovarský kraj",
          "Liberecký kraj",
          "Olomoucký kraj",
          "Pardubický kraj",
          "Středočeský kraj",
          "Zlínský kraj",
          "Ústecký kraj"
         ],
         "xaxis": "x",
         "y": {
          "bdata": "ZmZmZmZmFkBmZmZmZmYGQAAAAAAAAPg/zczMzMzMBEAAAAAAAAD4P83MzMzMzARAAAAAAAAA8D+amZmZmZn5PwAAAAAAAPA/mpmZmZmZBUA=",
          "dtype": "f8"
         },
         "yaxis": "y"
        },
        {
         "bingroup": "x",
         "histfunc": "sum",
         "hovertemplate": "obcan_statu=Írán<br>kraj=%{x}<br>sum of pocet=%{y}<extra></extra>",
         "legendgroup": "Írán",
         "marker": {
          "color": "#FF97FF",
          "pattern": {
           "shape": ""
          }
         },
         "name": "Írán",
         "orientation": "v",
         "showlegend": true,
         "type": "histogram",
         "x": [
          "Hlavní město Praha",
          "Jihomoravský kraj",
          "Jihočeský kraj",
          "Karlovarský kraj",
          "Královéhradecký kraj",
          "Liberecký kraj",
          "Moravskoslezský kraj",
          "Olomoucký kraj",
          "Pardubický kraj",
          "Plzeňský kraj",
          "Středočeský kraj",
          "Zlínský kraj",
          "Ústecký kraj"
         ],
         "xaxis": "x",
         "y": {
          "bdata": "mpmZmZmZF0AzMzMzMzP7PzMzMzMzM/M/AAAAAAAAAEAAAAAAAAAAQM3MzMzMzPw/AAAAAAAA8D8AAAAAAADwP83MzMzMzPQ/AAAAAAAAAEBmZmZmZmb2P83MzMzMzPQ/AAAAAAAA8D8=",
          "dtype": "f8"
         },
         "yaxis": "y"
        },
        {
         "bingroup": "x",
         "histfunc": "sum",
         "hovertemplate": "obcan_statu=Čad<br>kraj=%{x}<br>sum of pocet=%{y}<extra></extra>",
         "legendgroup": "Čad",
         "marker": {
          "color": "#FECB52",
          "pattern": {
           "shape": ""
          }
         },
         "name": "Čad",
         "orientation": "v",
         "showlegend": true,
         "type": "histogram",
         "x": [
          "Hlavní město Praha",
          "Královéhradecký kraj",
          "Středočeský kraj"
         ],
         "xaxis": "x",
         "y": {
          "bdata": "AAAAAAAA8D8AAAAAAADwPzMzMzMzM/M/",
          "dtype": "f8"
         },
         "yaxis": "y"
        },
        {
         "bingroup": "x",
         "histfunc": "sum",
         "hovertemplate": "obcan_statu=Čína<br>kraj=%{x}<br>sum of pocet=%{y}<extra></extra>",
         "legendgroup": "Čína",
         "marker": {
          "color": "#636efa",
          "pattern": {
           "shape": ""
          }
         },
         "name": "Čína",
         "orientation": "v",
         "showlegend": true,
         "type": "histogram",
         "x": [
          "Hlavní město Praha",
          "Jihomoravský kraj",
          "Jihočeský kraj",
          "Karlovarský kraj",
          "Kraj Vysočina",
          "Královéhradecký kraj",
          "Liberecký kraj",
          "Moravskoslezský kraj",
          "Olomoucký kraj",
          "Pardubický kraj",
          "Plzeňský kraj",
          "Středočeský kraj",
          "Zlínský kraj",
          "nezjištěno",
          "Ústecký kraj"
         ],
         "xaxis": "x",
         "y": {
          "bdata": "zczMzMycZkBmZmZmZmYQQJqZmZmZmQFAmpmZmZmZBUCamZmZmZkFQM3MzMzMzABAZmZmZmZmBkBmZmZmZmYcQJqZmZmZmQVAzczMzMzMEEAAAAAAAAAEQGZmZmZmZhRAAAAAAAAAAEAAAAAAAAD4P5qZmZmZmQ1A",
          "dtype": "f8"
         },
         "yaxis": "y"
        },
        {
         "bingroup": "x",
         "histfunc": "sum",
         "hovertemplate": "obcan_statu=Řecko<br>kraj=%{x}<br>sum of pocet=%{y}<extra></extra>",
         "legendgroup": "Řecko",
         "marker": {
          "color": "#EF553B",
          "pattern": {
           "shape": ""
          }
         },
         "name": "Řecko",
         "orientation": "v",
         "showlegend": true,
         "type": "histogram",
         "x": [
          "Hlavní město Praha",
          "Jihomoravský kraj",
          "Jihočeský kraj",
          "Karlovarský kraj",
          "Kraj Vysočina",
          "Královéhradecký kraj",
          "Liberecký kraj",
          "Moravskoslezský kraj",
          "Olomoucký kraj",
          "Pardubický kraj",
          "Plzeňský kraj",
          "Středočeský kraj",
          "Zlínský kraj",
          "Ústecký kraj"
         ],
         "xaxis": "x",
         "y": {
          "bdata": "ZmZmZmZmLEDNzMzMzMwUQAAAAAAAAPA/zczMzMzM9D9mZmZmZmb2P2ZmZmZmZv4/AAAAAAAABEAAAAAAAAAWQM3MzMzMzAxAmpmZmZmZ+T/NzMzMzMz0P83MzMzMzPw/mpmZmZmZAUDNzMzMzMz0Pw==",
          "dtype": "f8"
         },
         "yaxis": "y"
        },
        {
         "bingroup": "x",
         "histfunc": "sum",
         "hovertemplate": "obcan_statu=Španělsko<br>kraj=%{x}<br>sum of pocet=%{y}<extra></extra>",
         "legendgroup": "Španělsko",
         "marker": {
          "color": "#00cc96",
          "pattern": {
           "shape": ""
          }
         },
         "name": "Španělsko",
         "orientation": "v",
         "showlegend": true,
         "type": "histogram",
         "x": [
          "Hlavní město Praha",
          "Jihomoravský kraj",
          "Jihočeský kraj",
          "Karlovarský kraj",
          "Kraj Vysočina",
          "Královéhradecký kraj",
          "Liberecký kraj",
          "Moravskoslezský kraj",
          "Olomoucký kraj",
          "Pardubický kraj",
          "Plzeňský kraj",
          "Středočeský kraj",
          "Zlínský kraj",
          "nezjištěno",
          "Ústecký kraj"
         ],
         "xaxis": "x",
         "y": {
          "bdata": "AAAAAAAAJkAAAAAAAAAEQDMzMzMzM/M/AAAAAAAA8D8AAAAAAAD4P5qZmZmZmfE/zczMzMzM9D/NzMzMzMz0P5qZmZmZmQFAzczMzMzM9D+amZmZmZnxPwAAAAAAAPg/mpmZmZmZ+T8AAAAAAADwPwAAAAAAAAhA",
          "dtype": "f8"
         },
         "yaxis": "y"
        },
        {
         "bingroup": "x",
         "histfunc": "sum",
         "hovertemplate": "obcan_statu=Švédsko<br>kraj=%{x}<br>sum of pocet=%{y}<extra></extra>",
         "legendgroup": "Švédsko",
         "marker": {
          "color": "#ab63fa",
          "pattern": {
           "shape": ""
          }
         },
         "name": "Švédsko",
         "orientation": "v",
         "showlegend": true,
         "type": "histogram",
         "x": [
          "Hlavní město Praha",
          "Jihomoravský kraj",
          "Jihočeský kraj",
          "Karlovarský kraj",
          "Kraj Vysočina",
          "Královéhradecký kraj",
          "Liberecký kraj",
          "Moravskoslezský kraj",
          "Olomoucký kraj",
          "Pardubický kraj",
          "Plzeňský kraj",
          "Středočeský kraj",
          "Zlínský kraj",
          "Ústecký kraj"
         ],
         "xaxis": "x",
         "y": {
          "bdata": "ZmZmZmZmLEBmZmZmZmYCQDMzMzMzM/M/MzMzMzMz+z+amZmZmZnxP83MzMzMzPQ/mpmZmZmZ8T8AAAAAAAAAQAAAAAAAAPA/AAAAAAAA+D9mZmZmZmb2P2ZmZmZmZv4/AAAAAAAA8D9mZmZmZmb2Pw==",
          "dtype": "f8"
         },
         "yaxis": "y"
        },
        {
         "bingroup": "x",
         "histfunc": "sum",
         "hovertemplate": "obcan_statu=Švýcarsko<br>kraj=%{x}<br>sum of pocet=%{y}<extra></extra>",
         "legendgroup": "Švýcarsko",
         "marker": {
          "color": "#FFA15A",
          "pattern": {
           "shape": ""
          }
         },
         "name": "Švýcarsko",
         "orientation": "v",
         "showlegend": true,
         "type": "histogram",
         "x": [
          "Hlavní město Praha",
          "Jihomoravský kraj",
          "Jihočeský kraj",
          "Karlovarský kraj",
          "Kraj Vysočina",
          "Královéhradecký kraj",
          "Liberecký kraj",
          "Moravskoslezský kraj",
          "Olomoucký kraj",
          "Pardubický kraj",
          "Plzeňský kraj",
          "Středočeský kraj",
          "Zlínský kraj",
          "Ústecký kraj"
         ],
         "xaxis": "x",
         "y": {
          "bdata": "MzMzMzMzJUDNzMzMzMwAQJqZmZmZmfk/AAAAAAAABEDNzMzMzMz0PwAAAAAAAPg/ZmZmZmZm/j+amZmZmZn5PzMzMzMzM/M/AAAAAAAA+D8AAAAAAAD4P83MzMzMzPw/AAAAAAAA+D8zMzMzMzPzPw==",
          "dtype": "f8"
         },
         "yaxis": "y"
        },
        {
         "bingroup": "x",
         "histfunc": "sum",
         "hovertemplate": "obcan_statu=Mauritánie<br>kraj=%{x}<br>sum of pocet=%{y}<extra></extra>",
         "legendgroup": "Mauritánie",
         "marker": {
          "color": "#19d3f3",
          "pattern": {
           "shape": ""
          }
         },
         "name": "Mauritánie",
         "orientation": "v",
         "showlegend": true,
         "type": "histogram",
         "x": [
          "Jihomoravský kraj",
          "Královéhradecký kraj",
          "Plzeňský kraj"
         ],
         "xaxis": "x",
         "y": {
          "bdata": "AAAAAAAA8D8AAAAAAADwPwAAAAAAAPA/",
          "dtype": "f8"
         },
         "yaxis": "y"
        },
        {
         "bingroup": "x",
         "histfunc": "sum",
         "hovertemplate": "obcan_statu=Niger<br>kraj=%{x}<br>sum of pocet=%{y}<extra></extra>",
         "legendgroup": "Niger",
         "marker": {
          "color": "#FF6692",
          "pattern": {
           "shape": ""
          }
         },
         "name": "Niger",
         "orientation": "v",
         "showlegend": true,
         "type": "histogram",
         "x": [
          "Jihomoravský kraj",
          "Ústecký kraj"
         ],
         "xaxis": "x",
         "y": {
          "bdata": "AAAAAAAA8D8AAAAAAADwPw==",
          "dtype": "f8"
         },
         "yaxis": "y"
        },
        {
         "bingroup": "x",
         "histfunc": "sum",
         "hovertemplate": "obcan_statu=Rwanda<br>kraj=%{x}<br>sum of pocet=%{y}<extra></extra>",
         "legendgroup": "Rwanda",
         "marker": {
          "color": "#B6E880",
          "pattern": {
           "shape": ""
          }
         },
         "name": "Rwanda",
         "orientation": "v",
         "showlegend": true,
         "type": "histogram",
         "x": [
          "Jihomoravský kraj"
         ],
         "xaxis": "x",
         "y": {
          "bdata": "AAAAAAAA8D8=",
          "dtype": "f8"
         },
         "yaxis": "y"
        },
        {
         "bingroup": "x",
         "histfunc": "sum",
         "hovertemplate": "obcan_statu=Burundi<br>kraj=%{x}<br>sum of pocet=%{y}<extra></extra>",
         "legendgroup": "Burundi",
         "marker": {
          "color": "#FF97FF",
          "pattern": {
           "shape": ""
          }
         },
         "name": "Burundi",
         "orientation": "v",
         "showlegend": true,
         "type": "histogram",
         "x": [
          "Královéhradecký kraj"
         ],
         "xaxis": "x",
         "y": {
          "bdata": "AAAAAAAA8D8=",
          "dtype": "f8"
         },
         "yaxis": "y"
        },
        {
         "bingroup": "x",
         "histfunc": "sum",
         "hovertemplate": "obcan_statu=Spojené arabské emiráty<br>kraj=%{x}<br>sum of pocet=%{y}<extra></extra>",
         "legendgroup": "Spojené arabské emiráty",
         "marker": {
          "color": "#FECB52",
          "pattern": {
           "shape": ""
          }
         },
         "name": "Spojené arabské emiráty",
         "orientation": "v",
         "showlegend": true,
         "type": "histogram",
         "x": [
          "Královéhradecký kraj",
          "Olomoucký kraj",
          "Ústecký kraj"
         ],
         "xaxis": "x",
         "y": {
          "bdata": "AAAAAAAA8D8AAAAAAADwP5qZmZmZmfk/",
          "dtype": "f8"
         },
         "yaxis": "y"
        },
        {
         "bingroup": "x",
         "histfunc": "sum",
         "hovertemplate": "obcan_statu=Lichtenštejnsko<br>kraj=%{x}<br>sum of pocet=%{y}<extra></extra>",
         "legendgroup": "Lichtenštejnsko",
         "marker": {
          "color": "#636efa",
          "pattern": {
           "shape": ""
          }
         },
         "name": "Lichtenštejnsko",
         "orientation": "v",
         "showlegend": true,
         "type": "histogram",
         "x": [
          "Liberecký kraj"
         ],
         "xaxis": "x",
         "y": {
          "bdata": "AAAAAAAA8D8=",
          "dtype": "f8"
         },
         "yaxis": "y"
        },
        {
         "bingroup": "x",
         "histfunc": "sum",
         "hovertemplate": "obcan_statu=Somálsko<br>kraj=%{x}<br>sum of pocet=%{y}<extra></extra>",
         "legendgroup": "Somálsko",
         "marker": {
          "color": "#EF553B",
          "pattern": {
           "shape": ""
          }
         },
         "name": "Somálsko",
         "orientation": "v",
         "showlegend": true,
         "type": "histogram",
         "x": [
          "Liberecký kraj"
         ],
         "xaxis": "x",
         "y": {
          "bdata": "AAAAAAAA8D8=",
          "dtype": "f8"
         },
         "yaxis": "y"
        },
        {
         "bingroup": "x",
         "histfunc": "sum",
         "hovertemplate": "obcan_statu=San Marino<br>kraj=%{x}<br>sum of pocet=%{y}<extra></extra>",
         "legendgroup": "San Marino",
         "marker": {
          "color": "#00cc96",
          "pattern": {
           "shape": ""
          }
         },
         "name": "San Marino",
         "orientation": "v",
         "showlegend": true,
         "type": "histogram",
         "x": [
          "Moravskoslezský kraj"
         ],
         "xaxis": "x",
         "y": {
          "bdata": "AAAAAAAA8D8=",
          "dtype": "f8"
         },
         "yaxis": "y"
        },
        {
         "bingroup": "x",
         "histfunc": "sum",
         "hovertemplate": "obcan_statu=Surinam<br>kraj=%{x}<br>sum of pocet=%{y}<extra></extra>",
         "legendgroup": "Surinam",
         "marker": {
          "color": "#ab63fa",
          "pattern": {
           "shape": ""
          }
         },
         "name": "Surinam",
         "orientation": "v",
         "showlegend": true,
         "type": "histogram",
         "x": [
          "Olomoucký kraj"
         ],
         "xaxis": "x",
         "y": {
          "bdata": "AAAAAAAA8D8=",
          "dtype": "f8"
         },
         "yaxis": "y"
        },
        {
         "bingroup": "x",
         "histfunc": "sum",
         "hovertemplate": "obcan_statu=Fidži<br>kraj=%{x}<br>sum of pocet=%{y}<extra></extra>",
         "legendgroup": "Fidži",
         "marker": {
          "color": "#FFA15A",
          "pattern": {
           "shape": ""
          }
         },
         "name": "Fidži",
         "orientation": "v",
         "showlegend": true,
         "type": "histogram",
         "x": [
          "Středočeský kraj"
         ],
         "xaxis": "x",
         "y": {
          "bdata": "AAAAAAAA8D8=",
          "dtype": "f8"
         },
         "yaxis": "y"
        },
        {
         "bingroup": "x",
         "histfunc": "sum",
         "hovertemplate": "obcan_statu=Džibutsko<br>kraj=%{x}<br>sum of pocet=%{y}<extra></extra>",
         "legendgroup": "Džibutsko",
         "marker": {
          "color": "#19d3f3",
          "pattern": {
           "shape": ""
          }
         },
         "name": "Džibutsko",
         "orientation": "v",
         "showlegend": true,
         "type": "histogram",
         "x": [
          "Ústecký kraj"
         ],
         "xaxis": "x",
         "y": {
          "bdata": "AAAAAAAA8D8=",
          "dtype": "f8"
         },
         "yaxis": "y"
        }
       ],
       "layout": {
        "barmode": "stack",
        "legend": {
         "title": {
          "text": "obcan_statu"
         },
         "tracegroupgap": 0
        },
        "margin": {
         "t": 60
        },
        "template": {
         "data": {
          "bar": [
           {
            "error_x": {
             "color": "#2a3f5f"
            },
            "error_y": {
             "color": "#2a3f5f"
            },
            "marker": {
             "line": {
              "color": "#E5ECF6",
              "width": 0.5
             },
             "pattern": {
              "fillmode": "overlay",
              "size": 10,
              "solidity": 0.2
             }
            },
            "type": "bar"
           }
          ],
          "barpolar": [
           {
            "marker": {
             "line": {
              "color": "#E5ECF6",
              "width": 0.5
             },
             "pattern": {
              "fillmode": "overlay",
              "size": 10,
              "solidity": 0.2
             }
            },
            "type": "barpolar"
           }
          ],
          "carpet": [
           {
            "aaxis": {
             "endlinecolor": "#2a3f5f",
             "gridcolor": "white",
             "linecolor": "white",
             "minorgridcolor": "white",
             "startlinecolor": "#2a3f5f"
            },
            "baxis": {
             "endlinecolor": "#2a3f5f",
             "gridcolor": "white",
             "linecolor": "white",
             "minorgridcolor": "white",
             "startlinecolor": "#2a3f5f"
            },
            "type": "carpet"
           }
          ],
          "choropleth": [
           {
            "colorbar": {
             "outlinewidth": 0,
             "ticks": ""
            },
            "type": "choropleth"
           }
          ],
          "contour": [
           {
            "colorbar": {
             "outlinewidth": 0,
             "ticks": ""
            },
            "colorscale": [
             [
              0,
              "#0d0887"
             ],
             [
              0.1111111111111111,
              "#46039f"
             ],
             [
              0.2222222222222222,
              "#7201a8"
             ],
             [
              0.3333333333333333,
              "#9c179e"
             ],
             [
              0.4444444444444444,
              "#bd3786"
             ],
             [
              0.5555555555555556,
              "#d8576b"
             ],
             [
              0.6666666666666666,
              "#ed7953"
             ],
             [
              0.7777777777777778,
              "#fb9f3a"
             ],
             [
              0.8888888888888888,
              "#fdca26"
             ],
             [
              1,
              "#f0f921"
             ]
            ],
            "type": "contour"
           }
          ],
          "contourcarpet": [
           {
            "colorbar": {
             "outlinewidth": 0,
             "ticks": ""
            },
            "type": "contourcarpet"
           }
          ],
          "heatmap": [
           {
            "colorbar": {
             "outlinewidth": 0,
             "ticks": ""
            },
            "colorscale": [
             [
              0,
              "#0d0887"
             ],
             [
              0.1111111111111111,
              "#46039f"
             ],
             [
              0.2222222222222222,
              "#7201a8"
             ],
             [
              0.3333333333333333,
              "#9c179e"
             ],
             [
              0.4444444444444444,
              "#bd3786"
             ],
             [
              0.5555555555555556,
              "#d8576b"
             ],
             [
              0.6666666666666666,
              "#ed7953"
             ],
             [
              0.7777777777777778,
              "#fb9f3a"
             ],
             [
              0.8888888888888888,
              "#fdca26"
             ],
             [
              1,
              "#f0f921"
             ]
            ],
            "type": "heatmap"
           }
          ],
          "histogram": [
           {
            "marker": {
             "pattern": {
              "fillmode": "overlay",
              "size": 10,
              "solidity": 0.2
             }
            },
            "type": "histogram"
           }
          ],
          "histogram2d": [
           {
            "colorbar": {
             "outlinewidth": 0,
             "ticks": ""
            },
            "colorscale": [
             [
              0,
              "#0d0887"
             ],
             [
              0.1111111111111111,
              "#46039f"
             ],
             [
              0.2222222222222222,
              "#7201a8"
             ],
             [
              0.3333333333333333,
              "#9c179e"
             ],
             [
              0.4444444444444444,
              "#bd3786"
             ],
             [
              0.5555555555555556,
              "#d8576b"
             ],
             [
              0.6666666666666666,
              "#ed7953"
             ],
             [
              0.7777777777777778,
              "#fb9f3a"
             ],
             [
              0.8888888888888888,
              "#fdca26"
             ],
             [
              1,
              "#f0f921"
             ]
            ],
            "type": "histogram2d"
           }
          ],
          "histogram2dcontour": [
           {
            "colorbar": {
             "outlinewidth": 0,
             "ticks": ""
            },
            "colorscale": [
             [
              0,
              "#0d0887"
             ],
             [
              0.1111111111111111,
              "#46039f"
             ],
             [
              0.2222222222222222,
              "#7201a8"
             ],
             [
              0.3333333333333333,
              "#9c179e"
             ],
             [
              0.4444444444444444,
              "#bd3786"
             ],
             [
              0.5555555555555556,
              "#d8576b"
             ],
             [
              0.6666666666666666,
              "#ed7953"
             ],
             [
              0.7777777777777778,
              "#fb9f3a"
             ],
             [
              0.8888888888888888,
              "#fdca26"
             ],
             [
              1,
              "#f0f921"
             ]
            ],
            "type": "histogram2dcontour"
           }
          ],
          "mesh3d": [
           {
            "colorbar": {
             "outlinewidth": 0,
             "ticks": ""
            },
            "type": "mesh3d"
           }
          ],
          "parcoords": [
           {
            "line": {
             "colorbar": {
              "outlinewidth": 0,
              "ticks": ""
             }
            },
            "type": "parcoords"
           }
          ],
          "pie": [
           {
            "automargin": true,
            "type": "pie"
           }
          ],
          "scatter": [
           {
            "fillpattern": {
             "fillmode": "overlay",
             "size": 10,
             "solidity": 0.2
            },
            "type": "scatter"
           }
          ],
          "scatter3d": [
           {
            "line": {
             "colorbar": {
              "outlinewidth": 0,
              "ticks": ""
             }
            },
            "marker": {
             "colorbar": {
              "outlinewidth": 0,
              "ticks": ""
             }
            },
            "type": "scatter3d"
           }
          ],
          "scattercarpet": [
           {
            "marker": {
             "colorbar": {
              "outlinewidth": 0,
              "ticks": ""
             }
            },
            "type": "scattercarpet"
           }
          ],
          "scattergeo": [
           {
            "marker": {
             "colorbar": {
              "outlinewidth": 0,
              "ticks": ""
             }
            },
            "type": "scattergeo"
           }
          ],
          "scattergl": [
           {
            "marker": {
             "colorbar": {
              "outlinewidth": 0,
              "ticks": ""
             }
            },
            "type": "scattergl"
           }
          ],
          "scattermap": [
           {
            "marker": {
             "colorbar": {
              "outlinewidth": 0,
              "ticks": ""
             }
            },
            "type": "scattermap"
           }
          ],
          "scattermapbox": [
           {
            "marker": {
             "colorbar": {
              "outlinewidth": 0,
              "ticks": ""
             }
            },
            "type": "scattermapbox"
           }
          ],
          "scatterpolar": [
           {
            "marker": {
             "colorbar": {
              "outlinewidth": 0,
              "ticks": ""
             }
            },
            "type": "scatterpolar"
           }
          ],
          "scatterpolargl": [
           {
            "marker": {
             "colorbar": {
              "outlinewidth": 0,
              "ticks": ""
             }
            },
            "type": "scatterpolargl"
           }
          ],
          "scatterternary": [
           {
            "marker": {
             "colorbar": {
              "outlinewidth": 0,
              "ticks": ""
             }
            },
            "type": "scatterternary"
           }
          ],
          "surface": [
           {
            "colorbar": {
             "outlinewidth": 0,
             "ticks": ""
            },
            "colorscale": [
             [
              0,
              "#0d0887"
             ],
             [
              0.1111111111111111,
              "#46039f"
             ],
             [
              0.2222222222222222,
              "#7201a8"
             ],
             [
              0.3333333333333333,
              "#9c179e"
             ],
             [
              0.4444444444444444,
              "#bd3786"
             ],
             [
              0.5555555555555556,
              "#d8576b"
             ],
             [
              0.6666666666666666,
              "#ed7953"
             ],
             [
              0.7777777777777778,
              "#fb9f3a"
             ],
             [
              0.8888888888888888,
              "#fdca26"
             ],
             [
              1,
              "#f0f921"
             ]
            ],
            "type": "surface"
           }
          ],
          "table": [
           {
            "cells": {
             "fill": {
              "color": "#EBF0F8"
             },
             "line": {
              "color": "white"
             }
            },
            "header": {
             "fill": {
              "color": "#C8D4E3"
             },
             "line": {
              "color": "white"
             }
            },
            "type": "table"
           }
          ]
         },
         "layout": {
          "annotationdefaults": {
           "arrowcolor": "#2a3f5f",
           "arrowhead": 0,
           "arrowwidth": 1
          },
          "autotypenumbers": "strict",
          "coloraxis": {
           "colorbar": {
            "outlinewidth": 0,
            "ticks": ""
           }
          },
          "colorscale": {
           "diverging": [
            [
             0,
             "#8e0152"
            ],
            [
             0.1,
             "#c51b7d"
            ],
            [
             0.2,
             "#de77ae"
            ],
            [
             0.3,
             "#f1b6da"
            ],
            [
             0.4,
             "#fde0ef"
            ],
            [
             0.5,
             "#f7f7f7"
            ],
            [
             0.6,
             "#e6f5d0"
            ],
            [
             0.7,
             "#b8e186"
            ],
            [
             0.8,
             "#7fbc41"
            ],
            [
             0.9,
             "#4d9221"
            ],
            [
             1,
             "#276419"
            ]
           ],
           "sequential": [
            [
             0,
             "#0d0887"
            ],
            [
             0.1111111111111111,
             "#46039f"
            ],
            [
             0.2222222222222222,
             "#7201a8"
            ],
            [
             0.3333333333333333,
             "#9c179e"
            ],
            [
             0.4444444444444444,
             "#bd3786"
            ],
            [
             0.5555555555555556,
             "#d8576b"
            ],
            [
             0.6666666666666666,
             "#ed7953"
            ],
            [
             0.7777777777777778,
             "#fb9f3a"
            ],
            [
             0.8888888888888888,
             "#fdca26"
            ],
            [
             1,
             "#f0f921"
            ]
           ],
           "sequentialminus": [
            [
             0,
             "#0d0887"
            ],
            [
             0.1111111111111111,
             "#46039f"
            ],
            [
             0.2222222222222222,
             "#7201a8"
            ],
            [
             0.3333333333333333,
             "#9c179e"
            ],
            [
             0.4444444444444444,
             "#bd3786"
            ],
            [
             0.5555555555555556,
             "#d8576b"
            ],
            [
             0.6666666666666666,
             "#ed7953"
            ],
            [
             0.7777777777777778,
             "#fb9f3a"
            ],
            [
             0.8888888888888888,
             "#fdca26"
            ],
            [
             1,
             "#f0f921"
            ]
           ]
          },
          "colorway": [
           "#636efa",
           "#EF553B",
           "#00cc96",
           "#ab63fa",
           "#FFA15A",
           "#19d3f3",
           "#FF6692",
           "#B6E880",
           "#FF97FF",
           "#FECB52"
          ],
          "font": {
           "color": "#2a3f5f"
          },
          "geo": {
           "bgcolor": "white",
           "lakecolor": "white",
           "landcolor": "#E5ECF6",
           "showlakes": true,
           "showland": true,
           "subunitcolor": "white"
          },
          "hoverlabel": {
           "align": "left"
          },
          "hovermode": "closest",
          "mapbox": {
           "style": "light"
          },
          "paper_bgcolor": "white",
          "plot_bgcolor": "#E5ECF6",
          "polar": {
           "angularaxis": {
            "gridcolor": "white",
            "linecolor": "white",
            "ticks": ""
           },
           "bgcolor": "#E5ECF6",
           "radialaxis": {
            "gridcolor": "white",
            "linecolor": "white",
            "ticks": ""
           }
          },
          "scene": {
           "xaxis": {
            "backgroundcolor": "#E5ECF6",
            "gridcolor": "white",
            "gridwidth": 2,
            "linecolor": "white",
            "showbackground": true,
            "ticks": "",
            "zerolinecolor": "white"
           },
           "yaxis": {
            "backgroundcolor": "#E5ECF6",
            "gridcolor": "white",
            "gridwidth": 2,
            "linecolor": "white",
            "showbackground": true,
            "ticks": "",
            "zerolinecolor": "white"
           },
           "zaxis": {
            "backgroundcolor": "#E5ECF6",
            "gridcolor": "white",
            "gridwidth": 2,
            "linecolor": "white",
            "showbackground": true,
            "ticks": "",
            "zerolinecolor": "white"
           }
          },
          "shapedefaults": {
           "line": {
            "color": "#2a3f5f"
           }
          },
          "ternary": {
           "aaxis": {
            "gridcolor": "white",
            "linecolor": "white",
            "ticks": ""
           },
           "baxis": {
            "gridcolor": "white",
            "linecolor": "white",
            "ticks": ""
           },
           "bgcolor": "#E5ECF6",
           "caxis": {
            "gridcolor": "white",
            "linecolor": "white",
            "ticks": ""
           }
          },
          "title": {
           "x": 0.05
          },
          "xaxis": {
           "automargin": true,
           "gridcolor": "white",
           "linecolor": "white",
           "ticks": "",
           "title": {
            "standoff": 15
           },
           "zerolinecolor": "white",
           "zerolinewidth": 2
          },
          "yaxis": {
           "automargin": true,
           "gridcolor": "white",
           "linecolor": "white",
           "ticks": "",
           "title": {
            "standoff": 15
           },
           "zerolinecolor": "white",
           "zerolinewidth": 2
          }
         }
        },
        "xaxis": {
         "anchor": "y",
         "domain": [
          0,
          1
         ],
         "title": {
          "text": "kraj"
         }
        },
        "yaxis": {
         "anchor": "x",
         "domain": [
          0,
          1
         ],
         "title": {
          "text": "sum of pocet"
         }
        }
       }
      }
     },
     "metadata": {},
     "output_type": "display_data"
    }
   ],
   "source": [
    "final_2004_all = px.histogram(\n",
    "    data_final,\n",
    "    x='kraj',\n",
    "    y='pocet',\n",
    "    color='obcan_statu',  # rozlišení barvou podle národnosti\n",
    "    hover_data=['obcan_statu', 'pocet'],  # co má být vidět při najetí\n",
    ")\n",
    "\n",
    "final_2004_all.update_layout(barmode='stack')  # nebo 'group' pro vedle sebe\n",
    "final_2004_all.show()"
   ]
  },
  {
   "cell_type": "markdown",
   "id": "a1363c3b",
   "metadata": {},
   "source": [
    "#final_graph_all_v2"
   ]
  },
  {
   "cell_type": "code",
   "execution_count": 47,
   "id": "199c9cbc",
   "metadata": {},
   "outputs": [
    {
     "data": {
      "application/vnd.plotly.v1+json": {
       "config": {
        "plotlyServerURL": "https://plot.ly"
       },
       "data": [
        {
         "bingroup": "x",
         "histfunc": "sum",
         "hovertemplate": "obcan_statu=Afghánistán<br>kraj=%{x}<br>sum of pocet=%{y}<extra></extra>",
         "legendgroup": "Afghánistán",
         "marker": {
          "color": "#636efa",
          "pattern": {
           "shape": ""
          }
         },
         "name": "Afghánistán",
         "orientation": "v",
         "showlegend": true,
         "type": "histogram",
         "x": [
          "Hlavní město Praha",
          "Jihomoravský kraj",
          "Karlovarský kraj",
          "Kraj Vysočina",
          "Královéhradecký kraj",
          "Moravskoslezský kraj",
          "Olomoucký kraj",
          "Středočeský kraj",
          "Zlínský kraj",
          "Ústecký kraj"
         ],
         "xaxis": "x",
         "y": {
          "bdata": "ZmZmZmZmHEAAAAAAAAAEQAAAAAAAAPA/AAAAAAAAAEAAAAAAAADwPzMzMzMzM/s/AAAAAAAA8D8AAAAAAAD4PwAAAAAAAPA/AAAAAAAA8D8=",
          "dtype": "f8"
         },
         "yaxis": "y"
        },
        {
         "bingroup": "x",
         "histfunc": "sum",
         "hovertemplate": "obcan_statu=Albánie<br>kraj=%{x}<br>sum of pocet=%{y}<extra></extra>",
         "legendgroup": "Albánie",
         "marker": {
          "color": "#EF553B",
          "pattern": {
           "shape": ""
          }
         },
         "name": "Albánie",
         "orientation": "v",
         "showlegend": true,
         "type": "histogram",
         "x": [
          "Hlavní město Praha",
          "Jihomoravský kraj",
          "Jihočeský kraj",
          "Karlovarský kraj",
          "Kraj Vysočina",
          "Královéhradecký kraj",
          "Liberecký kraj",
          "Moravskoslezský kraj",
          "Olomoucký kraj",
          "Pardubický kraj",
          "Plzeňský kraj",
          "Středočeský kraj",
          "Zlínský kraj",
          "Ústecký kraj"
         ],
         "xaxis": "x",
         "y": {
          "bdata": "ZmZmZmZmIEBmZmZmZmYCQDMzMzMzM/M/mpmZmZmZ8T8AAAAAAADwP83MzMzMzPQ/AAAAAAAA8D8zMzMzMzP7PwAAAAAAAPg/MzMzMzMz+z8AAAAAAAD4P5qZmZmZmQFAAAAAAAAA8D8AAAAAAAD4Pw==",
          "dtype": "f8"
         },
         "yaxis": "y"
        },
        {
         "bingroup": "x",
         "histfunc": "sum",
         "hovertemplate": "obcan_statu=Alžírsko<br>kraj=%{x}<br>sum of pocet=%{y}<extra></extra>",
         "legendgroup": "Alžírsko",
         "marker": {
          "color": "#00cc96",
          "pattern": {
           "shape": ""
          }
         },
         "name": "Alžírsko",
         "orientation": "v",
         "showlegend": true,
         "type": "histogram",
         "x": [
          "Hlavní město Praha",
          "Jihomoravský kraj",
          "Jihočeský kraj",
          "Karlovarský kraj",
          "Kraj Vysočina",
          "Královéhradecký kraj",
          "Liberecký kraj",
          "Moravskoslezský kraj",
          "Olomoucký kraj",
          "Plzeňský kraj",
          "Středočeský kraj",
          "Zlínský kraj",
          "Ústecký kraj"
         ],
         "xaxis": "x",
         "y": {
          "bdata": "MzMzMzMzNEBmZmZmZmYSQM3MzMzMzPQ/mpmZmZmZAUCamZmZmZnxP5qZmZmZmfk/zczMzMzM9D+amZmZmZn5P5qZmZmZmfk/ZmZmZmZm9j+amZmZmZkFQAAAAAAAAABAMzMzMzMzB0A=",
          "dtype": "f8"
         },
         "yaxis": "y"
        },
        {
         "bingroup": "x",
         "histfunc": "sum",
         "hovertemplate": "obcan_statu=Angola<br>kraj=%{x}<br>sum of pocet=%{y}<extra></extra>",
         "legendgroup": "Angola",
         "marker": {
          "color": "#ab63fa",
          "pattern": {
           "shape": ""
          }
         },
         "name": "Angola",
         "orientation": "v",
         "showlegend": true,
         "type": "histogram",
         "x": [
          "Hlavní město Praha",
          "Jihomoravský kraj",
          "Jihočeský kraj",
          "Karlovarský kraj",
          "Kraj Vysočina",
          "Liberecký kraj",
          "Moravskoslezský kraj",
          "Olomoucký kraj",
          "Pardubický kraj",
          "Plzeňský kraj",
          "Středočeský kraj",
          "Zlínský kraj",
          "Ústecký kraj"
         ],
         "xaxis": "x",
         "y": {
          "bdata": "mpmZmZmZFUCamZmZmZkRQDMzMzMzM/s/AAAAAAAAAEAAAAAAAAAAQDMzMzMzM/M/mpmZmZmZBUCamZmZmZkBQAAAAAAAAPA/AAAAAAAA8D/NzMzMzMz8P2ZmZmZmZvY/mpmZmZmZ+T8=",
          "dtype": "f8"
         },
         "yaxis": "y"
        },
        {
         "bingroup": "x",
         "histfunc": "sum",
         "hovertemplate": "obcan_statu=Argentina<br>kraj=%{x}<br>sum of pocet=%{y}<extra></extra>",
         "legendgroup": "Argentina",
         "marker": {
          "color": "#FFA15A",
          "pattern": {
           "shape": ""
          }
         },
         "name": "Argentina",
         "orientation": "v",
         "showlegend": true,
         "type": "histogram",
         "x": [
          "Hlavní město Praha",
          "Jihomoravský kraj",
          "Jihočeský kraj",
          "Královéhradecký kraj",
          "Moravskoslezský kraj",
          "Pardubický kraj",
          "Plzeňský kraj",
          "Středočeský kraj",
          "Ústecký kraj"
         ],
         "xaxis": "x",
         "y": {
          "bdata": "mpmZmZmZDUDNzMzMzMz0PwAAAAAAAPA/AAAAAAAA8D+amZmZmZnxPwAAAAAAAPA/AAAAAAAA8D8AAAAAAADwPwAAAAAAAPA/",
          "dtype": "f8"
         },
         "yaxis": "y"
        },
        {
         "bingroup": "x",
         "histfunc": "sum",
         "hovertemplate": "obcan_statu=Arménie<br>kraj=%{x}<br>sum of pocet=%{y}<extra></extra>",
         "legendgroup": "Arménie",
         "marker": {
          "color": "#19d3f3",
          "pattern": {
           "shape": ""
          }
         },
         "name": "Arménie",
         "orientation": "v",
         "showlegend": true,
         "type": "histogram",
         "x": [
          "Hlavní město Praha",
          "Jihomoravský kraj",
          "Jihočeský kraj",
          "Karlovarský kraj",
          "Kraj Vysočina",
          "Královéhradecký kraj",
          "Liberecký kraj",
          "Moravskoslezský kraj",
          "Olomoucký kraj",
          "Pardubický kraj",
          "Plzeňský kraj",
          "Středočeský kraj",
          "Zlínský kraj",
          "nezjištěno",
          "Ústecký kraj"
         ],
         "xaxis": "x",
         "y": {
          "bdata": "AAAAAACAPEDNzMzMzMwcQJqZmZmZmQFAAAAAAAAABEAzMzMzMzMRQDMzMzMzM/s/ZmZmZmZm/j9mZmZmZmYKQAAAAAAAAPg/zczMzMzMAEBmZmZmZmb2P2ZmZmZmZgZAmpmZmZmZ+T8AAAAAAAD4PwAAAAAAAAxA",
          "dtype": "f8"
         },
         "yaxis": "y"
        },
        {
         "bingroup": "x",
         "histfunc": "sum",
         "hovertemplate": "obcan_statu=Austrálie<br>kraj=%{x}<br>sum of pocet=%{y}<extra></extra>",
         "legendgroup": "Austrálie",
         "marker": {
          "color": "#FF6692",
          "pattern": {
           "shape": ""
          }
         },
         "name": "Austrálie",
         "orientation": "v",
         "showlegend": true,
         "type": "histogram",
         "x": [
          "Hlavní město Praha",
          "Jihomoravský kraj",
          "Jihočeský kraj",
          "Karlovarský kraj",
          "Kraj Vysočina",
          "Královéhradecký kraj",
          "Liberecký kraj",
          "Moravskoslezský kraj",
          "Olomoucký kraj",
          "Pardubický kraj",
          "Plzeňský kraj",
          "Středočeský kraj",
          "Zlínský kraj",
          "Ústecký kraj"
         ],
         "xaxis": "x",
         "y": {
          "bdata": "ZmZmZmZmK0AzMzMzMzMDQM3MzMzMzPw/AAAAAAAA8D9mZmZmZmb2P2ZmZmZmZvY/MzMzMzMz8z/NzMzMzMz0P2ZmZmZmZvY/zczMzMzM/D8AAAAAAAD4P83MzMzMzPw/mpmZmZmZ+T8zMzMzMzPzPw==",
          "dtype": "f8"
         },
         "yaxis": "y"
        },
        {
         "bingroup": "x",
         "histfunc": "sum",
         "hovertemplate": "obcan_statu=Bahrajn<br>kraj=%{x}<br>sum of pocet=%{y}<extra></extra>",
         "legendgroup": "Bahrajn",
         "marker": {
          "color": "#B6E880",
          "pattern": {
           "shape": ""
          }
         },
         "name": "Bahrajn",
         "orientation": "v",
         "showlegend": true,
         "type": "histogram",
         "x": [
          "Hlavní město Praha",
          "Jihomoravský kraj",
          "Jihočeský kraj",
          "Královéhradecký kraj",
          "Liberecký kraj",
          "Pardubický kraj",
          "Plzeňský kraj",
          "Středočeský kraj"
         ],
         "xaxis": "x",
         "y": {
          "bdata": "mpmZmZmZBUAAAAAAAAAUQAAAAAAAAPA/MzMzMzMzEUAAAAAAAADwPwAAAAAAAPA/AAAAAAAABEAAAAAAAADwPw==",
          "dtype": "f8"
         },
         "yaxis": "y"
        },
        {
         "bingroup": "x",
         "histfunc": "sum",
         "hovertemplate": "obcan_statu=Bangladéš<br>kraj=%{x}<br>sum of pocet=%{y}<extra></extra>",
         "legendgroup": "Bangladéš",
         "marker": {
          "color": "#FF97FF",
          "pattern": {
           "shape": ""
          }
         },
         "name": "Bangladéš",
         "orientation": "v",
         "showlegend": true,
         "type": "histogram",
         "x": [
          "Hlavní město Praha",
          "Jihomoravský kraj",
          "Karlovarský kraj",
          "Královéhradecký kraj",
          "Liberecký kraj",
          "Moravskoslezský kraj",
          "Plzeňský kraj",
          "Středočeský kraj",
          "nezjištěno",
          "Ústecký kraj"
         ],
         "xaxis": "x",
         "y": {
          "bdata": "zczMzMzMFkAAAAAAAAAAQAAAAAAAAPA/AAAAAAAA8D8AAAAAAADwP83MzMzMzPQ/AAAAAAAA8D8zMzMzMzPzPwAAAAAAAPA/AAAAAAAA8D8=",
          "dtype": "f8"
         },
         "yaxis": "y"
        },
        {
         "bingroup": "x",
         "histfunc": "sum",
         "hovertemplate": "obcan_statu=Belgie<br>kraj=%{x}<br>sum of pocet=%{y}<extra></extra>",
         "legendgroup": "Belgie",
         "marker": {
          "color": "#FECB52",
          "pattern": {
           "shape": ""
          }
         },
         "name": "Belgie",
         "orientation": "v",
         "showlegend": true,
         "type": "histogram",
         "x": [
          "Hlavní město Praha",
          "Jihomoravský kraj",
          "Jihočeský kraj",
          "Karlovarský kraj",
          "Kraj Vysočina",
          "Královéhradecký kraj",
          "Liberecký kraj",
          "Moravskoslezský kraj",
          "Olomoucký kraj",
          "Pardubický kraj",
          "Plzeňský kraj",
          "Středočeský kraj",
          "Zlínský kraj",
          "nezjištěno",
          "Ústecký kraj"
         ],
         "xaxis": "x",
         "y": {
          "bdata": "ZmZmZmZmJkDNzMzMzMwEQGZmZmZmZvY/AAAAAAAA8D9mZmZmZmb2PzMzMzMzM/M/MzMzMzMz+z8AAAAAAAD4P2ZmZmZmZvY/AAAAAAAA8D8zMzMzMzPzP2ZmZmZmZv4/AAAAAAAA+D/NzMzMzMz0PwAAAAAAAPg/",
          "dtype": "f8"
         },
         "yaxis": "y"
        },
        {
         "bingroup": "x",
         "histfunc": "sum",
         "hovertemplate": "obcan_statu=Belize<br>kraj=%{x}<br>sum of pocet=%{y}<extra></extra>",
         "legendgroup": "Belize",
         "marker": {
          "color": "#636efa",
          "pattern": {
           "shape": ""
          }
         },
         "name": "Belize",
         "orientation": "v",
         "showlegend": true,
         "type": "histogram",
         "x": [
          "Hlavní město Praha",
          "Středočeský kraj"
         ],
         "xaxis": "x",
         "y": {
          "bdata": "mpmZmZmZ8T8AAAAAAADwPw==",
          "dtype": "f8"
         },
         "yaxis": "y"
        },
        {
         "bingroup": "x",
         "histfunc": "sum",
         "hovertemplate": "obcan_statu=Benin<br>kraj=%{x}<br>sum of pocet=%{y}<extra></extra>",
         "legendgroup": "Benin",
         "marker": {
          "color": "#EF553B",
          "pattern": {
           "shape": ""
          }
         },
         "name": "Benin",
         "orientation": "v",
         "showlegend": true,
         "type": "histogram",
         "x": [
          "Hlavní město Praha",
          "Jihomoravský kraj",
          "Moravskoslezský kraj",
          "Olomoucký kraj",
          "Středočeský kraj",
          "Zlínský kraj",
          "Ústecký kraj"
         ],
         "xaxis": "x",
         "y": {
          "bdata": "ZmZmZmZmGEAzMzMzMzP7P83MzMzMzPQ/MzMzMzMz8z8AAAAAAADwPwAAAAAAAPA/zczMzMzM9D8=",
          "dtype": "f8"
         },
         "yaxis": "y"
        },
        {
         "bingroup": "x",
         "histfunc": "sum",
         "hovertemplate": "obcan_statu=Bolívie<br>kraj=%{x}<br>sum of pocet=%{y}<extra></extra>",
         "legendgroup": "Bolívie",
         "marker": {
          "color": "#00cc96",
          "pattern": {
           "shape": ""
          }
         },
         "name": "Bolívie",
         "orientation": "v",
         "showlegend": true,
         "type": "histogram",
         "x": [
          "Hlavní město Praha",
          "Jihomoravský kraj",
          "Liberecký kraj",
          "Pardubický kraj",
          "Plzeňský kraj",
          "Středočeský kraj",
          "Ústecký kraj"
         ],
         "xaxis": "x",
         "y": {
          "bdata": "AAAAAAAAFEAzMzMzMzP7PzMzMzMzM/M/AAAAAAAA8D8AAAAAAAD4PzMzMzMzMwNAAAAAAAAA8D8=",
          "dtype": "f8"
         },
         "yaxis": "y"
        },
        {
         "bingroup": "x",
         "histfunc": "sum",
         "hovertemplate": "obcan_statu=Bosna a Hercegovina<br>kraj=%{x}<br>sum of pocet=%{y}<extra></extra>",
         "legendgroup": "Bosna a Hercegovina",
         "marker": {
          "color": "#ab63fa",
          "pattern": {
           "shape": ""
          }
         },
         "name": "Bosna a Hercegovina",
         "orientation": "v",
         "showlegend": true,
         "type": "histogram",
         "x": [
          "Hlavní město Praha",
          "Jihomoravský kraj",
          "Jihočeský kraj",
          "Karlovarský kraj",
          "Kraj Vysočina",
          "Královéhradecký kraj",
          "Liberecký kraj",
          "Moravskoslezský kraj",
          "Olomoucký kraj",
          "Pardubický kraj",
          "Plzeňský kraj",
          "Středočeský kraj",
          "Zlínský kraj",
          "nezjištěno",
          "Ústecký kraj"
         ],
         "xaxis": "x",
         "y": {
          "bdata": "mpmZmZl5UECamZmZmZkdQAAAAAAAABBAzczMzMzMBEBmZmZmZmb2P83MzMzMzABAzczMzMzMDECamZmZmZkBQJqZmZmZmQFAzczMzMzMAEDNzMzMzMwEQGZmZmZmZgZAzczMzMzMBEDNzMzMzMz0P83MzMzMzARA",
          "dtype": "f8"
         },
         "yaxis": "y"
        },
        {
         "bingroup": "x",
         "histfunc": "sum",
         "hovertemplate": "obcan_statu=Botswana<br>kraj=%{x}<br>sum of pocet=%{y}<extra></extra>",
         "legendgroup": "Botswana",
         "marker": {
          "color": "#FFA15A",
          "pattern": {
           "shape": ""
          }
         },
         "name": "Botswana",
         "orientation": "v",
         "showlegend": true,
         "type": "histogram",
         "x": [
          "Hlavní město Praha"
         ],
         "xaxis": "x",
         "y": {
          "bdata": "AAAAAAAAJ0A=",
          "dtype": "f8"
         },
         "yaxis": "y"
        },
        {
         "bingroup": "x",
         "histfunc": "sum",
         "hovertemplate": "obcan_statu=Brazílie<br>kraj=%{x}<br>sum of pocet=%{y}<extra></extra>",
         "legendgroup": "Brazílie",
         "marker": {
          "color": "#19d3f3",
          "pattern": {
           "shape": ""
          }
         },
         "name": "Brazílie",
         "orientation": "v",
         "showlegend": true,
         "type": "histogram",
         "x": [
          "Hlavní město Praha",
          "Jihomoravský kraj",
          "Jihočeský kraj",
          "Karlovarský kraj",
          "Kraj Vysočina",
          "Královéhradecký kraj",
          "Liberecký kraj",
          "Moravskoslezský kraj",
          "Olomoucký kraj",
          "Pardubický kraj",
          "Plzeňský kraj",
          "Středočeský kraj",
          "Zlínský kraj",
          "Ústecký kraj"
         ],
         "xaxis": "x",
         "y": {
          "bdata": "MzMzMzMzG0DNzMzMzMz0P5qZmZmZmfE/mpmZmZmZ8T8AAAAAAADwP83MzMzMzPQ/MzMzMzMz8z+amZmZmZnxP5qZmZmZmfE/AAAAAAAAAECamZmZmZnxPzMzMzMzM/M/AAAAAAAA8D8zMzMzMzPzPw==",
          "dtype": "f8"
         },
         "yaxis": "y"
        },
        {
         "bingroup": "x",
         "histfunc": "sum",
         "hovertemplate": "obcan_statu=Bulharsko<br>kraj=%{x}<br>sum of pocet=%{y}<extra></extra>",
         "legendgroup": "Bulharsko",
         "marker": {
          "color": "#FF6692",
          "pattern": {
           "shape": ""
          }
         },
         "name": "Bulharsko",
         "orientation": "v",
         "showlegend": true,
         "type": "histogram",
         "x": [
          "Hlavní město Praha",
          "Jihomoravský kraj",
          "Jihočeský kraj",
          "Karlovarský kraj",
          "Kraj Vysočina",
          "Královéhradecký kraj",
          "Liberecký kraj",
          "Moravskoslezský kraj",
          "Olomoucký kraj",
          "Pardubický kraj",
          "Plzeňský kraj",
          "Středočeský kraj",
          "Zlínský kraj",
          "nezjištěno",
          "Ústecký kraj"
         ],
         "xaxis": "x",
         "y": {
          "bdata": "zczMzMzsWkDNzMzMzMwaQM3MzMzMzBJAzczMzMzMFEAAAAAAAAAMQJqZmZmZmQ1AmpmZmZmZIEBmZmZmZmYcQGZmZmZmZgpAmpmZmZmZCUBmZmZmZmYOQJqZmZmZmRtAzczMzMzMCEAAAAAAAADwP5qZmZmZmRNA",
          "dtype": "f8"
         },
         "yaxis": "y"
        },
        {
         "bingroup": "x",
         "histfunc": "sum",
         "hovertemplate": "obcan_statu=Burkina Faso<br>kraj=%{x}<br>sum of pocet=%{y}<extra></extra>",
         "legendgroup": "Burkina Faso",
         "marker": {
          "color": "#B6E880",
          "pattern": {
           "shape": ""
          }
         },
         "name": "Burkina Faso",
         "orientation": "v",
         "showlegend": true,
         "type": "histogram",
         "x": [
          "Hlavní město Praha",
          "Jihomoravský kraj",
          "Liberecký kraj",
          "Moravskoslezský kraj"
         ],
         "xaxis": "x",
         "y": {
          "bdata": "AAAAAAAA8D8AAAAAAAAAQAAAAAAAAPA/mpmZmZmZBUA=",
          "dtype": "f8"
         },
         "yaxis": "y"
        },
        {
         "bingroup": "x",
         "histfunc": "sum",
         "hovertemplate": "obcan_statu=Bělorusko<br>kraj=%{x}<br>sum of pocet=%{y}<extra></extra>",
         "legendgroup": "Bělorusko",
         "marker": {
          "color": "#FF97FF",
          "pattern": {
           "shape": ""
          }
         },
         "name": "Bělorusko",
         "orientation": "v",
         "showlegend": true,
         "type": "histogram",
         "x": [
          "Hlavní město Praha",
          "Jihomoravský kraj",
          "Jihočeský kraj",
          "Karlovarský kraj",
          "Kraj Vysočina",
          "Královéhradecký kraj",
          "Liberecký kraj",
          "Moravskoslezský kraj",
          "Olomoucký kraj",
          "Pardubický kraj",
          "Plzeňský kraj",
          "Středočeský kraj",
          "Zlínský kraj",
          "Ústecký kraj"
         ],
         "xaxis": "x",
         "y": {
          "bdata": "MzMzMzNzT0AAAAAAAAAcQM3MzMzMzBJAmpmZmZmZFUAAAAAAAAAWQDMzMzMzMxFAZmZmZmZmDkDNzMzMzMwQQGZmZmZmZgpAzczMzMzMFkBmZmZmZmYSQGZmZmZmZhJAAAAAAAAAGEDNzMzMzMwMQA==",
          "dtype": "f8"
         },
         "yaxis": "y"
        },
        {
         "bingroup": "x",
         "histfunc": "sum",
         "hovertemplate": "obcan_statu=Chile<br>kraj=%{x}<br>sum of pocet=%{y}<extra></extra>",
         "legendgroup": "Chile",
         "marker": {
          "color": "#FECB52",
          "pattern": {
           "shape": ""
          }
         },
         "name": "Chile",
         "orientation": "v",
         "showlegend": true,
         "type": "histogram",
         "x": [
          "Hlavní město Praha",
          "Jihomoravský kraj",
          "Jihočeský kraj",
          "Karlovarský kraj",
          "Olomoucký kraj",
          "Středočeský kraj",
          "Zlínský kraj",
          "Ústecký kraj"
         ],
         "xaxis": "x",
         "y": {
          "bdata": "AAAAAAAAEkAAAAAAAADwPwAAAAAAAPA/AAAAAAAA8D8AAAAAAADwPzMzMzMzM/M/AAAAAAAA8D8AAAAAAADwPw==",
          "dtype": "f8"
         },
         "yaxis": "y"
        },
        {
         "bingroup": "x",
         "histfunc": "sum",
         "hovertemplate": "obcan_statu=Chorvatsko<br>kraj=%{x}<br>sum of pocet=%{y}<extra></extra>",
         "legendgroup": "Chorvatsko",
         "marker": {
          "color": "#636efa",
          "pattern": {
           "shape": ""
          }
         },
         "name": "Chorvatsko",
         "orientation": "v",
         "showlegend": true,
         "type": "histogram",
         "x": [
          "Hlavní město Praha",
          "Jihomoravský kraj",
          "Jihočeský kraj",
          "Karlovarský kraj",
          "Kraj Vysočina",
          "Královéhradecký kraj",
          "Liberecký kraj",
          "Moravskoslezský kraj",
          "Olomoucký kraj",
          "Pardubický kraj",
          "Plzeňský kraj",
          "Středočeský kraj",
          "Zlínský kraj",
          "nezjištěno",
          "Ústecký kraj"
         ],
         "xaxis": "x",
         "y": {
          "bdata": "zczMzMzMU0BmZmZmZmYUQM3MzMzMzARAMzMzMzMzD0DNzMzMzMz8P83MzMzMzPw/AAAAAAAAAEAzMzMzMzMPQM3MzMzMzABAzczMzMzMBEAzMzMzMzMLQDMzMzMzMwNAZmZmZmZmBkCamZmZmZkBQGZmZmZmZgpA",
          "dtype": "f8"
         },
         "yaxis": "y"
        },
        {
         "bingroup": "x",
         "histfunc": "sum",
         "hovertemplate": "obcan_statu=Dominika<br>kraj=%{x}<br>sum of pocet=%{y}<extra></extra>",
         "legendgroup": "Dominika",
         "marker": {
          "color": "#EF553B",
          "pattern": {
           "shape": ""
          }
         },
         "name": "Dominika",
         "orientation": "v",
         "showlegend": true,
         "type": "histogram",
         "x": [
          "Hlavní město Praha"
         ],
         "xaxis": "x",
         "y": {
          "bdata": "zczMzMzM9D8=",
          "dtype": "f8"
         },
         "yaxis": "y"
        },
        {
         "bingroup": "x",
         "histfunc": "sum",
         "hovertemplate": "obcan_statu=Dominikánská republika<br>kraj=%{x}<br>sum of pocet=%{y}<extra></extra>",
         "legendgroup": "Dominikánská republika",
         "marker": {
          "color": "#00cc96",
          "pattern": {
           "shape": ""
          }
         },
         "name": "Dominikánská republika",
         "orientation": "v",
         "showlegend": true,
         "type": "histogram",
         "x": [
          "Hlavní město Praha",
          "Jihomoravský kraj",
          "Plzeňský kraj",
          "Středočeský kraj"
         ],
         "xaxis": "x",
         "y": {
          "bdata": "MzMzMzMz+z/NzMzMzMz0PwAAAAAAAPA/AAAAAAAA8D8=",
          "dtype": "f8"
         },
         "yaxis": "y"
        },
        {
         "bingroup": "x",
         "histfunc": "sum",
         "hovertemplate": "obcan_statu=Dánsko<br>kraj=%{x}<br>sum of pocet=%{y}<extra></extra>",
         "legendgroup": "Dánsko",
         "marker": {
          "color": "#ab63fa",
          "pattern": {
           "shape": ""
          }
         },
         "name": "Dánsko",
         "orientation": "v",
         "showlegend": true,
         "type": "histogram",
         "x": [
          "Hlavní město Praha",
          "Jihomoravský kraj",
          "Karlovarský kraj",
          "Královéhradecký kraj",
          "Liberecký kraj",
          "Moravskoslezský kraj",
          "Olomoucký kraj",
          "Plzeňský kraj",
          "Středočeský kraj",
          "nezjištěno",
          "Ústecký kraj"
         ],
         "xaxis": "x",
         "y": {
          "bdata": "AAAAAAAAJECamZmZmZn5PwAAAAAAAPA/AAAAAAAA8D8AAAAAAADwP83MzMzMzPQ/MzMzMzMz+z+amZmZmZnxP83MzMzMzARAAAAAAAAA+D9mZmZmZmYKQA==",
          "dtype": "f8"
         },
         "yaxis": "y"
        },
        {
         "bingroup": "x",
         "histfunc": "sum",
         "hovertemplate": "obcan_statu=Egypt<br>kraj=%{x}<br>sum of pocet=%{y}<extra></extra>",
         "legendgroup": "Egypt",
         "marker": {
          "color": "#FFA15A",
          "pattern": {
           "shape": ""
          }
         },
         "name": "Egypt",
         "orientation": "v",
         "showlegend": true,
         "type": "histogram",
         "x": [
          "Hlavní město Praha",
          "Jihomoravský kraj",
          "Jihočeský kraj",
          "Karlovarský kraj",
          "Královéhradecký kraj",
          "Liberecký kraj",
          "Moravskoslezský kraj",
          "Olomoucký kraj",
          "Pardubický kraj",
          "Plzeňský kraj",
          "Středočeský kraj",
          "Zlínský kraj",
          "Ústecký kraj"
         ],
         "xaxis": "x",
         "y": {
          "bdata": "zczMzMzMI0AzMzMzMzP7P5qZmZmZmfE/mpmZmZmZ+T8AAAAAAAAAQGZmZmZmZvY/mpmZmZmZ+T/NzMzMzMz8P5qZmZmZmfk/AAAAAAAAEEBmZmZmZmb+PzMzMzMzM/M/ZmZmZmZm9j8=",
          "dtype": "f8"
         },
         "yaxis": "y"
        },
        {
         "bingroup": "x",
         "histfunc": "sum",
         "hovertemplate": "obcan_statu=Ekvádor<br>kraj=%{x}<br>sum of pocet=%{y}<extra></extra>",
         "legendgroup": "Ekvádor",
         "marker": {
          "color": "#19d3f3",
          "pattern": {
           "shape": ""
          }
         },
         "name": "Ekvádor",
         "orientation": "v",
         "showlegend": true,
         "type": "histogram",
         "x": [
          "Hlavní město Praha",
          "Jihomoravský kraj",
          "Jihočeský kraj",
          "Karlovarský kraj",
          "Královéhradecký kraj",
          "Liberecký kraj",
          "Pardubický kraj",
          "Plzeňský kraj",
          "Středočeský kraj",
          "Zlínský kraj",
          "Ústecký kraj"
         ],
         "xaxis": "x",
         "y": {
          "bdata": "AAAAAAAAFEAAAAAAAAD4PwAAAAAAAPA/AAAAAAAA8D/NzMzMzMz0PwAAAAAAAPA/AAAAAAAA8D8zMzMzMzPzP5qZmZmZmfE/AAAAAAAA8D8AAAAAAADwPw==",
          "dtype": "f8"
         },
         "yaxis": "y"
        },
        {
         "bingroup": "x",
         "histfunc": "sum",
         "hovertemplate": "obcan_statu=Eritrea<br>kraj=%{x}<br>sum of pocet=%{y}<extra></extra>",
         "legendgroup": "Eritrea",
         "marker": {
          "color": "#FF6692",
          "pattern": {
           "shape": ""
          }
         },
         "name": "Eritrea",
         "orientation": "v",
         "showlegend": true,
         "type": "histogram",
         "x": [
          "Hlavní město Praha",
          "Jihomoravský kraj"
         ],
         "xaxis": "x",
         "y": {
          "bdata": "AAAAAAAA+D8AAAAAAADwPw==",
          "dtype": "f8"
         },
         "yaxis": "y"
        },
        {
         "bingroup": "x",
         "histfunc": "sum",
         "hovertemplate": "obcan_statu=Estonsko<br>kraj=%{x}<br>sum of pocet=%{y}<extra></extra>",
         "legendgroup": "Estonsko",
         "marker": {
          "color": "#B6E880",
          "pattern": {
           "shape": ""
          }
         },
         "name": "Estonsko",
         "orientation": "v",
         "showlegend": true,
         "type": "histogram",
         "x": [
          "Hlavní město Praha",
          "Jihomoravský kraj",
          "Karlovarský kraj",
          "Liberecký kraj",
          "Moravskoslezský kraj",
          "Olomoucký kraj",
          "Pardubický kraj",
          "Středočeský kraj"
         ],
         "xaxis": "x",
         "y": {
          "bdata": "ZmZmZmZmBkAAAAAAAADwPwAAAAAAAPA/AAAAAAAA8D8AAAAAAADwPwAAAAAAAPA/AAAAAAAA8D9mZmZmZmb2Pw==",
          "dtype": "f8"
         },
         "yaxis": "y"
        },
        {
         "bingroup": "x",
         "histfunc": "sum",
         "hovertemplate": "obcan_statu=Etiopie<br>kraj=%{x}<br>sum of pocet=%{y}<extra></extra>",
         "legendgroup": "Etiopie",
         "marker": {
          "color": "#FF97FF",
          "pattern": {
           "shape": ""
          }
         },
         "name": "Etiopie",
         "orientation": "v",
         "showlegend": true,
         "type": "histogram",
         "x": [
          "Hlavní město Praha",
          "Jihomoravský kraj",
          "Jihočeský kraj",
          "Královéhradecký kraj",
          "Liberecký kraj",
          "Moravskoslezský kraj",
          "Olomoucký kraj",
          "Plzeňský kraj",
          "Středočeský kraj",
          "Ústecký kraj"
         ],
         "xaxis": "x",
         "y": {
          "bdata": "ZmZmZmZmCkCamZmZmZkJQAAAAAAAAPA/AAAAAAAA8D8AAAAAAADwPwAAAAAAAPA/AAAAAAAA8D8AAAAAAADwPwAAAAAAAABAAAAAAAAA8D8=",
          "dtype": "f8"
         },
         "yaxis": "y"
        },
        {
         "bingroup": "x",
         "histfunc": "sum",
         "hovertemplate": "obcan_statu=Filipíny<br>kraj=%{x}<br>sum of pocet=%{y}<extra></extra>",
         "legendgroup": "Filipíny",
         "marker": {
          "color": "#FECB52",
          "pattern": {
           "shape": ""
          }
         },
         "name": "Filipíny",
         "orientation": "v",
         "showlegend": true,
         "type": "histogram",
         "x": [
          "Hlavní město Praha",
          "Jihomoravský kraj",
          "Královéhradecký kraj",
          "Liberecký kraj",
          "Moravskoslezský kraj",
          "Olomoucký kraj",
          "Plzeňský kraj",
          "Středočeský kraj",
          "Zlínský kraj",
          "Ústecký kraj"
         ],
         "xaxis": "x",
         "y": {
          "bdata": "zczMzMzMEEAAAAAAAADwPwAAAAAAAPA/AAAAAAAA+D8AAAAAAADwPwAAAAAAAPA/AAAAAAAA8D8AAAAAAADwPwAAAAAAAPA/mpmZmZmZ8T8=",
          "dtype": "f8"
         },
         "yaxis": "y"
        },
        {
         "bingroup": "x",
         "histfunc": "sum",
         "hovertemplate": "obcan_statu=Finsko<br>kraj=%{x}<br>sum of pocet=%{y}<extra></extra>",
         "legendgroup": "Finsko",
         "marker": {
          "color": "#636efa",
          "pattern": {
           "shape": ""
          }
         },
         "name": "Finsko",
         "orientation": "v",
         "showlegend": true,
         "type": "histogram",
         "x": [
          "Hlavní město Praha",
          "Jihomoravský kraj",
          "Jihočeský kraj",
          "Karlovarský kraj",
          "Kraj Vysočina",
          "Královéhradecký kraj",
          "Liberecký kraj",
          "Moravskoslezský kraj",
          "Olomoucký kraj",
          "Středočeský kraj",
          "Ústecký kraj"
         ],
         "xaxis": "x",
         "y": {
          "bdata": "mpmZmZmZH0CamZmZmZnxPwAAAAAAAPA/AAAAAAAA8D8AAAAAAADwPwAAAAAAAPg/AAAAAAAA+D+amZmZmZnxPwAAAAAAAPA/mpmZmZmZ8T8AAAAAAADwPw==",
          "dtype": "f8"
         },
         "yaxis": "y"
        },
        {
         "bingroup": "x",
         "histfunc": "sum",
         "hovertemplate": "obcan_statu=Francie<br>kraj=%{x}<br>sum of pocet=%{y}<extra></extra>",
         "legendgroup": "Francie",
         "marker": {
          "color": "#EF553B",
          "pattern": {
           "shape": ""
          }
         },
         "name": "Francie",
         "orientation": "v",
         "showlegend": true,
         "type": "histogram",
         "x": [
          "Hlavní město Praha",
          "Jihomoravský kraj",
          "Jihočeský kraj",
          "Karlovarský kraj",
          "Kraj Vysočina",
          "Královéhradecký kraj",
          "Liberecký kraj",
          "Moravskoslezský kraj",
          "Olomoucký kraj",
          "Pardubický kraj",
          "Plzeňský kraj",
          "Středočeský kraj",
          "Zlínský kraj",
          "nezjištěno",
          "Ústecký kraj"
         ],
         "xaxis": "x",
         "y": {
          "bdata": "zczMzMxsUUDNzMzMzMwEQGZmZmZmZv4/MzMzMzMz+z/NzMzMzMz8PzMzMzMzM/s/mpmZmZmZ+T9mZmZmZmYCQJqZmZmZmQlAMzMzMzMz+z/NzMzMzMwAQGZmZmZmZgZAZmZmZmZmAkCamZmZmZnxP83MzMzMzPw/",
          "dtype": "f8"
         },
         "yaxis": "y"
        },
        {
         "bingroup": "x",
         "histfunc": "sum",
         "hovertemplate": "obcan_statu=Gambie<br>kraj=%{x}<br>sum of pocet=%{y}<extra></extra>",
         "legendgroup": "Gambie",
         "marker": {
          "color": "#00cc96",
          "pattern": {
           "shape": ""
          }
         },
         "name": "Gambie",
         "orientation": "v",
         "showlegend": true,
         "type": "histogram",
         "x": [
          "Hlavní město Praha",
          "Plzeňský kraj"
         ],
         "xaxis": "x",
         "y": {
          "bdata": "zczMzMzM9D8AAAAAAADwPw==",
          "dtype": "f8"
         },
         "yaxis": "y"
        },
        {
         "bingroup": "x",
         "histfunc": "sum",
         "hovertemplate": "obcan_statu=Ghana<br>kraj=%{x}<br>sum of pocet=%{y}<extra></extra>",
         "legendgroup": "Ghana",
         "marker": {
          "color": "#ab63fa",
          "pattern": {
           "shape": ""
          }
         },
         "name": "Ghana",
         "orientation": "v",
         "showlegend": true,
         "type": "histogram",
         "x": [
          "Hlavní město Praha",
          "Jihomoravský kraj",
          "Karlovarský kraj",
          "Kraj Vysočina",
          "Královéhradecký kraj",
          "Liberecký kraj",
          "Moravskoslezský kraj",
          "Olomoucký kraj",
          "Pardubický kraj",
          "Středočeský kraj",
          "Ústecký kraj"
         ],
         "xaxis": "x",
         "y": {
          "bdata": "zczMzMzMEkAAAAAAAAAAQAAAAAAAAPA/AAAAAAAA8D8AAAAAAAAAQAAAAAAAAPA/AAAAAAAA8D8AAAAAAADwPwAAAAAAAPA/mpmZmZmZ+T+amZmZmZkBQA==",
          "dtype": "f8"
         },
         "yaxis": "y"
        },
        {
         "bingroup": "x",
         "histfunc": "sum",
         "hovertemplate": "obcan_statu=Grenada<br>kraj=%{x}<br>sum of pocet=%{y}<extra></extra>",
         "legendgroup": "Grenada",
         "marker": {
          "color": "#FFA15A",
          "pattern": {
           "shape": ""
          }
         },
         "name": "Grenada",
         "orientation": "v",
         "showlegend": true,
         "type": "histogram",
         "x": [
          "Hlavní město Praha",
          "Ústecký kraj"
         ],
         "xaxis": "x",
         "y": {
          "bdata": "mpmZmZmZ8T8AAAAAAADwPw==",
          "dtype": "f8"
         },
         "yaxis": "y"
        },
        {
         "bingroup": "x",
         "histfunc": "sum",
         "hovertemplate": "obcan_statu=Gruzie<br>kraj=%{x}<br>sum of pocet=%{y}<extra></extra>",
         "legendgroup": "Gruzie",
         "marker": {
          "color": "#19d3f3",
          "pattern": {
           "shape": ""
          }
         },
         "name": "Gruzie",
         "orientation": "v",
         "showlegend": true,
         "type": "histogram",
         "x": [
          "Hlavní město Praha",
          "Jihomoravský kraj",
          "Jihočeský kraj",
          "Karlovarský kraj",
          "Kraj Vysočina",
          "Liberecký kraj",
          "Moravskoslezský kraj",
          "Olomoucký kraj",
          "Pardubický kraj",
          "Plzeňský kraj",
          "Středočeský kraj",
          "Zlínský kraj",
          "Ústecký kraj"
         ],
         "xaxis": "x",
         "y": {
          "bdata": "ZmZmZmZmLEBmZmZmZmYCQAAAAAAAAPg/zczMzMzMAEAAAAAAAADwP2ZmZmZmZgJAZmZmZmZm9j8AAAAAAADwPzMzMzMzM/M/AAAAAAAA8D+amZmZmZn5P2ZmZmZmZvY/ZmZmZmZm/j8=",
          "dtype": "f8"
         },
         "yaxis": "y"
        },
        {
         "bingroup": "x",
         "histfunc": "sum",
         "hovertemplate": "obcan_statu=Guatemala<br>kraj=%{x}<br>sum of pocet=%{y}<extra></extra>",
         "legendgroup": "Guatemala",
         "marker": {
          "color": "#FF6692",
          "pattern": {
           "shape": ""
          }
         },
         "name": "Guatemala",
         "orientation": "v",
         "showlegend": true,
         "type": "histogram",
         "x": [
          "Hlavní město Praha",
          "Jihomoravský kraj",
          "Středočeský kraj"
         ],
         "xaxis": "x",
         "y": {
          "bdata": "MzMzMzMzA0AAAAAAAADwPwAAAAAAAPA/",
          "dtype": "f8"
         },
         "yaxis": "y"
        },
        {
         "bingroup": "x",
         "histfunc": "sum",
         "hovertemplate": "obcan_statu=Guinea<br>kraj=%{x}<br>sum of pocet=%{y}<extra></extra>",
         "legendgroup": "Guinea",
         "marker": {
          "color": "#B6E880",
          "pattern": {
           "shape": ""
          }
         },
         "name": "Guinea",
         "orientation": "v",
         "showlegend": true,
         "type": "histogram",
         "x": [
          "Hlavní město Praha",
          "Jihomoravský kraj",
          "Karlovarský kraj",
          "Královéhradecký kraj",
          "Plzeňský kraj",
          "Středočeský kraj",
          "Ústecký kraj"
         ],
         "xaxis": "x",
         "y": {
          "bdata": "AAAAAAAADEDNzMzMzMz0PwAAAAAAAPA/AAAAAAAA8D8zMzMzMzPzP2ZmZmZmZv4/AAAAAAAA8D8=",
          "dtype": "f8"
         },
         "yaxis": "y"
        },
        {
         "bingroup": "x",
         "histfunc": "sum",
         "hovertemplate": "obcan_statu=Guinea-Bissau<br>kraj=%{x}<br>sum of pocet=%{y}<extra></extra>",
         "legendgroup": "Guinea-Bissau",
         "marker": {
          "color": "#FF97FF",
          "pattern": {
           "shape": ""
          }
         },
         "name": "Guinea-Bissau",
         "orientation": "v",
         "showlegend": true,
         "type": "histogram",
         "x": [
          "Hlavní město Praha",
          "Plzeňský kraj",
          "Středočeský kraj"
         ],
         "xaxis": "x",
         "y": {
          "bdata": "zczMzMzMAEAAAAAAAADwPwAAAAAAAPA/",
          "dtype": "f8"
         },
         "yaxis": "y"
        },
        {
         "bingroup": "x",
         "histfunc": "sum",
         "hovertemplate": "obcan_statu=Guyana<br>kraj=%{x}<br>sum of pocet=%{y}<extra></extra>",
         "legendgroup": "Guyana",
         "marker": {
          "color": "#FECB52",
          "pattern": {
           "shape": ""
          }
         },
         "name": "Guyana",
         "orientation": "v",
         "showlegend": true,
         "type": "histogram",
         "x": [
          "Hlavní město Praha",
          "Jihočeský kraj",
          "Moravskoslezský kraj"
         ],
         "xaxis": "x",
         "y": {
          "bdata": "zczMzMzM9D8AAAAAAADwPwAAAAAAAPA/",
          "dtype": "f8"
         },
         "yaxis": "y"
        },
        {
         "bingroup": "x",
         "histfunc": "sum",
         "hovertemplate": "obcan_statu=Honduras<br>kraj=%{x}<br>sum of pocet=%{y}<extra></extra>",
         "legendgroup": "Honduras",
         "marker": {
          "color": "#636efa",
          "pattern": {
           "shape": ""
          }
         },
         "name": "Honduras",
         "orientation": "v",
         "showlegend": true,
         "type": "histogram",
         "x": [
          "Hlavní město Praha",
          "Jihomoravský kraj",
          "Jihočeský kraj",
          "Středočeský kraj"
         ],
         "xaxis": "x",
         "y": {
          "bdata": "mpmZmZmZ8T8AAAAAAADwPwAAAAAAAABAAAAAAAAA8D8=",
          "dtype": "f8"
         },
         "yaxis": "y"
        },
        {
         "bingroup": "x",
         "histfunc": "sum",
         "hovertemplate": "obcan_statu=Indie<br>kraj=%{x}<br>sum of pocet=%{y}<extra></extra>",
         "legendgroup": "Indie",
         "marker": {
          "color": "#EF553B",
          "pattern": {
           "shape": ""
          }
         },
         "name": "Indie",
         "orientation": "v",
         "showlegend": true,
         "type": "histogram",
         "x": [
          "Hlavní město Praha",
          "Jihomoravský kraj",
          "Jihočeský kraj",
          "Karlovarský kraj",
          "Královéhradecký kraj",
          "Liberecký kraj",
          "Moravskoslezský kraj",
          "Olomoucký kraj",
          "Pardubický kraj",
          "Plzeňský kraj",
          "Středočeský kraj",
          "Zlínský kraj",
          "Ústecký kraj"
         ],
         "xaxis": "x",
         "y": {
          "bdata": "ZmZmZmZmM0BmZmZmZmYGQM3MzMzMzPQ/AAAAAAAA8D+amZmZmZkRQM3MzMzMzPQ/ZmZmZmZmEkDNzMzMzMz0P5qZmZmZmQVAmpmZmZmZCUDNzMzMzMz8PzMzMzMzM/M/AAAAAAAAAEA=",
          "dtype": "f8"
         },
         "yaxis": "y"
        },
        {
         "bingroup": "x",
         "histfunc": "sum",
         "hovertemplate": "obcan_statu=Indonésie<br>kraj=%{x}<br>sum of pocet=%{y}<extra></extra>",
         "legendgroup": "Indonésie",
         "marker": {
          "color": "#00cc96",
          "pattern": {
           "shape": ""
          }
         },
         "name": "Indonésie",
         "orientation": "v",
         "showlegend": true,
         "type": "histogram",
         "x": [
          "Hlavní město Praha",
          "Jihomoravský kraj",
          "Jihočeský kraj",
          "Královéhradecký kraj",
          "Olomoucký kraj",
          "Plzeňský kraj",
          "Středočeský kraj",
          "Zlínský kraj",
          "Ústecký kraj"
         ],
         "xaxis": "x",
         "y": {
          "bdata": "ZmZmZmZmFEAAAAAAAADwP2ZmZmZmZvY/AAAAAAAAAEAAAAAAAADwPwAAAAAAAPA/mpmZmZmZ8T8AAAAAAAD4PwAAAAAAAPA/",
          "dtype": "f8"
         },
         "yaxis": "y"
        },
        {
         "bingroup": "x",
         "histfunc": "sum",
         "hovertemplate": "obcan_statu=Irsko<br>kraj=%{x}<br>sum of pocet=%{y}<extra></extra>",
         "legendgroup": "Irsko",
         "marker": {
          "color": "#ab63fa",
          "pattern": {
           "shape": ""
          }
         },
         "name": "Irsko",
         "orientation": "v",
         "showlegend": true,
         "type": "histogram",
         "x": [
          "Hlavní město Praha",
          "Jihomoravský kraj",
          "Jihočeský kraj",
          "Kraj Vysočina",
          "Královéhradecký kraj",
          "Liberecký kraj",
          "Moravskoslezský kraj",
          "Pardubický kraj",
          "Plzeňský kraj",
          "Středočeský kraj",
          "Zlínský kraj",
          "Ústecký kraj"
         ],
         "xaxis": "x",
         "y": {
          "bdata": "mpmZmZmZK0AzMzMzMzP7P83MzMzMzPQ/AAAAAAAA8D8zMzMzMzPzPwAAAAAAAPA/AAAAAAAA8D/NzMzMzMz0PwAAAAAAAPA/ZmZmZmZm9j8AAAAAAADwP83MzMzMzPQ/",
          "dtype": "f8"
         },
         "yaxis": "y"
        },
        {
         "bingroup": "x",
         "histfunc": "sum",
         "hovertemplate": "obcan_statu=Irák<br>kraj=%{x}<br>sum of pocet=%{y}<extra></extra>",
         "legendgroup": "Irák",
         "marker": {
          "color": "#FFA15A",
          "pattern": {
           "shape": ""
          }
         },
         "name": "Irák",
         "orientation": "v",
         "showlegend": true,
         "type": "histogram",
         "x": [
          "Hlavní město Praha",
          "Jihomoravský kraj",
          "Jihočeský kraj",
          "Královéhradecký kraj",
          "Liberecký kraj",
          "Moravskoslezský kraj",
          "Pardubický kraj",
          "Plzeňský kraj",
          "Středočeský kraj",
          "Zlínský kraj",
          "Ústecký kraj"
         ],
         "xaxis": "x",
         "y": {
          "bdata": "ZmZmZmZmGEBmZmZmZmYKQAAAAAAAAPA/AAAAAAAAAEAzMzMzMzP7P5qZmZmZmfE/zczMzMzM9D8AAAAAAAD4PwAAAAAAAABAAAAAAAAA8D/NzMzMzMwAQA==",
          "dtype": "f8"
         },
         "yaxis": "y"
        },
        {
         "bingroup": "x",
         "histfunc": "sum",
         "hovertemplate": "obcan_statu=Island<br>kraj=%{x}<br>sum of pocet=%{y}<extra></extra>",
         "legendgroup": "Island",
         "marker": {
          "color": "#19d3f3",
          "pattern": {
           "shape": ""
          }
         },
         "name": "Island",
         "orientation": "v",
         "showlegend": true,
         "type": "histogram",
         "x": [
          "Hlavní město Praha",
          "Moravskoslezský kraj",
          "Plzeňský kraj",
          "Středočeský kraj"
         ],
         "xaxis": "x",
         "y": {
          "bdata": "zczMzMzM/D8AAAAAAADwPwAAAAAAAPA/AAAAAAAA8D8=",
          "dtype": "f8"
         },
         "yaxis": "y"
        },
        {
         "bingroup": "x",
         "histfunc": "sum",
         "hovertemplate": "obcan_statu=Itálie<br>kraj=%{x}<br>sum of pocet=%{y}<extra></extra>",
         "legendgroup": "Itálie",
         "marker": {
          "color": "#FF6692",
          "pattern": {
           "shape": ""
          }
         },
         "name": "Itálie",
         "orientation": "v",
         "showlegend": true,
         "type": "histogram",
         "x": [
          "Hlavní město Praha",
          "Jihomoravský kraj",
          "Jihočeský kraj",
          "Karlovarský kraj",
          "Kraj Vysočina",
          "Královéhradecký kraj",
          "Liberecký kraj",
          "Moravskoslezský kraj",
          "Olomoucký kraj",
          "Pardubický kraj",
          "Plzeňský kraj",
          "Středočeský kraj",
          "Zlínský kraj",
          "nezjištěno",
          "Ústecký kraj"
         ],
         "xaxis": "x",
         "y": {
          "bdata": "zczMzMyMTEDNzMzMzMwUQM3MzMzMzABAZmZmZmZmAkAzMzMzMzP7P2ZmZmZmZv4/zczMzMzMBEBmZmZmZmYGQAAAAAAAAAhAMzMzMzMzB0AAAAAAAAAAQM3MzMzMzARAMzMzMzMzD0CamZmZmZnxP2ZmZmZmZgZA",
          "dtype": "f8"
         },
         "yaxis": "y"
        },
        {
         "bingroup": "x",
         "histfunc": "sum",
         "hovertemplate": "obcan_statu=Izrael<br>kraj=%{x}<br>sum of pocet=%{y}<extra></extra>",
         "legendgroup": "Izrael",
         "marker": {
          "color": "#B6E880",
          "pattern": {
           "shape": ""
          }
         },
         "name": "Izrael",
         "orientation": "v",
         "showlegend": true,
         "type": "histogram",
         "x": [
          "Hlavní město Praha",
          "Jihomoravský kraj",
          "Jihočeský kraj",
          "Karlovarský kraj",
          "Kraj Vysočina",
          "Královéhradecký kraj",
          "Liberecký kraj",
          "Moravskoslezský kraj",
          "Olomoucký kraj",
          "Pardubický kraj",
          "Plzeňský kraj",
          "Středočeský kraj",
          "Zlínský kraj",
          "nezjištěno",
          "Ústecký kraj"
         ],
         "xaxis": "x",
         "y": {
          "bdata": "ZmZmZmbmNkAzMzMzMzMLQDMzMzMzM/s/zczMzMzMDECamZmZmZn5P2ZmZmZmZvY/ZmZmZmZm9j8zMzMzMzP7PzMzMzMzMwNAAAAAAAAA8D/NzMzMzMwEQAAAAAAAAAxAAAAAAAAA8D8AAAAAAADwP2ZmZmZmZv4/",
          "dtype": "f8"
         },
         "yaxis": "y"
        },
        {
         "bingroup": "x",
         "histfunc": "sum",
         "hovertemplate": "obcan_statu=Jamajka<br>kraj=%{x}<br>sum of pocet=%{y}<extra></extra>",
         "legendgroup": "Jamajka",
         "marker": {
          "color": "#FF97FF",
          "pattern": {
           "shape": ""
          }
         },
         "name": "Jamajka",
         "orientation": "v",
         "showlegend": true,
         "type": "histogram",
         "x": [
          "Hlavní město Praha",
          "Liberecký kraj",
          "Středočeský kraj"
         ],
         "xaxis": "x",
         "y": {
          "bdata": "AAAAAAAA8D8AAAAAAADwPwAAAAAAAPA/",
          "dtype": "f8"
         },
         "yaxis": "y"
        },
        {
         "bingroup": "x",
         "histfunc": "sum",
         "hovertemplate": "obcan_statu=Japonsko<br>kraj=%{x}<br>sum of pocet=%{y}<extra></extra>",
         "legendgroup": "Japonsko",
         "marker": {
          "color": "#FECB52",
          "pattern": {
           "shape": ""
          }
         },
         "name": "Japonsko",
         "orientation": "v",
         "showlegend": true,
         "type": "histogram",
         "x": [
          "Hlavní město Praha",
          "Jihomoravský kraj",
          "Jihočeský kraj",
          "Karlovarský kraj",
          "Kraj Vysočina",
          "Královéhradecký kraj",
          "Liberecký kraj",
          "Moravskoslezský kraj",
          "Olomoucký kraj",
          "Pardubický kraj",
          "Plzeňský kraj",
          "Středočeský kraj",
          "Zlínský kraj",
          "nezjištěno",
          "Ústecký kraj"
         ],
         "xaxis": "x",
         "y": {
          "bdata": "ZmZmZmYmS0BmZmZmZmYCQM3MzMzMzABAAAAAAAAA+D8zMzMzMzMLQDMzMzMzM/s/ZmZmZmZmBkAzMzMzMzPzP2ZmZmZmZgJAAAAAAAAADEBmZmZmZmYUQJqZmZmZmQFAZmZmZmZm/j/NzMzMzMwAQJqZmZmZmQ1A",
          "dtype": "f8"
         },
         "yaxis": "y"
        },
        {
         "bingroup": "x",
         "histfunc": "sum",
         "hovertemplate": "obcan_statu=Jemen<br>kraj=%{x}<br>sum of pocet=%{y}<extra></extra>",
         "legendgroup": "Jemen",
         "marker": {
          "color": "#636efa",
          "pattern": {
           "shape": ""
          }
         },
         "name": "Jemen",
         "orientation": "v",
         "showlegend": true,
         "type": "histogram",
         "x": [
          "Hlavní město Praha",
          "Jihomoravský kraj",
          "Karlovarský kraj",
          "Kraj Vysočina",
          "Královéhradecký kraj",
          "Liberecký kraj",
          "Moravskoslezský kraj",
          "Olomoucký kraj",
          "Pardubický kraj",
          "Plzeňský kraj",
          "Středočeský kraj",
          "Ústecký kraj"
         ],
         "xaxis": "x",
         "y": {
          "bdata": "AAAAAAAAEkBmZmZmZmYOQM3MzMzMzPQ/mpmZmZmZAUAAAAAAAAAMQM3MzMzMzPQ/mpmZmZmZ+T/NzMzMzMwIQAAAAAAAAPA/AAAAAAAAEECamZmZmZn5P5qZmZmZmfk/",
          "dtype": "f8"
         },
         "yaxis": "y"
        },
        {
         "bingroup": "x",
         "histfunc": "sum",
         "hovertemplate": "obcan_statu=Jižní Afrika<br>kraj=%{x}<br>sum of pocet=%{y}<extra></extra>",
         "legendgroup": "Jižní Afrika",
         "marker": {
          "color": "#EF553B",
          "pattern": {
           "shape": ""
          }
         },
         "name": "Jižní Afrika",
         "orientation": "v",
         "showlegend": true,
         "type": "histogram",
         "x": [
          "Hlavní město Praha",
          "Jihomoravský kraj",
          "Jihočeský kraj",
          "Karlovarský kraj",
          "Kraj Vysočina",
          "Královéhradecký kraj",
          "Liberecký kraj",
          "Moravskoslezský kraj",
          "Olomoucký kraj",
          "Pardubický kraj",
          "Středočeský kraj",
          "Zlínský kraj",
          "Ústecký kraj"
         ],
         "xaxis": "x",
         "y": {
          "bdata": "ZmZmZmZmGkBmZmZmZmb2P83MzMzMzPw/AAAAAAAA+D8AAAAAAADwPwAAAAAAAPA/AAAAAAAA+D8AAAAAAADwPzMzMzMzM/M/zczMzMzM9D/NzMzMzMz0P2ZmZmZmZvY/MzMzMzMz8z8=",
          "dtype": "f8"
         },
         "yaxis": "y"
        },
        {
         "bingroup": "x",
         "histfunc": "sum",
         "hovertemplate": "obcan_statu=Jordánsko<br>kraj=%{x}<br>sum of pocet=%{y}<extra></extra>",
         "legendgroup": "Jordánsko",
         "marker": {
          "color": "#00cc96",
          "pattern": {
           "shape": ""
          }
         },
         "name": "Jordánsko",
         "orientation": "v",
         "showlegend": true,
         "type": "histogram",
         "x": [
          "Hlavní město Praha",
          "Jihomoravský kraj",
          "Jihočeský kraj",
          "Karlovarský kraj",
          "Kraj Vysočina",
          "Královéhradecký kraj",
          "Liberecký kraj",
          "Moravskoslezský kraj",
          "Olomoucký kraj",
          "Pardubický kraj",
          "Plzeňský kraj",
          "Středočeský kraj",
          "Zlínský kraj",
          "Ústecký kraj"
         ],
         "xaxis": "x",
         "y": {
          "bdata": "mpmZmZmZIUCamZmZmZkBQAAAAAAAAPA/mpmZmZmZ8T8AAAAAAADwP5qZmZmZmfE/mpmZmZmZBUAzMzMzMzPzP83MzMzMzPQ/AAAAAAAA8D+amZmZmZkNQJqZmZmZmfk/mpmZmZmZ8T/NzMzMzMz0Pw==",
          "dtype": "f8"
         },
         "yaxis": "y"
        },
        {
         "bingroup": "x",
         "histfunc": "sum",
         "hovertemplate": "obcan_statu=Kambodža<br>kraj=%{x}<br>sum of pocet=%{y}<extra></extra>",
         "legendgroup": "Kambodža",
         "marker": {
          "color": "#ab63fa",
          "pattern": {
           "shape": ""
          }
         },
         "name": "Kambodža",
         "orientation": "v",
         "showlegend": true,
         "type": "histogram",
         "x": [
          "Hlavní město Praha",
          "Jihomoravský kraj",
          "Jihočeský kraj",
          "Kraj Vysočina",
          "Pardubický kraj",
          "Středočeský kraj"
         ],
         "xaxis": "x",
         "y": {
          "bdata": "AAAAAAAABECamZmZmZnxPwAAAAAAAPA/AAAAAAAA8D8AAAAAAADwPwAAAAAAAPA/",
          "dtype": "f8"
         },
         "yaxis": "y"
        },
        {
         "bingroup": "x",
         "histfunc": "sum",
         "hovertemplate": "obcan_statu=Kamerun<br>kraj=%{x}<br>sum of pocet=%{y}<extra></extra>",
         "legendgroup": "Kamerun",
         "marker": {
          "color": "#FFA15A",
          "pattern": {
           "shape": ""
          }
         },
         "name": "Kamerun",
         "orientation": "v",
         "showlegend": true,
         "type": "histogram",
         "x": [
          "Hlavní město Praha",
          "Jihomoravský kraj",
          "Liberecký kraj",
          "Olomoucký kraj",
          "Středočeský kraj",
          "Ústecký kraj"
         ],
         "xaxis": "x",
         "y": {
          "bdata": "AAAAAAAA8D8AAAAAAADwP83MzMzMzPQ/AAAAAAAA8D8AAAAAAADwPwAAAAAAAPA/",
          "dtype": "f8"
         },
         "yaxis": "y"
        },
        {
         "bingroup": "x",
         "histfunc": "sum",
         "hovertemplate": "obcan_statu=Kanada<br>kraj=%{x}<br>sum of pocet=%{y}<extra></extra>",
         "legendgroup": "Kanada",
         "marker": {
          "color": "#19d3f3",
          "pattern": {
           "shape": ""
          }
         },
         "name": "Kanada",
         "orientation": "v",
         "showlegend": true,
         "type": "histogram",
         "x": [
          "Hlavní město Praha",
          "Jihomoravský kraj",
          "Jihočeský kraj",
          "Karlovarský kraj",
          "Kraj Vysočina",
          "Královéhradecký kraj",
          "Liberecký kraj",
          "Moravskoslezský kraj",
          "Olomoucký kraj",
          "Pardubický kraj",
          "Plzeňský kraj",
          "Středočeský kraj",
          "Zlínský kraj",
          "nezjištěno",
          "Ústecký kraj"
         ],
         "xaxis": "x",
         "y": {
          "bdata": "AAAAAACAN0DNzMzMzMwAQJqZmZmZmfk/MzMzMzMz+z/NzMzMzMz0P5qZmZmZmQFAAAAAAAAA+D8zMzMzMzP7P2ZmZmZmZv4/zczMzMzM/D9mZmZmZmb+PwAAAAAAAABAMzMzMzMz+z9mZmZmZmYUQAAAAAAAAPg/",
          "dtype": "f8"
         },
         "yaxis": "y"
        },
        {
         "bingroup": "x",
         "histfunc": "sum",
         "hovertemplate": "obcan_statu=Kapverdy<br>kraj=%{x}<br>sum of pocet=%{y}<extra></extra>",
         "legendgroup": "Kapverdy",
         "marker": {
          "color": "#FF6692",
          "pattern": {
           "shape": ""
          }
         },
         "name": "Kapverdy",
         "orientation": "v",
         "showlegend": true,
         "type": "histogram",
         "x": [
          "Hlavní město Praha",
          "Jihomoravský kraj",
          "Středočeský kraj"
         ],
         "xaxis": "x",
         "y": {
          "bdata": "AAAAAAAAAEDNzMzMzMz0PwAAAAAAAPA/",
          "dtype": "f8"
         },
         "yaxis": "y"
        },
        {
         "bingroup": "x",
         "histfunc": "sum",
         "hovertemplate": "obcan_statu=Katar<br>kraj=%{x}<br>sum of pocet=%{y}<extra></extra>",
         "legendgroup": "Katar",
         "marker": {
          "color": "#B6E880",
          "pattern": {
           "shape": ""
          }
         },
         "name": "Katar",
         "orientation": "v",
         "showlegend": true,
         "type": "histogram",
         "x": [
          "Hlavní město Praha",
          "Liberecký kraj"
         ],
         "xaxis": "x",
         "y": {
          "bdata": "AAAAAAAA8D8AAAAAAADwPw==",
          "dtype": "f8"
         },
         "yaxis": "y"
        },
        {
         "bingroup": "x",
         "histfunc": "sum",
         "hovertemplate": "obcan_statu=Kazachstán<br>kraj=%{x}<br>sum of pocet=%{y}<extra></extra>",
         "legendgroup": "Kazachstán",
         "marker": {
          "color": "#FF97FF",
          "pattern": {
           "shape": ""
          }
         },
         "name": "Kazachstán",
         "orientation": "v",
         "showlegend": true,
         "type": "histogram",
         "x": [
          "Hlavní město Praha",
          "Jihomoravský kraj",
          "Jihočeský kraj",
          "Karlovarský kraj",
          "Kraj Vysočina",
          "Královéhradecký kraj",
          "Liberecký kraj",
          "Moravskoslezský kraj",
          "Olomoucký kraj",
          "Pardubický kraj",
          "Plzeňský kraj",
          "Středočeský kraj",
          "Zlínský kraj",
          "Ústecký kraj"
         ],
         "xaxis": "x",
         "y": {
          "bdata": "MzMzMzNzTUAzMzMzMzMHQAAAAAAAAABAmpmZmZmZGUAAAAAAAAAEQGZmZmZmZgZAZmZmZmZmEEAzMzMzMzMHQGZmZmZmZgJAmpmZmZmZAUCamZmZmZkJQGZmZmZmZhJAZmZmZmZm/j8AAAAAAAAYQA==",
          "dtype": "f8"
         },
         "yaxis": "y"
        },
        {
         "bingroup": "x",
         "histfunc": "sum",
         "hovertemplate": "obcan_statu=Keňa<br>kraj=%{x}<br>sum of pocet=%{y}<extra></extra>",
         "legendgroup": "Keňa",
         "marker": {
          "color": "#FECB52",
          "pattern": {
           "shape": ""
          }
         },
         "name": "Keňa",
         "orientation": "v",
         "showlegend": true,
         "type": "histogram",
         "x": [
          "Hlavní město Praha",
          "Karlovarský kraj",
          "Královéhradecký kraj",
          "Plzeňský kraj",
          "Středočeský kraj"
         ],
         "xaxis": "x",
         "y": {
          "bdata": "AAAAAAAAFkAAAAAAAADwPzMzMzMzM/s/ZmZmZmZmCkCamZmZmZnxPw==",
          "dtype": "f8"
         },
         "yaxis": "y"
        },
        {
         "bingroup": "x",
         "histfunc": "sum",
         "hovertemplate": "obcan_statu=Kolumbie<br>kraj=%{x}<br>sum of pocet=%{y}<extra></extra>",
         "legendgroup": "Kolumbie",
         "marker": {
          "color": "#636efa",
          "pattern": {
           "shape": ""
          }
         },
         "name": "Kolumbie",
         "orientation": "v",
         "showlegend": true,
         "type": "histogram",
         "x": [
          "Hlavní město Praha",
          "Jihomoravský kraj",
          "Jihočeský kraj",
          "Karlovarský kraj",
          "Královéhradecký kraj",
          "Liberecký kraj",
          "Moravskoslezský kraj",
          "Olomoucký kraj",
          "Pardubický kraj",
          "Plzeňský kraj",
          "Středočeský kraj",
          "Zlínský kraj",
          "Ústecký kraj"
         ],
         "xaxis": "x",
         "y": {
          "bdata": "ZmZmZmZmGEAAAAAAAAAEQAAAAAAAAPA/AAAAAAAA+D8AAAAAAADwPwAAAAAAAPA/AAAAAAAA8D8AAAAAAAAAQAAAAAAAAPA/AAAAAAAA8D+amZmZmZnxPwAAAAAAAPA/AAAAAAAAAEA=",
          "dtype": "f8"
         },
         "yaxis": "y"
        },
        {
         "bingroup": "x",
         "histfunc": "sum",
         "hovertemplate": "obcan_statu=Kongo<br>kraj=%{x}<br>sum of pocet=%{y}<extra></extra>",
         "legendgroup": "Kongo",
         "marker": {
          "color": "#EF553B",
          "pattern": {
           "shape": ""
          }
         },
         "name": "Kongo",
         "orientation": "v",
         "showlegend": true,
         "type": "histogram",
         "x": [
          "Hlavní město Praha",
          "Jihomoravský kraj",
          "Jihočeský kraj",
          "Liberecký kraj",
          "Moravskoslezský kraj",
          "Plzeňský kraj",
          "Středočeský kraj",
          "Ústecký kraj"
         ],
         "xaxis": "x",
         "y": {
          "bdata": "mpmZmZmZE0CamZmZmZkBQAAAAAAAAPA/AAAAAAAA8D8AAAAAAADwPwAAAAAAAPA/AAAAAAAA+D8AAAAAAADwPw==",
          "dtype": "f8"
         },
         "yaxis": "y"
        },
        {
         "bingroup": "x",
         "histfunc": "sum",
         "hovertemplate": "obcan_statu=Kongo, demokrat.repub.<br>kraj=%{x}<br>sum of pocet=%{y}<extra></extra>",
         "legendgroup": "Kongo, demokrat.repub.",
         "marker": {
          "color": "#00cc96",
          "pattern": {
           "shape": ""
          }
         },
         "name": "Kongo, demokrat.repub.",
         "orientation": "v",
         "showlegend": true,
         "type": "histogram",
         "x": [
          "Hlavní město Praha",
          "Jihomoravský kraj",
          "Karlovarský kraj",
          "Kraj Vysočina",
          "Královéhradecký kraj",
          "Liberecký kraj",
          "Moravskoslezský kraj",
          "Plzeňský kraj",
          "Středočeský kraj",
          "Ústecký kraj"
         ],
         "xaxis": "x",
         "y": {
          "bdata": "ZmZmZmZmCkAAAAAAAADwPwAAAAAAAPA/AAAAAAAA8D8AAAAAAADwPwAAAAAAAPA/AAAAAAAA8D/NzMzMzMz0PwAAAAAAAPA/MzMzMzMz8z8=",
          "dtype": "f8"
         },
         "yaxis": "y"
        },
        {
         "bingroup": "x",
         "histfunc": "sum",
         "hovertemplate": "obcan_statu=Korea, lidově dem. rep.<br>kraj=%{x}<br>sum of pocet=%{y}<extra></extra>",
         "legendgroup": "Korea, lidově dem. rep.",
         "marker": {
          "color": "#ab63fa",
          "pattern": {
           "shape": ""
          }
         },
         "name": "Korea, lidově dem. rep.",
         "orientation": "v",
         "showlegend": true,
         "type": "histogram",
         "x": [
          "Hlavní město Praha",
          "Královéhradecký kraj",
          "Liberecký kraj",
          "Olomoucký kraj",
          "Pardubický kraj",
          "Středočeský kraj"
         ],
         "xaxis": "x",
         "y": {
          "bdata": "AAAAAACANUAAAAAAAIAwQAAAAAAAABhAZmZmZmZmLUDNzMzMzMwmQGZmZmZm5jFA",
          "dtype": "f8"
         },
         "yaxis": "y"
        },
        {
         "bingroup": "x",
         "histfunc": "sum",
         "hovertemplate": "obcan_statu=Korejská republika<br>kraj=%{x}<br>sum of pocet=%{y}<extra></extra>",
         "legendgroup": "Korejská republika",
         "marker": {
          "color": "#FFA15A",
          "pattern": {
           "shape": ""
          }
         },
         "name": "Korejská republika",
         "orientation": "v",
         "showlegend": true,
         "type": "histogram",
         "x": [
          "Hlavní město Praha",
          "Jihomoravský kraj",
          "Jihočeský kraj",
          "Karlovarský kraj",
          "Královéhradecký kraj",
          "Liberecký kraj",
          "Moravskoslezský kraj",
          "Olomoucký kraj",
          "Plzeňský kraj",
          "Středočeský kraj",
          "Zlínský kraj",
          "nezjištěno",
          "Ústecký kraj"
         ],
         "xaxis": "x",
         "y": {
          "bdata": "zczMzMzMLEBmZmZmZmYKQJqZmZmZmfE/AAAAAAAA8D8AAAAAAADwPwAAAAAAAPg/AAAAAAAA8D9mZmZmZmYSQAAAAAAAAPg/MzMzMzMzA0AAAAAAAADwPwAAAAAAAABAAAAAAAAA8D8=",
          "dtype": "f8"
         },
         "yaxis": "y"
        },
        {
         "bingroup": "x",
         "histfunc": "sum",
         "hovertemplate": "obcan_statu=Kostarika<br>kraj=%{x}<br>sum of pocet=%{y}<extra></extra>",
         "legendgroup": "Kostarika",
         "marker": {
          "color": "#19d3f3",
          "pattern": {
           "shape": ""
          }
         },
         "name": "Kostarika",
         "orientation": "v",
         "showlegend": true,
         "type": "histogram",
         "x": [
          "Hlavní město Praha",
          "Jihomoravský kraj",
          "Karlovarský kraj",
          "Pardubický kraj",
          "Plzeňský kraj",
          "Středočeský kraj"
         ],
         "xaxis": "x",
         "y": {
          "bdata": "zczMzMzMBECamZmZmZkBQAAAAAAAAPA/AAAAAAAA8D8AAAAAAADwPzMzMzMzM/s/",
          "dtype": "f8"
         },
         "yaxis": "y"
        },
        {
         "bingroup": "x",
         "histfunc": "sum",
         "hovertemplate": "obcan_statu=Kuba<br>kraj=%{x}<br>sum of pocet=%{y}<extra></extra>",
         "legendgroup": "Kuba",
         "marker": {
          "color": "#FF6692",
          "pattern": {
           "shape": ""
          }
         },
         "name": "Kuba",
         "orientation": "v",
         "showlegend": true,
         "type": "histogram",
         "x": [
          "Hlavní město Praha",
          "Jihomoravský kraj",
          "Jihočeský kraj",
          "Karlovarský kraj",
          "Kraj Vysočina",
          "Královéhradecký kraj",
          "Liberecký kraj",
          "Moravskoslezský kraj",
          "Olomoucký kraj",
          "Pardubický kraj",
          "Plzeňský kraj",
          "Středočeský kraj",
          "Zlínský kraj",
          "Ústecký kraj"
         ],
         "xaxis": "x",
         "y": {
          "bdata": "MzMzMzMzHUAzMzMzMzMDQDMzMzMzM/M/ZmZmZmZm9j8AAAAAAADwP2ZmZmZmZvY/zczMzMzMAEBmZmZmZmYOQJqZmZmZmQFAzczMzMzM/D8zMzMzMzP7PwAAAAAAAABAAAAAAAAAAECamZmZmZkBQA==",
          "dtype": "f8"
         },
         "yaxis": "y"
        },
        {
         "bingroup": "x",
         "histfunc": "sum",
         "hovertemplate": "obcan_statu=Kuvajt<br>kraj=%{x}<br>sum of pocet=%{y}<extra></extra>",
         "legendgroup": "Kuvajt",
         "marker": {
          "color": "#B6E880",
          "pattern": {
           "shape": ""
          }
         },
         "name": "Kuvajt",
         "orientation": "v",
         "showlegend": true,
         "type": "histogram",
         "x": [
          "Hlavní město Praha",
          "Jihomoravský kraj",
          "Karlovarský kraj",
          "Královéhradecký kraj",
          "Moravskoslezský kraj",
          "Plzeňský kraj",
          "Středočeský kraj",
          "nezjištěno",
          "Ústecký kraj"
         ],
         "xaxis": "x",
         "y": {
          "bdata": "AAAAAAAACECamZmZmZkFQDMzMzMzM/M/AAAAAAAAEEAAAAAAAAAAQAAAAAAAABpAAAAAAAAA8D8AAAAAAADwPwAAAAAAAPA/",
          "dtype": "f8"
         },
         "yaxis": "y"
        },
        {
         "bingroup": "x",
         "histfunc": "sum",
         "hovertemplate": "obcan_statu=Kypr<br>kraj=%{x}<br>sum of pocet=%{y}<extra></extra>",
         "legendgroup": "Kypr",
         "marker": {
          "color": "#FF97FF",
          "pattern": {
           "shape": ""
          }
         },
         "name": "Kypr",
         "orientation": "v",
         "showlegend": true,
         "type": "histogram",
         "x": [
          "Hlavní město Praha",
          "Jihomoravský kraj",
          "Olomoucký kraj",
          "Pardubický kraj",
          "Plzeňský kraj",
          "Středočeský kraj",
          "Zlínský kraj"
         ],
         "xaxis": "x",
         "y": {
          "bdata": "AAAAAAAAEEDNzMzMzMz0PwAAAAAAAPA/AAAAAAAA+D8zMzMzMzP7P5qZmZmZmfE/AAAAAAAA8D8=",
          "dtype": "f8"
         },
         "yaxis": "y"
        },
        {
         "bingroup": "x",
         "histfunc": "sum",
         "hovertemplate": "obcan_statu=Kyrgyzstán<br>kraj=%{x}<br>sum of pocet=%{y}<extra></extra>",
         "legendgroup": "Kyrgyzstán",
         "marker": {
          "color": "#FECB52",
          "pattern": {
           "shape": ""
          }
         },
         "name": "Kyrgyzstán",
         "orientation": "v",
         "showlegend": true,
         "type": "histogram",
         "x": [
          "Hlavní město Praha",
          "Jihomoravský kraj",
          "Jihočeský kraj",
          "Karlovarský kraj",
          "Královéhradecký kraj",
          "Moravskoslezský kraj",
          "Olomoucký kraj",
          "Středočeský kraj",
          "nezjištěno",
          "Ústecký kraj"
         ],
         "xaxis": "x",
         "y": {
          "bdata": "ZmZmZmZmLUAzMzMzMzMLQJqZmZmZmfk/MzMzMzMzD0AzMzMzMzP7P5qZmZmZmfE/zczMzMzM9D8AAAAAAAAAQAAAAAAAAPA/mpmZmZmZAUA=",
          "dtype": "f8"
         },
         "yaxis": "y"
        },
        {
         "bingroup": "x",
         "histfunc": "sum",
         "hovertemplate": "obcan_statu=Laos<br>kraj=%{x}<br>sum of pocet=%{y}<extra></extra>",
         "legendgroup": "Laos",
         "marker": {
          "color": "#636efa",
          "pattern": {
           "shape": ""
          }
         },
         "name": "Laos",
         "orientation": "v",
         "showlegend": true,
         "type": "histogram",
         "x": [
          "Hlavní město Praha",
          "Jihomoravský kraj",
          "Středočeský kraj"
         ],
         "xaxis": "x",
         "y": {
          "bdata": "AAAAAAAABEAzMzMzMzP7PwAAAAAAAPA/",
          "dtype": "f8"
         },
         "yaxis": "y"
        },
        {
         "bingroup": "x",
         "histfunc": "sum",
         "hovertemplate": "obcan_statu=Lesotho<br>kraj=%{x}<br>sum of pocet=%{y}<extra></extra>",
         "legendgroup": "Lesotho",
         "marker": {
          "color": "#EF553B",
          "pattern": {
           "shape": ""
          }
         },
         "name": "Lesotho",
         "orientation": "v",
         "showlegend": true,
         "type": "histogram",
         "x": [
          "Hlavní město Praha",
          "Plzeňský kraj"
         ],
         "xaxis": "x",
         "y": {
          "bdata": "AAAAAAAA8D8AAAAAAADwPw==",
          "dtype": "f8"
         },
         "yaxis": "y"
        },
        {
         "bingroup": "x",
         "histfunc": "sum",
         "hovertemplate": "obcan_statu=Libanon<br>kraj=%{x}<br>sum of pocet=%{y}<extra></extra>",
         "legendgroup": "Libanon",
         "marker": {
          "color": "#00cc96",
          "pattern": {
           "shape": ""
          }
         },
         "name": "Libanon",
         "orientation": "v",
         "showlegend": true,
         "type": "histogram",
         "x": [
          "Hlavní město Praha",
          "Jihomoravský kraj",
          "Jihočeský kraj",
          "Karlovarský kraj",
          "Kraj Vysočina",
          "Královéhradecký kraj",
          "Liberecký kraj",
          "Moravskoslezský kraj",
          "Olomoucký kraj",
          "Pardubický kraj",
          "Plzeňský kraj",
          "Středočeský kraj",
          "Zlínský kraj",
          "Ústecký kraj"
         ],
         "xaxis": "x",
         "y": {
          "bdata": "MzMzMzMzJ0AAAAAAAAAAQAAAAAAAAPA/AAAAAAAADECamZmZmZnxPwAAAAAAAARAzczMzMzM9D8AAAAAAAD4P83MzMzMzPw/AAAAAAAA+D8AAAAAAAAAQDMzMzMzM/s/AAAAAAAA8D9mZmZmZmb+Pw==",
          "dtype": "f8"
         },
         "yaxis": "y"
        },
        {
         "bingroup": "x",
         "histfunc": "sum",
         "hovertemplate": "obcan_statu=Libye<br>kraj=%{x}<br>sum of pocet=%{y}<extra></extra>",
         "legendgroup": "Libye",
         "marker": {
          "color": "#ab63fa",
          "pattern": {
           "shape": ""
          }
         },
         "name": "Libye",
         "orientation": "v",
         "showlegend": true,
         "type": "histogram",
         "x": [
          "Hlavní město Praha",
          "Jihomoravský kraj",
          "Jihočeský kraj",
          "Karlovarský kraj",
          "Královéhradecký kraj",
          "Liberecký kraj",
          "Moravskoslezský kraj",
          "Olomoucký kraj",
          "Pardubický kraj",
          "Plzeňský kraj",
          "Středočeský kraj",
          "Zlínský kraj",
          "nezjištěno",
          "Ústecký kraj"
         ],
         "xaxis": "x",
         "y": {
          "bdata": "mpmZmZkZMEAAAAAAAAAoQAAAAAAAAPA/AAAAAAAA8D8zMzMzMzMDQJqZmZmZmfk/AAAAAAAA+D/NzMzMzMz8P83MzMzMzPw/MzMzMzMzB0DNzMzMzMz0PwAAAAAAAPA/AAAAAAAA8D8zMzMzMzPzPw==",
          "dtype": "f8"
         },
         "yaxis": "y"
        },
        {
         "bingroup": "x",
         "histfunc": "sum",
         "hovertemplate": "obcan_statu=Libérie<br>kraj=%{x}<br>sum of pocet=%{y}<extra></extra>",
         "legendgroup": "Libérie",
         "marker": {
          "color": "#FFA15A",
          "pattern": {
           "shape": ""
          }
         },
         "name": "Libérie",
         "orientation": "v",
         "showlegend": true,
         "type": "histogram",
         "x": [
          "Hlavní město Praha",
          "Jihomoravský kraj"
         ],
         "xaxis": "x",
         "y": {
          "bdata": "AAAAAAAA8D8AAAAAAAAAQA==",
          "dtype": "f8"
         },
         "yaxis": "y"
        },
        {
         "bingroup": "x",
         "histfunc": "sum",
         "hovertemplate": "obcan_statu=Litva<br>kraj=%{x}<br>sum of pocet=%{y}<extra></extra>",
         "legendgroup": "Litva",
         "marker": {
          "color": "#19d3f3",
          "pattern": {
           "shape": ""
          }
         },
         "name": "Litva",
         "orientation": "v",
         "showlegend": true,
         "type": "histogram",
         "x": [
          "Hlavní město Praha",
          "Jihomoravský kraj",
          "Jihočeský kraj",
          "Karlovarský kraj",
          "Kraj Vysočina",
          "Královéhradecký kraj",
          "Liberecký kraj",
          "Moravskoslezský kraj",
          "Olomoucký kraj",
          "Pardubický kraj",
          "Plzeňský kraj",
          "Středočeský kraj",
          "Zlínský kraj",
          "Ústecký kraj"
         ],
         "xaxis": "x",
         "y": {
          "bdata": "mpmZmZmZF0BmZmZmZmb+PwAAAAAAAPA/mpmZmZmZ8T8AAAAAAADwPwAAAAAAAPA/ZmZmZmZm9j9mZmZmZmb+PwAAAAAAAPA/AAAAAAAA+D/NzMzMzMz8P5qZmZmZmfk/AAAAAAAA8D8AAAAAAADwPw==",
          "dtype": "f8"
         },
         "yaxis": "y"
        },
        {
         "bingroup": "x",
         "histfunc": "sum",
         "hovertemplate": "obcan_statu=Lotyšsko<br>kraj=%{x}<br>sum of pocet=%{y}<extra></extra>",
         "legendgroup": "Lotyšsko",
         "marker": {
          "color": "#FF6692",
          "pattern": {
           "shape": ""
          }
         },
         "name": "Lotyšsko",
         "orientation": "v",
         "showlegend": true,
         "type": "histogram",
         "x": [
          "Hlavní město Praha",
          "Jihomoravský kraj",
          "Jihočeský kraj",
          "Karlovarský kraj",
          "Královéhradecký kraj",
          "Liberecký kraj",
          "Moravskoslezský kraj",
          "Plzeňský kraj",
          "Středočeský kraj",
          "Zlínský kraj",
          "Ústecký kraj"
         ],
         "xaxis": "x",
         "y": {
          "bdata": "AAAAAAAAEEAAAAAAAADwPwAAAAAAAPA/zczMzMzM9D8AAAAAAADwPwAAAAAAAPA/mpmZmZmZ+T+amZmZmZnxP5qZmZmZmfE/zczMzMzM/D8AAAAAAADwPw==",
          "dtype": "f8"
         },
         "yaxis": "y"
        },
        {
         "bingroup": "x",
         "histfunc": "sum",
         "hovertemplate": "obcan_statu=Lucembursko<br>kraj=%{x}<br>sum of pocet=%{y}<extra></extra>",
         "legendgroup": "Lucembursko",
         "marker": {
          "color": "#B6E880",
          "pattern": {
           "shape": ""
          }
         },
         "name": "Lucembursko",
         "orientation": "v",
         "showlegend": true,
         "type": "histogram",
         "x": [
          "Hlavní město Praha",
          "Moravskoslezský kraj",
          "Olomoucký kraj",
          "Středočeský kraj"
         ],
         "xaxis": "x",
         "y": {
          "bdata": "AAAAAAAA+D8AAAAAAAAIQM3MzMzMzPQ/AAAAAAAA8D8=",
          "dtype": "f8"
         },
         "yaxis": "y"
        },
        {
         "bingroup": "x",
         "histfunc": "sum",
         "hovertemplate": "obcan_statu=Madagaskar<br>kraj=%{x}<br>sum of pocet=%{y}<extra></extra>",
         "legendgroup": "Madagaskar",
         "marker": {
          "color": "#FF97FF",
          "pattern": {
           "shape": ""
          }
         },
         "name": "Madagaskar",
         "orientation": "v",
         "showlegend": true,
         "type": "histogram",
         "x": [
          "Hlavní město Praha",
          "Jihomoravský kraj",
          "Jihočeský kraj",
          "Karlovarský kraj",
          "Liberecký kraj",
          "Moravskoslezský kraj",
          "Středočeský kraj"
         ],
         "xaxis": "x",
         "y": {
          "bdata": "AAAAAAAABEDNzMzMzMz0PwAAAAAAAPA/AAAAAAAA8D+amZmZmZnxP5qZmZmZmfk/zczMzMzM9D8=",
          "dtype": "f8"
         },
         "yaxis": "y"
        },
        {
         "bingroup": "x",
         "histfunc": "sum",
         "hovertemplate": "obcan_statu=Makedonie,býv.jugosl.r.<br>kraj=%{x}<br>sum of pocet=%{y}<extra></extra>",
         "legendgroup": "Makedonie,býv.jugosl.r.",
         "marker": {
          "color": "#FECB52",
          "pattern": {
           "shape": ""
          }
         },
         "name": "Makedonie,býv.jugosl.r.",
         "orientation": "v",
         "showlegend": true,
         "type": "histogram",
         "x": [
          "Hlavní město Praha",
          "Jihomoravský kraj",
          "Jihočeský kraj",
          "Karlovarský kraj",
          "Kraj Vysočina",
          "Královéhradecký kraj",
          "Liberecký kraj",
          "Moravskoslezský kraj",
          "Olomoucký kraj",
          "Pardubický kraj",
          "Plzeňský kraj",
          "Středočeský kraj",
          "Zlínský kraj",
          "Ústecký kraj"
         ],
         "xaxis": "x",
         "y": {
          "bdata": "AAAAAACARkAzMzMzMzMLQGZmZmZmZv4/MzMzMzMz+z+amZmZmZn5P5qZmZmZmQVAMzMzMzMz+z+amZmZmZkJQJqZmZmZmQVAZmZmZmZm/j/NzMzMzMwEQDMzMzMzMwdAZmZmZmZmAkAzMzMzMzMTQA==",
          "dtype": "f8"
         },
         "yaxis": "y"
        },
        {
         "bingroup": "x",
         "histfunc": "sum",
         "hovertemplate": "obcan_statu=Malajsie<br>kraj=%{x}<br>sum of pocet=%{y}<extra></extra>",
         "legendgroup": "Malajsie",
         "marker": {
          "color": "#636efa",
          "pattern": {
           "shape": ""
          }
         },
         "name": "Malajsie",
         "orientation": "v",
         "showlegend": true,
         "type": "histogram",
         "x": [
          "Hlavní město Praha",
          "Královéhradecký kraj",
          "Středočeský kraj"
         ],
         "xaxis": "x",
         "y": {
          "bdata": "mpmZmZmZCUAAAAAAAAAEQAAAAAAAAPg/",
          "dtype": "f8"
         },
         "yaxis": "y"
        },
        {
         "bingroup": "x",
         "histfunc": "sum",
         "hovertemplate": "obcan_statu=Maledivy<br>kraj=%{x}<br>sum of pocet=%{y}<extra></extra>",
         "legendgroup": "Maledivy",
         "marker": {
          "color": "#EF553B",
          "pattern": {
           "shape": ""
          }
         },
         "name": "Maledivy",
         "orientation": "v",
         "showlegend": true,
         "type": "histogram",
         "x": [
          "Hlavní město Praha",
          "Plzeňský kraj"
         ],
         "xaxis": "x",
         "y": {
          "bdata": "zczMzMzM9D8AAAAAAADwPw==",
          "dtype": "f8"
         },
         "yaxis": "y"
        },
        {
         "bingroup": "x",
         "histfunc": "sum",
         "hovertemplate": "obcan_statu=Mali<br>kraj=%{x}<br>sum of pocet=%{y}<extra></extra>",
         "legendgroup": "Mali",
         "marker": {
          "color": "#00cc96",
          "pattern": {
           "shape": ""
          }
         },
         "name": "Mali",
         "orientation": "v",
         "showlegend": true,
         "type": "histogram",
         "x": [
          "Hlavní město Praha",
          "Jihomoravský kraj",
          "Moravskoslezský kraj",
          "Středočeský kraj",
          "Ústecký kraj"
         ],
         "xaxis": "x",
         "y": {
          "bdata": "AAAAAAAABEAAAAAAAAAAQAAAAAAAAPA/MzMzMzMz+z8AAAAAAADwPw==",
          "dtype": "f8"
         },
         "yaxis": "y"
        },
        {
         "bingroup": "x",
         "histfunc": "sum",
         "hovertemplate": "obcan_statu=Malta<br>kraj=%{x}<br>sum of pocet=%{y}<extra></extra>",
         "legendgroup": "Malta",
         "marker": {
          "color": "#ab63fa",
          "pattern": {
           "shape": ""
          }
         },
         "name": "Malta",
         "orientation": "v",
         "showlegend": true,
         "type": "histogram",
         "x": [
          "Hlavní město Praha",
          "Královéhradecký kraj",
          "Moravskoslezský kraj",
          "Ústecký kraj"
         ],
         "xaxis": "x",
         "y": {
          "bdata": "mpmZmZmZAUAAAAAAAADwPwAAAAAAAPA/AAAAAAAA8D8=",
          "dtype": "f8"
         },
         "yaxis": "y"
        },
        {
         "bingroup": "x",
         "histfunc": "sum",
         "hovertemplate": "obcan_statu=Maroko<br>kraj=%{x}<br>sum of pocet=%{y}<extra></extra>",
         "legendgroup": "Maroko",
         "marker": {
          "color": "#FFA15A",
          "pattern": {
           "shape": ""
          }
         },
         "name": "Maroko",
         "orientation": "v",
         "showlegend": true,
         "type": "histogram",
         "x": [
          "Hlavní město Praha",
          "Jihomoravský kraj",
          "Jihočeský kraj",
          "Karlovarský kraj",
          "Kraj Vysočina",
          "Královéhradecký kraj",
          "Liberecký kraj",
          "Moravskoslezský kraj",
          "Olomoucký kraj",
          "Pardubický kraj",
          "Plzeňský kraj",
          "Středočeský kraj",
          "Zlínský kraj",
          "nezjištěno",
          "Ústecký kraj"
         ],
         "xaxis": "x",
         "y": {
          "bdata": "ZmZmZmZmKECamZmZmZkBQAAAAAAAAPA/AAAAAAAAEkAAAAAAAADwPzMzMzMzM/M/ZmZmZmZm9j8zMzMzMzP7P5qZmZmZmfk/MzMzMzMz8z8AAAAAAADwPzMzMzMzM/M/zczMzMzM9D8AAAAAAAAAQJqZmZmZmfE/",
          "dtype": "f8"
         },
         "yaxis": "y"
        },
        {
         "bingroup": "x",
         "histfunc": "sum",
         "hovertemplate": "obcan_statu=Mauricius<br>kraj=%{x}<br>sum of pocet=%{y}<extra></extra>",
         "legendgroup": "Mauricius",
         "marker": {
          "color": "#19d3f3",
          "pattern": {
           "shape": ""
          }
         },
         "name": "Mauricius",
         "orientation": "v",
         "showlegend": true,
         "type": "histogram",
         "x": [
          "Hlavní město Praha",
          "Královéhradecký kraj"
         ],
         "xaxis": "x",
         "y": {
          "bdata": "mpmZmZmZ8T8AAAAAAADwPw==",
          "dtype": "f8"
         },
         "yaxis": "y"
        },
        {
         "bingroup": "x",
         "histfunc": "sum",
         "hovertemplate": "obcan_statu=Maďarsko<br>kraj=%{x}<br>sum of pocet=%{y}<extra></extra>",
         "legendgroup": "Maďarsko",
         "marker": {
          "color": "#FF6692",
          "pattern": {
           "shape": ""
          }
         },
         "name": "Maďarsko",
         "orientation": "v",
         "showlegend": true,
         "type": "histogram",
         "x": [
          "Hlavní město Praha",
          "Jihomoravský kraj",
          "Jihočeský kraj",
          "Karlovarský kraj",
          "Kraj Vysočina",
          "Královéhradecký kraj",
          "Liberecký kraj",
          "Moravskoslezský kraj",
          "Olomoucký kraj",
          "Pardubický kraj",
          "Plzeňský kraj",
          "Středočeský kraj",
          "Zlínský kraj",
          "Ústecký kraj"
         ],
         "xaxis": "x",
         "y": {
          "bdata": "mpmZmZmZLkBmZmZmZmYCQDMzMzMzM/M/AAAAAAAAAECamZmZmZn5P2ZmZmZmZvY/ZmZmZmZm9j8AAAAAAAAQQAAAAAAAAABAZmZmZmZm/j8AAAAAAAD4P83MzMzMzPw/mpmZmZmZ8T9mZmZmZmb+Pw==",
          "dtype": "f8"
         },
         "yaxis": "y"
        },
        {
         "bingroup": "x",
         "histfunc": "sum",
         "hovertemplate": "obcan_statu=Mexiko<br>kraj=%{x}<br>sum of pocet=%{y}<extra></extra>",
         "legendgroup": "Mexiko",
         "marker": {
          "color": "#B6E880",
          "pattern": {
           "shape": ""
          }
         },
         "name": "Mexiko",
         "orientation": "v",
         "showlegend": true,
         "type": "histogram",
         "x": [
          "Hlavní město Praha",
          "Jihomoravský kraj",
          "Jihočeský kraj",
          "Karlovarský kraj",
          "Královéhradecký kraj",
          "Liberecký kraj",
          "Moravskoslezský kraj",
          "Olomoucký kraj",
          "Pardubický kraj",
          "Plzeňský kraj",
          "Středočeský kraj",
          "Zlínský kraj",
          "Ústecký kraj"
         ],
         "xaxis": "x",
         "y": {
          "bdata": "zczMzMzMEEAAAAAAAADwPwAAAAAAAPA/AAAAAAAA8D+amZmZmZnxPwAAAAAAAPA/mpmZmZmZ+T8AAAAAAAD4PwAAAAAAAPA/AAAAAAAA8D8AAAAAAAD4PwAAAAAAAPA/AAAAAAAA8D8=",
          "dtype": "f8"
         },
         "yaxis": "y"
        },
        {
         "bingroup": "x",
         "histfunc": "sum",
         "hovertemplate": "obcan_statu=Moldavská republika<br>kraj=%{x}<br>sum of pocet=%{y}<extra></extra>",
         "legendgroup": "Moldavská republika",
         "marker": {
          "color": "#FF97FF",
          "pattern": {
           "shape": ""
          }
         },
         "name": "Moldavská republika",
         "orientation": "v",
         "showlegend": true,
         "type": "histogram",
         "x": [
          "Hlavní město Praha",
          "Jihomoravský kraj",
          "Jihočeský kraj",
          "Karlovarský kraj",
          "Kraj Vysočina",
          "Královéhradecký kraj",
          "Liberecký kraj",
          "Moravskoslezský kraj",
          "Olomoucký kraj",
          "Pardubický kraj",
          "Plzeňský kraj",
          "Středočeský kraj",
          "Zlínský kraj",
          "nezjištěno",
          "Ústecký kraj"
         ],
         "xaxis": "x",
         "y": {
          "bdata": "ZmZmZmZmVEBmZmZmZmYnQAAAAAAAABRAZmZmZmZmFEAzMzMzMzMZQDMzMzMzMxFAAAAAAAAAIkCamZmZmZkBQM3MzMzMzBpAMzMzMzMzC0BmZmZmZmYaQDMzMzMzMyZAMzMzMzMzF0AAAAAAAAAAQDMzMzMzMxdA",
          "dtype": "f8"
         },
         "yaxis": "y"
        },
        {
         "bingroup": "x",
         "histfunc": "sum",
         "hovertemplate": "obcan_statu=Mongolsko<br>kraj=%{x}<br>sum of pocet=%{y}<extra></extra>",
         "legendgroup": "Mongolsko",
         "marker": {
          "color": "#FECB52",
          "pattern": {
           "shape": ""
          }
         },
         "name": "Mongolsko",
         "orientation": "v",
         "showlegend": true,
         "type": "histogram",
         "x": [
          "Hlavní město Praha",
          "Jihomoravský kraj",
          "Jihočeský kraj",
          "Karlovarský kraj",
          "Kraj Vysočina",
          "Královéhradecký kraj",
          "Liberecký kraj",
          "Moravskoslezský kraj",
          "Olomoucký kraj",
          "Pardubický kraj",
          "Plzeňský kraj",
          "Středočeský kraj",
          "Zlínský kraj",
          "nezjištěno",
          "Ústecký kraj"
         ],
         "xaxis": "x",
         "y": {
          "bdata": "AAAAAAAAL0BmZmZmZmYoQDMzMzMzMwdAMzMzMzMzKECamZmZmZkqQM3MzMzMzAhAAAAAAAAABEBmZmZmZmb2PzMzMzMzMxtAzczMzMzMDEDNzMzMzMwWQM3MzMzMzAxAmpmZmZmZIkDNzMzMzMz0PwAAAAAAABZA",
          "dtype": "f8"
         },
         "yaxis": "y"
        },
        {
         "bingroup": "x",
         "histfunc": "sum",
         "hovertemplate": "obcan_statu=Mosambik<br>kraj=%{x}<br>sum of pocet=%{y}<extra></extra>",
         "legendgroup": "Mosambik",
         "marker": {
          "color": "#636efa",
          "pattern": {
           "shape": ""
          }
         },
         "name": "Mosambik",
         "orientation": "v",
         "showlegend": true,
         "type": "histogram",
         "x": [
          "Hlavní město Praha",
          "Jihomoravský kraj",
          "Liberecký kraj",
          "Moravskoslezský kraj",
          "Olomoucký kraj"
         ],
         "xaxis": "x",
         "y": {
          "bdata": "mpmZmZmZ8T8AAAAAAADwPwAAAAAAAPA/AAAAAAAA8D8AAAAAAADwPw==",
          "dtype": "f8"
         },
         "yaxis": "y"
        },
        {
         "bingroup": "x",
         "histfunc": "sum",
         "hovertemplate": "obcan_statu=Namibie<br>kraj=%{x}<br>sum of pocet=%{y}<extra></extra>",
         "legendgroup": "Namibie",
         "marker": {
          "color": "#EF553B",
          "pattern": {
           "shape": ""
          }
         },
         "name": "Namibie",
         "orientation": "v",
         "showlegend": true,
         "type": "histogram",
         "x": [
          "Hlavní město Praha",
          "Jihočeský kraj",
          "Karlovarský kraj",
          "Olomoucký kraj",
          "Plzeňský kraj",
          "Ústecký kraj"
         ],
         "xaxis": "x",
         "y": {
          "bdata": "ZmZmZmZmAkAzMzMzMzMDQJqZmZmZmfE/AAAAAAAA8D8AAAAAAAAAQAAAAAAAAAhA",
          "dtype": "f8"
         },
         "yaxis": "y"
        },
        {
         "bingroup": "x",
         "histfunc": "sum",
         "hovertemplate": "obcan_statu=Nauru<br>kraj=%{x}<br>sum of pocet=%{y}<extra></extra>",
         "legendgroup": "Nauru",
         "marker": {
          "color": "#00cc96",
          "pattern": {
           "shape": ""
          }
         },
         "name": "Nauru",
         "orientation": "v",
         "showlegend": true,
         "type": "histogram",
         "x": [
          "Hlavní město Praha"
         ],
         "xaxis": "x",
         "y": {
          "bdata": "AAAAAAAA8D8=",
          "dtype": "f8"
         },
         "yaxis": "y"
        },
        {
         "bingroup": "x",
         "histfunc": "sum",
         "hovertemplate": "obcan_statu=Nepál<br>kraj=%{x}<br>sum of pocet=%{y}<extra></extra>",
         "legendgroup": "Nepál",
         "marker": {
          "color": "#ab63fa",
          "pattern": {
           "shape": ""
          }
         },
         "name": "Nepál",
         "orientation": "v",
         "showlegend": true,
         "type": "histogram",
         "x": [
          "Hlavní město Praha",
          "Jihomoravský kraj",
          "Jihočeský kraj",
          "Moravskoslezský kraj",
          "Olomoucký kraj",
          "Plzeňský kraj",
          "Středočeský kraj",
          "nezjištěno",
          "Ústecký kraj"
         ],
         "xaxis": "x",
         "y": {
          "bdata": "zczMzMzMCEAAAAAAAADwP83MzMzMzPw/AAAAAAAA8D8AAAAAAADwPwAAAAAAAPA/AAAAAAAA8D8AAAAAAADwPwAAAAAAAABA",
          "dtype": "f8"
         },
         "yaxis": "y"
        },
        {
         "bingroup": "x",
         "histfunc": "sum",
         "hovertemplate": "obcan_statu=Nezjištěno<br>kraj=%{x}<br>sum of pocet=%{y}<extra></extra>",
         "legendgroup": "Nezjištěno",
         "marker": {
          "color": "#FFA15A",
          "pattern": {
           "shape": ""
          }
         },
         "name": "Nezjištěno",
         "orientation": "v",
         "showlegend": true,
         "type": "histogram",
         "x": [
          "Hlavní město Praha",
          "Jihomoravský kraj",
          "Jihočeský kraj",
          "Karlovarský kraj",
          "Kraj Vysočina",
          "Královéhradecký kraj",
          "Liberecký kraj",
          "Moravskoslezský kraj",
          "Olomoucký kraj",
          "Pardubický kraj",
          "Plzeňský kraj",
          "Středočeský kraj",
          "Zlínský kraj",
          "nezjištěno",
          "Ústecký kraj"
         ],
         "xaxis": "x",
         "y": {
          "bdata": "MzMzMzMjYUAAAAAAAAAaQM3MzMzMzAhAZmZmZmZmFEDNzMzMzMwAQDMzMzMzMwdAzczMzMzMEkAAAAAAAAASQAAAAAAAABBAZmZmZmZmAkCamZmZmZkJQM3MzMzMzBBAzczMzMzMCEAAAAAAAAD4PzMzMzMzMxFA",
          "dtype": "f8"
         },
         "yaxis": "y"
        },
        {
         "bingroup": "x",
         "histfunc": "sum",
         "hovertemplate": "obcan_statu=Nigérie<br>kraj=%{x}<br>sum of pocet=%{y}<extra></extra>",
         "legendgroup": "Nigérie",
         "marker": {
          "color": "#19d3f3",
          "pattern": {
           "shape": ""
          }
         },
         "name": "Nigérie",
         "orientation": "v",
         "showlegend": true,
         "type": "histogram",
         "x": [
          "Hlavní město Praha",
          "Jihomoravský kraj",
          "Jihočeský kraj",
          "Karlovarský kraj",
          "Kraj Vysočina",
          "Královéhradecký kraj",
          "Liberecký kraj",
          "Moravskoslezský kraj",
          "Olomoucký kraj",
          "Pardubický kraj",
          "Plzeňský kraj",
          "Středočeský kraj",
          "Zlínský kraj",
          "Ústecký kraj"
         ],
         "xaxis": "x",
         "y": {
          "bdata": "AAAAAAAAI0AAAAAAAAAEQAAAAAAAAPA/AAAAAAAA8D8AAAAAAADwP5qZmZmZmQlAAAAAAAAAAECamZmZmZnxPwAAAAAAAPA/mpmZmZmZ+T8zMzMzMzP7P83MzMzMzARAAAAAAAAA8D+amZmZmZkBQA==",
          "dtype": "f8"
         },
         "yaxis": "y"
        },
        {
         "bingroup": "x",
         "histfunc": "sum",
         "hovertemplate": "obcan_statu=Nikaragua<br>kraj=%{x}<br>sum of pocet=%{y}<extra></extra>",
         "legendgroup": "Nikaragua",
         "marker": {
          "color": "#FF6692",
          "pattern": {
           "shape": ""
          }
         },
         "name": "Nikaragua",
         "orientation": "v",
         "showlegend": true,
         "type": "histogram",
         "x": [
          "Hlavní město Praha",
          "Jihomoravský kraj",
          "Olomoucký kraj",
          "Středočeský kraj"
         ],
         "xaxis": "x",
         "y": {
          "bdata": "AAAAAAAAAEAAAAAAAAAAQAAAAAAAAPA/AAAAAAAA8D8=",
          "dtype": "f8"
         },
         "yaxis": "y"
        },
        {
         "bingroup": "x",
         "histfunc": "sum",
         "hovertemplate": "obcan_statu=Nizozemsko<br>kraj=%{x}<br>sum of pocet=%{y}<extra></extra>",
         "legendgroup": "Nizozemsko",
         "marker": {
          "color": "#B6E880",
          "pattern": {
           "shape": ""
          }
         },
         "name": "Nizozemsko",
         "orientation": "v",
         "showlegend": true,
         "type": "histogram",
         "x": [
          "Hlavní město Praha",
          "Jihomoravský kraj",
          "Jihočeský kraj",
          "Karlovarský kraj",
          "Kraj Vysočina",
          "Královéhradecký kraj",
          "Liberecký kraj",
          "Moravskoslezský kraj",
          "Olomoucký kraj",
          "Pardubický kraj",
          "Plzeňský kraj",
          "Středočeský kraj",
          "Zlínský kraj",
          "Ústecký kraj"
         ],
         "xaxis": "x",
         "y": {
          "bdata": "ZmZmZmbmNUDNzMzMzMwIQM3MzMzMzARAzczMzMzMAEAzMzMzMzMDQJqZmZmZmRNAZmZmZmZmBkCamZmZmZn5P83MzMzMzABAMzMzMzMz+z8AAAAAAAAAQJqZmZmZmQVAAAAAAAAAAEDNzMzMzMz8Pw==",
          "dtype": "f8"
         },
         "yaxis": "y"
        },
        {
         "bingroup": "x",
         "histfunc": "sum",
         "hovertemplate": "obcan_statu=Norsko<br>kraj=%{x}<br>sum of pocet=%{y}<extra></extra>",
         "legendgroup": "Norsko",
         "marker": {
          "color": "#FF97FF",
          "pattern": {
           "shape": ""
          }
         },
         "name": "Norsko",
         "orientation": "v",
         "showlegend": true,
         "type": "histogram",
         "x": [
          "Hlavní město Praha",
          "Jihomoravský kraj",
          "Karlovarský kraj",
          "Královéhradecký kraj",
          "Liberecký kraj",
          "Moravskoslezský kraj",
          "Olomoucký kraj",
          "Pardubický kraj",
          "Plzeňský kraj",
          "Středočeský kraj",
          "nezjištěno",
          "Ústecký kraj"
         ],
         "xaxis": "x",
         "y": {
          "bdata": "MzMzMzMzG0AAAAAAAADwPwAAAAAAAPA/AAAAAAAA8D8AAAAAAADwPwAAAAAAAPA/mpmZmZmZ8T8AAAAAAADwPwAAAAAAAPA/zczMzMzMAEAAAAAAAAD4PwAAAAAAAPA/",
          "dtype": "f8"
         },
         "yaxis": "y"
        },
        {
         "bingroup": "x",
         "histfunc": "sum",
         "hovertemplate": "obcan_statu=Nový Zéland<br>kraj=%{x}<br>sum of pocet=%{y}<extra></extra>",
         "legendgroup": "Nový Zéland",
         "marker": {
          "color": "#FECB52",
          "pattern": {
           "shape": ""
          }
         },
         "name": "Nový Zéland",
         "orientation": "v",
         "showlegend": true,
         "type": "histogram",
         "x": [
          "Hlavní město Praha",
          "Jihomoravský kraj",
          "Jihočeský kraj",
          "Královéhradecký kraj",
          "Liberecký kraj",
          "Moravskoslezský kraj",
          "Středočeský kraj",
          "Ústecký kraj"
         ],
         "xaxis": "x",
         "y": {
          "bdata": "AAAAAAAAGEAAAAAAAADwP83MzMzMzPQ/AAAAAAAA8D8AAAAAAADwPwAAAAAAAPA/zczMzMzM9D+amZmZmZnxPw==",
          "dtype": "f8"
         },
         "yaxis": "y"
        },
        {
         "bingroup": "x",
         "histfunc": "sum",
         "hovertemplate": "obcan_statu=Německo<br>kraj=%{x}<br>sum of pocet=%{y}<extra></extra>",
         "legendgroup": "Německo",
         "marker": {
          "color": "#636efa",
          "pattern": {
           "shape": ""
          }
         },
         "name": "Německo",
         "orientation": "v",
         "showlegend": true,
         "type": "histogram",
         "x": [
          "Hlavní město Praha",
          "Jihomoravský kraj",
          "Jihočeský kraj",
          "Karlovarský kraj",
          "Kraj Vysočina",
          "Královéhradecký kraj",
          "Liberecký kraj",
          "Moravskoslezský kraj",
          "Olomoucký kraj",
          "Pardubický kraj",
          "Plzeňský kraj",
          "Středočeský kraj",
          "Zlínský kraj",
          "nezjištěno",
          "Ústecký kraj"
         ],
         "xaxis": "x",
         "y": {
          "bdata": "zczMzMxMXkBmZmZmZmYYQGZmZmZmZhpAZmZmZmZmKkAzMzMzMzMPQGZmZmZmZhRAMzMzMzMzHUCamZmZmZkRQGZmZmZmZhBAzczMzMzMDEAzMzMzMzMlQJqZmZmZmRlAZmZmZmZmEEAAAAAAAAAAQDMzMzMzMx1A",
          "dtype": "f8"
         },
         "yaxis": "y"
        },
        {
         "bingroup": "x",
         "histfunc": "sum",
         "hovertemplate": "obcan_statu=Okupované palestinské území<br>kraj=%{x}<br>sum of pocet=%{y}<extra></extra>",
         "legendgroup": "Okupované palestinské území",
         "marker": {
          "color": "#EF553B",
          "pattern": {
           "shape": ""
          }
         },
         "name": "Okupované palestinské území",
         "orientation": "v",
         "showlegend": true,
         "type": "histogram",
         "x": [
          "Hlavní město Praha",
          "Jihomoravský kraj",
          "Karlovarský kraj",
          "Královéhradecký kraj",
          "Liberecký kraj",
          "Olomoucký kraj",
          "Pardubický kraj",
          "Plzeňský kraj",
          "Středočeský kraj",
          "Zlínský kraj",
          "Ústecký kraj"
         ],
         "xaxis": "x",
         "y": {
          "bdata": "mpmZmZmZF0AAAAAAAAAAQM3MzMzMzAxAAAAAAAAABEAAAAAAAAAAQDMzMzMzM/M/AAAAAAAA8D8zMzMzMzMRQGZmZmZmZvY/AAAAAAAA8D8AAAAAAADwPw==",
          "dtype": "f8"
         },
         "yaxis": "y"
        },
        {
         "bingroup": "x",
         "histfunc": "sum",
         "hovertemplate": "obcan_statu=Omán<br>kraj=%{x}<br>sum of pocet=%{y}<extra></extra>",
         "legendgroup": "Omán",
         "marker": {
          "color": "#00cc96",
          "pattern": {
           "shape": ""
          }
         },
         "name": "Omán",
         "orientation": "v",
         "showlegend": true,
         "type": "histogram",
         "x": [
          "Hlavní město Praha"
         ],
         "xaxis": "x",
         "y": {
          "bdata": "AAAAAAAA8D8=",
          "dtype": "f8"
         },
         "yaxis": "y"
        },
        {
         "bingroup": "x",
         "histfunc": "sum",
         "hovertemplate": "obcan_statu=Panama<br>kraj=%{x}<br>sum of pocet=%{y}<extra></extra>",
         "legendgroup": "Panama",
         "marker": {
          "color": "#ab63fa",
          "pattern": {
           "shape": ""
          }
         },
         "name": "Panama",
         "orientation": "v",
         "showlegend": true,
         "type": "histogram",
         "x": [
          "Hlavní město Praha",
          "Jihomoravský kraj",
          "Karlovarský kraj"
         ],
         "xaxis": "x",
         "y": {
          "bdata": "zczMzMzM9D8AAAAAAADwPwAAAAAAAPA/",
          "dtype": "f8"
         },
         "yaxis": "y"
        },
        {
         "bingroup": "x",
         "histfunc": "sum",
         "hovertemplate": "obcan_statu=Paraguay<br>kraj=%{x}<br>sum of pocet=%{y}<extra></extra>",
         "legendgroup": "Paraguay",
         "marker": {
          "color": "#FFA15A",
          "pattern": {
           "shape": ""
          }
         },
         "name": "Paraguay",
         "orientation": "v",
         "showlegend": true,
         "type": "histogram",
         "x": [
          "Hlavní město Praha",
          "Jihomoravský kraj",
          "Jihočeský kraj",
          "Karlovarský kraj",
          "Středočeský kraj"
         ],
         "xaxis": "x",
         "y": {
          "bdata": "AAAAAAAACECamZmZmZnxPwAAAAAAAPA/zczMzMzM9D8AAAAAAAD4Pw==",
          "dtype": "f8"
         },
         "yaxis": "y"
        },
        {
         "bingroup": "x",
         "histfunc": "sum",
         "hovertemplate": "obcan_statu=Peru<br>kraj=%{x}<br>sum of pocet=%{y}<extra></extra>",
         "legendgroup": "Peru",
         "marker": {
          "color": "#19d3f3",
          "pattern": {
           "shape": ""
          }
         },
         "name": "Peru",
         "orientation": "v",
         "showlegend": true,
         "type": "histogram",
         "x": [
          "Hlavní město Praha",
          "Jihomoravský kraj",
          "Karlovarský kraj",
          "Kraj Vysočina",
          "Královéhradecký kraj",
          "Moravskoslezský kraj",
          "Olomoucký kraj",
          "Pardubický kraj",
          "Plzeňský kraj",
          "Středočeský kraj",
          "Zlínský kraj",
          "Ústecký kraj"
         ],
         "xaxis": "x",
         "y": {
          "bdata": "AAAAAAAAGkCamZmZmZkBQM3MzMzMzPQ/AAAAAAAA8D8AAAAAAAD4P2ZmZmZmZvY/AAAAAAAA8D8AAAAAAADwP83MzMzMzPQ/ZmZmZmZm/j+amZmZmZn5P5qZmZmZmfk/",
          "dtype": "f8"
         },
         "yaxis": "y"
        },
        {
         "bingroup": "x",
         "histfunc": "sum",
         "hovertemplate": "obcan_statu=Pobřeží Slonoviny<br>kraj=%{x}<br>sum of pocet=%{y}<extra></extra>",
         "legendgroup": "Pobřeží Slonoviny",
         "marker": {
          "color": "#FF6692",
          "pattern": {
           "shape": ""
          }
         },
         "name": "Pobřeží Slonoviny",
         "orientation": "v",
         "showlegend": true,
         "type": "histogram",
         "x": [
          "Hlavní město Praha",
          "Jihomoravský kraj",
          "Jihočeský kraj",
          "Karlovarský kraj",
          "Moravskoslezský kraj",
          "Středočeský kraj",
          "Ústecký kraj"
         ],
         "xaxis": "x",
         "y": {
          "bdata": "zczMzMzMGkAAAAAAAAAIQAAAAAAAAPA/AAAAAAAA8D8AAAAAAADwPwAAAAAAAPA/AAAAAAAA8D8=",
          "dtype": "f8"
         },
         "yaxis": "y"
        },
        {
         "bingroup": "x",
         "histfunc": "sum",
         "hovertemplate": "obcan_statu=Polsko<br>kraj=%{x}<br>sum of pocet=%{y}<extra></extra>",
         "legendgroup": "Polsko",
         "marker": {
          "color": "#B6E880",
          "pattern": {
           "shape": ""
          }
         },
         "name": "Polsko",
         "orientation": "v",
         "showlegend": true,
         "type": "histogram",
         "x": [
          "Hlavní město Praha",
          "Jihomoravský kraj",
          "Jihočeský kraj",
          "Karlovarský kraj",
          "Kraj Vysočina",
          "Královéhradecký kraj",
          "Liberecký kraj",
          "Moravskoslezský kraj",
          "Olomoucký kraj",
          "Pardubický kraj",
          "Plzeňský kraj",
          "Středočeský kraj",
          "Zlínský kraj",
          "Ústecký kraj"
         ],
         "xaxis": "x",
         "y": {
          "bdata": "zczMzMxsWkDNzMzMzMwiQJqZmZmZmRlAMzMzMzMzG0AAAAAAAAAYQM3MzMzMjEVAMzMzMzPzQEAzMzMzMxNRQAAAAAAAACRAZmZmZmZmL0AAAAAAAAASQDMzMzMzMzFAmpmZmZmZIUCamZmZmRkwQA==",
          "dtype": "f8"
         },
         "yaxis": "y"
        },
        {
         "bingroup": "x",
         "histfunc": "sum",
         "hovertemplate": "obcan_statu=Portugalsko<br>kraj=%{x}<br>sum of pocet=%{y}<extra></extra>",
         "legendgroup": "Portugalsko",
         "marker": {
          "color": "#FF97FF",
          "pattern": {
           "shape": ""
          }
         },
         "name": "Portugalsko",
         "orientation": "v",
         "showlegend": true,
         "type": "histogram",
         "x": [
          "Hlavní město Praha",
          "Jihomoravský kraj",
          "Jihočeský kraj",
          "Královéhradecký kraj",
          "Liberecký kraj",
          "Moravskoslezský kraj",
          "Pardubický kraj",
          "Plzeňský kraj",
          "Středočeský kraj",
          "Zlínský kraj"
         ],
         "xaxis": "x",
         "y": {
          "bdata": "zczMzMzMEkAAAAAAAADwPwAAAAAAAPA/AAAAAAAA8D8AAAAAAADwPzMzMzMzM/M/zczMzMzM9D8AAAAAAADwPwAAAAAAAPA/AAAAAAAA8D8=",
          "dtype": "f8"
         },
         "yaxis": "y"
        },
        {
         "bingroup": "x",
         "histfunc": "sum",
         "hovertemplate": "obcan_statu=Pákistán<br>kraj=%{x}<br>sum of pocet=%{y}<extra></extra>",
         "legendgroup": "Pákistán",
         "marker": {
          "color": "#FECB52",
          "pattern": {
           "shape": ""
          }
         },
         "name": "Pákistán",
         "orientation": "v",
         "showlegend": true,
         "type": "histogram",
         "x": [
          "Hlavní město Praha",
          "Jihomoravský kraj",
          "Karlovarský kraj",
          "Královéhradecký kraj",
          "Liberecký kraj",
          "Moravskoslezský kraj",
          "Olomoucký kraj",
          "Plzeňský kraj",
          "Středočeský kraj",
          "Zlínský kraj",
          "Ústecký kraj"
         ],
         "xaxis": "x",
         "y": {
          "bdata": "zczMzMzMLkDNzMzMzMwAQDMzMzMzM/M/ZmZmZmZm9j8zMzMzMzMDQGZmZmZmZvY/MzMzMzMz+z+amZmZmZkBQM3MzMzMzPw/AAAAAAAA8D8AAAAAAADwPw==",
          "dtype": "f8"
         },
         "yaxis": "y"
        },
        {
         "bingroup": "x",
         "histfunc": "sum",
         "hovertemplate": "obcan_statu=Rakousko<br>kraj=%{x}<br>sum of pocet=%{y}<extra></extra>",
         "legendgroup": "Rakousko",
         "marker": {
          "color": "#636efa",
          "pattern": {
           "shape": ""
          }
         },
         "name": "Rakousko",
         "orientation": "v",
         "showlegend": true,
         "type": "histogram",
         "x": [
          "Hlavní město Praha",
          "Jihomoravský kraj",
          "Jihočeský kraj",
          "Karlovarský kraj",
          "Kraj Vysočina",
          "Královéhradecký kraj",
          "Liberecký kraj",
          "Moravskoslezský kraj",
          "Olomoucký kraj",
          "Pardubický kraj",
          "Plzeňský kraj",
          "Středočeský kraj",
          "Zlínský kraj",
          "Ústecký kraj"
         ],
         "xaxis": "x",
         "y": {
          "bdata": "mpmZmZmZQ0AzMzMzMzMiQDMzMzMzMyRAmpmZmZmZCUAAAAAAAAAEQAAAAAAAAABAmpmZmZmZAUAzMzMzMzMDQJqZmZmZmQVAAAAAAAAAAEAAAAAAAAAAQJqZmZmZmQlAmpmZmZmZAUAzMzMzMzMDQA==",
          "dtype": "f8"
         },
         "yaxis": "y"
        },
        {
         "bingroup": "x",
         "histfunc": "sum",
         "hovertemplate": "obcan_statu=Rumunsko<br>kraj=%{x}<br>sum of pocet=%{y}<extra></extra>",
         "legendgroup": "Rumunsko",
         "marker": {
          "color": "#EF553B",
          "pattern": {
           "shape": ""
          }
         },
         "name": "Rumunsko",
         "orientation": "v",
         "showlegend": true,
         "type": "histogram",
         "x": [
          "Hlavní město Praha",
          "Jihomoravský kraj",
          "Jihočeský kraj",
          "Karlovarský kraj",
          "Kraj Vysočina",
          "Královéhradecký kraj",
          "Liberecký kraj",
          "Moravskoslezský kraj",
          "Olomoucký kraj",
          "Pardubický kraj",
          "Plzeňský kraj",
          "Středočeský kraj",
          "Zlínský kraj",
          "nezjištěno",
          "Ústecký kraj"
         ],
         "xaxis": "x",
         "y": {
          "bdata": "mpmZmZkZNUAzMzMzMzMPQDMzMzMzMw9AmpmZmZmZK0AzMzMzMzP7PzMzMzMzMwdAZmZmZmZmBkAAAAAAAAAIQM3MzMzMzAhAzczMzMzMCEAAAAAAAAAeQDMzMzMzMw9AAAAAAAAAFECamZmZmZkBQGZmZmZmZh5A",
          "dtype": "f8"
         },
         "yaxis": "y"
        },
        {
         "bingroup": "x",
         "histfunc": "sum",
         "hovertemplate": "obcan_statu=Rusko<br>kraj=%{x}<br>sum of pocet=%{y}<extra></extra>",
         "legendgroup": "Rusko",
         "marker": {
          "color": "#00cc96",
          "pattern": {
           "shape": ""
          }
         },
         "name": "Rusko",
         "orientation": "v",
         "showlegend": true,
         "type": "histogram",
         "x": [
          "Hlavní město Praha",
          "Jihomoravský kraj",
          "Jihočeský kraj",
          "Karlovarský kraj",
          "Kraj Vysočina",
          "Královéhradecký kraj",
          "Liberecký kraj",
          "Moravskoslezský kraj",
          "Olomoucký kraj",
          "Pardubický kraj",
          "Plzeňský kraj",
          "Středočeský kraj",
          "Zlínský kraj",
          "nezjištěno",
          "Ústecký kraj"
         ],
         "xaxis": "x",
         "y": {
          "bdata": "AAAAAABwgEAzMzMzMzMiQJqZmZmZmRlAAAAAAABAQ0AzMzMzMzMLQJqZmZmZmRFAmpmZmZmZH0DNzMzMzMwaQGZmZmZmZhZAzczMzMzMEEBmZmZmZmYOQJqZmZmZmStAZmZmZmZmFkBmZmZmZmYKQM3MzMzMzChA",
          "dtype": "f8"
         },
         "yaxis": "y"
        },
        {
         "bingroup": "x",
         "histfunc": "sum",
         "hovertemplate": "obcan_statu=Salvador<br>kraj=%{x}<br>sum of pocet=%{y}<extra></extra>",
         "legendgroup": "Salvador",
         "marker": {
          "color": "#ab63fa",
          "pattern": {
           "shape": ""
          }
         },
         "name": "Salvador",
         "orientation": "v",
         "showlegend": true,
         "type": "histogram",
         "x": [
          "Hlavní město Praha",
          "Jihočeský kraj",
          "Středočeský kraj"
         ],
         "xaxis": "x",
         "y": {
          "bdata": "AAAAAAAA+D8AAAAAAADwPwAAAAAAAABA",
          "dtype": "f8"
         },
         "yaxis": "y"
        },
        {
         "bingroup": "x",
         "histfunc": "sum",
         "hovertemplate": "obcan_statu=Saúdská Arábie<br>kraj=%{x}<br>sum of pocet=%{y}<extra></extra>",
         "legendgroup": "Saúdská Arábie",
         "marker": {
          "color": "#FFA15A",
          "pattern": {
           "shape": ""
          }
         },
         "name": "Saúdská Arábie",
         "orientation": "v",
         "showlegend": true,
         "type": "histogram",
         "x": [
          "Hlavní město Praha",
          "Jihomoravský kraj",
          "Karlovarský kraj",
          "Královéhradecký kraj",
          "Moravskoslezský kraj",
          "Pardubický kraj",
          "Plzeňský kraj",
          "Středočeský kraj",
          "Ústecký kraj"
         ],
         "xaxis": "x",
         "y": {
          "bdata": "AAAAAAAA+D8zMzMzMzMDQJqZmZmZmfE/AAAAAAAACEAAAAAAAAAEQAAAAAAAAPA/ZmZmZmZmCkAAAAAAAADwP83MzMzMzPw/",
          "dtype": "f8"
         },
         "yaxis": "y"
        },
        {
         "bingroup": "x",
         "histfunc": "sum",
         "hovertemplate": "obcan_statu=Senegal<br>kraj=%{x}<br>sum of pocet=%{y}<extra></extra>",
         "legendgroup": "Senegal",
         "marker": {
          "color": "#19d3f3",
          "pattern": {
           "shape": ""
          }
         },
         "name": "Senegal",
         "orientation": "v",
         "showlegend": true,
         "type": "histogram",
         "x": [
          "Hlavní město Praha",
          "Královéhradecký kraj",
          "Liberecký kraj",
          "Moravskoslezský kraj",
          "Pardubický kraj",
          "Středočeský kraj"
         ],
         "xaxis": "x",
         "y": {
          "bdata": "zczMzMzMEkAAAAAAAADwPwAAAAAAAPA/AAAAAAAA8D8AAAAAAADwP2ZmZmZmZvY/",
          "dtype": "f8"
         },
         "yaxis": "y"
        },
        {
         "bingroup": "x",
         "histfunc": "sum",
         "hovertemplate": "obcan_statu=Seychely<br>kraj=%{x}<br>sum of pocet=%{y}<extra></extra>",
         "legendgroup": "Seychely",
         "marker": {
          "color": "#FF6692",
          "pattern": {
           "shape": ""
          }
         },
         "name": "Seychely",
         "orientation": "v",
         "showlegend": true,
         "type": "histogram",
         "x": [
          "Hlavní město Praha",
          "Ústecký kraj"
         ],
         "xaxis": "x",
         "y": {
          "bdata": "AAAAAAAA8D8AAAAAAADwPw==",
          "dtype": "f8"
         },
         "yaxis": "y"
        },
        {
         "bingroup": "x",
         "histfunc": "sum",
         "hovertemplate": "obcan_statu=Sierra Leone<br>kraj=%{x}<br>sum of pocet=%{y}<extra></extra>",
         "legendgroup": "Sierra Leone",
         "marker": {
          "color": "#B6E880",
          "pattern": {
           "shape": ""
          }
         },
         "name": "Sierra Leone",
         "orientation": "v",
         "showlegend": true,
         "type": "histogram",
         "x": [
          "Hlavní město Praha",
          "Jihomoravský kraj",
          "Karlovarský kraj"
         ],
         "xaxis": "x",
         "y": {
          "bdata": "zczMzMzM9D8AAAAAAADwP5qZmZmZmfE/",
          "dtype": "f8"
         },
         "yaxis": "y"
        },
        {
         "bingroup": "x",
         "histfunc": "sum",
         "hovertemplate": "obcan_statu=Singapur<br>kraj=%{x}<br>sum of pocet=%{y}<extra></extra>",
         "legendgroup": "Singapur",
         "marker": {
          "color": "#FF97FF",
          "pattern": {
           "shape": ""
          }
         },
         "name": "Singapur",
         "orientation": "v",
         "showlegend": true,
         "type": "histogram",
         "x": [
          "Hlavní město Praha",
          "Jihočeský kraj",
          "Kraj Vysočina",
          "Královéhradecký kraj",
          "Moravskoslezský kraj",
          "Středočeský kraj"
         ],
         "xaxis": "x",
         "y": {
          "bdata": "ZmZmZmZm/j8AAAAAAADwPwAAAAAAAPA/AAAAAAAA8D8AAAAAAADwP5qZmZmZmfk/",
          "dtype": "f8"
         },
         "yaxis": "y"
        },
        {
         "bingroup": "x",
         "histfunc": "sum",
         "hovertemplate": "obcan_statu=Slovensko<br>kraj=%{x}<br>sum of pocet=%{y}<extra></extra>",
         "legendgroup": "Slovensko",
         "marker": {
          "color": "#FECB52",
          "pattern": {
           "shape": ""
          }
         },
         "name": "Slovensko",
         "orientation": "v",
         "showlegend": true,
         "type": "histogram",
         "x": [
          "Hlavní město Praha",
          "Jihomoravský kraj",
          "Jihočeský kraj",
          "Karlovarský kraj",
          "Kraj Vysočina",
          "Královéhradecký kraj",
          "Liberecký kraj",
          "Moravskoslezský kraj",
          "Olomoucký kraj",
          "Pardubický kraj",
          "Plzeňský kraj",
          "Středočeský kraj",
          "Zlínský kraj",
          "nezjištěno",
          "Ústecký kraj"
         ],
         "xaxis": "x",
         "y": {
          "bdata": "ZmZmZmYqjUCamZmZmRlKQAAAAAAAgDRAAAAAAACAO0DNzMzMzEwxQGZmZmZm5jdAmpmZmZlZRUAAAAAAAIBRQGZmZmZm5j9AmpmZmZmZN0CamZmZmZk5QGZmZmZmZkZAmpmZmZkZSkDNzMzMzMz8PzMzMzMzszlA",
          "dtype": "f8"
         },
         "yaxis": "y"
        },
        {
         "bingroup": "x",
         "histfunc": "sum",
         "hovertemplate": "obcan_statu=Slovinsko<br>kraj=%{x}<br>sum of pocet=%{y}<extra></extra>",
         "legendgroup": "Slovinsko",
         "marker": {
          "color": "#636efa",
          "pattern": {
           "shape": ""
          }
         },
         "name": "Slovinsko",
         "orientation": "v",
         "showlegend": true,
         "type": "histogram",
         "x": [
          "Hlavní město Praha",
          "Jihomoravský kraj",
          "Jihočeský kraj",
          "Karlovarský kraj",
          "Královéhradecký kraj",
          "Liberecký kraj",
          "Moravskoslezský kraj",
          "Olomoucký kraj",
          "Pardubický kraj",
          "Plzeňský kraj",
          "Středočeský kraj",
          "Zlínský kraj",
          "Ústecký kraj"
         ],
         "xaxis": "x",
         "y": {
          "bdata": "MzMzMzMzIkAzMzMzMzP7P83MzMzMzPQ/zczMzMzM9D+amZmZmZnxPwAAAAAAAPg/MzMzMzMz+z8zMzMzMzPzP5qZmZmZmfE/AAAAAAAA8D/NzMzMzMz0PwAAAAAAAPA/zczMzMzM9D8=",
          "dtype": "f8"
         },
         "yaxis": "y"
        },
        {
         "bingroup": "x",
         "histfunc": "sum",
         "hovertemplate": "obcan_statu=Spojené království<br>kraj=%{x}<br>sum of pocet=%{y}<extra></extra>",
         "legendgroup": "Spojené království",
         "marker": {
          "color": "#EF553B",
          "pattern": {
           "shape": ""
          }
         },
         "name": "Spojené království",
         "orientation": "v",
         "showlegend": true,
         "type": "histogram",
         "x": [
          "Hlavní město Praha",
          "Jihomoravský kraj",
          "Jihočeský kraj",
          "Karlovarský kraj",
          "Kraj Vysočina",
          "Královéhradecký kraj",
          "Liberecký kraj",
          "Moravskoslezský kraj",
          "Olomoucký kraj",
          "Pardubický kraj",
          "Plzeňský kraj",
          "Středočeský kraj",
          "Zlínský kraj",
          "nezjištěno",
          "Ústecký kraj"
         ],
         "xaxis": "x",
         "y": {
          "bdata": "mpmZmZnZU0AAAAAAAAAQQDMzMzMzMwNAzczMzMzM/D/NzMzMzMz8PzMzMzMzMwNAzczMzMzMCEBmZmZmZmYCQDMzMzMzMwtAzczMzMzMCEDNzMzMzMwAQAAAAAAAABJAAAAAAAAABEDNzMzMzMz0P2ZmZmZmZv4/",
          "dtype": "f8"
         },
         "yaxis": "y"
        },
        {
         "bingroup": "x",
         "histfunc": "sum",
         "hovertemplate": "obcan_statu=Spojené státy<br>kraj=%{x}<br>sum of pocet=%{y}<extra></extra>",
         "legendgroup": "Spojené státy",
         "marker": {
          "color": "#00cc96",
          "pattern": {
           "shape": ""
          }
         },
         "name": "Spojené státy",
         "orientation": "v",
         "showlegend": true,
         "type": "histogram",
         "x": [
          "Hlavní město Praha",
          "Jihomoravský kraj",
          "Jihočeský kraj",
          "Karlovarský kraj",
          "Kraj Vysočina",
          "Královéhradecký kraj",
          "Liberecký kraj",
          "Moravskoslezský kraj",
          "Olomoucký kraj",
          "Pardubický kraj",
          "Plzeňský kraj",
          "Středočeský kraj",
          "Zlínský kraj",
          "nezjištěno",
          "Ústecký kraj"
         ],
         "xaxis": "x",
         "y": {
          "bdata": "zczMzMx8YkAAAAAAAAAWQJqZmZmZmQVAmpmZmZmZBUAAAAAAAAAAQAAAAAAAAARAmpmZmZmZBUAzMzMzMzMLQAAAAAAAAAxAAAAAAAAABECamZmZmZkJQDMzMzMzMxFAAAAAAAAACECamZmZmRk1QJqZmZmZmQVA",
          "dtype": "f8"
         },
         "yaxis": "y"
        },
        {
         "bingroup": "x",
         "histfunc": "sum",
         "hovertemplate": "obcan_statu=Srí Lanka<br>kraj=%{x}<br>sum of pocet=%{y}<extra></extra>",
         "legendgroup": "Srí Lanka",
         "marker": {
          "color": "#ab63fa",
          "pattern": {
           "shape": ""
          }
         },
         "name": "Srí Lanka",
         "orientation": "v",
         "showlegend": true,
         "type": "histogram",
         "x": [
          "Hlavní město Praha",
          "Jihomoravský kraj",
          "Kraj Vysočina",
          "Královéhradecký kraj",
          "Liberecký kraj",
          "Moravskoslezský kraj",
          "Středočeský kraj",
          "Zlínský kraj"
         ],
         "xaxis": "x",
         "y": {
          "bdata": "zczMzMzMCEAzMzMzMzPzPwAAAAAAAPA/AAAAAAAAAEAzMzMzMzPzP83MzMzMzPQ/AAAAAAAA8D8AAAAAAADwPw==",
          "dtype": "f8"
         },
         "yaxis": "y"
        },
        {
         "bingroup": "x",
         "histfunc": "sum",
         "hovertemplate": "obcan_statu=Sv.Tomáš a Princův ostr<br>kraj=%{x}<br>sum of pocet=%{y}<extra></extra>",
         "legendgroup": "Sv.Tomáš a Princův ostr",
         "marker": {
          "color": "#FFA15A",
          "pattern": {
           "shape": ""
          }
         },
         "name": "Sv.Tomáš a Princův ostr",
         "orientation": "v",
         "showlegend": true,
         "type": "histogram",
         "x": [
          "Hlavní město Praha",
          "Plzeňský kraj"
         ],
         "xaxis": "x",
         "y": {
          "bdata": "AAAAAAAA8D8AAAAAAADwPw==",
          "dtype": "f8"
         },
         "yaxis": "y"
        },
        {
         "bingroup": "x",
         "histfunc": "sum",
         "hovertemplate": "obcan_statu=Svatá Lucie<br>kraj=%{x}<br>sum of pocet=%{y}<extra></extra>",
         "legendgroup": "Svatá Lucie",
         "marker": {
          "color": "#19d3f3",
          "pattern": {
           "shape": ""
          }
         },
         "name": "Svatá Lucie",
         "orientation": "v",
         "showlegend": true,
         "type": "histogram",
         "x": [
          "Hlavní město Praha"
         ],
         "xaxis": "x",
         "y": {
          "bdata": "mpmZmZmZ8T8=",
          "dtype": "f8"
         },
         "yaxis": "y"
        },
        {
         "bingroup": "x",
         "histfunc": "sum",
         "hovertemplate": "obcan_statu=Syrská arabská repub.<br>kraj=%{x}<br>sum of pocet=%{y}<extra></extra>",
         "legendgroup": "Syrská arabská repub.",
         "marker": {
          "color": "#FF6692",
          "pattern": {
           "shape": ""
          }
         },
         "name": "Syrská arabská repub.",
         "orientation": "v",
         "showlegend": true,
         "type": "histogram",
         "x": [
          "Hlavní město Praha",
          "Jihomoravský kraj",
          "Jihočeský kraj",
          "Karlovarský kraj",
          "Kraj Vysočina",
          "Královéhradecký kraj",
          "Liberecký kraj",
          "Moravskoslezský kraj",
          "Olomoucký kraj",
          "Pardubický kraj",
          "Plzeňský kraj",
          "Středočeský kraj",
          "Zlínský kraj",
          "nezjištěno",
          "Ústecký kraj"
         ],
         "xaxis": "x",
         "y": {
          "bdata": "mpmZmZmZJ0DNzMzMzMwIQAAAAAAAAPA/zczMzMzM/D8AAAAAAAAAQGZmZmZmZgJAAAAAAAAAAECamZmZmZn5PwAAAAAAAABAMzMzMzMz8z8zMzMzMzMDQJqZmZmZmfk/ZmZmZmZm9j8AAAAAAADwP2ZmZmZmZvY/",
          "dtype": "f8"
         },
         "yaxis": "y"
        },
        {
         "bingroup": "x",
         "histfunc": "sum",
         "hovertemplate": "obcan_statu=Súdán<br>kraj=%{x}<br>sum of pocet=%{y}<extra></extra>",
         "legendgroup": "Súdán",
         "marker": {
          "color": "#B6E880",
          "pattern": {
           "shape": ""
          }
         },
         "name": "Súdán",
         "orientation": "v",
         "showlegend": true,
         "type": "histogram",
         "x": [
          "Hlavní město Praha",
          "Jihomoravský kraj",
          "Karlovarský kraj",
          "Královéhradecký kraj",
          "Olomoucký kraj",
          "Plzeňský kraj",
          "Středočeský kraj",
          "Ústecký kraj"
         ],
         "xaxis": "x",
         "y": {
          "bdata": "ZmZmZmZmDkBmZmZmZmb2PwAAAAAAAPA/AAAAAAAAAEAAAAAAAADwP83MzMzMzPw/ZmZmZmZm9j/NzMzMzMz0Pw==",
          "dtype": "f8"
         },
         "yaxis": "y"
        },
        {
         "bingroup": "x",
         "histfunc": "sum",
         "hovertemplate": "obcan_statu=Tanzanie<br>kraj=%{x}<br>sum of pocet=%{y}<extra></extra>",
         "legendgroup": "Tanzanie",
         "marker": {
          "color": "#FF97FF",
          "pattern": {
           "shape": ""
          }
         },
         "name": "Tanzanie",
         "orientation": "v",
         "showlegend": true,
         "type": "histogram",
         "x": [
          "Hlavní město Praha",
          "Jihomoravský kraj",
          "Karlovarský kraj",
          "Středočeský kraj"
         ],
         "xaxis": "x",
         "y": {
          "bdata": "AAAAAAAAEEAAAAAAAAD4P83MzMzMzPQ/AAAAAAAA8D8=",
          "dtype": "f8"
         },
         "yaxis": "y"
        },
        {
         "bingroup": "x",
         "histfunc": "sum",
         "hovertemplate": "obcan_statu=Tchaj-wan<br>kraj=%{x}<br>sum of pocet=%{y}<extra></extra>",
         "legendgroup": "Tchaj-wan",
         "marker": {
          "color": "#FECB52",
          "pattern": {
           "shape": ""
          }
         },
         "name": "Tchaj-wan",
         "orientation": "v",
         "showlegend": true,
         "type": "histogram",
         "x": [
          "Hlavní město Praha",
          "Jihomoravský kraj",
          "Královéhradecký kraj",
          "Moravskoslezský kraj",
          "Olomoucký kraj",
          "Pardubický kraj",
          "Plzeňský kraj",
          "Středočeský kraj"
         ],
         "xaxis": "x",
         "y": {
          "bdata": "mpmZmZmZGUDNzMzMzMz0PzMzMzMzM/M/AAAAAAAA8D8zMzMzMzMHQAAAAAAAABRAAAAAAAAA8D8AAAAAAADwPw==",
          "dtype": "f8"
         },
         "yaxis": "y"
        },
        {
         "bingroup": "x",
         "histfunc": "sum",
         "hovertemplate": "obcan_statu=Thajsko<br>kraj=%{x}<br>sum of pocet=%{y}<extra></extra>",
         "legendgroup": "Thajsko",
         "marker": {
          "color": "#636efa",
          "pattern": {
           "shape": ""
          }
         },
         "name": "Thajsko",
         "orientation": "v",
         "showlegend": true,
         "type": "histogram",
         "x": [
          "Hlavní město Praha",
          "Jihomoravský kraj",
          "Karlovarský kraj",
          "Kraj Vysočina",
          "Královéhradecký kraj",
          "Liberecký kraj",
          "Olomoucký kraj",
          "Plzeňský kraj",
          "Středočeský kraj",
          "Zlínský kraj",
          "Ústecký kraj"
         ],
         "xaxis": "x",
         "y": {
          "bdata": "zczMzMzMKkDNzMzMzMz0PwAAAAAAABBAAAAAAAAA8D8AAAAAAADwPwAAAAAAAPA/zczMzMzM9D8zMzMzMzMDQDMzMzMzM/M/AAAAAAAA8D8zMzMzMzPzPw==",
          "dtype": "f8"
         },
         "yaxis": "y"
        },
        {
         "bingroup": "x",
         "histfunc": "sum",
         "hovertemplate": "obcan_statu=Togo<br>kraj=%{x}<br>sum of pocet=%{y}<extra></extra>",
         "legendgroup": "Togo",
         "marker": {
          "color": "#EF553B",
          "pattern": {
           "shape": ""
          }
         },
         "name": "Togo",
         "orientation": "v",
         "showlegend": true,
         "type": "histogram",
         "x": [
          "Hlavní město Praha",
          "Jihomoravský kraj",
          "Moravskoslezský kraj"
         ],
         "xaxis": "x",
         "y": {
          "bdata": "AAAAAAAAAECamZmZmZnxPwAAAAAAAPA/",
          "dtype": "f8"
         },
         "yaxis": "y"
        },
        {
         "bingroup": "x",
         "histfunc": "sum",
         "hovertemplate": "obcan_statu=Tonga<br>kraj=%{x}<br>sum of pocet=%{y}<extra></extra>",
         "legendgroup": "Tonga",
         "marker": {
          "color": "#00cc96",
          "pattern": {
           "shape": ""
          }
         },
         "name": "Tonga",
         "orientation": "v",
         "showlegend": true,
         "type": "histogram",
         "x": [
          "Hlavní město Praha",
          "Kraj Vysočina"
         ],
         "xaxis": "x",
         "y": {
          "bdata": "zczMzMzM9D8AAAAAAADwPw==",
          "dtype": "f8"
         },
         "yaxis": "y"
        },
        {
         "bingroup": "x",
         "histfunc": "sum",
         "hovertemplate": "obcan_statu=Trinidad a Tobago<br>kraj=%{x}<br>sum of pocet=%{y}<extra></extra>",
         "legendgroup": "Trinidad a Tobago",
         "marker": {
          "color": "#ab63fa",
          "pattern": {
           "shape": ""
          }
         },
         "name": "Trinidad a Tobago",
         "orientation": "v",
         "showlegend": true,
         "type": "histogram",
         "x": [
          "Hlavní město Praha",
          "Olomoucký kraj"
         ],
         "xaxis": "x",
         "y": {
          "bdata": "AAAAAAAA8D8AAAAAAADwPw==",
          "dtype": "f8"
         },
         "yaxis": "y"
        },
        {
         "bingroup": "x",
         "histfunc": "sum",
         "hovertemplate": "obcan_statu=Tunisko<br>kraj=%{x}<br>sum of pocet=%{y}<extra></extra>",
         "legendgroup": "Tunisko",
         "marker": {
          "color": "#FFA15A",
          "pattern": {
           "shape": ""
          }
         },
         "name": "Tunisko",
         "orientation": "v",
         "showlegend": true,
         "type": "histogram",
         "x": [
          "Hlavní město Praha",
          "Jihomoravský kraj",
          "Jihočeský kraj",
          "Karlovarský kraj",
          "Kraj Vysočina",
          "Královéhradecký kraj",
          "Liberecký kraj",
          "Moravskoslezský kraj",
          "Olomoucký kraj",
          "Pardubický kraj",
          "Plzeňský kraj",
          "Středočeský kraj",
          "Zlínský kraj",
          "nezjištěno",
          "Ústecký kraj"
         ],
         "xaxis": "x",
         "y": {
          "bdata": "zczMzMzMKEAAAAAAAAAEQM3MzMzMzPw/zczMzMzM9D8AAAAAAADwP5qZmZmZmfE/AAAAAAAAAEAAAAAAAAAAQAAAAAAAAABAZmZmZmZm9j9mZmZmZmb2P2ZmZmZmZv4/AAAAAAAAAEAAAAAAAADwP83MzMzMzPQ/",
          "dtype": "f8"
         },
         "yaxis": "y"
        },
        {
         "bingroup": "x",
         "histfunc": "sum",
         "hovertemplate": "obcan_statu=Turecko<br>kraj=%{x}<br>sum of pocet=%{y}<extra></extra>",
         "legendgroup": "Turecko",
         "marker": {
          "color": "#19d3f3",
          "pattern": {
           "shape": ""
          }
         },
         "name": "Turecko",
         "orientation": "v",
         "showlegend": true,
         "type": "histogram",
         "x": [
          "Hlavní město Praha",
          "Jihomoravský kraj",
          "Jihočeský kraj",
          "Karlovarský kraj",
          "Kraj Vysočina",
          "Královéhradecký kraj",
          "Liberecký kraj",
          "Moravskoslezský kraj",
          "Olomoucký kraj",
          "Pardubický kraj",
          "Plzeňský kraj",
          "Středočeský kraj",
          "Zlínský kraj",
          "Ústecký kraj"
         ],
         "xaxis": "x",
         "y": {
          "bdata": "AAAAAACAOUAAAAAAAAAIQM3MzMzMzABAzczMzMzMAEDNzMzMzMz0P83MzMzMzPw/zczMzMzM/D/NzMzMzMwIQAAAAAAAAPA/AAAAAAAA+D8zMzMzMzP7PzMzMzMzMwNAMzMzMzMz8z8AAAAAAAAEQA==",
          "dtype": "f8"
         },
         "yaxis": "y"
        },
        {
         "bingroup": "x",
         "histfunc": "sum",
         "hovertemplate": "obcan_statu=Turkmenistán<br>kraj=%{x}<br>sum of pocet=%{y}<extra></extra>",
         "legendgroup": "Turkmenistán",
         "marker": {
          "color": "#FF6692",
          "pattern": {
           "shape": ""
          }
         },
         "name": "Turkmenistán",
         "orientation": "v",
         "showlegend": true,
         "type": "histogram",
         "x": [
          "Hlavní město Praha",
          "Jihomoravský kraj",
          "Jihočeský kraj",
          "Královéhradecký kraj",
          "Liberecký kraj"
         ],
         "xaxis": "x",
         "y": {
          "bdata": "zczMzMzMBEAAAAAAAADwPzMzMzMzM/M/AAAAAAAA8D8AAAAAAADwPw==",
          "dtype": "f8"
         },
         "yaxis": "y"
        },
        {
         "bingroup": "x",
         "histfunc": "sum",
         "hovertemplate": "obcan_statu=Tádžikistán<br>kraj=%{x}<br>sum of pocet=%{y}<extra></extra>",
         "legendgroup": "Tádžikistán",
         "marker": {
          "color": "#B6E880",
          "pattern": {
           "shape": ""
          }
         },
         "name": "Tádžikistán",
         "orientation": "v",
         "showlegend": true,
         "type": "histogram",
         "x": [
          "Hlavní město Praha",
          "Jihomoravský kraj",
          "Jihočeský kraj",
          "Plzeňský kraj",
          "Středočeský kraj"
         ],
         "xaxis": "x",
         "y": {
          "bdata": "AAAAAAAAEkAAAAAAAAAAQJqZmZmZmfE/AAAAAAAA8D+amZmZmZn5Pw==",
          "dtype": "f8"
         },
         "yaxis": "y"
        },
        {
         "bingroup": "x",
         "histfunc": "sum",
         "hovertemplate": "obcan_statu=Uganda<br>kraj=%{x}<br>sum of pocet=%{y}<extra></extra>",
         "legendgroup": "Uganda",
         "marker": {
          "color": "#FF97FF",
          "pattern": {
           "shape": ""
          }
         },
         "name": "Uganda",
         "orientation": "v",
         "showlegend": true,
         "type": "histogram",
         "x": [
          "Hlavní město Praha",
          "Karlovarský kraj",
          "Plzeňský kraj",
          "Středočeský kraj"
         ],
         "xaxis": "x",
         "y": {
          "bdata": "mpmZmZmZBUAAAAAAAADwPwAAAAAAAPA/AAAAAAAAAEA=",
          "dtype": "f8"
         },
         "yaxis": "y"
        },
        {
         "bingroup": "x",
         "histfunc": "sum",
         "hovertemplate": "obcan_statu=Ukrajina<br>kraj=%{x}<br>sum of pocet=%{y}<extra></extra>",
         "legendgroup": "Ukrajina",
         "marker": {
          "color": "#FECB52",
          "pattern": {
           "shape": ""
          }
         },
         "name": "Ukrajina",
         "orientation": "v",
         "showlegend": true,
         "type": "histogram",
         "x": [
          "Hlavní město Praha",
          "Jihomoravský kraj",
          "Jihočeský kraj",
          "Karlovarský kraj",
          "Kraj Vysočina",
          "Královéhradecký kraj",
          "Liberecký kraj",
          "Moravskoslezský kraj",
          "Olomoucký kraj",
          "Pardubický kraj",
          "Plzeňský kraj",
          "Středočeský kraj",
          "Zlínský kraj",
          "nezjištěno",
          "Ústecký kraj"
         ],
         "xaxis": "x",
         "y": {
          "bdata": "MzMzMzNHm0AAAAAAACBfQGZmZmZm5kZAmpmZmZnZR0CamZmZmdlHQAAAAAAAAEpAzczMzMzsUUCamZmZmRk5QM3MzMzMDEFAmpmZmZkZS0AAAAAAAMBLQGZmZmZmRlNAzczMzMzMO0BmZmZmZmYWQGZmZmZmZk5A",
          "dtype": "f8"
         },
         "yaxis": "y"
        },
        {
         "bingroup": "x",
         "histfunc": "sum",
         "hovertemplate": "obcan_statu=Uruguay<br>kraj=%{x}<br>sum of pocet=%{y}<extra></extra>",
         "legendgroup": "Uruguay",
         "marker": {
          "color": "#636efa",
          "pattern": {
           "shape": ""
          }
         },
         "name": "Uruguay",
         "orientation": "v",
         "showlegend": true,
         "type": "histogram",
         "x": [
          "Hlavní město Praha",
          "Jihomoravský kraj",
          "Plzeňský kraj",
          "Středočeský kraj"
         ],
         "xaxis": "x",
         "y": {
          "bdata": "zczMzMzMAEAAAAAAAADwPwAAAAAAAPA/AAAAAAAA8D8=",
          "dtype": "f8"
         },
         "yaxis": "y"
        },
        {
         "bingroup": "x",
         "histfunc": "sum",
         "hovertemplate": "obcan_statu=Uzbekistán<br>kraj=%{x}<br>sum of pocet=%{y}<extra></extra>",
         "legendgroup": "Uzbekistán",
         "marker": {
          "color": "#EF553B",
          "pattern": {
           "shape": ""
          }
         },
         "name": "Uzbekistán",
         "orientation": "v",
         "showlegend": true,
         "type": "histogram",
         "x": [
          "Hlavní město Praha",
          "Jihomoravský kraj",
          "Jihočeský kraj",
          "Karlovarský kraj",
          "Královéhradecký kraj",
          "Liberecký kraj",
          "Moravskoslezský kraj",
          "Olomoucký kraj",
          "Pardubický kraj",
          "Plzeňský kraj",
          "Středočeský kraj",
          "Zlínský kraj",
          "Ústecký kraj"
         ],
         "xaxis": "x",
         "y": {
          "bdata": "mpmZmZmZKkAzMzMzMzP7PwAAAAAAAPg/MzMzMzMz+z8AAAAAAADwPwAAAAAAAPA/zczMzMzMAECamZmZmZn5P5qZmZmZmfE/mpmZmZmZG0AzMzMzMzP7PwAAAAAAAPA/mpmZmZmZ8T8=",
          "dtype": "f8"
         },
         "yaxis": "y"
        },
        {
         "bingroup": "x",
         "histfunc": "sum",
         "hovertemplate": "obcan_statu=Venezuela<br>kraj=%{x}<br>sum of pocet=%{y}<extra></extra>",
         "legendgroup": "Venezuela",
         "marker": {
          "color": "#00cc96",
          "pattern": {
           "shape": ""
          }
         },
         "name": "Venezuela",
         "orientation": "v",
         "showlegend": true,
         "type": "histogram",
         "x": [
          "Hlavní město Praha",
          "Jihomoravský kraj",
          "Jihočeský kraj",
          "Liberecký kraj",
          "Olomoucký kraj",
          "Pardubický kraj",
          "Plzeňský kraj",
          "Středočeský kraj",
          "Zlínský kraj"
         ],
         "xaxis": "x",
         "y": {
          "bdata": "zczMzMzMDECamZmZmZnxPwAAAAAAAPA/AAAAAAAA8D8zMzMzMzPzPwAAAAAAAPA/AAAAAAAA8D8zMzMzMzPzPwAAAAAAAPA/",
          "dtype": "f8"
         },
         "yaxis": "y"
        },
        {
         "bingroup": "x",
         "histfunc": "sum",
         "hovertemplate": "obcan_statu=Vietnam<br>kraj=%{x}<br>sum of pocet=%{y}<extra></extra>",
         "legendgroup": "Vietnam",
         "marker": {
          "color": "#ab63fa",
          "pattern": {
           "shape": ""
          }
         },
         "name": "Vietnam",
         "orientation": "v",
         "showlegend": true,
         "type": "histogram",
         "x": [
          "Hlavní město Praha",
          "Jihomoravský kraj",
          "Jihočeský kraj",
          "Karlovarský kraj",
          "Kraj Vysočina",
          "Královéhradecký kraj",
          "Liberecký kraj",
          "Moravskoslezský kraj",
          "Olomoucký kraj",
          "Pardubický kraj",
          "Plzeňský kraj",
          "Středočeský kraj",
          "Zlínský kraj",
          "nezjištěno",
          "Ústecký kraj"
         ],
         "xaxis": "x",
         "y": {
          "bdata": "MzMzMzPbc0AAAAAAAMBBQM3MzMzMzDRAMzMzMzNza0DNzMzMzMwmQM3MzMzMzDVAMzMzMzOzO0BmZmZmZuZDQGZmZmZmZi1AZmZmZmZmIkDNzMzMzIxFQAAAAAAAADVAmpmZmZmZKkDNzMzMzMz0P83MzMzMbFJA",
          "dtype": "f8"
         },
         "yaxis": "y"
        },
        {
         "bingroup": "x",
         "histfunc": "sum",
         "hovertemplate": "obcan_statu=Zambie<br>kraj=%{x}<br>sum of pocet=%{y}<extra></extra>",
         "legendgroup": "Zambie",
         "marker": {
          "color": "#FFA15A",
          "pattern": {
           "shape": ""
          }
         },
         "name": "Zambie",
         "orientation": "v",
         "showlegend": true,
         "type": "histogram",
         "x": [
          "Hlavní město Praha",
          "Karlovarský kraj",
          "Liberecký kraj",
          "Pardubický kraj",
          "Plzeňský kraj",
          "Středočeský kraj"
         ],
         "xaxis": "x",
         "y": {
          "bdata": "zczMzMzMCEAAAAAAAADwPwAAAAAAAPA/AAAAAAAA8D8AAAAAAADwP5qZmZmZmfk/",
          "dtype": "f8"
         },
         "yaxis": "y"
        },
        {
         "bingroup": "x",
         "histfunc": "sum",
         "hovertemplate": "obcan_statu=Zimbabwe<br>kraj=%{x}<br>sum of pocet=%{y}<extra></extra>",
         "legendgroup": "Zimbabwe",
         "marker": {
          "color": "#19d3f3",
          "pattern": {
           "shape": ""
          }
         },
         "name": "Zimbabwe",
         "orientation": "v",
         "showlegend": true,
         "type": "histogram",
         "x": [
          "Hlavní město Praha",
          "Liberecký kraj",
          "Moravskoslezský kraj",
          "Olomoucký kraj"
         ],
         "xaxis": "x",
         "y": {
          "bdata": "MzMzMzMzA0CamZmZmZnxPwAAAAAAAPA/AAAAAAAA8D8=",
          "dtype": "f8"
         },
         "yaxis": "y"
        },
        {
         "bingroup": "x",
         "histfunc": "sum",
         "hovertemplate": "obcan_statu=bez státního občanství<br>kraj=%{x}<br>sum of pocet=%{y}<extra></extra>",
         "legendgroup": "bez státního občanství",
         "marker": {
          "color": "#FF6692",
          "pattern": {
           "shape": ""
          }
         },
         "name": "bez státního občanství",
         "orientation": "v",
         "showlegend": true,
         "type": "histogram",
         "x": [
          "Hlavní město Praha",
          "Jihomoravský kraj",
          "Jihočeský kraj",
          "Karlovarský kraj",
          "Kraj Vysočina",
          "Královéhradecký kraj",
          "Liberecký kraj",
          "Moravskoslezský kraj",
          "Olomoucký kraj",
          "Pardubický kraj",
          "Plzeňský kraj",
          "Středočeský kraj",
          "Zlínský kraj",
          "Ústecký kraj"
         ],
         "xaxis": "x",
         "y": {
          "bdata": "mpmZmZmZKUAzMzMzMzP7PzMzMzMzM/M/mpmZmZmZDUAAAAAAAADwP83MzMzMzPw/mpmZmZmZAUAzMzMzMzP7P83MzMzMzPw/MzMzMzMz8z8AAAAAAADwPwAAAAAAAABAzczMzMzM9D8zMzMzMzMDQA==",
          "dtype": "f8"
         },
         "yaxis": "y"
        },
        {
         "bingroup": "x",
         "histfunc": "sum",
         "hovertemplate": "obcan_statu=Ázerbájdžán<br>kraj=%{x}<br>sum of pocet=%{y}<extra></extra>",
         "legendgroup": "Ázerbájdžán",
         "marker": {
          "color": "#B6E880",
          "pattern": {
           "shape": ""
          }
         },
         "name": "Ázerbájdžán",
         "orientation": "v",
         "showlegend": true,
         "type": "histogram",
         "x": [
          "Hlavní město Praha",
          "Jihomoravský kraj",
          "Jihočeský kraj",
          "Karlovarský kraj",
          "Liberecký kraj",
          "Olomoucký kraj",
          "Pardubický kraj",
          "Středočeský kraj",
          "Zlínský kraj",
          "Ústecký kraj"
         ],
         "xaxis": "x",
         "y": {
          "bdata": "ZmZmZmZmFkBmZmZmZmYGQAAAAAAAAPg/zczMzMzMBEAAAAAAAAD4P83MzMzMzARAAAAAAAAA8D+amZmZmZn5PwAAAAAAAPA/mpmZmZmZBUA=",
          "dtype": "f8"
         },
         "yaxis": "y"
        },
        {
         "bingroup": "x",
         "histfunc": "sum",
         "hovertemplate": "obcan_statu=Írán<br>kraj=%{x}<br>sum of pocet=%{y}<extra></extra>",
         "legendgroup": "Írán",
         "marker": {
          "color": "#FF97FF",
          "pattern": {
           "shape": ""
          }
         },
         "name": "Írán",
         "orientation": "v",
         "showlegend": true,
         "type": "histogram",
         "x": [
          "Hlavní město Praha",
          "Jihomoravský kraj",
          "Jihočeský kraj",
          "Karlovarský kraj",
          "Královéhradecký kraj",
          "Liberecký kraj",
          "Moravskoslezský kraj",
          "Olomoucký kraj",
          "Pardubický kraj",
          "Plzeňský kraj",
          "Středočeský kraj",
          "Zlínský kraj",
          "Ústecký kraj"
         ],
         "xaxis": "x",
         "y": {
          "bdata": "mpmZmZmZF0AzMzMzMzP7PzMzMzMzM/M/AAAAAAAAAEAAAAAAAAAAQM3MzMzMzPw/AAAAAAAA8D8AAAAAAADwP83MzMzMzPQ/AAAAAAAAAEBmZmZmZmb2P83MzMzMzPQ/AAAAAAAA8D8=",
          "dtype": "f8"
         },
         "yaxis": "y"
        },
        {
         "bingroup": "x",
         "histfunc": "sum",
         "hovertemplate": "obcan_statu=Čad<br>kraj=%{x}<br>sum of pocet=%{y}<extra></extra>",
         "legendgroup": "Čad",
         "marker": {
          "color": "#FECB52",
          "pattern": {
           "shape": ""
          }
         },
         "name": "Čad",
         "orientation": "v",
         "showlegend": true,
         "type": "histogram",
         "x": [
          "Hlavní město Praha",
          "Královéhradecký kraj",
          "Středočeský kraj"
         ],
         "xaxis": "x",
         "y": {
          "bdata": "AAAAAAAA8D8AAAAAAADwPzMzMzMzM/M/",
          "dtype": "f8"
         },
         "yaxis": "y"
        },
        {
         "bingroup": "x",
         "histfunc": "sum",
         "hovertemplate": "obcan_statu=Čína<br>kraj=%{x}<br>sum of pocet=%{y}<extra></extra>",
         "legendgroup": "Čína",
         "marker": {
          "color": "#636efa",
          "pattern": {
           "shape": ""
          }
         },
         "name": "Čína",
         "orientation": "v",
         "showlegend": true,
         "type": "histogram",
         "x": [
          "Hlavní město Praha",
          "Jihomoravský kraj",
          "Jihočeský kraj",
          "Karlovarský kraj",
          "Kraj Vysočina",
          "Královéhradecký kraj",
          "Liberecký kraj",
          "Moravskoslezský kraj",
          "Olomoucký kraj",
          "Pardubický kraj",
          "Plzeňský kraj",
          "Středočeský kraj",
          "Zlínský kraj",
          "nezjištěno",
          "Ústecký kraj"
         ],
         "xaxis": "x",
         "y": {
          "bdata": "zczMzMycZkBmZmZmZmYQQJqZmZmZmQFAmpmZmZmZBUCamZmZmZkFQM3MzMzMzABAZmZmZmZmBkBmZmZmZmYcQJqZmZmZmQVAzczMzMzMEEAAAAAAAAAEQGZmZmZmZhRAAAAAAAAAAEAAAAAAAAD4P5qZmZmZmQ1A",
          "dtype": "f8"
         },
         "yaxis": "y"
        },
        {
         "bingroup": "x",
         "histfunc": "sum",
         "hovertemplate": "obcan_statu=Řecko<br>kraj=%{x}<br>sum of pocet=%{y}<extra></extra>",
         "legendgroup": "Řecko",
         "marker": {
          "color": "#EF553B",
          "pattern": {
           "shape": ""
          }
         },
         "name": "Řecko",
         "orientation": "v",
         "showlegend": true,
         "type": "histogram",
         "x": [
          "Hlavní město Praha",
          "Jihomoravský kraj",
          "Jihočeský kraj",
          "Karlovarský kraj",
          "Kraj Vysočina",
          "Královéhradecký kraj",
          "Liberecký kraj",
          "Moravskoslezský kraj",
          "Olomoucký kraj",
          "Pardubický kraj",
          "Plzeňský kraj",
          "Středočeský kraj",
          "Zlínský kraj",
          "Ústecký kraj"
         ],
         "xaxis": "x",
         "y": {
          "bdata": "ZmZmZmZmLEDNzMzMzMwUQAAAAAAAAPA/zczMzMzM9D9mZmZmZmb2P2ZmZmZmZv4/AAAAAAAABEAAAAAAAAAWQM3MzMzMzAxAmpmZmZmZ+T/NzMzMzMz0P83MzMzMzPw/mpmZmZmZAUDNzMzMzMz0Pw==",
          "dtype": "f8"
         },
         "yaxis": "y"
        },
        {
         "bingroup": "x",
         "histfunc": "sum",
         "hovertemplate": "obcan_statu=Španělsko<br>kraj=%{x}<br>sum of pocet=%{y}<extra></extra>",
         "legendgroup": "Španělsko",
         "marker": {
          "color": "#00cc96",
          "pattern": {
           "shape": ""
          }
         },
         "name": "Španělsko",
         "orientation": "v",
         "showlegend": true,
         "type": "histogram",
         "x": [
          "Hlavní město Praha",
          "Jihomoravský kraj",
          "Jihočeský kraj",
          "Karlovarský kraj",
          "Kraj Vysočina",
          "Královéhradecký kraj",
          "Liberecký kraj",
          "Moravskoslezský kraj",
          "Olomoucký kraj",
          "Pardubický kraj",
          "Plzeňský kraj",
          "Středočeský kraj",
          "Zlínský kraj",
          "nezjištěno",
          "Ústecký kraj"
         ],
         "xaxis": "x",
         "y": {
          "bdata": "AAAAAAAAJkAAAAAAAAAEQDMzMzMzM/M/AAAAAAAA8D8AAAAAAAD4P5qZmZmZmfE/zczMzMzM9D/NzMzMzMz0P5qZmZmZmQFAzczMzMzM9D+amZmZmZnxPwAAAAAAAPg/mpmZmZmZ+T8AAAAAAADwPwAAAAAAAAhA",
          "dtype": "f8"
         },
         "yaxis": "y"
        },
        {
         "bingroup": "x",
         "histfunc": "sum",
         "hovertemplate": "obcan_statu=Švédsko<br>kraj=%{x}<br>sum of pocet=%{y}<extra></extra>",
         "legendgroup": "Švédsko",
         "marker": {
          "color": "#ab63fa",
          "pattern": {
           "shape": ""
          }
         },
         "name": "Švédsko",
         "orientation": "v",
         "showlegend": true,
         "type": "histogram",
         "x": [
          "Hlavní město Praha",
          "Jihomoravský kraj",
          "Jihočeský kraj",
          "Karlovarský kraj",
          "Kraj Vysočina",
          "Královéhradecký kraj",
          "Liberecký kraj",
          "Moravskoslezský kraj",
          "Olomoucký kraj",
          "Pardubický kraj",
          "Plzeňský kraj",
          "Středočeský kraj",
          "Zlínský kraj",
          "Ústecký kraj"
         ],
         "xaxis": "x",
         "y": {
          "bdata": "ZmZmZmZmLEBmZmZmZmYCQDMzMzMzM/M/MzMzMzMz+z+amZmZmZnxP83MzMzMzPQ/mpmZmZmZ8T8AAAAAAAAAQAAAAAAAAPA/AAAAAAAA+D9mZmZmZmb2P2ZmZmZmZv4/AAAAAAAA8D9mZmZmZmb2Pw==",
          "dtype": "f8"
         },
         "yaxis": "y"
        },
        {
         "bingroup": "x",
         "histfunc": "sum",
         "hovertemplate": "obcan_statu=Švýcarsko<br>kraj=%{x}<br>sum of pocet=%{y}<extra></extra>",
         "legendgroup": "Švýcarsko",
         "marker": {
          "color": "#FFA15A",
          "pattern": {
           "shape": ""
          }
         },
         "name": "Švýcarsko",
         "orientation": "v",
         "showlegend": true,
         "type": "histogram",
         "x": [
          "Hlavní město Praha",
          "Jihomoravský kraj",
          "Jihočeský kraj",
          "Karlovarský kraj",
          "Kraj Vysočina",
          "Královéhradecký kraj",
          "Liberecký kraj",
          "Moravskoslezský kraj",
          "Olomoucký kraj",
          "Pardubický kraj",
          "Plzeňský kraj",
          "Středočeský kraj",
          "Zlínský kraj",
          "Ústecký kraj"
         ],
         "xaxis": "x",
         "y": {
          "bdata": "MzMzMzMzJUDNzMzMzMwAQJqZmZmZmfk/AAAAAAAABEDNzMzMzMz0PwAAAAAAAPg/ZmZmZmZm/j+amZmZmZn5PzMzMzMzM/M/AAAAAAAA+D8AAAAAAAD4P83MzMzMzPw/AAAAAAAA+D8zMzMzMzPzPw==",
          "dtype": "f8"
         },
         "yaxis": "y"
        },
        {
         "bingroup": "x",
         "histfunc": "sum",
         "hovertemplate": "obcan_statu=Mauritánie<br>kraj=%{x}<br>sum of pocet=%{y}<extra></extra>",
         "legendgroup": "Mauritánie",
         "marker": {
          "color": "#19d3f3",
          "pattern": {
           "shape": ""
          }
         },
         "name": "Mauritánie",
         "orientation": "v",
         "showlegend": true,
         "type": "histogram",
         "x": [
          "Jihomoravský kraj",
          "Královéhradecký kraj",
          "Plzeňský kraj"
         ],
         "xaxis": "x",
         "y": {
          "bdata": "AAAAAAAA8D8AAAAAAADwPwAAAAAAAPA/",
          "dtype": "f8"
         },
         "yaxis": "y"
        },
        {
         "bingroup": "x",
         "histfunc": "sum",
         "hovertemplate": "obcan_statu=Niger<br>kraj=%{x}<br>sum of pocet=%{y}<extra></extra>",
         "legendgroup": "Niger",
         "marker": {
          "color": "#FF6692",
          "pattern": {
           "shape": ""
          }
         },
         "name": "Niger",
         "orientation": "v",
         "showlegend": true,
         "type": "histogram",
         "x": [
          "Jihomoravský kraj",
          "Ústecký kraj"
         ],
         "xaxis": "x",
         "y": {
          "bdata": "AAAAAAAA8D8AAAAAAADwPw==",
          "dtype": "f8"
         },
         "yaxis": "y"
        },
        {
         "bingroup": "x",
         "histfunc": "sum",
         "hovertemplate": "obcan_statu=Rwanda<br>kraj=%{x}<br>sum of pocet=%{y}<extra></extra>",
         "legendgroup": "Rwanda",
         "marker": {
          "color": "#B6E880",
          "pattern": {
           "shape": ""
          }
         },
         "name": "Rwanda",
         "orientation": "v",
         "showlegend": true,
         "type": "histogram",
         "x": [
          "Jihomoravský kraj"
         ],
         "xaxis": "x",
         "y": {
          "bdata": "AAAAAAAA8D8=",
          "dtype": "f8"
         },
         "yaxis": "y"
        },
        {
         "bingroup": "x",
         "histfunc": "sum",
         "hovertemplate": "obcan_statu=Burundi<br>kraj=%{x}<br>sum of pocet=%{y}<extra></extra>",
         "legendgroup": "Burundi",
         "marker": {
          "color": "#FF97FF",
          "pattern": {
           "shape": ""
          }
         },
         "name": "Burundi",
         "orientation": "v",
         "showlegend": true,
         "type": "histogram",
         "x": [
          "Královéhradecký kraj"
         ],
         "xaxis": "x",
         "y": {
          "bdata": "AAAAAAAA8D8=",
          "dtype": "f8"
         },
         "yaxis": "y"
        },
        {
         "bingroup": "x",
         "histfunc": "sum",
         "hovertemplate": "obcan_statu=Spojené arabské emiráty<br>kraj=%{x}<br>sum of pocet=%{y}<extra></extra>",
         "legendgroup": "Spojené arabské emiráty",
         "marker": {
          "color": "#FECB52",
          "pattern": {
           "shape": ""
          }
         },
         "name": "Spojené arabské emiráty",
         "orientation": "v",
         "showlegend": true,
         "type": "histogram",
         "x": [
          "Královéhradecký kraj",
          "Olomoucký kraj",
          "Ústecký kraj"
         ],
         "xaxis": "x",
         "y": {
          "bdata": "AAAAAAAA8D8AAAAAAADwP5qZmZmZmfk/",
          "dtype": "f8"
         },
         "yaxis": "y"
        },
        {
         "bingroup": "x",
         "histfunc": "sum",
         "hovertemplate": "obcan_statu=Lichtenštejnsko<br>kraj=%{x}<br>sum of pocet=%{y}<extra></extra>",
         "legendgroup": "Lichtenštejnsko",
         "marker": {
          "color": "#636efa",
          "pattern": {
           "shape": ""
          }
         },
         "name": "Lichtenštejnsko",
         "orientation": "v",
         "showlegend": true,
         "type": "histogram",
         "x": [
          "Liberecký kraj"
         ],
         "xaxis": "x",
         "y": {
          "bdata": "AAAAAAAA8D8=",
          "dtype": "f8"
         },
         "yaxis": "y"
        },
        {
         "bingroup": "x",
         "histfunc": "sum",
         "hovertemplate": "obcan_statu=Somálsko<br>kraj=%{x}<br>sum of pocet=%{y}<extra></extra>",
         "legendgroup": "Somálsko",
         "marker": {
          "color": "#EF553B",
          "pattern": {
           "shape": ""
          }
         },
         "name": "Somálsko",
         "orientation": "v",
         "showlegend": true,
         "type": "histogram",
         "x": [
          "Liberecký kraj"
         ],
         "xaxis": "x",
         "y": {
          "bdata": "AAAAAAAA8D8=",
          "dtype": "f8"
         },
         "yaxis": "y"
        },
        {
         "bingroup": "x",
         "histfunc": "sum",
         "hovertemplate": "obcan_statu=San Marino<br>kraj=%{x}<br>sum of pocet=%{y}<extra></extra>",
         "legendgroup": "San Marino",
         "marker": {
          "color": "#00cc96",
          "pattern": {
           "shape": ""
          }
         },
         "name": "San Marino",
         "orientation": "v",
         "showlegend": true,
         "type": "histogram",
         "x": [
          "Moravskoslezský kraj"
         ],
         "xaxis": "x",
         "y": {
          "bdata": "AAAAAAAA8D8=",
          "dtype": "f8"
         },
         "yaxis": "y"
        },
        {
         "bingroup": "x",
         "histfunc": "sum",
         "hovertemplate": "obcan_statu=Surinam<br>kraj=%{x}<br>sum of pocet=%{y}<extra></extra>",
         "legendgroup": "Surinam",
         "marker": {
          "color": "#ab63fa",
          "pattern": {
           "shape": ""
          }
         },
         "name": "Surinam",
         "orientation": "v",
         "showlegend": true,
         "type": "histogram",
         "x": [
          "Olomoucký kraj"
         ],
         "xaxis": "x",
         "y": {
          "bdata": "AAAAAAAA8D8=",
          "dtype": "f8"
         },
         "yaxis": "y"
        },
        {
         "bingroup": "x",
         "histfunc": "sum",
         "hovertemplate": "obcan_statu=Fidži<br>kraj=%{x}<br>sum of pocet=%{y}<extra></extra>",
         "legendgroup": "Fidži",
         "marker": {
          "color": "#FFA15A",
          "pattern": {
           "shape": ""
          }
         },
         "name": "Fidži",
         "orientation": "v",
         "showlegend": true,
         "type": "histogram",
         "x": [
          "Středočeský kraj"
         ],
         "xaxis": "x",
         "y": {
          "bdata": "AAAAAAAA8D8=",
          "dtype": "f8"
         },
         "yaxis": "y"
        },
        {
         "bingroup": "x",
         "histfunc": "sum",
         "hovertemplate": "obcan_statu=Džibutsko<br>kraj=%{x}<br>sum of pocet=%{y}<extra></extra>",
         "legendgroup": "Džibutsko",
         "marker": {
          "color": "#19d3f3",
          "pattern": {
           "shape": ""
          }
         },
         "name": "Džibutsko",
         "orientation": "v",
         "showlegend": true,
         "type": "histogram",
         "x": [
          "Ústecký kraj"
         ],
         "xaxis": "x",
         "y": {
          "bdata": "AAAAAAAA8D8=",
          "dtype": "f8"
         },
         "yaxis": "y"
        }
       ],
       "layout": {
        "barmode": "group",
        "legend": {
         "title": {
          "text": "obcan_statu"
         },
         "tracegroupgap": 0
        },
        "margin": {
         "t": 60
        },
        "template": {
         "data": {
          "bar": [
           {
            "error_x": {
             "color": "#2a3f5f"
            },
            "error_y": {
             "color": "#2a3f5f"
            },
            "marker": {
             "line": {
              "color": "#E5ECF6",
              "width": 0.5
             },
             "pattern": {
              "fillmode": "overlay",
              "size": 10,
              "solidity": 0.2
             }
            },
            "type": "bar"
           }
          ],
          "barpolar": [
           {
            "marker": {
             "line": {
              "color": "#E5ECF6",
              "width": 0.5
             },
             "pattern": {
              "fillmode": "overlay",
              "size": 10,
              "solidity": 0.2
             }
            },
            "type": "barpolar"
           }
          ],
          "carpet": [
           {
            "aaxis": {
             "endlinecolor": "#2a3f5f",
             "gridcolor": "white",
             "linecolor": "white",
             "minorgridcolor": "white",
             "startlinecolor": "#2a3f5f"
            },
            "baxis": {
             "endlinecolor": "#2a3f5f",
             "gridcolor": "white",
             "linecolor": "white",
             "minorgridcolor": "white",
             "startlinecolor": "#2a3f5f"
            },
            "type": "carpet"
           }
          ],
          "choropleth": [
           {
            "colorbar": {
             "outlinewidth": 0,
             "ticks": ""
            },
            "type": "choropleth"
           }
          ],
          "contour": [
           {
            "colorbar": {
             "outlinewidth": 0,
             "ticks": ""
            },
            "colorscale": [
             [
              0,
              "#0d0887"
             ],
             [
              0.1111111111111111,
              "#46039f"
             ],
             [
              0.2222222222222222,
              "#7201a8"
             ],
             [
              0.3333333333333333,
              "#9c179e"
             ],
             [
              0.4444444444444444,
              "#bd3786"
             ],
             [
              0.5555555555555556,
              "#d8576b"
             ],
             [
              0.6666666666666666,
              "#ed7953"
             ],
             [
              0.7777777777777778,
              "#fb9f3a"
             ],
             [
              0.8888888888888888,
              "#fdca26"
             ],
             [
              1,
              "#f0f921"
             ]
            ],
            "type": "contour"
           }
          ],
          "contourcarpet": [
           {
            "colorbar": {
             "outlinewidth": 0,
             "ticks": ""
            },
            "type": "contourcarpet"
           }
          ],
          "heatmap": [
           {
            "colorbar": {
             "outlinewidth": 0,
             "ticks": ""
            },
            "colorscale": [
             [
              0,
              "#0d0887"
             ],
             [
              0.1111111111111111,
              "#46039f"
             ],
             [
              0.2222222222222222,
              "#7201a8"
             ],
             [
              0.3333333333333333,
              "#9c179e"
             ],
             [
              0.4444444444444444,
              "#bd3786"
             ],
             [
              0.5555555555555556,
              "#d8576b"
             ],
             [
              0.6666666666666666,
              "#ed7953"
             ],
             [
              0.7777777777777778,
              "#fb9f3a"
             ],
             [
              0.8888888888888888,
              "#fdca26"
             ],
             [
              1,
              "#f0f921"
             ]
            ],
            "type": "heatmap"
           }
          ],
          "histogram": [
           {
            "marker": {
             "pattern": {
              "fillmode": "overlay",
              "size": 10,
              "solidity": 0.2
             }
            },
            "type": "histogram"
           }
          ],
          "histogram2d": [
           {
            "colorbar": {
             "outlinewidth": 0,
             "ticks": ""
            },
            "colorscale": [
             [
              0,
              "#0d0887"
             ],
             [
              0.1111111111111111,
              "#46039f"
             ],
             [
              0.2222222222222222,
              "#7201a8"
             ],
             [
              0.3333333333333333,
              "#9c179e"
             ],
             [
              0.4444444444444444,
              "#bd3786"
             ],
             [
              0.5555555555555556,
              "#d8576b"
             ],
             [
              0.6666666666666666,
              "#ed7953"
             ],
             [
              0.7777777777777778,
              "#fb9f3a"
             ],
             [
              0.8888888888888888,
              "#fdca26"
             ],
             [
              1,
              "#f0f921"
             ]
            ],
            "type": "histogram2d"
           }
          ],
          "histogram2dcontour": [
           {
            "colorbar": {
             "outlinewidth": 0,
             "ticks": ""
            },
            "colorscale": [
             [
              0,
              "#0d0887"
             ],
             [
              0.1111111111111111,
              "#46039f"
             ],
             [
              0.2222222222222222,
              "#7201a8"
             ],
             [
              0.3333333333333333,
              "#9c179e"
             ],
             [
              0.4444444444444444,
              "#bd3786"
             ],
             [
              0.5555555555555556,
              "#d8576b"
             ],
             [
              0.6666666666666666,
              "#ed7953"
             ],
             [
              0.7777777777777778,
              "#fb9f3a"
             ],
             [
              0.8888888888888888,
              "#fdca26"
             ],
             [
              1,
              "#f0f921"
             ]
            ],
            "type": "histogram2dcontour"
           }
          ],
          "mesh3d": [
           {
            "colorbar": {
             "outlinewidth": 0,
             "ticks": ""
            },
            "type": "mesh3d"
           }
          ],
          "parcoords": [
           {
            "line": {
             "colorbar": {
              "outlinewidth": 0,
              "ticks": ""
             }
            },
            "type": "parcoords"
           }
          ],
          "pie": [
           {
            "automargin": true,
            "type": "pie"
           }
          ],
          "scatter": [
           {
            "fillpattern": {
             "fillmode": "overlay",
             "size": 10,
             "solidity": 0.2
            },
            "type": "scatter"
           }
          ],
          "scatter3d": [
           {
            "line": {
             "colorbar": {
              "outlinewidth": 0,
              "ticks": ""
             }
            },
            "marker": {
             "colorbar": {
              "outlinewidth": 0,
              "ticks": ""
             }
            },
            "type": "scatter3d"
           }
          ],
          "scattercarpet": [
           {
            "marker": {
             "colorbar": {
              "outlinewidth": 0,
              "ticks": ""
             }
            },
            "type": "scattercarpet"
           }
          ],
          "scattergeo": [
           {
            "marker": {
             "colorbar": {
              "outlinewidth": 0,
              "ticks": ""
             }
            },
            "type": "scattergeo"
           }
          ],
          "scattergl": [
           {
            "marker": {
             "colorbar": {
              "outlinewidth": 0,
              "ticks": ""
             }
            },
            "type": "scattergl"
           }
          ],
          "scattermap": [
           {
            "marker": {
             "colorbar": {
              "outlinewidth": 0,
              "ticks": ""
             }
            },
            "type": "scattermap"
           }
          ],
          "scattermapbox": [
           {
            "marker": {
             "colorbar": {
              "outlinewidth": 0,
              "ticks": ""
             }
            },
            "type": "scattermapbox"
           }
          ],
          "scatterpolar": [
           {
            "marker": {
             "colorbar": {
              "outlinewidth": 0,
              "ticks": ""
             }
            },
            "type": "scatterpolar"
           }
          ],
          "scatterpolargl": [
           {
            "marker": {
             "colorbar": {
              "outlinewidth": 0,
              "ticks": ""
             }
            },
            "type": "scatterpolargl"
           }
          ],
          "scatterternary": [
           {
            "marker": {
             "colorbar": {
              "outlinewidth": 0,
              "ticks": ""
             }
            },
            "type": "scatterternary"
           }
          ],
          "surface": [
           {
            "colorbar": {
             "outlinewidth": 0,
             "ticks": ""
            },
            "colorscale": [
             [
              0,
              "#0d0887"
             ],
             [
              0.1111111111111111,
              "#46039f"
             ],
             [
              0.2222222222222222,
              "#7201a8"
             ],
             [
              0.3333333333333333,
              "#9c179e"
             ],
             [
              0.4444444444444444,
              "#bd3786"
             ],
             [
              0.5555555555555556,
              "#d8576b"
             ],
             [
              0.6666666666666666,
              "#ed7953"
             ],
             [
              0.7777777777777778,
              "#fb9f3a"
             ],
             [
              0.8888888888888888,
              "#fdca26"
             ],
             [
              1,
              "#f0f921"
             ]
            ],
            "type": "surface"
           }
          ],
          "table": [
           {
            "cells": {
             "fill": {
              "color": "#EBF0F8"
             },
             "line": {
              "color": "white"
             }
            },
            "header": {
             "fill": {
              "color": "#C8D4E3"
             },
             "line": {
              "color": "white"
             }
            },
            "type": "table"
           }
          ]
         },
         "layout": {
          "annotationdefaults": {
           "arrowcolor": "#2a3f5f",
           "arrowhead": 0,
           "arrowwidth": 1
          },
          "autotypenumbers": "strict",
          "coloraxis": {
           "colorbar": {
            "outlinewidth": 0,
            "ticks": ""
           }
          },
          "colorscale": {
           "diverging": [
            [
             0,
             "#8e0152"
            ],
            [
             0.1,
             "#c51b7d"
            ],
            [
             0.2,
             "#de77ae"
            ],
            [
             0.3,
             "#f1b6da"
            ],
            [
             0.4,
             "#fde0ef"
            ],
            [
             0.5,
             "#f7f7f7"
            ],
            [
             0.6,
             "#e6f5d0"
            ],
            [
             0.7,
             "#b8e186"
            ],
            [
             0.8,
             "#7fbc41"
            ],
            [
             0.9,
             "#4d9221"
            ],
            [
             1,
             "#276419"
            ]
           ],
           "sequential": [
            [
             0,
             "#0d0887"
            ],
            [
             0.1111111111111111,
             "#46039f"
            ],
            [
             0.2222222222222222,
             "#7201a8"
            ],
            [
             0.3333333333333333,
             "#9c179e"
            ],
            [
             0.4444444444444444,
             "#bd3786"
            ],
            [
             0.5555555555555556,
             "#d8576b"
            ],
            [
             0.6666666666666666,
             "#ed7953"
            ],
            [
             0.7777777777777778,
             "#fb9f3a"
            ],
            [
             0.8888888888888888,
             "#fdca26"
            ],
            [
             1,
             "#f0f921"
            ]
           ],
           "sequentialminus": [
            [
             0,
             "#0d0887"
            ],
            [
             0.1111111111111111,
             "#46039f"
            ],
            [
             0.2222222222222222,
             "#7201a8"
            ],
            [
             0.3333333333333333,
             "#9c179e"
            ],
            [
             0.4444444444444444,
             "#bd3786"
            ],
            [
             0.5555555555555556,
             "#d8576b"
            ],
            [
             0.6666666666666666,
             "#ed7953"
            ],
            [
             0.7777777777777778,
             "#fb9f3a"
            ],
            [
             0.8888888888888888,
             "#fdca26"
            ],
            [
             1,
             "#f0f921"
            ]
           ]
          },
          "colorway": [
           "#636efa",
           "#EF553B",
           "#00cc96",
           "#ab63fa",
           "#FFA15A",
           "#19d3f3",
           "#FF6692",
           "#B6E880",
           "#FF97FF",
           "#FECB52"
          ],
          "font": {
           "color": "#2a3f5f"
          },
          "geo": {
           "bgcolor": "white",
           "lakecolor": "white",
           "landcolor": "#E5ECF6",
           "showlakes": true,
           "showland": true,
           "subunitcolor": "white"
          },
          "hoverlabel": {
           "align": "left"
          },
          "hovermode": "closest",
          "mapbox": {
           "style": "light"
          },
          "paper_bgcolor": "white",
          "plot_bgcolor": "#E5ECF6",
          "polar": {
           "angularaxis": {
            "gridcolor": "white",
            "linecolor": "white",
            "ticks": ""
           },
           "bgcolor": "#E5ECF6",
           "radialaxis": {
            "gridcolor": "white",
            "linecolor": "white",
            "ticks": ""
           }
          },
          "scene": {
           "xaxis": {
            "backgroundcolor": "#E5ECF6",
            "gridcolor": "white",
            "gridwidth": 2,
            "linecolor": "white",
            "showbackground": true,
            "ticks": "",
            "zerolinecolor": "white"
           },
           "yaxis": {
            "backgroundcolor": "#E5ECF6",
            "gridcolor": "white",
            "gridwidth": 2,
            "linecolor": "white",
            "showbackground": true,
            "ticks": "",
            "zerolinecolor": "white"
           },
           "zaxis": {
            "backgroundcolor": "#E5ECF6",
            "gridcolor": "white",
            "gridwidth": 2,
            "linecolor": "white",
            "showbackground": true,
            "ticks": "",
            "zerolinecolor": "white"
           }
          },
          "shapedefaults": {
           "line": {
            "color": "#2a3f5f"
           }
          },
          "ternary": {
           "aaxis": {
            "gridcolor": "white",
            "linecolor": "white",
            "ticks": ""
           },
           "baxis": {
            "gridcolor": "white",
            "linecolor": "white",
            "ticks": ""
           },
           "bgcolor": "#E5ECF6",
           "caxis": {
            "gridcolor": "white",
            "linecolor": "white",
            "ticks": ""
           }
          },
          "title": {
           "x": 0.05
          },
          "xaxis": {
           "automargin": true,
           "gridcolor": "white",
           "linecolor": "white",
           "ticks": "",
           "title": {
            "standoff": 15
           },
           "zerolinecolor": "white",
           "zerolinewidth": 2
          },
          "yaxis": {
           "automargin": true,
           "gridcolor": "white",
           "linecolor": "white",
           "ticks": "",
           "title": {
            "standoff": 15
           },
           "zerolinecolor": "white",
           "zerolinewidth": 2
          }
         }
        },
        "xaxis": {
         "anchor": "y",
         "domain": [
          0,
          1
         ],
         "title": {
          "text": "kraj"
         }
        },
        "yaxis": {
         "anchor": "x",
         "domain": [
          0,
          1
         ],
         "title": {
          "text": "sum of pocet"
         }
        }
       }
      }
     },
     "metadata": {},
     "output_type": "display_data"
    }
   ],
   "source": [
    "final_2004_all_v2 = px.histogram(\n",
    "    data_final,\n",
    "    x='kraj',\n",
    "    y='pocet',\n",
    "    color='obcan_statu',  # rozlišení barvou podle národnosti\n",
    "    hover_data=['obcan_statu', 'pocet'],  # co má být vidět při najetí\n",
    ")\n",
    "\n",
    "final_2004_all_v2.update_layout(barmode='group')  # nebo 'group' pro vedle sebe\n",
    "final_2004_all_v2.show()"
   ]
  },
  {
   "cell_type": "code",
   "execution_count": null,
   "id": "f21353e3",
   "metadata": {},
   "outputs": [],
   "source": []
  }
 ],
 "metadata": {
  "kernelspec": {
   "display_name": "Python 3",
   "language": "python",
   "name": "python3"
  },
  "language_info": {
   "codemirror_mode": {
    "name": "ipython",
    "version": 3
   },
   "file_extension": ".py",
   "mimetype": "text/x-python",
   "name": "python",
   "nbconvert_exporter": "python",
   "pygments_lexer": "ipython3",
   "version": "3.12.3"
  }
 },
 "nbformat": 4,
 "nbformat_minor": 5
}
