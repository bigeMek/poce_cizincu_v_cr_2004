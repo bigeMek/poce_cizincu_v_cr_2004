{
 "cells": [
  {
   "cell_type": "code",
   "execution_count": 1,
   "id": "aa5ce258",
   "metadata": {},
   "outputs": [],
   "source": [
    "import pandas as pd"
   ]
  },
  {
   "cell_type": "code",
   "execution_count": 7,
   "id": "f776816c",
   "metadata": {},
   "outputs": [],
   "source": [
    "file = (r\"C:\\Users\\nitram\\Downloads\\CIZ01_2004.csv\")"
   ]
  },
  {
   "cell_type": "code",
   "execution_count": 8,
   "id": "784af72d",
   "metadata": {},
   "outputs": [],
   "source": [
    "data = pd.read_csv(file)"
   ]
  },
  {
   "cell_type": "code",
   "execution_count": null,
   "id": "d0dce730",
   "metadata": {},
   "outputs": [
    {
     "data": {
      "text/html": [
       "<div>\n",
       "<style scoped>\n",
       "    .dataframe tbody tr th:only-of-type {\n",
       "        vertical-align: middle;\n",
       "    }\n",
       "\n",
       "    .dataframe tbody tr th {\n",
       "        vertical-align: top;\n",
       "    }\n",
       "\n",
       "    .dataframe thead th {\n",
       "        text-align: right;\n",
       "    }\n",
       "</style>\n",
       "<table border=\"1\" class=\"dataframe\">\n",
       "  <thead>\n",
       "    <tr style=\"text-align: right;\">\n",
       "      <th></th>\n",
       "      <th>idhod</th>\n",
       "      <th>hodnota</th>\n",
       "      <th>stapro_kod</th>\n",
       "      <th>pohlavi_cis</th>\n",
       "      <th>pohlavi_kod</th>\n",
       "      <th>stobcan_cis</th>\n",
       "      <th>stobcan_kod</th>\n",
       "      <th>vek_cis</th>\n",
       "      <th>vek_kod</th>\n",
       "      <th>rok</th>\n",
       "      <th>vuzemi_cis</th>\n",
       "      <th>vuzemi_kod</th>\n",
       "      <th>kraj_cis</th>\n",
       "      <th>kraj_kod</th>\n",
       "      <th>vuzemi_txt</th>\n",
       "      <th>kraj_txt</th>\n",
       "      <th>pohlavi_txt</th>\n",
       "      <th>stobcan_txt</th>\n",
       "      <th>vek_txt</th>\n",
       "    </tr>\n",
       "  </thead>\n",
       "  <tbody>\n",
       "    <tr>\n",
       "      <th>0</th>\n",
       "      <td>783267904</td>\n",
       "      <td>78263</td>\n",
       "      <td>6121</td>\n",
       "      <td>NaN</td>\n",
       "      <td>NaN</td>\n",
       "      <td>3228.0</td>\n",
       "      <td>804.0</td>\n",
       "      <td>NaN</td>\n",
       "      <td>NaN</td>\n",
       "      <td>2004</td>\n",
       "      <td>97</td>\n",
       "      <td>19</td>\n",
       "      <td>NaN</td>\n",
       "      <td>NaN</td>\n",
       "      <td>Česká republika</td>\n",
       "      <td>NaN</td>\n",
       "      <td>NaN</td>\n",
       "      <td>Ukrajina</td>\n",
       "      <td>NaN</td>\n",
       "    </tr>\n",
       "    <tr>\n",
       "      <th>1</th>\n",
       "      <td>783257796</td>\n",
       "      <td>159</td>\n",
       "      <td>6121</td>\n",
       "      <td>NaN</td>\n",
       "      <td>NaN</td>\n",
       "      <td>3228.0</td>\n",
       "      <td>804.0</td>\n",
       "      <td>NaN</td>\n",
       "      <td>NaN</td>\n",
       "      <td>2004</td>\n",
       "      <td>101</td>\n",
       "      <td>40886</td>\n",
       "      <td>100.0</td>\n",
       "      <td>3140.0</td>\n",
       "      <td>Karviná</td>\n",
       "      <td>Moravskoslezský kraj</td>\n",
       "      <td>NaN</td>\n",
       "      <td>Ukrajina</td>\n",
       "      <td>NaN</td>\n",
       "    </tr>\n",
       "    <tr>\n",
       "      <th>2</th>\n",
       "      <td>783205432</td>\n",
       "      <td>260</td>\n",
       "      <td>6121</td>\n",
       "      <td>NaN</td>\n",
       "      <td>NaN</td>\n",
       "      <td>3228.0</td>\n",
       "      <td>804.0</td>\n",
       "      <td>NaN</td>\n",
       "      <td>NaN</td>\n",
       "      <td>2004</td>\n",
       "      <td>101</td>\n",
       "      <td>40347</td>\n",
       "      <td>100.0</td>\n",
       "      <td>3034.0</td>\n",
       "      <td>Tábor</td>\n",
       "      <td>Jihočeský kraj</td>\n",
       "      <td>NaN</td>\n",
       "      <td>Ukrajina</td>\n",
       "      <td>NaN</td>\n",
       "    </tr>\n",
       "    <tr>\n",
       "      <th>3</th>\n",
       "      <td>783234179</td>\n",
       "      <td>377</td>\n",
       "      <td>6121</td>\n",
       "      <td>NaN</td>\n",
       "      <td>NaN</td>\n",
       "      <td>3228.0</td>\n",
       "      <td>804.0</td>\n",
       "      <td>NaN</td>\n",
       "      <td>NaN</td>\n",
       "      <td>2004</td>\n",
       "      <td>101</td>\n",
       "      <td>40631</td>\n",
       "      <td>100.0</td>\n",
       "      <td>3093.0</td>\n",
       "      <td>Svitavy</td>\n",
       "      <td>Pardubický kraj</td>\n",
       "      <td>NaN</td>\n",
       "      <td>Ukrajina</td>\n",
       "      <td>NaN</td>\n",
       "    </tr>\n",
       "    <tr>\n",
       "      <th>4</th>\n",
       "      <td>783203437</td>\n",
       "      <td>338</td>\n",
       "      <td>6121</td>\n",
       "      <td>NaN</td>\n",
       "      <td>NaN</td>\n",
       "      <td>3228.0</td>\n",
       "      <td>804.0</td>\n",
       "      <td>NaN</td>\n",
       "      <td>NaN</td>\n",
       "      <td>2004</td>\n",
       "      <td>101</td>\n",
       "      <td>40312</td>\n",
       "      <td>100.0</td>\n",
       "      <td>3034.0</td>\n",
       "      <td>Písek</td>\n",
       "      <td>Jihočeský kraj</td>\n",
       "      <td>NaN</td>\n",
       "      <td>Ukrajina</td>\n",
       "      <td>NaN</td>\n",
       "    </tr>\n",
       "    <tr>\n",
       "      <th>...</th>\n",
       "      <td>...</td>\n",
       "      <td>...</td>\n",
       "      <td>...</td>\n",
       "      <td>...</td>\n",
       "      <td>...</td>\n",
       "      <td>...</td>\n",
       "      <td>...</td>\n",
       "      <td>...</td>\n",
       "      <td>...</td>\n",
       "      <td>...</td>\n",
       "      <td>...</td>\n",
       "      <td>...</td>\n",
       "      <td>...</td>\n",
       "      <td>...</td>\n",
       "      <td>...</td>\n",
       "      <td>...</td>\n",
       "      <td>...</td>\n",
       "      <td>...</td>\n",
       "      <td>...</td>\n",
       "    </tr>\n",
       "    <tr>\n",
       "      <th>95</th>\n",
       "      <td>783181986</td>\n",
       "      <td>3783</td>\n",
       "      <td>6121</td>\n",
       "      <td>NaN</td>\n",
       "      <td>NaN</td>\n",
       "      <td>NaN</td>\n",
       "      <td>NaN</td>\n",
       "      <td>NaN</td>\n",
       "      <td>NaN</td>\n",
       "      <td>2004</td>\n",
       "      <td>101</td>\n",
       "      <td>40509</td>\n",
       "      <td>100.0</td>\n",
       "      <td>3069.0</td>\n",
       "      <td>Teplice</td>\n",
       "      <td>Ústecký kraj</td>\n",
       "      <td>NaN</td>\n",
       "      <td>NaN</td>\n",
       "      <td>NaN</td>\n",
       "    </tr>\n",
       "    <tr>\n",
       "      <th>96</th>\n",
       "      <td>783181416</td>\n",
       "      <td>1104</td>\n",
       "      <td>6121</td>\n",
       "      <td>NaN</td>\n",
       "      <td>NaN</td>\n",
       "      <td>NaN</td>\n",
       "      <td>NaN</td>\n",
       "      <td>NaN</td>\n",
       "      <td>NaN</td>\n",
       "      <td>2004</td>\n",
       "      <td>101</td>\n",
       "      <td>40207</td>\n",
       "      <td>100.0</td>\n",
       "      <td>3026.0</td>\n",
       "      <td>Kutná Hora</td>\n",
       "      <td>Středočeský kraj</td>\n",
       "      <td>NaN</td>\n",
       "      <td>NaN</td>\n",
       "      <td>NaN</td>\n",
       "    </tr>\n",
       "    <tr>\n",
       "      <th>97</th>\n",
       "      <td>783181473</td>\n",
       "      <td>2382</td>\n",
       "      <td>6121</td>\n",
       "      <td>NaN</td>\n",
       "      <td>NaN</td>\n",
       "      <td>NaN</td>\n",
       "      <td>NaN</td>\n",
       "      <td>NaN</td>\n",
       "      <td>NaN</td>\n",
       "      <td>2004</td>\n",
       "      <td>101</td>\n",
       "      <td>40231</td>\n",
       "      <td>100.0</td>\n",
       "      <td>3026.0</td>\n",
       "      <td>Nymburk</td>\n",
       "      <td>Středočeský kraj</td>\n",
       "      <td>NaN</td>\n",
       "      <td>NaN</td>\n",
       "      <td>NaN</td>\n",
       "    </tr>\n",
       "    <tr>\n",
       "      <th>98</th>\n",
       "      <td>783181435</td>\n",
       "      <td>3403</td>\n",
       "      <td>6121</td>\n",
       "      <td>NaN</td>\n",
       "      <td>NaN</td>\n",
       "      <td>NaN</td>\n",
       "      <td>NaN</td>\n",
       "      <td>NaN</td>\n",
       "      <td>NaN</td>\n",
       "      <td>2004</td>\n",
       "      <td>101</td>\n",
       "      <td>40215</td>\n",
       "      <td>100.0</td>\n",
       "      <td>3026.0</td>\n",
       "      <td>Mělník</td>\n",
       "      <td>Středočeský kraj</td>\n",
       "      <td>NaN</td>\n",
       "      <td>NaN</td>\n",
       "      <td>NaN</td>\n",
       "    </tr>\n",
       "    <tr>\n",
       "      <th>99</th>\n",
       "      <td>783181910</td>\n",
       "      <td>2967</td>\n",
       "      <td>6121</td>\n",
       "      <td>NaN</td>\n",
       "      <td>NaN</td>\n",
       "      <td>NaN</td>\n",
       "      <td>NaN</td>\n",
       "      <td>NaN</td>\n",
       "      <td>NaN</td>\n",
       "      <td>2004</td>\n",
       "      <td>101</td>\n",
       "      <td>40461</td>\n",
       "      <td>100.0</td>\n",
       "      <td>3069.0</td>\n",
       "      <td>Chomutov</td>\n",
       "      <td>Ústecký kraj</td>\n",
       "      <td>NaN</td>\n",
       "      <td>NaN</td>\n",
       "      <td>NaN</td>\n",
       "    </tr>\n",
       "  </tbody>\n",
       "</table>\n",
       "<p>100 rows × 19 columns</p>\n",
       "</div>"
      ],
      "text/plain": [
       "        idhod  hodnota  stapro_kod  pohlavi_cis  pohlavi_kod  stobcan_cis  \\\n",
       "0   783267904    78263        6121          NaN          NaN       3228.0   \n",
       "1   783257796      159        6121          NaN          NaN       3228.0   \n",
       "2   783205432      260        6121          NaN          NaN       3228.0   \n",
       "3   783234179      377        6121          NaN          NaN       3228.0   \n",
       "4   783203437      338        6121          NaN          NaN       3228.0   \n",
       "..        ...      ...         ...          ...          ...          ...   \n",
       "95  783181986     3783        6121          NaN          NaN          NaN   \n",
       "96  783181416     1104        6121          NaN          NaN          NaN   \n",
       "97  783181473     2382        6121          NaN          NaN          NaN   \n",
       "98  783181435     3403        6121          NaN          NaN          NaN   \n",
       "99  783181910     2967        6121          NaN          NaN          NaN   \n",
       "\n",
       "    stobcan_kod  vek_cis  vek_kod   rok  vuzemi_cis  vuzemi_kod  kraj_cis  \\\n",
       "0         804.0      NaN      NaN  2004          97          19       NaN   \n",
       "1         804.0      NaN      NaN  2004         101       40886     100.0   \n",
       "2         804.0      NaN      NaN  2004         101       40347     100.0   \n",
       "3         804.0      NaN      NaN  2004         101       40631     100.0   \n",
       "4         804.0      NaN      NaN  2004         101       40312     100.0   \n",
       "..          ...      ...      ...   ...         ...         ...       ...   \n",
       "95          NaN      NaN      NaN  2004         101       40509     100.0   \n",
       "96          NaN      NaN      NaN  2004         101       40207     100.0   \n",
       "97          NaN      NaN      NaN  2004         101       40231     100.0   \n",
       "98          NaN      NaN      NaN  2004         101       40215     100.0   \n",
       "99          NaN      NaN      NaN  2004         101       40461     100.0   \n",
       "\n",
       "    kraj_kod       vuzemi_txt              kraj_txt pohlavi_txt stobcan_txt  \\\n",
       "0        NaN  Česká republika                   NaN         NaN    Ukrajina   \n",
       "1     3140.0          Karviná  Moravskoslezský kraj         NaN    Ukrajina   \n",
       "2     3034.0            Tábor        Jihočeský kraj         NaN    Ukrajina   \n",
       "3     3093.0          Svitavy       Pardubický kraj         NaN    Ukrajina   \n",
       "4     3034.0            Písek        Jihočeský kraj         NaN    Ukrajina   \n",
       "..       ...              ...                   ...         ...         ...   \n",
       "95    3069.0          Teplice          Ústecký kraj         NaN         NaN   \n",
       "96    3026.0       Kutná Hora      Středočeský kraj         NaN         NaN   \n",
       "97    3026.0          Nymburk      Středočeský kraj         NaN         NaN   \n",
       "98    3026.0           Mělník      Středočeský kraj         NaN         NaN   \n",
       "99    3069.0         Chomutov          Ústecký kraj         NaN         NaN   \n",
       "\n",
       "   vek_txt  \n",
       "0      NaN  \n",
       "1      NaN  \n",
       "2      NaN  \n",
       "3      NaN  \n",
       "4      NaN  \n",
       "..     ...  \n",
       "95     NaN  \n",
       "96     NaN  \n",
       "97     NaN  \n",
       "98     NaN  \n",
       "99     NaN  \n",
       "\n",
       "[100 rows x 19 columns]"
      ]
     },
     "execution_count": 9,
     "metadata": {},
     "output_type": "execute_result"
    }
   ],
   "source": [
    "data.head(100   )"
   ]
  },
  {
   "cell_type": "code",
   "execution_count": 22,
   "id": "dd09a129",
   "metadata": {},
   "outputs": [
    {
     "name": "stdout",
     "output_type": "stream",
     "text": [
      "<class 'pandas.core.frame.DataFrame'>\n",
      "RangeIndex: 70915 entries, 0 to 70914\n",
      "Data columns (total 19 columns):\n",
      " #   Column       Non-Null Count  Dtype  \n",
      "---  ------       --------------  -----  \n",
      " 0   idhod        70915 non-null  int64  \n",
      " 1   hodnota      70915 non-null  int64  \n",
      " 2   stapro_kod   70915 non-null  int64  \n",
      " 3   pohlavi_cis  42371 non-null  float64\n",
      " 4   pohlavi_kod  42371 non-null  float64\n",
      " 5   stobcan_cis  66510 non-null  float64\n",
      " 6   stobcan_kod  66510 non-null  float64\n",
      " 7   vek_cis      59632 non-null  float64\n",
      " 8   vek_kod      59632 non-null  float64\n",
      " 9   rok          70915 non-null  int64  \n",
      " 10  vuzemi_cis   70915 non-null  int64  \n",
      " 11  vuzemi_kod   70915 non-null  int64  \n",
      " 12  kraj_cis     65811 non-null  float64\n",
      " 13  kraj_kod     65811 non-null  float64\n",
      " 14  vuzemi_txt   70915 non-null  object \n",
      " 15  kraj_txt     65811 non-null  object \n",
      " 16  pohlavi_txt  42371 non-null  object \n",
      " 17  stobcan_txt  66510 non-null  object \n",
      " 18  vek_txt      59632 non-null  object \n",
      "dtypes: float64(8), int64(6), object(5)\n",
      "memory usage: 10.3+ MB\n"
     ]
    }
   ],
   "source": [
    "data.info()"
   ]
  },
  {
   "cell_type": "code",
   "execution_count": 92,
   "id": "5190decf",
   "metadata": {},
   "outputs": [],
   "source": [
    "data_sorted = data[['kraj_txt', 'stobcan_txt', 'hodnota', 'vek_txt']]"
   ]
  },
  {
   "cell_type": "code",
   "execution_count": 25,
   "id": "8019d93b",
   "metadata": {},
   "outputs": [
    {
     "data": {
      "text/html": [
       "<div>\n",
       "<style scoped>\n",
       "    .dataframe tbody tr th:only-of-type {\n",
       "        vertical-align: middle;\n",
       "    }\n",
       "\n",
       "    .dataframe tbody tr th {\n",
       "        vertical-align: top;\n",
       "    }\n",
       "\n",
       "    .dataframe thead th {\n",
       "        text-align: right;\n",
       "    }\n",
       "</style>\n",
       "<table border=\"1\" class=\"dataframe\">\n",
       "  <thead>\n",
       "    <tr style=\"text-align: right;\">\n",
       "      <th></th>\n",
       "      <th>kraj_txt</th>\n",
       "      <th>stobcan_txt</th>\n",
       "      <th>hodnota</th>\n",
       "      <th>vek_txt</th>\n",
       "    </tr>\n",
       "  </thead>\n",
       "  <tbody>\n",
       "    <tr>\n",
       "      <th>0</th>\n",
       "      <td>NaN</td>\n",
       "      <td>Ukrajina</td>\n",
       "      <td>78263</td>\n",
       "      <td>NaN</td>\n",
       "    </tr>\n",
       "    <tr>\n",
       "      <th>1</th>\n",
       "      <td>Moravskoslezský kraj</td>\n",
       "      <td>Ukrajina</td>\n",
       "      <td>159</td>\n",
       "      <td>NaN</td>\n",
       "    </tr>\n",
       "    <tr>\n",
       "      <th>2</th>\n",
       "      <td>Jihočeský kraj</td>\n",
       "      <td>Ukrajina</td>\n",
       "      <td>260</td>\n",
       "      <td>NaN</td>\n",
       "    </tr>\n",
       "    <tr>\n",
       "      <th>3</th>\n",
       "      <td>Pardubický kraj</td>\n",
       "      <td>Ukrajina</td>\n",
       "      <td>377</td>\n",
       "      <td>NaN</td>\n",
       "    </tr>\n",
       "    <tr>\n",
       "      <th>4</th>\n",
       "      <td>Jihočeský kraj</td>\n",
       "      <td>Ukrajina</td>\n",
       "      <td>338</td>\n",
       "      <td>NaN</td>\n",
       "    </tr>\n",
       "  </tbody>\n",
       "</table>\n",
       "</div>"
      ],
      "text/plain": [
       "               kraj_txt stobcan_txt  hodnota vek_txt\n",
       "0                   NaN    Ukrajina    78263     NaN\n",
       "1  Moravskoslezský kraj    Ukrajina      159     NaN\n",
       "2        Jihočeský kraj    Ukrajina      260     NaN\n",
       "3       Pardubický kraj    Ukrajina      377     NaN\n",
       "4        Jihočeský kraj    Ukrajina      338     NaN"
      ]
     },
     "execution_count": 25,
     "metadata": {},
     "output_type": "execute_result"
    }
   ],
   "source": [
    "data_sorted.head(5)"
   ]
  },
  {
   "cell_type": "code",
   "execution_count": 17,
   "id": "49a08c6d",
   "metadata": {},
   "outputs": [],
   "source": [
    "data.to_csv('soubor.csv', index=False)"
   ]
  },
  {
   "cell_type": "code",
   "execution_count": null,
   "id": "d7783f40",
   "metadata": {},
   "outputs": [
    {
     "name": "stdout",
     "output_type": "stream",
     "text": [
      "c:\\Program Files\\Microsoft VS Code\n"
     ]
    }
   ],
   "source": [
    "import os\n",
    "print(os.getcwd())"
   ]
  },
  {
   "cell_type": "code",
   "execution_count": 19,
   "id": "1d7c0283",
   "metadata": {},
   "outputs": [
    {
     "data": {
      "text/plain": [
       "vuzemi_txt\n",
       "Česká republika    5104\n",
       "Praha              4355\n",
       "Brno-město         2197\n",
       "Ostrava-město      1448\n",
       "Praha-západ        1433\n",
       "                   ... \n",
       "Strakonice          513\n",
       "Plzeň-jih           510\n",
       "Domažlice           492\n",
       "Jeseník             481\n",
       "nezjištěno          346\n",
       "Name: count, Length: 79, dtype: int64"
      ]
     },
     "execution_count": 19,
     "metadata": {},
     "output_type": "execute_result"
    }
   ],
   "source": [
    "data.value_counts('vuzemi_txt')"
   ]
  },
  {
   "cell_type": "code",
   "execution_count": 28,
   "id": "7d69ce70",
   "metadata": {},
   "outputs": [
    {
     "name": "stderr",
     "output_type": "stream",
     "text": [
      "C:\\Users\\nitram\\AppData\\Local\\Temp\\ipykernel_17436\\2025405515.py:1: SettingWithCopyWarning: \n",
      "A value is trying to be set on a copy of a slice from a DataFrame\n",
      "\n",
      "See the caveats in the documentation: https://pandas.pydata.org/pandas-docs/stable/user_guide/indexing.html#returning-a-view-versus-a-copy\n",
      "  data_sorted.rename(columns={'kraj_txt': 'kraj', 'stobcan_txt' : 'obcan_statu', 'hodnota' : 'pocet', 'vek_txt' : 'vek'}, inplace=True)\n"
     ]
    }
   ],
   "source": [
    "data_sorted.rename(columns={'kraj_txt': 'kraj', 'stobcan_txt' : 'obcan_statu', 'hodnota' : 'pocet', 'vek_txt' : 'vek'}, inplace=True) "
   ]
  },
  {
   "cell_type": "code",
   "execution_count": 36,
   "id": "a51075b1",
   "metadata": {},
   "outputs": [
    {
     "name": "stderr",
     "output_type": "stream",
     "text": [
      "C:\\Users\\nitram\\AppData\\Local\\Temp\\ipykernel_17436\\1918838794.py:1: SettingWithCopyWarning: \n",
      "A value is trying to be set on a copy of a slice from a DataFrame.\n",
      "Try using .loc[row_indexer,col_indexer] = value instead\n",
      "\n",
      "See the caveats in the documentation: https://pandas.pydata.org/pandas-docs/stable/user_guide/indexing.html#returning-a-view-versus-a-copy\n",
      "  data_sorted['vek'] = pd.to_numeric(data_sorted['vek'], errors='coerce')\n"
     ]
    }
   ],
   "source": [
    "data_sorted['vek'] = pd.to_numeric(data_sorted['vek'], errors='coerce')"
   ]
  },
  {
   "cell_type": "code",
   "execution_count": 43,
   "id": "68ba3e4e",
   "metadata": {},
   "outputs": [],
   "source": [
    "data_final = data_sorted.groupby(['kraj', 'obcan_statu'])[['pocet', 'vek']].mean()"
   ]
  },
  {
   "cell_type": "code",
   "execution_count": 41,
   "id": "e92e3649",
   "metadata": {},
   "outputs": [
    {
     "data": {
      "text/html": [
       "<div>\n",
       "<style scoped>\n",
       "    .dataframe tbody tr th:only-of-type {\n",
       "        vertical-align: middle;\n",
       "    }\n",
       "\n",
       "    .dataframe tbody tr th {\n",
       "        vertical-align: top;\n",
       "    }\n",
       "\n",
       "    .dataframe thead th {\n",
       "        text-align: right;\n",
       "    }\n",
       "</style>\n",
       "<table border=\"1\" class=\"dataframe\">\n",
       "  <thead>\n",
       "    <tr style=\"text-align: right;\">\n",
       "      <th></th>\n",
       "      <th>kraj</th>\n",
       "      <th>obcan_statu</th>\n",
       "      <th>pocet</th>\n",
       "      <th>vek</th>\n",
       "    </tr>\n",
       "  </thead>\n",
       "  <tbody>\n",
       "    <tr>\n",
       "      <th>0</th>\n",
       "      <td>NaN</td>\n",
       "      <td>Ukrajina</td>\n",
       "      <td>78263</td>\n",
       "      <td>NaN</td>\n",
       "    </tr>\n",
       "    <tr>\n",
       "      <th>1</th>\n",
       "      <td>Moravskoslezský kraj</td>\n",
       "      <td>Ukrajina</td>\n",
       "      <td>159</td>\n",
       "      <td>NaN</td>\n",
       "    </tr>\n",
       "    <tr>\n",
       "      <th>2</th>\n",
       "      <td>Jihočeský kraj</td>\n",
       "      <td>Ukrajina</td>\n",
       "      <td>260</td>\n",
       "      <td>NaN</td>\n",
       "    </tr>\n",
       "    <tr>\n",
       "      <th>3</th>\n",
       "      <td>Pardubický kraj</td>\n",
       "      <td>Ukrajina</td>\n",
       "      <td>377</td>\n",
       "      <td>NaN</td>\n",
       "    </tr>\n",
       "    <tr>\n",
       "      <th>4</th>\n",
       "      <td>Jihočeský kraj</td>\n",
       "      <td>Ukrajina</td>\n",
       "      <td>338</td>\n",
       "      <td>NaN</td>\n",
       "    </tr>\n",
       "    <tr>\n",
       "      <th>...</th>\n",
       "      <td>...</td>\n",
       "      <td>...</td>\n",
       "      <td>...</td>\n",
       "      <td>...</td>\n",
       "    </tr>\n",
       "    <tr>\n",
       "      <th>95</th>\n",
       "      <td>Ústecký kraj</td>\n",
       "      <td>NaN</td>\n",
       "      <td>3783</td>\n",
       "      <td>NaN</td>\n",
       "    </tr>\n",
       "    <tr>\n",
       "      <th>96</th>\n",
       "      <td>Středočeský kraj</td>\n",
       "      <td>NaN</td>\n",
       "      <td>1104</td>\n",
       "      <td>NaN</td>\n",
       "    </tr>\n",
       "    <tr>\n",
       "      <th>97</th>\n",
       "      <td>Středočeský kraj</td>\n",
       "      <td>NaN</td>\n",
       "      <td>2382</td>\n",
       "      <td>NaN</td>\n",
       "    </tr>\n",
       "    <tr>\n",
       "      <th>98</th>\n",
       "      <td>Středočeský kraj</td>\n",
       "      <td>NaN</td>\n",
       "      <td>3403</td>\n",
       "      <td>NaN</td>\n",
       "    </tr>\n",
       "    <tr>\n",
       "      <th>99</th>\n",
       "      <td>Ústecký kraj</td>\n",
       "      <td>NaN</td>\n",
       "      <td>2967</td>\n",
       "      <td>NaN</td>\n",
       "    </tr>\n",
       "  </tbody>\n",
       "</table>\n",
       "<p>100 rows × 4 columns</p>\n",
       "</div>"
      ],
      "text/plain": [
       "                    kraj obcan_statu  pocet  vek\n",
       "0                    NaN    Ukrajina  78263  NaN\n",
       "1   Moravskoslezský kraj    Ukrajina    159  NaN\n",
       "2         Jihočeský kraj    Ukrajina    260  NaN\n",
       "3        Pardubický kraj    Ukrajina    377  NaN\n",
       "4         Jihočeský kraj    Ukrajina    338  NaN\n",
       "..                   ...         ...    ...  ...\n",
       "95          Ústecký kraj         NaN   3783  NaN\n",
       "96      Středočeský kraj         NaN   1104  NaN\n",
       "97      Středočeský kraj         NaN   2382  NaN\n",
       "98      Středočeský kraj         NaN   3403  NaN\n",
       "99          Ústecký kraj         NaN   2967  NaN\n",
       "\n",
       "[100 rows x 4 columns]"
      ]
     },
     "execution_count": 41,
     "metadata": {},
     "output_type": "execute_result"
    }
   ],
   "source": [
    "data_sorted.head(100)"
   ]
  },
  {
   "cell_type": "code",
   "execution_count": 38,
   "id": "d5fc1232",
   "metadata": {},
   "outputs": [
    {
     "name": "stdout",
     "output_type": "stream",
     "text": [
      "<class 'pandas.core.frame.DataFrame'>\n",
      "RangeIndex: 70915 entries, 0 to 70914\n",
      "Data columns (total 4 columns):\n",
      " #   Column       Non-Null Count  Dtype  \n",
      "---  ------       --------------  -----  \n",
      " 0   kraj         65811 non-null  object \n",
      " 1   obcan_statu  66510 non-null  object \n",
      " 2   pocet        70915 non-null  int64  \n",
      " 3   vek          0 non-null      float64\n",
      "dtypes: float64(1), int64(1), object(2)\n",
      "memory usage: 2.2+ MB\n"
     ]
    }
   ],
   "source": [
    "data_sorted.info()"
   ]
  },
  {
   "cell_type": "code",
   "execution_count": 44,
   "id": "6f0641ff",
   "metadata": {},
   "outputs": [
    {
     "data": {
      "text/html": [
       "<div>\n",
       "<style scoped>\n",
       "    .dataframe tbody tr th:only-of-type {\n",
       "        vertical-align: middle;\n",
       "    }\n",
       "\n",
       "    .dataframe tbody tr th {\n",
       "        vertical-align: top;\n",
       "    }\n",
       "\n",
       "    .dataframe thead th {\n",
       "        text-align: right;\n",
       "    }\n",
       "</style>\n",
       "<table border=\"1\" class=\"dataframe\">\n",
       "  <thead>\n",
       "    <tr style=\"text-align: right;\">\n",
       "      <th></th>\n",
       "      <th></th>\n",
       "      <th>pocet</th>\n",
       "      <th>vek</th>\n",
       "    </tr>\n",
       "    <tr>\n",
       "      <th>kraj</th>\n",
       "      <th>obcan_statu</th>\n",
       "      <th></th>\n",
       "      <th></th>\n",
       "    </tr>\n",
       "  </thead>\n",
       "  <tbody>\n",
       "    <tr>\n",
       "      <th rowspan=\"5\" valign=\"top\">Hlavní město Praha</th>\n",
       "      <th>Afghánistán</th>\n",
       "      <td>7.052632</td>\n",
       "      <td>NaN</td>\n",
       "    </tr>\n",
       "    <tr>\n",
       "      <th>Albánie</th>\n",
       "      <td>8.200000</td>\n",
       "      <td>NaN</td>\n",
       "    </tr>\n",
       "    <tr>\n",
       "      <th>Alžírsko</th>\n",
       "      <td>20.177778</td>\n",
       "      <td>NaN</td>\n",
       "    </tr>\n",
       "    <tr>\n",
       "      <th>Angola</th>\n",
       "      <td>5.428571</td>\n",
       "      <td>NaN</td>\n",
       "    </tr>\n",
       "    <tr>\n",
       "      <th>Argentina</th>\n",
       "      <td>3.733333</td>\n",
       "      <td>NaN</td>\n",
       "    </tr>\n",
       "    <tr>\n",
       "      <th>...</th>\n",
       "      <th>...</th>\n",
       "      <td>...</td>\n",
       "      <td>...</td>\n",
       "    </tr>\n",
       "    <tr>\n",
       "      <th rowspan=\"5\" valign=\"top\">Ústecký kraj</th>\n",
       "      <th>Čína</th>\n",
       "      <td>3.692308</td>\n",
       "      <td>NaN</td>\n",
       "    </tr>\n",
       "    <tr>\n",
       "      <th>Řecko</th>\n",
       "      <td>1.263158</td>\n",
       "      <td>NaN</td>\n",
       "    </tr>\n",
       "    <tr>\n",
       "      <th>Španělsko</th>\n",
       "      <td>3.000000</td>\n",
       "      <td>NaN</td>\n",
       "    </tr>\n",
       "    <tr>\n",
       "      <th>Švédsko</th>\n",
       "      <td>1.405405</td>\n",
       "      <td>NaN</td>\n",
       "    </tr>\n",
       "    <tr>\n",
       "      <th>Švýcarsko</th>\n",
       "      <td>1.230769</td>\n",
       "      <td>NaN</td>\n",
       "    </tr>\n",
       "  </tbody>\n",
       "</table>\n",
       "<p>1432 rows × 2 columns</p>\n",
       "</div>"
      ],
      "text/plain": [
       "                                    pocet  vek\n",
       "kraj               obcan_statu                \n",
       "Hlavní město Praha Afghánistán   7.052632  NaN\n",
       "                   Albánie       8.200000  NaN\n",
       "                   Alžírsko     20.177778  NaN\n",
       "                   Angola        5.428571  NaN\n",
       "                   Argentina     3.733333  NaN\n",
       "...                                   ...  ...\n",
       "Ústecký kraj       Čína          3.692308  NaN\n",
       "                   Řecko         1.263158  NaN\n",
       "                   Španělsko     3.000000  NaN\n",
       "                   Švédsko       1.405405  NaN\n",
       "                   Švýcarsko     1.230769  NaN\n",
       "\n",
       "[1432 rows x 2 columns]"
      ]
     },
     "execution_count": 44,
     "metadata": {},
     "output_type": "execute_result"
    }
   ],
   "source": [
    "data_final"
   ]
  },
  {
   "cell_type": "code",
   "execution_count": 48,
   "id": "858eac20",
   "metadata": {},
   "outputs": [
    {
     "data": {
      "text/plain": [
       "pandas.core.frame.DataFrame"
      ]
     },
     "execution_count": 48,
     "metadata": {},
     "output_type": "execute_result"
    }
   ],
   "source": [
    "type(data_final)"
   ]
  },
  {
   "cell_type": "code",
   "execution_count": 39,
   "id": "00ae1e92",
   "metadata": {},
   "outputs": [],
   "source": [
    "import plotly.express as px"
   ]
  },
  {
   "cell_type": "code",
   "execution_count": null,
   "id": "9db2a52d",
   "metadata": {},
   "outputs": [],
   "source": [
    "fig = px.line(df, x='kraj', y='pocet')\n",
    "fig.show()\n"
   ]
  },
  {
   "cell_type": "code",
   "execution_count": 59,
   "id": "1e576aa9",
   "metadata": {},
   "outputs": [],
   "source": [
    "df_plot = data_final.reset_index()"
   ]
  },
  {
   "cell_type": "code",
   "execution_count": 61,
   "id": "0b410a8d",
   "metadata": {},
   "outputs": [
    {
     "name": "stdout",
     "output_type": "stream",
     "text": [
      "<class 'pandas.core.frame.DataFrame'>\n",
      "MultiIndex: 1432 entries, ('Hlavní město Praha', 'Afghánistán') to ('Ústecký kraj', 'Švýcarsko')\n",
      "Data columns (total 2 columns):\n",
      " #   Column  Non-Null Count  Dtype  \n",
      "---  ------  --------------  -----  \n",
      " 0   pocet   1432 non-null   float64\n",
      " 1   vek     0 non-null      float64\n",
      "dtypes: float64(2)\n",
      "memory usage: 28.1+ KB\n"
     ]
    }
   ],
   "source": [
    "data_final.info()"
   ]
  },
  {
   "cell_type": "code",
   "execution_count": 64,
   "id": "6c1bc955",
   "metadata": {},
   "outputs": [
    {
     "name": "stdout",
     "output_type": "stream",
     "text": [
      "Index(['kraj', 'obcan_statu', 'pocet', 'vek'], dtype='object')\n"
     ]
    }
   ],
   "source": [
    "data_final = data_final.reset_index()\n",
    "print(data_final.columns)"
   ]
  },
  {
   "cell_type": "code",
   "execution_count": 65,
   "id": "5f5b1bb3",
   "metadata": {},
   "outputs": [
    {
     "data": {
      "text/html": [
       "<div>\n",
       "<style scoped>\n",
       "    .dataframe tbody tr th:only-of-type {\n",
       "        vertical-align: middle;\n",
       "    }\n",
       "\n",
       "    .dataframe tbody tr th {\n",
       "        vertical-align: top;\n",
       "    }\n",
       "\n",
       "    .dataframe thead th {\n",
       "        text-align: right;\n",
       "    }\n",
       "</style>\n",
       "<table border=\"1\" class=\"dataframe\">\n",
       "  <thead>\n",
       "    <tr style=\"text-align: right;\">\n",
       "      <th></th>\n",
       "      <th>kraj</th>\n",
       "      <th>obcan_statu</th>\n",
       "      <th>pocet</th>\n",
       "      <th>vek</th>\n",
       "    </tr>\n",
       "  </thead>\n",
       "  <tbody>\n",
       "    <tr>\n",
       "      <th>0</th>\n",
       "      <td>Hlavní město Praha</td>\n",
       "      <td>Afghánistán</td>\n",
       "      <td>7.052632</td>\n",
       "      <td>NaN</td>\n",
       "    </tr>\n",
       "    <tr>\n",
       "      <th>1</th>\n",
       "      <td>Hlavní město Praha</td>\n",
       "      <td>Albánie</td>\n",
       "      <td>8.200000</td>\n",
       "      <td>NaN</td>\n",
       "    </tr>\n",
       "    <tr>\n",
       "      <th>2</th>\n",
       "      <td>Hlavní město Praha</td>\n",
       "      <td>Alžírsko</td>\n",
       "      <td>20.177778</td>\n",
       "      <td>NaN</td>\n",
       "    </tr>\n",
       "    <tr>\n",
       "      <th>3</th>\n",
       "      <td>Hlavní město Praha</td>\n",
       "      <td>Angola</td>\n",
       "      <td>5.428571</td>\n",
       "      <td>NaN</td>\n",
       "    </tr>\n",
       "    <tr>\n",
       "      <th>4</th>\n",
       "      <td>Hlavní město Praha</td>\n",
       "      <td>Argentina</td>\n",
       "      <td>3.733333</td>\n",
       "      <td>NaN</td>\n",
       "    </tr>\n",
       "    <tr>\n",
       "      <th>...</th>\n",
       "      <td>...</td>\n",
       "      <td>...</td>\n",
       "      <td>...</td>\n",
       "      <td>...</td>\n",
       "    </tr>\n",
       "    <tr>\n",
       "      <th>1427</th>\n",
       "      <td>Ústecký kraj</td>\n",
       "      <td>Čína</td>\n",
       "      <td>3.692308</td>\n",
       "      <td>NaN</td>\n",
       "    </tr>\n",
       "    <tr>\n",
       "      <th>1428</th>\n",
       "      <td>Ústecký kraj</td>\n",
       "      <td>Řecko</td>\n",
       "      <td>1.263158</td>\n",
       "      <td>NaN</td>\n",
       "    </tr>\n",
       "    <tr>\n",
       "      <th>1429</th>\n",
       "      <td>Ústecký kraj</td>\n",
       "      <td>Španělsko</td>\n",
       "      <td>3.000000</td>\n",
       "      <td>NaN</td>\n",
       "    </tr>\n",
       "    <tr>\n",
       "      <th>1430</th>\n",
       "      <td>Ústecký kraj</td>\n",
       "      <td>Švédsko</td>\n",
       "      <td>1.405405</td>\n",
       "      <td>NaN</td>\n",
       "    </tr>\n",
       "    <tr>\n",
       "      <th>1431</th>\n",
       "      <td>Ústecký kraj</td>\n",
       "      <td>Švýcarsko</td>\n",
       "      <td>1.230769</td>\n",
       "      <td>NaN</td>\n",
       "    </tr>\n",
       "  </tbody>\n",
       "</table>\n",
       "<p>1432 rows × 4 columns</p>\n",
       "</div>"
      ],
      "text/plain": [
       "                    kraj  obcan_statu      pocet  vek\n",
       "0     Hlavní město Praha  Afghánistán   7.052632  NaN\n",
       "1     Hlavní město Praha      Albánie   8.200000  NaN\n",
       "2     Hlavní město Praha     Alžírsko  20.177778  NaN\n",
       "3     Hlavní město Praha       Angola   5.428571  NaN\n",
       "4     Hlavní město Praha    Argentina   3.733333  NaN\n",
       "...                  ...          ...        ...  ...\n",
       "1427        Ústecký kraj         Čína   3.692308  NaN\n",
       "1428        Ústecký kraj        Řecko   1.263158  NaN\n",
       "1429        Ústecký kraj    Španělsko   3.000000  NaN\n",
       "1430        Ústecký kraj      Švédsko   1.405405  NaN\n",
       "1431        Ústecký kraj    Švýcarsko   1.230769  NaN\n",
       "\n",
       "[1432 rows x 4 columns]"
      ]
     },
     "execution_count": 65,
     "metadata": {},
     "output_type": "execute_result"
    }
   ],
   "source": [
    "data_final"
   ]
  },
  {
   "cell_type": "code",
   "execution_count": 66,
   "id": "0a03bd2b",
   "metadata": {},
   "outputs": [
    {
     "data": {
      "application/vnd.plotly.v1+json": {
       "config": {
        "plotlyServerURL": "https://plot.ly"
       },
       "data": [
        {
         "hovertemplate": "kraj=%{x}<br>pocet=%{y}<extra></extra>",
         "legendgroup": "",
         "line": {
          "color": "#636efa",
          "dash": "solid"
         },
         "marker": {
          "symbol": "circle"
         },
         "mode": "lines",
         "name": "",
         "showlegend": false,
         "type": "scattergl",
         "x": [
          "Hlavní město Praha",
          "Hlavní město Praha",
          "Hlavní město Praha",
          "Hlavní město Praha",
          "Hlavní město Praha",
          "Hlavní město Praha",
          "Hlavní město Praha",
          "Hlavní město Praha",
          "Hlavní město Praha",
          "Hlavní město Praha",
          "Hlavní město Praha",
          "Hlavní město Praha",
          "Hlavní město Praha",
          "Hlavní město Praha",
          "Hlavní město Praha",
          "Hlavní město Praha",
          "Hlavní město Praha",
          "Hlavní město Praha",
          "Hlavní město Praha",
          "Hlavní město Praha",
          "Hlavní město Praha",
          "Hlavní město Praha",
          "Hlavní město Praha",
          "Hlavní město Praha",
          "Hlavní město Praha",
          "Hlavní město Praha",
          "Hlavní město Praha",
          "Hlavní město Praha",
          "Hlavní město Praha",
          "Hlavní město Praha",
          "Hlavní město Praha",
          "Hlavní město Praha",
          "Hlavní město Praha",
          "Hlavní město Praha",
          "Hlavní město Praha",
          "Hlavní město Praha",
          "Hlavní město Praha",
          "Hlavní město Praha",
          "Hlavní město Praha",
          "Hlavní město Praha",
          "Hlavní město Praha",
          "Hlavní město Praha",
          "Hlavní město Praha",
          "Hlavní město Praha",
          "Hlavní město Praha",
          "Hlavní město Praha",
          "Hlavní město Praha",
          "Hlavní město Praha",
          "Hlavní město Praha",
          "Hlavní město Praha",
          "Hlavní město Praha",
          "Hlavní město Praha",
          "Hlavní město Praha",
          "Hlavní město Praha",
          "Hlavní město Praha",
          "Hlavní město Praha",
          "Hlavní město Praha",
          "Hlavní město Praha",
          "Hlavní město Praha",
          "Hlavní město Praha",
          "Hlavní město Praha",
          "Hlavní město Praha",
          "Hlavní město Praha",
          "Hlavní město Praha",
          "Hlavní město Praha",
          "Hlavní město Praha",
          "Hlavní město Praha",
          "Hlavní město Praha",
          "Hlavní město Praha",
          "Hlavní město Praha",
          "Hlavní město Praha",
          "Hlavní město Praha",
          "Hlavní město Praha",
          "Hlavní město Praha",
          "Hlavní město Praha",
          "Hlavní město Praha",
          "Hlavní město Praha",
          "Hlavní město Praha",
          "Hlavní město Praha",
          "Hlavní město Praha",
          "Hlavní město Praha",
          "Hlavní město Praha",
          "Hlavní město Praha",
          "Hlavní město Praha",
          "Hlavní město Praha",
          "Hlavní město Praha",
          "Hlavní město Praha",
          "Hlavní město Praha",
          "Hlavní město Praha",
          "Hlavní město Praha",
          "Hlavní město Praha",
          "Hlavní město Praha",
          "Hlavní město Praha",
          "Hlavní město Praha",
          "Hlavní město Praha",
          "Hlavní město Praha",
          "Hlavní město Praha",
          "Hlavní město Praha",
          "Hlavní město Praha",
          "Hlavní město Praha",
          "Hlavní město Praha",
          "Hlavní město Praha",
          "Hlavní město Praha",
          "Hlavní město Praha",
          "Hlavní město Praha",
          "Hlavní město Praha",
          "Hlavní město Praha",
          "Hlavní město Praha",
          "Hlavní město Praha",
          "Hlavní město Praha",
          "Hlavní město Praha",
          "Hlavní město Praha",
          "Hlavní město Praha",
          "Hlavní město Praha",
          "Hlavní město Praha",
          "Hlavní město Praha",
          "Hlavní město Praha",
          "Hlavní město Praha",
          "Hlavní město Praha",
          "Hlavní město Praha",
          "Hlavní město Praha",
          "Hlavní město Praha",
          "Hlavní město Praha",
          "Hlavní město Praha",
          "Hlavní město Praha",
          "Hlavní město Praha",
          "Hlavní město Praha",
          "Hlavní město Praha",
          "Hlavní město Praha",
          "Hlavní město Praha",
          "Hlavní město Praha",
          "Hlavní město Praha",
          "Hlavní město Praha",
          "Hlavní město Praha",
          "Hlavní město Praha",
          "Hlavní město Praha",
          "Hlavní město Praha",
          "Hlavní město Praha",
          "Hlavní město Praha",
          "Hlavní město Praha",
          "Hlavní město Praha",
          "Hlavní město Praha",
          "Hlavní město Praha",
          "Hlavní město Praha",
          "Hlavní město Praha",
          "Hlavní město Praha",
          "Hlavní město Praha",
          "Hlavní město Praha",
          "Hlavní město Praha",
          "Hlavní město Praha",
          "Hlavní město Praha",
          "Hlavní město Praha",
          "Hlavní město Praha",
          "Hlavní město Praha",
          "Hlavní město Praha",
          "Jihomoravský kraj",
          "Jihomoravský kraj",
          "Jihomoravský kraj",
          "Jihomoravský kraj",
          "Jihomoravský kraj",
          "Jihomoravský kraj",
          "Jihomoravský kraj",
          "Jihomoravský kraj",
          "Jihomoravský kraj",
          "Jihomoravský kraj",
          "Jihomoravský kraj",
          "Jihomoravský kraj",
          "Jihomoravský kraj",
          "Jihomoravský kraj",
          "Jihomoravský kraj",
          "Jihomoravský kraj",
          "Jihomoravský kraj",
          "Jihomoravský kraj",
          "Jihomoravský kraj",
          "Jihomoravský kraj",
          "Jihomoravský kraj",
          "Jihomoravský kraj",
          "Jihomoravský kraj",
          "Jihomoravský kraj",
          "Jihomoravský kraj",
          "Jihomoravský kraj",
          "Jihomoravský kraj",
          "Jihomoravský kraj",
          "Jihomoravský kraj",
          "Jihomoravský kraj",
          "Jihomoravský kraj",
          "Jihomoravský kraj",
          "Jihomoravský kraj",
          "Jihomoravský kraj",
          "Jihomoravský kraj",
          "Jihomoravský kraj",
          "Jihomoravský kraj",
          "Jihomoravský kraj",
          "Jihomoravský kraj",
          "Jihomoravský kraj",
          "Jihomoravský kraj",
          "Jihomoravský kraj",
          "Jihomoravský kraj",
          "Jihomoravský kraj",
          "Jihomoravský kraj",
          "Jihomoravský kraj",
          "Jihomoravský kraj",
          "Jihomoravský kraj",
          "Jihomoravský kraj",
          "Jihomoravský kraj",
          "Jihomoravský kraj",
          "Jihomoravský kraj",
          "Jihomoravský kraj",
          "Jihomoravský kraj",
          "Jihomoravský kraj",
          "Jihomoravský kraj",
          "Jihomoravský kraj",
          "Jihomoravský kraj",
          "Jihomoravský kraj",
          "Jihomoravský kraj",
          "Jihomoravský kraj",
          "Jihomoravský kraj",
          "Jihomoravský kraj",
          "Jihomoravský kraj",
          "Jihomoravský kraj",
          "Jihomoravský kraj",
          "Jihomoravský kraj",
          "Jihomoravský kraj",
          "Jihomoravský kraj",
          "Jihomoravský kraj",
          "Jihomoravský kraj",
          "Jihomoravský kraj",
          "Jihomoravský kraj",
          "Jihomoravský kraj",
          "Jihomoravský kraj",
          "Jihomoravský kraj",
          "Jihomoravský kraj",
          "Jihomoravský kraj",
          "Jihomoravský kraj",
          "Jihomoravský kraj",
          "Jihomoravský kraj",
          "Jihomoravský kraj",
          "Jihomoravský kraj",
          "Jihomoravský kraj",
          "Jihomoravský kraj",
          "Jihomoravský kraj",
          "Jihomoravský kraj",
          "Jihomoravský kraj",
          "Jihomoravský kraj",
          "Jihomoravský kraj",
          "Jihomoravský kraj",
          "Jihomoravský kraj",
          "Jihomoravský kraj",
          "Jihomoravský kraj",
          "Jihomoravský kraj",
          "Jihomoravský kraj",
          "Jihomoravský kraj",
          "Jihomoravský kraj",
          "Jihomoravský kraj",
          "Jihomoravský kraj",
          "Jihomoravský kraj",
          "Jihomoravský kraj",
          "Jihomoravský kraj",
          "Jihomoravský kraj",
          "Jihomoravský kraj",
          "Jihomoravský kraj",
          "Jihomoravský kraj",
          "Jihomoravský kraj",
          "Jihomoravský kraj",
          "Jihomoravský kraj",
          "Jihomoravský kraj",
          "Jihomoravský kraj",
          "Jihomoravský kraj",
          "Jihomoravský kraj",
          "Jihomoravský kraj",
          "Jihomoravský kraj",
          "Jihomoravský kraj",
          "Jihomoravský kraj",
          "Jihomoravský kraj",
          "Jihomoravský kraj",
          "Jihomoravský kraj",
          "Jihomoravský kraj",
          "Jihomoravský kraj",
          "Jihomoravský kraj",
          "Jihomoravský kraj",
          "Jihočeský kraj",
          "Jihočeský kraj",
          "Jihočeský kraj",
          "Jihočeský kraj",
          "Jihočeský kraj",
          "Jihočeský kraj",
          "Jihočeský kraj",
          "Jihočeský kraj",
          "Jihočeský kraj",
          "Jihočeský kraj",
          "Jihočeský kraj",
          "Jihočeský kraj",
          "Jihočeský kraj",
          "Jihočeský kraj",
          "Jihočeský kraj",
          "Jihočeský kraj",
          "Jihočeský kraj",
          "Jihočeský kraj",
          "Jihočeský kraj",
          "Jihočeský kraj",
          "Jihočeský kraj",
          "Jihočeský kraj",
          "Jihočeský kraj",
          "Jihočeský kraj",
          "Jihočeský kraj",
          "Jihočeský kraj",
          "Jihočeský kraj",
          "Jihočeský kraj",
          "Jihočeský kraj",
          "Jihočeský kraj",
          "Jihočeský kraj",
          "Jihočeský kraj",
          "Jihočeský kraj",
          "Jihočeský kraj",
          "Jihočeský kraj",
          "Jihočeský kraj",
          "Jihočeský kraj",
          "Jihočeský kraj",
          "Jihočeský kraj",
          "Jihočeský kraj",
          "Jihočeský kraj",
          "Jihočeský kraj",
          "Jihočeský kraj",
          "Jihočeský kraj",
          "Jihočeský kraj",
          "Jihočeský kraj",
          "Jihočeský kraj",
          "Jihočeský kraj",
          "Jihočeský kraj",
          "Jihočeský kraj",
          "Jihočeský kraj",
          "Jihočeský kraj",
          "Jihočeský kraj",
          "Jihočeský kraj",
          "Jihočeský kraj",
          "Jihočeský kraj",
          "Jihočeský kraj",
          "Jihočeský kraj",
          "Jihočeský kraj",
          "Jihočeský kraj",
          "Jihočeský kraj",
          "Jihočeský kraj",
          "Jihočeský kraj",
          "Jihočeský kraj",
          "Jihočeský kraj",
          "Jihočeský kraj",
          "Jihočeský kraj",
          "Jihočeský kraj",
          "Jihočeský kraj",
          "Jihočeský kraj",
          "Jihočeský kraj",
          "Jihočeský kraj",
          "Jihočeský kraj",
          "Jihočeský kraj",
          "Jihočeský kraj",
          "Jihočeský kraj",
          "Jihočeský kraj",
          "Jihočeský kraj",
          "Jihočeský kraj",
          "Jihočeský kraj",
          "Jihočeský kraj",
          "Jihočeský kraj",
          "Jihočeský kraj",
          "Jihočeský kraj",
          "Jihočeský kraj",
          "Jihočeský kraj",
          "Jihočeský kraj",
          "Karlovarský kraj",
          "Karlovarský kraj",
          "Karlovarský kraj",
          "Karlovarský kraj",
          "Karlovarský kraj",
          "Karlovarský kraj",
          "Karlovarský kraj",
          "Karlovarský kraj",
          "Karlovarský kraj",
          "Karlovarský kraj",
          "Karlovarský kraj",
          "Karlovarský kraj",
          "Karlovarský kraj",
          "Karlovarský kraj",
          "Karlovarský kraj",
          "Karlovarský kraj",
          "Karlovarský kraj",
          "Karlovarský kraj",
          "Karlovarský kraj",
          "Karlovarský kraj",
          "Karlovarský kraj",
          "Karlovarský kraj",
          "Karlovarský kraj",
          "Karlovarský kraj",
          "Karlovarský kraj",
          "Karlovarský kraj",
          "Karlovarský kraj",
          "Karlovarský kraj",
          "Karlovarský kraj",
          "Karlovarský kraj",
          "Karlovarský kraj",
          "Karlovarský kraj",
          "Karlovarský kraj",
          "Karlovarský kraj",
          "Karlovarský kraj",
          "Karlovarský kraj",
          "Karlovarský kraj",
          "Karlovarský kraj",
          "Karlovarský kraj",
          "Karlovarský kraj",
          "Karlovarský kraj",
          "Karlovarský kraj",
          "Karlovarský kraj",
          "Karlovarský kraj",
          "Karlovarský kraj",
          "Karlovarský kraj",
          "Karlovarský kraj",
          "Karlovarský kraj",
          "Karlovarský kraj",
          "Karlovarský kraj",
          "Karlovarský kraj",
          "Karlovarský kraj",
          "Karlovarský kraj",
          "Karlovarský kraj",
          "Karlovarský kraj",
          "Karlovarský kraj",
          "Karlovarský kraj",
          "Karlovarský kraj",
          "Karlovarský kraj",
          "Karlovarský kraj",
          "Karlovarský kraj",
          "Karlovarský kraj",
          "Karlovarský kraj",
          "Karlovarský kraj",
          "Karlovarský kraj",
          "Karlovarský kraj",
          "Karlovarský kraj",
          "Karlovarský kraj",
          "Karlovarský kraj",
          "Karlovarský kraj",
          "Karlovarský kraj",
          "Karlovarský kraj",
          "Karlovarský kraj",
          "Karlovarský kraj",
          "Karlovarský kraj",
          "Karlovarský kraj",
          "Karlovarský kraj",
          "Karlovarský kraj",
          "Karlovarský kraj",
          "Karlovarský kraj",
          "Karlovarský kraj",
          "Karlovarský kraj",
          "Karlovarský kraj",
          "Karlovarský kraj",
          "Karlovarský kraj",
          "Karlovarský kraj",
          "Karlovarský kraj",
          "Karlovarský kraj",
          "Karlovarský kraj",
          "Karlovarský kraj",
          "Karlovarský kraj",
          "Karlovarský kraj",
          "Kraj Vysočina",
          "Kraj Vysočina",
          "Kraj Vysočina",
          "Kraj Vysočina",
          "Kraj Vysočina",
          "Kraj Vysočina",
          "Kraj Vysočina",
          "Kraj Vysočina",
          "Kraj Vysočina",
          "Kraj Vysočina",
          "Kraj Vysočina",
          "Kraj Vysočina",
          "Kraj Vysočina",
          "Kraj Vysočina",
          "Kraj Vysočina",
          "Kraj Vysočina",
          "Kraj Vysočina",
          "Kraj Vysočina",
          "Kraj Vysočina",
          "Kraj Vysočina",
          "Kraj Vysočina",
          "Kraj Vysočina",
          "Kraj Vysočina",
          "Kraj Vysočina",
          "Kraj Vysočina",
          "Kraj Vysočina",
          "Kraj Vysočina",
          "Kraj Vysočina",
          "Kraj Vysočina",
          "Kraj Vysočina",
          "Kraj Vysočina",
          "Kraj Vysočina",
          "Kraj Vysočina",
          "Kraj Vysočina",
          "Kraj Vysočina",
          "Kraj Vysočina",
          "Kraj Vysočina",
          "Kraj Vysočina",
          "Kraj Vysočina",
          "Kraj Vysočina",
          "Kraj Vysočina",
          "Kraj Vysočina",
          "Kraj Vysočina",
          "Kraj Vysočina",
          "Kraj Vysočina",
          "Kraj Vysočina",
          "Kraj Vysočina",
          "Kraj Vysočina",
          "Kraj Vysočina",
          "Kraj Vysočina",
          "Kraj Vysočina",
          "Kraj Vysočina",
          "Kraj Vysočina",
          "Kraj Vysočina",
          "Kraj Vysočina",
          "Kraj Vysočina",
          "Kraj Vysočina",
          "Kraj Vysočina",
          "Kraj Vysočina",
          "Kraj Vysočina",
          "Kraj Vysočina",
          "Kraj Vysočina",
          "Královéhradecký kraj",
          "Královéhradecký kraj",
          "Královéhradecký kraj",
          "Královéhradecký kraj",
          "Královéhradecký kraj",
          "Královéhradecký kraj",
          "Královéhradecký kraj",
          "Královéhradecký kraj",
          "Královéhradecký kraj",
          "Královéhradecký kraj",
          "Královéhradecký kraj",
          "Královéhradecký kraj",
          "Královéhradecký kraj",
          "Královéhradecký kraj",
          "Královéhradecký kraj",
          "Královéhradecký kraj",
          "Královéhradecký kraj",
          "Královéhradecký kraj",
          "Královéhradecký kraj",
          "Královéhradecký kraj",
          "Královéhradecký kraj",
          "Královéhradecký kraj",
          "Královéhradecký kraj",
          "Královéhradecký kraj",
          "Královéhradecký kraj",
          "Královéhradecký kraj",
          "Královéhradecký kraj",
          "Královéhradecký kraj",
          "Královéhradecký kraj",
          "Královéhradecký kraj",
          "Královéhradecký kraj",
          "Královéhradecký kraj",
          "Královéhradecký kraj",
          "Královéhradecký kraj",
          "Královéhradecký kraj",
          "Královéhradecký kraj",
          "Královéhradecký kraj",
          "Královéhradecký kraj",
          "Královéhradecký kraj",
          "Královéhradecký kraj",
          "Královéhradecký kraj",
          "Královéhradecký kraj",
          "Královéhradecký kraj",
          "Královéhradecký kraj",
          "Královéhradecký kraj",
          "Královéhradecký kraj",
          "Královéhradecký kraj",
          "Královéhradecký kraj",
          "Královéhradecký kraj",
          "Královéhradecký kraj",
          "Královéhradecký kraj",
          "Královéhradecký kraj",
          "Královéhradecký kraj",
          "Královéhradecký kraj",
          "Královéhradecký kraj",
          "Královéhradecký kraj",
          "Královéhradecký kraj",
          "Královéhradecký kraj",
          "Královéhradecký kraj",
          "Královéhradecký kraj",
          "Královéhradecký kraj",
          "Královéhradecký kraj",
          "Královéhradecký kraj",
          "Královéhradecký kraj",
          "Královéhradecký kraj",
          "Královéhradecký kraj",
          "Královéhradecký kraj",
          "Královéhradecký kraj",
          "Královéhradecký kraj",
          "Královéhradecký kraj",
          "Královéhradecký kraj",
          "Královéhradecký kraj",
          "Královéhradecký kraj",
          "Královéhradecký kraj",
          "Královéhradecký kraj",
          "Královéhradecký kraj",
          "Královéhradecký kraj",
          "Královéhradecký kraj",
          "Královéhradecký kraj",
          "Královéhradecký kraj",
          "Královéhradecký kraj",
          "Královéhradecký kraj",
          "Královéhradecký kraj",
          "Královéhradecký kraj",
          "Královéhradecký kraj",
          "Královéhradecký kraj",
          "Královéhradecký kraj",
          "Královéhradecký kraj",
          "Královéhradecký kraj",
          "Královéhradecký kraj",
          "Královéhradecký kraj",
          "Královéhradecký kraj",
          "Královéhradecký kraj",
          "Královéhradecký kraj",
          "Královéhradecký kraj",
          "Královéhradecký kraj",
          "Královéhradecký kraj",
          "Královéhradecký kraj",
          "Královéhradecký kraj",
          "Liberecký kraj",
          "Liberecký kraj",
          "Liberecký kraj",
          "Liberecký kraj",
          "Liberecký kraj",
          "Liberecký kraj",
          "Liberecký kraj",
          "Liberecký kraj",
          "Liberecký kraj",
          "Liberecký kraj",
          "Liberecký kraj",
          "Liberecký kraj",
          "Liberecký kraj",
          "Liberecký kraj",
          "Liberecký kraj",
          "Liberecký kraj",
          "Liberecký kraj",
          "Liberecký kraj",
          "Liberecký kraj",
          "Liberecký kraj",
          "Liberecký kraj",
          "Liberecký kraj",
          "Liberecký kraj",
          "Liberecký kraj",
          "Liberecký kraj",
          "Liberecký kraj",
          "Liberecký kraj",
          "Liberecký kraj",
          "Liberecký kraj",
          "Liberecký kraj",
          "Liberecký kraj",
          "Liberecký kraj",
          "Liberecký kraj",
          "Liberecký kraj",
          "Liberecký kraj",
          "Liberecký kraj",
          "Liberecký kraj",
          "Liberecký kraj",
          "Liberecký kraj",
          "Liberecký kraj",
          "Liberecký kraj",
          "Liberecký kraj",
          "Liberecký kraj",
          "Liberecký kraj",
          "Liberecký kraj",
          "Liberecký kraj",
          "Liberecký kraj",
          "Liberecký kraj",
          "Liberecký kraj",
          "Liberecký kraj",
          "Liberecký kraj",
          "Liberecký kraj",
          "Liberecký kraj",
          "Liberecký kraj",
          "Liberecký kraj",
          "Liberecký kraj",
          "Liberecký kraj",
          "Liberecký kraj",
          "Liberecký kraj",
          "Liberecký kraj",
          "Liberecký kraj",
          "Liberecký kraj",
          "Liberecký kraj",
          "Liberecký kraj",
          "Liberecký kraj",
          "Liberecký kraj",
          "Liberecký kraj",
          "Liberecký kraj",
          "Liberecký kraj",
          "Liberecký kraj",
          "Liberecký kraj",
          "Liberecký kraj",
          "Liberecký kraj",
          "Liberecký kraj",
          "Liberecký kraj",
          "Liberecký kraj",
          "Liberecký kraj",
          "Liberecký kraj",
          "Liberecký kraj",
          "Liberecký kraj",
          "Liberecký kraj",
          "Liberecký kraj",
          "Liberecký kraj",
          "Liberecký kraj",
          "Liberecký kraj",
          "Liberecký kraj",
          "Liberecký kraj",
          "Liberecký kraj",
          "Liberecký kraj",
          "Liberecký kraj",
          "Liberecký kraj",
          "Liberecký kraj",
          "Liberecký kraj",
          "Liberecký kraj",
          "Liberecký kraj",
          "Liberecký kraj",
          "Liberecký kraj",
          "Moravskoslezský kraj",
          "Moravskoslezský kraj",
          "Moravskoslezský kraj",
          "Moravskoslezský kraj",
          "Moravskoslezský kraj",
          "Moravskoslezský kraj",
          "Moravskoslezský kraj",
          "Moravskoslezský kraj",
          "Moravskoslezský kraj",
          "Moravskoslezský kraj",
          "Moravskoslezský kraj",
          "Moravskoslezský kraj",
          "Moravskoslezský kraj",
          "Moravskoslezský kraj",
          "Moravskoslezský kraj",
          "Moravskoslezský kraj",
          "Moravskoslezský kraj",
          "Moravskoslezský kraj",
          "Moravskoslezský kraj",
          "Moravskoslezský kraj",
          "Moravskoslezský kraj",
          "Moravskoslezský kraj",
          "Moravskoslezský kraj",
          "Moravskoslezský kraj",
          "Moravskoslezský kraj",
          "Moravskoslezský kraj",
          "Moravskoslezský kraj",
          "Moravskoslezský kraj",
          "Moravskoslezský kraj",
          "Moravskoslezský kraj",
          "Moravskoslezský kraj",
          "Moravskoslezský kraj",
          "Moravskoslezský kraj",
          "Moravskoslezský kraj",
          "Moravskoslezský kraj",
          "Moravskoslezský kraj",
          "Moravskoslezský kraj",
          "Moravskoslezský kraj",
          "Moravskoslezský kraj",
          "Moravskoslezský kraj",
          "Moravskoslezský kraj",
          "Moravskoslezský kraj",
          "Moravskoslezský kraj",
          "Moravskoslezský kraj",
          "Moravskoslezský kraj",
          "Moravskoslezský kraj",
          "Moravskoslezský kraj",
          "Moravskoslezský kraj",
          "Moravskoslezský kraj",
          "Moravskoslezský kraj",
          "Moravskoslezský kraj",
          "Moravskoslezský kraj",
          "Moravskoslezský kraj",
          "Moravskoslezský kraj",
          "Moravskoslezský kraj",
          "Moravskoslezský kraj",
          "Moravskoslezský kraj",
          "Moravskoslezský kraj",
          "Moravskoslezský kraj",
          "Moravskoslezský kraj",
          "Moravskoslezský kraj",
          "Moravskoslezský kraj",
          "Moravskoslezský kraj",
          "Moravskoslezský kraj",
          "Moravskoslezský kraj",
          "Moravskoslezský kraj",
          "Moravskoslezský kraj",
          "Moravskoslezský kraj",
          "Moravskoslezský kraj",
          "Moravskoslezský kraj",
          "Moravskoslezský kraj",
          "Moravskoslezský kraj",
          "Moravskoslezský kraj",
          "Moravskoslezský kraj",
          "Moravskoslezský kraj",
          "Moravskoslezský kraj",
          "Moravskoslezský kraj",
          "Moravskoslezský kraj",
          "Moravskoslezský kraj",
          "Moravskoslezský kraj",
          "Moravskoslezský kraj",
          "Moravskoslezský kraj",
          "Moravskoslezský kraj",
          "Moravskoslezský kraj",
          "Moravskoslezský kraj",
          "Moravskoslezský kraj",
          "Moravskoslezský kraj",
          "Moravskoslezský kraj",
          "Moravskoslezský kraj",
          "Moravskoslezský kraj",
          "Moravskoslezský kraj",
          "Moravskoslezský kraj",
          "Moravskoslezský kraj",
          "Moravskoslezský kraj",
          "Moravskoslezský kraj",
          "Moravskoslezský kraj",
          "Moravskoslezský kraj",
          "Moravskoslezský kraj",
          "Moravskoslezský kraj",
          "Moravskoslezský kraj",
          "Olomoucký kraj",
          "Olomoucký kraj",
          "Olomoucký kraj",
          "Olomoucký kraj",
          "Olomoucký kraj",
          "Olomoucký kraj",
          "Olomoucký kraj",
          "Olomoucký kraj",
          "Olomoucký kraj",
          "Olomoucký kraj",
          "Olomoucký kraj",
          "Olomoucký kraj",
          "Olomoucký kraj",
          "Olomoucký kraj",
          "Olomoucký kraj",
          "Olomoucký kraj",
          "Olomoucký kraj",
          "Olomoucký kraj",
          "Olomoucký kraj",
          "Olomoucký kraj",
          "Olomoucký kraj",
          "Olomoucký kraj",
          "Olomoucký kraj",
          "Olomoucký kraj",
          "Olomoucký kraj",
          "Olomoucký kraj",
          "Olomoucký kraj",
          "Olomoucký kraj",
          "Olomoucký kraj",
          "Olomoucký kraj",
          "Olomoucký kraj",
          "Olomoucký kraj",
          "Olomoucký kraj",
          "Olomoucký kraj",
          "Olomoucký kraj",
          "Olomoucký kraj",
          "Olomoucký kraj",
          "Olomoucký kraj",
          "Olomoucký kraj",
          "Olomoucký kraj",
          "Olomoucký kraj",
          "Olomoucký kraj",
          "Olomoucký kraj",
          "Olomoucký kraj",
          "Olomoucký kraj",
          "Olomoucký kraj",
          "Olomoucký kraj",
          "Olomoucký kraj",
          "Olomoucký kraj",
          "Olomoucký kraj",
          "Olomoucký kraj",
          "Olomoucký kraj",
          "Olomoucký kraj",
          "Olomoucký kraj",
          "Olomoucký kraj",
          "Olomoucký kraj",
          "Olomoucký kraj",
          "Olomoucký kraj",
          "Olomoucký kraj",
          "Olomoucký kraj",
          "Olomoucký kraj",
          "Olomoucký kraj",
          "Olomoucký kraj",
          "Olomoucký kraj",
          "Olomoucký kraj",
          "Olomoucký kraj",
          "Olomoucký kraj",
          "Olomoucký kraj",
          "Olomoucký kraj",
          "Olomoucký kraj",
          "Olomoucký kraj",
          "Olomoucký kraj",
          "Olomoucký kraj",
          "Olomoucký kraj",
          "Olomoucký kraj",
          "Olomoucký kraj",
          "Olomoucký kraj",
          "Olomoucký kraj",
          "Olomoucký kraj",
          "Olomoucký kraj",
          "Olomoucký kraj",
          "Olomoucký kraj",
          "Olomoucký kraj",
          "Olomoucký kraj",
          "Olomoucký kraj",
          "Olomoucký kraj",
          "Olomoucký kraj",
          "Olomoucký kraj",
          "Olomoucký kraj",
          "Olomoucký kraj",
          "Olomoucký kraj",
          "Olomoucký kraj",
          "Pardubický kraj",
          "Pardubický kraj",
          "Pardubický kraj",
          "Pardubický kraj",
          "Pardubický kraj",
          "Pardubický kraj",
          "Pardubický kraj",
          "Pardubický kraj",
          "Pardubický kraj",
          "Pardubický kraj",
          "Pardubický kraj",
          "Pardubický kraj",
          "Pardubický kraj",
          "Pardubický kraj",
          "Pardubický kraj",
          "Pardubický kraj",
          "Pardubický kraj",
          "Pardubický kraj",
          "Pardubický kraj",
          "Pardubický kraj",
          "Pardubický kraj",
          "Pardubický kraj",
          "Pardubický kraj",
          "Pardubický kraj",
          "Pardubický kraj",
          "Pardubický kraj",
          "Pardubický kraj",
          "Pardubický kraj",
          "Pardubický kraj",
          "Pardubický kraj",
          "Pardubický kraj",
          "Pardubický kraj",
          "Pardubický kraj",
          "Pardubický kraj",
          "Pardubický kraj",
          "Pardubický kraj",
          "Pardubický kraj",
          "Pardubický kraj",
          "Pardubický kraj",
          "Pardubický kraj",
          "Pardubický kraj",
          "Pardubický kraj",
          "Pardubický kraj",
          "Pardubický kraj",
          "Pardubický kraj",
          "Pardubický kraj",
          "Pardubický kraj",
          "Pardubický kraj",
          "Pardubický kraj",
          "Pardubický kraj",
          "Pardubický kraj",
          "Pardubický kraj",
          "Pardubický kraj",
          "Pardubický kraj",
          "Pardubický kraj",
          "Pardubický kraj",
          "Pardubický kraj",
          "Pardubický kraj",
          "Pardubický kraj",
          "Pardubický kraj",
          "Pardubický kraj",
          "Pardubický kraj",
          "Pardubický kraj",
          "Pardubický kraj",
          "Pardubický kraj",
          "Pardubický kraj",
          "Pardubický kraj",
          "Pardubický kraj",
          "Pardubický kraj",
          "Pardubický kraj",
          "Pardubický kraj",
          "Pardubický kraj",
          "Pardubický kraj",
          "Pardubický kraj",
          "Pardubický kraj",
          "Pardubický kraj",
          "Pardubický kraj",
          "Pardubický kraj",
          "Pardubický kraj",
          "Pardubický kraj",
          "Plzeňský kraj",
          "Plzeňský kraj",
          "Plzeňský kraj",
          "Plzeňský kraj",
          "Plzeňský kraj",
          "Plzeňský kraj",
          "Plzeňský kraj",
          "Plzeňský kraj",
          "Plzeňský kraj",
          "Plzeňský kraj",
          "Plzeňský kraj",
          "Plzeňský kraj",
          "Plzeňský kraj",
          "Plzeňský kraj",
          "Plzeňský kraj",
          "Plzeňský kraj",
          "Plzeňský kraj",
          "Plzeňský kraj",
          "Plzeňský kraj",
          "Plzeňský kraj",
          "Plzeňský kraj",
          "Plzeňský kraj",
          "Plzeňský kraj",
          "Plzeňský kraj",
          "Plzeňský kraj",
          "Plzeňský kraj",
          "Plzeňský kraj",
          "Plzeňský kraj",
          "Plzeňský kraj",
          "Plzeňský kraj",
          "Plzeňský kraj",
          "Plzeňský kraj",
          "Plzeňský kraj",
          "Plzeňský kraj",
          "Plzeňský kraj",
          "Plzeňský kraj",
          "Plzeňský kraj",
          "Plzeňský kraj",
          "Plzeňský kraj",
          "Plzeňský kraj",
          "Plzeňský kraj",
          "Plzeňský kraj",
          "Plzeňský kraj",
          "Plzeňský kraj",
          "Plzeňský kraj",
          "Plzeňský kraj",
          "Plzeňský kraj",
          "Plzeňský kraj",
          "Plzeňský kraj",
          "Plzeňský kraj",
          "Plzeňský kraj",
          "Plzeňský kraj",
          "Plzeňský kraj",
          "Plzeňský kraj",
          "Plzeňský kraj",
          "Plzeňský kraj",
          "Plzeňský kraj",
          "Plzeňský kraj",
          "Plzeňský kraj",
          "Plzeňský kraj",
          "Plzeňský kraj",
          "Plzeňský kraj",
          "Plzeňský kraj",
          "Plzeňský kraj",
          "Plzeňský kraj",
          "Plzeňský kraj",
          "Plzeňský kraj",
          "Plzeňský kraj",
          "Plzeňský kraj",
          "Plzeňský kraj",
          "Plzeňský kraj",
          "Plzeňský kraj",
          "Plzeňský kraj",
          "Plzeňský kraj",
          "Plzeňský kraj",
          "Plzeňský kraj",
          "Plzeňský kraj",
          "Plzeňský kraj",
          "Plzeňský kraj",
          "Plzeňský kraj",
          "Plzeňský kraj",
          "Plzeňský kraj",
          "Plzeňský kraj",
          "Plzeňský kraj",
          "Plzeňský kraj",
          "Plzeňský kraj",
          "Plzeňský kraj",
          "Plzeňský kraj",
          "Plzeňský kraj",
          "Plzeňský kraj",
          "Plzeňský kraj",
          "Plzeňský kraj",
          "Plzeňský kraj",
          "Plzeňský kraj",
          "Plzeňský kraj",
          "Plzeňský kraj",
          "Plzeňský kraj",
          "Plzeňský kraj",
          "Plzeňský kraj",
          "Plzeňský kraj",
          "Plzeňský kraj",
          "Plzeňský kraj",
          "Středočeský kraj",
          "Středočeský kraj",
          "Středočeský kraj",
          "Středočeský kraj",
          "Středočeský kraj",
          "Středočeský kraj",
          "Středočeský kraj",
          "Středočeský kraj",
          "Středočeský kraj",
          "Středočeský kraj",
          "Středočeský kraj",
          "Středočeský kraj",
          "Středočeský kraj",
          "Středočeský kraj",
          "Středočeský kraj",
          "Středočeský kraj",
          "Středočeský kraj",
          "Středočeský kraj",
          "Středočeský kraj",
          "Středočeský kraj",
          "Středočeský kraj",
          "Středočeský kraj",
          "Středočeský kraj",
          "Středočeský kraj",
          "Středočeský kraj",
          "Středočeský kraj",
          "Středočeský kraj",
          "Středočeský kraj",
          "Středočeský kraj",
          "Středočeský kraj",
          "Středočeský kraj",
          "Středočeský kraj",
          "Středočeský kraj",
          "Středočeský kraj",
          "Středočeský kraj",
          "Středočeský kraj",
          "Středočeský kraj",
          "Středočeský kraj",
          "Středočeský kraj",
          "Středočeský kraj",
          "Středočeský kraj",
          "Středočeský kraj",
          "Středočeský kraj",
          "Středočeský kraj",
          "Středočeský kraj",
          "Středočeský kraj",
          "Středočeský kraj",
          "Středočeský kraj",
          "Středočeský kraj",
          "Středočeský kraj",
          "Středočeský kraj",
          "Středočeský kraj",
          "Středočeský kraj",
          "Středočeský kraj",
          "Středočeský kraj",
          "Středočeský kraj",
          "Středočeský kraj",
          "Středočeský kraj",
          "Středočeský kraj",
          "Středočeský kraj",
          "Středočeský kraj",
          "Středočeský kraj",
          "Středočeský kraj",
          "Středočeský kraj",
          "Středočeský kraj",
          "Středočeský kraj",
          "Středočeský kraj",
          "Středočeský kraj",
          "Středočeský kraj",
          "Středočeský kraj",
          "Středočeský kraj",
          "Středočeský kraj",
          "Středočeský kraj",
          "Středočeský kraj",
          "Středočeský kraj",
          "Středočeský kraj",
          "Středočeský kraj",
          "Středočeský kraj",
          "Středočeský kraj",
          "Středočeský kraj",
          "Středočeský kraj",
          "Středočeský kraj",
          "Středočeský kraj",
          "Středočeský kraj",
          "Středočeský kraj",
          "Středočeský kraj",
          "Středočeský kraj",
          "Středočeský kraj",
          "Středočeský kraj",
          "Středočeský kraj",
          "Středočeský kraj",
          "Středočeský kraj",
          "Středočeský kraj",
          "Středočeský kraj",
          "Středočeský kraj",
          "Středočeský kraj",
          "Středočeský kraj",
          "Středočeský kraj",
          "Středočeský kraj",
          "Středočeský kraj",
          "Středočeský kraj",
          "Středočeský kraj",
          "Středočeský kraj",
          "Středočeský kraj",
          "Středočeský kraj",
          "Středočeský kraj",
          "Středočeský kraj",
          "Středočeský kraj",
          "Středočeský kraj",
          "Středočeský kraj",
          "Středočeský kraj",
          "Středočeský kraj",
          "Středočeský kraj",
          "Středočeský kraj",
          "Středočeský kraj",
          "Středočeský kraj",
          "Středočeský kraj",
          "Středočeský kraj",
          "Středočeský kraj",
          "Středočeský kraj",
          "Středočeský kraj",
          "Středočeský kraj",
          "Středočeský kraj",
          "Středočeský kraj",
          "Středočeský kraj",
          "Středočeský kraj",
          "Středočeský kraj",
          "Středočeský kraj",
          "Středočeský kraj",
          "Zlínský kraj",
          "Zlínský kraj",
          "Zlínský kraj",
          "Zlínský kraj",
          "Zlínský kraj",
          "Zlínský kraj",
          "Zlínský kraj",
          "Zlínský kraj",
          "Zlínský kraj",
          "Zlínský kraj",
          "Zlínský kraj",
          "Zlínský kraj",
          "Zlínský kraj",
          "Zlínský kraj",
          "Zlínský kraj",
          "Zlínský kraj",
          "Zlínský kraj",
          "Zlínský kraj",
          "Zlínský kraj",
          "Zlínský kraj",
          "Zlínský kraj",
          "Zlínský kraj",
          "Zlínský kraj",
          "Zlínský kraj",
          "Zlínský kraj",
          "Zlínský kraj",
          "Zlínský kraj",
          "Zlínský kraj",
          "Zlínský kraj",
          "Zlínský kraj",
          "Zlínský kraj",
          "Zlínský kraj",
          "Zlínský kraj",
          "Zlínský kraj",
          "Zlínský kraj",
          "Zlínský kraj",
          "Zlínský kraj",
          "Zlínský kraj",
          "Zlínský kraj",
          "Zlínský kraj",
          "Zlínský kraj",
          "Zlínský kraj",
          "Zlínský kraj",
          "Zlínský kraj",
          "Zlínský kraj",
          "Zlínský kraj",
          "Zlínský kraj",
          "Zlínský kraj",
          "Zlínský kraj",
          "Zlínský kraj",
          "Zlínský kraj",
          "Zlínský kraj",
          "Zlínský kraj",
          "Zlínský kraj",
          "Zlínský kraj",
          "Zlínský kraj",
          "Zlínský kraj",
          "Zlínský kraj",
          "Zlínský kraj",
          "Zlínský kraj",
          "Zlínský kraj",
          "Zlínský kraj",
          "Zlínský kraj",
          "Zlínský kraj",
          "Zlínský kraj",
          "Zlínský kraj",
          "Zlínský kraj",
          "Zlínský kraj",
          "Zlínský kraj",
          "Zlínský kraj",
          "Zlínský kraj",
          "Zlínský kraj",
          "Zlínský kraj",
          "Zlínský kraj",
          "Zlínský kraj",
          "Zlínský kraj",
          "Zlínský kraj",
          "nezjištěno",
          "nezjištěno",
          "nezjištěno",
          "nezjištěno",
          "nezjištěno",
          "nezjištěno",
          "nezjištěno",
          "nezjištěno",
          "nezjištěno",
          "nezjištěno",
          "nezjištěno",
          "nezjištěno",
          "nezjištěno",
          "nezjištěno",
          "nezjištěno",
          "nezjištěno",
          "nezjištěno",
          "nezjištěno",
          "nezjištěno",
          "nezjištěno",
          "nezjištěno",
          "nezjištěno",
          "nezjištěno",
          "nezjištěno",
          "nezjištěno",
          "nezjištěno",
          "nezjištěno",
          "nezjištěno",
          "nezjištěno",
          "nezjištěno",
          "nezjištěno",
          "nezjištěno",
          "nezjištěno",
          "nezjištěno",
          "Ústecký kraj",
          "Ústecký kraj",
          "Ústecký kraj",
          "Ústecký kraj",
          "Ústecký kraj",
          "Ústecký kraj",
          "Ústecký kraj",
          "Ústecký kraj",
          "Ústecký kraj",
          "Ústecký kraj",
          "Ústecký kraj",
          "Ústecký kraj",
          "Ústecký kraj",
          "Ústecký kraj",
          "Ústecký kraj",
          "Ústecký kraj",
          "Ústecký kraj",
          "Ústecký kraj",
          "Ústecký kraj",
          "Ústecký kraj",
          "Ústecký kraj",
          "Ústecký kraj",
          "Ústecký kraj",
          "Ústecký kraj",
          "Ústecký kraj",
          "Ústecký kraj",
          "Ústecký kraj",
          "Ústecký kraj",
          "Ústecký kraj",
          "Ústecký kraj",
          "Ústecký kraj",
          "Ústecký kraj",
          "Ústecký kraj",
          "Ústecký kraj",
          "Ústecký kraj",
          "Ústecký kraj",
          "Ústecký kraj",
          "Ústecký kraj",
          "Ústecký kraj",
          "Ústecký kraj",
          "Ústecký kraj",
          "Ústecký kraj",
          "Ústecký kraj",
          "Ústecký kraj",
          "Ústecký kraj",
          "Ústecký kraj",
          "Ústecký kraj",
          "Ústecký kraj",
          "Ústecký kraj",
          "Ústecký kraj",
          "Ústecký kraj",
          "Ústecký kraj",
          "Ústecký kraj",
          "Ústecký kraj",
          "Ústecký kraj",
          "Ústecký kraj",
          "Ústecký kraj",
          "Ústecký kraj",
          "Ústecký kraj",
          "Ústecký kraj",
          "Ústecký kraj",
          "Ústecký kraj",
          "Ústecký kraj",
          "Ústecký kraj",
          "Ústecký kraj",
          "Ústecký kraj",
          "Ústecký kraj",
          "Ústecký kraj",
          "Ústecký kraj",
          "Ústecký kraj",
          "Ústecký kraj",
          "Ústecký kraj",
          "Ústecký kraj",
          "Ústecký kraj",
          "Ústecký kraj",
          "Ústecký kraj",
          "Ústecký kraj",
          "Ústecký kraj",
          "Ústecký kraj",
          "Ústecký kraj",
          "Ústecký kraj",
          "Ústecký kraj",
          "Ústecký kraj",
          "Ústecký kraj",
          "Ústecký kraj",
          "Ústecký kraj",
          "Ústecký kraj",
          "Ústecký kraj",
          "Ústecký kraj",
          "Ústecký kraj",
          "Ústecký kraj",
          "Ústecký kraj",
          "Ústecký kraj",
          "Ústecký kraj",
          "Ústecký kraj",
          "Ústecký kraj",
          "Ústecký kraj",
          "Ústecký kraj",
          "Ústecký kraj",
          "Ústecký kraj",
          "Ústecký kraj"
         ],
         "xaxis": "x",
         "y": {
          "bdata": "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",
          "dtype": "f8"
         },
         "yaxis": "y"
        }
       ],
       "layout": {
        "legend": {
         "tracegroupgap": 0
        },
        "margin": {
         "t": 60
        },
        "template": {
         "data": {
          "bar": [
           {
            "error_x": {
             "color": "#2a3f5f"
            },
            "error_y": {
             "color": "#2a3f5f"
            },
            "marker": {
             "line": {
              "color": "#E5ECF6",
              "width": 0.5
             },
             "pattern": {
              "fillmode": "overlay",
              "size": 10,
              "solidity": 0.2
             }
            },
            "type": "bar"
           }
          ],
          "barpolar": [
           {
            "marker": {
             "line": {
              "color": "#E5ECF6",
              "width": 0.5
             },
             "pattern": {
              "fillmode": "overlay",
              "size": 10,
              "solidity": 0.2
             }
            },
            "type": "barpolar"
           }
          ],
          "carpet": [
           {
            "aaxis": {
             "endlinecolor": "#2a3f5f",
             "gridcolor": "white",
             "linecolor": "white",
             "minorgridcolor": "white",
             "startlinecolor": "#2a3f5f"
            },
            "baxis": {
             "endlinecolor": "#2a3f5f",
             "gridcolor": "white",
             "linecolor": "white",
             "minorgridcolor": "white",
             "startlinecolor": "#2a3f5f"
            },
            "type": "carpet"
           }
          ],
          "choropleth": [
           {
            "colorbar": {
             "outlinewidth": 0,
             "ticks": ""
            },
            "type": "choropleth"
           }
          ],
          "contour": [
           {
            "colorbar": {
             "outlinewidth": 0,
             "ticks": ""
            },
            "colorscale": [
             [
              0,
              "#0d0887"
             ],
             [
              0.1111111111111111,
              "#46039f"
             ],
             [
              0.2222222222222222,
              "#7201a8"
             ],
             [
              0.3333333333333333,
              "#9c179e"
             ],
             [
              0.4444444444444444,
              "#bd3786"
             ],
             [
              0.5555555555555556,
              "#d8576b"
             ],
             [
              0.6666666666666666,
              "#ed7953"
             ],
             [
              0.7777777777777778,
              "#fb9f3a"
             ],
             [
              0.8888888888888888,
              "#fdca26"
             ],
             [
              1,
              "#f0f921"
             ]
            ],
            "type": "contour"
           }
          ],
          "contourcarpet": [
           {
            "colorbar": {
             "outlinewidth": 0,
             "ticks": ""
            },
            "type": "contourcarpet"
           }
          ],
          "heatmap": [
           {
            "colorbar": {
             "outlinewidth": 0,
             "ticks": ""
            },
            "colorscale": [
             [
              0,
              "#0d0887"
             ],
             [
              0.1111111111111111,
              "#46039f"
             ],
             [
              0.2222222222222222,
              "#7201a8"
             ],
             [
              0.3333333333333333,
              "#9c179e"
             ],
             [
              0.4444444444444444,
              "#bd3786"
             ],
             [
              0.5555555555555556,
              "#d8576b"
             ],
             [
              0.6666666666666666,
              "#ed7953"
             ],
             [
              0.7777777777777778,
              "#fb9f3a"
             ],
             [
              0.8888888888888888,
              "#fdca26"
             ],
             [
              1,
              "#f0f921"
             ]
            ],
            "type": "heatmap"
           }
          ],
          "histogram": [
           {
            "marker": {
             "pattern": {
              "fillmode": "overlay",
              "size": 10,
              "solidity": 0.2
             }
            },
            "type": "histogram"
           }
          ],
          "histogram2d": [
           {
            "colorbar": {
             "outlinewidth": 0,
             "ticks": ""
            },
            "colorscale": [
             [
              0,
              "#0d0887"
             ],
             [
              0.1111111111111111,
              "#46039f"
             ],
             [
              0.2222222222222222,
              "#7201a8"
             ],
             [
              0.3333333333333333,
              "#9c179e"
             ],
             [
              0.4444444444444444,
              "#bd3786"
             ],
             [
              0.5555555555555556,
              "#d8576b"
             ],
             [
              0.6666666666666666,
              "#ed7953"
             ],
             [
              0.7777777777777778,
              "#fb9f3a"
             ],
             [
              0.8888888888888888,
              "#fdca26"
             ],
             [
              1,
              "#f0f921"
             ]
            ],
            "type": "histogram2d"
           }
          ],
          "histogram2dcontour": [
           {
            "colorbar": {
             "outlinewidth": 0,
             "ticks": ""
            },
            "colorscale": [
             [
              0,
              "#0d0887"
             ],
             [
              0.1111111111111111,
              "#46039f"
             ],
             [
              0.2222222222222222,
              "#7201a8"
             ],
             [
              0.3333333333333333,
              "#9c179e"
             ],
             [
              0.4444444444444444,
              "#bd3786"
             ],
             [
              0.5555555555555556,
              "#d8576b"
             ],
             [
              0.6666666666666666,
              "#ed7953"
             ],
             [
              0.7777777777777778,
              "#fb9f3a"
             ],
             [
              0.8888888888888888,
              "#fdca26"
             ],
             [
              1,
              "#f0f921"
             ]
            ],
            "type": "histogram2dcontour"
           }
          ],
          "mesh3d": [
           {
            "colorbar": {
             "outlinewidth": 0,
             "ticks": ""
            },
            "type": "mesh3d"
           }
          ],
          "parcoords": [
           {
            "line": {
             "colorbar": {
              "outlinewidth": 0,
              "ticks": ""
             }
            },
            "type": "parcoords"
           }
          ],
          "pie": [
           {
            "automargin": true,
            "type": "pie"
           }
          ],
          "scatter": [
           {
            "fillpattern": {
             "fillmode": "overlay",
             "size": 10,
             "solidity": 0.2
            },
            "type": "scatter"
           }
          ],
          "scatter3d": [
           {
            "line": {
             "colorbar": {
              "outlinewidth": 0,
              "ticks": ""
             }
            },
            "marker": {
             "colorbar": {
              "outlinewidth": 0,
              "ticks": ""
             }
            },
            "type": "scatter3d"
           }
          ],
          "scattercarpet": [
           {
            "marker": {
             "colorbar": {
              "outlinewidth": 0,
              "ticks": ""
             }
            },
            "type": "scattercarpet"
           }
          ],
          "scattergeo": [
           {
            "marker": {
             "colorbar": {
              "outlinewidth": 0,
              "ticks": ""
             }
            },
            "type": "scattergeo"
           }
          ],
          "scattergl": [
           {
            "marker": {
             "colorbar": {
              "outlinewidth": 0,
              "ticks": ""
             }
            },
            "type": "scattergl"
           }
          ],
          "scattermap": [
           {
            "marker": {
             "colorbar": {
              "outlinewidth": 0,
              "ticks": ""
             }
            },
            "type": "scattermap"
           }
          ],
          "scattermapbox": [
           {
            "marker": {
             "colorbar": {
              "outlinewidth": 0,
              "ticks": ""
             }
            },
            "type": "scattermapbox"
           }
          ],
          "scatterpolar": [
           {
            "marker": {
             "colorbar": {
              "outlinewidth": 0,
              "ticks": ""
             }
            },
            "type": "scatterpolar"
           }
          ],
          "scatterpolargl": [
           {
            "marker": {
             "colorbar": {
              "outlinewidth": 0,
              "ticks": ""
             }
            },
            "type": "scatterpolargl"
           }
          ],
          "scatterternary": [
           {
            "marker": {
             "colorbar": {
              "outlinewidth": 0,
              "ticks": ""
             }
            },
            "type": "scatterternary"
           }
          ],
          "surface": [
           {
            "colorbar": {
             "outlinewidth": 0,
             "ticks": ""
            },
            "colorscale": [
             [
              0,
              "#0d0887"
             ],
             [
              0.1111111111111111,
              "#46039f"
             ],
             [
              0.2222222222222222,
              "#7201a8"
             ],
             [
              0.3333333333333333,
              "#9c179e"
             ],
             [
              0.4444444444444444,
              "#bd3786"
             ],
             [
              0.5555555555555556,
              "#d8576b"
             ],
             [
              0.6666666666666666,
              "#ed7953"
             ],
             [
              0.7777777777777778,
              "#fb9f3a"
             ],
             [
              0.8888888888888888,
              "#fdca26"
             ],
             [
              1,
              "#f0f921"
             ]
            ],
            "type": "surface"
           }
          ],
          "table": [
           {
            "cells": {
             "fill": {
              "color": "#EBF0F8"
             },
             "line": {
              "color": "white"
             }
            },
            "header": {
             "fill": {
              "color": "#C8D4E3"
             },
             "line": {
              "color": "white"
             }
            },
            "type": "table"
           }
          ]
         },
         "layout": {
          "annotationdefaults": {
           "arrowcolor": "#2a3f5f",
           "arrowhead": 0,
           "arrowwidth": 1
          },
          "autotypenumbers": "strict",
          "coloraxis": {
           "colorbar": {
            "outlinewidth": 0,
            "ticks": ""
           }
          },
          "colorscale": {
           "diverging": [
            [
             0,
             "#8e0152"
            ],
            [
             0.1,
             "#c51b7d"
            ],
            [
             0.2,
             "#de77ae"
            ],
            [
             0.3,
             "#f1b6da"
            ],
            [
             0.4,
             "#fde0ef"
            ],
            [
             0.5,
             "#f7f7f7"
            ],
            [
             0.6,
             "#e6f5d0"
            ],
            [
             0.7,
             "#b8e186"
            ],
            [
             0.8,
             "#7fbc41"
            ],
            [
             0.9,
             "#4d9221"
            ],
            [
             1,
             "#276419"
            ]
           ],
           "sequential": [
            [
             0,
             "#0d0887"
            ],
            [
             0.1111111111111111,
             "#46039f"
            ],
            [
             0.2222222222222222,
             "#7201a8"
            ],
            [
             0.3333333333333333,
             "#9c179e"
            ],
            [
             0.4444444444444444,
             "#bd3786"
            ],
            [
             0.5555555555555556,
             "#d8576b"
            ],
            [
             0.6666666666666666,
             "#ed7953"
            ],
            [
             0.7777777777777778,
             "#fb9f3a"
            ],
            [
             0.8888888888888888,
             "#fdca26"
            ],
            [
             1,
             "#f0f921"
            ]
           ],
           "sequentialminus": [
            [
             0,
             "#0d0887"
            ],
            [
             0.1111111111111111,
             "#46039f"
            ],
            [
             0.2222222222222222,
             "#7201a8"
            ],
            [
             0.3333333333333333,
             "#9c179e"
            ],
            [
             0.4444444444444444,
             "#bd3786"
            ],
            [
             0.5555555555555556,
             "#d8576b"
            ],
            [
             0.6666666666666666,
             "#ed7953"
            ],
            [
             0.7777777777777778,
             "#fb9f3a"
            ],
            [
             0.8888888888888888,
             "#fdca26"
            ],
            [
             1,
             "#f0f921"
            ]
           ]
          },
          "colorway": [
           "#636efa",
           "#EF553B",
           "#00cc96",
           "#ab63fa",
           "#FFA15A",
           "#19d3f3",
           "#FF6692",
           "#B6E880",
           "#FF97FF",
           "#FECB52"
          ],
          "font": {
           "color": "#2a3f5f"
          },
          "geo": {
           "bgcolor": "white",
           "lakecolor": "white",
           "landcolor": "#E5ECF6",
           "showlakes": true,
           "showland": true,
           "subunitcolor": "white"
          },
          "hoverlabel": {
           "align": "left"
          },
          "hovermode": "closest",
          "mapbox": {
           "style": "light"
          },
          "paper_bgcolor": "white",
          "plot_bgcolor": "#E5ECF6",
          "polar": {
           "angularaxis": {
            "gridcolor": "white",
            "linecolor": "white",
            "ticks": ""
           },
           "bgcolor": "#E5ECF6",
           "radialaxis": {
            "gridcolor": "white",
            "linecolor": "white",
            "ticks": ""
           }
          },
          "scene": {
           "xaxis": {
            "backgroundcolor": "#E5ECF6",
            "gridcolor": "white",
            "gridwidth": 2,
            "linecolor": "white",
            "showbackground": true,
            "ticks": "",
            "zerolinecolor": "white"
           },
           "yaxis": {
            "backgroundcolor": "#E5ECF6",
            "gridcolor": "white",
            "gridwidth": 2,
            "linecolor": "white",
            "showbackground": true,
            "ticks": "",
            "zerolinecolor": "white"
           },
           "zaxis": {
            "backgroundcolor": "#E5ECF6",
            "gridcolor": "white",
            "gridwidth": 2,
            "linecolor": "white",
            "showbackground": true,
            "ticks": "",
            "zerolinecolor": "white"
           }
          },
          "shapedefaults": {
           "line": {
            "color": "#2a3f5f"
           }
          },
          "ternary": {
           "aaxis": {
            "gridcolor": "white",
            "linecolor": "white",
            "ticks": ""
           },
           "baxis": {
            "gridcolor": "white",
            "linecolor": "white",
            "ticks": ""
           },
           "bgcolor": "#E5ECF6",
           "caxis": {
            "gridcolor": "white",
            "linecolor": "white",
            "ticks": ""
           }
          },
          "title": {
           "x": 0.05
          },
          "xaxis": {
           "automargin": true,
           "gridcolor": "white",
           "linecolor": "white",
           "ticks": "",
           "title": {
            "standoff": 15
           },
           "zerolinecolor": "white",
           "zerolinewidth": 2
          },
          "yaxis": {
           "automargin": true,
           "gridcolor": "white",
           "linecolor": "white",
           "ticks": "",
           "title": {
            "standoff": 15
           },
           "zerolinecolor": "white",
           "zerolinewidth": 2
          }
         }
        },
        "xaxis": {
         "anchor": "y",
         "domain": [
          0,
          1
         ],
         "title": {
          "text": "kraj"
         }
        },
        "yaxis": {
         "anchor": "x",
         "domain": [
          0,
          1
         ],
         "title": {
          "text": "pocet"
         }
        }
       }
      }
     },
     "metadata": {},
     "output_type": "display_data"
    }
   ],
   "source": [
    "fig = px.line(data_final, x='kraj', y='pocet')\n",
    "fig.show()"
   ]
  },
  {
   "cell_type": "code",
   "execution_count": 67,
   "id": "94bf9680",
   "metadata": {},
   "outputs": [],
   "source": [
    "data_final.to_csv('tabulka.csv')"
   ]
  },
  {
   "cell_type": "code",
   "execution_count": 68,
   "id": "af1e86cb",
   "metadata": {},
   "outputs": [
    {
     "name": "stdout",
     "output_type": "stream",
     "text": [
      "c:\\Program Files\\Microsoft VS Code\n"
     ]
    }
   ],
   "source": [
    "print(os.getcwd())"
   ]
  },
  {
   "cell_type": "code",
   "execution_count": 70,
   "id": "2428bb4f",
   "metadata": {},
   "outputs": [],
   "source": [
    "import seaborn as sns"
   ]
  },
  {
   "cell_type": "code",
   "execution_count": 77,
   "id": "90371b98",
   "metadata": {},
   "outputs": [
    {
     "name": "stdout",
     "output_type": "stream",
     "text": [
      "[nan]\n"
     ]
    }
   ],
   "source": [
    "print(data_final['vek'].unique())"
   ]
  },
  {
   "cell_type": "code",
   "execution_count": 87,
   "id": "216da42c",
   "metadata": {},
   "outputs": [
    {
     "data": {
      "application/vnd.plotly.v1+json": {
       "config": {
        "plotlyServerURL": "https://plot.ly"
       },
       "data": [
        {
         "bingroup": "x",
         "histfunc": "sum",
         "hovertemplate": "kraj=%{x}<br>sum of pocet=%{y}<extra></extra>",
         "legendgroup": "",
         "marker": {
          "color": "#636efa",
          "pattern": {
           "shape": ""
          }
         },
         "name": "",
         "orientation": "v",
         "showlegend": false,
         "type": "histogram",
         "x": [
          "Hlavní město Praha",
          "Hlavní město Praha",
          "Hlavní město Praha",
          "Hlavní město Praha",
          "Hlavní město Praha",
          "Hlavní město Praha",
          "Hlavní město Praha",
          "Hlavní město Praha",
          "Hlavní město Praha",
          "Hlavní město Praha",
          "Hlavní město Praha",
          "Hlavní město Praha",
          "Hlavní město Praha",
          "Hlavní město Praha",
          "Hlavní město Praha",
          "Hlavní město Praha",
          "Hlavní město Praha",
          "Hlavní město Praha",
          "Hlavní město Praha",
          "Hlavní město Praha",
          "Hlavní město Praha",
          "Hlavní město Praha",
          "Hlavní město Praha",
          "Hlavní město Praha",
          "Hlavní město Praha",
          "Hlavní město Praha",
          "Hlavní město Praha",
          "Hlavní město Praha",
          "Hlavní město Praha",
          "Hlavní město Praha",
          "Hlavní město Praha",
          "Hlavní město Praha",
          "Hlavní město Praha",
          "Hlavní město Praha",
          "Hlavní město Praha",
          "Hlavní město Praha",
          "Hlavní město Praha",
          "Hlavní město Praha",
          "Hlavní město Praha",
          "Hlavní město Praha",
          "Hlavní město Praha",
          "Hlavní město Praha",
          "Hlavní město Praha",
          "Hlavní město Praha",
          "Hlavní město Praha",
          "Hlavní město Praha",
          "Hlavní město Praha",
          "Hlavní město Praha",
          "Hlavní město Praha",
          "Hlavní město Praha",
          "Hlavní město Praha",
          "Hlavní město Praha",
          "Hlavní město Praha",
          "Hlavní město Praha",
          "Hlavní město Praha",
          "Hlavní město Praha",
          "Hlavní město Praha",
          "Hlavní město Praha",
          "Hlavní město Praha",
          "Hlavní město Praha",
          "Hlavní město Praha",
          "Hlavní město Praha",
          "Hlavní město Praha",
          "Hlavní město Praha",
          "Hlavní město Praha",
          "Hlavní město Praha",
          "Hlavní město Praha",
          "Hlavní město Praha",
          "Hlavní město Praha",
          "Hlavní město Praha",
          "Hlavní město Praha",
          "Hlavní město Praha",
          "Hlavní město Praha",
          "Hlavní město Praha",
          "Hlavní město Praha",
          "Hlavní město Praha",
          "Hlavní město Praha",
          "Hlavní město Praha",
          "Hlavní město Praha",
          "Hlavní město Praha",
          "Hlavní město Praha",
          "Hlavní město Praha",
          "Hlavní město Praha",
          "Hlavní město Praha",
          "Hlavní město Praha",
          "Hlavní město Praha",
          "Hlavní město Praha",
          "Hlavní město Praha",
          "Hlavní město Praha",
          "Hlavní město Praha",
          "Hlavní město Praha",
          "Hlavní město Praha",
          "Hlavní město Praha",
          "Hlavní město Praha",
          "Hlavní město Praha",
          "Hlavní město Praha",
          "Hlavní město Praha",
          "Hlavní město Praha",
          "Hlavní město Praha",
          "Hlavní město Praha",
          "Hlavní město Praha",
          "Hlavní město Praha",
          "Hlavní město Praha",
          "Hlavní město Praha",
          "Hlavní město Praha",
          "Hlavní město Praha",
          "Hlavní město Praha",
          "Hlavní město Praha",
          "Hlavní město Praha",
          "Hlavní město Praha",
          "Hlavní město Praha",
          "Hlavní město Praha",
          "Hlavní město Praha",
          "Hlavní město Praha",
          "Hlavní město Praha",
          "Hlavní město Praha",
          "Hlavní město Praha",
          "Hlavní město Praha",
          "Hlavní město Praha",
          "Hlavní město Praha",
          "Hlavní město Praha",
          "Hlavní město Praha",
          "Hlavní město Praha",
          "Hlavní město Praha",
          "Hlavní město Praha",
          "Hlavní město Praha",
          "Hlavní město Praha",
          "Hlavní město Praha",
          "Hlavní město Praha",
          "Hlavní město Praha",
          "Hlavní město Praha",
          "Hlavní město Praha",
          "Hlavní město Praha",
          "Hlavní město Praha",
          "Hlavní město Praha",
          "Hlavní město Praha",
          "Hlavní město Praha",
          "Hlavní město Praha",
          "Hlavní město Praha",
          "Hlavní město Praha",
          "Hlavní město Praha",
          "Hlavní město Praha",
          "Hlavní město Praha",
          "Hlavní město Praha",
          "Hlavní město Praha",
          "Hlavní město Praha",
          "Hlavní město Praha",
          "Hlavní město Praha",
          "Hlavní město Praha",
          "Hlavní město Praha",
          "Hlavní město Praha",
          "Hlavní město Praha",
          "Hlavní město Praha",
          "Hlavní město Praha",
          "Hlavní město Praha",
          "Jihomoravský kraj",
          "Jihomoravský kraj",
          "Jihomoravský kraj",
          "Jihomoravský kraj",
          "Jihomoravský kraj",
          "Jihomoravský kraj",
          "Jihomoravský kraj",
          "Jihomoravský kraj",
          "Jihomoravský kraj",
          "Jihomoravský kraj",
          "Jihomoravský kraj",
          "Jihomoravský kraj",
          "Jihomoravský kraj",
          "Jihomoravský kraj",
          "Jihomoravský kraj",
          "Jihomoravský kraj",
          "Jihomoravský kraj",
          "Jihomoravský kraj",
          "Jihomoravský kraj",
          "Jihomoravský kraj",
          "Jihomoravský kraj",
          "Jihomoravský kraj",
          "Jihomoravský kraj",
          "Jihomoravský kraj",
          "Jihomoravský kraj",
          "Jihomoravský kraj",
          "Jihomoravský kraj",
          "Jihomoravský kraj",
          "Jihomoravský kraj",
          "Jihomoravský kraj",
          "Jihomoravský kraj",
          "Jihomoravský kraj",
          "Jihomoravský kraj",
          "Jihomoravský kraj",
          "Jihomoravský kraj",
          "Jihomoravský kraj",
          "Jihomoravský kraj",
          "Jihomoravský kraj",
          "Jihomoravský kraj",
          "Jihomoravský kraj",
          "Jihomoravský kraj",
          "Jihomoravský kraj",
          "Jihomoravský kraj",
          "Jihomoravský kraj",
          "Jihomoravský kraj",
          "Jihomoravský kraj",
          "Jihomoravský kraj",
          "Jihomoravský kraj",
          "Jihomoravský kraj",
          "Jihomoravský kraj",
          "Jihomoravský kraj",
          "Jihomoravský kraj",
          "Jihomoravský kraj",
          "Jihomoravský kraj",
          "Jihomoravský kraj",
          "Jihomoravský kraj",
          "Jihomoravský kraj",
          "Jihomoravský kraj",
          "Jihomoravský kraj",
          "Jihomoravský kraj",
          "Jihomoravský kraj",
          "Jihomoravský kraj",
          "Jihomoravský kraj",
          "Jihomoravský kraj",
          "Jihomoravský kraj",
          "Jihomoravský kraj",
          "Jihomoravský kraj",
          "Jihomoravský kraj",
          "Jihomoravský kraj",
          "Jihomoravský kraj",
          "Jihomoravský kraj",
          "Jihomoravský kraj",
          "Jihomoravský kraj",
          "Jihomoravský kraj",
          "Jihomoravský kraj",
          "Jihomoravský kraj",
          "Jihomoravský kraj",
          "Jihomoravský kraj",
          "Jihomoravský kraj",
          "Jihomoravský kraj",
          "Jihomoravský kraj",
          "Jihomoravský kraj",
          "Jihomoravský kraj",
          "Jihomoravský kraj",
          "Jihomoravský kraj",
          "Jihomoravský kraj",
          "Jihomoravský kraj",
          "Jihomoravský kraj",
          "Jihomoravský kraj",
          "Jihomoravský kraj",
          "Jihomoravský kraj",
          "Jihomoravský kraj",
          "Jihomoravský kraj",
          "Jihomoravský kraj",
          "Jihomoravský kraj",
          "Jihomoravský kraj",
          "Jihomoravský kraj",
          "Jihomoravský kraj",
          "Jihomoravský kraj",
          "Jihomoravský kraj",
          "Jihomoravský kraj",
          "Jihomoravský kraj",
          "Jihomoravský kraj",
          "Jihomoravský kraj",
          "Jihomoravský kraj",
          "Jihomoravský kraj",
          "Jihomoravský kraj",
          "Jihomoravský kraj",
          "Jihomoravský kraj",
          "Jihomoravský kraj",
          "Jihomoravský kraj",
          "Jihomoravský kraj",
          "Jihomoravský kraj",
          "Jihomoravský kraj",
          "Jihomoravský kraj",
          "Jihomoravský kraj",
          "Jihomoravský kraj",
          "Jihomoravský kraj",
          "Jihomoravský kraj",
          "Jihomoravský kraj",
          "Jihomoravský kraj",
          "Jihomoravský kraj",
          "Jihomoravský kraj",
          "Jihomoravský kraj",
          "Jihomoravský kraj",
          "Jihočeský kraj",
          "Jihočeský kraj",
          "Jihočeský kraj",
          "Jihočeský kraj",
          "Jihočeský kraj",
          "Jihočeský kraj",
          "Jihočeský kraj",
          "Jihočeský kraj",
          "Jihočeský kraj",
          "Jihočeský kraj",
          "Jihočeský kraj",
          "Jihočeský kraj",
          "Jihočeský kraj",
          "Jihočeský kraj",
          "Jihočeský kraj",
          "Jihočeský kraj",
          "Jihočeský kraj",
          "Jihočeský kraj",
          "Jihočeský kraj",
          "Jihočeský kraj",
          "Jihočeský kraj",
          "Jihočeský kraj",
          "Jihočeský kraj",
          "Jihočeský kraj",
          "Jihočeský kraj",
          "Jihočeský kraj",
          "Jihočeský kraj",
          "Jihočeský kraj",
          "Jihočeský kraj",
          "Jihočeský kraj",
          "Jihočeský kraj",
          "Jihočeský kraj",
          "Jihočeský kraj",
          "Jihočeský kraj",
          "Jihočeský kraj",
          "Jihočeský kraj",
          "Jihočeský kraj",
          "Jihočeský kraj",
          "Jihočeský kraj",
          "Jihočeský kraj",
          "Jihočeský kraj",
          "Jihočeský kraj",
          "Jihočeský kraj",
          "Jihočeský kraj",
          "Jihočeský kraj",
          "Jihočeský kraj",
          "Jihočeský kraj",
          "Jihočeský kraj",
          "Jihočeský kraj",
          "Jihočeský kraj",
          "Jihočeský kraj",
          "Jihočeský kraj",
          "Jihočeský kraj",
          "Jihočeský kraj",
          "Jihočeský kraj",
          "Jihočeský kraj",
          "Jihočeský kraj",
          "Jihočeský kraj",
          "Jihočeský kraj",
          "Jihočeský kraj",
          "Jihočeský kraj",
          "Jihočeský kraj",
          "Jihočeský kraj",
          "Jihočeský kraj",
          "Jihočeský kraj",
          "Jihočeský kraj",
          "Jihočeský kraj",
          "Jihočeský kraj",
          "Jihočeský kraj",
          "Jihočeský kraj",
          "Jihočeský kraj",
          "Jihočeský kraj",
          "Jihočeský kraj",
          "Jihočeský kraj",
          "Jihočeský kraj",
          "Jihočeský kraj",
          "Jihočeský kraj",
          "Jihočeský kraj",
          "Jihočeský kraj",
          "Jihočeský kraj",
          "Jihočeský kraj",
          "Jihočeský kraj",
          "Jihočeský kraj",
          "Jihočeský kraj",
          "Jihočeský kraj",
          "Jihočeský kraj",
          "Jihočeský kraj",
          "Karlovarský kraj",
          "Karlovarský kraj",
          "Karlovarský kraj",
          "Karlovarský kraj",
          "Karlovarský kraj",
          "Karlovarský kraj",
          "Karlovarský kraj",
          "Karlovarský kraj",
          "Karlovarský kraj",
          "Karlovarský kraj",
          "Karlovarský kraj",
          "Karlovarský kraj",
          "Karlovarský kraj",
          "Karlovarský kraj",
          "Karlovarský kraj",
          "Karlovarský kraj",
          "Karlovarský kraj",
          "Karlovarský kraj",
          "Karlovarský kraj",
          "Karlovarský kraj",
          "Karlovarský kraj",
          "Karlovarský kraj",
          "Karlovarský kraj",
          "Karlovarský kraj",
          "Karlovarský kraj",
          "Karlovarský kraj",
          "Karlovarský kraj",
          "Karlovarský kraj",
          "Karlovarský kraj",
          "Karlovarský kraj",
          "Karlovarský kraj",
          "Karlovarský kraj",
          "Karlovarský kraj",
          "Karlovarský kraj",
          "Karlovarský kraj",
          "Karlovarský kraj",
          "Karlovarský kraj",
          "Karlovarský kraj",
          "Karlovarský kraj",
          "Karlovarský kraj",
          "Karlovarský kraj",
          "Karlovarský kraj",
          "Karlovarský kraj",
          "Karlovarský kraj",
          "Karlovarský kraj",
          "Karlovarský kraj",
          "Karlovarský kraj",
          "Karlovarský kraj",
          "Karlovarský kraj",
          "Karlovarský kraj",
          "Karlovarský kraj",
          "Karlovarský kraj",
          "Karlovarský kraj",
          "Karlovarský kraj",
          "Karlovarský kraj",
          "Karlovarský kraj",
          "Karlovarský kraj",
          "Karlovarský kraj",
          "Karlovarský kraj",
          "Karlovarský kraj",
          "Karlovarský kraj",
          "Karlovarský kraj",
          "Karlovarský kraj",
          "Karlovarský kraj",
          "Karlovarský kraj",
          "Karlovarský kraj",
          "Karlovarský kraj",
          "Karlovarský kraj",
          "Karlovarský kraj",
          "Karlovarský kraj",
          "Karlovarský kraj",
          "Karlovarský kraj",
          "Karlovarský kraj",
          "Karlovarský kraj",
          "Karlovarský kraj",
          "Karlovarský kraj",
          "Karlovarský kraj",
          "Karlovarský kraj",
          "Karlovarský kraj",
          "Karlovarský kraj",
          "Karlovarský kraj",
          "Karlovarský kraj",
          "Karlovarský kraj",
          "Karlovarský kraj",
          "Karlovarský kraj",
          "Karlovarský kraj",
          "Karlovarský kraj",
          "Karlovarský kraj",
          "Karlovarský kraj",
          "Karlovarský kraj",
          "Karlovarský kraj",
          "Karlovarský kraj",
          "Kraj Vysočina",
          "Kraj Vysočina",
          "Kraj Vysočina",
          "Kraj Vysočina",
          "Kraj Vysočina",
          "Kraj Vysočina",
          "Kraj Vysočina",
          "Kraj Vysočina",
          "Kraj Vysočina",
          "Kraj Vysočina",
          "Kraj Vysočina",
          "Kraj Vysočina",
          "Kraj Vysočina",
          "Kraj Vysočina",
          "Kraj Vysočina",
          "Kraj Vysočina",
          "Kraj Vysočina",
          "Kraj Vysočina",
          "Kraj Vysočina",
          "Kraj Vysočina",
          "Kraj Vysočina",
          "Kraj Vysočina",
          "Kraj Vysočina",
          "Kraj Vysočina",
          "Kraj Vysočina",
          "Kraj Vysočina",
          "Kraj Vysočina",
          "Kraj Vysočina",
          "Kraj Vysočina",
          "Kraj Vysočina",
          "Kraj Vysočina",
          "Kraj Vysočina",
          "Kraj Vysočina",
          "Kraj Vysočina",
          "Kraj Vysočina",
          "Kraj Vysočina",
          "Kraj Vysočina",
          "Kraj Vysočina",
          "Kraj Vysočina",
          "Kraj Vysočina",
          "Kraj Vysočina",
          "Kraj Vysočina",
          "Kraj Vysočina",
          "Kraj Vysočina",
          "Kraj Vysočina",
          "Kraj Vysočina",
          "Kraj Vysočina",
          "Kraj Vysočina",
          "Kraj Vysočina",
          "Kraj Vysočina",
          "Kraj Vysočina",
          "Kraj Vysočina",
          "Kraj Vysočina",
          "Kraj Vysočina",
          "Kraj Vysočina",
          "Kraj Vysočina",
          "Kraj Vysočina",
          "Kraj Vysočina",
          "Kraj Vysočina",
          "Kraj Vysočina",
          "Kraj Vysočina",
          "Kraj Vysočina",
          "Královéhradecký kraj",
          "Královéhradecký kraj",
          "Královéhradecký kraj",
          "Královéhradecký kraj",
          "Královéhradecký kraj",
          "Královéhradecký kraj",
          "Královéhradecký kraj",
          "Královéhradecký kraj",
          "Královéhradecký kraj",
          "Královéhradecký kraj",
          "Královéhradecký kraj",
          "Královéhradecký kraj",
          "Královéhradecký kraj",
          "Královéhradecký kraj",
          "Královéhradecký kraj",
          "Královéhradecký kraj",
          "Královéhradecký kraj",
          "Královéhradecký kraj",
          "Královéhradecký kraj",
          "Královéhradecký kraj",
          "Královéhradecký kraj",
          "Královéhradecký kraj",
          "Královéhradecký kraj",
          "Královéhradecký kraj",
          "Královéhradecký kraj",
          "Královéhradecký kraj",
          "Královéhradecký kraj",
          "Královéhradecký kraj",
          "Královéhradecký kraj",
          "Královéhradecký kraj",
          "Královéhradecký kraj",
          "Královéhradecký kraj",
          "Královéhradecký kraj",
          "Královéhradecký kraj",
          "Královéhradecký kraj",
          "Královéhradecký kraj",
          "Královéhradecký kraj",
          "Královéhradecký kraj",
          "Královéhradecký kraj",
          "Královéhradecký kraj",
          "Královéhradecký kraj",
          "Královéhradecký kraj",
          "Královéhradecký kraj",
          "Královéhradecký kraj",
          "Královéhradecký kraj",
          "Královéhradecký kraj",
          "Královéhradecký kraj",
          "Královéhradecký kraj",
          "Královéhradecký kraj",
          "Královéhradecký kraj",
          "Královéhradecký kraj",
          "Královéhradecký kraj",
          "Královéhradecký kraj",
          "Královéhradecký kraj",
          "Královéhradecký kraj",
          "Královéhradecký kraj",
          "Královéhradecký kraj",
          "Královéhradecký kraj",
          "Královéhradecký kraj",
          "Královéhradecký kraj",
          "Královéhradecký kraj",
          "Královéhradecký kraj",
          "Královéhradecký kraj",
          "Královéhradecký kraj",
          "Královéhradecký kraj",
          "Královéhradecký kraj",
          "Královéhradecký kraj",
          "Královéhradecký kraj",
          "Královéhradecký kraj",
          "Královéhradecký kraj",
          "Královéhradecký kraj",
          "Královéhradecký kraj",
          "Královéhradecký kraj",
          "Královéhradecký kraj",
          "Královéhradecký kraj",
          "Královéhradecký kraj",
          "Královéhradecký kraj",
          "Královéhradecký kraj",
          "Královéhradecký kraj",
          "Královéhradecký kraj",
          "Královéhradecký kraj",
          "Královéhradecký kraj",
          "Královéhradecký kraj",
          "Královéhradecký kraj",
          "Královéhradecký kraj",
          "Královéhradecký kraj",
          "Královéhradecký kraj",
          "Královéhradecký kraj",
          "Královéhradecký kraj",
          "Královéhradecký kraj",
          "Královéhradecký kraj",
          "Královéhradecký kraj",
          "Královéhradecký kraj",
          "Královéhradecký kraj",
          "Královéhradecký kraj",
          "Královéhradecký kraj",
          "Královéhradecký kraj",
          "Královéhradecký kraj",
          "Královéhradecký kraj",
          "Liberecký kraj",
          "Liberecký kraj",
          "Liberecký kraj",
          "Liberecký kraj",
          "Liberecký kraj",
          "Liberecký kraj",
          "Liberecký kraj",
          "Liberecký kraj",
          "Liberecký kraj",
          "Liberecký kraj",
          "Liberecký kraj",
          "Liberecký kraj",
          "Liberecký kraj",
          "Liberecký kraj",
          "Liberecký kraj",
          "Liberecký kraj",
          "Liberecký kraj",
          "Liberecký kraj",
          "Liberecký kraj",
          "Liberecký kraj",
          "Liberecký kraj",
          "Liberecký kraj",
          "Liberecký kraj",
          "Liberecký kraj",
          "Liberecký kraj",
          "Liberecký kraj",
          "Liberecký kraj",
          "Liberecký kraj",
          "Liberecký kraj",
          "Liberecký kraj",
          "Liberecký kraj",
          "Liberecký kraj",
          "Liberecký kraj",
          "Liberecký kraj",
          "Liberecký kraj",
          "Liberecký kraj",
          "Liberecký kraj",
          "Liberecký kraj",
          "Liberecký kraj",
          "Liberecký kraj",
          "Liberecký kraj",
          "Liberecký kraj",
          "Liberecký kraj",
          "Liberecký kraj",
          "Liberecký kraj",
          "Liberecký kraj",
          "Liberecký kraj",
          "Liberecký kraj",
          "Liberecký kraj",
          "Liberecký kraj",
          "Liberecký kraj",
          "Liberecký kraj",
          "Liberecký kraj",
          "Liberecký kraj",
          "Liberecký kraj",
          "Liberecký kraj",
          "Liberecký kraj",
          "Liberecký kraj",
          "Liberecký kraj",
          "Liberecký kraj",
          "Liberecký kraj",
          "Liberecký kraj",
          "Liberecký kraj",
          "Liberecký kraj",
          "Liberecký kraj",
          "Liberecký kraj",
          "Liberecký kraj",
          "Liberecký kraj",
          "Liberecký kraj",
          "Liberecký kraj",
          "Liberecký kraj",
          "Liberecký kraj",
          "Liberecký kraj",
          "Liberecký kraj",
          "Liberecký kraj",
          "Liberecký kraj",
          "Liberecký kraj",
          "Liberecký kraj",
          "Liberecký kraj",
          "Liberecký kraj",
          "Liberecký kraj",
          "Liberecký kraj",
          "Liberecký kraj",
          "Liberecký kraj",
          "Liberecký kraj",
          "Liberecký kraj",
          "Liberecký kraj",
          "Liberecký kraj",
          "Liberecký kraj",
          "Liberecký kraj",
          "Liberecký kraj",
          "Liberecký kraj",
          "Liberecký kraj",
          "Liberecký kraj",
          "Liberecký kraj",
          "Liberecký kraj",
          "Liberecký kraj",
          "Moravskoslezský kraj",
          "Moravskoslezský kraj",
          "Moravskoslezský kraj",
          "Moravskoslezský kraj",
          "Moravskoslezský kraj",
          "Moravskoslezský kraj",
          "Moravskoslezský kraj",
          "Moravskoslezský kraj",
          "Moravskoslezský kraj",
          "Moravskoslezský kraj",
          "Moravskoslezský kraj",
          "Moravskoslezský kraj",
          "Moravskoslezský kraj",
          "Moravskoslezský kraj",
          "Moravskoslezský kraj",
          "Moravskoslezský kraj",
          "Moravskoslezský kraj",
          "Moravskoslezský kraj",
          "Moravskoslezský kraj",
          "Moravskoslezský kraj",
          "Moravskoslezský kraj",
          "Moravskoslezský kraj",
          "Moravskoslezský kraj",
          "Moravskoslezský kraj",
          "Moravskoslezský kraj",
          "Moravskoslezský kraj",
          "Moravskoslezský kraj",
          "Moravskoslezský kraj",
          "Moravskoslezský kraj",
          "Moravskoslezský kraj",
          "Moravskoslezský kraj",
          "Moravskoslezský kraj",
          "Moravskoslezský kraj",
          "Moravskoslezský kraj",
          "Moravskoslezský kraj",
          "Moravskoslezský kraj",
          "Moravskoslezský kraj",
          "Moravskoslezský kraj",
          "Moravskoslezský kraj",
          "Moravskoslezský kraj",
          "Moravskoslezský kraj",
          "Moravskoslezský kraj",
          "Moravskoslezský kraj",
          "Moravskoslezský kraj",
          "Moravskoslezský kraj",
          "Moravskoslezský kraj",
          "Moravskoslezský kraj",
          "Moravskoslezský kraj",
          "Moravskoslezský kraj",
          "Moravskoslezský kraj",
          "Moravskoslezský kraj",
          "Moravskoslezský kraj",
          "Moravskoslezský kraj",
          "Moravskoslezský kraj",
          "Moravskoslezský kraj",
          "Moravskoslezský kraj",
          "Moravskoslezský kraj",
          "Moravskoslezský kraj",
          "Moravskoslezský kraj",
          "Moravskoslezský kraj",
          "Moravskoslezský kraj",
          "Moravskoslezský kraj",
          "Moravskoslezský kraj",
          "Moravskoslezský kraj",
          "Moravskoslezský kraj",
          "Moravskoslezský kraj",
          "Moravskoslezský kraj",
          "Moravskoslezský kraj",
          "Moravskoslezský kraj",
          "Moravskoslezský kraj",
          "Moravskoslezský kraj",
          "Moravskoslezský kraj",
          "Moravskoslezský kraj",
          "Moravskoslezský kraj",
          "Moravskoslezský kraj",
          "Moravskoslezský kraj",
          "Moravskoslezský kraj",
          "Moravskoslezský kraj",
          "Moravskoslezský kraj",
          "Moravskoslezský kraj",
          "Moravskoslezský kraj",
          "Moravskoslezský kraj",
          "Moravskoslezský kraj",
          "Moravskoslezský kraj",
          "Moravskoslezský kraj",
          "Moravskoslezský kraj",
          "Moravskoslezský kraj",
          "Moravskoslezský kraj",
          "Moravskoslezský kraj",
          "Moravskoslezský kraj",
          "Moravskoslezský kraj",
          "Moravskoslezský kraj",
          "Moravskoslezský kraj",
          "Moravskoslezský kraj",
          "Moravskoslezský kraj",
          "Moravskoslezský kraj",
          "Moravskoslezský kraj",
          "Moravskoslezský kraj",
          "Moravskoslezský kraj",
          "Moravskoslezský kraj",
          "Olomoucký kraj",
          "Olomoucký kraj",
          "Olomoucký kraj",
          "Olomoucký kraj",
          "Olomoucký kraj",
          "Olomoucký kraj",
          "Olomoucký kraj",
          "Olomoucký kraj",
          "Olomoucký kraj",
          "Olomoucký kraj",
          "Olomoucký kraj",
          "Olomoucký kraj",
          "Olomoucký kraj",
          "Olomoucký kraj",
          "Olomoucký kraj",
          "Olomoucký kraj",
          "Olomoucký kraj",
          "Olomoucký kraj",
          "Olomoucký kraj",
          "Olomoucký kraj",
          "Olomoucký kraj",
          "Olomoucký kraj",
          "Olomoucký kraj",
          "Olomoucký kraj",
          "Olomoucký kraj",
          "Olomoucký kraj",
          "Olomoucký kraj",
          "Olomoucký kraj",
          "Olomoucký kraj",
          "Olomoucký kraj",
          "Olomoucký kraj",
          "Olomoucký kraj",
          "Olomoucký kraj",
          "Olomoucký kraj",
          "Olomoucký kraj",
          "Olomoucký kraj",
          "Olomoucký kraj",
          "Olomoucký kraj",
          "Olomoucký kraj",
          "Olomoucký kraj",
          "Olomoucký kraj",
          "Olomoucký kraj",
          "Olomoucký kraj",
          "Olomoucký kraj",
          "Olomoucký kraj",
          "Olomoucký kraj",
          "Olomoucký kraj",
          "Olomoucký kraj",
          "Olomoucký kraj",
          "Olomoucký kraj",
          "Olomoucký kraj",
          "Olomoucký kraj",
          "Olomoucký kraj",
          "Olomoucký kraj",
          "Olomoucký kraj",
          "Olomoucký kraj",
          "Olomoucký kraj",
          "Olomoucký kraj",
          "Olomoucký kraj",
          "Olomoucký kraj",
          "Olomoucký kraj",
          "Olomoucký kraj",
          "Olomoucký kraj",
          "Olomoucký kraj",
          "Olomoucký kraj",
          "Olomoucký kraj",
          "Olomoucký kraj",
          "Olomoucký kraj",
          "Olomoucký kraj",
          "Olomoucký kraj",
          "Olomoucký kraj",
          "Olomoucký kraj",
          "Olomoucký kraj",
          "Olomoucký kraj",
          "Olomoucký kraj",
          "Olomoucký kraj",
          "Olomoucký kraj",
          "Olomoucký kraj",
          "Olomoucký kraj",
          "Olomoucký kraj",
          "Olomoucký kraj",
          "Olomoucký kraj",
          "Olomoucký kraj",
          "Olomoucký kraj",
          "Olomoucký kraj",
          "Olomoucký kraj",
          "Olomoucký kraj",
          "Olomoucký kraj",
          "Olomoucký kraj",
          "Olomoucký kraj",
          "Olomoucký kraj",
          "Olomoucký kraj",
          "Pardubický kraj",
          "Pardubický kraj",
          "Pardubický kraj",
          "Pardubický kraj",
          "Pardubický kraj",
          "Pardubický kraj",
          "Pardubický kraj",
          "Pardubický kraj",
          "Pardubický kraj",
          "Pardubický kraj",
          "Pardubický kraj",
          "Pardubický kraj",
          "Pardubický kraj",
          "Pardubický kraj",
          "Pardubický kraj",
          "Pardubický kraj",
          "Pardubický kraj",
          "Pardubický kraj",
          "Pardubický kraj",
          "Pardubický kraj",
          "Pardubický kraj",
          "Pardubický kraj",
          "Pardubický kraj",
          "Pardubický kraj",
          "Pardubický kraj",
          "Pardubický kraj",
          "Pardubický kraj",
          "Pardubický kraj",
          "Pardubický kraj",
          "Pardubický kraj",
          "Pardubický kraj",
          "Pardubický kraj",
          "Pardubický kraj",
          "Pardubický kraj",
          "Pardubický kraj",
          "Pardubický kraj",
          "Pardubický kraj",
          "Pardubický kraj",
          "Pardubický kraj",
          "Pardubický kraj",
          "Pardubický kraj",
          "Pardubický kraj",
          "Pardubický kraj",
          "Pardubický kraj",
          "Pardubický kraj",
          "Pardubický kraj",
          "Pardubický kraj",
          "Pardubický kraj",
          "Pardubický kraj",
          "Pardubický kraj",
          "Pardubický kraj",
          "Pardubický kraj",
          "Pardubický kraj",
          "Pardubický kraj",
          "Pardubický kraj",
          "Pardubický kraj",
          "Pardubický kraj",
          "Pardubický kraj",
          "Pardubický kraj",
          "Pardubický kraj",
          "Pardubický kraj",
          "Pardubický kraj",
          "Pardubický kraj",
          "Pardubický kraj",
          "Pardubický kraj",
          "Pardubický kraj",
          "Pardubický kraj",
          "Pardubický kraj",
          "Pardubický kraj",
          "Pardubický kraj",
          "Pardubický kraj",
          "Pardubický kraj",
          "Pardubický kraj",
          "Pardubický kraj",
          "Pardubický kraj",
          "Pardubický kraj",
          "Pardubický kraj",
          "Pardubický kraj",
          "Pardubický kraj",
          "Pardubický kraj",
          "Plzeňský kraj",
          "Plzeňský kraj",
          "Plzeňský kraj",
          "Plzeňský kraj",
          "Plzeňský kraj",
          "Plzeňský kraj",
          "Plzeňský kraj",
          "Plzeňský kraj",
          "Plzeňský kraj",
          "Plzeňský kraj",
          "Plzeňský kraj",
          "Plzeňský kraj",
          "Plzeňský kraj",
          "Plzeňský kraj",
          "Plzeňský kraj",
          "Plzeňský kraj",
          "Plzeňský kraj",
          "Plzeňský kraj",
          "Plzeňský kraj",
          "Plzeňský kraj",
          "Plzeňský kraj",
          "Plzeňský kraj",
          "Plzeňský kraj",
          "Plzeňský kraj",
          "Plzeňský kraj",
          "Plzeňský kraj",
          "Plzeňský kraj",
          "Plzeňský kraj",
          "Plzeňský kraj",
          "Plzeňský kraj",
          "Plzeňský kraj",
          "Plzeňský kraj",
          "Plzeňský kraj",
          "Plzeňský kraj",
          "Plzeňský kraj",
          "Plzeňský kraj",
          "Plzeňský kraj",
          "Plzeňský kraj",
          "Plzeňský kraj",
          "Plzeňský kraj",
          "Plzeňský kraj",
          "Plzeňský kraj",
          "Plzeňský kraj",
          "Plzeňský kraj",
          "Plzeňský kraj",
          "Plzeňský kraj",
          "Plzeňský kraj",
          "Plzeňský kraj",
          "Plzeňský kraj",
          "Plzeňský kraj",
          "Plzeňský kraj",
          "Plzeňský kraj",
          "Plzeňský kraj",
          "Plzeňský kraj",
          "Plzeňský kraj",
          "Plzeňský kraj",
          "Plzeňský kraj",
          "Plzeňský kraj",
          "Plzeňský kraj",
          "Plzeňský kraj",
          "Plzeňský kraj",
          "Plzeňský kraj",
          "Plzeňský kraj",
          "Plzeňský kraj",
          "Plzeňský kraj",
          "Plzeňský kraj",
          "Plzeňský kraj",
          "Plzeňský kraj",
          "Plzeňský kraj",
          "Plzeňský kraj",
          "Plzeňský kraj",
          "Plzeňský kraj",
          "Plzeňský kraj",
          "Plzeňský kraj",
          "Plzeňský kraj",
          "Plzeňský kraj",
          "Plzeňský kraj",
          "Plzeňský kraj",
          "Plzeňský kraj",
          "Plzeňský kraj",
          "Plzeňský kraj",
          "Plzeňský kraj",
          "Plzeňský kraj",
          "Plzeňský kraj",
          "Plzeňský kraj",
          "Plzeňský kraj",
          "Plzeňský kraj",
          "Plzeňský kraj",
          "Plzeňský kraj",
          "Plzeňský kraj",
          "Plzeňský kraj",
          "Plzeňský kraj",
          "Plzeňský kraj",
          "Plzeňský kraj",
          "Plzeňský kraj",
          "Plzeňský kraj",
          "Plzeňský kraj",
          "Plzeňský kraj",
          "Plzeňský kraj",
          "Plzeňský kraj",
          "Plzeňský kraj",
          "Plzeňský kraj",
          "Středočeský kraj",
          "Středočeský kraj",
          "Středočeský kraj",
          "Středočeský kraj",
          "Středočeský kraj",
          "Středočeský kraj",
          "Středočeský kraj",
          "Středočeský kraj",
          "Středočeský kraj",
          "Středočeský kraj",
          "Středočeský kraj",
          "Středočeský kraj",
          "Středočeský kraj",
          "Středočeský kraj",
          "Středočeský kraj",
          "Středočeský kraj",
          "Středočeský kraj",
          "Středočeský kraj",
          "Středočeský kraj",
          "Středočeský kraj",
          "Středočeský kraj",
          "Středočeský kraj",
          "Středočeský kraj",
          "Středočeský kraj",
          "Středočeský kraj",
          "Středočeský kraj",
          "Středočeský kraj",
          "Středočeský kraj",
          "Středočeský kraj",
          "Středočeský kraj",
          "Středočeský kraj",
          "Středočeský kraj",
          "Středočeský kraj",
          "Středočeský kraj",
          "Středočeský kraj",
          "Středočeský kraj",
          "Středočeský kraj",
          "Středočeský kraj",
          "Středočeský kraj",
          "Středočeský kraj",
          "Středočeský kraj",
          "Středočeský kraj",
          "Středočeský kraj",
          "Středočeský kraj",
          "Středočeský kraj",
          "Středočeský kraj",
          "Středočeský kraj",
          "Středočeský kraj",
          "Středočeský kraj",
          "Středočeský kraj",
          "Středočeský kraj",
          "Středočeský kraj",
          "Středočeský kraj",
          "Středočeský kraj",
          "Středočeský kraj",
          "Středočeský kraj",
          "Středočeský kraj",
          "Středočeský kraj",
          "Středočeský kraj",
          "Středočeský kraj",
          "Středočeský kraj",
          "Středočeský kraj",
          "Středočeský kraj",
          "Středočeský kraj",
          "Středočeský kraj",
          "Středočeský kraj",
          "Středočeský kraj",
          "Středočeský kraj",
          "Středočeský kraj",
          "Středočeský kraj",
          "Středočeský kraj",
          "Středočeský kraj",
          "Středočeský kraj",
          "Středočeský kraj",
          "Středočeský kraj",
          "Středočeský kraj",
          "Středočeský kraj",
          "Středočeský kraj",
          "Středočeský kraj",
          "Středočeský kraj",
          "Středočeský kraj",
          "Středočeský kraj",
          "Středočeský kraj",
          "Středočeský kraj",
          "Středočeský kraj",
          "Středočeský kraj",
          "Středočeský kraj",
          "Středočeský kraj",
          "Středočeský kraj",
          "Středočeský kraj",
          "Středočeský kraj",
          "Středočeský kraj",
          "Středočeský kraj",
          "Středočeský kraj",
          "Středočeský kraj",
          "Středočeský kraj",
          "Středočeský kraj",
          "Středočeský kraj",
          "Středočeský kraj",
          "Středočeský kraj",
          "Středočeský kraj",
          "Středočeský kraj",
          "Středočeský kraj",
          "Středočeský kraj",
          "Středočeský kraj",
          "Středočeský kraj",
          "Středočeský kraj",
          "Středočeský kraj",
          "Středočeský kraj",
          "Středočeský kraj",
          "Středočeský kraj",
          "Středočeský kraj",
          "Středočeský kraj",
          "Středočeský kraj",
          "Středočeský kraj",
          "Středočeský kraj",
          "Středočeský kraj",
          "Středočeský kraj",
          "Středočeský kraj",
          "Středočeský kraj",
          "Středočeský kraj",
          "Středočeský kraj",
          "Středočeský kraj",
          "Středočeský kraj",
          "Středočeský kraj",
          "Středočeský kraj",
          "Středočeský kraj",
          "Středočeský kraj",
          "Středočeský kraj",
          "Zlínský kraj",
          "Zlínský kraj",
          "Zlínský kraj",
          "Zlínský kraj",
          "Zlínský kraj",
          "Zlínský kraj",
          "Zlínský kraj",
          "Zlínský kraj",
          "Zlínský kraj",
          "Zlínský kraj",
          "Zlínský kraj",
          "Zlínský kraj",
          "Zlínský kraj",
          "Zlínský kraj",
          "Zlínský kraj",
          "Zlínský kraj",
          "Zlínský kraj",
          "Zlínský kraj",
          "Zlínský kraj",
          "Zlínský kraj",
          "Zlínský kraj",
          "Zlínský kraj",
          "Zlínský kraj",
          "Zlínský kraj",
          "Zlínský kraj",
          "Zlínský kraj",
          "Zlínský kraj",
          "Zlínský kraj",
          "Zlínský kraj",
          "Zlínský kraj",
          "Zlínský kraj",
          "Zlínský kraj",
          "Zlínský kraj",
          "Zlínský kraj",
          "Zlínský kraj",
          "Zlínský kraj",
          "Zlínský kraj",
          "Zlínský kraj",
          "Zlínský kraj",
          "Zlínský kraj",
          "Zlínský kraj",
          "Zlínský kraj",
          "Zlínský kraj",
          "Zlínský kraj",
          "Zlínský kraj",
          "Zlínský kraj",
          "Zlínský kraj",
          "Zlínský kraj",
          "Zlínský kraj",
          "Zlínský kraj",
          "Zlínský kraj",
          "Zlínský kraj",
          "Zlínský kraj",
          "Zlínský kraj",
          "Zlínský kraj",
          "Zlínský kraj",
          "Zlínský kraj",
          "Zlínský kraj",
          "Zlínský kraj",
          "Zlínský kraj",
          "Zlínský kraj",
          "Zlínský kraj",
          "Zlínský kraj",
          "Zlínský kraj",
          "Zlínský kraj",
          "Zlínský kraj",
          "Zlínský kraj",
          "Zlínský kraj",
          "Zlínský kraj",
          "Zlínský kraj",
          "Zlínský kraj",
          "Zlínský kraj",
          "Zlínský kraj",
          "Zlínský kraj",
          "Zlínský kraj",
          "Zlínský kraj",
          "Zlínský kraj",
          "nezjištěno",
          "nezjištěno",
          "nezjištěno",
          "nezjištěno",
          "nezjištěno",
          "nezjištěno",
          "nezjištěno",
          "nezjištěno",
          "nezjištěno",
          "nezjištěno",
          "nezjištěno",
          "nezjištěno",
          "nezjištěno",
          "nezjištěno",
          "nezjištěno",
          "nezjištěno",
          "nezjištěno",
          "nezjištěno",
          "nezjištěno",
          "nezjištěno",
          "nezjištěno",
          "nezjištěno",
          "nezjištěno",
          "nezjištěno",
          "nezjištěno",
          "nezjištěno",
          "nezjištěno",
          "nezjištěno",
          "nezjištěno",
          "nezjištěno",
          "nezjištěno",
          "nezjištěno",
          "nezjištěno",
          "nezjištěno",
          "Ústecký kraj",
          "Ústecký kraj",
          "Ústecký kraj",
          "Ústecký kraj",
          "Ústecký kraj",
          "Ústecký kraj",
          "Ústecký kraj",
          "Ústecký kraj",
          "Ústecký kraj",
          "Ústecký kraj",
          "Ústecký kraj",
          "Ústecký kraj",
          "Ústecký kraj",
          "Ústecký kraj",
          "Ústecký kraj",
          "Ústecký kraj",
          "Ústecký kraj",
          "Ústecký kraj",
          "Ústecký kraj",
          "Ústecký kraj",
          "Ústecký kraj",
          "Ústecký kraj",
          "Ústecký kraj",
          "Ústecký kraj",
          "Ústecký kraj",
          "Ústecký kraj",
          "Ústecký kraj",
          "Ústecký kraj",
          "Ústecký kraj",
          "Ústecký kraj",
          "Ústecký kraj",
          "Ústecký kraj",
          "Ústecký kraj",
          "Ústecký kraj",
          "Ústecký kraj",
          "Ústecký kraj",
          "Ústecký kraj",
          "Ústecký kraj",
          "Ústecký kraj",
          "Ústecký kraj",
          "Ústecký kraj",
          "Ústecký kraj",
          "Ústecký kraj",
          "Ústecký kraj",
          "Ústecký kraj",
          "Ústecký kraj",
          "Ústecký kraj",
          "Ústecký kraj",
          "Ústecký kraj",
          "Ústecký kraj",
          "Ústecký kraj",
          "Ústecký kraj",
          "Ústecký kraj",
          "Ústecký kraj",
          "Ústecký kraj",
          "Ústecký kraj",
          "Ústecký kraj",
          "Ústecký kraj",
          "Ústecký kraj",
          "Ústecký kraj",
          "Ústecký kraj",
          "Ústecký kraj",
          "Ústecký kraj",
          "Ústecký kraj",
          "Ústecký kraj",
          "Ústecký kraj",
          "Ústecký kraj",
          "Ústecký kraj",
          "Ústecký kraj",
          "Ústecký kraj",
          "Ústecký kraj",
          "Ústecký kraj",
          "Ústecký kraj",
          "Ústecký kraj",
          "Ústecký kraj",
          "Ústecký kraj",
          "Ústecký kraj",
          "Ústecký kraj",
          "Ústecký kraj",
          "Ústecký kraj",
          "Ústecký kraj",
          "Ústecký kraj",
          "Ústecký kraj",
          "Ústecký kraj",
          "Ústecký kraj",
          "Ústecký kraj",
          "Ústecký kraj",
          "Ústecký kraj",
          "Ústecký kraj",
          "Ústecký kraj",
          "Ústecký kraj",
          "Ústecký kraj",
          "Ústecký kraj",
          "Ústecký kraj",
          "Ústecký kraj",
          "Ústecký kraj",
          "Ústecký kraj",
          "Ústecký kraj",
          "Ústecký kraj",
          "Ústecký kraj",
          "Ústecký kraj"
         ],
         "xaxis": "x",
         "y": {
          "bdata": "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",
          "dtype": "f8"
         },
         "yaxis": "y"
        }
       ],
       "layout": {
        "barmode": "relative",
        "legend": {
         "tracegroupgap": 0
        },
        "margin": {
         "t": 60
        },
        "template": {
         "data": {
          "bar": [
           {
            "error_x": {
             "color": "#2a3f5f"
            },
            "error_y": {
             "color": "#2a3f5f"
            },
            "marker": {
             "line": {
              "color": "#E5ECF6",
              "width": 0.5
             },
             "pattern": {
              "fillmode": "overlay",
              "size": 10,
              "solidity": 0.2
             }
            },
            "type": "bar"
           }
          ],
          "barpolar": [
           {
            "marker": {
             "line": {
              "color": "#E5ECF6",
              "width": 0.5
             },
             "pattern": {
              "fillmode": "overlay",
              "size": 10,
              "solidity": 0.2
             }
            },
            "type": "barpolar"
           }
          ],
          "carpet": [
           {
            "aaxis": {
             "endlinecolor": "#2a3f5f",
             "gridcolor": "white",
             "linecolor": "white",
             "minorgridcolor": "white",
             "startlinecolor": "#2a3f5f"
            },
            "baxis": {
             "endlinecolor": "#2a3f5f",
             "gridcolor": "white",
             "linecolor": "white",
             "minorgridcolor": "white",
             "startlinecolor": "#2a3f5f"
            },
            "type": "carpet"
           }
          ],
          "choropleth": [
           {
            "colorbar": {
             "outlinewidth": 0,
             "ticks": ""
            },
            "type": "choropleth"
           }
          ],
          "contour": [
           {
            "colorbar": {
             "outlinewidth": 0,
             "ticks": ""
            },
            "colorscale": [
             [
              0,
              "#0d0887"
             ],
             [
              0.1111111111111111,
              "#46039f"
             ],
             [
              0.2222222222222222,
              "#7201a8"
             ],
             [
              0.3333333333333333,
              "#9c179e"
             ],
             [
              0.4444444444444444,
              "#bd3786"
             ],
             [
              0.5555555555555556,
              "#d8576b"
             ],
             [
              0.6666666666666666,
              "#ed7953"
             ],
             [
              0.7777777777777778,
              "#fb9f3a"
             ],
             [
              0.8888888888888888,
              "#fdca26"
             ],
             [
              1,
              "#f0f921"
             ]
            ],
            "type": "contour"
           }
          ],
          "contourcarpet": [
           {
            "colorbar": {
             "outlinewidth": 0,
             "ticks": ""
            },
            "type": "contourcarpet"
           }
          ],
          "heatmap": [
           {
            "colorbar": {
             "outlinewidth": 0,
             "ticks": ""
            },
            "colorscale": [
             [
              0,
              "#0d0887"
             ],
             [
              0.1111111111111111,
              "#46039f"
             ],
             [
              0.2222222222222222,
              "#7201a8"
             ],
             [
              0.3333333333333333,
              "#9c179e"
             ],
             [
              0.4444444444444444,
              "#bd3786"
             ],
             [
              0.5555555555555556,
              "#d8576b"
             ],
             [
              0.6666666666666666,
              "#ed7953"
             ],
             [
              0.7777777777777778,
              "#fb9f3a"
             ],
             [
              0.8888888888888888,
              "#fdca26"
             ],
             [
              1,
              "#f0f921"
             ]
            ],
            "type": "heatmap"
           }
          ],
          "histogram": [
           {
            "marker": {
             "pattern": {
              "fillmode": "overlay",
              "size": 10,
              "solidity": 0.2
             }
            },
            "type": "histogram"
           }
          ],
          "histogram2d": [
           {
            "colorbar": {
             "outlinewidth": 0,
             "ticks": ""
            },
            "colorscale": [
             [
              0,
              "#0d0887"
             ],
             [
              0.1111111111111111,
              "#46039f"
             ],
             [
              0.2222222222222222,
              "#7201a8"
             ],
             [
              0.3333333333333333,
              "#9c179e"
             ],
             [
              0.4444444444444444,
              "#bd3786"
             ],
             [
              0.5555555555555556,
              "#d8576b"
             ],
             [
              0.6666666666666666,
              "#ed7953"
             ],
             [
              0.7777777777777778,
              "#fb9f3a"
             ],
             [
              0.8888888888888888,
              "#fdca26"
             ],
             [
              1,
              "#f0f921"
             ]
            ],
            "type": "histogram2d"
           }
          ],
          "histogram2dcontour": [
           {
            "colorbar": {
             "outlinewidth": 0,
             "ticks": ""
            },
            "colorscale": [
             [
              0,
              "#0d0887"
             ],
             [
              0.1111111111111111,
              "#46039f"
             ],
             [
              0.2222222222222222,
              "#7201a8"
             ],
             [
              0.3333333333333333,
              "#9c179e"
             ],
             [
              0.4444444444444444,
              "#bd3786"
             ],
             [
              0.5555555555555556,
              "#d8576b"
             ],
             [
              0.6666666666666666,
              "#ed7953"
             ],
             [
              0.7777777777777778,
              "#fb9f3a"
             ],
             [
              0.8888888888888888,
              "#fdca26"
             ],
             [
              1,
              "#f0f921"
             ]
            ],
            "type": "histogram2dcontour"
           }
          ],
          "mesh3d": [
           {
            "colorbar": {
             "outlinewidth": 0,
             "ticks": ""
            },
            "type": "mesh3d"
           }
          ],
          "parcoords": [
           {
            "line": {
             "colorbar": {
              "outlinewidth": 0,
              "ticks": ""
             }
            },
            "type": "parcoords"
           }
          ],
          "pie": [
           {
            "automargin": true,
            "type": "pie"
           }
          ],
          "scatter": [
           {
            "fillpattern": {
             "fillmode": "overlay",
             "size": 10,
             "solidity": 0.2
            },
            "type": "scatter"
           }
          ],
          "scatter3d": [
           {
            "line": {
             "colorbar": {
              "outlinewidth": 0,
              "ticks": ""
             }
            },
            "marker": {
             "colorbar": {
              "outlinewidth": 0,
              "ticks": ""
             }
            },
            "type": "scatter3d"
           }
          ],
          "scattercarpet": [
           {
            "marker": {
             "colorbar": {
              "outlinewidth": 0,
              "ticks": ""
             }
            },
            "type": "scattercarpet"
           }
          ],
          "scattergeo": [
           {
            "marker": {
             "colorbar": {
              "outlinewidth": 0,
              "ticks": ""
             }
            },
            "type": "scattergeo"
           }
          ],
          "scattergl": [
           {
            "marker": {
             "colorbar": {
              "outlinewidth": 0,
              "ticks": ""
             }
            },
            "type": "scattergl"
           }
          ],
          "scattermap": [
           {
            "marker": {
             "colorbar": {
              "outlinewidth": 0,
              "ticks": ""
             }
            },
            "type": "scattermap"
           }
          ],
          "scattermapbox": [
           {
            "marker": {
             "colorbar": {
              "outlinewidth": 0,
              "ticks": ""
             }
            },
            "type": "scattermapbox"
           }
          ],
          "scatterpolar": [
           {
            "marker": {
             "colorbar": {
              "outlinewidth": 0,
              "ticks": ""
             }
            },
            "type": "scatterpolar"
           }
          ],
          "scatterpolargl": [
           {
            "marker": {
             "colorbar": {
              "outlinewidth": 0,
              "ticks": ""
             }
            },
            "type": "scatterpolargl"
           }
          ],
          "scatterternary": [
           {
            "marker": {
             "colorbar": {
              "outlinewidth": 0,
              "ticks": ""
             }
            },
            "type": "scatterternary"
           }
          ],
          "surface": [
           {
            "colorbar": {
             "outlinewidth": 0,
             "ticks": ""
            },
            "colorscale": [
             [
              0,
              "#0d0887"
             ],
             [
              0.1111111111111111,
              "#46039f"
             ],
             [
              0.2222222222222222,
              "#7201a8"
             ],
             [
              0.3333333333333333,
              "#9c179e"
             ],
             [
              0.4444444444444444,
              "#bd3786"
             ],
             [
              0.5555555555555556,
              "#d8576b"
             ],
             [
              0.6666666666666666,
              "#ed7953"
             ],
             [
              0.7777777777777778,
              "#fb9f3a"
             ],
             [
              0.8888888888888888,
              "#fdca26"
             ],
             [
              1,
              "#f0f921"
             ]
            ],
            "type": "surface"
           }
          ],
          "table": [
           {
            "cells": {
             "fill": {
              "color": "#EBF0F8"
             },
             "line": {
              "color": "white"
             }
            },
            "header": {
             "fill": {
              "color": "#C8D4E3"
             },
             "line": {
              "color": "white"
             }
            },
            "type": "table"
           }
          ]
         },
         "layout": {
          "annotationdefaults": {
           "arrowcolor": "#2a3f5f",
           "arrowhead": 0,
           "arrowwidth": 1
          },
          "autotypenumbers": "strict",
          "coloraxis": {
           "colorbar": {
            "outlinewidth": 0,
            "ticks": ""
           }
          },
          "colorscale": {
           "diverging": [
            [
             0,
             "#8e0152"
            ],
            [
             0.1,
             "#c51b7d"
            ],
            [
             0.2,
             "#de77ae"
            ],
            [
             0.3,
             "#f1b6da"
            ],
            [
             0.4,
             "#fde0ef"
            ],
            [
             0.5,
             "#f7f7f7"
            ],
            [
             0.6,
             "#e6f5d0"
            ],
            [
             0.7,
             "#b8e186"
            ],
            [
             0.8,
             "#7fbc41"
            ],
            [
             0.9,
             "#4d9221"
            ],
            [
             1,
             "#276419"
            ]
           ],
           "sequential": [
            [
             0,
             "#0d0887"
            ],
            [
             0.1111111111111111,
             "#46039f"
            ],
            [
             0.2222222222222222,
             "#7201a8"
            ],
            [
             0.3333333333333333,
             "#9c179e"
            ],
            [
             0.4444444444444444,
             "#bd3786"
            ],
            [
             0.5555555555555556,
             "#d8576b"
            ],
            [
             0.6666666666666666,
             "#ed7953"
            ],
            [
             0.7777777777777778,
             "#fb9f3a"
            ],
            [
             0.8888888888888888,
             "#fdca26"
            ],
            [
             1,
             "#f0f921"
            ]
           ],
           "sequentialminus": [
            [
             0,
             "#0d0887"
            ],
            [
             0.1111111111111111,
             "#46039f"
            ],
            [
             0.2222222222222222,
             "#7201a8"
            ],
            [
             0.3333333333333333,
             "#9c179e"
            ],
            [
             0.4444444444444444,
             "#bd3786"
            ],
            [
             0.5555555555555556,
             "#d8576b"
            ],
            [
             0.6666666666666666,
             "#ed7953"
            ],
            [
             0.7777777777777778,
             "#fb9f3a"
            ],
            [
             0.8888888888888888,
             "#fdca26"
            ],
            [
             1,
             "#f0f921"
            ]
           ]
          },
          "colorway": [
           "#636efa",
           "#EF553B",
           "#00cc96",
           "#ab63fa",
           "#FFA15A",
           "#19d3f3",
           "#FF6692",
           "#B6E880",
           "#FF97FF",
           "#FECB52"
          ],
          "font": {
           "color": "#2a3f5f"
          },
          "geo": {
           "bgcolor": "white",
           "lakecolor": "white",
           "landcolor": "#E5ECF6",
           "showlakes": true,
           "showland": true,
           "subunitcolor": "white"
          },
          "hoverlabel": {
           "align": "left"
          },
          "hovermode": "closest",
          "mapbox": {
           "style": "light"
          },
          "paper_bgcolor": "white",
          "plot_bgcolor": "#E5ECF6",
          "polar": {
           "angularaxis": {
            "gridcolor": "white",
            "linecolor": "white",
            "ticks": ""
           },
           "bgcolor": "#E5ECF6",
           "radialaxis": {
            "gridcolor": "white",
            "linecolor": "white",
            "ticks": ""
           }
          },
          "scene": {
           "xaxis": {
            "backgroundcolor": "#E5ECF6",
            "gridcolor": "white",
            "gridwidth": 2,
            "linecolor": "white",
            "showbackground": true,
            "ticks": "",
            "zerolinecolor": "white"
           },
           "yaxis": {
            "backgroundcolor": "#E5ECF6",
            "gridcolor": "white",
            "gridwidth": 2,
            "linecolor": "white",
            "showbackground": true,
            "ticks": "",
            "zerolinecolor": "white"
           },
           "zaxis": {
            "backgroundcolor": "#E5ECF6",
            "gridcolor": "white",
            "gridwidth": 2,
            "linecolor": "white",
            "showbackground": true,
            "ticks": "",
            "zerolinecolor": "white"
           }
          },
          "shapedefaults": {
           "line": {
            "color": "#2a3f5f"
           }
          },
          "ternary": {
           "aaxis": {
            "gridcolor": "white",
            "linecolor": "white",
            "ticks": ""
           },
           "baxis": {
            "gridcolor": "white",
            "linecolor": "white",
            "ticks": ""
           },
           "bgcolor": "#E5ECF6",
           "caxis": {
            "gridcolor": "white",
            "linecolor": "white",
            "ticks": ""
           }
          },
          "title": {
           "x": 0.05
          },
          "xaxis": {
           "automargin": true,
           "gridcolor": "white",
           "linecolor": "white",
           "ticks": "",
           "title": {
            "standoff": 15
           },
           "zerolinecolor": "white",
           "zerolinewidth": 2
          },
          "yaxis": {
           "automargin": true,
           "gridcolor": "white",
           "linecolor": "white",
           "ticks": "",
           "title": {
            "standoff": 15
           },
           "zerolinecolor": "white",
           "zerolinewidth": 2
          }
         }
        },
        "xaxis": {
         "anchor": "y",
         "domain": [
          0,
          1
         ],
         "title": {
          "text": "kraj"
         }
        },
        "yaxis": {
         "anchor": "x",
         "domain": [
          0,
          1
         ],
         "title": {
          "text": "sum of pocet"
         }
        }
       }
      }
     },
     "metadata": {},
     "output_type": "display_data"
    }
   ],
   "source": [
    "fig = px.histogram(data_final, x='kraj', y='pocet')\n",
    "fig.show()"
   ]
  },
  {
   "cell_type": "code",
   "execution_count": 95,
   "id": "bc0606e4",
   "metadata": {},
   "outputs": [
    {
     "data": {
      "application/vnd.plotly.v1+json": {
       "config": {
        "plotlyServerURL": "https://plot.ly"
       },
       "data": [
        {
         "bingroup": "x",
         "histfunc": "sum",
         "hovertemplate": "obcan_statu=Afghánistán<br>kraj=%{x}<br>sum of pocet=%{y}<extra></extra>",
         "legendgroup": "Afghánistán",
         "marker": {
          "color": "#636efa",
          "pattern": {
           "shape": ""
          }
         },
         "name": "Afghánistán",
         "orientation": "v",
         "showlegend": true,
         "type": "histogram",
         "x": [
          "Hlavní město Praha",
          "Jihomoravský kraj",
          "Karlovarský kraj",
          "Kraj Vysočina",
          "Královéhradecký kraj",
          "Moravskoslezský kraj",
          "Olomoucký kraj",
          "Středočeský kraj",
          "Zlínský kraj",
          "Ústecký kraj"
         ],
         "xaxis": "x",
         "y": {
          "bdata": "XkN5DeU1HEBddNFFF10EQAAAAAAAAPA/AAAAAAAAAEAAAAAAAADwPyivobyG8vo/AAAAAAAA8D8YhmEYhmH4PwAAAAAAAPA/AAAAAAAA8D8=",
          "dtype": "f8"
         },
         "yaxis": "y"
        },
        {
         "bingroup": "x",
         "histfunc": "sum",
         "hovertemplate": "obcan_statu=Albánie<br>kraj=%{x}<br>sum of pocet=%{y}<extra></extra>",
         "legendgroup": "Albánie",
         "marker": {
          "color": "#EF553B",
          "pattern": {
           "shape": ""
          }
         },
         "name": "Albánie",
         "orientation": "v",
         "showlegend": true,
         "type": "histogram",
         "x": [
          "Hlavní město Praha",
          "Jihomoravský kraj",
          "Jihočeský kraj",
          "Karlovarský kraj",
          "Kraj Vysočina",
          "Královéhradecký kraj",
          "Liberecký kraj",
          "Moravskoslezský kraj",
          "Olomoucký kraj",
          "Pardubický kraj",
          "Plzeňský kraj",
          "Středočeský kraj",
          "Zlínský kraj",
          "Ústecký kraj"
         ],
         "xaxis": "x",
         "y": {
          "bdata": "ZmZmZmZmIECSJEmSJEkCQKuqqqqqqvI/kiRJkiRJ8j8AAAAAAADwP1VVVVVVVfU/AAAAAAAA8D+96U1vetP7P9mJndiJnfg/q6qqqqqq+j9GF1100UX3P2isD431oQFAAAAAAAAA8D9GF1100UX3Pw==",
          "dtype": "f8"
         },
         "yaxis": "y"
        },
        {
         "bingroup": "x",
         "histfunc": "sum",
         "hovertemplate": "obcan_statu=Alžírsko<br>kraj=%{x}<br>sum of pocet=%{y}<extra></extra>",
         "legendgroup": "Alžírsko",
         "marker": {
          "color": "#00cc96",
          "pattern": {
           "shape": ""
          }
         },
         "name": "Alžírsko",
         "orientation": "v",
         "showlegend": true,
         "type": "histogram",
         "x": [
          "Hlavní město Praha",
          "Jihomoravský kraj",
          "Jihočeský kraj",
          "Karlovarský kraj",
          "Kraj Vysočina",
          "Královéhradecký kraj",
          "Liberecký kraj",
          "Moravskoslezský kraj",
          "Olomoucký kraj",
          "Plzeňský kraj",
          "Středočeský kraj",
          "Zlínský kraj",
          "Ústecký kraj"
         ],
         "xaxis": "x",
         "y": {
          "bdata": "2IIt2IItNEBVVVVVVVUSQFVVVVVVVfU/AAAAAAAAAkCSJEmSJEnyP5qZmZmZmfk/VVVVVVVV9T9JkiRJkiT5P0mSJEmSJPk/t23btm3b9j9VVVVVVVUFQAAAAAAAAABAt23btm3bBkA=",
          "dtype": "f8"
         },
         "yaxis": "y"
        },
        {
         "bingroup": "x",
         "histfunc": "sum",
         "hovertemplate": "obcan_statu=Angola<br>kraj=%{x}<br>sum of pocet=%{y}<extra></extra>",
         "legendgroup": "Angola",
         "marker": {
          "color": "#ab63fa",
          "pattern": {
           "shape": ""
          }
         },
         "name": "Angola",
         "orientation": "v",
         "showlegend": true,
         "type": "histogram",
         "x": [
          "Hlavní město Praha",
          "Jihomoravský kraj",
          "Jihočeský kraj",
          "Karlovarský kraj",
          "Kraj Vysočina",
          "Liberecký kraj",
          "Moravskoslezský kraj",
          "Olomoucký kraj",
          "Pardubický kraj",
          "Plzeňský kraj",
          "Středočeský kraj",
          "Zlínský kraj",
          "Ústecký kraj"
         ],
         "xaxis": "x",
         "y": {
          "bdata": "btu2bdu2FUBf0Bf0BX0RQKuqqqqqqvo/AAAAAAAAAEAAAAAAAAAAQDMzMzMzM/M/VVVVVVVVBUBVVVVVVVUBQAAAAAAAAPA/AAAAAAAA8D8XXXTRRRf9P7dt27Zt2/Y/L7rooosu+j8=",
          "dtype": "f8"
         },
         "yaxis": "y"
        },
        {
         "bingroup": "x",
         "histfunc": "sum",
         "hovertemplate": "obcan_statu=Argentina<br>kraj=%{x}<br>sum of pocet=%{y}<extra></extra>",
         "legendgroup": "Argentina",
         "marker": {
          "color": "#FFA15A",
          "pattern": {
           "shape": ""
          }
         },
         "name": "Argentina",
         "orientation": "v",
         "showlegend": true,
         "type": "histogram",
         "x": [
          "Hlavní město Praha",
          "Jihomoravský kraj",
          "Jihočeský kraj",
          "Královéhradecký kraj",
          "Moravskoslezský kraj",
          "Pardubický kraj",
          "Plzeňský kraj",
          "Středočeský kraj",
          "Ústecký kraj"
         ],
         "xaxis": "x",
         "y": {
          "bdata": "3t3d3d3dDUBVVVVVVVX1PwAAAAAAAPA/AAAAAAAA8D+SJEmSJEnyPwAAAAAAAPA/AAAAAAAA8D8AAAAAAADwPwAAAAAAAPA/",
          "dtype": "f8"
         },
         "yaxis": "y"
        },
        {
         "bingroup": "x",
         "histfunc": "sum",
         "hovertemplate": "obcan_statu=Arménie<br>kraj=%{x}<br>sum of pocet=%{y}<extra></extra>",
         "legendgroup": "Arménie",
         "marker": {
          "color": "#19d3f3",
          "pattern": {
           "shape": ""
          }
         },
         "name": "Arménie",
         "orientation": "v",
         "showlegend": true,
         "type": "histogram",
         "x": [
          "Hlavní město Praha",
          "Jihomoravský kraj",
          "Jihočeský kraj",
          "Karlovarský kraj",
          "Kraj Vysočina",
          "Královéhradecký kraj",
          "Liberecký kraj",
          "Moravskoslezský kraj",
          "Olomoucký kraj",
          "Pardubický kraj",
          "Plzeňský kraj",
          "Středočeský kraj",
          "Zlínský kraj",
          "nezjištěno",
          "Ústecký kraj"
         ],
         "xaxis": "x",
         "y": {
          "bdata": "1QTjrexzPEDVSq3USq0cQJZ7GmG5pwFABn1BX9AXBEA+gVRyXhYRQDMzMzMzM/s/g5dT8HIK/j+yPjTWh8YKQEN5DeU1lPc/OY7jOI7jAECXlpaWlpb2P/VM5brjxQZAOY7jOI7j+D8AAAAAAAD4P8FcOzDXDgxA",
          "dtype": "f8"
         },
         "yaxis": "y"
        },
        {
         "bingroup": "x",
         "histfunc": "sum",
         "hovertemplate": "obcan_statu=Austrálie<br>kraj=%{x}<br>sum of pocet=%{y}<extra></extra>",
         "legendgroup": "Austrálie",
         "marker": {
          "color": "#FF6692",
          "pattern": {
           "shape": ""
          }
         },
         "name": "Austrálie",
         "orientation": "v",
         "showlegend": true,
         "type": "histogram",
         "x": [
          "Hlavní město Praha",
          "Jihomoravský kraj",
          "Jihočeský kraj",
          "Karlovarský kraj",
          "Kraj Vysočina",
          "Královéhradecký kraj",
          "Liberecký kraj",
          "Moravskoslezský kraj",
          "Olomoucký kraj",
          "Pardubický kraj",
          "Plzeňský kraj",
          "Středočeský kraj",
          "Zlínský kraj",
          "Ústecký kraj"
         ],
         "xaxis": "x",
         "y": {
          "bdata": "OL3pTW96K0DDMAzDMAwDQM3MzMzMzPw/AAAAAAAA8D+XlpaWlpb2P8dxHMdxHPc/MzMzMzMz8z97FK5H4Xr0P3waYbmnEfY/AAAAAAAA/D9YfMVXfMX3PxJ3xB1xR/w/mpmZmZmZ+T8UO7ETO7HzPw==",
          "dtype": "f8"
         },
         "yaxis": "y"
        },
        {
         "bingroup": "x",
         "histfunc": "sum",
         "hovertemplate": "obcan_statu=Bahrajn<br>kraj=%{x}<br>sum of pocet=%{y}<extra></extra>",
         "legendgroup": "Bahrajn",
         "marker": {
          "color": "#B6E880",
          "pattern": {
           "shape": ""
          }
         },
         "name": "Bahrajn",
         "orientation": "v",
         "showlegend": true,
         "type": "histogram",
         "x": [
          "Hlavní město Praha",
          "Jihomoravský kraj",
          "Jihočeský kraj",
          "Královéhradecký kraj",
          "Liberecký kraj",
          "Pardubický kraj",
          "Plzeňský kraj",
          "Středočeský kraj"
         ],
         "xaxis": "x",
         "y": {
          "bdata": "VVVVVVVVBUAAAAAAAAAUQAAAAAAAAPA/sRM7sRM7EUAAAAAAAADwPwAAAAAAAPA/AAAAAAAABEAAAAAAAADwPw==",
          "dtype": "f8"
         },
         "yaxis": "y"
        },
        {
         "bingroup": "x",
         "histfunc": "sum",
         "hovertemplate": "obcan_statu=Bangladéš<br>kraj=%{x}<br>sum of pocet=%{y}<extra></extra>",
         "legendgroup": "Bangladéš",
         "marker": {
          "color": "#FF97FF",
          "pattern": {
           "shape": ""
          }
         },
         "name": "Bangladéš",
         "orientation": "v",
         "showlegend": true,
         "type": "histogram",
         "x": [
          "Hlavní město Praha",
          "Jihomoravský kraj",
          "Karlovarský kraj",
          "Královéhradecký kraj",
          "Liberecký kraj",
          "Moravskoslezský kraj",
          "Plzeňský kraj",
          "Středočeský kraj",
          "nezjištěno",
          "Ústecký kraj"
         ],
         "xaxis": "x",
         "y": {
          "bdata": "t23btm3bFkAAAAAAAAAAQAAAAAAAAPA/AAAAAAAA8D8AAAAAAADwP1VVVVVVVfU/AAAAAAAA8D/T0tLS0tLyPwAAAAAAAPA/AAAAAAAA8D8=",
          "dtype": "f8"
         },
         "yaxis": "y"
        },
        {
         "bingroup": "x",
         "histfunc": "sum",
         "hovertemplate": "obcan_statu=Belgie<br>kraj=%{x}<br>sum of pocet=%{y}<extra></extra>",
         "legendgroup": "Belgie",
         "marker": {
          "color": "#FECB52",
          "pattern": {
           "shape": ""
          }
         },
         "name": "Belgie",
         "orientation": "v",
         "showlegend": true,
         "type": "histogram",
         "x": [
          "Hlavní město Praha",
          "Jihomoravský kraj",
          "Jihočeský kraj",
          "Karlovarský kraj",
          "Kraj Vysočina",
          "Královéhradecký kraj",
          "Liberecký kraj",
          "Moravskoslezský kraj",
          "Olomoucký kraj",
          "Pardubický kraj",
          "Plzeňský kraj",
          "Středočeský kraj",
          "Zlínský kraj",
          "nezjištěno",
          "Ústecký kraj"
         ],
         "xaxis": "x",
         "y": {
          "bdata": "lTVlTVlTJkAcx3Ecx3EEQLdt27Zt2/Y/AAAAAAAA8D8WX/EVX/H1PwAAAAAAAPQ/YbmnEZZ7+j9qV6J2JWr3P5eWlpaWlvY/AAAAAAAA8D8AAAAAAAD0Pw3lNZTXUP4/AAAAAAAA+D9VVVVVVVX1P9iCLdiCLfg/",
          "dtype": "f8"
         },
         "yaxis": "y"
        },
        {
         "bingroup": "x",
         "histfunc": "sum",
         "hovertemplate": "obcan_statu=Belize<br>kraj=%{x}<br>sum of pocet=%{y}<extra></extra>",
         "legendgroup": "Belize",
         "marker": {
          "color": "#636efa",
          "pattern": {
           "shape": ""
          }
         },
         "name": "Belize",
         "orientation": "v",
         "showlegend": true,
         "type": "histogram",
         "x": [
          "Hlavní město Praha",
          "Středočeský kraj"
         ],
         "xaxis": "x",
         "y": {
          "bdata": "kiRJkiRJ8j8AAAAAAADwPw==",
          "dtype": "f8"
         },
         "yaxis": "y"
        },
        {
         "bingroup": "x",
         "histfunc": "sum",
         "hovertemplate": "obcan_statu=Benin<br>kraj=%{x}<br>sum of pocet=%{y}<extra></extra>",
         "legendgroup": "Benin",
         "marker": {
          "color": "#EF553B",
          "pattern": {
           "shape": ""
          }
         },
         "name": "Benin",
         "orientation": "v",
         "showlegend": true,
         "type": "histogram",
         "x": [
          "Hlavní město Praha",
          "Jihomoravský kraj",
          "Moravskoslezský kraj",
          "Olomoucký kraj",
          "Středočeský kraj",
          "Zlínský kraj",
          "Ústecký kraj"
         ],
         "xaxis": "x",
         "y": {
          "bdata": "eHh4eHh4GECrqqqqqqr6P1VVVVVVVfU/MzMzMzMz8z8AAAAAAADwPwAAAAAAAPA/VVVVVVVV9T8=",
          "dtype": "f8"
         },
         "yaxis": "y"
        },
        {
         "bingroup": "x",
         "histfunc": "sum",
         "hovertemplate": "obcan_statu=Bolívie<br>kraj=%{x}<br>sum of pocet=%{y}<extra></extra>",
         "legendgroup": "Bolívie",
         "marker": {
          "color": "#00cc96",
          "pattern": {
           "shape": ""
          }
         },
         "name": "Bolívie",
         "orientation": "v",
         "showlegend": true,
         "type": "histogram",
         "x": [
          "Hlavní město Praha",
          "Jihomoravský kraj",
          "Liberecký kraj",
          "Pardubický kraj",
          "Plzeňský kraj",
          "Středočeský kraj",
          "Ústecký kraj"
         ],
         "xaxis": "x",
         "y": {
          "bdata": "9DzP8zzPE0Dbtm3btm37PzMzMzMzM/M/AAAAAAAA8D9GF1100UX3PzMzMzMzMwNAAAAAAAAA8D8=",
          "dtype": "f8"
         },
         "yaxis": "y"
        },
        {
         "bingroup": "x",
         "histfunc": "sum",
         "hovertemplate": "obcan_statu=Bosna a Hercegovina<br>kraj=%{x}<br>sum of pocet=%{y}<extra></extra>",
         "legendgroup": "Bosna a Hercegovina",
         "marker": {
          "color": "#ab63fa",
          "pattern": {
           "shape": ""
          }
         },
         "name": "Bosna a Hercegovina",
         "orientation": "v",
         "showlegend": true,
         "type": "histogram",
         "x": [
          "Hlavní město Praha",
          "Jihomoravský kraj",
          "Jihočeský kraj",
          "Karlovarský kraj",
          "Kraj Vysočina",
          "Královéhradecký kraj",
          "Liberecký kraj",
          "Moravskoslezský kraj",
          "Olomoucký kraj",
          "Pardubický kraj",
          "Plzeňský kraj",
          "Středočeský kraj",
          "Zlínský kraj",
          "nezjištěno",
          "Ústecký kraj"
         ],
         "xaxis": "x",
         "y": {
          "bdata": "btu2bdt2UECO3MiN3MgdQAAAAAAAABBA2ktoL6G9BEB2Yid2Yif2P83MzMzMzABAF1100UUXDUCxEzuxEzsBQJZ7GmG5pwFAC1nIQhayAEAlSZIkSZIEQKwPjfWhsQZAzczMzMzMBEBVVVVVVVX1P9hQXkN5DQVA",
          "dtype": "f8"
         },
         "yaxis": "y"
        },
        {
         "bingroup": "x",
         "histfunc": "sum",
         "hovertemplate": "obcan_statu=Botswana<br>kraj=%{x}<br>sum of pocet=%{y}<extra></extra>",
         "legendgroup": "Botswana",
         "marker": {
          "color": "#FFA15A",
          "pattern": {
           "shape": ""
          }
         },
         "name": "Botswana",
         "orientation": "v",
         "showlegend": true,
         "type": "histogram",
         "x": [
          "Hlavní město Praha"
         ],
         "xaxis": "x",
         "y": {
          "bdata": "AAAAAAAAJ0A=",
          "dtype": "f8"
         },
         "yaxis": "y"
        },
        {
         "bingroup": "x",
         "histfunc": "sum",
         "hovertemplate": "obcan_statu=Brazílie<br>kraj=%{x}<br>sum of pocet=%{y}<extra></extra>",
         "legendgroup": "Brazílie",
         "marker": {
          "color": "#19d3f3",
          "pattern": {
           "shape": ""
          }
         },
         "name": "Brazílie",
         "orientation": "v",
         "showlegend": true,
         "type": "histogram",
         "x": [
          "Hlavní město Praha",
          "Jihomoravský kraj",
          "Jihočeský kraj",
          "Karlovarský kraj",
          "Kraj Vysočina",
          "Královéhradecký kraj",
          "Liberecký kraj",
          "Moravskoslezský kraj",
          "Olomoucký kraj",
          "Pardubický kraj",
          "Plzeňský kraj",
          "Středočeský kraj",
          "Zlínský kraj",
          "Ústecký kraj"
         ],
         "xaxis": "x",
         "y": {
          "bdata": "AAAAAAAAG0BVVVVVVVX1PxEREREREfE/kiRJkiRJ8j8AAAAAAADwP1VVVVVVVfU/09LS0tLS8j8RERERERHxP5IkSZIkSfI/AAAAAAAAAEB00UUXXXTxP9PS0tLS0vI/AAAAAAAA8D8UO7ETO7HzPw==",
          "dtype": "f8"
         },
         "yaxis": "y"
        },
        {
         "bingroup": "x",
         "histfunc": "sum",
         "hovertemplate": "obcan_statu=Bulharsko<br>kraj=%{x}<br>sum of pocet=%{y}<extra></extra>",
         "legendgroup": "Bulharsko",
         "marker": {
          "color": "#FF6692",
          "pattern": {
           "shape": ""
          }
         },
         "name": "Bulharsko",
         "orientation": "v",
         "showlegend": true,
         "type": "histogram",
         "x": [
          "Hlavní město Praha",
          "Jihomoravský kraj",
          "Jihočeský kraj",
          "Karlovarský kraj",
          "Kraj Vysočina",
          "Královéhradecký kraj",
          "Liberecký kraj",
          "Moravskoslezský kraj",
          "Olomoucký kraj",
          "Pardubický kraj",
          "Plzeňský kraj",
          "Středočeský kraj",
          "Zlínský kraj",
          "nezjištěno",
          "Ústecký kraj"
         ],
         "xaxis": "x",
         "y": {
          "bdata": "4T6C+wjuWkCrqqqqqqoaQKuqqqqqqhJATCofxv26FEA8PDw8PDwMQMHKoUW28w1AqYilIpaKIEA4rH3D2jccQDqDFTqDFQpAFgMlvNHUCUBtjb+bR6gOQLyRFpFbuhtAYnIFMbmCCEAAAAAAAADwP8r47VJPxhNA",
          "dtype": "f8"
         },
         "yaxis": "y"
        },
        {
         "bingroup": "x",
         "histfunc": "sum",
         "hovertemplate": "obcan_statu=Burkina Faso<br>kraj=%{x}<br>sum of pocet=%{y}<extra></extra>",
         "legendgroup": "Burkina Faso",
         "marker": {
          "color": "#B6E880",
          "pattern": {
           "shape": ""
          }
         },
         "name": "Burkina Faso",
         "orientation": "v",
         "showlegend": true,
         "type": "histogram",
         "x": [
          "Hlavní město Praha",
          "Jihomoravský kraj",
          "Liberecký kraj",
          "Moravskoslezský kraj"
         ],
         "xaxis": "x",
         "y": {
          "bdata": "AAAAAAAA8D8AAAAAAAAAQAAAAAAAAPA/VVVVVVVVBUA=",
          "dtype": "f8"
         },
         "yaxis": "y"
        },
        {
         "bingroup": "x",
         "histfunc": "sum",
         "hovertemplate": "obcan_statu=Bělorusko<br>kraj=%{x}<br>sum of pocet=%{y}<extra></extra>",
         "legendgroup": "Bělorusko",
         "marker": {
          "color": "#FF97FF",
          "pattern": {
           "shape": ""
          }
         },
         "name": "Bělorusko",
         "orientation": "v",
         "showlegend": true,
         "type": "histogram",
         "x": [
          "Hlavní město Praha",
          "Jihomoravský kraj",
          "Jihočeský kraj",
          "Karlovarský kraj",
          "Kraj Vysočina",
          "Královéhradecký kraj",
          "Liberecký kraj",
          "Moravskoslezský kraj",
          "Olomoucký kraj",
          "Pardubický kraj",
          "Plzeňský kraj",
          "Středočeský kraj",
          "Zlínský kraj",
          "Ústecký kraj"
         ],
         "xaxis": "x",
         "y": {
          "bdata": "9jmkJhhvT0AhvoP4DuIbQJ4S5ClBnhJA1g86KvDFFUBRXkN5DeUVQBHINRHINRFAhmEYhmEYDkCDmFxBTK4QQMWp33NLnApAWO5phOWeFkCimo65RHgSQML8rhY3YRJAWYEw0o4VGEAN0iAN0iANQA==",
          "dtype": "f8"
         },
         "yaxis": "y"
        },
        {
         "bingroup": "x",
         "histfunc": "sum",
         "hovertemplate": "obcan_statu=Chile<br>kraj=%{x}<br>sum of pocet=%{y}<extra></extra>",
         "legendgroup": "Chile",
         "marker": {
          "color": "#FECB52",
          "pattern": {
           "shape": ""
          }
         },
         "name": "Chile",
         "orientation": "v",
         "showlegend": true,
         "type": "histogram",
         "x": [
          "Hlavní město Praha",
          "Jihomoravský kraj",
          "Jihočeský kraj",
          "Karlovarský kraj",
          "Olomoucký kraj",
          "Středočeský kraj",
          "Zlínský kraj",
          "Ústecký kraj"
         ],
         "xaxis": "x",
         "y": {
          "bdata": "EUIIIYQQEkAAAAAAAADwPwAAAAAAAPA/AAAAAAAA8D8AAAAAAADwPzMzMzMzM/M/AAAAAAAA8D8AAAAAAADwPw==",
          "dtype": "f8"
         },
         "yaxis": "y"
        },
        {
         "bingroup": "x",
         "histfunc": "sum",
         "hovertemplate": "obcan_statu=Chorvatsko<br>kraj=%{x}<br>sum of pocet=%{y}<extra></extra>",
         "legendgroup": "Chorvatsko",
         "marker": {
          "color": "#636efa",
          "pattern": {
           "shape": ""
          }
         },
         "name": "Chorvatsko",
         "orientation": "v",
         "showlegend": true,
         "type": "histogram",
         "x": [
          "Hlavní město Praha",
          "Jihomoravský kraj",
          "Jihočeský kraj",
          "Karlovarský kraj",
          "Kraj Vysočina",
          "Královéhradecký kraj",
          "Liberecký kraj",
          "Moravskoslezský kraj",
          "Olomoucký kraj",
          "Pardubický kraj",
          "Plzeňský kraj",
          "Středočeský kraj",
          "Zlínský kraj",
          "nezjištěno",
          "Ústecký kraj"
         ],
         "xaxis": "x",
         "y": {
          "bdata": "oryG8hrKU0Acx3Ecx3EUQB5xR9wRdwRAY6CEN5o6D0BxPQrXo3D9P3E9CtejcP0/yFYEDSd1/z82aPJlgyYPQN3TCMs9jQBAwnJPIyz3BEDLt3zLt3wLQL+gL+gL+gJAAAAAAAAABkCxEzuxEzsBQDuogzqogwpA",
          "dtype": "f8"
         },
         "yaxis": "y"
        },
        {
         "bingroup": "x",
         "histfunc": "sum",
         "hovertemplate": "obcan_statu=Dominika<br>kraj=%{x}<br>sum of pocet=%{y}<extra></extra>",
         "legendgroup": "Dominika",
         "marker": {
          "color": "#EF553B",
          "pattern": {
           "shape": ""
          }
         },
         "name": "Dominika",
         "orientation": "v",
         "showlegend": true,
         "type": "histogram",
         "x": [
          "Hlavní město Praha"
         ],
         "xaxis": "x",
         "y": {
          "bdata": "VVVVVVVV9T8=",
          "dtype": "f8"
         },
         "yaxis": "y"
        },
        {
         "bingroup": "x",
         "histfunc": "sum",
         "hovertemplate": "obcan_statu=Dominikánská republika<br>kraj=%{x}<br>sum of pocet=%{y}<extra></extra>",
         "legendgroup": "Dominikánská republika",
         "marker": {
          "color": "#00cc96",
          "pattern": {
           "shape": ""
          }
         },
         "name": "Dominikánská republika",
         "orientation": "v",
         "showlegend": true,
         "type": "histogram",
         "x": [
          "Hlavní město Praha",
          "Jihomoravský kraj",
          "Plzeňský kraj",
          "Středočeský kraj"
         ],
         "xaxis": "x",
         "y": {
          "bdata": "q6qqqqqq+j9VVVVVVVX1PwAAAAAAAPA/AAAAAAAA8D8=",
          "dtype": "f8"
         },
         "yaxis": "y"
        },
        {
         "bingroup": "x",
         "histfunc": "sum",
         "hovertemplate": "obcan_statu=Dánsko<br>kraj=%{x}<br>sum of pocet=%{y}<extra></extra>",
         "legendgroup": "Dánsko",
         "marker": {
          "color": "#ab63fa",
          "pattern": {
           "shape": ""
          }
         },
         "name": "Dánsko",
         "orientation": "v",
         "showlegend": true,
         "type": "histogram",
         "x": [
          "Hlavní město Praha",
          "Jihomoravský kraj",
          "Karlovarský kraj",
          "Královéhradecký kraj",
          "Liberecký kraj",
          "Moravskoslezský kraj",
          "Olomoucký kraj",
          "Plzeňský kraj",
          "Středočeský kraj",
          "nezjištěno",
          "Ústecký kraj"
         ],
         "xaxis": "x",
         "y": {
          "bdata": "AAAAAAAAJEA5juM4juP4PwAAAAAAAPA/AAAAAAAA8D8AAAAAAADwP1100UUXXfQ/q6qqqqqq+j900UUXXXTxPwAAAAAAAAVAAAAAAAAA+D9huacRlnsKQA==",
          "dtype": "f8"
         },
         "yaxis": "y"
        },
        {
         "bingroup": "x",
         "histfunc": "sum",
         "hovertemplate": "obcan_statu=Egypt<br>kraj=%{x}<br>sum of pocet=%{y}<extra></extra>",
         "legendgroup": "Egypt",
         "marker": {
          "color": "#FFA15A",
          "pattern": {
           "shape": ""
          }
         },
         "name": "Egypt",
         "orientation": "v",
         "showlegend": true,
         "type": "histogram",
         "x": [
          "Hlavní město Praha",
          "Jihomoravský kraj",
          "Jihočeský kraj",
          "Karlovarský kraj",
          "Královéhradecký kraj",
          "Liberecký kraj",
          "Moravskoslezský kraj",
          "Olomoucký kraj",
          "Pardubický kraj",
          "Plzeňský kraj",
          "Středočeský kraj",
          "Zlínský kraj",
          "Ústecký kraj"
         ],
         "xaxis": "x",
         "y": {
          "bdata": "xMPDw8PDI0Dbtm3btm37P7ETO7ETO/E/mpmZmZmZ+T8AAAAAAAAAQJeWlpaWlvY/L7rooosu+j8XXXTRRRf9P5qZmZmZmfk/AAAAAAAAEEC3bdu2bdv+PzMzMzMzM/M/t23btm3b9j8=",
          "dtype": "f8"
         },
         "yaxis": "y"
        },
        {
         "bingroup": "x",
         "histfunc": "sum",
         "hovertemplate": "obcan_statu=Ekvádor<br>kraj=%{x}<br>sum of pocet=%{y}<extra></extra>",
         "legendgroup": "Ekvádor",
         "marker": {
          "color": "#19d3f3",
          "pattern": {
           "shape": ""
          }
         },
         "name": "Ekvádor",
         "orientation": "v",
         "showlegend": true,
         "type": "histogram",
         "x": [
          "Hlavní město Praha",
          "Jihomoravský kraj",
          "Jihočeský kraj",
          "Karlovarský kraj",
          "Královéhradecký kraj",
          "Liberecký kraj",
          "Pardubický kraj",
          "Plzeňský kraj",
          "Středočeský kraj",
          "Zlínský kraj",
          "Ústecký kraj"
         ],
         "xaxis": "x",
         "y": {
          "bdata": "16NwPQrXE0DZiZ3YiZ34PwAAAAAAAPA/AAAAAAAA8D9VVVVVVVX1PwAAAAAAAPA/AAAAAAAA8D8zMzMzMzPzP3Icx3Ecx/E/AAAAAAAA8D8AAAAAAADwPw==",
          "dtype": "f8"
         },
         "yaxis": "y"
        },
        {
         "bingroup": "x",
         "histfunc": "sum",
         "hovertemplate": "obcan_statu=Eritrea<br>kraj=%{x}<br>sum of pocet=%{y}<extra></extra>",
         "legendgroup": "Eritrea",
         "marker": {
          "color": "#FF6692",
          "pattern": {
           "shape": ""
          }
         },
         "name": "Eritrea",
         "orientation": "v",
         "showlegend": true,
         "type": "histogram",
         "x": [
          "Hlavní město Praha",
          "Jihomoravský kraj"
         ],
         "xaxis": "x",
         "y": {
          "bdata": "AAAAAAAA+D8AAAAAAADwPw==",
          "dtype": "f8"
         },
         "yaxis": "y"
        },
        {
         "bingroup": "x",
         "histfunc": "sum",
         "hovertemplate": "obcan_statu=Estonsko<br>kraj=%{x}<br>sum of pocet=%{y}<extra></extra>",
         "legendgroup": "Estonsko",
         "marker": {
          "color": "#B6E880",
          "pattern": {
           "shape": ""
          }
         },
         "name": "Estonsko",
         "orientation": "v",
         "showlegend": true,
         "type": "histogram",
         "x": [
          "Hlavní město Praha",
          "Jihomoravský kraj",
          "Karlovarský kraj",
          "Liberecký kraj",
          "Moravskoslezský kraj",
          "Olomoucký kraj",
          "Pardubický kraj",
          "Středočeský kraj"
         ],
         "xaxis": "x",
         "y": {
          "bdata": "ZmZmZmZmBkAAAAAAAADwPwAAAAAAAPA/AAAAAAAA8D8AAAAAAADwPwAAAAAAAPA/AAAAAAAA8D92Yid2Yif2Pw==",
          "dtype": "f8"
         },
         "yaxis": "y"
        },
        {
         "bingroup": "x",
         "histfunc": "sum",
         "hovertemplate": "obcan_statu=Etiopie<br>kraj=%{x}<br>sum of pocet=%{y}<extra></extra>",
         "legendgroup": "Etiopie",
         "marker": {
          "color": "#FF97FF",
          "pattern": {
           "shape": ""
          }
         },
         "name": "Etiopie",
         "orientation": "v",
         "showlegend": true,
         "type": "histogram",
         "x": [
          "Hlavní město Praha",
          "Jihomoravský kraj",
          "Jihočeský kraj",
          "Královéhradecký kraj",
          "Liberecký kraj",
          "Moravskoslezský kraj",
          "Olomoucký kraj",
          "Plzeňský kraj",
          "Středočeský kraj",
          "Ústecký kraj"
         ],
         "xaxis": "x",
         "y": {
          "bdata": "WlpaWlpaCkCamZmZmZkJQAAAAAAAAPA/AAAAAAAA8D8AAAAAAADwPwAAAAAAAPA/AAAAAAAA8D8AAAAAAADwPwAAAAAAAABAAAAAAAAA8D8=",
          "dtype": "f8"
         },
         "yaxis": "y"
        },
        {
         "bingroup": "x",
         "histfunc": "sum",
         "hovertemplate": "obcan_statu=Filipíny<br>kraj=%{x}<br>sum of pocet=%{y}<extra></extra>",
         "legendgroup": "Filipíny",
         "marker": {
          "color": "#FECB52",
          "pattern": {
           "shape": ""
          }
         },
         "name": "Filipíny",
         "orientation": "v",
         "showlegend": true,
         "type": "histogram",
         "x": [
          "Hlavní město Praha",
          "Jihomoravský kraj",
          "Královéhradecký kraj",
          "Liberecký kraj",
          "Moravskoslezský kraj",
          "Olomoucký kraj",
          "Plzeňský kraj",
          "Středočeský kraj",
          "Zlínský kraj",
          "Ústecký kraj"
         ],
         "xaxis": "x",
         "y": {
          "bdata": "pHA9CtejEEAAAAAAAADwPwAAAAAAAPA/AAAAAAAA+D8AAAAAAADwPwAAAAAAAPA/AAAAAAAA8D8AAAAAAADwPwAAAAAAAPA/kiRJkiRJ8j8=",
          "dtype": "f8"
         },
         "yaxis": "y"
        },
        {
         "bingroup": "x",
         "histfunc": "sum",
         "hovertemplate": "obcan_statu=Finsko<br>kraj=%{x}<br>sum of pocet=%{y}<extra></extra>",
         "legendgroup": "Finsko",
         "marker": {
          "color": "#636efa",
          "pattern": {
           "shape": ""
          }
         },
         "name": "Finsko",
         "orientation": "v",
         "showlegend": true,
         "type": "histogram",
         "x": [
          "Hlavní město Praha",
          "Jihomoravský kraj",
          "Jihočeský kraj",
          "Karlovarský kraj",
          "Kraj Vysočina",
          "Královéhradecký kraj",
          "Liberecký kraj",
          "Moravskoslezský kraj",
          "Olomoucký kraj",
          "Středočeský kraj",
          "Ústecký kraj"
         ],
         "xaxis": "x",
         "y": {
          "bdata": "mpmZmZmZH0CSJEmSJEnyPwAAAAAAAPA/AAAAAAAA8D8AAAAAAADwP9mJndiJnfg/AAAAAAAA+D+SJEmSJEnyPwAAAAAAAPA/kiRJkiRJ8j8AAAAAAADwPw==",
          "dtype": "f8"
         },
         "yaxis": "y"
        },
        {
         "bingroup": "x",
         "histfunc": "sum",
         "hovertemplate": "obcan_statu=Francie<br>kraj=%{x}<br>sum of pocet=%{y}<extra></extra>",
         "legendgroup": "Francie",
         "marker": {
          "color": "#EF553B",
          "pattern": {
           "shape": ""
          }
         },
         "name": "Francie",
         "orientation": "v",
         "showlegend": true,
         "type": "histogram",
         "x": [
          "Hlavní město Praha",
          "Jihomoravský kraj",
          "Jihočeský kraj",
          "Karlovarský kraj",
          "Kraj Vysočina",
          "Královéhradecký kraj",
          "Liberecký kraj",
          "Moravskoslezský kraj",
          "Olomoucký kraj",
          "Pardubický kraj",
          "Plzeňský kraj",
          "Středočeský kraj",
          "Zlínský kraj",
          "nezjištěno",
          "Ústecký kraj"
         ],
         "xaxis": "x",
         "y": {
          "bdata": "0V5CewltUUDJEKyjzfsEQEGeEuQpQf4/11prrbXW+j+e2Imd2In9P6uqqqqqqvo/Ntlkk002+T/Gkl8s+cUCQGlpaWlpaQlAJ5tssskm+z8OJFphcyABQHItEtRUiAZAIiIiIiIiAkCSJEmSJEnyP57YiZ3Yif0/",
          "dtype": "f8"
         },
         "yaxis": "y"
        },
        {
         "bingroup": "x",
         "histfunc": "sum",
         "hovertemplate": "obcan_statu=Gambie<br>kraj=%{x}<br>sum of pocet=%{y}<extra></extra>",
         "legendgroup": "Gambie",
         "marker": {
          "color": "#00cc96",
          "pattern": {
           "shape": ""
          }
         },
         "name": "Gambie",
         "orientation": "v",
         "showlegend": true,
         "type": "histogram",
         "x": [
          "Hlavní město Praha",
          "Plzeňský kraj"
         ],
         "xaxis": "x",
         "y": {
          "bdata": "VVVVVVVV9T8AAAAAAADwPw==",
          "dtype": "f8"
         },
         "yaxis": "y"
        },
        {
         "bingroup": "x",
         "histfunc": "sum",
         "hovertemplate": "obcan_statu=Ghana<br>kraj=%{x}<br>sum of pocet=%{y}<extra></extra>",
         "legendgroup": "Ghana",
         "marker": {
          "color": "#ab63fa",
          "pattern": {
           "shape": ""
          }
         },
         "name": "Ghana",
         "orientation": "v",
         "showlegend": true,
         "type": "histogram",
         "x": [
          "Hlavní město Praha",
          "Jihomoravský kraj",
          "Karlovarský kraj",
          "Kraj Vysočina",
          "Královéhradecký kraj",
          "Liberecký kraj",
          "Moravskoslezský kraj",
          "Olomoucký kraj",
          "Pardubický kraj",
          "Středočeský kraj",
          "Ústecký kraj"
         ],
         "xaxis": "x",
         "y": {
          "bdata": "6aKLLrroEkAAAAAAAAAAQAAAAAAAAPA/AAAAAAAA8D8AAAAAAAAAQAAAAAAAAPA/AAAAAAAA8D8AAAAAAADwPwAAAAAAAPA/kYUsZCEL+T900UUXXXQBQA==",
          "dtype": "f8"
         },
         "yaxis": "y"
        },
        {
         "bingroup": "x",
         "histfunc": "sum",
         "hovertemplate": "obcan_statu=Grenada<br>kraj=%{x}<br>sum of pocet=%{y}<extra></extra>",
         "legendgroup": "Grenada",
         "marker": {
          "color": "#FFA15A",
          "pattern": {
           "shape": ""
          }
         },
         "name": "Grenada",
         "orientation": "v",
         "showlegend": true,
         "type": "histogram",
         "x": [
          "Hlavní město Praha",
          "Ústecký kraj"
         ],
         "xaxis": "x",
         "y": {
          "bdata": "kiRJkiRJ8j8AAAAAAADwPw==",
          "dtype": "f8"
         },
         "yaxis": "y"
        },
        {
         "bingroup": "x",
         "histfunc": "sum",
         "hovertemplate": "obcan_statu=Gruzie<br>kraj=%{x}<br>sum of pocet=%{y}<extra></extra>",
         "legendgroup": "Gruzie",
         "marker": {
          "color": "#19d3f3",
          "pattern": {
           "shape": ""
          }
         },
         "name": "Gruzie",
         "orientation": "v",
         "showlegend": true,
         "type": "histogram",
         "x": [
          "Hlavní město Praha",
          "Jihomoravský kraj",
          "Jihočeský kraj",
          "Karlovarský kraj",
          "Kraj Vysočina",
          "Liberecký kraj",
          "Moravskoslezský kraj",
          "Olomoucký kraj",
          "Pardubický kraj",
          "Plzeňský kraj",
          "Středočeský kraj",
          "Zlínský kraj",
          "Ústecký kraj"
         ],
         "xaxis": "x",
         "y": {
          "bdata": "27Zt27ZtLEBiJ3ZiJ3YCQAAAAAAAAPg/AAAAAAAAAUAAAAAAAADwPyELWchCFgJACtejcD0K9z8AAAAAAADwPxQ7sRM7sfM/AAAAAAAA8D+IxvrQWB/6P5eWlpaWlvY/nud5nud5/j8=",
          "dtype": "f8"
         },
         "yaxis": "y"
        },
        {
         "bingroup": "x",
         "histfunc": "sum",
         "hovertemplate": "obcan_statu=Guatemala<br>kraj=%{x}<br>sum of pocet=%{y}<extra></extra>",
         "legendgroup": "Guatemala",
         "marker": {
          "color": "#FF6692",
          "pattern": {
           "shape": ""
          }
         },
         "name": "Guatemala",
         "orientation": "v",
         "showlegend": true,
         "type": "histogram",
         "x": [
          "Hlavní město Praha",
          "Jihomoravský kraj",
          "Středočeský kraj"
         ],
         "xaxis": "x",
         "y": {
          "bdata": "MzMzMzMzA0AAAAAAAADwPwAAAAAAAPA/",
          "dtype": "f8"
         },
         "yaxis": "y"
        },
        {
         "bingroup": "x",
         "histfunc": "sum",
         "hovertemplate": "obcan_statu=Guinea<br>kraj=%{x}<br>sum of pocet=%{y}<extra></extra>",
         "legendgroup": "Guinea",
         "marker": {
          "color": "#B6E880",
          "pattern": {
           "shape": ""
          }
         },
         "name": "Guinea",
         "orientation": "v",
         "showlegend": true,
         "type": "histogram",
         "x": [
          "Hlavní město Praha",
          "Jihomoravský kraj",
          "Karlovarský kraj",
          "Královéhradecký kraj",
          "Plzeňský kraj",
          "Středočeský kraj",
          "Ústecký kraj"
         ],
         "xaxis": "x",
         "y": {
          "bdata": "AAAAAAAADEBVVVVVVVX1PwAAAAAAAPA/AAAAAAAA8D8zMzMzMzPzP27btm3btv0/AAAAAAAA8D8=",
          "dtype": "f8"
         },
         "yaxis": "y"
        },
        {
         "bingroup": "x",
         "histfunc": "sum",
         "hovertemplate": "obcan_statu=Guinea-Bissau<br>kraj=%{x}<br>sum of pocet=%{y}<extra></extra>",
         "legendgroup": "Guinea-Bissau",
         "marker": {
          "color": "#FF97FF",
          "pattern": {
           "shape": ""
          }
         },
         "name": "Guinea-Bissau",
         "orientation": "v",
         "showlegend": true,
         "type": "histogram",
         "x": [
          "Hlavní město Praha",
          "Plzeňský kraj",
          "Středočeský kraj"
         ],
         "xaxis": "x",
         "y": {
          "bdata": "ERERERERAUAAAAAAAADwPwAAAAAAAPA/",
          "dtype": "f8"
         },
         "yaxis": "y"
        },
        {
         "bingroup": "x",
         "histfunc": "sum",
         "hovertemplate": "obcan_statu=Guyana<br>kraj=%{x}<br>sum of pocet=%{y}<extra></extra>",
         "legendgroup": "Guyana",
         "marker": {
          "color": "#FECB52",
          "pattern": {
           "shape": ""
          }
         },
         "name": "Guyana",
         "orientation": "v",
         "showlegend": true,
         "type": "histogram",
         "x": [
          "Hlavní město Praha",
          "Jihočeský kraj",
          "Moravskoslezský kraj"
         ],
         "xaxis": "x",
         "y": {
          "bdata": "VVVVVVVV9T8AAAAAAADwPwAAAAAAAPA/",
          "dtype": "f8"
         },
         "yaxis": "y"
        },
        {
         "bingroup": "x",
         "histfunc": "sum",
         "hovertemplate": "obcan_statu=Honduras<br>kraj=%{x}<br>sum of pocet=%{y}<extra></extra>",
         "legendgroup": "Honduras",
         "marker": {
          "color": "#636efa",
          "pattern": {
           "shape": ""
          }
         },
         "name": "Honduras",
         "orientation": "v",
         "showlegend": true,
         "type": "histogram",
         "x": [
          "Hlavní město Praha",
          "Jihomoravský kraj",
          "Jihočeský kraj",
          "Středočeský kraj"
         ],
         "xaxis": "x",
         "y": {
          "bdata": "kiRJkiRJ8j8AAAAAAADwPwAAAAAAAABAAAAAAAAA8D8=",
          "dtype": "f8"
         },
         "yaxis": "y"
        },
        {
         "bingroup": "x",
         "histfunc": "sum",
         "hovertemplate": "obcan_statu=Indie<br>kraj=%{x}<br>sum of pocet=%{y}<extra></extra>",
         "legendgroup": "Indie",
         "marker": {
          "color": "#EF553B",
          "pattern": {
           "shape": ""
          }
         },
         "name": "Indie",
         "orientation": "v",
         "showlegend": true,
         "type": "histogram",
         "x": [
          "Hlavní město Praha",
          "Jihomoravský kraj",
          "Jihočeský kraj",
          "Karlovarský kraj",
          "Královéhradecký kraj",
          "Liberecký kraj",
          "Moravskoslezský kraj",
          "Olomoucký kraj",
          "Pardubický kraj",
          "Plzeňský kraj",
          "Středočeský kraj",
          "Zlínský kraj",
          "Ústecký kraj"
         ],
         "xaxis": "x",
         "y": {
          "bdata": "27Zt27ZtM0AyxhhjjDEGQFVVVVVVVfU/AAAAAAAA8D9CGqRBGqQRQFVVVVVVVfU/HUi0wuZAEkBddNFFF130P1VVVVVVVQVANpTXUF5DCUDTm970pjf9P9PS0tLS0vI/AAAAAAAAAEA=",
          "dtype": "f8"
         },
         "yaxis": "y"
        },
        {
         "bingroup": "x",
         "histfunc": "sum",
         "hovertemplate": "obcan_statu=Indonésie<br>kraj=%{x}<br>sum of pocet=%{y}<extra></extra>",
         "legendgroup": "Indonésie",
         "marker": {
          "color": "#00cc96",
          "pattern": {
           "shape": ""
          }
         },
         "name": "Indonésie",
         "orientation": "v",
         "showlegend": true,
         "type": "histogram",
         "x": [
          "Hlavní město Praha",
          "Jihomoravský kraj",
          "Jihočeský kraj",
          "Královéhradecký kraj",
          "Olomoucký kraj",
          "Plzeňský kraj",
          "Středočeský kraj",
          "Zlínský kraj",
          "Ústecký kraj"
         ],
         "xaxis": "x",
         "y": {
          "bdata": "PDw8PDw8FEAAAAAAAADwP7dt27Zt2/Y/AAAAAAAAAEAAAAAAAADwPwAAAAAAAPA/dNFFF1108T8AAAAAAAD4PwAAAAAAAPA/",
          "dtype": "f8"
         },
         "yaxis": "y"
        },
        {
         "bingroup": "x",
         "histfunc": "sum",
         "hovertemplate": "obcan_statu=Irsko<br>kraj=%{x}<br>sum of pocet=%{y}<extra></extra>",
         "legendgroup": "Irsko",
         "marker": {
          "color": "#ab63fa",
          "pattern": {
           "shape": ""
          }
         },
         "name": "Irsko",
         "orientation": "v",
         "showlegend": true,
         "type": "histogram",
         "x": [
          "Hlavní město Praha",
          "Jihomoravský kraj",
          "Jihočeský kraj",
          "Kraj Vysočina",
          "Královéhradecký kraj",
          "Liberecký kraj",
          "Moravskoslezský kraj",
          "Pardubický kraj",
          "Plzeňský kraj",
          "Středočeský kraj",
          "Zlínský kraj",
          "Ústecký kraj"
         ],
         "xaxis": "x",
         "y": {
          "bdata": "iIeHh4eHK0Crqqqqqqr6P1VVVVVVVfU/AAAAAAAA8D8AAAAAAAD0PwAAAAAAAPA/AAAAAAAA8D9VVVVVVVX1PwAAAAAAAPA/F2zBFmzB9j8AAAAAAADwP1VVVVVVVfU/",
          "dtype": "f8"
         },
         "yaxis": "y"
        },
        {
         "bingroup": "x",
         "histfunc": "sum",
         "hovertemplate": "obcan_statu=Irák<br>kraj=%{x}<br>sum of pocet=%{y}<extra></extra>",
         "legendgroup": "Irák",
         "marker": {
          "color": "#FFA15A",
          "pattern": {
           "shape": ""
          }
         },
         "name": "Irák",
         "orientation": "v",
         "showlegend": true,
         "type": "histogram",
         "x": [
          "Hlavní město Praha",
          "Jihomoravský kraj",
          "Jihočeský kraj",
          "Královéhradecký kraj",
          "Liberecký kraj",
          "Moravskoslezský kraj",
          "Pardubický kraj",
          "Plzeňský kraj",
          "Středočeský kraj",
          "Zlínský kraj",
          "Ústecký kraj"
         ],
         "xaxis": "x",
         "y": {
          "bdata": "vYbyGsprGECrqqqqqqoKQAAAAAAAAPA/AAAAAAAAAECrqqqqqqr6PxEREREREfE/VVVVVVVV9T8AAAAAAAD4PwAAAAAAAABAAAAAAAAA8D8xDMMwDMMAQA==",
          "dtype": "f8"
         },
         "yaxis": "y"
        },
        {
         "bingroup": "x",
         "histfunc": "sum",
         "hovertemplate": "obcan_statu=Island<br>kraj=%{x}<br>sum of pocet=%{y}<extra></extra>",
         "legendgroup": "Island",
         "marker": {
          "color": "#19d3f3",
          "pattern": {
           "shape": ""
          }
         },
         "name": "Island",
         "orientation": "v",
         "showlegend": true,
         "type": "histogram",
         "x": [
          "Hlavní město Praha",
          "Moravskoslezský kraj",
          "Plzeňský kraj",
          "Středočeský kraj"
         ],
         "xaxis": "x",
         "y": {
          "bdata": "F1100UUX/T8AAAAAAADwPwAAAAAAAPA/AAAAAAAA8D8=",
          "dtype": "f8"
         },
         "yaxis": "y"
        },
        {
         "bingroup": "x",
         "histfunc": "sum",
         "hovertemplate": "obcan_statu=Itálie<br>kraj=%{x}<br>sum of pocet=%{y}<extra></extra>",
         "legendgroup": "Itálie",
         "marker": {
          "color": "#FF6692",
          "pattern": {
           "shape": ""
          }
         },
         "name": "Itálie",
         "orientation": "v",
         "showlegend": true,
         "type": "histogram",
         "x": [
          "Hlavní město Praha",
          "Jihomoravský kraj",
          "Jihočeský kraj",
          "Karlovarský kraj",
          "Kraj Vysočina",
          "Královéhradecký kraj",
          "Liberecký kraj",
          "Moravskoslezský kraj",
          "Olomoucký kraj",
          "Pardubický kraj",
          "Plzeňský kraj",
          "Středočeský kraj",
          "Zlínský kraj",
          "nezjištěno",
          "Ústecký kraj"
         ],
         "xaxis": "x",
         "y": {
          "bdata": "CsZb2eeQTEC3bdu2bdsUQOUnxFn5CQFA0iAN0iANAkDbtm3btm37Pw3lNZTXUP4/1Uqt1EqtBED+ZAls2k8GQPiBH/iBHwhAEayjzfsUB0CwBVuwBVsAQLW0tLS0tARA1K5E7UrUDkCSJEmSJEnyPychir/IGQZA",
          "dtype": "f8"
         },
         "yaxis": "y"
        },
        {
         "bingroup": "x",
         "histfunc": "sum",
         "hovertemplate": "obcan_statu=Izrael<br>kraj=%{x}<br>sum of pocet=%{y}<extra></extra>",
         "legendgroup": "Izrael",
         "marker": {
          "color": "#B6E880",
          "pattern": {
           "shape": ""
          }
         },
         "name": "Izrael",
         "orientation": "v",
         "showlegend": true,
         "type": "histogram",
         "x": [
          "Hlavní město Praha",
          "Jihomoravský kraj",
          "Jihočeský kraj",
          "Karlovarský kraj",
          "Kraj Vysočina",
          "Královéhradecký kraj",
          "Liberecký kraj",
          "Moravskoslezský kraj",
          "Olomoucký kraj",
          "Pardubický kraj",
          "Plzeňský kraj",
          "Středočeský kraj",
          "Zlínský kraj",
          "nezjištěno",
          "Ústecký kraj"
         ],
         "xaxis": "x",
         "y": {
          "bdata": "5+bm5ubmNkAAAAAAAAALQNu2bdu2bfs/HMdxHMdxDECamZmZmZn5P2ZmZmZmZvY/t23btm3b9j/btm3btm37PzMzMzMzMwNAAAAAAAAA8D/Cck8jLPcEQF9CewntJQxAAAAAAAAA8D8AAAAAAADwP+pNb3rTm/4/",
          "dtype": "f8"
         },
         "yaxis": "y"
        },
        {
         "bingroup": "x",
         "histfunc": "sum",
         "hovertemplate": "obcan_statu=Jamajka<br>kraj=%{x}<br>sum of pocet=%{y}<extra></extra>",
         "legendgroup": "Jamajka",
         "marker": {
          "color": "#FF97FF",
          "pattern": {
           "shape": ""
          }
         },
         "name": "Jamajka",
         "orientation": "v",
         "showlegend": true,
         "type": "histogram",
         "x": [
          "Hlavní město Praha",
          "Liberecký kraj",
          "Středočeský kraj"
         ],
         "xaxis": "x",
         "y": {
          "bdata": "AAAAAAAA8D8AAAAAAADwPwAAAAAAAPA/",
          "dtype": "f8"
         },
         "yaxis": "y"
        },
        {
         "bingroup": "x",
         "histfunc": "sum",
         "hovertemplate": "obcan_statu=Japonsko<br>kraj=%{x}<br>sum of pocet=%{y}<extra></extra>",
         "legendgroup": "Japonsko",
         "marker": {
          "color": "#FECB52",
          "pattern": {
           "shape": ""
          }
         },
         "name": "Japonsko",
         "orientation": "v",
         "showlegend": true,
         "type": "histogram",
         "x": [
          "Hlavní město Praha",
          "Jihomoravský kraj",
          "Jihočeský kraj",
          "Karlovarský kraj",
          "Kraj Vysočina",
          "Královéhradecký kraj",
          "Liberecký kraj",
          "Moravskoslezský kraj",
          "Olomoucký kraj",
          "Pardubický kraj",
          "Plzeňský kraj",
          "Středočeský kraj",
          "Zlínský kraj",
          "nezjištěno",
          "Ústecký kraj"
         ],
         "xaxis": "x",
         "y": {
          "bdata": "XUFMriAmS0AhC1nIQhYCQHkN5TWU1wBARhdddNFF9z/ijrgj7ogLQNu2bdu2bfs/TGgvob2EBkAJyz2NsNzzP2ZmZmZmZgJAAAAAAAAADEBmZmZmZmYUQK5jFOc6RgFAAAAAAAAA/j8REREREREBQN/0pje96Q1A",
          "dtype": "f8"
         },
         "yaxis": "y"
        },
        {
         "bingroup": "x",
         "histfunc": "sum",
         "hovertemplate": "obcan_statu=Jemen<br>kraj=%{x}<br>sum of pocet=%{y}<extra></extra>",
         "legendgroup": "Jemen",
         "marker": {
          "color": "#636efa",
          "pattern": {
           "shape": ""
          }
         },
         "name": "Jemen",
         "orientation": "v",
         "showlegend": true,
         "type": "histogram",
         "x": [
          "Hlavní město Praha",
          "Jihomoravský kraj",
          "Karlovarský kraj",
          "Kraj Vysočina",
          "Královéhradecký kraj",
          "Liberecký kraj",
          "Moravskoslezský kraj",
          "Olomoucký kraj",
          "Pardubický kraj",
          "Plzeňský kraj",
          "Středočeský kraj",
          "Ústecký kraj"
         ],
         "xaxis": "x",
         "y": {
          "bdata": "EUIIIYQQEkAAAAAAAAAOQFVVVVVVVfU/chzHcRzHAUAAAAAAAAAMQFVVVVVVVfU/OY7jOI7j+D94eHh4eHgIQAAAAAAAAPA/AAAAAAAAEECamZmZmZn5PzaU11BeQ/k/",
          "dtype": "f8"
         },
         "yaxis": "y"
        },
        {
         "bingroup": "x",
         "histfunc": "sum",
         "hovertemplate": "obcan_statu=Jižní Afrika<br>kraj=%{x}<br>sum of pocet=%{y}<extra></extra>",
         "legendgroup": "Jižní Afrika",
         "marker": {
          "color": "#EF553B",
          "pattern": {
           "shape": ""
          }
         },
         "name": "Jižní Afrika",
         "orientation": "v",
         "showlegend": true,
         "type": "histogram",
         "x": [
          "Hlavní město Praha",
          "Jihomoravský kraj",
          "Jihočeský kraj",
          "Karlovarský kraj",
          "Kraj Vysočina",
          "Královéhradecký kraj",
          "Liberecký kraj",
          "Moravskoslezský kraj",
          "Olomoucký kraj",
          "Pardubický kraj",
          "Středočeský kraj",
          "Zlínský kraj",
          "Ústecký kraj"
         ],
         "xaxis": "x",
         "y": {
          "bdata": "WlpaWlpaGkBmZmZmZmb2P57YiZ3Yif0/AAAAAAAA+D8AAAAAAADwPwAAAAAAAPA/AAAAAAAA+D8AAAAAAADwPzMzMzMzM/M/VVVVVVVV9T8cTJHPusH0P5eWlpaWlvY/MzMzMzMz8z8=",
          "dtype": "f8"
         },
         "yaxis": "y"
        },
        {
         "bingroup": "x",
         "histfunc": "sum",
         "hovertemplate": "obcan_statu=Jordánsko<br>kraj=%{x}<br>sum of pocet=%{y}<extra></extra>",
         "legendgroup": "Jordánsko",
         "marker": {
          "color": "#00cc96",
          "pattern": {
           "shape": ""
          }
         },
         "name": "Jordánsko",
         "orientation": "v",
         "showlegend": true,
         "type": "histogram",
         "x": [
          "Hlavní město Praha",
          "Jihomoravský kraj",
          "Jihočeský kraj",
          "Karlovarský kraj",
          "Kraj Vysočina",
          "Královéhradecký kraj",
          "Liberecký kraj",
          "Moravskoslezský kraj",
          "Olomoucký kraj",
          "Pardubický kraj",
          "Plzeňský kraj",
          "Středočeský kraj",
          "Zlínský kraj",
          "Ústecký kraj"
         ],
         "xaxis": "x",
         "y": {
          "bdata": "kMH5GJyPIUByHMdxHMcBQAAAAAAAAPA/dNFFF1108T8AAAAAAADwP3TRRRdddPE/VVVVVVVVBUAAAAAAAAD0P1VVVVVVVfU/AAAAAAAA8D9u27Zt27YNQDTWh8b60Pg/kiRJkiRJ8j9VVVVVVVX1Pw==",
          "dtype": "f8"
         },
         "yaxis": "y"
        },
        {
         "bingroup": "x",
         "histfunc": "sum",
         "hovertemplate": "obcan_statu=Kambodža<br>kraj=%{x}<br>sum of pocet=%{y}<extra></extra>",
         "legendgroup": "Kambodža",
         "marker": {
          "color": "#ab63fa",
          "pattern": {
           "shape": ""
          }
         },
         "name": "Kambodža",
         "orientation": "v",
         "showlegend": true,
         "type": "histogram",
         "x": [
          "Hlavní město Praha",
          "Jihomoravský kraj",
          "Jihočeský kraj",
          "Kraj Vysočina",
          "Pardubický kraj",
          "Středočeský kraj"
         ],
         "xaxis": "x",
         "y": {
          "bdata": "AAAAAAAABECSJEmSJEnyPwAAAAAAAPA/AAAAAAAA8D8AAAAAAADwPwAAAAAAAPA/",
          "dtype": "f8"
         },
         "yaxis": "y"
        },
        {
         "bingroup": "x",
         "histfunc": "sum",
         "hovertemplate": "obcan_statu=Kamerun<br>kraj=%{x}<br>sum of pocet=%{y}<extra></extra>",
         "legendgroup": "Kamerun",
         "marker": {
          "color": "#FFA15A",
          "pattern": {
           "shape": ""
          }
         },
         "name": "Kamerun",
         "orientation": "v",
         "showlegend": true,
         "type": "histogram",
         "x": [
          "Hlavní město Praha",
          "Jihomoravský kraj",
          "Liberecký kraj",
          "Olomoucký kraj",
          "Středočeský kraj",
          "Ústecký kraj"
         ],
         "xaxis": "x",
         "y": {
          "bdata": "AAAAAAAA8D8AAAAAAADwP1VVVVVVVfU/AAAAAAAA8D8AAAAAAADwPwAAAAAAAPA/",
          "dtype": "f8"
         },
         "yaxis": "y"
        },
        {
         "bingroup": "x",
         "histfunc": "sum",
         "hovertemplate": "obcan_statu=Kanada<br>kraj=%{x}<br>sum of pocet=%{y}<extra></extra>",
         "legendgroup": "Kanada",
         "marker": {
          "color": "#19d3f3",
          "pattern": {
           "shape": ""
          }
         },
         "name": "Kanada",
         "orientation": "v",
         "showlegend": true,
         "type": "histogram",
         "x": [
          "Hlavní město Praha",
          "Jihomoravský kraj",
          "Jihočeský kraj",
          "Karlovarský kraj",
          "Kraj Vysočina",
          "Královéhradecký kraj",
          "Liberecký kraj",
          "Moravskoslezský kraj",
          "Olomoucký kraj",
          "Pardubický kraj",
          "Plzeňský kraj",
          "Středočeský kraj",
          "Zlínský kraj",
          "nezjištěno",
          "Ústecký kraj"
         ],
         "xaxis": "x",
         "y": {
          "bdata": "c3Nzc3NzN0B5DeU1lNcAQCNoOKn78vg/11prrbXW+j9VVVVVVVX1P/EVX/EVXwFA2Ymd2Imd+D/hehSuR+H6P6ldidqVqP0/HMdxHMdx/D/e3d3d3d39P1yPwvUoXP8/q6qqqqqq+j8lSZIkSZIUQAAAAAAAAPg/",
          "dtype": "f8"
         },
         "yaxis": "y"
        },
        {
         "bingroup": "x",
         "histfunc": "sum",
         "hovertemplate": "obcan_statu=Kapverdy<br>kraj=%{x}<br>sum of pocet=%{y}<extra></extra>",
         "legendgroup": "Kapverdy",
         "marker": {
          "color": "#FF6692",
          "pattern": {
           "shape": ""
          }
         },
         "name": "Kapverdy",
         "orientation": "v",
         "showlegend": true,
         "type": "histogram",
         "x": [
          "Hlavní město Praha",
          "Jihomoravský kraj",
          "Středočeský kraj"
         ],
         "xaxis": "x",
         "y": {
          "bdata": "AAAAAAAAAEBVVVVVVVX1PwAAAAAAAPA/",
          "dtype": "f8"
         },
         "yaxis": "y"
        },
        {
         "bingroup": "x",
         "histfunc": "sum",
         "hovertemplate": "obcan_statu=Katar<br>kraj=%{x}<br>sum of pocet=%{y}<extra></extra>",
         "legendgroup": "Katar",
         "marker": {
          "color": "#B6E880",
          "pattern": {
           "shape": ""
          }
         },
         "name": "Katar",
         "orientation": "v",
         "showlegend": true,
         "type": "histogram",
         "x": [
          "Hlavní město Praha",
          "Liberecký kraj"
         ],
         "xaxis": "x",
         "y": {
          "bdata": "AAAAAAAA8D8AAAAAAADwPw==",
          "dtype": "f8"
         },
         "yaxis": "y"
        },
        {
         "bingroup": "x",
         "histfunc": "sum",
         "hovertemplate": "obcan_statu=Kazachstán<br>kraj=%{x}<br>sum of pocet=%{y}<extra></extra>",
         "legendgroup": "Kazachstán",
         "marker": {
          "color": "#FF97FF",
          "pattern": {
           "shape": ""
          }
         },
         "name": "Kazachstán",
         "orientation": "v",
         "showlegend": true,
         "type": "histogram",
         "x": [
          "Hlavní město Praha",
          "Jihomoravský kraj",
          "Jihočeský kraj",
          "Karlovarský kraj",
          "Kraj Vysočina",
          "Královéhradecký kraj",
          "Liberecký kraj",
          "Moravskoslezský kraj",
          "Olomoucký kraj",
          "Pardubický kraj",
          "Plzeňský kraj",
          "Středočeský kraj",
          "Zlínský kraj",
          "Ústecký kraj"
         ],
         "xaxis": "x",
         "y": {
          "bdata": "cT0K16NwTUBf8RVf8RUHQDfQaQOdNgBAFjYHEq2wGUBeQ3kN5TUEQGZmZmZmZgZAiYiIiIiIEECouGQI1tEGQKesKWvKmgJAkB8/fvz4AUBzCl5OwcsJQOw+37VlehJAqV2J2pWo/T9duKtvkvcXQA==",
          "dtype": "f8"
         },
         "yaxis": "y"
        },
        {
         "bingroup": "x",
         "histfunc": "sum",
         "hovertemplate": "obcan_statu=Keňa<br>kraj=%{x}<br>sum of pocet=%{y}<extra></extra>",
         "legendgroup": "Keňa",
         "marker": {
          "color": "#FECB52",
          "pattern": {
           "shape": ""
          }
         },
         "name": "Keňa",
         "orientation": "v",
         "showlegend": true,
         "type": "histogram",
         "x": [
          "Hlavní město Praha",
          "Karlovarský kraj",
          "Královéhradecký kraj",
          "Plzeňský kraj",
          "Středočeský kraj"
         ],
         "xaxis": "x",
         "y": {
          "bdata": "dmIndmInFkAAAAAAAADwP9u2bdu2bfs/q6qqqqqqCkCSJEmSJEnyPw==",
          "dtype": "f8"
         },
         "yaxis": "y"
        },
        {
         "bingroup": "x",
         "histfunc": "sum",
         "hovertemplate": "obcan_statu=Kolumbie<br>kraj=%{x}<br>sum of pocet=%{y}<extra></extra>",
         "legendgroup": "Kolumbie",
         "marker": {
          "color": "#636efa",
          "pattern": {
           "shape": ""
          }
         },
         "name": "Kolumbie",
         "orientation": "v",
         "showlegend": true,
         "type": "histogram",
         "x": [
          "Hlavní město Praha",
          "Jihomoravský kraj",
          "Jihočeský kraj",
          "Karlovarský kraj",
          "Královéhradecký kraj",
          "Liberecký kraj",
          "Moravskoslezský kraj",
          "Olomoucký kraj",
          "Pardubický kraj",
          "Plzeňský kraj",
          "Středočeský kraj",
          "Zlínský kraj",
          "Ústecký kraj"
         ],
         "xaxis": "x",
         "y": {
          "bdata": "QgghhBBCGEAAAAAAAAAEQAAAAAAAAPA/RhdddNFF9z8AAAAAAADwPwAAAAAAAPA/AAAAAAAA8D8AAAAAAAAAQAAAAAAAAPA/AAAAAAAA8D900UUXXXTxPwAAAAAAAPA/AAAAAAAAAEA=",
          "dtype": "f8"
         },
         "yaxis": "y"
        },
        {
         "bingroup": "x",
         "histfunc": "sum",
         "hovertemplate": "obcan_statu=Kongo<br>kraj=%{x}<br>sum of pocet=%{y}<extra></extra>",
         "legendgroup": "Kongo",
         "marker": {
          "color": "#EF553B",
          "pattern": {
           "shape": ""
          }
         },
         "name": "Kongo",
         "orientation": "v",
         "showlegend": true,
         "type": "histogram",
         "x": [
          "Hlavní město Praha",
          "Jihomoravský kraj",
          "Jihočeský kraj",
          "Liberecký kraj",
          "Moravskoslezský kraj",
          "Plzeňský kraj",
          "Středočeský kraj",
          "Ústecký kraj"
         ],
         "xaxis": "x",
         "y": {
          "bdata": "27Zt27ZtE0ByHMdxHMcBQAAAAAAAAPA/AAAAAAAA8D8AAAAAAADwPwAAAAAAAPA/AAAAAAAA+D8AAAAAAADwPw==",
          "dtype": "f8"
         },
         "yaxis": "y"
        },
        {
         "bingroup": "x",
         "histfunc": "sum",
         "hovertemplate": "obcan_statu=Kongo, demokrat.repub.<br>kraj=%{x}<br>sum of pocet=%{y}<extra></extra>",
         "legendgroup": "Kongo, demokrat.repub.",
         "marker": {
          "color": "#00cc96",
          "pattern": {
           "shape": ""
          }
         },
         "name": "Kongo, demokrat.repub.",
         "orientation": "v",
         "showlegend": true,
         "type": "histogram",
         "x": [
          "Hlavní město Praha",
          "Jihomoravský kraj",
          "Karlovarský kraj",
          "Kraj Vysočina",
          "Královéhradecký kraj",
          "Liberecký kraj",
          "Moravskoslezský kraj",
          "Plzeňský kraj",
          "Středočeský kraj",
          "Ústecký kraj"
         ],
         "xaxis": "x",
         "y": {
          "bdata": "WlpaWlpaCkAAAAAAAADwPwAAAAAAAPA/AAAAAAAA8D8AAAAAAADwPwAAAAAAAPA/AAAAAAAA8D9VVVVVVVX1PwAAAAAAAPA/09LS0tLS8j8=",
          "dtype": "f8"
         },
         "yaxis": "y"
        },
        {
         "bingroup": "x",
         "histfunc": "sum",
         "hovertemplate": "obcan_statu=Korea, lidově dem. rep.<br>kraj=%{x}<br>sum of pocet=%{y}<extra></extra>",
         "legendgroup": "Korea, lidově dem. rep.",
         "marker": {
          "color": "#ab63fa",
          "pattern": {
           "shape": ""
          }
         },
         "name": "Korea, lidově dem. rep.",
         "orientation": "v",
         "showlegend": true,
         "type": "histogram",
         "x": [
          "Hlavní město Praha",
          "Královéhradecký kraj",
          "Liberecký kraj",
          "Olomoucký kraj",
          "Pardubický kraj",
          "Středočeský kraj"
         ],
         "xaxis": "x",
         "y": {
          "bdata": "AAAAAACANUB4eHh4eHgwQAAAAAAAABhAVVVVVVVVLUC3bdu2bdsmQITlnkZY7jFA",
          "dtype": "f8"
         },
         "yaxis": "y"
        },
        {
         "bingroup": "x",
         "histfunc": "sum",
         "hovertemplate": "obcan_statu=Korejská republika<br>kraj=%{x}<br>sum of pocet=%{y}<extra></extra>",
         "legendgroup": "Korejská republika",
         "marker": {
          "color": "#FFA15A",
          "pattern": {
           "shape": ""
          }
         },
         "name": "Korejská republika",
         "orientation": "v",
         "showlegend": true,
         "type": "histogram",
         "x": [
          "Hlavní město Praha",
          "Jihomoravský kraj",
          "Jihočeský kraj",
          "Karlovarský kraj",
          "Královéhradecký kraj",
          "Liberecký kraj",
          "Moravskoslezský kraj",
          "Olomoucký kraj",
          "Plzeňský kraj",
          "Středočeský kraj",
          "Zlínský kraj",
          "nezjištěno",
          "Ústecký kraj"
         ],
         "xaxis": "x",
         "y": {
          "bdata": "zczMzMzMLECrqqqqqqoKQJIkSZIkSfI/AAAAAAAA8D8AAAAAAADwPwAAAAAAAPg/AAAAAAAA8D/tJbSX0F4SQAAAAAAAAPg/OL3pTW96A0AAAAAAAADwPwAAAAAAAABAAAAAAAAA8D8=",
          "dtype": "f8"
         },
         "yaxis": "y"
        },
        {
         "bingroup": "x",
         "histfunc": "sum",
         "hovertemplate": "obcan_statu=Kostarika<br>kraj=%{x}<br>sum of pocet=%{y}<extra></extra>",
         "legendgroup": "Kostarika",
         "marker": {
          "color": "#19d3f3",
          "pattern": {
           "shape": ""
          }
         },
         "name": "Kostarika",
         "orientation": "v",
         "showlegend": true,
         "type": "histogram",
         "x": [
          "Hlavní město Praha",
          "Jihomoravský kraj",
          "Karlovarský kraj",
          "Pardubický kraj",
          "Plzeňský kraj",
          "Středočeský kraj"
         ],
         "xaxis": "x",
         "y": {
          "bdata": "JUmSJEmSBEByHMdxHMcBQAAAAAAAAPA/AAAAAAAA8D8AAAAAAADwP6uqqqqqqvo/",
          "dtype": "f8"
         },
         "yaxis": "y"
        },
        {
         "bingroup": "x",
         "histfunc": "sum",
         "hovertemplate": "obcan_statu=Kuba<br>kraj=%{x}<br>sum of pocet=%{y}<extra></extra>",
         "legendgroup": "Kuba",
         "marker": {
          "color": "#FF6692",
          "pattern": {
           "shape": ""
          }
         },
         "name": "Kuba",
         "orientation": "v",
         "showlegend": true,
         "type": "histogram",
         "x": [
          "Hlavní město Praha",
          "Jihomoravský kraj",
          "Jihočeský kraj",
          "Karlovarský kraj",
          "Kraj Vysočina",
          "Královéhradecký kraj",
          "Liberecký kraj",
          "Moravskoslezský kraj",
          "Olomoucký kraj",
          "Pardubický kraj",
          "Plzeňský kraj",
          "Středočeský kraj",
          "Zlínský kraj",
          "Ústecký kraj"
         ],
         "xaxis": "x",
         "y": {
          "bdata": "2FBeQ3kNHUAzMzMzMzMDQDMzMzMzM/M/ZCELWchC9j8AAAAAAADwP2ZmZmZmZvY/MQzDMAzDAEAeHh4eHh4OQAAAAAAAAAJAHMdxHMdx/D/btm3btm37PwAAAAAAAABAAAAAAAAAAEAAAAAAAAACQA==",
          "dtype": "f8"
         },
         "yaxis": "y"
        },
        {
         "bingroup": "x",
         "histfunc": "sum",
         "hovertemplate": "obcan_statu=Kuvajt<br>kraj=%{x}<br>sum of pocet=%{y}<extra></extra>",
         "legendgroup": "Kuvajt",
         "marker": {
          "color": "#B6E880",
          "pattern": {
           "shape": ""
          }
         },
         "name": "Kuvajt",
         "orientation": "v",
         "showlegend": true,
         "type": "histogram",
         "x": [
          "Hlavní město Praha",
          "Jihomoravský kraj",
          "Karlovarský kraj",
          "Královéhradecký kraj",
          "Moravskoslezský kraj",
          "Plzeňský kraj",
          "Středočeský kraj",
          "nezjištěno",
          "Ústecký kraj"
         ],
         "xaxis": "x",
         "y": {
          "bdata": "AAAAAAAACEBVVVVVVVUFQDMzMzMzM/M/AAAAAAAAEEAAAAAAAAAAQAAAAAAAABpAAAAAAAAA8D8AAAAAAADwPwAAAAAAAPA/",
          "dtype": "f8"
         },
         "yaxis": "y"
        },
        {
         "bingroup": "x",
         "histfunc": "sum",
         "hovertemplate": "obcan_statu=Kypr<br>kraj=%{x}<br>sum of pocet=%{y}<extra></extra>",
         "legendgroup": "Kypr",
         "marker": {
          "color": "#FF97FF",
          "pattern": {
           "shape": ""
          }
         },
         "name": "Kypr",
         "orientation": "v",
         "showlegend": true,
         "type": "histogram",
         "x": [
          "Hlavní město Praha",
          "Jihomoravský kraj",
          "Olomoucký kraj",
          "Pardubický kraj",
          "Plzeňský kraj",
          "Středočeský kraj",
          "Zlínský kraj"
         ],
         "xaxis": "x",
         "y": {
          "bdata": "AAAAAAAAEEBVVVVVVVX1PwAAAAAAAPA/AAAAAAAA+D/btm3btm37P3Icx3Ecx/E/AAAAAAAA8D8=",
          "dtype": "f8"
         },
         "yaxis": "y"
        },
        {
         "bingroup": "x",
         "histfunc": "sum",
         "hovertemplate": "obcan_statu=Kyrgyzstán<br>kraj=%{x}<br>sum of pocet=%{y}<extra></extra>",
         "legendgroup": "Kyrgyzstán",
         "marker": {
          "color": "#FECB52",
          "pattern": {
           "shape": ""
          }
         },
         "name": "Kyrgyzstán",
         "orientation": "v",
         "showlegend": true,
         "type": "histogram",
         "x": [
          "Hlavní město Praha",
          "Jihomoravský kraj",
          "Jihočeský kraj",
          "Karlovarský kraj",
          "Královéhradecký kraj",
          "Moravskoslezský kraj",
          "Olomoucký kraj",
          "Středočeský kraj",
          "nezjištěno",
          "Ústecký kraj"
         ],
         "xaxis": "x",
         "y": {
          "bdata": "dyVqV6J2LUDXWmuttdYKQJqZmZmZmfk/3/It3/ItD0Dbtm3btm37P5IkSZIkSfI/VVVVVVVV9T99Z6O+s1H/PwAAAAAAAPA/NpTXUF5DAUA=",
          "dtype": "f8"
         },
         "yaxis": "y"
        },
        {
         "bingroup": "x",
         "histfunc": "sum",
         "hovertemplate": "obcan_statu=Laos<br>kraj=%{x}<br>sum of pocet=%{y}<extra></extra>",
         "legendgroup": "Laos",
         "marker": {
          "color": "#636efa",
          "pattern": {
           "shape": ""
          }
         },
         "name": "Laos",
         "orientation": "v",
         "showlegend": true,
         "type": "histogram",
         "x": [
          "Hlavní město Praha",
          "Jihomoravský kraj",
          "Středočeský kraj"
         ],
         "xaxis": "x",
         "y": {
          "bdata": "XXTRRRddBEDbtm3btm37PwAAAAAAAPA/",
          "dtype": "f8"
         },
         "yaxis": "y"
        },
        {
         "bingroup": "x",
         "histfunc": "sum",
         "hovertemplate": "obcan_statu=Lesotho<br>kraj=%{x}<br>sum of pocet=%{y}<extra></extra>",
         "legendgroup": "Lesotho",
         "marker": {
          "color": "#EF553B",
          "pattern": {
           "shape": ""
          }
         },
         "name": "Lesotho",
         "orientation": "v",
         "showlegend": true,
         "type": "histogram",
         "x": [
          "Hlavní město Praha",
          "Plzeňský kraj"
         ],
         "xaxis": "x",
         "y": {
          "bdata": "AAAAAAAA8D8AAAAAAADwPw==",
          "dtype": "f8"
         },
         "yaxis": "y"
        },
        {
         "bingroup": "x",
         "histfunc": "sum",
         "hovertemplate": "obcan_statu=Libanon<br>kraj=%{x}<br>sum of pocet=%{y}<extra></extra>",
         "legendgroup": "Libanon",
         "marker": {
          "color": "#00cc96",
          "pattern": {
           "shape": ""
          }
         },
         "name": "Libanon",
         "orientation": "v",
         "showlegend": true,
         "type": "histogram",
         "x": [
          "Hlavní město Praha",
          "Jihomoravský kraj",
          "Jihočeský kraj",
          "Karlovarský kraj",
          "Kraj Vysočina",
          "Královéhradecký kraj",
          "Liberecký kraj",
          "Moravskoslezský kraj",
          "Olomoucký kraj",
          "Pardubický kraj",
          "Plzeňský kraj",
          "Středočeský kraj",
          "Zlínský kraj",
          "Ústecký kraj"
         ],
         "xaxis": "x",
         "y": {
          "bdata": "x3Ecx3EcJ0AAAAAAAAAAQAAAAAAAAPA/KVyPwvUoDEByHMdxHMfxP1100UUXXQRAVVVVVVVV9T8AAAAAAAD4P1VVVVVVVf0/AAAAAAAA+D8AAAAAAAAAQDuxEzuxE/s/AAAAAAAA8D+O4ziO4zj+Pw==",
          "dtype": "f8"
         },
         "yaxis": "y"
        },
        {
         "bingroup": "x",
         "histfunc": "sum",
         "hovertemplate": "obcan_statu=Libye<br>kraj=%{x}<br>sum of pocet=%{y}<extra></extra>",
         "legendgroup": "Libye",
         "marker": {
          "color": "#ab63fa",
          "pattern": {
           "shape": ""
          }
         },
         "name": "Libye",
         "orientation": "v",
         "showlegend": true,
         "type": "histogram",
         "x": [
          "Hlavní město Praha",
          "Jihomoravský kraj",
          "Jihočeský kraj",
          "Karlovarský kraj",
          "Královéhradecký kraj",
          "Liberecký kraj",
          "Moravskoslezský kraj",
          "Olomoucký kraj",
          "Pardubický kraj",
          "Plzeňský kraj",
          "Středočeský kraj",
          "Zlínský kraj",
          "nezjištěno",
          "Ústecký kraj"
         ],
         "xaxis": "x",
         "y": {
          "bdata": "Hh4eHh4eMEAAAAAAAAAoQAAAAAAAAPA/AAAAAAAA8D/poosuuugCQJqZmZmZmfk/GIZhGIZh+D8cx3Ecx3H8PwAAAAAAAPw/Q3kN5TWUB0B7FK5H4Xr0PwAAAAAAAPA/AAAAAAAA8D8zMzMzMzPzPw==",
          "dtype": "f8"
         },
         "yaxis": "y"
        },
        {
         "bingroup": "x",
         "histfunc": "sum",
         "hovertemplate": "obcan_statu=Libérie<br>kraj=%{x}<br>sum of pocet=%{y}<extra></extra>",
         "legendgroup": "Libérie",
         "marker": {
          "color": "#FFA15A",
          "pattern": {
           "shape": ""
          }
         },
         "name": "Libérie",
         "orientation": "v",
         "showlegend": true,
         "type": "histogram",
         "x": [
          "Hlavní město Praha",
          "Jihomoravský kraj"
         ],
         "xaxis": "x",
         "y": {
          "bdata": "AAAAAAAA8D8AAAAAAAAAQA==",
          "dtype": "f8"
         },
         "yaxis": "y"
        },
        {
         "bingroup": "x",
         "histfunc": "sum",
         "hovertemplate": "obcan_statu=Litva<br>kraj=%{x}<br>sum of pocet=%{y}<extra></extra>",
         "legendgroup": "Litva",
         "marker": {
          "color": "#19d3f3",
          "pattern": {
           "shape": ""
          }
         },
         "name": "Litva",
         "orientation": "v",
         "showlegend": true,
         "type": "histogram",
         "x": [
          "Hlavní město Praha",
          "Jihomoravský kraj",
          "Jihočeský kraj",
          "Karlovarský kraj",
          "Kraj Vysočina",
          "Královéhradecký kraj",
          "Liberecký kraj",
          "Moravskoslezský kraj",
          "Olomoucký kraj",
          "Pardubický kraj",
          "Plzeňský kraj",
          "Středočeský kraj",
          "Zlínský kraj",
          "Ústecký kraj"
         ],
         "xaxis": "x",
         "y": {
          "bdata": "3BF3xB1xF0AJ7SW0l9D+PwAAAAAAAPA/dNFFF1108T8AAAAAAADwPwAAAAAAAPA/l5aWlpaW9j+e53me53n+PwAAAAAAAPA/AAAAAAAA+D991g2myGf9PzbZZJNNNvk/AAAAAAAA8D8AAAAAAADwPw==",
          "dtype": "f8"
         },
         "yaxis": "y"
        },
        {
         "bingroup": "x",
         "histfunc": "sum",
         "hovertemplate": "obcan_statu=Lotyšsko<br>kraj=%{x}<br>sum of pocet=%{y}<extra></extra>",
         "legendgroup": "Lotyšsko",
         "marker": {
          "color": "#FF6692",
          "pattern": {
           "shape": ""
          }
         },
         "name": "Lotyšsko",
         "orientation": "v",
         "showlegend": true,
         "type": "histogram",
         "x": [
          "Hlavní město Praha",
          "Jihomoravský kraj",
          "Jihočeský kraj",
          "Karlovarský kraj",
          "Královéhradecký kraj",
          "Liberecký kraj",
          "Moravskoslezský kraj",
          "Plzeňský kraj",
          "Středočeský kraj",
          "Zlínský kraj",
          "Ústecký kraj"
         ],
         "xaxis": "x",
         "y": {
          "bdata": "AAAAAAAAEEAAAAAAAADwPwAAAAAAAPA/VVVVVVVV9T8AAAAAAADwPwAAAAAAAPA/mpmZmZmZ+T+SJEmSJEnyPwAAAAAAAPI/ntiJndiJ/T8AAAAAAADwPw==",
          "dtype": "f8"
         },
         "yaxis": "y"
        },
        {
         "bingroup": "x",
         "histfunc": "sum",
         "hovertemplate": "obcan_statu=Lucembursko<br>kraj=%{x}<br>sum of pocet=%{y}<extra></extra>",
         "legendgroup": "Lucembursko",
         "marker": {
          "color": "#B6E880",
          "pattern": {
           "shape": ""
          }
         },
         "name": "Lucembursko",
         "orientation": "v",
         "showlegend": true,
         "type": "histogram",
         "x": [
          "Hlavní město Praha",
          "Moravskoslezský kraj",
          "Olomoucký kraj",
          "Středočeský kraj"
         ],
         "xaxis": "x",
         "y": {
          "bdata": "RhdddNFF9z8AAAAAAAAIQFVVVVVVVfU/AAAAAAAA8D8=",
          "dtype": "f8"
         },
         "yaxis": "y"
        },
        {
         "bingroup": "x",
         "histfunc": "sum",
         "hovertemplate": "obcan_statu=Madagaskar<br>kraj=%{x}<br>sum of pocet=%{y}<extra></extra>",
         "legendgroup": "Madagaskar",
         "marker": {
          "color": "#FF97FF",
          "pattern": {
           "shape": ""
          }
         },
         "name": "Madagaskar",
         "orientation": "v",
         "showlegend": true,
         "type": "histogram",
         "x": [
          "Hlavní město Praha",
          "Jihomoravský kraj",
          "Jihočeský kraj",
          "Karlovarský kraj",
          "Liberecký kraj",
          "Moravskoslezský kraj",
          "Středočeský kraj"
         ],
         "xaxis": "x",
         "y": {
          "bdata": "AAAAAAAABEBVVVVVVVX1PwAAAAAAAPA/AAAAAAAA8D+SJEmSJEnyP5qZmZmZmfk/VVVVVVVV9T8=",
          "dtype": "f8"
         },
         "yaxis": "y"
        },
        {
         "bingroup": "x",
         "histfunc": "sum",
         "hovertemplate": "obcan_statu=Makedonie,býv.jugosl.r.<br>kraj=%{x}<br>sum of pocet=%{y}<extra></extra>",
         "legendgroup": "Makedonie,býv.jugosl.r.",
         "marker": {
          "color": "#FECB52",
          "pattern": {
           "shape": ""
          }
         },
         "name": "Makedonie,býv.jugosl.r.",
         "orientation": "v",
         "showlegend": true,
         "type": "histogram",
         "x": [
          "Hlavní město Praha",
          "Jihomoravský kraj",
          "Jihočeský kraj",
          "Karlovarský kraj",
          "Kraj Vysočina",
          "Královéhradecký kraj",
          "Liberecký kraj",
          "Moravskoslezský kraj",
          "Olomoucký kraj",
          "Pardubický kraj",
          "Plzeňský kraj",
          "Středočeský kraj",
          "Zlínský kraj",
          "Ústecký kraj"
         ],
         "xaxis": "x",
         "y": {
          "bdata": "AAAAAACARkDtStSuRO0KQA3lNZTXUP4/q6qqqqqq+j+RhSxkIQv5P8P1KFyPwgVAvLu7u7u7+z+E5Z5GWO4JQFVVVVVVVQVAnud5nud5/j/NzMzMzMwEQLdt27Zt2wZAnhLkKUGeAkAEDSd1Xx4TQA==",
          "dtype": "f8"
         },
         "yaxis": "y"
        },
        {
         "bingroup": "x",
         "histfunc": "sum",
         "hovertemplate": "obcan_statu=Malajsie<br>kraj=%{x}<br>sum of pocet=%{y}<extra></extra>",
         "legendgroup": "Malajsie",
         "marker": {
          "color": "#636efa",
          "pattern": {
           "shape": ""
          }
         },
         "name": "Malajsie",
         "orientation": "v",
         "showlegend": true,
         "type": "histogram",
         "x": [
          "Hlavní město Praha",
          "Královéhradecký kraj",
          "Středočeský kraj"
         ],
         "xaxis": "x",
         "y": {
          "bdata": "mpmZmZmZCUAAAAAAAAAEQAAAAAAAAPg/",
          "dtype": "f8"
         },
         "yaxis": "y"
        },
        {
         "bingroup": "x",
         "histfunc": "sum",
         "hovertemplate": "obcan_statu=Maledivy<br>kraj=%{x}<br>sum of pocet=%{y}<extra></extra>",
         "legendgroup": "Maledivy",
         "marker": {
          "color": "#EF553B",
          "pattern": {
           "shape": ""
          }
         },
         "name": "Maledivy",
         "orientation": "v",
         "showlegend": true,
         "type": "histogram",
         "x": [
          "Hlavní město Praha",
          "Plzeňský kraj"
         ],
         "xaxis": "x",
         "y": {
          "bdata": "VVVVVVVV9T8AAAAAAADwPw==",
          "dtype": "f8"
         },
         "yaxis": "y"
        },
        {
         "bingroup": "x",
         "histfunc": "sum",
         "hovertemplate": "obcan_statu=Mali<br>kraj=%{x}<br>sum of pocet=%{y}<extra></extra>",
         "legendgroup": "Mali",
         "marker": {
          "color": "#00cc96",
          "pattern": {
           "shape": ""
          }
         },
         "name": "Mali",
         "orientation": "v",
         "showlegend": true,
         "type": "histogram",
         "x": [
          "Hlavní město Praha",
          "Jihomoravský kraj",
          "Moravskoslezský kraj",
          "Středočeský kraj",
          "Ústecký kraj"
         ],
         "xaxis": "x",
         "y": {
          "bdata": "AAAAAAAABEAAAAAAAAAAQAAAAAAAAPA/q6qqqqqq+j8AAAAAAADwPw==",
          "dtype": "f8"
         },
         "yaxis": "y"
        },
        {
         "bingroup": "x",
         "histfunc": "sum",
         "hovertemplate": "obcan_statu=Malta<br>kraj=%{x}<br>sum of pocet=%{y}<extra></extra>",
         "legendgroup": "Malta",
         "marker": {
          "color": "#ab63fa",
          "pattern": {
           "shape": ""
          }
         },
         "name": "Malta",
         "orientation": "v",
         "showlegend": true,
         "type": "histogram",
         "x": [
          "Hlavní město Praha",
          "Královéhradecký kraj",
          "Moravskoslezský kraj",
          "Ústecký kraj"
         ],
         "xaxis": "x",
         "y": {
          "bdata": "mpmZmZmZAUAAAAAAAADwPwAAAAAAAPA/AAAAAAAA8D8=",
          "dtype": "f8"
         },
         "yaxis": "y"
        },
        {
         "bingroup": "x",
         "histfunc": "sum",
         "hovertemplate": "obcan_statu=Maroko<br>kraj=%{x}<br>sum of pocet=%{y}<extra></extra>",
         "legendgroup": "Maroko",
         "marker": {
          "color": "#FFA15A",
          "pattern": {
           "shape": ""
          }
         },
         "name": "Maroko",
         "orientation": "v",
         "showlegend": true,
         "type": "histogram",
         "x": [
          "Hlavní město Praha",
          "Jihomoravský kraj",
          "Jihočeský kraj",
          "Karlovarský kraj",
          "Kraj Vysočina",
          "Královéhradecký kraj",
          "Liberecký kraj",
          "Moravskoslezský kraj",
          "Olomoucký kraj",
          "Pardubický kraj",
          "Plzeňský kraj",
          "Středočeský kraj",
          "Zlínský kraj",
          "nezjištěno",
          "Ústecký kraj"
         ],
         "xaxis": "x",
         "y": {
          "bdata": "XXTRRRddKEByHMdxHMcBQAAAAAAAAPA/AAAAAAAAEkAAAAAAAADwPzMzMzMzM/M/t23btm3b9j+rqqqqqqr6PzmO4ziO4/g/MzMzMzMz8z8AAAAAAADwP2wor6G8hvI/VVVVVVVV9T8AAAAAAAAAQHkN5TWU1/A/",
          "dtype": "f8"
         },
         "yaxis": "y"
        },
        {
         "bingroup": "x",
         "histfunc": "sum",
         "hovertemplate": "obcan_statu=Mauricius<br>kraj=%{x}<br>sum of pocet=%{y}<extra></extra>",
         "legendgroup": "Mauricius",
         "marker": {
          "color": "#19d3f3",
          "pattern": {
           "shape": ""
          }
         },
         "name": "Mauricius",
         "orientation": "v",
         "showlegend": true,
         "type": "histogram",
         "x": [
          "Hlavní město Praha",
          "Královéhradecký kraj"
         ],
         "xaxis": "x",
         "y": {
          "bdata": "kiRJkiRJ8j8AAAAAAADwPw==",
          "dtype": "f8"
         },
         "yaxis": "y"
        },
        {
         "bingroup": "x",
         "histfunc": "sum",
         "hovertemplate": "obcan_statu=Maďarsko<br>kraj=%{x}<br>sum of pocet=%{y}<extra></extra>",
         "legendgroup": "Maďarsko",
         "marker": {
          "color": "#FF6692",
          "pattern": {
           "shape": ""
          }
         },
         "name": "Maďarsko",
         "orientation": "v",
         "showlegend": true,
         "type": "histogram",
         "x": [
          "Hlavní město Praha",
          "Jihomoravský kraj",
          "Jihočeský kraj",
          "Karlovarský kraj",
          "Kraj Vysočina",
          "Královéhradecký kraj",
          "Liberecký kraj",
          "Moravskoslezský kraj",
          "Olomoucký kraj",
          "Pardubický kraj",
          "Plzeňský kraj",
          "Středočeský kraj",
          "Zlínský kraj",
          "Ústecký kraj"
         ],
         "xaxis": "x",
         "y": {
          "bdata": "+85GfWejLkBTT8Zvl3oCQAAAAAAAAPQ/AAAAAAAAAECamZmZmZn5P2QhC1nIQvY/yWfdYIp89j+cj8H5GJwPQJ/0SZ/0Sf8/KvJZN5gi/z9GF1100UX3P9i97nWve/0/kiRJkiRJ8j8/6ZM+6ZP+Pw==",
          "dtype": "f8"
         },
         "yaxis": "y"
        },
        {
         "bingroup": "x",
         "histfunc": "sum",
         "hovertemplate": "obcan_statu=Mexiko<br>kraj=%{x}<br>sum of pocet=%{y}<extra></extra>",
         "legendgroup": "Mexiko",
         "marker": {
          "color": "#B6E880",
          "pattern": {
           "shape": ""
          }
         },
         "name": "Mexiko",
         "orientation": "v",
         "showlegend": true,
         "type": "histogram",
         "x": [
          "Hlavní město Praha",
          "Jihomoravský kraj",
          "Jihočeský kraj",
          "Karlovarský kraj",
          "Královéhradecký kraj",
          "Liberecký kraj",
          "Moravskoslezský kraj",
          "Olomoucký kraj",
          "Pardubický kraj",
          "Plzeňský kraj",
          "Středočeský kraj",
          "Zlínský kraj",
          "Ústecký kraj"
         ],
         "xaxis": "x",
         "y": {
          "bdata": "+OCDDz74EEAAAAAAAADwPwAAAAAAAPA/AAAAAAAA8D+SJEmSJEnyPwAAAAAAAPA/L7rooosu+j8AAAAAAAD4PwAAAAAAAPA/AAAAAAAA8D/GGGOMMcb4PwAAAAAAAPA/AAAAAAAA8D8=",
          "dtype": "f8"
         },
         "yaxis": "y"
        },
        {
         "bingroup": "x",
         "histfunc": "sum",
         "hovertemplate": "obcan_statu=Moldavská republika<br>kraj=%{x}<br>sum of pocet=%{y}<extra></extra>",
         "legendgroup": "Moldavská republika",
         "marker": {
          "color": "#FF97FF",
          "pattern": {
           "shape": ""
          }
         },
         "name": "Moldavská republika",
         "orientation": "v",
         "showlegend": true,
         "type": "histogram",
         "x": [
          "Hlavní město Praha",
          "Jihomoravský kraj",
          "Jihočeský kraj",
          "Karlovarský kraj",
          "Kraj Vysočina",
          "Královéhradecký kraj",
          "Liberecký kraj",
          "Moravskoslezský kraj",
          "Olomoucký kraj",
          "Pardubický kraj",
          "Plzeňský kraj",
          "Středočeský kraj",
          "Zlínský kraj",
          "nezjištěno",
          "Ústecký kraj"
         ],
         "xaxis": "x",
         "y": {
          "bdata": "6aKLLrpoVECzGkUcOmknQPKLJb9Y8hNAiYiIiIiIFECZkimZkikZQA4kWmFzIBFAiB7fhYPoIUByHMdxHMcBQO/u7u7u7hpA5TWU11BeC0DSHGmONEcaQEJCQkJCQiZAOB+D8zE4F0AAAAAAAAAAQOtd8mDAGRdA",
          "dtype": "f8"
         },
         "yaxis": "y"
        },
        {
         "bingroup": "x",
         "histfunc": "sum",
         "hovertemplate": "obcan_statu=Mongolsko<br>kraj=%{x}<br>sum of pocet=%{y}<extra></extra>",
         "legendgroup": "Mongolsko",
         "marker": {
          "color": "#FECB52",
          "pattern": {
           "shape": ""
          }
         },
         "name": "Mongolsko",
         "orientation": "v",
         "showlegend": true,
         "type": "histogram",
         "x": [
          "Hlavní město Praha",
          "Jihomoravský kraj",
          "Jihočeský kraj",
          "Karlovarský kraj",
          "Kraj Vysočina",
          "Královéhradecký kraj",
          "Liberecký kraj",
          "Moravskoslezský kraj",
          "Olomoucký kraj",
          "Pardubický kraj",
          "Plzeňský kraj",
          "Středočeský kraj",
          "Zlínský kraj",
          "nezjištěno",
          "Ústecký kraj"
         ],
         "xaxis": "x",
         "y": {
          "bdata": "wzAMwzAML0DNzMzMzEwoQEYXXXTRRQdAISZXEJMrKECrqqqqqqoqQImIiIiIiAhAAAAAAAAABEC21lprrbX2Pya0l9BeQhtA8asxkR6oDEAb9Z2N+s4WQKXCxPuR0wxAo6KioqKiIkBVVVVVVVX1P4k74o64IxZA",
          "dtype": "f8"
         },
         "yaxis": "y"
        },
        {
         "bingroup": "x",
         "histfunc": "sum",
         "hovertemplate": "obcan_statu=Mosambik<br>kraj=%{x}<br>sum of pocet=%{y}<extra></extra>",
         "legendgroup": "Mosambik",
         "marker": {
          "color": "#636efa",
          "pattern": {
           "shape": ""
          }
         },
         "name": "Mosambik",
         "orientation": "v",
         "showlegend": true,
         "type": "histogram",
         "x": [
          "Hlavní město Praha",
          "Jihomoravský kraj",
          "Liberecký kraj",
          "Moravskoslezský kraj",
          "Olomoucký kraj"
         ],
         "xaxis": "x",
         "y": {
          "bdata": "kiRJkiRJ8j8AAAAAAADwPwAAAAAAAPA/AAAAAAAA8D8AAAAAAADwPw==",
          "dtype": "f8"
         },
         "yaxis": "y"
        },
        {
         "bingroup": "x",
         "histfunc": "sum",
         "hovertemplate": "obcan_statu=Namibie<br>kraj=%{x}<br>sum of pocet=%{y}<extra></extra>",
         "legendgroup": "Namibie",
         "marker": {
          "color": "#EF553B",
          "pattern": {
           "shape": ""
          }
         },
         "name": "Namibie",
         "orientation": "v",
         "showlegend": true,
         "type": "histogram",
         "x": [
          "Hlavní město Praha",
          "Jihočeský kraj",
          "Karlovarský kraj",
          "Olomoucký kraj",
          "Plzeňský kraj",
          "Ústecký kraj"
         ],
         "xaxis": "x",
         "y": {
          "bdata": "kiRJkiRJAkAzMzMzMzMDQJIkSZIkSfI/AAAAAAAA8D8AAAAAAAAAQAAAAAAAAAhA",
          "dtype": "f8"
         },
         "yaxis": "y"
        },
        {
         "bingroup": "x",
         "histfunc": "sum",
         "hovertemplate": "obcan_statu=Nauru<br>kraj=%{x}<br>sum of pocet=%{y}<extra></extra>",
         "legendgroup": "Nauru",
         "marker": {
          "color": "#00cc96",
          "pattern": {
           "shape": ""
          }
         },
         "name": "Nauru",
         "orientation": "v",
         "showlegend": true,
         "type": "histogram",
         "x": [
          "Hlavní město Praha"
         ],
         "xaxis": "x",
         "y": {
          "bdata": "AAAAAAAA8D8=",
          "dtype": "f8"
         },
         "yaxis": "y"
        },
        {
         "bingroup": "x",
         "histfunc": "sum",
         "hovertemplate": "obcan_statu=Nepál<br>kraj=%{x}<br>sum of pocet=%{y}<extra></extra>",
         "legendgroup": "Nepál",
         "marker": {
          "color": "#ab63fa",
          "pattern": {
           "shape": ""
          }
         },
         "name": "Nepál",
         "orientation": "v",
         "showlegend": true,
         "type": "histogram",
         "x": [
          "Hlavní město Praha",
          "Jihomoravský kraj",
          "Jihočeský kraj",
          "Moravskoslezský kraj",
          "Olomoucký kraj",
          "Plzeňský kraj",
          "Středočeský kraj",
          "nezjištěno",
          "Ústecký kraj"
         ],
         "xaxis": "x",
         "y": {
          "bdata": "2Ymd2ImdCEAAAAAAAADwP57YiZ3Yif0/AAAAAAAA8D8AAAAAAADwPwAAAAAAAPA/AAAAAAAA8D8AAAAAAADwPwAAAAAAAABA",
          "dtype": "f8"
         },
         "yaxis": "y"
        },
        {
         "bingroup": "x",
         "histfunc": "sum",
         "hovertemplate": "obcan_statu=Nezjištěno<br>kraj=%{x}<br>sum of pocet=%{y}<extra></extra>",
         "legendgroup": "Nezjištěno",
         "marker": {
          "color": "#FFA15A",
          "pattern": {
           "shape": ""
          }
         },
         "name": "Nezjištěno",
         "orientation": "v",
         "showlegend": true,
         "type": "histogram",
         "x": [
          "Hlavní město Praha",
          "Jihomoravský kraj",
          "Jihočeský kraj",
          "Karlovarský kraj",
          "Kraj Vysočina",
          "Královéhradecký kraj",
          "Liberecký kraj",
          "Moravskoslezský kraj",
          "Olomoucký kraj",
          "Pardubický kraj",
          "Plzeňský kraj",
          "Středočeský kraj",
          "Zlínský kraj",
          "nezjištěno",
          "Ústecký kraj"
         ],
         "xaxis": "x",
         "y": {
          "bdata": "G8prKK8hYUAeqtuhuh0aQM3MzMzMzAhAMbmCmFxBFEDE5ApicgUBQIiHh4eHhwdA4XoUrkfhEkC+4iu+4isSQDAwMDAwMBBAYid2Yid2AkAxncV0FtMJQMjgfAzOxxBA8xPirPyECEAAAAAAAAD4P/EVX/EVXxFA",
          "dtype": "f8"
         },
         "yaxis": "y"
        },
        {
         "bingroup": "x",
         "histfunc": "sum",
         "hovertemplate": "obcan_statu=Nigérie<br>kraj=%{x}<br>sum of pocet=%{y}<extra></extra>",
         "legendgroup": "Nigérie",
         "marker": {
          "color": "#19d3f3",
          "pattern": {
           "shape": ""
          }
         },
         "name": "Nigérie",
         "orientation": "v",
         "showlegend": true,
         "type": "histogram",
         "x": [
          "Hlavní město Praha",
          "Jihomoravský kraj",
          "Jihočeský kraj",
          "Karlovarský kraj",
          "Kraj Vysočina",
          "Královéhradecký kraj",
          "Liberecký kraj",
          "Moravskoslezský kraj",
          "Olomoucký kraj",
          "Pardubický kraj",
          "Plzeňský kraj",
          "Středočeský kraj",
          "Zlínský kraj",
          "Ústecký kraj"
         ],
         "xaxis": "x",
         "y": {
          "bdata": "O7ETO7ETI0BddNFFF10EQAAAAAAAAPA/AAAAAAAA8D8AAAAAAADwPwAAAAAAAApAAAAAAAAAAEByHMdxHMfxPwAAAAAAAPA/OY7jOI7j+D/btm3btm37P9pLaC+hvQRAAAAAAAAA8D+amZmZmZkBQA==",
          "dtype": "f8"
         },
         "yaxis": "y"
        },
        {
         "bingroup": "x",
         "histfunc": "sum",
         "hovertemplate": "obcan_statu=Nikaragua<br>kraj=%{x}<br>sum of pocet=%{y}<extra></extra>",
         "legendgroup": "Nikaragua",
         "marker": {
          "color": "#FF6692",
          "pattern": {
           "shape": ""
          }
         },
         "name": "Nikaragua",
         "orientation": "v",
         "showlegend": true,
         "type": "histogram",
         "x": [
          "Hlavní město Praha",
          "Jihomoravský kraj",
          "Olomoucký kraj",
          "Středočeský kraj"
         ],
         "xaxis": "x",
         "y": {
          "bdata": "AAAAAAAAAEAAAAAAAAAAQAAAAAAAAPA/AAAAAAAA8D8=",
          "dtype": "f8"
         },
         "yaxis": "y"
        },
        {
         "bingroup": "x",
         "histfunc": "sum",
         "hovertemplate": "obcan_statu=Nizozemsko<br>kraj=%{x}<br>sum of pocet=%{y}<extra></extra>",
         "legendgroup": "Nizozemsko",
         "marker": {
          "color": "#B6E880",
          "pattern": {
           "shape": ""
          }
         },
         "name": "Nizozemsko",
         "orientation": "v",
         "showlegend": true,
         "type": "histogram",
         "x": [
          "Hlavní město Praha",
          "Jihomoravský kraj",
          "Jihočeský kraj",
          "Karlovarský kraj",
          "Kraj Vysočina",
          "Královéhradecký kraj",
          "Liberecký kraj",
          "Moravskoslezský kraj",
          "Olomoucký kraj",
          "Pardubický kraj",
          "Plzeňský kraj",
          "Středočeský kraj",
          "Zlínský kraj",
          "Ústecký kraj"
         ],
         "xaxis": "x",
         "y": {
          "bdata": "4uHh4eHhNUA84o64I+4IQMkQrKPN+wRAkAZpkAZpAEA7sRM7sRMDQCMs9zTCchNArSlrypqyBkCamZmZmZn5P4mIiIiIiABAKK+hvIby+j+c1H15bEUAQOJVJF5F4gVAAAAAAAAAAEAXXXTRRRf9Pw==",
          "dtype": "f8"
         },
         "yaxis": "y"
        },
        {
         "bingroup": "x",
         "histfunc": "sum",
         "hovertemplate": "obcan_statu=Norsko<br>kraj=%{x}<br>sum of pocet=%{y}<extra></extra>",
         "legendgroup": "Norsko",
         "marker": {
          "color": "#FF97FF",
          "pattern": {
           "shape": ""
          }
         },
         "name": "Norsko",
         "orientation": "v",
         "showlegend": true,
         "type": "histogram",
         "x": [
          "Hlavní město Praha",
          "Jihomoravský kraj",
          "Karlovarský kraj",
          "Královéhradecký kraj",
          "Liberecký kraj",
          "Moravskoslezský kraj",
          "Olomoucký kraj",
          "Pardubický kraj",
          "Plzeňský kraj",
          "Středočeský kraj",
          "nezjištěno",
          "Ústecký kraj"
         ],
         "xaxis": "x",
         "y": {
          "bdata": "W2uttdZaG0AAAAAAAADwPwAAAAAAAPA/AAAAAAAA8D8AAAAAAADwPwAAAAAAAPA/dNFFF1108T8AAAAAAADwPwAAAAAAAPA/eQ3lNZTXAEAAAAAAAAD4PwAAAAAAAPA/",
          "dtype": "f8"
         },
         "yaxis": "y"
        },
        {
         "bingroup": "x",
         "histfunc": "sum",
         "hovertemplate": "obcan_statu=Nový Zéland<br>kraj=%{x}<br>sum of pocet=%{y}<extra></extra>",
         "legendgroup": "Nový Zéland",
         "marker": {
          "color": "#FECB52",
          "pattern": {
           "shape": ""
          }
         },
         "name": "Nový Zéland",
         "orientation": "v",
         "showlegend": true,
         "type": "histogram",
         "x": [
          "Hlavní město Praha",
          "Jihomoravský kraj",
          "Jihočeský kraj",
          "Královéhradecký kraj",
          "Liberecký kraj",
          "Moravskoslezský kraj",
          "Středočeský kraj",
          "Ústecký kraj"
         ],
         "xaxis": "x",
         "y": {
          "bdata": "AAAAAAAAGEAAAAAAAADwP1VVVVVVVfU/AAAAAAAA8D8AAAAAAADwPwAAAAAAAPA/VVVVVVVV9T8RERERERHxPw==",
          "dtype": "f8"
         },
         "yaxis": "y"
        },
        {
         "bingroup": "x",
         "histfunc": "sum",
         "hovertemplate": "obcan_statu=Německo<br>kraj=%{x}<br>sum of pocet=%{y}<extra></extra>",
         "legendgroup": "Německo",
         "marker": {
          "color": "#636efa",
          "pattern": {
           "shape": ""
          }
         },
         "name": "Německo",
         "orientation": "v",
         "showlegend": true,
         "type": "histogram",
         "x": [
          "Hlavní město Praha",
          "Jihomoravský kraj",
          "Jihočeský kraj",
          "Karlovarský kraj",
          "Kraj Vysočina",
          "Královéhradecký kraj",
          "Liberecký kraj",
          "Moravskoslezský kraj",
          "Olomoucký kraj",
          "Pardubický kraj",
          "Plzeňský kraj",
          "Středočeský kraj",
          "Zlínský kraj",
          "nezjištěno",
          "Ústecký kraj"
         ],
         "xaxis": "x",
         "y": {
          "bdata": "xnQW01lMXkB1LQc3+4UYQGOMMcYYYxpAiaUilopYKkArgoaTui8PQA4YqumYSxRAwhT5rBtMHUDGoCLcUrMRQBzHcRzHcRBAQV/QF/QFDUC/PLYiaDglQL8eLsWnexlAZAK9U9dyEEAAAAAAAAAAQNYDdPUAXR1A",
          "dtype": "f8"
         },
         "yaxis": "y"
        },
        {
         "bingroup": "x",
         "histfunc": "sum",
         "hovertemplate": "obcan_statu=Okupované palestinské území<br>kraj=%{x}<br>sum of pocet=%{y}<extra></extra>",
         "legendgroup": "Okupované palestinské území",
         "marker": {
          "color": "#EF553B",
          "pattern": {
           "shape": ""
          }
         },
         "name": "Okupované palestinské území",
         "orientation": "v",
         "showlegend": true,
         "type": "histogram",
         "x": [
          "Hlavní město Praha",
          "Jihomoravský kraj",
          "Karlovarský kraj",
          "Královéhradecký kraj",
          "Liberecký kraj",
          "Olomoucký kraj",
          "Pardubický kraj",
          "Plzeňský kraj",
          "Středočeský kraj",
          "Zlínský kraj",
          "Ústecký kraj"
         ],
         "xaxis": "x",
         "y": {
          "bdata": "d3d3d3d3F0AAAAAAAAAAQM3MzMzMzAxAAAAAAAAABEAAAAAAAAAAQDMzMzMzM/M/AAAAAAAA8D9JkiRJkiQRQHZiJ3ZiJ/Y/AAAAAAAA8D8AAAAAAADwPw==",
          "dtype": "f8"
         },
         "yaxis": "y"
        },
        {
         "bingroup": "x",
         "histfunc": "sum",
         "hovertemplate": "obcan_statu=Omán<br>kraj=%{x}<br>sum of pocet=%{y}<extra></extra>",
         "legendgroup": "Omán",
         "marker": {
          "color": "#00cc96",
          "pattern": {
           "shape": ""
          }
         },
         "name": "Omán",
         "orientation": "v",
         "showlegend": true,
         "type": "histogram",
         "x": [
          "Hlavní město Praha"
         ],
         "xaxis": "x",
         "y": {
          "bdata": "AAAAAAAA8D8=",
          "dtype": "f8"
         },
         "yaxis": "y"
        },
        {
         "bingroup": "x",
         "histfunc": "sum",
         "hovertemplate": "obcan_statu=Panama<br>kraj=%{x}<br>sum of pocet=%{y}<extra></extra>",
         "legendgroup": "Panama",
         "marker": {
          "color": "#ab63fa",
          "pattern": {
           "shape": ""
          }
         },
         "name": "Panama",
         "orientation": "v",
         "showlegend": true,
         "type": "histogram",
         "x": [
          "Hlavní město Praha",
          "Jihomoravský kraj",
          "Karlovarský kraj"
         ],
         "xaxis": "x",
         "y": {
          "bdata": "VVVVVVVV9T8AAAAAAADwPwAAAAAAAPA/",
          "dtype": "f8"
         },
         "yaxis": "y"
        },
        {
         "bingroup": "x",
         "histfunc": "sum",
         "hovertemplate": "obcan_statu=Paraguay<br>kraj=%{x}<br>sum of pocet=%{y}<extra></extra>",
         "legendgroup": "Paraguay",
         "marker": {
          "color": "#FFA15A",
          "pattern": {
           "shape": ""
          }
         },
         "name": "Paraguay",
         "orientation": "v",
         "showlegend": true,
         "type": "histogram",
         "x": [
          "Hlavní město Praha",
          "Jihomoravský kraj",
          "Jihočeský kraj",
          "Karlovarský kraj",
          "Středočeský kraj"
         ],
         "xaxis": "x",
         "y": {
          "bdata": "AAAAAAAACECSJEmSJEnyPwAAAAAAAPA/VVVVVVVV9T8AAAAAAAD4Pw==",
          "dtype": "f8"
         },
         "yaxis": "y"
        },
        {
         "bingroup": "x",
         "histfunc": "sum",
         "hovertemplate": "obcan_statu=Peru<br>kraj=%{x}<br>sum of pocet=%{y}<extra></extra>",
         "legendgroup": "Peru",
         "marker": {
          "color": "#19d3f3",
          "pattern": {
           "shape": ""
          }
         },
         "name": "Peru",
         "orientation": "v",
         "showlegend": true,
         "type": "histogram",
         "x": [
          "Hlavní město Praha",
          "Jihomoravský kraj",
          "Karlovarský kraj",
          "Kraj Vysočina",
          "Královéhradecký kraj",
          "Moravskoslezský kraj",
          "Olomoucký kraj",
          "Pardubický kraj",
          "Plzeňský kraj",
          "Středočeský kraj",
          "Zlínský kraj",
          "Ústecký kraj"
         ],
         "xaxis": "x",
         "y": {
          "bdata": "ip3YiZ3YGUDxFV/xFV8BQFVVVVVVVfU/AAAAAAAA8D9GF1100UX3P2ZmZmZmZvY/AAAAAAAA8D8AAAAAAADwP1VVVVVVVfU/6k1vetOb/j+amZmZmZn5P5qZmZmZmfk/",
          "dtype": "f8"
         },
         "yaxis": "y"
        },
        {
         "bingroup": "x",
         "histfunc": "sum",
         "hovertemplate": "obcan_statu=Pobřeží Slonoviny<br>kraj=%{x}<br>sum of pocet=%{y}<extra></extra>",
         "legendgroup": "Pobřeží Slonoviny",
         "marker": {
          "color": "#FF6692",
          "pattern": {
           "shape": ""
          }
         },
         "name": "Pobřeží Slonoviny",
         "orientation": "v",
         "showlegend": true,
         "type": "histogram",
         "x": [
          "Hlavní město Praha",
          "Jihomoravský kraj",
          "Jihočeský kraj",
          "Karlovarský kraj",
          "Moravskoslezský kraj",
          "Středočeský kraj",
          "Ústecký kraj"
         ],
         "xaxis": "x",
         "y": {
          "bdata": "q6qqqqqqGkAAAAAAAAAIQAAAAAAAAPA/AAAAAAAA8D8AAAAAAADwPwAAAAAAAPA/AAAAAAAA8D8=",
          "dtype": "f8"
         },
         "yaxis": "y"
        },
        {
         "bingroup": "x",
         "histfunc": "sum",
         "hovertemplate": "obcan_statu=Polsko<br>kraj=%{x}<br>sum of pocet=%{y}<extra></extra>",
         "legendgroup": "Polsko",
         "marker": {
          "color": "#B6E880",
          "pattern": {
           "shape": ""
          }
         },
         "name": "Polsko",
         "orientation": "v",
         "showlegend": true,
         "type": "histogram",
         "x": [
          "Hlavní město Praha",
          "Jihomoravský kraj",
          "Jihočeský kraj",
          "Karlovarský kraj",
          "Kraj Vysočina",
          "Královéhradecký kraj",
          "Liberecký kraj",
          "Moravskoslezský kraj",
          "Olomoucký kraj",
          "Pardubický kraj",
          "Plzeňský kraj",
          "Středočeský kraj",
          "Zlínský kraj",
          "Ústecký kraj"
         ],
         "xaxis": "x",
         "y": {
          "bdata": "27Zt27ZtWkDXWmuttdYiQPBktbwxghlANQ9y188WG0Dv1LUc3OwXQCv7HFITjEVAFJ7pb9DtQEAzMSfrghFRQHxx9YOOCiRAXI/C9ShcL0BZVMPs4AgSQBaOzAl4PjFAGJsF1Z6TIUD+ncshqBcwQA==",
          "dtype": "f8"
         },
         "yaxis": "y"
        },
        {
         "bingroup": "x",
         "histfunc": "sum",
         "hovertemplate": "obcan_statu=Portugalsko<br>kraj=%{x}<br>sum of pocet=%{y}<extra></extra>",
         "legendgroup": "Portugalsko",
         "marker": {
          "color": "#FF97FF",
          "pattern": {
           "shape": ""
          }
         },
         "name": "Portugalsko",
         "orientation": "v",
         "showlegend": true,
         "type": "histogram",
         "x": [
          "Hlavní město Praha",
          "Jihomoravský kraj",
          "Jihočeský kraj",
          "Královéhradecký kraj",
          "Liberecký kraj",
          "Moravskoslezský kraj",
          "Pardubický kraj",
          "Plzeňský kraj",
          "Středočeský kraj",
          "Zlínský kraj"
         ],
         "xaxis": "x",
         "y": {
          "bdata": "q6qqqqqqEkAAAAAAAADwPwAAAAAAAPA/AAAAAAAA8D8AAAAAAADwPxQ7sRM7sfM/VVVVVVVV9T8AAAAAAADwPwAAAAAAAPA/AAAAAAAA8D8=",
          "dtype": "f8"
         },
         "yaxis": "y"
        },
        {
         "bingroup": "x",
         "histfunc": "sum",
         "hovertemplate": "obcan_statu=Pákistán<br>kraj=%{x}<br>sum of pocet=%{y}<extra></extra>",
         "legendgroup": "Pákistán",
         "marker": {
          "color": "#FECB52",
          "pattern": {
           "shape": ""
          }
         },
         "name": "Pákistán",
         "orientation": "v",
         "showlegend": true,
         "type": "histogram",
         "x": [
          "Hlavní město Praha",
          "Jihomoravský kraj",
          "Karlovarský kraj",
          "Královéhradecký kraj",
          "Liberecký kraj",
          "Moravskoslezský kraj",
          "Olomoucký kraj",
          "Plzeňský kraj",
          "Středočeský kraj",
          "Zlínský kraj",
          "Ústecký kraj"
         ],
         "xaxis": "x",
         "y": {
          "bdata": "ymsor6G8LkB7Ce0ltJcAQDMzMzMzM/M/ZmZmZmZm9j/poosuuugCQLdt27Zt2/Y/q6qqqqqq+j+amZmZmZkBQKbIZ91givw/AAAAAAAA8D8AAAAAAADwPw==",
          "dtype": "f8"
         },
         "yaxis": "y"
        },
        {
         "bingroup": "x",
         "histfunc": "sum",
         "hovertemplate": "obcan_statu=Rakousko<br>kraj=%{x}<br>sum of pocet=%{y}<extra></extra>",
         "legendgroup": "Rakousko",
         "marker": {
          "color": "#636efa",
          "pattern": {
           "shape": ""
          }
         },
         "name": "Rakousko",
         "orientation": "v",
         "showlegend": true,
         "type": "histogram",
         "x": [
          "Hlavní město Praha",
          "Jihomoravský kraj",
          "Jihočeský kraj",
          "Karlovarský kraj",
          "Kraj Vysočina",
          "Královéhradecký kraj",
          "Liberecký kraj",
          "Moravskoslezský kraj",
          "Olomoucký kraj",
          "Pardubický kraj",
          "Plzeňský kraj",
          "Středočeský kraj",
          "Zlínský kraj",
          "Ústecký kraj"
         ],
         "xaxis": "x",
         "y": {
          "bdata": "01lMZzGdQ0CjxM8o8TMiQCBfJEqNPSRAMZ3FdBbTCUAAAAAAAAAEQPz48ePHj/8/DcE62rxPAUACvVPXcnADQKuqqqqqqgVAFbycgpdTAEAAAAAAAAAAQDeYIp91gwlAwhT5rBtMAUDzqRfzqRcDQA==",
          "dtype": "f8"
         },
         "yaxis": "y"
        },
        {
         "bingroup": "x",
         "histfunc": "sum",
         "hovertemplate": "obcan_statu=Rumunsko<br>kraj=%{x}<br>sum of pocet=%{y}<extra></extra>",
         "legendgroup": "Rumunsko",
         "marker": {
          "color": "#EF553B",
          "pattern": {
           "shape": ""
          }
         },
         "name": "Rumunsko",
         "orientation": "v",
         "showlegend": true,
         "type": "histogram",
         "x": [
          "Hlavní město Praha",
          "Jihomoravský kraj",
          "Jihočeský kraj",
          "Karlovarský kraj",
          "Kraj Vysočina",
          "Královéhradecký kraj",
          "Liberecký kraj",
          "Moravskoslezský kraj",
          "Olomoucký kraj",
          "Pardubický kraj",
          "Plzeňský kraj",
          "Středočeský kraj",
          "Zlínský kraj",
          "nezjištěno",
          "Ústecký kraj"
         ],
         "xaxis": "x",
         "y": {
          "bdata": "SZIkSZIkNUDIXT9brAwPQDG/q8VNmA9AUWDSqXmQK0Dbtm3btm37P/h4j/d4jwdAMJb8YskvBkBYoTNYoTMIQHsJ7SW0lwhAPOKOuCPuCED+3M/93M8dQCI9UDm7hQ9ASZIkSZIkFEByHMdxHMcBQBfmbtNsYR5A",
          "dtype": "f8"
         },
         "yaxis": "y"
        },
        {
         "bingroup": "x",
         "histfunc": "sum",
         "hovertemplate": "obcan_statu=Rusko<br>kraj=%{x}<br>sum of pocet=%{y}<extra></extra>",
         "legendgroup": "Rusko",
         "marker": {
          "color": "#00cc96",
          "pattern": {
           "shape": ""
          }
         },
         "name": "Rusko",
         "orientation": "v",
         "showlegend": true,
         "type": "histogram",
         "x": [
          "Hlavní město Praha",
          "Jihomoravský kraj",
          "Jihočeský kraj",
          "Karlovarský kraj",
          "Kraj Vysočina",
          "Královéhradecký kraj",
          "Liberecký kraj",
          "Moravskoslezský kraj",
          "Olomoucký kraj",
          "Pardubický kraj",
          "Plzeňský kraj",
          "Středočeský kraj",
          "Zlínský kraj",
          "nezjištěno",
          "Ústecký kraj"
         ],
         "xaxis": "x",
         "y": {
          "bdata": "/AjuI7hvgECl3QhIaTciQLSX0F5CexlAQJsGtGlAQ0BPG+i0gU4LQFnIQhaykBFAA2JTaci5H0DbrM3arM0aQF100UUXXRZA7lDdDtXtEEBEgUmn5kEOQBWtulTRqitAGTpgt8daFkCnN73pTW8KQLZIUFMh2ihA",
          "dtype": "f8"
         },
         "yaxis": "y"
        },
        {
         "bingroup": "x",
         "histfunc": "sum",
         "hovertemplate": "obcan_statu=Salvador<br>kraj=%{x}<br>sum of pocet=%{y}<extra></extra>",
         "legendgroup": "Salvador",
         "marker": {
          "color": "#ab63fa",
          "pattern": {
           "shape": ""
          }
         },
         "name": "Salvador",
         "orientation": "v",
         "showlegend": true,
         "type": "histogram",
         "x": [
          "Hlavní město Praha",
          "Jihočeský kraj",
          "Středočeský kraj"
         ],
         "xaxis": "x",
         "y": {
          "bdata": "AAAAAAAA+D8AAAAAAADwPwAAAAAAAABA",
          "dtype": "f8"
         },
         "yaxis": "y"
        },
        {
         "bingroup": "x",
         "histfunc": "sum",
         "hovertemplate": "obcan_statu=Saúdská Arábie<br>kraj=%{x}<br>sum of pocet=%{y}<extra></extra>",
         "legendgroup": "Saúdská Arábie",
         "marker": {
          "color": "#FFA15A",
          "pattern": {
           "shape": ""
          }
         },
         "name": "Saúdská Arábie",
         "orientation": "v",
         "showlegend": true,
         "type": "histogram",
         "x": [
          "Hlavní město Praha",
          "Jihomoravský kraj",
          "Karlovarský kraj",
          "Královéhradecký kraj",
          "Moravskoslezský kraj",
          "Pardubický kraj",
          "Plzeňský kraj",
          "Středočeský kraj",
          "Ústecký kraj"
         ],
         "xaxis": "x",
         "y": {
          "bdata": "AAAAAAAA+D8zMzMzMzMDQHTRRRdddPE/AAAAAAAACEAAAAAAAAAEQAAAAAAAAPA/q6qqqqqqCkAAAAAAAADwP57YiZ3Yif0/",
          "dtype": "f8"
         },
         "yaxis": "y"
        },
        {
         "bingroup": "x",
         "histfunc": "sum",
         "hovertemplate": "obcan_statu=Senegal<br>kraj=%{x}<br>sum of pocet=%{y}<extra></extra>",
         "legendgroup": "Senegal",
         "marker": {
          "color": "#19d3f3",
          "pattern": {
           "shape": ""
          }
         },
         "name": "Senegal",
         "orientation": "v",
         "showlegend": true,
         "type": "histogram",
         "x": [
          "Hlavní město Praha",
          "Královéhradecký kraj",
          "Liberecký kraj",
          "Moravskoslezský kraj",
          "Pardubický kraj",
          "Středočeský kraj"
         ],
         "xaxis": "x",
         "y": {
          "bdata": "q6qqqqqqEkAAAAAAAADwPwAAAAAAAPA/AAAAAAAA8D8AAAAAAADwP7dt27Zt2/Y/",
          "dtype": "f8"
         },
         "yaxis": "y"
        },
        {
         "bingroup": "x",
         "histfunc": "sum",
         "hovertemplate": "obcan_statu=Seychely<br>kraj=%{x}<br>sum of pocet=%{y}<extra></extra>",
         "legendgroup": "Seychely",
         "marker": {
          "color": "#FF6692",
          "pattern": {
           "shape": ""
          }
         },
         "name": "Seychely",
         "orientation": "v",
         "showlegend": true,
         "type": "histogram",
         "x": [
          "Hlavní město Praha",
          "Ústecký kraj"
         ],
         "xaxis": "x",
         "y": {
          "bdata": "AAAAAAAA8D8AAAAAAADwPw==",
          "dtype": "f8"
         },
         "yaxis": "y"
        },
        {
         "bingroup": "x",
         "histfunc": "sum",
         "hovertemplate": "obcan_statu=Sierra Leone<br>kraj=%{x}<br>sum of pocet=%{y}<extra></extra>",
         "legendgroup": "Sierra Leone",
         "marker": {
          "color": "#B6E880",
          "pattern": {
           "shape": ""
          }
         },
         "name": "Sierra Leone",
         "orientation": "v",
         "showlegend": true,
         "type": "histogram",
         "x": [
          "Hlavní město Praha",
          "Jihomoravský kraj",
          "Karlovarský kraj"
         ],
         "xaxis": "x",
         "y": {
          "bdata": "VVVVVVVV9T8AAAAAAADwP5IkSZIkSfI/",
          "dtype": "f8"
         },
         "yaxis": "y"
        },
        {
         "bingroup": "x",
         "histfunc": "sum",
         "hovertemplate": "obcan_statu=Singapur<br>kraj=%{x}<br>sum of pocet=%{y}<extra></extra>",
         "legendgroup": "Singapur",
         "marker": {
          "color": "#FF97FF",
          "pattern": {
           "shape": ""
          }
         },
         "name": "Singapur",
         "orientation": "v",
         "showlegend": true,
         "type": "histogram",
         "x": [
          "Hlavní město Praha",
          "Jihočeský kraj",
          "Kraj Vysočina",
          "Královéhradecký kraj",
          "Moravskoslezský kraj",
          "Středočeský kraj"
         ],
         "xaxis": "x",
         "y": {
          "bdata": "DeU1lNdQ/j8AAAAAAADwPwAAAAAAAPA/AAAAAAAA8D8AAAAAAADwP5qZmZmZmfk/",
          "dtype": "f8"
         },
         "yaxis": "y"
        },
        {
         "bingroup": "x",
         "histfunc": "sum",
         "hovertemplate": "obcan_statu=Slovensko<br>kraj=%{x}<br>sum of pocet=%{y}<extra></extra>",
         "legendgroup": "Slovensko",
         "marker": {
          "color": "#FECB52",
          "pattern": {
           "shape": ""
          }
         },
         "name": "Slovensko",
         "orientation": "v",
         "showlegend": true,
         "type": "histogram",
         "x": [
          "Hlavní město Praha",
          "Jihomoravský kraj",
          "Jihočeský kraj",
          "Karlovarský kraj",
          "Kraj Vysočina",
          "Královéhradecký kraj",
          "Liberecký kraj",
          "Moravskoslezský kraj",
          "Olomoucký kraj",
          "Pardubický kraj",
          "Plzeňský kraj",
          "Středočeský kraj",
          "Zlínský kraj",
          "nezjištěno",
          "Ústecký kraj"
         ],
         "xaxis": "x",
         "y": {
          "bdata": "oryG8hoqjUByPx41qBRKQJzisQ6neDRApgb2jqmBO0CNPlKNPlIxQCA5zdfq2TdA4IurH3RURUBvzQ+LlIFRQBltp1nB4T9Ao4suuuiiN0CamZmZmZk5QEHy51UWZ0ZAxlvZ55AaSkCe2Imd2In9P/SHQnIBrzlA",
          "dtype": "f8"
         },
         "yaxis": "y"
        },
        {
         "bingroup": "x",
         "histfunc": "sum",
         "hovertemplate": "obcan_statu=Slovinsko<br>kraj=%{x}<br>sum of pocet=%{y}<extra></extra>",
         "legendgroup": "Slovinsko",
         "marker": {
          "color": "#636efa",
          "pattern": {
           "shape": ""
          }
         },
         "name": "Slovinsko",
         "orientation": "v",
         "showlegend": true,
         "type": "histogram",
         "x": [
          "Hlavní město Praha",
          "Jihomoravský kraj",
          "Jihočeský kraj",
          "Karlovarský kraj",
          "Královéhradecký kraj",
          "Liberecký kraj",
          "Moravskoslezský kraj",
          "Olomoucký kraj",
          "Pardubický kraj",
          "Plzeňský kraj",
          "Středočeský kraj",
          "Zlínský kraj",
          "Ústecký kraj"
         ],
         "xaxis": "x",
         "y": {
          "bdata": "JWpXonYlIkCJ2pWoXYn6P15DeQ3lNfQ/VVVVVVVV9T+SJEmSJEnyP9mJndiJnfg/YbmnEZZ7+j/T0tLS0tLyPxEREREREfE/AAAAAAAA8D9VVVVVVVX1PwAAAAAAAPA/pZRSSiml9D8=",
          "dtype": "f8"
         },
         "yaxis": "y"
        },
        {
         "bingroup": "x",
         "histfunc": "sum",
         "hovertemplate": "obcan_statu=Spojené království<br>kraj=%{x}<br>sum of pocet=%{y}<extra></extra>",
         "legendgroup": "Spojené království",
         "marker": {
          "color": "#EF553B",
          "pattern": {
           "shape": ""
          }
         },
         "name": "Spojené království",
         "orientation": "v",
         "showlegend": true,
         "type": "histogram",
         "x": [
          "Hlavní město Praha",
          "Jihomoravský kraj",
          "Jihočeský kraj",
          "Karlovarský kraj",
          "Kraj Vysočina",
          "Královéhradecký kraj",
          "Liberecký kraj",
          "Moravskoslezský kraj",
          "Olomoucký kraj",
          "Pardubický kraj",
          "Plzeňský kraj",
          "Středočeský kraj",
          "Zlínský kraj",
          "nezjištěno",
          "Ústecký kraj"
         ],
         "xaxis": "x",
         "y": {
          "bdata": "2zesfcPaU0D3QwJvPyQQQIMt2IIt2AJA1AjLPY2w/D88PDw8PDz8P3Nzc3NzcwNAq6qqqqqqCEARQgghhBACQAQNJ3VfHgtA6r48tiJoCEDx8PDw8PAAQCIiIiIiIhJAlD7pkz7pA0BVVVVVVVX1P6Ev6Av6gv4/",
          "dtype": "f8"
         },
         "yaxis": "y"
        },
        {
         "bingroup": "x",
         "histfunc": "sum",
         "hovertemplate": "obcan_statu=Spojené státy<br>kraj=%{x}<br>sum of pocet=%{y}<extra></extra>",
         "legendgroup": "Spojené státy",
         "marker": {
          "color": "#00cc96",
          "pattern": {
           "shape": ""
          }
         },
         "name": "Spojené státy",
         "orientation": "v",
         "showlegend": true,
         "type": "histogram",
         "x": [
          "Hlavní město Praha",
          "Jihomoravský kraj",
          "Jihočeský kraj",
          "Karlovarský kraj",
          "Kraj Vysočina",
          "Královéhradecký kraj",
          "Liberecký kraj",
          "Moravskoslezský kraj",
          "Olomoucký kraj",
          "Pardubický kraj",
          "Plzeňský kraj",
          "Středočeský kraj",
          "Zlínský kraj",
          "nezjištěno",
          "Ústecký kraj"
         ],
         "xaxis": "x",
         "y": {
          "bdata": "uI/gPoJ7YkCmX/qlX/oVQKwszmj3sAVA8lk3mCKfBUCCAwcOHDgAQOc6RnGuYwRAw/UoXI/CBUDkOI7jOI4LQDw8PDw8PAxA9DzP8zzPA0CWexphuacJQOEVXuEVXhFAQu762WJlCEBJkiRJkiQ1QAAAAAAAQAVA",
          "dtype": "f8"
         },
         "yaxis": "y"
        },
        {
         "bingroup": "x",
         "histfunc": "sum",
         "hovertemplate": "obcan_statu=Srí Lanka<br>kraj=%{x}<br>sum of pocet=%{y}<extra></extra>",
         "legendgroup": "Srí Lanka",
         "marker": {
          "color": "#ab63fa",
          "pattern": {
           "shape": ""
          }
         },
         "name": "Srí Lanka",
         "orientation": "v",
         "showlegend": true,
         "type": "histogram",
         "x": [
          "Hlavní město Praha",
          "Jihomoravský kraj",
          "Kraj Vysočina",
          "Královéhradecký kraj",
          "Liberecký kraj",
          "Moravskoslezský kraj",
          "Středočeský kraj",
          "Zlínský kraj"
         ],
         "xaxis": "x",
         "y": {
          "bdata": "kYUsZCELCUAzMzMzMzPzPwAAAAAAAPA/AAAAAAAAAEAUO7ETO7HzP1VVVVVVVfU/AAAAAAAA8D8AAAAAAADwPw==",
          "dtype": "f8"
         },
         "yaxis": "y"
        },
        {
         "bingroup": "x",
         "histfunc": "sum",
         "hovertemplate": "obcan_statu=Sv.Tomáš a Princův ostr<br>kraj=%{x}<br>sum of pocet=%{y}<extra></extra>",
         "legendgroup": "Sv.Tomáš a Princův ostr",
         "marker": {
          "color": "#FFA15A",
          "pattern": {
           "shape": ""
          }
         },
         "name": "Sv.Tomáš a Princův ostr",
         "orientation": "v",
         "showlegend": true,
         "type": "histogram",
         "x": [
          "Hlavní město Praha",
          "Plzeňský kraj"
         ],
         "xaxis": "x",
         "y": {
          "bdata": "AAAAAAAA8D8AAAAAAADwPw==",
          "dtype": "f8"
         },
         "yaxis": "y"
        },
        {
         "bingroup": "x",
         "histfunc": "sum",
         "hovertemplate": "obcan_statu=Svatá Lucie<br>kraj=%{x}<br>sum of pocet=%{y}<extra></extra>",
         "legendgroup": "Svatá Lucie",
         "marker": {
          "color": "#19d3f3",
          "pattern": {
           "shape": ""
          }
         },
         "name": "Svatá Lucie",
         "orientation": "v",
         "showlegend": true,
         "type": "histogram",
         "x": [
          "Hlavní město Praha"
         ],
         "xaxis": "x",
         "y": {
          "bdata": "kiRJkiRJ8j8=",
          "dtype": "f8"
         },
         "yaxis": "y"
        },
        {
         "bingroup": "x",
         "histfunc": "sum",
         "hovertemplate": "obcan_statu=Syrská arabská repub.<br>kraj=%{x}<br>sum of pocet=%{y}<extra></extra>",
         "legendgroup": "Syrská arabská repub.",
         "marker": {
          "color": "#FF6692",
          "pattern": {
           "shape": ""
          }
         },
         "name": "Syrská arabská repub.",
         "orientation": "v",
         "showlegend": true,
         "type": "histogram",
         "x": [
          "Hlavní město Praha",
          "Jihomoravský kraj",
          "Jihočeský kraj",
          "Karlovarský kraj",
          "Kraj Vysočina",
          "Královéhradecký kraj",
          "Liberecký kraj",
          "Moravskoslezský kraj",
          "Olomoucký kraj",
          "Pardubický kraj",
          "Plzeňský kraj",
          "Středočeský kraj",
          "Zlínský kraj",
          "nezjištěno",
          "Ústecký kraj"
         ],
         "xaxis": "x",
         "y": {
          "bdata": "AAAAAACAJ0A5juM4juMIQAAAAAAAAPA/1AjLPY2w/D8AAAAAAAAAQJVSSimllAJAOB+D8zE4/z8vob2E9hL6PwAAAAAAAABAAAAAAAAA9D9MriAmVxADQH4OqQnGW/k/CtejcD0K9z8AAAAAAADwP8ln3WCKfPY/",
          "dtype": "f8"
         },
         "yaxis": "y"
        },
        {
         "bingroup": "x",
         "histfunc": "sum",
         "hovertemplate": "obcan_statu=Súdán<br>kraj=%{x}<br>sum of pocet=%{y}<extra></extra>",
         "legendgroup": "Súdán",
         "marker": {
          "color": "#B6E880",
          "pattern": {
           "shape": ""
          }
         },
         "name": "Súdán",
         "orientation": "v",
         "showlegend": true,
         "type": "histogram",
         "x": [
          "Hlavní město Praha",
          "Jihomoravský kraj",
          "Karlovarský kraj",
          "Královéhradecký kraj",
          "Olomoucký kraj",
          "Plzeňský kraj",
          "Středočeský kraj",
          "Ústecký kraj"
         ],
         "xaxis": "x",
         "y": {
          "bdata": "jC666KKLDkC3bdu2bdv2PwAAAAAAAPA/AAAAAAAAAEAAAAAAAADwPxzHcRzHcfw/ZCELWchC9j9eQ3kN5TX0Pw==",
          "dtype": "f8"
         },
         "yaxis": "y"
        },
        {
         "bingroup": "x",
         "histfunc": "sum",
         "hovertemplate": "obcan_statu=Tanzanie<br>kraj=%{x}<br>sum of pocet=%{y}<extra></extra>",
         "legendgroup": "Tanzanie",
         "marker": {
          "color": "#FF97FF",
          "pattern": {
           "shape": ""
          }
         },
         "name": "Tanzanie",
         "orientation": "v",
         "showlegend": true,
         "type": "histogram",
         "x": [
          "Hlavní město Praha",
          "Jihomoravský kraj",
          "Karlovarský kraj",
          "Středočeský kraj"
         ],
         "xaxis": "x",
         "y": {
          "bdata": "AAAAAAAAEEAAAAAAAAD4P1VVVVVVVfU/AAAAAAAA8D8=",
          "dtype": "f8"
         },
         "yaxis": "y"
        },
        {
         "bingroup": "x",
         "histfunc": "sum",
         "hovertemplate": "obcan_statu=Tchaj-wan<br>kraj=%{x}<br>sum of pocet=%{y}<extra></extra>",
         "legendgroup": "Tchaj-wan",
         "marker": {
          "color": "#FECB52",
          "pattern": {
           "shape": ""
          }
         },
         "name": "Tchaj-wan",
         "orientation": "v",
         "showlegend": true,
         "type": "histogram",
         "x": [
          "Hlavní město Praha",
          "Jihomoravský kraj",
          "Královéhradecký kraj",
          "Moravskoslezský kraj",
          "Olomoucký kraj",
          "Pardubický kraj",
          "Plzeňský kraj",
          "Středočeský kraj"
         ],
         "xaxis": "x",
         "y": {
          "bdata": "tJfQXkJ7GUBVVVVVVVX1PxQ7sRM7sfM/AAAAAAAA8D9GF1100UUHQAAAAAAAABRAAAAAAAAA8D8AAAAAAADwPw==",
          "dtype": "f8"
         },
         "yaxis": "y"
        },
        {
         "bingroup": "x",
         "histfunc": "sum",
         "hovertemplate": "obcan_statu=Thajsko<br>kraj=%{x}<br>sum of pocet=%{y}<extra></extra>",
         "legendgroup": "Thajsko",
         "marker": {
          "color": "#636efa",
          "pattern": {
           "shape": ""
          }
         },
         "name": "Thajsko",
         "orientation": "v",
         "showlegend": true,
         "type": "histogram",
         "x": [
          "Hlavní město Praha",
          "Jihomoravský kraj",
          "Karlovarský kraj",
          "Kraj Vysočina",
          "Královéhradecký kraj",
          "Liberecký kraj",
          "Olomoucký kraj",
          "Plzeňský kraj",
          "Středočeský kraj",
          "Zlínský kraj",
          "Ústecký kraj"
         ],
         "xaxis": "x",
         "y": {
          "bdata": "AAAAAADAKkBVVVVVVVX1PwAAAAAAABBAAAAAAAAA8D8AAAAAAADwPwAAAAAAAPA/VVVVVVVV9T8zMzMzMzMDQJQ+6ZM+6fM/AAAAAAAA8D8zMzMzMzPzPw==",
          "dtype": "f8"
         },
         "yaxis": "y"
        },
        {
         "bingroup": "x",
         "histfunc": "sum",
         "hovertemplate": "obcan_statu=Togo<br>kraj=%{x}<br>sum of pocet=%{y}<extra></extra>",
         "legendgroup": "Togo",
         "marker": {
          "color": "#EF553B",
          "pattern": {
           "shape": ""
          }
         },
         "name": "Togo",
         "orientation": "v",
         "showlegend": true,
         "type": "histogram",
         "x": [
          "Hlavní město Praha",
          "Jihomoravský kraj",
          "Moravskoslezský kraj"
         ],
         "xaxis": "x",
         "y": {
          "bdata": "AAAAAAAAAECSJEmSJEnyPwAAAAAAAPA/",
          "dtype": "f8"
         },
         "yaxis": "y"
        },
        {
         "bingroup": "x",
         "histfunc": "sum",
         "hovertemplate": "obcan_statu=Tonga<br>kraj=%{x}<br>sum of pocet=%{y}<extra></extra>",
         "legendgroup": "Tonga",
         "marker": {
          "color": "#00cc96",
          "pattern": {
           "shape": ""
          }
         },
         "name": "Tonga",
         "orientation": "v",
         "showlegend": true,
         "type": "histogram",
         "x": [
          "Hlavní město Praha",
          "Kraj Vysočina"
         ],
         "xaxis": "x",
         "y": {
          "bdata": "VVVVVVVV9T8AAAAAAADwPw==",
          "dtype": "f8"
         },
         "yaxis": "y"
        },
        {
         "bingroup": "x",
         "histfunc": "sum",
         "hovertemplate": "obcan_statu=Trinidad a Tobago<br>kraj=%{x}<br>sum of pocet=%{y}<extra></extra>",
         "legendgroup": "Trinidad a Tobago",
         "marker": {
          "color": "#ab63fa",
          "pattern": {
           "shape": ""
          }
         },
         "name": "Trinidad a Tobago",
         "orientation": "v",
         "showlegend": true,
         "type": "histogram",
         "x": [
          "Hlavní město Praha",
          "Olomoucký kraj"
         ],
         "xaxis": "x",
         "y": {
          "bdata": "AAAAAAAA8D8AAAAAAADwPw==",
          "dtype": "f8"
         },
         "yaxis": "y"
        },
        {
         "bingroup": "x",
         "histfunc": "sum",
         "hovertemplate": "obcan_statu=Tunisko<br>kraj=%{x}<br>sum of pocet=%{y}<extra></extra>",
         "legendgroup": "Tunisko",
         "marker": {
          "color": "#FFA15A",
          "pattern": {
           "shape": ""
          }
         },
         "name": "Tunisko",
         "orientation": "v",
         "showlegend": true,
         "type": "histogram",
         "x": [
          "Hlavní město Praha",
          "Jihomoravský kraj",
          "Jihočeský kraj",
          "Karlovarský kraj",
          "Kraj Vysočina",
          "Královéhradecký kraj",
          "Liberecký kraj",
          "Moravskoslezský kraj",
          "Olomoucký kraj",
          "Pardubický kraj",
          "Plzeňský kraj",
          "Středočeský kraj",
          "Zlínský kraj",
          "nezjištěno",
          "Ústecký kraj"
         ],
         "xaxis": "x",
         "y": {
          "bdata": "OY7jOI7jKEAUO7ETO7EDQM3MzMzMzPw/VVVVVVVV9T8AAAAAAADwP5IkSZIkSfI/AAAAAAAAAEAAAAAAAAAAQAAAAAAAAABAt23btm3b9j/HcRzHcRz3P4pLhmAdbf4/AAAAAAAAAEAAAAAAAADwP1100UUXXfQ/",
          "dtype": "f8"
         },
         "yaxis": "y"
        },
        {
         "bingroup": "x",
         "histfunc": "sum",
         "hovertemplate": "obcan_statu=Turecko<br>kraj=%{x}<br>sum of pocet=%{y}<extra></extra>",
         "legendgroup": "Turecko",
         "marker": {
          "color": "#19d3f3",
          "pattern": {
           "shape": ""
          }
         },
         "name": "Turecko",
         "orientation": "v",
         "showlegend": true,
         "type": "histogram",
         "x": [
          "Hlavní město Praha",
          "Jihomoravský kraj",
          "Jihočeský kraj",
          "Karlovarský kraj",
          "Kraj Vysočina",
          "Královéhradecký kraj",
          "Liberecký kraj",
          "Moravskoslezský kraj",
          "Olomoucký kraj",
          "Pardubický kraj",
          "Plzeňský kraj",
          "Středočeský kraj",
          "Zlínský kraj",
          "Ústecký kraj"
         ],
         "xaxis": "x",
         "y": {
          "bdata": "dNFFF110OUDuaYTlnkYIQIQQQgghhABA3dMIyz2NAEBVVVVVVVX1PwAAAAAAAPw/AAAAAAAA/D8lSZIkSZIIQAAAAAAAAPA/Q3kN5TWU9z+rqqqqqqr6P9PS0tLS0gJAAAAAAAAA9D/PRn1no74DQA==",
          "dtype": "f8"
         },
         "yaxis": "y"
        },
        {
         "bingroup": "x",
         "histfunc": "sum",
         "hovertemplate": "obcan_statu=Turkmenistán<br>kraj=%{x}<br>sum of pocet=%{y}<extra></extra>",
         "legendgroup": "Turkmenistán",
         "marker": {
          "color": "#FF6692",
          "pattern": {
           "shape": ""
          }
         },
         "name": "Turkmenistán",
         "orientation": "v",
         "showlegend": true,
         "type": "histogram",
         "x": [
          "Hlavní město Praha",
          "Jihomoravský kraj",
          "Jihočeský kraj",
          "Královéhradecký kraj",
          "Liberecký kraj"
         ],
         "xaxis": "x",
         "y": {
          "bdata": "JUmSJEmSBEAAAAAAAADwPzMzMzMzM/M/AAAAAAAA8D8AAAAAAADwPw==",
          "dtype": "f8"
         },
         "yaxis": "y"
        },
        {
         "bingroup": "x",
         "histfunc": "sum",
         "hovertemplate": "obcan_statu=Tádžikistán<br>kraj=%{x}<br>sum of pocet=%{y}<extra></extra>",
         "legendgroup": "Tádžikistán",
         "marker": {
          "color": "#B6E880",
          "pattern": {
           "shape": ""
          }
         },
         "name": "Tádžikistán",
         "orientation": "v",
         "showlegend": true,
         "type": "histogram",
         "x": [
          "Hlavní město Praha",
          "Jihomoravský kraj",
          "Jihočeský kraj",
          "Plzeňský kraj",
          "Středočeský kraj"
         ],
         "xaxis": "x",
         "y": {
          "bdata": "IiIiIiIiEkAAAAAAAAAAQJIkSZIkSfI/AAAAAAAA8D+amZmZmZn5Pw==",
          "dtype": "f8"
         },
         "yaxis": "y"
        },
        {
         "bingroup": "x",
         "histfunc": "sum",
         "hovertemplate": "obcan_statu=Uganda<br>kraj=%{x}<br>sum of pocet=%{y}<extra></extra>",
         "legendgroup": "Uganda",
         "marker": {
          "color": "#FF97FF",
          "pattern": {
           "shape": ""
          }
         },
         "name": "Uganda",
         "orientation": "v",
         "showlegend": true,
         "type": "histogram",
         "x": [
          "Hlavní město Praha",
          "Karlovarský kraj",
          "Plzeňský kraj",
          "Středočeský kraj"
         ],
         "xaxis": "x",
         "y": {
          "bdata": "VVVVVVVVBUAAAAAAAADwPwAAAAAAAPA/AAAAAAAAAEA=",
          "dtype": "f8"
         },
         "yaxis": "y"
        },
        {
         "bingroup": "x",
         "histfunc": "sum",
         "hovertemplate": "obcan_statu=Ukrajina<br>kraj=%{x}<br>sum of pocet=%{y}<extra></extra>",
         "legendgroup": "Ukrajina",
         "marker": {
          "color": "#FECB52",
          "pattern": {
           "shape": ""
          }
         },
         "name": "Ukrajina",
         "orientation": "v",
         "showlegend": true,
         "type": "histogram",
         "x": [
          "Hlavní město Praha",
          "Jihomoravský kraj",
          "Jihočeský kraj",
          "Karlovarský kraj",
          "Kraj Vysočina",
          "Královéhradecký kraj",
          "Liberecký kraj",
          "Moravskoslezský kraj",
          "Olomoucký kraj",
          "Pardubický kraj",
          "Plzeňský kraj",
          "Středočeský kraj",
          "Zlínský kraj",
          "nezjištěno",
          "Ústecký kraj"
         ],
         "xaxis": "x",
         "y": {
          "bdata": "cB/BfQRHm0CFWY0iDh1fQNw5ffYD6UZANIneM4neR0Bvcje5m9xHQLw/BLw/BEpAJp2aB7nrUUBh3RUo9BQ5QGVYrbegDEFATm9605seS0BtxLr0mL9LQBKjDyHuR1NAs32ietDIO0CO4ziO4zgWQCNGjBgxYk5A",
          "dtype": "f8"
         },
         "yaxis": "y"
        },
        {
         "bingroup": "x",
         "histfunc": "sum",
         "hovertemplate": "obcan_statu=Uruguay<br>kraj=%{x}<br>sum of pocet=%{y}<extra></extra>",
         "legendgroup": "Uruguay",
         "marker": {
          "color": "#636efa",
          "pattern": {
           "shape": ""
          }
         },
         "name": "Uruguay",
         "orientation": "v",
         "showlegend": true,
         "type": "histogram",
         "x": [
          "Hlavní město Praha",
          "Jihomoravský kraj",
          "Plzeňský kraj",
          "Středočeský kraj"
         ],
         "xaxis": "x",
         "y": {
          "bdata": "8fDw8PDwAEAAAAAAAADwPwAAAAAAAPA/AAAAAAAA8D8=",
          "dtype": "f8"
         },
         "yaxis": "y"
        },
        {
         "bingroup": "x",
         "histfunc": "sum",
         "hovertemplate": "obcan_statu=Uzbekistán<br>kraj=%{x}<br>sum of pocet=%{y}<extra></extra>",
         "legendgroup": "Uzbekistán",
         "marker": {
          "color": "#EF553B",
          "pattern": {
           "shape": ""
          }
         },
         "name": "Uzbekistán",
         "orientation": "v",
         "showlegend": true,
         "type": "histogram",
         "x": [
          "Hlavní město Praha",
          "Jihomoravský kraj",
          "Jihočeský kraj",
          "Karlovarský kraj",
          "Královéhradecký kraj",
          "Liberecký kraj",
          "Moravskoslezský kraj",
          "Olomoucký kraj",
          "Pardubický kraj",
          "Plzeňský kraj",
          "Středočeský kraj",
          "Zlínský kraj",
          "Ústecký kraj"
         ],
         "xaxis": "x",
         "y": {
          "bdata": "idqVqF2JKkBhuacRlnv6P0YXXXTRRfc/11prrbXW+j8AAAAAAADwPwAAAAAAAPA/8fDw8PDwAECamZmZmZn5P5IkSZIkSfI/27Zt27ZtG0Dbtm3btm37PwAAAAAAAPA/kiRJkiRJ8j8=",
          "dtype": "f8"
         },
         "yaxis": "y"
        },
        {
         "bingroup": "x",
         "histfunc": "sum",
         "hovertemplate": "obcan_statu=Venezuela<br>kraj=%{x}<br>sum of pocet=%{y}<extra></extra>",
         "legendgroup": "Venezuela",
         "marker": {
          "color": "#00cc96",
          "pattern": {
           "shape": ""
          }
         },
         "name": "Venezuela",
         "orientation": "v",
         "showlegend": true,
         "type": "histogram",
         "x": [
          "Hlavní město Praha",
          "Jihomoravský kraj",
          "Jihočeský kraj",
          "Liberecký kraj",
          "Olomoucký kraj",
          "Pardubický kraj",
          "Plzeňský kraj",
          "Středočeský kraj",
          "Zlínský kraj"
         ],
         "xaxis": "x",
         "y": {
          "bdata": "HMdxHMdxDEB00UUXXXTxPwAAAAAAAPA/AAAAAAAA8D8zMzMzMzPzPwAAAAAAAPA/AAAAAAAA8D8AAAAAAAD0PwAAAAAAAPA/",
          "dtype": "f8"
         },
         "yaxis": "y"
        },
        {
         "bingroup": "x",
         "histfunc": "sum",
         "hovertemplate": "obcan_statu=Vietnam<br>kraj=%{x}<br>sum of pocet=%{y}<extra></extra>",
         "legendgroup": "Vietnam",
         "marker": {
          "color": "#ab63fa",
          "pattern": {
           "shape": ""
          }
         },
         "name": "Vietnam",
         "orientation": "v",
         "showlegend": true,
         "type": "histogram",
         "x": [
          "Hlavní město Praha",
          "Jihomoravský kraj",
          "Jihočeský kraj",
          "Karlovarský kraj",
          "Kraj Vysočina",
          "Královéhradecký kraj",
          "Liberecký kraj",
          "Moravskoslezský kraj",
          "Olomoucký kraj",
          "Pardubický kraj",
          "Plzeňský kraj",
          "Středočeský kraj",
          "Zlínský kraj",
          "nezjištěno",
          "Ústecký kraj"
         ],
         "xaxis": "x",
         "y": {
          "bdata": "HNa+Ye3bc0AaFlwq27tBQJQVYuwDzDRAHMdxHMdxa0BSbblKGtUmQBhXP+iowDVAr0TtStSuO0AL3bGrYelDQG+dV0Djbi1AMEU+6wZTIkDqOxv1nY1FQIDjh3OLAjVAq6qqqqqqKkBVVVVVVVX1P9u2bdu2bVJA",
          "dtype": "f8"
         },
         "yaxis": "y"
        },
        {
         "bingroup": "x",
         "histfunc": "sum",
         "hovertemplate": "obcan_statu=Zambie<br>kraj=%{x}<br>sum of pocet=%{y}<extra></extra>",
         "legendgroup": "Zambie",
         "marker": {
          "color": "#FFA15A",
          "pattern": {
           "shape": ""
          }
         },
         "name": "Zambie",
         "orientation": "v",
         "showlegend": true,
         "type": "histogram",
         "x": [
          "Hlavní město Praha",
          "Karlovarský kraj",
          "Liberecký kraj",
          "Pardubický kraj",
          "Plzeňský kraj",
          "Středočeský kraj"
         ],
         "xaxis": "x",
         "y": {
          "bdata": "OY7jOI7jCEAAAAAAAADwPwAAAAAAAPA/AAAAAAAA8D8AAAAAAADwP5qZmZmZmfk/",
          "dtype": "f8"
         },
         "yaxis": "y"
        },
        {
         "bingroup": "x",
         "histfunc": "sum",
         "hovertemplate": "obcan_statu=Zimbabwe<br>kraj=%{x}<br>sum of pocet=%{y}<extra></extra>",
         "legendgroup": "Zimbabwe",
         "marker": {
          "color": "#19d3f3",
          "pattern": {
           "shape": ""
          }
         },
         "name": "Zimbabwe",
         "orientation": "v",
         "showlegend": true,
         "type": "histogram",
         "x": [
          "Hlavní město Praha",
          "Liberecký kraj",
          "Moravskoslezský kraj",
          "Olomoucký kraj"
         ],
         "xaxis": "x",
         "y": {
          "bdata": "MzMzMzMzA0CSJEmSJEnyPwAAAAAAAPA/AAAAAAAA8D8=",
          "dtype": "f8"
         },
         "yaxis": "y"
        },
        {
         "bingroup": "x",
         "histfunc": "sum",
         "hovertemplate": "obcan_statu=bez státního občanství<br>kraj=%{x}<br>sum of pocet=%{y}<extra></extra>",
         "legendgroup": "bez státního občanství",
         "marker": {
          "color": "#FF6692",
          "pattern": {
           "shape": ""
          }
         },
         "name": "bez státního občanství",
         "orientation": "v",
         "showlegend": true,
         "type": "histogram",
         "x": [
          "Hlavní město Praha",
          "Jihomoravský kraj",
          "Jihočeský kraj",
          "Karlovarský kraj",
          "Kraj Vysočina",
          "Královéhradecký kraj",
          "Liberecký kraj",
          "Moravskoslezský kraj",
          "Olomoucký kraj",
          "Pardubický kraj",
          "Plzeňský kraj",
          "Středočeský kraj",
          "Zlínský kraj",
          "Ústecký kraj"
         ],
         "xaxis": "x",
         "y": {
          "bdata": "mpmZmZmZKUBbsAVbsAX7PxQ7sRM7sfM/5rEVQcNJDUAAAAAAAADwP1VVVVVVVf0/whT5rBtMAUDtG9a+Ye37Pxmcj8H5GPw/AAAAAAAA9D8AAAAAAADwP/dDAm8/JABAVVVVVVVV9T/zLd/yLd8CQA==",
          "dtype": "f8"
         },
         "yaxis": "y"
        },
        {
         "bingroup": "x",
         "histfunc": "sum",
         "hovertemplate": "obcan_statu=Ázerbájdžán<br>kraj=%{x}<br>sum of pocet=%{y}<extra></extra>",
         "legendgroup": "Ázerbájdžán",
         "marker": {
          "color": "#B6E880",
          "pattern": {
           "shape": ""
          }
         },
         "name": "Ázerbájdžán",
         "orientation": "v",
         "showlegend": true,
         "type": "histogram",
         "x": [
          "Hlavní město Praha",
          "Jihomoravský kraj",
          "Jihočeský kraj",
          "Karlovarský kraj",
          "Liberecký kraj",
          "Olomoucký kraj",
          "Pardubický kraj",
          "Středočeský kraj",
          "Zlínský kraj",
          "Ústecký kraj"
         ],
         "xaxis": "x",
         "y": {
          "bdata": "nud5nud5FkCrqqqqqqoGQEYXXXTRRfc/xU7sxE7sBEBGF1100UX3P3sUrkfhegRAAAAAAAAA8D+Uui+PrQj6PwAAAAAAAPA/8lk3mCKfBUA=",
          "dtype": "f8"
         },
         "yaxis": "y"
        },
        {
         "bingroup": "x",
         "histfunc": "sum",
         "hovertemplate": "obcan_statu=Írán<br>kraj=%{x}<br>sum of pocet=%{y}<extra></extra>",
         "legendgroup": "Írán",
         "marker": {
          "color": "#FF97FF",
          "pattern": {
           "shape": ""
          }
         },
         "name": "Írán",
         "orientation": "v",
         "showlegend": true,
         "type": "histogram",
         "x": [
          "Hlavní město Praha",
          "Jihomoravský kraj",
          "Jihočeský kraj",
          "Karlovarský kraj",
          "Královéhradecký kraj",
          "Liberecký kraj",
          "Moravskoslezský kraj",
          "Olomoucký kraj",
          "Pardubický kraj",
          "Plzeňský kraj",
          "Středočeský kraj",
          "Zlínský kraj",
          "Ústecký kraj"
         ],
         "xaxis": "x",
         "y": {
          "bdata": "Q3kN5TWUF0Dbtm3btm37PzMzMzMzM/M/AAAAAAAAAEAAAAAAAAAAQBdddNFFF/0/AAAAAAAA8D8AAAAAAADwP1VVVVVVVfU/AAAAAAAAAEC3bdu2bdv2P1VVVVVVVfU/AAAAAAAA8D8=",
          "dtype": "f8"
         },
         "yaxis": "y"
        },
        {
         "bingroup": "x",
         "histfunc": "sum",
         "hovertemplate": "obcan_statu=Čad<br>kraj=%{x}<br>sum of pocet=%{y}<extra></extra>",
         "legendgroup": "Čad",
         "marker": {
          "color": "#FECB52",
          "pattern": {
           "shape": ""
          }
         },
         "name": "Čad",
         "orientation": "v",
         "showlegend": true,
         "type": "histogram",
         "x": [
          "Hlavní město Praha",
          "Královéhradecký kraj",
          "Středočeský kraj"
         ],
         "xaxis": "x",
         "y": {
          "bdata": "AAAAAAAA8D8AAAAAAADwPwAAAAAAAPQ/",
          "dtype": "f8"
         },
         "yaxis": "y"
        },
        {
         "bingroup": "x",
         "histfunc": "sum",
         "hovertemplate": "obcan_statu=Čína<br>kraj=%{x}<br>sum of pocet=%{y}<extra></extra>",
         "legendgroup": "Čína",
         "marker": {
          "color": "#636efa",
          "pattern": {
           "shape": ""
          }
         },
         "name": "Čína",
         "orientation": "v",
         "showlegend": true,
         "type": "histogram",
         "x": [
          "Hlavní město Praha",
          "Jihomoravský kraj",
          "Jihočeský kraj",
          "Karlovarský kraj",
          "Kraj Vysočina",
          "Královéhradecký kraj",
          "Liberecký kraj",
          "Moravskoslezský kraj",
          "Olomoucký kraj",
          "Pardubický kraj",
          "Plzeňský kraj",
          "Středočeský kraj",
          "Zlínský kraj",
          "nezjištěno",
          "Ústecký kraj"
         ],
         "xaxis": "x",
         "y": {
          "bdata": "NcF4K/ucZkB7Ce0ltJcQQAgqZ7fwqwFAY31orA+NBUBVVVVVVVUFQIQQQgghhABAsfYNa9+wBkDFzyjxM0ocQFVVVVVVVQVAq6qqqqqqEEAURVEURVEEQBBG2rECYRRAAAAAAAAAAEBGF1100UX3P57YiZ3YiQ1A",
          "dtype": "f8"
         },
         "yaxis": "y"
        },
        {
         "bingroup": "x",
         "histfunc": "sum",
         "hovertemplate": "obcan_statu=Řecko<br>kraj=%{x}<br>sum of pocet=%{y}<extra></extra>",
         "legendgroup": "Řecko",
         "marker": {
          "color": "#EF553B",
          "pattern": {
           "shape": ""
          }
         },
         "name": "Řecko",
         "orientation": "v",
         "showlegend": true,
         "type": "histogram",
         "x": [
          "Hlavní město Praha",
          "Jihomoravský kraj",
          "Jihočeský kraj",
          "Karlovarský kraj",
          "Kraj Vysočina",
          "Královéhradecký kraj",
          "Liberecký kraj",
          "Moravskoslezský kraj",
          "Olomoucký kraj",
          "Pardubický kraj",
          "Plzeňský kraj",
          "Středočeský kraj",
          "Zlínský kraj",
          "Ústecký kraj"
         ],
         "xaxis": "x",
         "y": {
          "bdata": "Yid2Yid2LEBFpmG7WZ4UQHsJ7SW0l/A/VVVVVVVV9T9kIQtZyEL2P6uqqqqqqv4/EI31obE+BEDe3d3d3d0VQCVJkiRJkgxAL6G9hPYS+j9VVVVVVVX1P8xhDnOYw/w/dNFFF110AUBeQ3kN5TX0Pw==",
          "dtype": "f8"
         },
         "yaxis": "y"
        },
        {
         "bingroup": "x",
         "histfunc": "sum",
         "hovertemplate": "obcan_statu=Španělsko<br>kraj=%{x}<br>sum of pocet=%{y}<extra></extra>",
         "legendgroup": "Španělsko",
         "marker": {
          "color": "#00cc96",
          "pattern": {
           "shape": ""
          }
         },
         "name": "Španělsko",
         "orientation": "v",
         "showlegend": true,
         "type": "histogram",
         "x": [
          "Hlavní město Praha",
          "Jihomoravský kraj",
          "Jihočeský kraj",
          "Karlovarský kraj",
          "Kraj Vysočina",
          "Královéhradecký kraj",
          "Liberecký kraj",
          "Moravskoslezský kraj",
          "Olomoucký kraj",
          "Pardubický kraj",
          "Plzeňský kraj",
          "Středočeský kraj",
          "Zlínský kraj",
          "nezjištěno",
          "Ústecký kraj"
         ],
         "xaxis": "x",
         "y": {
          "bdata": "7FG4HoXrJUAJyz2NsNwDQNPS0tLS0vI/AAAAAAAA8D8AAAAAAAD4P5IkSZIkSfI/VVVVVVVV9T9VVVVVVVX1P3Icx3EcxwFAVVVVVVVV9T+SJEmSJEnyP2pXonYlavc/mpmZmZmZ+T8AAAAAAADwPwAAAAAAAAhA",
          "dtype": "f8"
         },
         "yaxis": "y"
        },
        {
         "bingroup": "x",
         "histfunc": "sum",
         "hovertemplate": "obcan_statu=Švédsko<br>kraj=%{x}<br>sum of pocet=%{y}<extra></extra>",
         "legendgroup": "Švédsko",
         "marker": {
          "color": "#ab63fa",
          "pattern": {
           "shape": ""
          }
         },
         "name": "Švédsko",
         "orientation": "v",
         "showlegend": true,
         "type": "histogram",
         "x": [
          "Hlavní město Praha",
          "Jihomoravský kraj",
          "Jihočeský kraj",
          "Karlovarský kraj",
          "Kraj Vysočina",
          "Královéhradecký kraj",
          "Liberecký kraj",
          "Moravskoslezský kraj",
          "Olomoucký kraj",
          "Pardubický kraj",
          "Plzeňský kraj",
          "Středočeský kraj",
          "Zlínský kraj",
          "Ústecký kraj"
         ],
         "xaxis": "x",
         "y": {
          "bdata": "HMdxHMdxLEAvuuiiiy4CQNPS0tLS0vI/q6qqqqqq+j9yHMdxHMfxP1VVVVVVVfU/kiRJkiRJ8j8AAAAAAAAAQAAAAAAAAPA/RhdddNFF9z92Yid2Yif2P57neZ7nef4/AAAAAAAA8D/JZ91ginz2Pw==",
          "dtype": "f8"
         },
         "yaxis": "y"
        },
        {
         "bingroup": "x",
         "histfunc": "sum",
         "hovertemplate": "obcan_statu=Švýcarsko<br>kraj=%{x}<br>sum of pocet=%{y}<extra></extra>",
         "legendgroup": "Švýcarsko",
         "marker": {
          "color": "#FFA15A",
          "pattern": {
           "shape": ""
          }
         },
         "name": "Švýcarsko",
         "orientation": "v",
         "showlegend": true,
         "type": "histogram",
         "x": [
          "Hlavní město Praha",
          "Jihomoravský kraj",
          "Jihočeský kraj",
          "Karlovarský kraj",
          "Kraj Vysočina",
          "Královéhradecký kraj",
          "Liberecký kraj",
          "Moravskoslezský kraj",
          "Olomoucký kraj",
          "Pardubický kraj",
          "Plzeňský kraj",
          "Středočeský kraj",
          "Zlínský kraj",
          "Ústecký kraj"
         ],
         "xaxis": "x",
         "y": {
          "bdata": "sRM7sRM7JUAREREREREBQFmWZVmWZfk/AAAAAAAABEBVVVVVVVX1P0N5DeU1lPc/CB988MEH/z822WSTTTb5PzMzMzMzM/M/AAAAAAAA+D/0BX1BX9D3P7Hc0wjLPf0/2Ymd2Imd+D8UO7ETO7HzPw==",
          "dtype": "f8"
         },
         "yaxis": "y"
        },
        {
         "bingroup": "x",
         "histfunc": "sum",
         "hovertemplate": "obcan_statu=Mauritánie<br>kraj=%{x}<br>sum of pocet=%{y}<extra></extra>",
         "legendgroup": "Mauritánie",
         "marker": {
          "color": "#19d3f3",
          "pattern": {
           "shape": ""
          }
         },
         "name": "Mauritánie",
         "orientation": "v",
         "showlegend": true,
         "type": "histogram",
         "x": [
          "Jihomoravský kraj",
          "Královéhradecký kraj",
          "Plzeňský kraj"
         ],
         "xaxis": "x",
         "y": {
          "bdata": "AAAAAAAA8D8AAAAAAADwPwAAAAAAAPA/",
          "dtype": "f8"
         },
         "yaxis": "y"
        },
        {
         "bingroup": "x",
         "histfunc": "sum",
         "hovertemplate": "obcan_statu=Niger<br>kraj=%{x}<br>sum of pocet=%{y}<extra></extra>",
         "legendgroup": "Niger",
         "marker": {
          "color": "#FF6692",
          "pattern": {
           "shape": ""
          }
         },
         "name": "Niger",
         "orientation": "v",
         "showlegend": true,
         "type": "histogram",
         "x": [
          "Jihomoravský kraj",
          "Ústecký kraj"
         ],
         "xaxis": "x",
         "y": {
          "bdata": "AAAAAAAA8D8AAAAAAADwPw==",
          "dtype": "f8"
         },
         "yaxis": "y"
        },
        {
         "bingroup": "x",
         "histfunc": "sum",
         "hovertemplate": "obcan_statu=Rwanda<br>kraj=%{x}<br>sum of pocet=%{y}<extra></extra>",
         "legendgroup": "Rwanda",
         "marker": {
          "color": "#B6E880",
          "pattern": {
           "shape": ""
          }
         },
         "name": "Rwanda",
         "orientation": "v",
         "showlegend": true,
         "type": "histogram",
         "x": [
          "Jihomoravský kraj"
         ],
         "xaxis": "x",
         "y": {
          "bdata": "AAAAAAAA8D8=",
          "dtype": "f8"
         },
         "yaxis": "y"
        },
        {
         "bingroup": "x",
         "histfunc": "sum",
         "hovertemplate": "obcan_statu=Burundi<br>kraj=%{x}<br>sum of pocet=%{y}<extra></extra>",
         "legendgroup": "Burundi",
         "marker": {
          "color": "#FF97FF",
          "pattern": {
           "shape": ""
          }
         },
         "name": "Burundi",
         "orientation": "v",
         "showlegend": true,
         "type": "histogram",
         "x": [
          "Královéhradecký kraj"
         ],
         "xaxis": "x",
         "y": {
          "bdata": "AAAAAAAA8D8=",
          "dtype": "f8"
         },
         "yaxis": "y"
        },
        {
         "bingroup": "x",
         "histfunc": "sum",
         "hovertemplate": "obcan_statu=Spojené arabské emiráty<br>kraj=%{x}<br>sum of pocet=%{y}<extra></extra>",
         "legendgroup": "Spojené arabské emiráty",
         "marker": {
          "color": "#FECB52",
          "pattern": {
           "shape": ""
          }
         },
         "name": "Spojené arabské emiráty",
         "orientation": "v",
         "showlegend": true,
         "type": "histogram",
         "x": [
          "Královéhradecký kraj",
          "Olomoucký kraj",
          "Ústecký kraj"
         ],
         "xaxis": "x",
         "y": {
          "bdata": "AAAAAAAA8D8AAAAAAADwP5qZmZmZmfk/",
          "dtype": "f8"
         },
         "yaxis": "y"
        },
        {
         "bingroup": "x",
         "histfunc": "sum",
         "hovertemplate": "obcan_statu=Lichtenštejnsko<br>kraj=%{x}<br>sum of pocet=%{y}<extra></extra>",
         "legendgroup": "Lichtenštejnsko",
         "marker": {
          "color": "#636efa",
          "pattern": {
           "shape": ""
          }
         },
         "name": "Lichtenštejnsko",
         "orientation": "v",
         "showlegend": true,
         "type": "histogram",
         "x": [
          "Liberecký kraj"
         ],
         "xaxis": "x",
         "y": {
          "bdata": "AAAAAAAA8D8=",
          "dtype": "f8"
         },
         "yaxis": "y"
        },
        {
         "bingroup": "x",
         "histfunc": "sum",
         "hovertemplate": "obcan_statu=Somálsko<br>kraj=%{x}<br>sum of pocet=%{y}<extra></extra>",
         "legendgroup": "Somálsko",
         "marker": {
          "color": "#EF553B",
          "pattern": {
           "shape": ""
          }
         },
         "name": "Somálsko",
         "orientation": "v",
         "showlegend": true,
         "type": "histogram",
         "x": [
          "Liberecký kraj"
         ],
         "xaxis": "x",
         "y": {
          "bdata": "AAAAAAAA8D8=",
          "dtype": "f8"
         },
         "yaxis": "y"
        },
        {
         "bingroup": "x",
         "histfunc": "sum",
         "hovertemplate": "obcan_statu=San Marino<br>kraj=%{x}<br>sum of pocet=%{y}<extra></extra>",
         "legendgroup": "San Marino",
         "marker": {
          "color": "#00cc96",
          "pattern": {
           "shape": ""
          }
         },
         "name": "San Marino",
         "orientation": "v",
         "showlegend": true,
         "type": "histogram",
         "x": [
          "Moravskoslezský kraj"
         ],
         "xaxis": "x",
         "y": {
          "bdata": "AAAAAAAA8D8=",
          "dtype": "f8"
         },
         "yaxis": "y"
        },
        {
         "bingroup": "x",
         "histfunc": "sum",
         "hovertemplate": "obcan_statu=Surinam<br>kraj=%{x}<br>sum of pocet=%{y}<extra></extra>",
         "legendgroup": "Surinam",
         "marker": {
          "color": "#ab63fa",
          "pattern": {
           "shape": ""
          }
         },
         "name": "Surinam",
         "orientation": "v",
         "showlegend": true,
         "type": "histogram",
         "x": [
          "Olomoucký kraj"
         ],
         "xaxis": "x",
         "y": {
          "bdata": "AAAAAAAA8D8=",
          "dtype": "f8"
         },
         "yaxis": "y"
        },
        {
         "bingroup": "x",
         "histfunc": "sum",
         "hovertemplate": "obcan_statu=Fidži<br>kraj=%{x}<br>sum of pocet=%{y}<extra></extra>",
         "legendgroup": "Fidži",
         "marker": {
          "color": "#FFA15A",
          "pattern": {
           "shape": ""
          }
         },
         "name": "Fidži",
         "orientation": "v",
         "showlegend": true,
         "type": "histogram",
         "x": [
          "Středočeský kraj"
         ],
         "xaxis": "x",
         "y": {
          "bdata": "AAAAAAAA8D8=",
          "dtype": "f8"
         },
         "yaxis": "y"
        },
        {
         "bingroup": "x",
         "histfunc": "sum",
         "hovertemplate": "obcan_statu=Džibutsko<br>kraj=%{x}<br>sum of pocet=%{y}<extra></extra>",
         "legendgroup": "Džibutsko",
         "marker": {
          "color": "#19d3f3",
          "pattern": {
           "shape": ""
          }
         },
         "name": "Džibutsko",
         "orientation": "v",
         "showlegend": true,
         "type": "histogram",
         "x": [
          "Ústecký kraj"
         ],
         "xaxis": "x",
         "y": {
          "bdata": "AAAAAAAA8D8=",
          "dtype": "f8"
         },
         "yaxis": "y"
        }
       ],
       "layout": {
        "barmode": "stack",
        "legend": {
         "title": {
          "text": "obcan_statu"
         },
         "tracegroupgap": 0
        },
        "margin": {
         "t": 60
        },
        "template": {
         "data": {
          "bar": [
           {
            "error_x": {
             "color": "#2a3f5f"
            },
            "error_y": {
             "color": "#2a3f5f"
            },
            "marker": {
             "line": {
              "color": "#E5ECF6",
              "width": 0.5
             },
             "pattern": {
              "fillmode": "overlay",
              "size": 10,
              "solidity": 0.2
             }
            },
            "type": "bar"
           }
          ],
          "barpolar": [
           {
            "marker": {
             "line": {
              "color": "#E5ECF6",
              "width": 0.5
             },
             "pattern": {
              "fillmode": "overlay",
              "size": 10,
              "solidity": 0.2
             }
            },
            "type": "barpolar"
           }
          ],
          "carpet": [
           {
            "aaxis": {
             "endlinecolor": "#2a3f5f",
             "gridcolor": "white",
             "linecolor": "white",
             "minorgridcolor": "white",
             "startlinecolor": "#2a3f5f"
            },
            "baxis": {
             "endlinecolor": "#2a3f5f",
             "gridcolor": "white",
             "linecolor": "white",
             "minorgridcolor": "white",
             "startlinecolor": "#2a3f5f"
            },
            "type": "carpet"
           }
          ],
          "choropleth": [
           {
            "colorbar": {
             "outlinewidth": 0,
             "ticks": ""
            },
            "type": "choropleth"
           }
          ],
          "contour": [
           {
            "colorbar": {
             "outlinewidth": 0,
             "ticks": ""
            },
            "colorscale": [
             [
              0,
              "#0d0887"
             ],
             [
              0.1111111111111111,
              "#46039f"
             ],
             [
              0.2222222222222222,
              "#7201a8"
             ],
             [
              0.3333333333333333,
              "#9c179e"
             ],
             [
              0.4444444444444444,
              "#bd3786"
             ],
             [
              0.5555555555555556,
              "#d8576b"
             ],
             [
              0.6666666666666666,
              "#ed7953"
             ],
             [
              0.7777777777777778,
              "#fb9f3a"
             ],
             [
              0.8888888888888888,
              "#fdca26"
             ],
             [
              1,
              "#f0f921"
             ]
            ],
            "type": "contour"
           }
          ],
          "contourcarpet": [
           {
            "colorbar": {
             "outlinewidth": 0,
             "ticks": ""
            },
            "type": "contourcarpet"
           }
          ],
          "heatmap": [
           {
            "colorbar": {
             "outlinewidth": 0,
             "ticks": ""
            },
            "colorscale": [
             [
              0,
              "#0d0887"
             ],
             [
              0.1111111111111111,
              "#46039f"
             ],
             [
              0.2222222222222222,
              "#7201a8"
             ],
             [
              0.3333333333333333,
              "#9c179e"
             ],
             [
              0.4444444444444444,
              "#bd3786"
             ],
             [
              0.5555555555555556,
              "#d8576b"
             ],
             [
              0.6666666666666666,
              "#ed7953"
             ],
             [
              0.7777777777777778,
              "#fb9f3a"
             ],
             [
              0.8888888888888888,
              "#fdca26"
             ],
             [
              1,
              "#f0f921"
             ]
            ],
            "type": "heatmap"
           }
          ],
          "histogram": [
           {
            "marker": {
             "pattern": {
              "fillmode": "overlay",
              "size": 10,
              "solidity": 0.2
             }
            },
            "type": "histogram"
           }
          ],
          "histogram2d": [
           {
            "colorbar": {
             "outlinewidth": 0,
             "ticks": ""
            },
            "colorscale": [
             [
              0,
              "#0d0887"
             ],
             [
              0.1111111111111111,
              "#46039f"
             ],
             [
              0.2222222222222222,
              "#7201a8"
             ],
             [
              0.3333333333333333,
              "#9c179e"
             ],
             [
              0.4444444444444444,
              "#bd3786"
             ],
             [
              0.5555555555555556,
              "#d8576b"
             ],
             [
              0.6666666666666666,
              "#ed7953"
             ],
             [
              0.7777777777777778,
              "#fb9f3a"
             ],
             [
              0.8888888888888888,
              "#fdca26"
             ],
             [
              1,
              "#f0f921"
             ]
            ],
            "type": "histogram2d"
           }
          ],
          "histogram2dcontour": [
           {
            "colorbar": {
             "outlinewidth": 0,
             "ticks": ""
            },
            "colorscale": [
             [
              0,
              "#0d0887"
             ],
             [
              0.1111111111111111,
              "#46039f"
             ],
             [
              0.2222222222222222,
              "#7201a8"
             ],
             [
              0.3333333333333333,
              "#9c179e"
             ],
             [
              0.4444444444444444,
              "#bd3786"
             ],
             [
              0.5555555555555556,
              "#d8576b"
             ],
             [
              0.6666666666666666,
              "#ed7953"
             ],
             [
              0.7777777777777778,
              "#fb9f3a"
             ],
             [
              0.8888888888888888,
              "#fdca26"
             ],
             [
              1,
              "#f0f921"
             ]
            ],
            "type": "histogram2dcontour"
           }
          ],
          "mesh3d": [
           {
            "colorbar": {
             "outlinewidth": 0,
             "ticks": ""
            },
            "type": "mesh3d"
           }
          ],
          "parcoords": [
           {
            "line": {
             "colorbar": {
              "outlinewidth": 0,
              "ticks": ""
             }
            },
            "type": "parcoords"
           }
          ],
          "pie": [
           {
            "automargin": true,
            "type": "pie"
           }
          ],
          "scatter": [
           {
            "fillpattern": {
             "fillmode": "overlay",
             "size": 10,
             "solidity": 0.2
            },
            "type": "scatter"
           }
          ],
          "scatter3d": [
           {
            "line": {
             "colorbar": {
              "outlinewidth": 0,
              "ticks": ""
             }
            },
            "marker": {
             "colorbar": {
              "outlinewidth": 0,
              "ticks": ""
             }
            },
            "type": "scatter3d"
           }
          ],
          "scattercarpet": [
           {
            "marker": {
             "colorbar": {
              "outlinewidth": 0,
              "ticks": ""
             }
            },
            "type": "scattercarpet"
           }
          ],
          "scattergeo": [
           {
            "marker": {
             "colorbar": {
              "outlinewidth": 0,
              "ticks": ""
             }
            },
            "type": "scattergeo"
           }
          ],
          "scattergl": [
           {
            "marker": {
             "colorbar": {
              "outlinewidth": 0,
              "ticks": ""
             }
            },
            "type": "scattergl"
           }
          ],
          "scattermap": [
           {
            "marker": {
             "colorbar": {
              "outlinewidth": 0,
              "ticks": ""
             }
            },
            "type": "scattermap"
           }
          ],
          "scattermapbox": [
           {
            "marker": {
             "colorbar": {
              "outlinewidth": 0,
              "ticks": ""
             }
            },
            "type": "scattermapbox"
           }
          ],
          "scatterpolar": [
           {
            "marker": {
             "colorbar": {
              "outlinewidth": 0,
              "ticks": ""
             }
            },
            "type": "scatterpolar"
           }
          ],
          "scatterpolargl": [
           {
            "marker": {
             "colorbar": {
              "outlinewidth": 0,
              "ticks": ""
             }
            },
            "type": "scatterpolargl"
           }
          ],
          "scatterternary": [
           {
            "marker": {
             "colorbar": {
              "outlinewidth": 0,
              "ticks": ""
             }
            },
            "type": "scatterternary"
           }
          ],
          "surface": [
           {
            "colorbar": {
             "outlinewidth": 0,
             "ticks": ""
            },
            "colorscale": [
             [
              0,
              "#0d0887"
             ],
             [
              0.1111111111111111,
              "#46039f"
             ],
             [
              0.2222222222222222,
              "#7201a8"
             ],
             [
              0.3333333333333333,
              "#9c179e"
             ],
             [
              0.4444444444444444,
              "#bd3786"
             ],
             [
              0.5555555555555556,
              "#d8576b"
             ],
             [
              0.6666666666666666,
              "#ed7953"
             ],
             [
              0.7777777777777778,
              "#fb9f3a"
             ],
             [
              0.8888888888888888,
              "#fdca26"
             ],
             [
              1,
              "#f0f921"
             ]
            ],
            "type": "surface"
           }
          ],
          "table": [
           {
            "cells": {
             "fill": {
              "color": "#EBF0F8"
             },
             "line": {
              "color": "white"
             }
            },
            "header": {
             "fill": {
              "color": "#C8D4E3"
             },
             "line": {
              "color": "white"
             }
            },
            "type": "table"
           }
          ]
         },
         "layout": {
          "annotationdefaults": {
           "arrowcolor": "#2a3f5f",
           "arrowhead": 0,
           "arrowwidth": 1
          },
          "autotypenumbers": "strict",
          "coloraxis": {
           "colorbar": {
            "outlinewidth": 0,
            "ticks": ""
           }
          },
          "colorscale": {
           "diverging": [
            [
             0,
             "#8e0152"
            ],
            [
             0.1,
             "#c51b7d"
            ],
            [
             0.2,
             "#de77ae"
            ],
            [
             0.3,
             "#f1b6da"
            ],
            [
             0.4,
             "#fde0ef"
            ],
            [
             0.5,
             "#f7f7f7"
            ],
            [
             0.6,
             "#e6f5d0"
            ],
            [
             0.7,
             "#b8e186"
            ],
            [
             0.8,
             "#7fbc41"
            ],
            [
             0.9,
             "#4d9221"
            ],
            [
             1,
             "#276419"
            ]
           ],
           "sequential": [
            [
             0,
             "#0d0887"
            ],
            [
             0.1111111111111111,
             "#46039f"
            ],
            [
             0.2222222222222222,
             "#7201a8"
            ],
            [
             0.3333333333333333,
             "#9c179e"
            ],
            [
             0.4444444444444444,
             "#bd3786"
            ],
            [
             0.5555555555555556,
             "#d8576b"
            ],
            [
             0.6666666666666666,
             "#ed7953"
            ],
            [
             0.7777777777777778,
             "#fb9f3a"
            ],
            [
             0.8888888888888888,
             "#fdca26"
            ],
            [
             1,
             "#f0f921"
            ]
           ],
           "sequentialminus": [
            [
             0,
             "#0d0887"
            ],
            [
             0.1111111111111111,
             "#46039f"
            ],
            [
             0.2222222222222222,
             "#7201a8"
            ],
            [
             0.3333333333333333,
             "#9c179e"
            ],
            [
             0.4444444444444444,
             "#bd3786"
            ],
            [
             0.5555555555555556,
             "#d8576b"
            ],
            [
             0.6666666666666666,
             "#ed7953"
            ],
            [
             0.7777777777777778,
             "#fb9f3a"
            ],
            [
             0.8888888888888888,
             "#fdca26"
            ],
            [
             1,
             "#f0f921"
            ]
           ]
          },
          "colorway": [
           "#636efa",
           "#EF553B",
           "#00cc96",
           "#ab63fa",
           "#FFA15A",
           "#19d3f3",
           "#FF6692",
           "#B6E880",
           "#FF97FF",
           "#FECB52"
          ],
          "font": {
           "color": "#2a3f5f"
          },
          "geo": {
           "bgcolor": "white",
           "lakecolor": "white",
           "landcolor": "#E5ECF6",
           "showlakes": true,
           "showland": true,
           "subunitcolor": "white"
          },
          "hoverlabel": {
           "align": "left"
          },
          "hovermode": "closest",
          "mapbox": {
           "style": "light"
          },
          "paper_bgcolor": "white",
          "plot_bgcolor": "#E5ECF6",
          "polar": {
           "angularaxis": {
            "gridcolor": "white",
            "linecolor": "white",
            "ticks": ""
           },
           "bgcolor": "#E5ECF6",
           "radialaxis": {
            "gridcolor": "white",
            "linecolor": "white",
            "ticks": ""
           }
          },
          "scene": {
           "xaxis": {
            "backgroundcolor": "#E5ECF6",
            "gridcolor": "white",
            "gridwidth": 2,
            "linecolor": "white",
            "showbackground": true,
            "ticks": "",
            "zerolinecolor": "white"
           },
           "yaxis": {
            "backgroundcolor": "#E5ECF6",
            "gridcolor": "white",
            "gridwidth": 2,
            "linecolor": "white",
            "showbackground": true,
            "ticks": "",
            "zerolinecolor": "white"
           },
           "zaxis": {
            "backgroundcolor": "#E5ECF6",
            "gridcolor": "white",
            "gridwidth": 2,
            "linecolor": "white",
            "showbackground": true,
            "ticks": "",
            "zerolinecolor": "white"
           }
          },
          "shapedefaults": {
           "line": {
            "color": "#2a3f5f"
           }
          },
          "ternary": {
           "aaxis": {
            "gridcolor": "white",
            "linecolor": "white",
            "ticks": ""
           },
           "baxis": {
            "gridcolor": "white",
            "linecolor": "white",
            "ticks": ""
           },
           "bgcolor": "#E5ECF6",
           "caxis": {
            "gridcolor": "white",
            "linecolor": "white",
            "ticks": ""
           }
          },
          "title": {
           "x": 0.05
          },
          "xaxis": {
           "automargin": true,
           "gridcolor": "white",
           "linecolor": "white",
           "ticks": "",
           "title": {
            "standoff": 15
           },
           "zerolinecolor": "white",
           "zerolinewidth": 2
          },
          "yaxis": {
           "automargin": true,
           "gridcolor": "white",
           "linecolor": "white",
           "ticks": "",
           "title": {
            "standoff": 15
           },
           "zerolinecolor": "white",
           "zerolinewidth": 2
          }
         }
        },
        "xaxis": {
         "anchor": "y",
         "domain": [
          0,
          1
         ],
         "title": {
          "text": "kraj"
         }
        },
        "yaxis": {
         "anchor": "x",
         "domain": [
          0,
          1
         ],
         "title": {
          "text": "sum of pocet"
         }
        }
       }
      }
     },
     "metadata": {},
     "output_type": "display_data"
    }
   ],
   "source": [
    "fig = px.histogram(\n",
    "    data_final,\n",
    "    x='kraj',\n",
    "    y='pocet',\n",
    "    color='obcan_statu',  # rozlišení barvou podle národnosti\n",
    "    hover_data=['obcan_statu', 'pocet'],  # co má být vidět při najetí\n",
    ")\n",
    "\n",
    "fig.update_layout(barmode='stack')  # nebo 'group' pro vedle sebe\n",
    "fig.show()"
   ]
  },
  {
   "cell_type": "code",
   "execution_count": null,
   "id": "199c9cbc",
   "metadata": {},
   "outputs": [],
   "source": []
  }
 ],
 "metadata": {
  "kernelspec": {
   "display_name": "Python 3",
   "language": "python",
   "name": "python3"
  },
  "language_info": {
   "codemirror_mode": {
    "name": "ipython",
    "version": 3
   },
   "file_extension": ".py",
   "mimetype": "text/x-python",
   "name": "python",
   "nbconvert_exporter": "python",
   "pygments_lexer": "ipython3",
   "version": "3.12.3"
  }
 },
 "nbformat": 4,
 "nbformat_minor": 5
}
